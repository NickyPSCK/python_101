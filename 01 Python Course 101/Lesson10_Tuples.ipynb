{
 "cells": [
  {
   "cell_type": "markdown",
   "metadata": {},
   "source": [
    "# Lesson 10: Tuples\n",
    "\n",
    "- **Tuple Creation and Iteration**\n",
    "- **Tuples vs. Lists**\n",
    "- **Unpack**\n",
    "- **`tuple()` and `list()`**"
   ]
  },
  {
   "cell_type": "markdown",
   "metadata": {
    "collapsed": true
   },
   "source": [
    "<h1 style=\"font-size:1.5em; font-family: verdana, Geneva, sans-serif; color:#00A0B2\">Tuple Creation and Iteration</h1>\n",
    "\n",
    "A tuple is a sequence, very much like a list. \n",
    "The primary difference between tuples and lists is that tuples are <em style=\"color:blue\">immutable</em>. \n",
    "That means that once a tuple is created, it cannot be changed. \n",
    "\n",
    "When you create a tuple, you enclose its elements in a set of parentheses.\n",
    "```python\n",
    "numbers = (1, 2, 3, 4, 5)\n",
    "```"
   ]
  },
  {
   "cell_type": "code",
   "execution_count": null,
   "metadata": {},
   "outputs": [],
   "source": [
    "# example 1\n",
    "numbers = (1, 2, 3, 4, 5)\n",
    "stock = ('GOOG', 100, 490.10)      # name, shares, price\n",
    "address = ('www.python.org', 80) \n",
    "\n",
    "print(numbers, type(numbers))\n",
    "print(stock, type(stock))\n",
    "print(address, type(address))"
   ]
  },
  {
   "cell_type": "code",
   "execution_count": null,
   "metadata": {},
   "outputs": [],
   "source": [
    "# example 2\n",
    "first_name = 'John'\n",
    "last_name = 'Smith'\n",
    "phone = '02-727-3051'\n",
    "\n",
    "person = (first_name, last_name, phone)\n",
    "\n",
    "print(person, type(person))"
   ]
  },
  {
   "cell_type": "markdown",
   "metadata": {},
   "source": [
    "Python often recognizes that a tuple is intended even if the parentheses are missing:"
   ]
  },
  {
   "cell_type": "code",
   "execution_count": null,
   "metadata": {},
   "outputs": [],
   "source": [
    "numbers = 1, 2, 3, 4, 5\n",
    "stock = 'GOOG', 100, 490.10\n",
    "address = 'www.python.org', 80\n",
    "person = first_name, last_name, phone\n",
    "\n",
    "print(numbers, type(numbers))\n",
    "print(stock, type(stock))\n",
    "print(address, type(address))\n",
    "print(person, type(person))"
   ]
  },
  {
   "cell_type": "markdown",
   "metadata": {},
   "source": [
    "0- and 1-element tuples can be defined, but have special syntax:"
   ]
  },
  {
   "cell_type": "code",
   "execution_count": null,
   "metadata": {},
   "outputs": [],
   "source": [
    "a = ()              # 0-tuple (empty tuple)\n",
    "b = (5,)            # 1-tuple \n",
    "c = 5,              # 1-tuple\n",
    "print(a, b, c)\n",
    "print(type(a), type(b), type(c))"
   ]
  },
  {
   "cell_type": "markdown",
   "metadata": {},
   "source": [
    "If you omit the comma, you will not create a tuple. "
   ]
  },
  {
   "cell_type": "code",
   "execution_count": null,
   "metadata": {},
   "outputs": [],
   "source": [
    "value = (1)         # create an integer\n",
    "print(value, type(value))"
   ]
  },
  {
   "cell_type": "markdown",
   "metadata": {},
   "source": [
    "We can do multiple assignments using tuples."
   ]
  },
  {
   "cell_type": "code",
   "execution_count": null,
   "metadata": {},
   "outputs": [],
   "source": [
    "(x, y) = (10, 20)\n",
    "print(x, y)"
   ]
  },
  {
   "cell_type": "markdown",
   "metadata": {},
   "source": [
    "Remember that the parentheses can be omitted!"
   ]
  },
  {
   "cell_type": "code",
   "execution_count": null,
   "metadata": {},
   "outputs": [],
   "source": [
    "x, y = 10, 20         \n",
    "print(x, y)"
   ]
  },
  {
   "cell_type": "markdown",
   "metadata": {
    "collapsed": true
   },
   "source": [
    "You can iterate through each element of a tuple using a `for` loop. "
   ]
  },
  {
   "cell_type": "code",
   "execution_count": null,
   "metadata": {},
   "outputs": [],
   "source": [
    "names = ('Holly', 'Warren', 'Ashley') \n",
    "\n",
    "for name in names:\n",
    "    print(name)"
   ]
  },
  {
   "cell_type": "markdown",
   "metadata": {},
   "source": [
    "<h1 style=\"font-size:1.5em; font-family: verdana, Geneva, sans-serif; color:#00A0B2\">Tuples vs. Lists</h1>\n",
    "\n",
    "Tuples support all the same operations as lists, **except those that violate immutability**. \n",
    "\n",
    "Tuples support the following:\n",
    "- Subscript indexing (for retrieving element values only)\n",
    "- Methods such as `.index()` and `.count()`\n",
    "- Built-in functions such as `len()`, `min()`, and `max()`\n",
    "- The `in` keyword\n",
    "- The `+` and `*` operators\n",
    "\n",
    "Tuples do not support methods such as `.append()`, `.extend()`, `.remove()`, `.pop()`, `.reverse()`, `.insert()`, and `.sort()`."
   ]
  },
  {
   "cell_type": "markdown",
   "metadata": {},
   "source": [
    "###### Examples: Tuple indexing"
   ]
  },
  {
   "cell_type": "code",
   "execution_count": null,
   "metadata": {},
   "outputs": [],
   "source": [
    "# example 1\n",
    "stock = ('GOOG', 100, 490.10, 100)\n",
    "print(stock[0], stock[1], stock[2], stock[3])"
   ]
  },
  {
   "cell_type": "code",
   "execution_count": null,
   "metadata": {},
   "outputs": [],
   "source": [
    "# example 2\n",
    "numbers = (1, 2, 3, 4, 5)\n",
    "print(numbers[1])\n",
    "print(numbers[:3])\n",
    "print(numbers[1:3])\n",
    "print(numbers[-1])"
   ]
  },
  {
   "cell_type": "markdown",
   "metadata": {},
   "source": [
    "###### Examples:  The `.index()` and `.count()` methods"
   ]
  },
  {
   "cell_type": "raw",
   "metadata": {},
   "source": [
    "stock = ('GOOG', 100, 490.10, 100)\n",
    "stock.index(100)"
   ]
  },
  {
   "cell_type": "code",
   "execution_count": null,
   "metadata": {},
   "outputs": [],
   "source": [
    "stock = ('GOOG', 100, 490.10, 100)\n",
    "stock.index(500)"
   ]
  },
  {
   "cell_type": "code",
   "execution_count": null,
   "metadata": {},
   "outputs": [],
   "source": [
    "stock = ('GOOG', 100, 490.10, 100)\n",
    "stock.count(100)"
   ]
  },
  {
   "cell_type": "markdown",
   "metadata": {},
   "source": [
    "###### Examples: The `len()`, `min()`, and `max()` functions"
   ]
  },
  {
   "cell_type": "code",
   "execution_count": null,
   "metadata": {},
   "outputs": [],
   "source": [
    "numbers = (1, 2, 3, 4, 5)\n",
    "len(numbers)"
   ]
  },
  {
   "cell_type": "code",
   "execution_count": null,
   "metadata": {},
   "outputs": [],
   "source": [
    "max(numbers)"
   ]
  },
  {
   "cell_type": "code",
   "execution_count": null,
   "metadata": {},
   "outputs": [],
   "source": [
    "min(numbers)"
   ]
  },
  {
   "cell_type": "markdown",
   "metadata": {},
   "source": [
    "###### Examples:  The `in` keyword"
   ]
  },
  {
   "cell_type": "code",
   "execution_count": null,
   "metadata": {},
   "outputs": [],
   "source": [
    "numbers = (1, 2, 3, 4, 5)\n",
    "3 in numbers"
   ]
  },
  {
   "cell_type": "code",
   "execution_count": null,
   "metadata": {},
   "outputs": [],
   "source": [
    "10 in numbers"
   ]
  },
  {
   "cell_type": "markdown",
   "metadata": {},
   "source": [
    "###### Example: The `+` and `*` operators"
   ]
  },
  {
   "cell_type": "code",
   "execution_count": null,
   "metadata": {},
   "outputs": [],
   "source": [
    "numbers = (1, 2, 3, 4, 5)\n",
    "new_numbers = numbers + numbers\n",
    "new_numbers"
   ]
  },
  {
   "cell_type": "code",
   "execution_count": null,
   "metadata": {},
   "outputs": [],
   "source": [
    "numbers = (1, 2, 3, 4, 5)\n",
    "numbers += numbers\n",
    "numbers"
   ]
  },
  {
   "cell_type": "code",
   "execution_count": null,
   "metadata": {},
   "outputs": [],
   "source": [
    "numbers = (1, 2, 3, 4, 5)\n",
    "new_numbers = numbers * 3\n",
    "new_numbers"
   ]
  },
  {
   "cell_type": "code",
   "execution_count": null,
   "metadata": {},
   "outputs": [],
   "source": [
    "numbers = (1, 2, 3, 4, 5)\n",
    "numbers = numbers * 3\n",
    "numbers"
   ]
  },
  {
   "cell_type": "markdown",
   "metadata": {},
   "source": [
    "##### Example: Immutability"
   ]
  },
  {
   "cell_type": "code",
   "execution_count": null,
   "metadata": {},
   "outputs": [],
   "source": [
    "numbers = (1, 2, 3, 4, 5)\n",
    "numbers[0] = 100"
   ]
  },
  {
   "cell_type": "code",
   "execution_count": null,
   "metadata": {},
   "outputs": [],
   "source": [
    "numbers.append(500)"
   ]
  },
  {
   "cell_type": "markdown",
   "metadata": {
    "collapsed": true
   },
   "source": [
    "<h1 style=\"font-size:1.5em; font-family: verdana, Geneva, sans-serif; color:#00A0B2\">Unpack</h1>\n",
    "\n",
    "The values in a tuple can be extracted by numerical index just like a list. However, it is more common to <em style=\"color:blue\">unpack</em> tuples into a set of variables like this:"
   ]
  },
  {
   "cell_type": "code",
   "execution_count": null,
   "metadata": {},
   "outputs": [],
   "source": [
    "stock = ('GOOG', 100, 490.10)\n",
    "print(stock[0], stock[1], stock[2])"
   ]
  },
  {
   "cell_type": "code",
   "execution_count": null,
   "metadata": {},
   "outputs": [],
   "source": [
    "stock = ('GOOG', 100, 490.10)\n",
    "\n",
    "name, shares, price = stock\n",
    "\n",
    "print(name, shares, price)"
   ]
  },
  {
   "cell_type": "code",
   "execution_count": null,
   "metadata": {},
   "outputs": [],
   "source": [
    "address = ('www.python.org', 80) \n",
    "\n",
    "host, port = address\n",
    "\n",
    "print(host, port)"
   ]
  },
  {
   "cell_type": "code",
   "execution_count": null,
   "metadata": {},
   "outputs": [],
   "source": [
    "person = ('John', 'Smith', '02-727-3051')\n",
    "\n",
    "first_name, last_name, phone = person\n",
    "\n",
    "print(first_name, last_name, phone)"
   ]
  },
  {
   "cell_type": "markdown",
   "metadata": {
    "collapsed": true
   },
   "source": [
    "<h1 style=\"font-size:1.5em; font-family: verdana, Geneva, sans-serif; color:#00A0B2\"><code style=\"color:inherit\">tuple()</code> and <code style=\"color:inherit\">list()</code></h1>"
   ]
  },
  {
   "cell_type": "markdown",
   "metadata": {},
   "source": [
    "### 1. Lists to Tuples  "
   ]
  },
  {
   "cell_type": "code",
   "execution_count": null,
   "metadata": {},
   "outputs": [],
   "source": [
    "my_list = [6, 1, 3, 4]\n",
    "my_tuple = tuple(my_list)\n",
    "print(my_tuple)"
   ]
  },
  {
   "cell_type": "code",
   "execution_count": null,
   "metadata": {},
   "outputs": [],
   "source": [
    "my_tuple.sort()       # cannot sort, immutable object"
   ]
  },
  {
   "cell_type": "code",
   "execution_count": null,
   "metadata": {},
   "outputs": [],
   "source": [
    "sorted_list = sorted(my_tuple)  # sorted creates new list\n",
    "print(sorted_list, type(sorted_list))"
   ]
  },
  {
   "cell_type": "code",
   "execution_count": null,
   "metadata": {},
   "outputs": [],
   "source": [
    "new_tuple = tuple(sorted_list)\n",
    "print(new_tuple, type(new_tuple))"
   ]
  },
  {
   "cell_type": "markdown",
   "metadata": {},
   "source": [
    "### 2. Tuples to Lists"
   ]
  },
  {
   "cell_type": "code",
   "execution_count": null,
   "metadata": {},
   "outputs": [],
   "source": [
    "my_tuple = (6, 1, 3, 4)\n",
    "my_list = list(my_tuple)\n",
    "print(my_list)"
   ]
  },
  {
   "cell_type": "code",
   "execution_count": null,
   "metadata": {},
   "outputs": [],
   "source": [
    "sorted_list = sorted(my_list)        # sorted creates new list\n",
    "print(sorted_list, type(sorted_list))"
   ]
  },
  {
   "cell_type": "code",
   "execution_count": null,
   "metadata": {},
   "outputs": [],
   "source": [
    "print('Before Sort', my_list)\n",
    "my_list.sort()                       # sort my_list\n",
    "print('After Sort', my_list)"
   ]
  }
 ],
 "metadata": {
  "anaconda-cloud": {},
  "kernelspec": {
   "display_name": "Python 3",
   "language": "python",
   "name": "python3"
  },
  "language_info": {
   "codemirror_mode": {
    "name": "ipython",
    "version": 3
   },
   "file_extension": ".py",
   "mimetype": "text/x-python",
   "name": "python",
   "nbconvert_exporter": "python",
   "pygments_lexer": "ipython3",
   "version": "3.6.7"
  },
  "latex_envs": {
   "LaTeX_envs_menu_present": true,
   "autocomplete": true,
   "bibliofile": "biblio.bib",
   "cite_by": "apalike",
   "current_citInitial": 1,
   "eqLabelWithNumbers": true,
   "eqNumInitial": 1,
   "hotkeys": {
    "equation": "Ctrl-E",
    "itemize": "Ctrl-I"
   },
   "labels_anchors": false,
   "latex_user_defs": false,
   "report_style_numbering": false,
   "user_envs_cfg": false
  }
 },
 "nbformat": 4,
 "nbformat_minor": 1
}
