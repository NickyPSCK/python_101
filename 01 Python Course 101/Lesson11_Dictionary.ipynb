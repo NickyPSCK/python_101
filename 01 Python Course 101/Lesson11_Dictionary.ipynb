{
 "cells": [
  {
   "cell_type": "markdown",
   "metadata": {},
   "source": [
    "# Lesson 11: Dictionary\n",
    "\n",
    "- **Dictionary Creation, Lookup, and Update**\n",
    "- **Dictionary Methods**\n",
    "- **Dictionary View Objects**\n",
    "- **Iteration over Dictionaries**\n",
    "- **The `in` Operator**\n",
    "- **Dictionary as a Set of Counters**\n",
    "- **Dictionary Comprehensions**"
   ]
  },
  {
   "cell_type": "markdown",
   "metadata": {},
   "source": [
    "<h1 style=\"font-size:1.5em; font-family: verdana, Geneva, sans-serif; color:#00A0B2\">Dictionary Creation, Lookup, and Update</h1>\n",
    "\n",
    "A dictionary is a collection, but it is not a sequence. \n",
    "A dictionary is often referred to as a <em style=\"color:blue\">map collection</em>.\n",
    "Dictionaries are mappings that use arbitrary keys to map to values. \n",
    "Dictionaries are created by surrounding key/value pairs in curly brackets and separating them with commas, like this:\n",
    "```python\n",
    "phonebook = {'Sukanya': '02-727-3051',  'Wimon': '02-727-3081'}\n",
    "```\n"
   ]
  },
  {
   "cell_type": "code",
   "execution_count": null,
   "metadata": {},
   "outputs": [],
   "source": [
    "empty = {}\n",
    "print(empty)\n",
    "\n",
    "simple = {1: 2}\n",
    "print(simple)\n",
    "\n",
    "squares = {1: 1, 2: 4, 3: 9, 4: 16}\n",
    "print(squares)\n",
    "\n",
    "grades = {'English':97, 'Math':93, 'Art':74, 'Music':86}\n",
    "print(grades)\n",
    "\n",
    "cities = {'China': ['Shanghai', 'Beijing'],\n",
    "          'USA': ['New York', 'Los Angeles'],\n",
    "          'Spain': ['Madrid', 'Barcelona'],\n",
    "          'Australia': ['Sydney', 'Melbourne']}\n",
    "print(cities)"
   ]
  },
  {
   "cell_type": "markdown",
   "metadata": {},
   "source": [
    "Dictionaries can be created with the `dict()`."
   ]
  },
  {
   "cell_type": "code",
   "execution_count": null,
   "metadata": {},
   "outputs": [],
   "source": [
    "empty2 = dict()\n",
    "print(empty2)\n",
    "\n",
    "data = [(1, 'one'), (2, 'two'), (3, 'three')]\n",
    "names = dict(data)\n",
    "print(names)\n",
    "\n",
    "grades2 = dict(grades)\n",
    "print(grades2)"
   ]
  },
  {
   "cell_type": "markdown",
   "metadata": {},
   "source": [
    "Dictionary keys in Python must be immutable."
   ]
  },
  {
   "cell_type": "code",
   "execution_count": null,
   "metadata": {},
   "outputs": [],
   "source": [
    "soccer_players = {'Messi' : 1, 'Ronaldo' : 2, 'Neymar' : 3}\n",
    "print(soccer_players)"
   ]
  },
  {
   "cell_type": "code",
   "execution_count": null,
   "metadata": {},
   "outputs": [],
   "source": [
    "bad_dict = {['Lionel', 'Messi'] : 1, ['Cristiano', 'Ronaldo'] : 2, ['Neymar', 'Júnior'] : 3}\n",
    "print(bad_dict)"
   ]
  },
  {
   "cell_type": "code",
   "execution_count": null,
   "metadata": {},
   "outputs": [],
   "source": [
    "good_dict = {('Lionel', 'Messi') : 1, ('Cristiano', 'Ronaldo') : 2, ('Neymar', 'Júnior') : 3}\n",
    "print(good_dict)"
   ]
  },
  {
   "cell_type": "markdown",
   "metadata": {},
   "source": [
    "You use indexing with keys to access values."
   ]
  },
  {
   "cell_type": "code",
   "execution_count": null,
   "metadata": {},
   "outputs": [],
   "source": [
    "grades = {'English':97, 'Math':93, 'Art':74, 'Music':86}\n",
    "print(grades['Math'])\n",
    "print(grades['Music'])"
   ]
  },
  {
   "cell_type": "code",
   "execution_count": null,
   "metadata": {},
   "outputs": [],
   "source": [
    "soccer_players = {('Lionel', 'Messi') : 1, ('Cristiano', 'Ronaldo') : 2, ('Neymar', 'Júnior') : 3}\n",
    "print(soccer_players[('Lionel', 'Messi')])\n",
    "print(soccer_players[('Cristiano', 'Ronaldo')])"
   ]
  },
  {
   "cell_type": "markdown",
   "metadata": {},
   "source": [
    "It is an error to use a non-existent key."
   ]
  },
  {
   "cell_type": "code",
   "execution_count": null,
   "metadata": {},
   "outputs": [],
   "source": [
    "print(grades['Thai'])"
   ]
  },
  {
   "cell_type": "code",
   "execution_count": null,
   "metadata": {},
   "outputs": [],
   "source": [
    "print(grades[1])"
   ]
  },
  {
   "cell_type": "markdown",
   "metadata": {},
   "source": [
    "You can update a dictionary in two ways as shown below:"
   ]
  },
  {
   "cell_type": "code",
   "execution_count": null,
   "metadata": {
    "scrolled": true
   },
   "outputs": [],
   "source": [
    "grades = {'English':97, 'Math':93, 'Art':74, 'Music':86}\n",
    "\n",
    "# modify an existing key->value mapping￼\n",
    "grades['Math'] = 100  \n",
    "\n",
    "# create a new key->value mapping\n",
    "grades['Thai'] = 70 \n",
    "\n",
    "print(grades)"
   ]
  },
  {
   "cell_type": "markdown",
   "metadata": {},
   "source": [
    "You can use the `del` keyword to delete a specific key from a dictionary."
   ]
  },
  {
   "cell_type": "code",
   "execution_count": null,
   "metadata": {
    "scrolled": true
   },
   "outputs": [],
   "source": [
    "grades = {'English':97, 'Math':93, 'Art':74, 'Music':86}\n",
    "del grades['Art'] \n",
    "print(grades) "
   ]
  },
  {
   "cell_type": "markdown",
   "metadata": {
    "collapsed": true
   },
   "source": [
    "As with other collections, we can use the `len()` function to find the number of elements in a dictionary."
   ]
  },
  {
   "cell_type": "code",
   "execution_count": null,
   "metadata": {},
   "outputs": [],
   "source": [
    "soccer_players = {('Lionel', 'Messi') : 1, ('Cristiano', 'Ronaldo') : 2, ('Neymar', 'Júnior') : 3}\n",
    "grades = {'English':97, 'Math':93, 'Art':74, 'Music':86}\n",
    "print('soccer players:', len(soccer_players))\n",
    "print('grades', len(grades))"
   ]
  },
  {
   "cell_type": "markdown",
   "metadata": {
    "collapsed": true
   },
   "source": [
    "Be careful with what you use as keys! If all keys are of the same type, you won't run into these issues."
   ]
  },
  {
   "cell_type": "code",
   "execution_count": null,
   "metadata": {},
   "outputs": [],
   "source": [
    "mapping = {4.0: 2, 'a': 3, True: 'true', False: 9}\n",
    "print(mapping)\n",
    "\n",
    "mapping[1] = 7\n",
    "print(mapping)\n",
    "\n",
    "mapping[0] = 'false'\n",
    "print(mapping)\n",
    "\n",
    "mapping[4] = 7\n",
    "print(mapping)\n",
    "\n",
    "mapping['A'] = 'abc'\n",
    "print(mapping)"
   ]
  },
  {
   "cell_type": "markdown",
   "metadata": {
    "collapsed": true
   },
   "source": [
    "<h1 style=\"font-size:1.5em; font-family: verdana, Geneva, sans-serif; color:#B24C00\">\n",
    "Exercise</h1>\n",
    "\n",
    "1) Complete the following tasks:\n",
    "- Create a dictionary `my_dict` that contains the following two key/value pairs: `'food': 'chicken'` and `'drink': 'milk'`\n",
    "- Add the key/value pair `'dessert': 'melon cake'` to `my_dict`."
   ]
  },
  {
   "cell_type": "code",
   "execution_count": null,
   "metadata": {},
   "outputs": [],
   "source": [
    "# your code\n"
   ]
  },
  {
   "cell_type": "markdown",
   "metadata": {
    "collapsed": true
   },
   "source": [
    "2) Create a dictionary from a list of tuples (key, value)."
   ]
  },
  {
   "cell_type": "code",
   "execution_count": 1,
   "metadata": {},
   "outputs": [],
   "source": [
    "# your code\n"
   ]
  },
  {
   "cell_type": "markdown",
   "metadata": {},
   "source": [
    "<h1 style=\"font-size:1.5em; font-family: verdana, Geneva, sans-serif; color:#00A0B2\">Dictionaries Methods</h1>\n",
    "\n",
    "### 1. The `.get()` method  \n",
    "The `.get()` method returns the value for key if it is found. Otherwise, it returns default if passed in or `None` if it is not.\n",
    "Use `.get()` when you are unsure if the key exists."
   ]
  },
  {
   "cell_type": "code",
   "execution_count": null,
   "metadata": {},
   "outputs": [],
   "source": [
    "grades = {'English':97, 'Math':93, 'Art':74, 'Music':86}\n",
    "\n",
    "print(grades.get('Math'))\n",
    "print(grades.get('Thai'))\n",
    "print(grades.get('Thai', 'N/A'))\n"
   ]
  },
  {
   "cell_type": "markdown",
   "metadata": {},
   "source": [
    "### 2. The `.update()` method\n",
    "\n",
    " The `.update()` method is used to add new key/value pairs to a dictionary or to overwrite the values of existing keys or both. The `.update()` method can take several types of arguments as shown in the example below."
   ]
  },
  {
   "cell_type": "code",
   "execution_count": null,
   "metadata": {},
   "outputs": [],
   "source": [
    "grades = {'English':97, 'Math':93, 'Art':74, 'Music':86}\n",
    "grades.update({'Math':100, 'Gym':50})   # Change Math, add Gym\n",
    "print(grades)"
   ]
  },
  {
   "cell_type": "code",
   "execution_count": null,
   "metadata": {},
   "outputs": [],
   "source": [
    "grades = {'English':97, 'Math':93, 'Art':74, 'Music':86} \n",
    "grades.update( [ ('Math',100),('Gym',50) ] )   # Changes Math, add Gym\n",
    "print(grades)"
   ]
  },
  {
   "cell_type": "markdown",
   "metadata": {},
   "source": [
    "Note that when updating a single key in a dictionary, it is possible to use the `.update()` method, but it is generally preferable to use the subscript syntax (e.g., `grades['Math'] = 100`)."
   ]
  },
  {
   "cell_type": "markdown",
   "metadata": {},
   "source": [
    "### 3. The  `.setdefault()` method\n",
    "\n",
    "The `setdefault(key, default)` method is an oddly named method. It works\n",
    "like this:\n",
    "- If key does not exist in the dictionary, key is added with a value of default.\n",
    "- If key exists in the dictionary, the value for key is left unchanged. The following example illustrates how `setdefault()` works:"
   ]
  },
  {
   "cell_type": "code",
   "execution_count": null,
   "metadata": {},
   "outputs": [],
   "source": [
    "grades = {'English':97, 'Math':93, 'Art':74, 'Music':86} \n",
    "\n",
    "grades.setdefault('Art',87)    # Art key exists. No change.\n",
    "print('Art grade:', grades['Art'])\n",
    "\n",
    "grades.setdefault('Gym',50)    # Gym key is new. Added and set.\n",
    "print('Gym grade:', grades['Gym'])"
   ]
  },
  {
   "cell_type": "markdown",
   "metadata": {},
   "source": [
    "### 4. The  `.copy()` method \n",
    "\n",
    "The `.copy()` method makes a shallow copy of the dictionary values. This means that keys are copied properly (as they must be immutable), but if the values are mutable, problems such as we have seen before can arise."
   ]
  },
  {
   "cell_type": "code",
   "execution_count": null,
   "metadata": {},
   "outputs": [],
   "source": [
    "# example 1\n",
    "grades = {'English':97, 'Math':93, 'Art':74, 'Music':86} \n",
    "grades2 = grades.copy()      # shallow copy\n",
    "\n",
    "print('grades = ', grades)\n",
    "print('grades2 = ', grades2)\n",
    "print('grades2 is grades', grades2 is grades)\n",
    "print('grades2 == grades', grades2 == grades)"
   ]
  },
  {
   "cell_type": "code",
   "execution_count": null,
   "metadata": {},
   "outputs": [],
   "source": [
    "# example 2\n",
    "grades = {'English':97, 'Math':93, 'Art':74, 'Music':86} \n",
    "grades2 = dict(grades)       # shallow copy\n",
    "\n",
    "print('grades = ', grades)\n",
    "print('grades2 = ', grades2)\n",
    "print('grades2 is grades', grades2 is grades)\n",
    "print('grades2 == grades', grades2 == grades)"
   ]
  },
  {
   "cell_type": "code",
   "execution_count": null,
   "metadata": {
    "scrolled": true
   },
   "outputs": [],
   "source": [
    "# example 3\n",
    "my_dict = {'a':2, 3:['x','y'], 'joe':'smith'}\n",
    "new_dict = my_dict.copy()         # shallow copy\n",
    "new_dict['a'] = 'new value'    \n",
    "print('new_dict =', new_dict)              \n",
    "print('my_dict = ', my_dict)      # original unchanged \n",
    "print('-' * 80)\n",
    "\n",
    "new_dict[3][0] = 'new element'\n",
    "print('new_dict =', new_dict)              \n",
    "print('my_dict = ', my_dict)      # original changed "
   ]
  },
  {
   "cell_type": "code",
   "execution_count": null,
   "metadata": {
    "scrolled": true
   },
   "outputs": [],
   "source": [
    "# example 4\n",
    "import copy\n",
    "\n",
    "my_dict = {'a':2, 3:['x','y'], 'joe':'smith'}\n",
    "new_dict = copy.deepcopy(my_dict)  # deep copy\n",
    "new_dict['a'] = 'new value'             \n",
    "print('new_dict =', new_dict)              \n",
    "print('my_dict = ', my_dict)       # original unchanged \n",
    "print('-' * 80)\n",
    "\n",
    "new_dict[3][0] = 'new element'\n",
    "print('new_dict =', new_dict)              \n",
    "print('my_dict = ', my_dict)       # original changed "
   ]
  },
  {
   "cell_type": "markdown",
   "metadata": {},
   "source": [
    "### 5. The `.clear()` method\n",
    "\n",
    "The `.clear()` method removes all elements from a dictionary."
   ]
  },
  {
   "cell_type": "code",
   "execution_count": null,
   "metadata": {},
   "outputs": [],
   "source": [
    "grades = {'English':97, 'Math':93, 'Art':74, 'Music':86} \n",
    "print('grades before clear()', grades)\n",
    "\n",
    "grades.clear()\n",
    "print('grades after clear()', grades)"
   ]
  },
  {
   "cell_type": "markdown",
   "metadata": {},
   "source": [
    "<h1 style=\"font-size:1.5em; font-family: verdana, Geneva, sans-serif; color:#00A0B2\">Dictionaries View Objects</h1>\n",
    "\n",
    "The following three methods return dictionary view objects:\n",
    "- the `.keys()` method\n",
    "- the `.values()` method\n",
    "- the `.items()` method"
   ]
  },
  {
   "cell_type": "code",
   "execution_count": null,
   "metadata": {},
   "outputs": [],
   "source": [
    "grades = {'English':97, 'Math':93, 'Art':74, 'Music':86} \n",
    "\n",
    "print(grades.keys())\n",
    "print(grades.values())\n",
    "print(grades.items())"
   ]
  },
  {
   "cell_type": "markdown",
   "metadata": {},
   "source": [
    "As you can see, `dict_keys` and `dict_values` look like simple lists and `dict_items` looks like a list of tuples. But while they look like lists, they differ in two important ways:  \n",
    "1. Dictionary views do not support indexing or slicing as they have no set order.\n",
    "2. Dictionary views cannot be modified. They provide dynamic views into a dictionary. When the dictionary changes, the views will change."
   ]
  },
  {
   "cell_type": "code",
   "execution_count": null,
   "metadata": {
    "scrolled": true
   },
   "outputs": [],
   "source": [
    "grades = {'English':97, 'Math':93, 'Art':74, 'Music':86}\n",
    "\n",
    "grade_points = grades.values()\n",
    "print('Grade points:', grade_points)\n",
    "\n",
    "grades['Art'] = 100\n",
    "print('Grade points:', grade_points)"
   ]
  },
  {
   "cell_type": "markdown",
   "metadata": {},
   "source": [
    "The dictionary view objects are similar to `range` object; they produce values on demand. You can convert these objects to lists using `list()`."
   ]
  },
  {
   "cell_type": "code",
   "execution_count": null,
   "metadata": {},
   "outputs": [],
   "source": [
    "grades = {'English':97, 'Math':93, 'Art':74, 'Music':86}\n",
    "\n",
    "print(list(grades.keys()))\n",
    "print(list(grades.values()))\n",
    "print(list(grades.items()))"
   ]
  },
  {
   "cell_type": "markdown",
   "metadata": {},
   "source": [
    "<h1 style=\"font-size:1.5em; font-family: verdana, Geneva, sans-serif; color:#00A0B2\">Iteration over Dictionaries</h1>\n",
    "\n",
    "Let's look at several examples of how you can iterate over a dictionary using a `for` loop."
   ]
  },
  {
   "cell_type": "markdown",
   "metadata": {},
   "source": [
    "###### Example: Direct iteration"
   ]
  },
  {
   "cell_type": "code",
   "execution_count": null,
   "metadata": {},
   "outputs": [],
   "source": [
    "# Mapping from various cities to their country\n",
    "capitals = {'USA': 'Washington, D.C.',\n",
    "            'China': 'Beijing',\n",
    "            'France': 'Paris',\n",
    "            'England': 'London',\n",
    "            'Italy': 'Rome',\n",
    "            'Russia': 'Moscow',\n",
    "            'Australia': 'Canberra',\n",
    "            'Peru': 'Lima',\n",
    "            'Japan': 'Tokyo'}\n",
    "\n",
    "for country in capitals:\n",
    "    print(\"{}, {}\".format(capitals[country], country))"
   ]
  },
  {
   "cell_type": "markdown",
   "metadata": {},
   "source": [
    "###### Example: Iteration over keys"
   ]
  },
  {
   "cell_type": "code",
   "execution_count": null,
   "metadata": {},
   "outputs": [],
   "source": [
    "# Mapping from various cities to their country\n",
    "capitals = {'USA': 'Washington, D.C.',\n",
    "            'China': 'Beijing',\n",
    "            'France': 'Paris',\n",
    "            'England': 'London',\n",
    "            'Italy': 'Rome',\n",
    "            'Russia': 'Moscow',\n",
    "            'Australia': 'Canberra',\n",
    "            'Peru': 'Lima',\n",
    "            'Japan': 'Tokyo'}\n",
    "\n",
    "for country in capitals.keys():\n",
    "    print(\"{}, {}\".format(capitals[country], country))"
   ]
  },
  {
   "cell_type": "markdown",
   "metadata": {},
   "source": [
    "###### Example: Iteration over values"
   ]
  },
  {
   "cell_type": "code",
   "execution_count": null,
   "metadata": {},
   "outputs": [],
   "source": [
    "# Mapping from various cities to their country\n",
    "capitals = {'USA': 'Washington, D.C.',\n",
    "            'China': 'Beijing',\n",
    "            'France': 'Paris',\n",
    "            'England': 'London',\n",
    "            'Italy': 'Rome',\n",
    "            'Russia': 'Moscow',\n",
    "            'Australia': 'Canberra',\n",
    "            'Peru': 'Lima',\n",
    "            'Japan': 'Tokyo'}\n",
    "\n",
    "for city in capitals.values():\n",
    "    print(\"Capital city: {}\".format(city))"
   ]
  },
  {
   "cell_type": "markdown",
   "metadata": {},
   "source": [
    "###### Example: Iteration over items"
   ]
  },
  {
   "cell_type": "code",
   "execution_count": null,
   "metadata": {},
   "outputs": [],
   "source": [
    "# Mapping from various cities to their country\n",
    "capitals = {'USA': 'Washington, D.C.',\n",
    "            'China': 'Beijing',\n",
    "            'France': 'Paris',\n",
    "            'England': 'London',\n",
    "            'Italy': 'Rome',\n",
    "            'Russia': 'Moscow',\n",
    "            'Australia': 'Canberra',\n",
    "            'Peru': 'Lima',\n",
    "            'Japan': 'Tokyo'}\n",
    "\n",
    "for country, city in capitals.items():\n",
    "    print(\"{}, {}\".format(city, country))"
   ]
  },
  {
   "cell_type": "markdown",
   "metadata": {
    "collapsed": true
   },
   "source": [
    "<h1 style=\"font-size:1.5em; font-family: verdana, Geneva, sans-serif; color:#00A0B2\">The <code style=\"color:inherit\">in</code> Keyword</h1>\n",
    "\n",
    "You can use `in` to check for <span style=\"color:blue\">keys</span> in a dictionary."
   ]
  },
  {
   "cell_type": "code",
   "execution_count": null,
   "metadata": {},
   "outputs": [],
   "source": [
    "mapping = {1: 5, 8: -3, 7: 22, 4: 13, 22: 17}\n",
    "\n",
    "# Keys\n",
    "print(1 in mapping)\n",
    "print(8 in mapping)\n",
    "\n",
    "# Values\n",
    "print(5 in mapping)\n",
    "print(-3 in mapping)\n",
    "\n",
    "# Both\n",
    "print(22 in mapping)\n",
    "\n",
    "# Neither\n",
    "print(82 in mapping)"
   ]
  },
  {
   "cell_type": "markdown",
   "metadata": {
    "collapsed": true
   },
   "source": [
    "You can use `in` to protect from errors."
   ]
  },
  {
   "cell_type": "code",
   "execution_count": null,
   "metadata": {},
   "outputs": [],
   "source": [
    "mapping = {1: 5, 8: -3, 7: 22, 4: 13, 22: 17}\n",
    "keys = [8, 14, 22, 25]\n",
    "\n",
    "for key in keys:\n",
    "    print(key, mapping[key])"
   ]
  },
  {
   "cell_type": "code",
   "execution_count": null,
   "metadata": {},
   "outputs": [],
   "source": [
    "mapping = {1: 5, 8: -3, 7: 22, 4: 13, 22: 17}\n",
    "keys = [8, 14, 22, 25]\n",
    "\n",
    "for key in keys:\n",
    "    if key in mapping:\n",
    "        print(key, mapping[key])\n",
    "    else:\n",
    "        print('{} not in mapping'.format(key))\n"
   ]
  },
  {
   "cell_type": "markdown",
   "metadata": {},
   "source": [
    "You can use `in` to check for membership"
   ]
  },
  {
   "cell_type": "code",
   "execution_count": null,
   "metadata": {},
   "outputs": [],
   "source": [
    "# Mapping from various cities to their country\n",
    "capitals = {'USA': 'Washington, D.C.',\n",
    "            'China': 'Beijing',\n",
    "            'France': 'Paris',\n",
    "            'England': 'London',\n",
    "            'Italy': 'Rome',\n",
    "            'Russia': 'Moscow',\n",
    "            'Australia': 'Canberra',\n",
    "            'Peru': 'Lima',\n",
    "            'Japan': 'Tokyo'}\n",
    "\n",
    "print('England' in capitals)\n",
    "print('Lima' in capitals)\n",
    "\n",
    "print('Moscow' in capitals.keys())\n",
    "print('Italy' in capitals.keys())\n",
    "\n",
    "print('Houston' in capitals.values())\n",
    "print('Beijing' in capitals.values())"
   ]
  },
  {
   "cell_type": "markdown",
   "metadata": {},
   "source": [
    "\n",
    "<h1 style=\"font-size:1.5em; font-family: verdana, Geneva, sans-serif; color:#00A0B2\">Dictionary as a Set of Counters</h1>\n",
    "\n",
    "You can use a dictionary to effectively computing a *histogram*, which is a statistical term for a set of counters (or frequencies), as shown in the example below."
   ]
  },
  {
   "cell_type": "code",
   "execution_count": null,
   "metadata": {},
   "outputs": [],
   "source": [
    "speech = \"to be or not to be\" \n",
    "speech_list = speech.split()\n",
    "word_count_dict = {}\n",
    "\n",
    "for word in speech_list:\n",
    "    if word in word_count_dict:\n",
    "        word_count_dict[word] += 1 \n",
    "    else:\n",
    "        word_count_dict[word] = 1 \n",
    "\n",
    "print(word_count_dict)"
   ]
  },
  {
   "cell_type": "markdown",
   "metadata": {},
   "source": [
    "We can use the `.get()` method to write the histogram loop in the above example more concisely. Because the `.get()` method automatically handles the case where a key is not in a dictionary, we can reduce four lines down to one and eliminate the `if` statement."
   ]
  },
  {
   "cell_type": "code",
   "execution_count": null,
   "metadata": {},
   "outputs": [],
   "source": [
    "speech = \"to be or not to be\" \n",
    "speech_list = speech.split()\n",
    "word_count_dict = {}\n",
    "\n",
    "for word in speech_list:\n",
    "        word_count_dict[word] = word_count_dict.get(word,0) + 1 \n",
    "\n",
    "print(word_count_dict)"
   ]
  },
  {
   "cell_type": "markdown",
   "metadata": {},
   "source": [
    "<h1 style=\"font-size:1.5em; font-family: verdana, Geneva, sans-serif; color:#00A0B2\">Dictionary Comprehensions</h1>\n",
    "\n",
    "Just like list comprehensions, dictionary data types also support their own version of comprehension for quick creation. It is not as commonly used as list comprehensions. One of the reasons it is not as common is the difficulty in structuring the key names that are not based off the values."
   ]
  },
  {
   "cell_type": "code",
   "execution_count": null,
   "metadata": {},
   "outputs": [],
   "source": [
    "{x:x**2 for x in range(10)}"
   ]
  },
  {
   "cell_type": "markdown",
   "metadata": {
    "collapsed": true
   },
   "source": [
    "<h1 style=\"font-size:1.5em; font-family: verdana, Geneva, sans-serif; color:#B24C00\">\n",
    "Exercise</h1>\n",
    "\n",
    "1) Given the following dictionary:  \n",
    "\n",
    "```python\n",
    "    employees = {'Andrew':8806, 'Emily‘:67846, 'Peter':7654}\n",
    "```\n",
    "\n",
    "Write a code that prints all the key-value pairs and determines whether the keys 'Emily'  and 'Jordan' are in `employees`."
   ]
  },
  {
   "cell_type": "code",
   "execution_count": null,
   "metadata": {},
   "outputs": [],
   "source": [
    "# your code\n"
   ]
  },
  {
   "cell_type": "markdown",
   "metadata": {
    "collapsed": true
   },
   "source": [
    "2) Calculate the sum of the values in the dictionary `products`."
   ]
  },
  {
   "cell_type": "code",
   "execution_count": null,
   "metadata": {},
   "outputs": [],
   "source": [
    "products = {'soap': 20, 'shampoo': 80, 'toothpaste': 50}\n",
    "\n",
    "# your code\n"
   ]
  },
  {
   "cell_type": "markdown",
   "metadata": {
    "collapsed": true
   },
   "source": [
    "3) Write a program that creates a grades dictionary and populates it with grades entered by the user in English, Math, Global Studies, Art, and Music. Also, find the average grade and prints it out.\n",
    "\n",
    "&nbsp; &nbsp; *Example Output*  \n",
    "&nbsp; &nbsp; `English grade: 70`  \n",
    "&nbsp; &nbsp; `Math grade: 100`  \n",
    "&nbsp; &nbsp; `Art grade: 30`  \n",
    "&nbsp; &nbsp; `Music grade: 60`  \n",
    "&nbsp; &nbsp; `average = 65.0`  "
   ]
  },
  {
   "cell_type": "code",
   "execution_count": null,
   "metadata": {},
   "outputs": [],
   "source": [
    "# your code\n"
   ]
  }
 ],
 "metadata": {
  "anaconda-cloud": {},
  "kernelspec": {
   "display_name": "Python 3",
   "language": "python",
   "name": "python3"
  },
  "language_info": {
   "codemirror_mode": {
    "name": "ipython",
    "version": 3
   },
   "file_extension": ".py",
   "mimetype": "text/x-python",
   "name": "python",
   "nbconvert_exporter": "python",
   "pygments_lexer": "ipython3",
   "version": "3.6.7"
  },
  "latex_envs": {
   "LaTeX_envs_menu_present": true,
   "autocomplete": true,
   "bibliofile": "biblio.bib",
   "cite_by": "apalike",
   "current_citInitial": 1,
   "eqLabelWithNumbers": true,
   "eqNumInitial": 1,
   "hotkeys": {
    "equation": "Ctrl-E",
    "itemize": "Ctrl-I"
   },
   "labels_anchors": false,
   "latex_user_defs": false,
   "report_style_numbering": false,
   "user_envs_cfg": false
  }
 },
 "nbformat": 4,
 "nbformat_minor": 1
}
