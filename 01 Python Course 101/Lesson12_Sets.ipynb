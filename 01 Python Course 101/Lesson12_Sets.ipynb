{
 "cells": [
  {
   "cell_type": "markdown",
   "metadata": {},
   "source": [
    "# Lesson 12: Sets\n",
    "\n",
    "- **Set Creation and Manipulation**\n",
    "- **Set Methods**\n",
    "- **Practical Use of Sets**"
   ]
  },
  {
   "cell_type": "markdown",
   "metadata": {},
   "source": [
    "<h1 style=\"font-size:1.5em; font-family: verdana, Geneva, sans-serif; color:#00A0B2\">Set Creation and Manipulation</h1>\n",
    "\n",
    "Sets are <em style=\"color:red\">mutable</em> unordered collections of distinct <em style=\"color:blue\">immutable</em> objects. \n",
    "So, while the set itself can be modified, it cannot be populated with objects that can be modified. \n",
    "\n",
    "You can also think of sets as dictionaries in which the keys have no values. In fact, they can be created with curly brackets, just like dictionaries:\n",
    "```python\n",
    "classes = {'English', 'Math', 'Art', 'Music'}\n",
    "```\n"
   ]
  },
  {
   "cell_type": "code",
   "execution_count": null,
   "metadata": {},
   "outputs": [],
   "source": [
    "numbers = {3, 2, 1, 4}\n",
    "print(numbers)\n",
    "\n",
    "letters = {'a', 'b', 'a', 'c', 'b'}\n",
    "print(letters)\n",
    "\n",
    "empty = {}\n",
    "print(empty, type(empty))"
   ]
  },
  {
   "cell_type": "markdown",
   "metadata": {},
   "source": [
    "Sets can be crated using `set()`."
   ]
  },
  {
   "cell_type": "code",
   "execution_count": null,
   "metadata": {},
   "outputs": [],
   "source": [
    "empty2 = set()\n",
    "print(empty2, type(empty2))\n",
    "\n",
    "set1 = set([3, 1, 1, 3, 6, 5])\n",
    "print(set1)\n",
    "\n",
    "set2 = set(range(5))\n",
    "print(set2)"
   ]
  },
  {
   "cell_type": "markdown",
   "metadata": {},
   "source": [
    "As with other collections, we can use the `len()` function to find the number of elements in a set."
   ]
  },
  {
   "cell_type": "code",
   "execution_count": null,
   "metadata": {},
   "outputs": [],
   "source": [
    "numbers = {3, 3, 3, 2, 1, 4}\n",
    "letters = {'a', 'b', 'a', 'c', 'b'}\n",
    "classes = {'English', 'Math', 'Art', 'Music'}\n",
    "\n",
    "print('numbers:', len(numbers))\n",
    "print('letters', len(letters))\n",
    "print('classes', len(classes))"
   ]
  },
  {
   "cell_type": "markdown",
   "metadata": {},
   "source": [
    "As with other collections, we can use the keyword `in` to check for elements in a set."
   ]
  },
  {
   "cell_type": "code",
   "execution_count": null,
   "metadata": {},
   "outputs": [],
   "source": [
    "classes = {'English', 'Math', 'Art', 'Music'}\n",
    "print('Math' in classes)\n",
    "print('Thai' in classes)"
   ]
  },
  {
   "cell_type": "markdown",
   "metadata": {},
   "source": [
    "We can iterate through each element of a set using a `for` loop."
   ]
  },
  {
   "cell_type": "code",
   "execution_count": null,
   "metadata": {},
   "outputs": [],
   "source": [
    "letters = {'a', 'b', 'a', 'c', 'b'}\n",
    "print(letters)\n",
    "\n",
    "for char in letters:\n",
    "    print(char)    "
   ]
  },
  {
   "cell_type": "markdown",
   "metadata": {},
   "source": [
    "<h1 style=\"font-size:1.5em; font-family: verdana, Geneva, sans-serif; color:#00A0B2\">Set Methods</h1>\n",
    "\n",
    "### 1. Add Elements\n",
    "The `.add()` and `.update()` methods add a single and multiple elements to the set."
   ]
  },
  {
   "cell_type": "code",
   "execution_count": null,
   "metadata": {},
   "outputs": [],
   "source": [
    "my_set = set([3, 1, 1, 3, 6, 5])\n",
    "print(my_set)\n",
    "\n",
    "my_set.add(10)     # Add a single element\n",
    "print(my_set)\n",
    "\n",
    "my_set.add(5)      # Try to add the same element\n",
    "print(my_set)\n",
    "\n",
    "my_set.update([66, 27, 39])      # Add multiple elements\n",
    "print(my_set)"
   ]
  },
  {
   "cell_type": "markdown",
   "metadata": {},
   "source": [
    "### 2. Delete Elements\n",
    "\n",
    "The `.remove()` , `.discard()`, `.pop()` methods remove an element if it exists.\n",
    "- The `.remove()` and `.discard()` methods remove the specified element.\n",
    "  - `.remove()`. will cause an error if the element being removed is not part of the set. \n",
    "  - `.discard()` will not give an error even if the argument being removed does not exist in the set. There is no value returned.\n",
    "- The `.pop()` remove and return an arbitrary set element. Raises `KeyError` if the set is empty. \n",
    "\n",
    "The `.clear()` method removes all elements from a set (making it empty)."
   ]
  },
  {
   "cell_type": "code",
   "execution_count": null,
   "metadata": {
    "scrolled": false
   },
   "outputs": [],
   "source": [
    "# example 1\n",
    "my_set = set([3, 1, 1, 3, 6, 5])\n",
    "print(my_set)\n",
    "\n",
    "my_set.discard(3)  # Remove an element from a set if it is a member.\n",
    "print(my_set)\n",
    "\n",
    "my_set.remove(5)   # Remove an element from a set if it is a member.\n",
    "print(my_set)\n",
    "\n",
    "my_set.discard(7)  # If the element is not a member, do nothing.\n",
    "print(my_set)\n",
    "\n",
    "#my_set.remove(7)  # If the element is not a member, raise an error.\n",
    "#print(my_set)"
   ]
  },
  {
   "cell_type": "code",
   "execution_count": null,
   "metadata": {},
   "outputs": [],
   "source": [
    "# example 2\n",
    "\n",
    "my_set = set([7, 3, 1, 1, 3, 6, 5, 9])\n",
    "print(my_set)\n",
    "\n",
    "my_set.pop()       # Remove and return an arbitrary set element.\n",
    "print(my_set)"
   ]
  },
  {
   "cell_type": "code",
   "execution_count": null,
   "metadata": {},
   "outputs": [],
   "source": [
    "# example 3\n",
    "classes = {'English', 'Math', 'Art', 'Music'}\n",
    "print(classes)\n",
    "\n",
    "classes.clear()\n",
    "print(classes)"
   ]
  },
  {
   "cell_type": "markdown",
   "metadata": {},
   "source": [
    "### 3. Copy a Set\n",
    "The `.copy()` method returns a *shallow* copy of the set."
   ]
  },
  {
   "cell_type": "code",
   "execution_count": null,
   "metadata": {
    "scrolled": false
   },
   "outputs": [],
   "source": [
    "classes = {'English', 'Math', 'Art', 'Music'}\n",
    "classes2 = classes.copy()     \n",
    "\n",
    "print('classes = ', classes)\n",
    "print('classes2 = ', classes2)\n",
    "print('classes2 is classes', classes2 is classes)\n",
    "print('classes2 == classes', classes2 == classes)"
   ]
  },
  {
   "cell_type": "markdown",
   "metadata": {},
   "source": [
    "### 4. Perform Mathematical Set Operations\n",
    "\n",
    "Python implements the typical mathematical set operations. There are two ways to call each of these operations: <em style=\"color:blue\">using a method</em> or <em style=\"color:red\">using a binary operator</em>. \n",
    "\n",
    "**The binary operators for set operations are `&`, `|`, `-`, `<=`, `>=`.** Each binary operator takes two sets with an intervening operator, such as `a set & b set`. \n",
    "\n",
    "**The methods available are `intersection`, `union`, `difference`, `issubset`,and `issuperset`.** For these methods, a set calls the method (using the dot notation) with another collection as the argument. \n",
    "\n",
    "One difference between the binary operators and methods are that the methods approach allows the argument to be any iterable collection. The binary operators require both arguments to be sets. \n",
    "\n",
    "The methods approach makes it clear what operation is being performed, though the method names are rather long. The binary operator approach is short but can be difficult to read if you are not familiar with the meaning of the binary operator symbols. We will tend to use the methods approach because of the clarity of the method names.\n",
    "\n",
    "The `.difference()` method returns the difference of two or more sets."
   ]
  },
  {
   "cell_type": "code",
   "execution_count": null,
   "metadata": {},
   "outputs": [],
   "source": [
    "set1 = {1, 2, 3, 4}\n",
    "set2 = {1, 2, 3}\n",
    "\n",
    "print('set1 =', set1)\n",
    "print('set2 =', set2)\n",
    "\n",
    "print(set1.difference(set2))\n",
    "print(set2.difference(set1))"
   ]
  },
  {
   "cell_type": "markdown",
   "metadata": {},
   "source": [
    "The `.union()` method returns the union of two sets."
   ]
  },
  {
   "cell_type": "code",
   "execution_count": null,
   "metadata": {},
   "outputs": [],
   "source": [
    "set1 = {1, 2, 3}\n",
    "set2 = {1, 2, 4}\n",
    "\n",
    "print('set1 =', set1)\n",
    "print('set2 =', set2)\n",
    "\n",
    "print(set1.union(set2))\n",
    "print(set2.union(set1))"
   ]
  },
  {
   "cell_type": "markdown",
   "metadata": {},
   "source": [
    "The `.intersection()` method returns  the intersection of two or more sets as a new set."
   ]
  },
  {
   "cell_type": "code",
   "execution_count": null,
   "metadata": {},
   "outputs": [],
   "source": [
    "set1 = {1, 2, 3}\n",
    "set2 = {1, 2, 4}\n",
    "\n",
    "print('set1 =', set1)\n",
    "print('set2 =', set2)\n",
    "\n",
    "print(set1.intersection(set2))\n",
    "print(set2.intersection(set1))"
   ]
  },
  {
   "cell_type": "markdown",
   "metadata": {},
   "source": [
    "The `.isdisjoint()` method returns  `True` if two sets have a null intersection."
   ]
  },
  {
   "cell_type": "code",
   "execution_count": null,
   "metadata": {},
   "outputs": [],
   "source": [
    "set1 = {1,2}\n",
    "set2 = {1,2,4}\n",
    "set3 = {5}\n",
    "\n",
    "print(set1.isdisjoint(set2))\n",
    "print(set1.isdisjoint(set3))"
   ]
  },
  {
   "cell_type": "markdown",
   "metadata": {},
   "source": [
    "The `.issubset()` method reports whether another set contains this set."
   ]
  },
  {
   "cell_type": "code",
   "execution_count": null,
   "metadata": {},
   "outputs": [],
   "source": [
    "set1 = {1,2}\n",
    "set2 = {1,2,4}\n",
    "\n",
    "print(set1.issubset(set2))\n",
    "print(set2.issubset(set1))"
   ]
  },
  {
   "cell_type": "markdown",
   "metadata": {},
   "source": [
    "The `.issuperset()` method  report whether this set contains another set."
   ]
  },
  {
   "cell_type": "code",
   "execution_count": null,
   "metadata": {},
   "outputs": [],
   "source": [
    "set1 = {1,2}\n",
    "set2 = {1,2,4}\n",
    "\n",
    "print(set1.issuperset(set2))\n",
    "print(set2.issuperset(set1))"
   ]
  },
  {
   "cell_type": "markdown",
   "metadata": {},
   "source": [
    "<h1 style=\"font-size:1.5em; font-family: verdana, Geneva, sans-serif; color:#00A0B2\">Practical Use of Sets</h1>\n",
    "\n",
    "Sets are less commonly used than other types of collections, but **one great use for sets is to remove duplicates from a list** as shown in the following example:"
   ]
  },
  {
   "cell_type": "code",
   "execution_count": null,
   "metadata": {},
   "outputs": [],
   "source": [
    "veggies = ['tomato','spinach','pepper','pea','tomato','pea']\n",
    "veggies_set = set(veggies)     # turn list into set removing dups\n",
    "print(veggies)\n",
    "print(veggies_set) \n",
    "\n",
    "veggies = list(veggies_set)    # turn set back into a list\n",
    "print(veggies) "
   ]
  },
  {
   "cell_type": "markdown",
   "metadata": {
    "collapsed": true
   },
   "source": [
    "<h1 style=\"font-size:1.5em; font-family: verdana, Geneva, sans-serif; color:#B24C00\">\n",
    "Exercise</h1>\n",
    "\n",
    "1) Create a set named `fruit1` which includes the following elements: apples, oranges, bananas, and cherries."
   ]
  },
  {
   "cell_type": "code",
   "execution_count": null,
   "metadata": {},
   "outputs": [],
   "source": [
    "# your code\n"
   ]
  },
  {
   "cell_type": "markdown",
   "metadata": {
    "collapsed": true
   },
   "source": [
    "2) Create a set named `fruit2` which includes the following elements: oranges, pineapples, guavas, and bananas. Write a code to find the union and the intersection of `fruit1` and `fruit2`."
   ]
  },
  {
   "cell_type": "code",
   "execution_count": null,
   "metadata": {},
   "outputs": [],
   "source": [
    "# your code\n"
   ]
  },
  {
   "cell_type": "markdown",
   "metadata": {
    "collapsed": true
   },
   "source": [
    "3) Create a variable `text` that contains any text. Display a list of all the unique words found in the text.\n",
    "\n",
    "\n",
    "\n",
    "\n",
    "\n",
    "\n"
   ]
  },
  {
   "cell_type": "code",
   "execution_count": null,
   "metadata": {},
   "outputs": [],
   "source": [
    "# your code\n"
   ]
  }
 ],
 "metadata": {
  "anaconda-cloud": {},
  "kernelspec": {
   "display_name": "Python 3",
   "language": "python",
   "name": "python3"
  },
  "language_info": {
   "codemirror_mode": {
    "name": "ipython",
    "version": 3
   },
   "file_extension": ".py",
   "mimetype": "text/x-python",
   "name": "python",
   "nbconvert_exporter": "python",
   "pygments_lexer": "ipython3",
   "version": "3.6.7"
  },
  "latex_envs": {
   "LaTeX_envs_menu_present": true,
   "autocomplete": true,
   "bibliofile": "biblio.bib",
   "cite_by": "apalike",
   "current_citInitial": 1,
   "eqLabelWithNumbers": true,
   "eqNumInitial": 1,
   "hotkeys": {
    "equation": "Ctrl-E",
    "itemize": "Ctrl-I"
   },
   "labels_anchors": false,
   "latex_user_defs": false,
   "report_style_numbering": false,
   "user_envs_cfg": false
  }
 },
 "nbformat": 4,
 "nbformat_minor": 1
}
