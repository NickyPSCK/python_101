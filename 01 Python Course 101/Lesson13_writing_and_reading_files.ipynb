{
 "cells": [
  {
   "cell_type": "markdown",
   "metadata": {},
   "source": [
    "# Lesson 13: Writing and Reading Text Files\n",
    "\n",
    "- **Opening and Closing a File**\n",
    "- **Writing a File**\n",
    "- **Context manager with**\n",
    "- **Reading a File**\n",
    "- **File Processing Examples** "
   ]
  },
  {
   "cell_type": "markdown",
   "metadata": {},
   "source": [
    "<h1 style=\"font-size:1.5em; font-family: verdana, Geneva, sans-serif; color:#00A0B2\">\n",
    "Opening and Closing a File</h1>\n",
    "\n",
    "Information stored in files can be accessed by a Python program. To get access to the contents of a file, you need to <em style=\"color:blue\">open</em> the file in your program. When you are done using a file, you should <em style=\"color:blue\">close</em> it.\n",
    "\n",
    "### 1. Opening a File\n",
    "Python has a built-in function `open()` that can open a file for reading and writing.\n",
    "\n",
    "The form of `open` is:\n",
    "```python\n",
    "f = open(filename, mode)\n",
    "```\n",
    "#### `filename` is:\n",
    "- The name of the file if the file is saved in the same directory as your program.\n",
    "- However, if it is not saved in the same directory, you must provide the path to it.\n",
    "\n",
    "#### `mode` can be: \n",
    "- `'r'` when the file will only be read, \n",
    "- `'w'` for only writing (an existing file with the same name will be erased), and \n",
    "- `'a'` opens the file for appending; any data written to the file is automatically added to the end.\n",
    "\n",
    ">The mode argument is optional; `'r'` will be assumed if it is omitted.\n",
    "\n",
    "#### `open()` returns a file object. \n",
    "- This object knows how to get information from the file, and  keeps track of how much you have read and which part of the file you are about to read next. \n",
    "- The marker that keeps track of the current location in the file is called a <em style=\"color:blue\">file cursor</em> and acts much like a bookmark. \n",
    "- The file cursor is initially at the beginning of the file, but as we read or write data it moves to the end of what we just read or wrote.\n",
    "\n",
    "\n",
    "\n",
    "### 2. Closing a File\n",
    "To close a file, you write:\n",
    "```python\n",
    "f.close()\n",
    "```\n",
    "\n",
    "###### Example:  File is in the same directory as your program"
   ]
  },
  {
   "cell_type": "code",
   "execution_count": null,
   "metadata": {},
   "outputs": [],
   "source": [
    "f = open('example.txt', 'w')"
   ]
  },
  {
   "cell_type": "code",
   "execution_count": null,
   "metadata": {},
   "outputs": [],
   "source": [
    "f"
   ]
  },
  {
   "cell_type": "code",
   "execution_count": null,
   "metadata": {},
   "outputs": [],
   "source": [
    "f.close()"
   ]
  },
  {
   "cell_type": "markdown",
   "metadata": {},
   "source": [
    "###### Example: File is NOT in the same directory as your program\n",
    "\n",
    "If you always use forward slashes (`/`), Python’s file-handling operations will automatically translate them to work in Windows operating systems."
   ]
  },
  {
   "cell_type": "code",
   "execution_count": null,
   "metadata": {},
   "outputs": [],
   "source": [
    "f = open('my_files/example.txt', 'w')"
   ]
  },
  {
   "cell_type": "code",
   "execution_count": null,
   "metadata": {},
   "outputs": [],
   "source": [
    "f"
   ]
  },
  {
   "cell_type": "code",
   "execution_count": null,
   "metadata": {},
   "outputs": [],
   "source": [
    "f.close()"
   ]
  },
  {
   "cell_type": "markdown",
   "metadata": {},
   "source": [
    "<h1 style=\"font-size:1.5em; font-family: verdana, Geneva, sans-serif; color:#00A0B2\">\n",
    "Writing a File</h1>\n",
    "\n",
    "You will learn two commonly used methods to write to a file.\n",
    "\n",
    "### 1. Use the `.write()` Method\n",
    "In order to write to a file, we use:\n",
    "```python\n",
    "f.write(str)\n",
    "```\n",
    "The `.write()` method writes a string to a file. It works like Python's `print` function, except that **<mark>it does not add a newline character</mark>**."
   ]
  },
  {
   "cell_type": "code",
   "execution_count": null,
   "metadata": {},
   "outputs": [],
   "source": [
    "f = open('my_files/example.txt', 'w')"
   ]
  },
  {
   "cell_type": "code",
   "execution_count": null,
   "metadata": {},
   "outputs": [],
   "source": [
    "f.write('hello ')"
   ]
  },
  {
   "cell_type": "code",
   "execution_count": null,
   "metadata": {},
   "outputs": [],
   "source": [
    "f.write('world\\n')"
   ]
  },
  {
   "cell_type": "code",
   "execution_count": null,
   "metadata": {},
   "outputs": [],
   "source": [
    "f.write('in Python')"
   ]
  },
  {
   "cell_type": "code",
   "execution_count": null,
   "metadata": {},
   "outputs": [],
   "source": [
    "f.close()"
   ]
  },
  {
   "cell_type": "markdown",
   "metadata": {},
   "source": [
    "### 2. Use the `.writelines()` Method\n",
    "\n",
    "Another way to write to a file is to use:\n",
    "```python\n",
    "f.writelines(sequence_of_strings)\n",
    "```\n",
    "The `.writelines()` method writes a sequence of strings (e.g., list of strings) to a file. If you want line endings on your strings, you must provide them yourself.  "
   ]
  },
  {
   "cell_type": "code",
   "execution_count": 11,
   "metadata": {},
   "outputs": [],
   "source": [
    "f = open('my_files/example.txt', 'w')\n",
    "f.writelines([\n",
    "     'First ', \n",
    "     'line of text\\n', \n",
    "     'Second line of text\\n'\n",
    "     'Third line of text'\n",
    "    ])\n",
    "f.close()"
   ]
  },
  {
   "cell_type": "markdown",
   "metadata": {},
   "source": [
    "<h1 style=\"font-size:1.5em; font-family: verdana, Geneva, sans-serif; color:#00A0B2\">\n",
    "    Context manager <code style=\"color:inherit\">with</code></h1>\n",
    "\n",
    "You should always be sure to close files when you are done with them. The examples above use the `.close()` method to do this. While this works, it creates a potential problem. What if an exception occurs between the time the file is opened and closed? We will be left with a dangling reference to the file holding onto system resources and potentially blocking other applications from accessing the file.\n",
    "\n",
    "A better practice is to use the `with` keyword when working with files, like this:\n",
    "```python\n",
    "with open(filename, mode) as f:\n",
    "    # do stuff\n",
    "```\n",
    "\n",
    "Using this structure, we do not have to explicitly close the file. File objects have a special built-in `__exit__()` method that closes the file and is always called at the end of a `with` block even if code within the `with` block raises an exception. "
   ]
  },
  {
   "cell_type": "markdown",
   "metadata": {},
   "source": [
    "Here are our previous examples rewritten to use `with`:"
   ]
  },
  {
   "cell_type": "code",
   "execution_count": null,
   "metadata": {},
   "outputs": [],
   "source": [
    "# Rewrite write() example using with\n",
    "with open('my_files/example.txt', 'w') as f:\n",
    "    f.write('hello ')\n",
    "    f.write('world\\n')\n",
    "    f.write('in Python')"
   ]
  },
  {
   "cell_type": "code",
   "execution_count": null,
   "metadata": {},
   "outputs": [],
   "source": [
    "# Rewrite writelines() example using with\n"
   ]
  },
  {
   "cell_type": "markdown",
   "metadata": {},
   "source": [
    "<h1 style=\"font-size:1.5em; font-family: verdana, Geneva, sans-serif; color:#00A0B2\">\n",
    "Reading a File</h1>\n",
    "\n",
    "There are four standard ways to read from a file.\n",
    "\n",
    "### 1) Use the `.read()` Method\n",
    "`f.read(size)` reads the contents of a file into a single string. \n",
    "- If size is omitted, the entire file is read. \n",
    "    - `f.read()` reads everything from the current file cursor all the way to the end of the file and moves the file cursor to the end of the file.\n",
    "- If size is specified, it reads that many characters and moves the file cursor after the characters that were just read. \n",
    "- If the end of the file has been reached, `f.read()` will return an empty string (`''`). "
   ]
  },
  {
   "cell_type": "code",
   "execution_count": null,
   "metadata": {},
   "outputs": [],
   "source": [
    "with open('my_files/example.txt', 'r') as f:\n",
    "    data = f.read()"
   ]
  },
  {
   "cell_type": "code",
   "execution_count": null,
   "metadata": {
    "scrolled": true
   },
   "outputs": [],
   "source": [
    "data"
   ]
  },
  {
   "cell_type": "code",
   "execution_count": null,
   "metadata": {},
   "outputs": [],
   "source": [
    "print(data)"
   ]
  },
  {
   "cell_type": "markdown",
   "metadata": {},
   "source": [
    "The following code reads five characters and then the rest of the file:"
   ]
  },
  {
   "cell_type": "code",
   "execution_count": null,
   "metadata": {},
   "outputs": [],
   "source": [
    "with open('my_files/example.txt', 'r') as f:\n",
    "    first_five_chars = f.read(5)\n",
    "    the_rest = f.read()\n",
    "    \n",
    "print('The first 5 characters:', first_five_chars)\n",
    "print('The rest of the file:', the_rest)"
   ]
  },
  {
   "cell_type": "markdown",
   "metadata": {},
   "source": [
    "### 2) Use the `.readline()` Method\n",
    "\n",
    "`f.readline()` reads one line at a time. It reads a single line up to and including the newline character (`\\n`).\n",
    "\n",
    "- if `f.readline()` returns an empty string, the end of the file has been reached, \n",
    "- a blank line is represented by '`\\n`', a string containing only a single newline."
   ]
  },
  {
   "cell_type": "code",
   "execution_count": null,
   "metadata": {},
   "outputs": [],
   "source": [
    "with open('my_files/example.txt', 'r') as f:\n",
    "    first_line = f.readline()\n",
    "    second_line = f.readline()\n",
    "    third_line = f.readline()\n",
    "    fourth_line = f.readline()\n",
    "    fifth_line = f.readline()"
   ]
  },
  {
   "cell_type": "code",
   "execution_count": null,
   "metadata": {},
   "outputs": [],
   "source": [
    "first_line"
   ]
  },
  {
   "cell_type": "code",
   "execution_count": null,
   "metadata": {},
   "outputs": [],
   "source": [
    "second_line"
   ]
  },
  {
   "cell_type": "code",
   "execution_count": null,
   "metadata": {},
   "outputs": [],
   "source": [
    "third_line"
   ]
  },
  {
   "cell_type": "code",
   "execution_count": null,
   "metadata": {},
   "outputs": [],
   "source": [
    "fourth_line"
   ]
  },
  {
   "cell_type": "code",
   "execution_count": null,
   "metadata": {},
   "outputs": [],
   "source": [
    "fifth_line"
   ]
  },
  {
   "cell_type": "markdown",
   "metadata": {},
   "source": [
    "### 3. Use the `.readlines()` Method\n",
    "\n",
    "`f.readlines()` reads the file into a list of strings split after the newline characters (`\\n`). \n",
    "- As with `f.read()`, the file cursor is moved to the end of the file."
   ]
  },
  {
   "cell_type": "code",
   "execution_count": null,
   "metadata": {},
   "outputs": [],
   "source": [
    "with open('my_files/example.txt', 'r') as f:\n",
    "    data = f.readlines()"
   ]
  },
  {
   "cell_type": "code",
   "execution_count": null,
   "metadata": {
    "scrolled": true
   },
   "outputs": [],
   "source": [
    "data"
   ]
  },
  {
   "cell_type": "markdown",
   "metadata": {},
   "source": [
    "> - Take a close look at `data`; you’ll see that each line ends in `\\n` characters. Python does not remove any characters from what is read; it only splits them into separate strings.\n",
    "> - The last line of a file may or may not end with a newline character."
   ]
  },
  {
   "cell_type": "code",
   "execution_count": null,
   "metadata": {
    "scrolled": true
   },
   "outputs": [],
   "source": [
    "for line in data:\n",
    "    print(line)"
   ]
  },
  {
   "cell_type": "markdown",
   "metadata": {},
   "source": [
    "Because each line ends with a newline character and the `print()` function appends a newline character by default, the code above will print two newline characters at the end of each line. "
   ]
  },
  {
   "cell_type": "code",
   "execution_count": null,
   "metadata": {},
   "outputs": [],
   "source": [
    "# How to solve this problem?\n",
    "for line in data:\n",
    "    print(line, end='')"
   ]
  },
  {
   "cell_type": "markdown",
   "metadata": {},
   "source": [
    "Another option, which would have the same result, is to use `rstrip()` to strip the whitespace at the end of each line:"
   ]
  },
  {
   "cell_type": "code",
   "execution_count": null,
   "metadata": {
    "scrolled": true
   },
   "outputs": [],
   "source": [
    "for line in data:\n",
    "    print(line.rstrip())"
   ]
  },
  {
   "cell_type": "markdown",
   "metadata": {},
   "source": [
    "### 4. Use File objects\n",
    "\n",
    "You can loop through a file line by line using the file object."
   ]
  },
  {
   "cell_type": "code",
   "execution_count": null,
   "metadata": {},
   "outputs": [],
   "source": [
    "with open('my_files/example.txt', 'r') as f:\n",
    "    for line in f:\n",
    "        print(line.rstrip())"
   ]
  },
  {
   "cell_type": "markdown",
   "metadata": {},
   "source": [
    "Your file cursor is at the end of the file. Re-open the file, or use `f.seek(0)` to rewind the file cursor if you need to loop again."
   ]
  },
  {
   "cell_type": "markdown",
   "metadata": {},
   "source": [
    "<h1 style=\"font-size:1.5em; font-family: verdana, Geneva, sans-serif; color:#00A0B2\">\n",
    "File Processing Examples</h1>"
   ]
  },
  {
   "cell_type": "markdown",
   "metadata": {},
   "source": [
    "###### Example 1: Below is a program that copies a file, but puts \"Copy\" as the first line of the copied file."
   ]
  },
  {
   "cell_type": "code",
   "execution_count": null,
   "metadata": {},
   "outputs": [],
   "source": [
    "# First we open the file we want to read from and get the contents:\n",
    "with open('my_files/humpty_dumpty.txt', 'r') as f:\n",
    "    contents = f.read()"
   ]
  },
  {
   "cell_type": "code",
   "execution_count": null,
   "metadata": {},
   "outputs": [],
   "source": [
    "# Next we open the file we want to write to and write the contents:\n",
    "with open('my_files/dummy.txt', 'w') as f:\n",
    "    f.write('Copy\\n')  # We have to add the newline ourselves.\n",
    "    f.write(contents)  # Now write the contents of the file."
   ]
  },
  {
   "cell_type": "markdown",
   "metadata": {},
   "source": [
    "###### Another solution: With more than one item, the context managers are processed as if multiple with statements were nested:"
   ]
  },
  {
   "cell_type": "code",
   "execution_count": null,
   "metadata": {},
   "outputs": [],
   "source": [
    "with open('my_files/humpty_dumpty.txt', 'r') as source_file, open('my_files/dummy.txt', 'w') as destination_file:\n",
    "    destination_file.write('Copy\\n')\n",
    "    \n",
    "    for line in source_file:\n",
    "        destination_file.write(line)"
   ]
  },
  {
   "cell_type": "markdown",
   "metadata": {},
   "source": [
    "###### Example 2: below is a program that counts the number of lines, words, and characters (with spaces) in a text file."
   ]
  },
  {
   "cell_type": "code",
   "execution_count": null,
   "metadata": {},
   "outputs": [],
   "source": [
    "line_count = 0\n",
    "word_count = 0\n",
    "char_count = 0\n",
    "\n",
    "with open('my_files/humpty_dumpty.txt', 'r') as f:\n",
    "    for line in f:\n",
    "        line_count += 1\n",
    "        char_count += len(line)\n",
    "        words = line.split()\n",
    "        word_count += len(words)\n",
    "                \n",
    "print('Number of chars: ', char_count)\n",
    "print('Number of words: ', word_count)\n",
    "print('Number of Lines: ', line_count)"
   ]
  },
  {
   "cell_type": "markdown",
   "metadata": {
    "collapsed": true
   },
   "source": [
    "<h1 style=\"font-size:1.5em; font-family: verdana, Geneva, sans-serif; color:#B24C00\">\n",
    "Exercise</h1>\n",
    "\n",
    "1) Write a program that makes a backup of a file. Your program should prompt the user for the name of the file to copy and then write a new file with the same contents but with `.bak` as the file extension."
   ]
  },
  {
   "cell_type": "code",
   "execution_count": null,
   "metadata": {
    "collapsed": true
   },
   "outputs": [],
   "source": [
    "# your code\n"
   ]
  },
  {
   "cell_type": "markdown",
   "metadata": {
    "collapsed": true
   },
   "source": [
    "2) Suppose the file `alkaline_metals.txt` contains the name, atomic number, and atomic weight of the alkaline earth metals:"
   ]
  },
  {
   "cell_type": "code",
   "execution_count": null,
   "metadata": {},
   "outputs": [],
   "source": [
    "%load my_files/alkaline_metals.txt"
   ]
  },
  {
   "cell_type": "markdown",
   "metadata": {},
   "source": [
    "Write a `for` loop to read the contents of `alkaline_metals.txt` and store it in a list of lists, with each inner list containing the name, atomic number, and atomic weight for an element. (*hint*: Use `str.split()`)"
   ]
  },
  {
   "cell_type": "code",
   "execution_count": null,
   "metadata": {
    "collapsed": true
   },
   "outputs": [],
   "source": [
    "# your code\n"
   ]
  },
  {
   "cell_type": "markdown",
   "metadata": {
    "collapsed": true
   },
   "source": [
    "3) Write a program that displays only the lines containing numbers in the file `hopedale.dat`.\n",
    "(*hint*: skip the first three lines)"
   ]
  },
  {
   "cell_type": "code",
   "execution_count": null,
   "metadata": {
    "collapsed": true
   },
   "outputs": [],
   "source": [
    "# your code\n"
   ]
  },
  {
   "cell_type": "markdown",
   "metadata": {
    "collapsed": true
   },
   "source": [
    "4) Modify the above program to find the total of the numbers in the file `hopedale.dat`. \n"
   ]
  },
  {
   "cell_type": "code",
   "execution_count": null,
   "metadata": {
    "collapsed": true
   },
   "outputs": [],
   "source": [
    "# your code\n"
   ]
  }
 ],
 "metadata": {
  "anaconda-cloud": {},
  "kernelspec": {
   "display_name": "Python 3",
   "language": "python",
   "name": "python3"
  },
  "language_info": {
   "codemirror_mode": {
    "name": "ipython",
    "version": 3
   },
   "file_extension": ".py",
   "mimetype": "text/x-python",
   "name": "python",
   "nbconvert_exporter": "python",
   "pygments_lexer": "ipython3",
   "version": "3.6.7"
  },
  "latex_envs": {
   "LaTeX_envs_menu_present": true,
   "autocomplete": true,
   "bibliofile": "biblio.bib",
   "cite_by": "apalike",
   "current_citInitial": 1,
   "eqLabelWithNumbers": true,
   "eqNumInitial": 1,
   "hotkeys": {
    "equation": "Ctrl-E",
    "itemize": "Ctrl-I"
   },
   "labels_anchors": false,
   "latex_user_defs": false,
   "report_style_numbering": false,
   "user_envs_cfg": false
  }
 },
 "nbformat": 4,
 "nbformat_minor": 1
}
