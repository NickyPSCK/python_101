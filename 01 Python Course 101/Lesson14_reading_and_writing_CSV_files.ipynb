{
 "cells": [
  {
   "cell_type": "markdown",
   "metadata": {},
   "source": [
    "# Lesson 14: Reading and Writing CSV Files\n",
    "\n",
    "- **CSV Files**\n",
    "- **Format**\n",
    "- **Expectation**\n",
    "- **Reading a CSV File**\n",
    "- **Writing a CSV File**"
   ]
  },
  {
   "cell_type": "markdown",
   "metadata": {},
   "source": [
    "<h1 style=\"font-size:1.5em; font-family: verdana, Geneva, sans-serif; color:#00A0B2\">\n",
    "CSV Files</h1>\n",
    "\n",
    "A comma-sepated values (CSV) file is a plain text file that is used to store tabular data. Each line of the file is one row of the data. A row consists of fields that are typically separated by commas.\n",
    "\n",
    "For example, consider the following table of numbers:\n",
    "\n",
    "<table border=\"border\">\n",
    "    <tr><td>9</td><td>68</td><td>25</td></tr>\n",
    "    <tr><td>18</td><td>44</td><td>2</td></tr>\n",
    "    <tr><td>25</td><td>3</td><td>7</td></tr>\n",
    "</table>\n",
    "\n",
    "This could be stored in a CSV file with the following contents:\n",
    "\n",
    "```python\n",
    "9,68,25\n",
    "18,44,2\n",
    "25,3,7\n",
    "```\n",
    "\n",
    "Different programs can then read and write this data while storing it internally in some more convenient format. CSV files are often used to share data among database and spreadsheet programs that do not share a common internal format.\n",
    "\n",
    "<h1 style=\"font-size:1.5em; font-family: verdana, Geneva, sans-serif; color:#00A0B2\">\n",
    "Format</h1>\n",
    "\n",
    "- Unfortunately, **the format of a CSV file is not well specified.** This is because the CSV format had been around for a while before any attempt was made at standardization.\n",
    "- Problems arise because you might want to have commas in the data. \n",
    "- One way to solve some of the problems is to use quotes around strings that should be in a single field. Then the delimiter is not treated as a separator when it is within a quoted string. But, then you have the same problem when you need to have the quote character within a field.\n",
    "- Even though they are called comma-separated vaules, delimiters other than commas can be used to separate fields (such as a space, semicolon, tab, etc.). There is no universally adhered to standard.\n",
    "- Generally, CSV files, therefore, can use just about any character as the field separator (or delimiter) and quote character. The file itself does not specify which characters are being used. So, the user must either know ahead of time or look at the first few lines of the file and try to figure it out. \n",
    "\n",
    "As CSV files are used to store tabular data, you should expect that each line will have the same number of fields. Sometimes, though, some fields may be empty. You would usually see this as follows:\n",
    "\n",
    "```python\n",
    "9,68,25\n",
    "18,,\n",
    "25,,7\n",
    "```\n",
    "\n",
    "<h1 style=\"font-size:1.5em; font-family: verdana, Geneva, sans-serif; color:#00A0B2\">\n",
    "Expectations</h1>\n",
    "\n",
    "Most well-formed CSV files adhere to the following *rules*:\n",
    "- Fields are separated by a single delimiter character, which is often a comma (`,`).\n",
    "- Rows are separated by a newline character.\n",
    "- Fields are interpreted as plain text.\n",
    "- Fields can be quoted by a quote character, which is often a double quote (`\"`).\n",
    "- Quoted fields can contain the delimiter character and/or newlines within them.\n",
    "- Each row contains the same number of fields in the same order.\n",
    "\n",
    "If a CSV file follows these *rules*, it is easier to use and interpret (as long as you know which characters are being used as the delimiter and quote characters). Note that CSV files are not required to follow these conventions. While most files will, there are some programs that do not adhere to these rules and follow their own conventions.\n",
    "\n",
    "If a CSV file does not follow these rules, you often need to fix the files manually by editing them yourself to conform to some set of rules that the program you are using can handle.\n",
    "\n",
    "Sometimes the first row of a CSV file will be a header row that contains the names of the fields instead of data:\n",
    "```python\n",
    "\"First name\", \"Last name\", \"Phone\"\n",
    "\"Peter\",\"Parker\",\"02-727-3051\"\n",
    "\"Tony\",\"Stark\",\"02-727-3081\"\n",
    "```\n",
    "\n",
    "<h1 style=\"font-size:1.5em; font-family: verdana, Geneva, sans-serif; color:#00A0B2\">\n",
    "Reading a CSV File</h1>\n",
    "\n",
    "**We are going to take a look at how we can parse a CSV file using our knowledge of Python.** In our previous lesson, we learned how to read data from files and to work with strings. So, we really have everything that we need in order to be able to convert a CSV file into a Python tabular data structure. So let's take a look at some Python code that we could use to parse two CSV files: `phones.csv` and `books_read.csv`. "
   ]
  },
  {
   "cell_type": "markdown",
   "metadata": {},
   "source": [
    "###### Example 1: Reading a CSV file (phones.csv)"
   ]
  },
  {
   "cell_type": "code",
   "execution_count": null,
   "metadata": {},
   "outputs": [],
   "source": [
    "%load my_files/phones.csv"
   ]
  },
  {
   "cell_type": "code",
   "execution_count": null,
   "metadata": {
    "scrolled": true
   },
   "outputs": [],
   "source": [
    "table = []\n",
    "with open('my_files/phones.csv', 'r') as f:\n",
    "    for line in f:\n",
    "        line = line.rstrip()\n",
    "        row = line.split(',')\n",
    "        table.append(row)\n",
    "\n",
    "print(line)   # print last line\n",
    "print('-' * 92)\n",
    "print(row)    # print last row\n",
    "print('-' * 92)\n",
    "print(table)\n",
    "print('-' * 92)\n",
    "\n",
    "for row in table:\n",
    "    print(\"{:<14} {:<10}\".format(row[0], row[1]))"
   ]
  },
  {
   "cell_type": "markdown",
   "metadata": {},
   "source": [
    "###### Example 2: Reading a CSV file (phones2.csv)"
   ]
  },
  {
   "cell_type": "code",
   "execution_count": null,
   "metadata": {},
   "outputs": [],
   "source": [
    "%load my_files/phones2.csv"
   ]
  },
  {
   "cell_type": "code",
   "execution_count": null,
   "metadata": {
    "scrolled": true
   },
   "outputs": [],
   "source": [
    "table = []\n",
    "with open('my_files/phones2.csv', 'r') as f:\n",
    "    for line in f:\n",
    "        line = line.rstrip()\n",
    "        row = line.split(',')\n",
    "        row[0] = row[0].strip('\"')\n",
    "        table.append(row)\n",
    "\n",
    "print(line)   # print last line\n",
    "print('-' * 92)\n",
    "print(row)    # print last row\n",
    "print('-' * 92)\n",
    "print(table)\n",
    "print('-' * 92)\n",
    "\n",
    "for row in table:\n",
    "    print(\"{:<14} {:<10}\".format(row[0], row[1]))"
   ]
  },
  {
   "cell_type": "markdown",
   "metadata": {},
   "source": [
    "###### Example 3: Reading a CSV file (books_read.csv) "
   ]
  },
  {
   "cell_type": "code",
   "execution_count": null,
   "metadata": {},
   "outputs": [],
   "source": [
    "%load my_files/books_read.csv"
   ]
  },
  {
   "cell_type": "code",
   "execution_count": null,
   "metadata": {},
   "outputs": [],
   "source": [
    "table = []\n",
    "with open('my_files/books_read.csv', 'r') as f:\n",
    "    for line in f:\n",
    "        line = line.rstrip()\n",
    "        row = line.split(',')\n",
    "        table.append(row)\n",
    "\n",
    "print(line)\n",
    "print('-' * 92)\n",
    "print(row)\n",
    "print('-' * 92)\n",
    "print(table)\n",
    "print('-' * 92)\n",
    "\n",
    "for row in table:\n",
    "    print(\"{:<32} {:<46} {:<10}\".format(row[0], row[1], row[2]))\n",
    "        "
   ]
  },
  {
   "cell_type": "markdown",
   "metadata": {},
   "source": [
    "### `csv.reader` object\n",
    "As you have already seen from the above examples, it is actually not too difficult to parse a very nicely formatted CSV file. However, once the file gets a little bit more complicated especially when I am using quotes for their intended purpose to make sure that I can have separators inside of field values, things then start to get a little bit more tricky. \n",
    "\n",
    "**Luckily, Python has a `csv module` designed to help us read and write CSV files.**\n",
    "\n",
    "To read a CSV file using csv module, we need to:\n",
    "1. open the file using the built-in `open()` function with newline set to an empty string (`newline = ''`).\n",
    "2. pass the file object to the `csv.reader()` function. \n",
    "3. read the file row by row. \n",
    "    - **Each row is a list of strings.**\n",
    "\n",
    ">Note that:\n",
    "> - The online Python documentation (https://docs.python.org/3/library/csv.html) recommends that CSV files should be opened with `newline=''`.   \n",
    "> - In Python 3, opening CSV files with `newline = ''` allows the csv module to determine line breaks for itself. If you do not specify `newline = ''` then newlines within quoted fields will be interpreted incorrectly."
   ]
  },
  {
   "cell_type": "code",
   "execution_count": null,
   "metadata": {},
   "outputs": [],
   "source": [
    "%load my_files/books_read.csv"
   ]
  },
  {
   "cell_type": "code",
   "execution_count": null,
   "metadata": {},
   "outputs": [],
   "source": [
    "import csv\n",
    "\n",
    "table = []\n",
    "with open('my_files/books_read.csv', 'r', newline='') as f:\n",
    "    reader = csv.reader(f)\n",
    "\n",
    "    for row in reader:\n",
    "        table.append(row)\n",
    "\n",
    "print(row)\n",
    "print('-' * 92)\n",
    "print(table)       \n",
    "print('-' * 92)\n",
    "\n",
    "for row in table:\n",
    "    print(\"{:<32} {:<46} {:<10}\".format(row[0], row[1], row[2]))"
   ]
  },
  {
   "cell_type": "markdown",
   "metadata": {},
   "source": [
    "### `csv.DictReader` Object\n",
    "\n",
    "When retrieving rows using the `reader` object, it is possible to manipulate them item by item, but you have to know the positions of the different fields. For a CSV with a lot of columns, that can be pretty difficult. You will likely find it easier to use a `DictReader` object, which gives you access to the fields by key.\n",
    "\n",
    "The DictReader object has a `fieldnames` attribute that by default contains a **list holding the keys taken from the first row of data**. "
   ]
  },
  {
   "cell_type": "markdown",
   "metadata": {},
   "source": [
    "### `csv.reader` vs. `csv.DictReader` "
   ]
  },
  {
   "cell_type": "code",
   "execution_count": null,
   "metadata": {},
   "outputs": [],
   "source": [
    "%load my_files/hightemp.csv"
   ]
  },
  {
   "cell_type": "markdown",
   "metadata": {},
   "source": [
    "#### `csv.reader` version"
   ]
  },
  {
   "cell_type": "code",
   "execution_count": null,
   "metadata": {},
   "outputs": [],
   "source": [
    "import csv\n",
    "\n",
    "with open('my_files/hightemp.csv', 'r', newline='') as f:\n",
    "    reader = csv.reader(f)\n",
    "    header = next(reader)\n",
    "    print(header)\n",
    "    \n",
    "    # Find hot city in July. (The temperature is higher than 90)\n",
    "    for row in reader:\n",
    "        if int(row[7]) > 90:\n",
    "            print('{} is every hot in July. The temperature is {}.'.format(\n",
    "                   row[0], row[7]))\n",
    "            "
   ]
  },
  {
   "cell_type": "markdown",
   "metadata": {},
   "source": [
    "#### `csv.DictReader` version"
   ]
  },
  {
   "cell_type": "code",
   "execution_count": null,
   "metadata": {},
   "outputs": [],
   "source": [
    "import csv\n",
    "\n",
    "table = []\n",
    "with open('my_files/hightemp.csv', 'r', newline='') as f:\n",
    "    reader = csv.DictReader(f)\n",
    "    header = reader.fieldnames\n",
    "    print(header)\n",
    "\n",
    "    # Find hot city in July. (The temperature is higher than 90)\n",
    "    for row in reader:\n",
    "        if int(row['Jul']) > 90:\n",
    "            print('{} is every hot in July. The temperature is {}.'.format(\n",
    "                   row['City'], row['Jul']))          "
   ]
  },
  {
   "cell_type": "markdown",
   "metadata": {},
   "source": [
    "#### If the CSV doesn't have a header row, you can pass fieldnames in when creating the `csv.DictReader` object."
   ]
  },
  {
   "cell_type": "code",
   "execution_count": null,
   "metadata": {},
   "outputs": [],
   "source": [
    "%load my_files/phones.csv"
   ]
  },
  {
   "cell_type": "code",
   "execution_count": null,
   "metadata": {},
   "outputs": [],
   "source": [
    "import csv\n",
    "\n",
    "table = []\n",
    "with open('my_files/phones.csv', 'r', newline='') as f:\n",
    "    fieldnames = ['name', 'phone']\n",
    "    reader = csv.DictReader(f, fieldnames=fieldnames)\n",
    "    print(reader.fieldnames)   # ['name', 'phone']\n",
    "    \n",
    "    for row in reader:\n",
    "        print('{:<10} {:<10}'.format(row['name'], row['phone']))"
   ]
  },
  {
   "cell_type": "markdown",
   "metadata": {},
   "source": [
    "<h1 style=\"font-size:1.5em; font-family: verdana, Geneva, sans-serif; color:#00A0B2\">\n",
    "Writing a CSV File</h1>\n",
    "\n",
    "To write data to a CSV file, we need to:\n",
    "1. open the file using the built-in `open()` function in writing mode with newline set to an empty string (`newline = ''`).\n",
    "2. pass the file object to the `csv.writer()` function  or to `csv.DictWriter()`.\n",
    "3. write the file row by row with the `writerow(sequence)` method or all at once with the `writerows(sequence_of_sequences)` method."
   ]
  },
  {
   "cell_type": "markdown",
   "metadata": {},
   "source": [
    "#### `csv.writer`  version"
   ]
  },
  {
   "cell_type": "code",
   "execution_count": null,
   "metadata": {},
   "outputs": [],
   "source": [
    "import csv\n",
    "   \n",
    "table = [['2016/1/18', 'Martin Luther King Day', 'Federal Holiday'],\n",
    "         ['2016/2/2','Groundhog Day', 'Observance'], \n",
    "         ['2016/2/8','Chinese New Year', 'Observance'], \n",
    "         ['2016/2/14','Valentine\\'s Day', 'Obervance'], \n",
    "         ['2016/5/8','Mother\\'s Day', 'Observance'], \n",
    "         ['2016/8/19','Statehood Day', 'Hawaii Holiday'], \n",
    "         ['2016/10/28','Nevada Day', 'Nevada Holiday']]\n",
    "    \n",
    "with open('my_files/csv_write.csv', 'w', newline='') as f:\n",
    "    writer = csv.writer(f)\n",
    "    writer.writerow(['Date', 'Name', 'Notes'])  # write one row - header\n",
    "    writer.writerows(table)   # write all row at once - tabular data"
   ]
  },
  {
   "cell_type": "code",
   "execution_count": null,
   "metadata": {},
   "outputs": [],
   "source": [
    "%load my_files/csv_write.csv"
   ]
  },
  {
   "cell_type": "markdown",
   "metadata": {},
   "source": [
    "#### `csv.DictWriter` version"
   ]
  },
  {
   "cell_type": "code",
   "execution_count": null,
   "metadata": {},
   "outputs": [],
   "source": [
    "import csv\n",
    "   \n",
    "table = [{'Date': '2016/1/18', 'Name': 'Martin Luther King Day', 'Notes': 'Federal Holiday'},\n",
    "         {'Date': '2016/2/2', 'Name': 'Groundhog Day', 'Notes': 'Observance'}, \n",
    "         {'Date': '2016/2/8', 'Name': 'Chinese New Year', 'Notes': 'Observance'}, \n",
    "         {'Date': '2016/2/14', 'Name': 'Valentine\\'s Day', 'Notes': 'Obervance'}, \n",
    "         {'Date': '2016/5/8', 'Name': 'Mother\\'s Day', 'Notes': 'Observance'}, \n",
    "         {'Date': '2016/8/19', 'Name': 'Statehood Day', 'Notes': 'Hawaii Holiday'}, \n",
    "         {'Date': '2016/10/28', 'Name': 'Nevada Day', 'Notes': 'Nevada Holiday'}]\n",
    "    \n",
    "with open('my_files/csv_write2.csv', 'w', newline='') as f:\n",
    "    fieldnames = table[0].keys() # fieldnames = ['Date', 'Name', 'Notes']\n",
    "    writer = csv.DictWriter(f, fieldnames=fieldnames)\n",
    "    writer.writeheader()         # write header\n",
    "    writer.writerows(table)      # write all row at once - tabular data"
   ]
  },
  {
   "cell_type": "code",
   "execution_count": null,
   "metadata": {},
   "outputs": [],
   "source": [
    "%load my_files/csv_write2.csv"
   ]
  },
  {
   "cell_type": "markdown",
   "metadata": {
    "collapsed": true
   },
   "source": [
    "<h1 style=\"font-size:1.5em; font-family: verdana, Geneva, sans-serif; color:#B24C00\">\n",
    "Exercise</h1>\n",
    "\n",
    "1) Write a program to read the `books_read.csv` and print each row with the list bracket.\n",
    "\n",
    "&nbsp; &nbsp; *Expected Output:*\n",
    "```python\n",
    "['Beckert, Sven', 'Empire of Cotton', 'history']\n",
    "['Buckley, Carla', 'The Deepest Secret', 'mystery']\n",
    "['Carcaterra, Lorenzo', 'Chasers', 'mystery']\n",
    "...\n",
    "['Woods, Stewart', 'Mounting Fears', 'novel']\n",
    "```"
   ]
  },
  {
   "cell_type": "code",
   "execution_count": null,
   "metadata": {
    "scrolled": true
   },
   "outputs": [],
   "source": [
    "# your code\n"
   ]
  },
  {
   "cell_type": "markdown",
   "metadata": {
    "collapsed": true
   },
   "source": [
    "2) Rewrite the above code so that you will print each row without the list bracket. You will print each item in the row separately instead of printing the whole row.\n",
    "\n",
    "&nbsp; &nbsp; *Expected Output:*\n",
    "```python\n",
    "Beckert, Sven Empire of Cotton history\n",
    "Buckley, Carla The Deepest Secret mystery\n",
    "Carcaterra, Lorenzo Chasers mystery\n",
    "...\n",
    "Woods, Stewart Mounting Fears novel\n",
    "```"
   ]
  },
  {
   "cell_type": "code",
   "execution_count": null,
   "metadata": {
    "scrolled": true
   },
   "outputs": [],
   "source": [
    "# your code\n"
   ]
  },
  {
   "cell_type": "markdown",
   "metadata": {
    "collapsed": true
   },
   "source": [
    "3) Write a program that reads your friend's name and his/her phone number as keyboard input, and then save these as records in a csv file. (Each record will have a field for your friend's name and a field for his/her phone number.)\n",
    "\n",
    "- To exit, you enter a blank name (i.e., just press return or enter).\n",
    "   \n",
    "- Do not print anything until you have the phone number and do not get the\n",
    "   phone number until you know the user is not quiting.\n",
    "\n",
    "&nbsp; &nbsp; *Sample Run:*\n",
    "\n",
    "&nbsp; &nbsp; `Enter a friend's name, press return to end: Peter Parker`  \n",
    "&nbsp; &nbsp; `Enter your friend's phone: 123-456-789`  \n",
    "&nbsp; &nbsp; `Peter Parker`  \n",
    "&nbsp; &nbsp; `123-456-789`  \n",
    "&nbsp; &nbsp; `Enter a friend's name, press return to end: Mary Jane Watson`  \n",
    "&nbsp; &nbsp; `Enter your friend's phone: 987-654-321`  \n",
    "&nbsp; &nbsp; `Mary Jane Watson`  \n",
    "&nbsp; &nbsp; `987-654-321`  \n",
    "&nbsp; &nbsp; `Enter a friend's name, press return to end:`"
   ]
  },
  {
   "cell_type": "code",
   "execution_count": null,
   "metadata": {},
   "outputs": [],
   "source": [
    "# your code\n"
   ]
  },
  {
   "cell_type": "markdown",
   "metadata": {
    "collapsed": true
   },
   "source": [
    "4) Read `weights.csv` file, which contains a person's daily weights, and then compute the \n",
    "average weight and write that into another csv file.\n",
    "In other words, we copy the old file to a new one and add an additional line that \n",
    "contains the average of all the weight values. "
   ]
  },
  {
   "cell_type": "code",
   "execution_count": null,
   "metadata": {},
   "outputs": [],
   "source": [
    "# your code\n"
   ]
  }
 ],
 "metadata": {
  "anaconda-cloud": {},
  "kernelspec": {
   "display_name": "Python 3",
   "language": "python",
   "name": "python3"
  },
  "language_info": {
   "codemirror_mode": {
    "name": "ipython",
    "version": 3
   },
   "file_extension": ".py",
   "mimetype": "text/x-python",
   "name": "python",
   "nbconvert_exporter": "python",
   "pygments_lexer": "ipython3",
   "version": "3.6.7"
  },
  "latex_envs": {
   "LaTeX_envs_menu_present": true,
   "autocomplete": true,
   "bibliofile": "biblio.bib",
   "cite_by": "apalike",
   "current_citInitial": 1,
   "eqLabelWithNumbers": true,
   "eqNumInitial": 1,
   "hotkeys": {
    "equation": "Ctrl-E",
    "itemize": "Ctrl-I"
   },
   "labels_anchors": false,
   "latex_user_defs": false,
   "report_style_numbering": false,
   "user_envs_cfg": false
  }
 },
 "nbformat": 4,
 "nbformat_minor": 1
}
