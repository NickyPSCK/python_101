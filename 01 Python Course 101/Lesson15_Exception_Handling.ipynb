{
 "cells": [
  {
   "cell_type": "markdown",
   "metadata": {},
   "source": [
    "# Lesson 15: Exception Handling\n",
    "\n",
    "- **What is an Exception?**\n",
    "- **The `try/except` Statement**\n",
    "- **Handling Multiple Exceptions**\n",
    "- **Displaying a Default Error Messeage**\n",
    "- **The `else` Clause**"
   ]
  },
  {
   "cell_type": "markdown",
   "metadata": {},
   "source": [
    "<h1 style=\"font-size:1.5em; font-family: verdana, Geneva, sans-serif; color:#00A0B2\">\n",
    "What is an Exception?</h1>\n",
    "\n",
    "An exception is an error that occurs while a program is running. In most cases, an exception causes a program to abruptly halt. \n",
    "\n",
    "### An example of a program that raises an exception\n",
    "The following program gets two numbers from the user and then divides the first number by the second number. If the user enters 0 as the second number, an exception will occur. (Division by 0 causes an exception because it is mathematically impossible.)"
   ]
  },
  {
   "cell_type": "code",
   "execution_count": null,
   "metadata": {},
   "outputs": [],
   "source": [
    "# Get two numbers.\n",
    "num1 = int(input('Enter a number: '))\n",
    "num2 = int(input('Enter another number: '))\n",
    "\n",
    "# Divide num1 by num2 and display the result.\n",
    "result = num1 / num2\n",
    "print(num1, 'divided by', num2, 'is', result)"
   ]
  },
  {
   "cell_type": "markdown",
   "metadata": {},
   "source": [
    "- The lengthy error message that is shown in the sample run is called a <em style='color:blue'>traceback</em>. \n",
    "- The traceback gives information regarding the line number(s) that caused the exception.  \n",
    "- When an exception occurs, programmers say that <em style='color:blue'>an exception was raised</em>. \n",
    "- The last line of the error message shows the name of the exception that was raised (`ZeroDivisionError`) and a brief description of the error that caused the exception to be raised (`division by zero`)."
   ]
  },
  {
   "cell_type": "markdown",
   "metadata": {},
   "source": [
    "### Preventing exceptions by carefully coding\n",
    "You can prevent many exceptions from being raised by carefully coding your program. For example, the following program shows how division by 0 can be prevented with a simple `if` statement."
   ]
  },
  {
   "cell_type": "code",
   "execution_count": null,
   "metadata": {},
   "outputs": [],
   "source": [
    "# Get two numbers.\n",
    "num1 = int(input('Enter a number: '))\n",
    "num2 = int(input('Enter another number: '))\n",
    "\n",
    "# If num2 is not zero, divide num1 by num2\n",
    "# and display the result.\n",
    "if num2 != 0:     \n",
    "    result = num1 / num2\n",
    "    print(num1, 'divided by', num2, 'is', result)\n",
    "else:\n",
    "    print('Cannot divide by zero.')"
   ]
  },
  {
   "cell_type": "markdown",
   "metadata": {},
   "source": [
    "### Unavoidable exceptions\n",
    "Some exceptions cannot be avoided regardless of how carefully you write your program. For example, look at the following program. This program calculates gross pay. It prompts the user to enter the number of hours worked and the hourly pay rate. It gets the user’s gross pay by multiplying these two numbers and displays that value on the screen.\n",
    "\n",
    "An exception will occur if, for example, the user enter the string 'forty' instead of the number 40 when prompted for the number of hours worked. "
   ]
  },
  {
   "cell_type": "code",
   "execution_count": null,
   "metadata": {
    "scrolled": true
   },
   "outputs": [],
   "source": [
    "# Get the number of hours worked.\n",
    "hours = int(input('How many hours did you work? '))\n",
    "\n",
    "# Get the hourly pay rate.\n",
    "pay_rate = float(input('Enter your hourly pay rate: '))\n",
    "\n",
    "# Calculate the gross pay.\n",
    "gross_pay = hours * pay_rate\n",
    "\n",
    "# Display the gross pay.\n",
    "print('Gross pay: ${:.2f}'.format(gross_pay))"
   ]
  },
  {
   "cell_type": "markdown",
   "metadata": {},
   "source": [
    "<h1 style=\"font-size:1.5em; font-family: verdana, Geneva, sans-serif; color:#00A0B2\">\n",
    "    The <code style=\"color:inherit\">try/except</code> Statement</h1>\n",
    "\n",
    "Python, like most modern programming languages, allows you to write code that responds to exceptions when they are raised, and prevents the program from abruptly crashing. Such code is called an <em style='color:blue'>exception handler</em> and is written with the `try/except` statement. \n",
    "\n",
    "Here is the general format of a `try/except` statement:\n",
    "```python\n",
    "try:\n",
    "    statement\n",
    "    statement\n",
    "    ...\n",
    "```\n",
    "```python\n",
    "except <ExceptionName>: \n",
    "    statement\n",
    "    statement\n",
    "    ...\n",
    "```\n",
    "\n",
    "###### First example\n",
    "The following program shows how we can write a `try/except` statement to gracefully respond to a `ValueError` exception."
   ]
  },
  {
   "cell_type": "code",
   "execution_count": null,
   "metadata": {},
   "outputs": [],
   "source": [
    "try:\n",
    "    # Get the number of hours worked.\n",
    "    hours = int(input('How many hours did you work? '))\n",
    "\n",
    "    # Get the hourly pay rate.\n",
    "    pay_rate = float(input('Enter your hourly pay rate: '))\n",
    "\n",
    "    # Calculate the gross pay.\n",
    "    gross_pay = hours * pay_rate\n",
    "\n",
    "    # Display the gross pay.\n",
    "    print('Gross pay: ${:.2f}'.format(gross_pay))\n",
    "\n",
    "except ValueError:\n",
    "    print('ERROR: Hours worked and hourly pay rate must be valid integers.')\n"
   ]
  },
  {
   "cell_type": "markdown",
   "metadata": {},
   "source": [
    "###### Second example\n",
    "The following program gets the name of a file from the user and then displays the contents of the file. The program works as long as the user enters the name of an existing file. An exception will be raised, however, if the file specified by the user does not exist. "
   ]
  },
  {
   "cell_type": "code",
   "execution_count": null,
   "metadata": {
    "scrolled": true
   },
   "outputs": [],
   "source": [
    "# Get the name of a file.\n",
    "filename = input('Enter a filename: ')\n",
    "\n",
    "# Open the file and read the file's contents.\n",
    "with open(filename, 'r') as f:\n",
    "    contents = f.read()\n",
    "\n",
    "# Display the file's contents.\n",
    "print(contents)"
   ]
  },
  {
   "cell_type": "markdown",
   "metadata": {},
   "source": [
    "The following program shows how we can modify the previous program with a `try/except` statement that gracefully responds to a `FileNotFoundError` exception. "
   ]
  },
  {
   "cell_type": "code",
   "execution_count": null,
   "metadata": {},
   "outputs": [],
   "source": [
    "# Get the name of a file.\n",
    "filename = input('Enter a filename: ')\n",
    "\n",
    "try:\n",
    "    # Open the file and read the file's contents.\n",
    "    with open(filename, 'r') as f:\n",
    "        contents = f.read()\n",
    "    # Display the file's contents.\n",
    "    print(contents)\n",
    "\n",
    "except FileNotFoundError: \n",
    "    print('The file', filename, 'is not found!!!')"
   ]
  },
  {
   "cell_type": "markdown",
   "metadata": {},
   "source": [
    "<h1 style=\"font-size:1.5em; font-family: verdana, Geneva, sans-serif; color:#00A0B2\">\n",
    "Handling Multiple Exceptions</h1>\n",
    "\n",
    "In many cases, the code in a `try` suite will be capable of throwing more than one type of exception. In such a case, you need to write an except clause for each type of exception that you want to handle. \n",
    "\n",
    "For example, let's look at the following 'sale report' program. This program reads the contents of a file named `sales_data.txt`. Each line in the file contains the sales amount for one month, and the file has several lines. This program reads all of the numbers from the file and adds them to an accumulator variable.\n",
    "- A `FileNotFoundError` exception will be raised if the file specified by the user does not exist.\n",
    "- A `ValueError` exception will be raised if the items that are read from the file cannot be converted to a number."
   ]
  },
  {
   "cell_type": "code",
   "execution_count": null,
   "metadata": {},
   "outputs": [],
   "source": [
    "# sale report program\n",
    "\n",
    "# what happens if we try to open a non-existing file\n",
    "filename = 'my_files/sales_data.txt'   \n",
    "\n",
    "# Initialize an accumulator.\n",
    "total = 0.0\n",
    "\n",
    "try:\n",
    "    # Open the sales_data.txt file and read the file's contents.\n",
    "    with open(filename, 'r') as f:\n",
    "        # Read the values from the file and\n",
    "        # accumulate them.\n",
    "        for line in f:\n",
    "            amount = float(line)\n",
    "            total += amount\n",
    "\n",
    "        # Print the total.\n",
    "        print('{:.2f}'.format(total))\n",
    "        \n",
    "except FileNotFoundError: \n",
    "    print('The file', filename, 'is not found!!!')\n",
    "    \n",
    "except ValueError:\n",
    "    print('Non-numeric data found in the file.')\n"
   ]
  },
  {
   "cell_type": "markdown",
   "metadata": {},
   "source": [
    "### Catch All Exceptions\n",
    "\n",
    "The following program shows how we can modify the previous program to demonstrate the catch-all exception.\n",
    "\n",
    "<strong style='color:red'>Remember that using one <code style=\"color:inherit\">except</code> clause to catch all exceptions is a BAD practice!!!</strong>"
   ]
  },
  {
   "cell_type": "code",
   "execution_count": null,
   "metadata": {},
   "outputs": [],
   "source": [
    "# sale report program\n",
    "\n",
    "# what happens if we try to open a non-existing file\n",
    "filename = 'my_files/sales_data.txt'   \n",
    "\n",
    "# Initialize an accumulator.\n",
    "total = 0.0\n",
    "\n",
    "try:\n",
    "    # Open the sales_data.txt file and read the file's contents.\n",
    "    with open(filename, 'r') as f:\n",
    "        # Read the values from the file and\n",
    "        # accumulate them.\n",
    "        for line in f:\n",
    "            amount = float(line)\n",
    "            total += amount\n",
    "\n",
    "        # Print the total.\n",
    "        print('{:.2f}'.format(total))\n",
    "        \n",
    "except: \n",
    "    print('An error occurred.')\n",
    "    "
   ]
  },
  {
   "cell_type": "markdown",
   "metadata": {},
   "source": [
    "<h1 style=\"font-size:1.5em; font-family: verdana, Geneva, sans-serif; color:#00A0B2\">\n",
    "Displaying a Default Error Messeage</h1>\n",
    "\n",
    "When an exception is thrown, an object known as an <em style=\"color:blue\">exception object</em> is created in memory. The exception object usually contains a default error message pertaining to the exception. (In fact, it is the same error message that you see displayed at the end of a traceback when an exception goes unhandled.) \n",
    "\n",
    "When you write an `except` clause, you can optionally assign the exception object to a variable. After doing this, in the exception handler you can pass the variable to the `print` function to display the default error message that Python provides for that type of error. "
   ]
  },
  {
   "cell_type": "code",
   "execution_count": null,
   "metadata": {},
   "outputs": [],
   "source": [
    "try:\n",
    "    # Get the number of hours worked.\n",
    "    hours = int(input('How many hours did you work? '))\n",
    "\n",
    "    # Get the hourly pay rate.\n",
    "    pay_rate = float(input('Enter your hourly pay rate: '))\n",
    "\n",
    "    # Calculate the gross pay.\n",
    "    gross_pay = hours * pay_rate\n",
    "\n",
    "    # Display the gross pay.\n",
    "    print('Gross pay: ${:.2f}'.format(gross_pay))\n",
    "\n",
    "except ValueError as err:\n",
    "    print(err)\n"
   ]
  },
  {
   "cell_type": "markdown",
   "metadata": {},
   "source": [
    "<h1 style=\"font-size:1.5em; font-family: verdana, Geneva, sans-serif; color:#00A0B2\">\n",
    "    The <code style=\"color:inherit\">else</code> Clause</h1>\n",
    "\n",
    "The `try/except` statement may have an optional `else` clause, which appears after all the\n",
    "`except` clauses. \n",
    "\n",
    "Here is the general format of a `try/except` statement with an `else` clause:\n",
    "\n",
    "```python\n",
    "try:\n",
    "    statement\n",
    "    statement\n",
    "    ...\n",
    "```\n",
    "```python\n",
    "except <ExceptionName>: \n",
    "    statement\n",
    "    statement\n",
    "    ...\n",
    "```\n",
    "```python\n",
    "else:\n",
    "    statement\n",
    "    statement\n",
    "    ... \n",
    "```\n",
    "\n",
    "The statements in the `else` suite are executed after the statements in the `try` suite, only if no exceptions were raised. If an exception is raised, the `else` suite is skipped. "
   ]
  },
  {
   "cell_type": "code",
   "execution_count": null,
   "metadata": {},
   "outputs": [],
   "source": [
    "try:\n",
    "    # Get the number of hours worked.\n",
    "    hours = int(input('How many hours did you work? '))\n",
    "\n",
    "    # Get the hourly pay rate.\n",
    "    pay_rate = float(input('Enter your hourly pay rate: '))\n",
    "\n",
    "except ValueError as err:\n",
    "    print(err)\n",
    "\n",
    "else:\n",
    "    # Calculate the gross pay.\n",
    "    gross_pay = hours * pay_rate\n",
    "\n",
    "    # Display the gross pay.\n",
    "    print('Gross pay: ${:.2f}'.format(gross_pay))"
   ]
  },
  {
   "cell_type": "markdown",
   "metadata": {
    "collapsed": true
   },
   "source": [
    "<h1 style=\"font-size:1.5em; font-family: verdana, Geneva, sans-serif; color:#B24C00\">\n",
    "Exercise</h1>\n",
    "\n",
    "1) Giving a file containing a series of integers named `numbers.txt` (in `my_files` folder), write a program that calculates the average of all the numbers stored in the file. You need to handles the `FileNotFoundError` and `ValueError` exceptions."
   ]
  },
  {
   "cell_type": "code",
   "execution_count": null,
   "metadata": {},
   "outputs": [],
   "source": [
    "# your code\n"
   ]
  },
  {
   "cell_type": "markdown",
   "metadata": {
    "collapsed": true
   },
   "source": [
    "2) In this exercise, you will intentionally try to create different types of exceptions using the following template:**\n",
    "```python\n",
    "try:\n",
    "    # code that creates an exception\n",
    "except Exception as err:\n",
    "    print(type(err))\n",
    "    print(err,'\\n')\n",
    "```\n",
    "Finish the `try/except` blocks to raise the following types of errors:\n",
    "1. `ZeroDivisionError` \n",
    "2. `ValueError`\n",
    "3. `NameError`\n",
    "4. `FileNotFoundError`\n",
    "5. `ModuleNotFoundError`\n",
    "6. `TypeError`\n",
    "7. `AttributeError`\n",
    "8. `StopIteration`\n",
    "9. `KeyError`\n",
    "\n",
    "Use the documentation at https://docs.python.org/3/library/exceptions.html#base-classes as necessary."
   ]
  },
  {
   "cell_type": "code",
   "execution_count": null,
   "metadata": {},
   "outputs": [],
   "source": [
    "# your code\n"
   ]
  }
 ],
 "metadata": {
  "anaconda-cloud": {},
  "kernelspec": {
   "display_name": "Python 3",
   "language": "python",
   "name": "python3"
  },
  "language_info": {
   "codemirror_mode": {
    "name": "ipython",
    "version": 3
   },
   "file_extension": ".py",
   "mimetype": "text/x-python",
   "name": "python",
   "nbconvert_exporter": "python",
   "pygments_lexer": "ipython3",
   "version": "3.6.7"
  },
  "latex_envs": {
   "LaTeX_envs_menu_present": true,
   "autocomplete": true,
   "bibliofile": "biblio.bib",
   "cite_by": "apalike",
   "current_citInitial": 1,
   "eqLabelWithNumbers": true,
   "eqNumInitial": 1,
   "hotkeys": {
    "equation": "Ctrl-E",
    "itemize": "Ctrl-I"
   },
   "labels_anchors": false,
   "latex_user_defs": false,
   "report_style_numbering": false,
   "user_envs_cfg": false
  }
 },
 "nbformat": 4,
 "nbformat_minor": 1
}
