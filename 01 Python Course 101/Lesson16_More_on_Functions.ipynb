{
 "cells": [
  {
   "cell_type": "markdown",
   "metadata": {},
   "source": [
    "# Lesson 16: More on Functions\n",
    "\n",
    "- **Returning Multiple Values**\n",
    "- **Positional and Keyword Arguments**\n",
    "- **Default Values**\n",
    "- **Docstrings and Function help**"
   ]
  },
  {
   "cell_type": "markdown",
   "metadata": {},
   "source": [
    "<h1 style=\"font-size:1.5em; font-family: verdana, Geneva, sans-serif; color:#00A0B2\">\n",
    "Returning Multiple Values</h1>\n",
    "\n",
    "Functions can return one object. You can use a tuple to return multiple values from a function, as shown here:"
   ]
  },
  {
   "cell_type": "code",
   "execution_count": null,
   "metadata": {},
   "outputs": [],
   "source": [
    "def divide(a,b):\n",
    "    q = a // b     # If a and b are integers, q is integer \n",
    "    r = a - q*b\n",
    "    return (q,r)"
   ]
  },
  {
   "cell_type": "markdown",
   "metadata": {},
   "source": [
    "When returning multiple values in a tuple, you can easily unpack the result into separate variables like this:"
   ]
  },
  {
   "cell_type": "code",
   "execution_count": null,
   "metadata": {},
   "outputs": [],
   "source": [
    "# divide(1456,33)\n"
   ]
  },
  {
   "cell_type": "markdown",
   "metadata": {},
   "source": [
    "<h1 style=\"font-size:1.5em; font-family: verdana, Geneva, sans-serif; color:#00A0B2\">\n",
    "Positional and Keyword Arguments</h1>\n",
    "\n",
    "Some functions require one or more arguments. There are two kinds of arguments: **positional arguments** and **keyword arguments**. Using positional arguments requires that the order and number of arguments must match those given in the function definition. If a mismatch exists, a `TypeError` exception is raised."
   ]
  },
  {
   "cell_type": "code",
   "execution_count": null,
   "metadata": {},
   "outputs": [],
   "source": [
    "def menu(entree, drink, dessert):\n",
    "    print('entree:', entree)\n",
    "    print('drink:', drink)\n",
    "    print('dessert:', dessert)"
   ]
  },
  {
   "cell_type": "code",
   "execution_count": null,
   "metadata": {},
   "outputs": [],
   "source": [
    "menu('beef', 'orange juice', 'cheese cake')"
   ]
  },
  {
   "cell_type": "code",
   "execution_count": null,
   "metadata": {},
   "outputs": [],
   "source": [
    "menu('beef', 'cheese cake', 'orange juice')"
   ]
  },
  {
   "cell_type": "markdown",
   "metadata": {},
   "source": [
    "You can also call a function using keyword arguments, passing each argument in the form `name=value`. The arguments can appear in any order using keyword arguments."
   ]
  },
  {
   "cell_type": "code",
   "execution_count": null,
   "metadata": {},
   "outputs": [],
   "source": [
    "menu(entree='beef', dessert='cheese cake', drink='orange juice')"
   ]
  },
  {
   "cell_type": "markdown",
   "metadata": {},
   "source": [
    "It is possible to mix positional arguments with keyword arguments, but you need to make sure that:\n",
    "- Positional arguments must be provided before keyword arguments\n",
    "- No argument is provided twice.\n",
    "- All the required arguments are provided."
   ]
  },
  {
   "cell_type": "code",
   "execution_count": null,
   "metadata": {},
   "outputs": [],
   "source": [
    "menu('beef', dessert='cheese cake', drink='orange juice')"
   ]
  },
  {
   "cell_type": "code",
   "execution_count": null,
   "metadata": {},
   "outputs": [],
   "source": [
    "menu(entree='beef', 'orange juice', dessert='cheese cake')"
   ]
  },
  {
   "cell_type": "code",
   "execution_count": null,
   "metadata": {},
   "outputs": [],
   "source": [
    "menu('beef', 'cheese cake', drink='orange juice')"
   ]
  },
  {
   "cell_type": "markdown",
   "metadata": {},
   "source": [
    "<h1 style=\"font-size:1.5em; font-family: verdana, Geneva, sans-serif; color:#00A0B2\">\n",
    "Default Values</h1>\n",
    "\n",
    "You can assign **default values** to function parameters by assigning values in the function definition. For example:"
   ]
  },
  {
   "cell_type": "code",
   "execution_count": null,
   "metadata": {},
   "outputs": [],
   "source": [
    "def menu(entree='beef', drink='orange juice', dessert='cheese cake'):\n",
    "    print('entree:', entree)\n",
    "    print('drink:', drink)\n",
    "    print('dessert:', dessert)"
   ]
  },
  {
   "cell_type": "markdown",
   "metadata": {},
   "source": [
    "When default values are given in a function definition, they can be omitted from subsequent function calls. When omitted, the argument will simply take on the default value. Here’s an example:"
   ]
  },
  {
   "cell_type": "code",
   "execution_count": null,
   "metadata": {},
   "outputs": [],
   "source": [
    "menu()"
   ]
  },
  {
   "cell_type": "code",
   "execution_count": null,
   "metadata": {},
   "outputs": [],
   "source": [
    "menu(entree='chicken', drink='coffee')"
   ]
  },
  {
   "cell_type": "code",
   "execution_count": null,
   "metadata": {},
   "outputs": [],
   "source": [
    "menu('chicken', drink='coffee')"
   ]
  },
  {
   "cell_type": "code",
   "execution_count": null,
   "metadata": {},
   "outputs": [],
   "source": [
    "menu(entree='chicken', dessert='ice cream')"
   ]
  },
  {
   "cell_type": "markdown",
   "metadata": {},
   "source": [
    "Let's review the `print` function again."
   ]
  },
  {
   "cell_type": "code",
   "execution_count": null,
   "metadata": {
    "scrolled": false
   },
   "outputs": [],
   "source": [
    "help(print)"
   ]
  },
  {
   "cell_type": "markdown",
   "metadata": {},
   "source": [
    "### Issues with Default Values\n",
    "\n",
    "The default argument expressions are evaluated only once when the `def` statement is executed. Normally this causes no problems when the default is a simple immutable constant such as an integer or a string, but it can be a confusing trap for the unwary that usually shows up in the form of using mutable collections as argument defaults. \n",
    "\n",
    "Let's take a closer look. Consider the function which uses an empty list as a default argument."
   ]
  },
  {
   "cell_type": "code",
   "execution_count": null,
   "metadata": {},
   "outputs": [],
   "source": [
    "def test_func(x, lis=[]):\n",
    "    lis.append(x)\n",
    "    return lis"
   ]
  },
  {
   "cell_type": "code",
   "execution_count": null,
   "metadata": {},
   "outputs": [],
   "source": [
    "my_list = [1, 2, 3]\n",
    "result = test_func(100, my_list)\n",
    "print(result)"
   ]
  },
  {
   "cell_type": "code",
   "execution_count": null,
   "metadata": {},
   "outputs": [],
   "source": [
    "my_list = [1, 2, 3]\n",
    "result = test_func(200, my_list)\n",
    "print(result)"
   ]
  },
  {
   "cell_type": "code",
   "execution_count": null,
   "metadata": {},
   "outputs": [],
   "source": [
    "result = test_func(500)\n",
    "print(result)"
   ]
  },
  {
   "cell_type": "code",
   "execution_count": null,
   "metadata": {},
   "outputs": [],
   "source": [
    "result = test_func(500)\n",
    "print(result)"
   ]
  },
  {
   "cell_type": "markdown",
   "metadata": {},
   "source": [
    "### Solution\n",
    "\n",
    "You should <span style=\"color:red\">never use a default value that is mutable</span>. If a default mutable is required, it is better to provide a value such as `None` as the default value in the function definition and then check for that default value in the function code itself. "
   ]
  },
  {
   "cell_type": "code",
   "execution_count": null,
   "metadata": {},
   "outputs": [],
   "source": [
    "def test_func(x, lis=None):\n",
    "    if lis is None:\n",
    "        lis = []\n",
    "    lis.append(x)\n",
    "    return lis"
   ]
  },
  {
   "cell_type": "code",
   "execution_count": null,
   "metadata": {},
   "outputs": [],
   "source": [
    "result = test_func(500)\n",
    "print(result)"
   ]
  },
  {
   "cell_type": "code",
   "execution_count": null,
   "metadata": {},
   "outputs": [],
   "source": [
    "result = test_func(500)\n",
    "print(result)"
   ]
  },
  {
   "cell_type": "markdown",
   "metadata": {},
   "source": [
    "<h1 style=\"font-size:1.5em; font-family: verdana, Geneva, sans-serif; color:#00A0B2\">\n",
    "Docstrings and Function help</h1>\n",
    "\n",
    "Documentation strings (\"docstrings\") are an integral part of the Python language. They need to be in the following places:\n",
    "- At the top of each file describing the purpose of the program or module.\n",
    "- Below each function definition describing the purpose of the function.\n",
    "\n",
    "Docstrings describe what is being done in a program or function, not how it is being done. A docstring for a function should explain the arguments, what the function does, and what the function returns. \n",
    "\n",
    "Here is an example that includes a docstring in a function:"
   ]
  },
  {
   "cell_type": "code",
   "execution_count": 44,
   "metadata": {
    "collapsed": true
   },
   "outputs": [],
   "source": [
    "def sum_of_squares(num1, num2):\n",
    "    \"\"\"\n",
    "    Return the sum of the squares of the two inputs.\n",
    "    \"\"\"\n",
    "    sq1 = num1 * num1\n",
    "    sq2 = num2 * num2\n",
    "    sumsq = sq1 + sq2\n",
    "    return sumsq"
   ]
  },
  {
   "cell_type": "markdown",
   "metadata": {},
   "source": [
    "These docstrings are treated specially in Python, as they allow the system to automatically give you documentation for programs and functions. At the command prompt, you can type `𝚑𝚎𝚕𝚙(...)`, and it will return the docstring for whatever the argument you passed to help is"
   ]
  },
  {
   "cell_type": "code",
   "execution_count": 45,
   "metadata": {},
   "outputs": [
    {
     "name": "stdout",
     "output_type": "stream",
     "text": [
      "Help on function sum_of_squares in module __main__:\n",
      "\n",
      "sum_of_squares(num1, num2)\n",
      "    Return the sum of the squares of the two inputs.\n",
      "\n"
     ]
    }
   ],
   "source": [
    "help(sum_of_squares)"
   ]
  }
 ],
 "metadata": {
  "anaconda-cloud": {},
  "kernelspec": {
   "display_name": "Python 3",
   "language": "python",
   "name": "python3"
  },
  "language_info": {
   "codemirror_mode": {
    "name": "ipython",
    "version": 3
   },
   "file_extension": ".py",
   "mimetype": "text/x-python",
   "name": "python",
   "nbconvert_exporter": "python",
   "pygments_lexer": "ipython3",
   "version": "3.6.7"
  },
  "latex_envs": {
   "LaTeX_envs_menu_present": true,
   "autocomplete": true,
   "bibliofile": "biblio.bib",
   "cite_by": "apalike",
   "current_citInitial": 1,
   "eqLabelWithNumbers": true,
   "eqNumInitial": 1,
   "hotkeys": {
    "equation": "Ctrl-E",
    "itemize": "Ctrl-I"
   },
   "labels_anchors": false,
   "latex_user_defs": false,
   "report_style_numbering": false,
   "user_envs_cfg": false
  }
 },
 "nbformat": 4,
 "nbformat_minor": 1
}
