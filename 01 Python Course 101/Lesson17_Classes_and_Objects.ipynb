{
 "cells": [
  {
   "cell_type": "markdown",
   "metadata": {},
   "source": [
    "# Lesson 17: Classes and Objects\n",
    "\n",
    "- **Introduction**\n",
    "- **From Simple Data Structures to Classes**\n",
    "- **Understanding Attribute Access**\n",
    "- **Inheritance**"
   ]
  },
  {
   "cell_type": "markdown",
   "metadata": {},
   "source": [
    "<h1 style=\"font-size:1.5em; font-family: verdana, Geneva, sans-serif; color:#00A0B2\">\n",
    "Everything is an Object</h1>\n",
    "\n",
    "In Python, everything is an object. Strings are objects, lists are objects, integers are objects, functions are objects. <em style=\"color:blue\">Classes</em> are the mechanism used to create objects. Python includes two built-in functions that help identify the class of an object:\n",
    "- `type(obj)` - returns the object's type, which is essentially a synonym for class.\n",
    "- `isinstance(obj, class_type)` - returns `True` if `obj` is an instance of `class_type`. Otherwise, returns `False`."
   ]
  },
  {
   "cell_type": "code",
   "execution_count": null,
   "metadata": {
    "scrolled": false
   },
   "outputs": [],
   "source": [
    "type('Hello')"
   ]
  },
  {
   "cell_type": "code",
   "execution_count": null,
   "metadata": {},
   "outputs": [],
   "source": [
    "isinstance('Hello', str)"
   ]
  },
  {
   "cell_type": "code",
   "execution_count": null,
   "metadata": {},
   "outputs": [],
   "source": [
    "type(1)"
   ]
  },
  {
   "cell_type": "code",
   "execution_count": null,
   "metadata": {},
   "outputs": [],
   "source": [
    "isinstance(1,int)"
   ]
  },
  {
   "cell_type": "code",
   "execution_count": null,
   "metadata": {},
   "outputs": [],
   "source": [
    "type(['a','b','c'])"
   ]
  },
  {
   "cell_type": "code",
   "execution_count": null,
   "metadata": {},
   "outputs": [],
   "source": [
    "isinstance(['a','b','c'], list)"
   ]
  },
  {
   "cell_type": "code",
   "execution_count": null,
   "metadata": {},
   "outputs": [],
   "source": [
    "type((1,2,3))"
   ]
  },
  {
   "cell_type": "code",
   "execution_count": null,
   "metadata": {},
   "outputs": [],
   "source": [
    "isinstance((1,2,3), tuple)"
   ]
  },
  {
   "cell_type": "code",
   "execution_count": null,
   "metadata": {},
   "outputs": [],
   "source": [
    "type({'a':1, 'b':2})"
   ]
  },
  {
   "cell_type": "code",
   "execution_count": null,
   "metadata": {},
   "outputs": [],
   "source": [
    "isinstance({'a':1, 'b':2}, dict)"
   ]
  },
  {
   "cell_type": "markdown",
   "metadata": {},
   "source": [
    "<h1 style=\"font-size:1.5em; font-family: verdana, Geneva, sans-serif; color:#00A0B2\">\n",
    "From Simple Data Structures to Classes</h1>\n",
    "\n",
    "Object-oriented programming is a fundamental part of the Python language. You see this whenever you use its built-in types and execute methods on the resulting instances. For example:\n",
    "```python\n",
    "    'Hello'.upper()\n",
    "```\n",
    "\n",
    "If you want to make your own objects, you can do so using the `class` statement. **A class is often a convenient way to define a data structure and to attach methods that carry out operations on the data.**\n",
    "\n",
    "In this section, we look at the basics of defining a new object, creating instances,\n",
    "and manipulating objects.\n",
    "\n",
    "First, let's review the use of dictionaries for storing data."
   ]
  },
  {
   "cell_type": "code",
   "execution_count": null,
   "metadata": {},
   "outputs": [],
   "source": [
    "holding = {'name': 'AA', 'date': '2007-06-11', 'shares': 100, 'price': 32.2}"
   ]
  },
  {
   "cell_type": "markdown",
   "metadata": {},
   "source": [
    "You could access the data by using dictionary lookups."
   ]
  },
  {
   "cell_type": "code",
   "execution_count": null,
   "metadata": {},
   "outputs": [],
   "source": [
    "holding['name']"
   ]
  },
  {
   "cell_type": "code",
   "execution_count": null,
   "metadata": {},
   "outputs": [],
   "source": [
    "holding['shares']"
   ]
  },
  {
   "cell_type": "markdown",
   "metadata": {},
   "source": [
    "You can write a function on that."
   ]
  },
  {
   "cell_type": "code",
   "execution_count": null,
   "metadata": {},
   "outputs": [],
   "source": [
    "def cost(holding):\n",
    "     return holding['shares'] * holding['price']"
   ]
  },
  {
   "cell_type": "code",
   "execution_count": null,
   "metadata": {},
   "outputs": [],
   "source": [
    "cost(holding)"
   ]
  },
  {
   "cell_type": "markdown",
   "metadata": {},
   "source": [
    "An alternative way to approach this is to define a class definition instead of using dictionary.\n",
    "\n",
    "So if you want to make a new object in Python, what you do is you use the `class` statement. "
   ]
  },
  {
   "cell_type": "code",
   "execution_count": null,
   "metadata": {},
   "outputs": [],
   "source": [
    "class Holding:\n",
    "    def __init__(self, name, date, shares, price):\n",
    "        self.name = name\n",
    "        self.date = date\n",
    "        self.shares = shares\n",
    "        self.price = price\n",
    "        \n",
    "    def cost(self):\n",
    "        return self.shares * self.price        "
   ]
  },
  {
   "cell_type": "markdown",
   "metadata": {},
   "source": [
    "What we have actually done here is we have defined a simple data structure that we can use in Python."
   ]
  },
  {
   "cell_type": "code",
   "execution_count": null,
   "metadata": {},
   "outputs": [],
   "source": [
    "h = Holding('AA', '2007-06-11', 100, 32.2)  # make an instance of a Holding"
   ]
  },
  {
   "cell_type": "code",
   "execution_count": null,
   "metadata": {},
   "outputs": [],
   "source": [
    "h"
   ]
  },
  {
   "cell_type": "code",
   "execution_count": null,
   "metadata": {},
   "outputs": [],
   "source": [
    "type(h)"
   ]
  },
  {
   "cell_type": "code",
   "execution_count": null,
   "metadata": {},
   "outputs": [],
   "source": [
    "isinstance(h, Holding)"
   ]
  },
  {
   "cell_type": "code",
   "execution_count": null,
   "metadata": {},
   "outputs": [],
   "source": [
    "h.cost()"
   ]
  },
  {
   "cell_type": "markdown",
   "metadata": {},
   "source": [
    "- The name of a class is serves as a function that you use to make what are known as <em style=\"color:blue\">instances</em>. So we've created an object by doing that. \n",
    "- The arguments to this call are the inputs to the method `init` method. \n",
    "- And the purpose of the `init` is to save the data. What happens is the `self` argument is like a newly created empty object and what we're doing is saving information on the objects. \n",
    "    - So what's going to happen is this `h` will actually have those attributes. It will store thing like the name, shares, the price, and the date. \n",
    "- As far as the other functions that you put in a class, these are operations that just get carried out on the data. \n",
    "    - It turns out that this `h` will have a `cost` operation that we can invoke that will compute the shares times the price. \n",
    "    - When we do `h.cost()`, Python looks at the `h`, whatever that `h` is is actually passed as the `self` argument to the cost. \n",
    "- So it turns out that every method that you write in Python on a class, always has the additional `self` argument on the front. Kind of refers to the data that you're working with.\n",
    "\n",
    "Let's add the `sell` method for selling shares to the class `Holding`."
   ]
  },
  {
   "cell_type": "code",
   "execution_count": null,
   "metadata": {},
   "outputs": [],
   "source": [
    "class Holding:\n",
    "    def __init__(self, name, date, shares, price):\n",
    "        self.name = name\n",
    "        self.date = date\n",
    "        self.shares = shares\n",
    "        self.price = price\n",
    "        \n",
    "    def cost(self):\n",
    "        return self.shares * self.price \n",
    "    \n",
    "    def sell(self, nshares):\n",
    "        self.shares -= nshares"
   ]
  },
  {
   "cell_type": "code",
   "execution_count": null,
   "metadata": {},
   "outputs": [],
   "source": [
    "h = Holding('AA', '2007-06-11', 100, 32.2)"
   ]
  },
  {
   "cell_type": "code",
   "execution_count": null,
   "metadata": {},
   "outputs": [],
   "source": [
    "h.shares"
   ]
  },
  {
   "cell_type": "code",
   "execution_count": null,
   "metadata": {},
   "outputs": [],
   "source": [
    "h.sell(25)"
   ]
  },
  {
   "cell_type": "code",
   "execution_count": null,
   "metadata": {
    "scrolled": true
   },
   "outputs": [],
   "source": [
    "h.shares"
   ]
  },
  {
   "cell_type": "markdown",
   "metadata": {},
   "source": [
    "**A class is a collection of functions and the functions serve as methods that you access through the dot operation.**\n",
    "\n",
    "One of the things that is really important to emphasize is if you define a class, you can start carrying out calculations the same way that you would with things like dictionaries. "
   ]
  },
  {
   "cell_type": "code",
   "execution_count": null,
   "metadata": {},
   "outputs": [],
   "source": [
    "%load my_files/portfolio.csv"
   ]
  },
  {
   "cell_type": "code",
   "execution_count": null,
   "metadata": {},
   "outputs": [],
   "source": [
    "# Use a dictionary to store data \n",
    "\n",
    "import csv\n",
    "\n",
    "total = 0.0\n",
    "with open('my_files/portfolio.csv', 'r') as f:\n",
    "    reader = csv.reader(f)\n",
    "    headers = next(reader)      # Skip the header row\n",
    "    \n",
    "    for row in reader:\n",
    "#       print(row)\n",
    "        row[2] = int(row[2])\n",
    "        row[3] = float(row[3])\n",
    "        total += row[2] * row[3]\n",
    "        \n",
    "print('Total cost:', total)"
   ]
  },
  {
   "cell_type": "code",
   "execution_count": null,
   "metadata": {},
   "outputs": [],
   "source": [
    "# Use Holding class \n",
    "\n",
    "import csv\n",
    "\n",
    "total = 0.0\n",
    "with open('my_files/portfolio.csv', 'r') as f:\n",
    "    reader = csv.reader(f)\n",
    "    headers = next(reader)      # Skip the header row\n",
    "    \n",
    "    for row in reader:\n",
    "#       print(row)\n",
    "        h = Holding(row[0], row[1], int(row[2]), float(row[3]))\n",
    "        total += h.shares * h.price\n",
    "        \n",
    "print('Total cost:', total)"
   ]
  },
  {
   "cell_type": "markdown",
   "metadata": {},
   "source": [
    "You can do the same kinds of calculations. You can do things like list comprehension."
   ]
  },
  {
   "cell_type": "code",
   "execution_count": null,
   "metadata": {},
   "outputs": [],
   "source": [
    "import csv\n",
    "\n",
    "portfolio = []\n",
    "total = 0.0\n",
    "with open('my_files/portfolio.csv', 'r') as f:\n",
    "    reader = csv.reader(f)\n",
    "    headers = next(reader)      # Skip the header row\n",
    "    \n",
    "    for row in reader:\n",
    "#       print(row)\n",
    "        h = Holding(row[0], row[1], int(row[2]), float(row[3]))\n",
    "        portfolio.append(h)\n",
    "        \n",
    "print(portfolio)"
   ]
  },
  {
   "cell_type": "code",
   "execution_count": null,
   "metadata": {},
   "outputs": [],
   "source": [
    "names = [holding.name for holding in portfolio]"
   ]
  },
  {
   "cell_type": "code",
   "execution_count": null,
   "metadata": {},
   "outputs": [],
   "source": [
    "names"
   ]
  },
  {
   "cell_type": "code",
   "execution_count": null,
   "metadata": {},
   "outputs": [],
   "source": [
    "total = sum([holding.shares * holding.price for holding in portfolio])"
   ]
  },
  {
   "cell_type": "code",
   "execution_count": null,
   "metadata": {},
   "outputs": [],
   "source": [
    "total"
   ]
  },
  {
   "cell_type": "markdown",
   "metadata": {},
   "source": [
    "Pretty much everything works th same way as it did before, it's just that now you are using the dot."
   ]
  },
  {
   "cell_type": "markdown",
   "metadata": {},
   "source": [
    "<h1 style=\"font-size:1.5em; font-family: verdana, Geneva, sans-serif; color:#00A0B2\">\n",
    "Understanding Attribute Access</h1>\n",
    "\n",
    "Three core operations of the Python object system:\n",
    "1. You can look up an attribute, this is the `get` operation.\n",
    "2. You can also set an attributes like you can change a value.\n",
    "3. You can delete an attribute."
   ]
  },
  {
   "cell_type": "code",
   "execution_count": null,
   "metadata": {},
   "outputs": [],
   "source": [
    "h = Holding('AA', '2007-06-11', 100, 32.2)"
   ]
  },
  {
   "cell_type": "code",
   "execution_count": null,
   "metadata": {
    "scrolled": true
   },
   "outputs": [],
   "source": [
    "h"
   ]
  },
  {
   "cell_type": "code",
   "execution_count": null,
   "metadata": {},
   "outputs": [],
   "source": [
    "h.name   # get attribue"
   ]
  },
  {
   "cell_type": "code",
   "execution_count": null,
   "metadata": {},
   "outputs": [],
   "source": [
    "h.shares = 50   # set attribute"
   ]
  },
  {
   "cell_type": "code",
   "execution_count": null,
   "metadata": {
    "scrolled": true
   },
   "outputs": [],
   "source": [
    "h.shares"
   ]
  },
  {
   "cell_type": "code",
   "execution_count": null,
   "metadata": {},
   "outputs": [],
   "source": [
    "del h.shares    # delete attribute"
   ]
  },
  {
   "cell_type": "code",
   "execution_count": null,
   "metadata": {},
   "outputs": [],
   "source": [
    "h.shares"
   ]
  },
  {
   "cell_type": "code",
   "execution_count": null,
   "metadata": {},
   "outputs": [],
   "source": [
    "h.shares = 45"
   ]
  },
  {
   "cell_type": "code",
   "execution_count": null,
   "metadata": {},
   "outputs": [],
   "source": [
    "h.shares"
   ]
  },
  {
   "cell_type": "markdown",
   "metadata": {},
   "source": [
    "You can actually set attributes that don't even exist yet."
   ]
  },
  {
   "cell_type": "code",
   "execution_count": null,
   "metadata": {},
   "outputs": [],
   "source": [
    "h.time"
   ]
  },
  {
   "cell_type": "code",
   "execution_count": null,
   "metadata": {},
   "outputs": [],
   "source": [
    "h.time = '10:30am'"
   ]
  },
  {
   "cell_type": "markdown",
   "metadata": {},
   "source": [
    "That leads to some very interesting problems. For example, if you make a spelling mistake like `h.share = 87`, now the object has both attributes `shares` and `share`.\n",
    "\n",
    "Methods are layered on top of this `get`, `set`, `delete` machinery."
   ]
  },
  {
   "cell_type": "code",
   "execution_count": null,
   "metadata": {},
   "outputs": [],
   "source": [
    "(h.cost)()   # (1) the lookup of the cost, (2) the function call"
   ]
  },
  {
   "cell_type": "code",
   "execution_count": null,
   "metadata": {},
   "outputs": [],
   "source": [
    "c = h.cost"
   ]
  },
  {
   "cell_type": "code",
   "execution_count": null,
   "metadata": {},
   "outputs": [],
   "source": [
    "c"
   ]
  },
  {
   "cell_type": "code",
   "execution_count": null,
   "metadata": {
    "scrolled": true
   },
   "outputs": [],
   "source": [
    "c()"
   ]
  },
  {
   "cell_type": "code",
   "execution_count": null,
   "metadata": {},
   "outputs": [],
   "source": [
    "s = h.sell"
   ]
  },
  {
   "cell_type": "code",
   "execution_count": null,
   "metadata": {},
   "outputs": [],
   "source": [
    "s"
   ]
  },
  {
   "cell_type": "code",
   "execution_count": null,
   "metadata": {},
   "outputs": [],
   "source": [
    "h.shares"
   ]
  },
  {
   "cell_type": "code",
   "execution_count": null,
   "metadata": {},
   "outputs": [],
   "source": [
    "s(10)"
   ]
  },
  {
   "cell_type": "code",
   "execution_count": null,
   "metadata": {},
   "outputs": [],
   "source": [
    "h.shares"
   ]
  },
  {
   "cell_type": "markdown",
   "metadata": {},
   "source": [
    "Missing parantheses `()` on the method can lead to some subtle behavior. "
   ]
  },
  {
   "cell_type": "code",
   "execution_count": null,
   "metadata": {
    "scrolled": true
   },
   "outputs": [],
   "source": [
    "print('{:<10} {:<10} {:<10.2f}'.format(h.name, h.shares, h.cost()))"
   ]
  },
  {
   "cell_type": "code",
   "execution_count": null,
   "metadata": {
    "scrolled": true
   },
   "outputs": [],
   "source": [
    "print('{:<10} {:<10} {:<10.2f}'.format(h.name, h.shares, h.cost))"
   ]
  },
  {
   "cell_type": "markdown",
   "metadata": {},
   "source": [
    "Another way to `get` and `set` attributes: "
   ]
  },
  {
   "cell_type": "code",
   "execution_count": null,
   "metadata": {},
   "outputs": [],
   "source": [
    "getattr(h, 'name')   # h.name"
   ]
  },
  {
   "cell_type": "code",
   "execution_count": null,
   "metadata": {},
   "outputs": [],
   "source": [
    "setattr(h, 'shares', 50)   # h.shares = 50"
   ]
  },
  {
   "cell_type": "code",
   "execution_count": null,
   "metadata": {},
   "outputs": [],
   "source": [
    "h.shares"
   ]
  },
  {
   "cell_type": "code",
   "execution_count": null,
   "metadata": {
    "scrolled": true
   },
   "outputs": [],
   "source": [
    "output_columns = ['name', 'shares', 'price']\n",
    "for colname in output_columns:\n",
    "    print(colname, '=', getattr(h, colname))"
   ]
  },
  {
   "cell_type": "markdown",
   "metadata": {},
   "source": [
    "<h1 style=\"font-size:1.5em; font-family: verdana, Geneva, sans-serif; color:#00A0B2\">\n",
    "Inheritance</h1>\n",
    "\n",
    "<em style=\"color:blue\">Inheritance</em> is a mechanism where you can define a new class that reuses the code from an existing class.\n",
    "\n",
    "The `str` class has lots of useful methods, however, it does not contain every possible method we might need. We will create a new class that customizes class `str`. Our class will have all the `str` methods, plus a new method that checks whether a string begins and ends with the same letter.\n",
    "\n",
    "We start our class definition with `class WordplayStr(str)`. In this case, `WordplayStr` is the name of our new class, and the `(str)` indicates that our new class is based on the `str` class. `WordplayStr` is a subclass of `str`, which means that `WordplayStr` inherits all of the methods from `str`. Here is the completed class definition:"
   ]
  },
  {
   "cell_type": "code",
   "execution_count": null,
   "metadata": {},
   "outputs": [],
   "source": [
    "class WordplayStr(str):\n",
    "    '''A string that can report whether it has interesting properties.'''\n",
    "    \n",
    "    def same_start_and_end(self):\n",
    "        '''Return whether self starts and ends with the same letter.'''\n",
    "        return self[0] == self[-1]"
   ]
  },
  {
   "cell_type": "code",
   "execution_count": null,
   "metadata": {},
   "outputs": [],
   "source": [
    "s = WordplayStr('abracadabra')\n",
    "s.same_start_and_end()"
   ]
  },
  {
   "cell_type": "code",
   "execution_count": null,
   "metadata": {},
   "outputs": [],
   "source": [
    "s = WordplayStr('canoe')\n",
    "s.same_start_and_end()"
   ]
  },
  {
   "cell_type": "code",
   "execution_count": null,
   "metadata": {},
   "outputs": [],
   "source": [
    "s = WordplayStr('canoe')\n",
    "s.upper()"
   ]
  },
  {
   "cell_type": "code",
   "execution_count": null,
   "metadata": {
    "scrolled": true
   },
   "outputs": [],
   "source": [
    "s = WordplayStr('canoe')\n",
    "s.capitalize()"
   ]
  },
  {
   "cell_type": "markdown",
   "metadata": {},
   "source": [
    "Python has a class called `object`. Every other class is based on it. In other words, every class in Python is derived from class `object`, and so every instance of every class is an `object`.\n",
    "\n",
    "Using object-oriented lingo, we say that class `object` is the superclass of class `str`, and class `str` is a subclass of class `object`. In the same way, class `object` is the superclass of class `Holding`  and class `Holding` is a subclass of class `object`. \n",
    "\n",
    "<h1 style=\"font-size:1.5em; font-family: verdana, Geneva, sans-serif; color:#B24C00\">\n",
    "Exercise</h1>\n",
    "\n",
    "1) In this exercise, you will implement class `Country`, which represents a country with a name, a population, and an area.\n"
   ]
  },
  {
   "cell_type": "code",
   "execution_count": null,
   "metadata": {},
   "outputs": [],
   "source": [
    "# define class Country\n"
   ]
  },
  {
   "cell_type": "code",
   "execution_count": null,
   "metadata": {
    "scrolled": true
   },
   "outputs": [],
   "source": [
    "# test code\n",
    "canada = Country('Canada', 34482779, 9984670) \n",
    "print(canada.name)         # Canada\n",
    "print(canada.population)   # 34482779\n",
    "print(canada.area)         # 9984670"
   ]
  },
  {
   "cell_type": "markdown",
   "metadata": {
    "collapsed": true
   },
   "source": [
    "2) In class `Country`, define a method named `is_larger` that takes two Country objects and returns `True` if and only if the first has a larger area than the second."
   ]
  },
  {
   "cell_type": "code",
   "execution_count": null,
   "metadata": {
    "scrolled": true
   },
   "outputs": [],
   "source": [
    "# define class Country\n"
   ]
  },
  {
   "cell_type": "code",
   "execution_count": null,
   "metadata": {},
   "outputs": [],
   "source": [
    "# test code\n",
    "\n",
    "canada = Country('Canada', 34482779, 9984670)\n",
    "usa = Country('United States of America', 313914040, 9826675)\n",
    "print(canada.is_larger(usa))  # True"
   ]
  },
  {
   "cell_type": "markdown",
   "metadata": {
    "collapsed": true
   },
   "source": [
    "3) In class `Country`, define a method named `population_density` that returns the population density of the country (people per square kilometer)."
   ]
  },
  {
   "cell_type": "code",
   "execution_count": null,
   "metadata": {},
   "outputs": [],
   "source": [
    "# define class Country\n"
   ]
  },
  {
   "cell_type": "code",
   "execution_count": null,
   "metadata": {},
   "outputs": [],
   "source": [
    "# test code\n",
    "canada = Country('Canada', 34482779, 9984670)\n",
    "print(canada.population_density())  # 3.4535722262227995"
   ]
  }
 ],
 "metadata": {
  "anaconda-cloud": {},
  "kernelspec": {
   "display_name": "Python 3",
   "language": "python",
   "name": "python3"
  },
  "language_info": {
   "codemirror_mode": {
    "name": "ipython",
    "version": 3
   },
   "file_extension": ".py",
   "mimetype": "text/x-python",
   "name": "python",
   "nbconvert_exporter": "python",
   "pygments_lexer": "ipython3",
   "version": "3.6.7"
  },
  "latex_envs": {
   "LaTeX_envs_menu_present": true,
   "autocomplete": true,
   "bibliofile": "biblio.bib",
   "cite_by": "apalike",
   "current_citInitial": 1,
   "eqLabelWithNumbers": true,
   "eqNumInitial": 1,
   "hotkeys": {
    "equation": "Ctrl-E",
    "itemize": "Ctrl-I"
   },
   "labels_anchors": false,
   "latex_user_defs": false,
   "report_style_numbering": false,
   "user_envs_cfg": false
  }
 },
 "nbformat": 4,
 "nbformat_minor": 1
}
