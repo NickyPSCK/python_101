{
 "cells": [
  {
   "cell_type": "markdown",
   "metadata": {},
   "source": [
    "# Lesson 18: `lambda` Functions\n",
    "\n",
    "- **What are lambda Functions?**\n",
    "- **Review Sorting**\n",
    "- **Advanced Sorting**"
   ]
  },
  {
   "cell_type": "markdown",
   "metadata": {},
   "source": [
    "<h1 style=\"font-size:1.5em; font-family: verdana, Geneva, sans-serif; color:#00A0B2\">\n",
    "What are <code style=\"color:inherit\">lambda</code> Functions?</h1>\n",
    "\n",
    "`lambda` functions offer a subset of the functionality of normal functions. However, they are important in functional programming, and worth understanding. Simple one-liner functions are prime candidates for lambda function. \n",
    "\n",
    "**The `lambda` function is used to create one line anonymous functions in Python.** Here is a statement that defines a function to multiply two numbers:"
   ]
  },
  {
   "cell_type": "code",
   "execution_count": null,
   "metadata": {},
   "outputs": [],
   "source": [
    "mul = lambda x,y: x*y"
   ]
  },
  {
   "cell_type": "markdown",
   "metadata": {},
   "source": [
    "This creates a function, `mul`, that accepts two arguments, `x` and `y`, and returns their product. Note that the arguments come before the colon and there is an implicit return of the expression on the right hand side of the colon.\n",
    "\n",
    "The lambda expression creates a new instance of a function `mul`:"
   ]
  },
  {
   "cell_type": "code",
   "execution_count": null,
   "metadata": {},
   "outputs": [],
   "source": [
    "mul"
   ]
  },
  {
   "cell_type": "markdown",
   "metadata": {},
   "source": [
    "This function is callable and can be invoked by adding parentheses to the name:"
   ]
  },
  {
   "cell_type": "code",
   "execution_count": null,
   "metadata": {},
   "outputs": [],
   "source": [
    "mul(3,4)"
   ]
  },
  {
   "cell_type": "markdown",
   "metadata": {},
   "source": [
    "This function is equivalent to the normal function, `mul2`, defined below:"
   ]
  },
  {
   "cell_type": "code",
   "execution_count": null,
   "metadata": {},
   "outputs": [],
   "source": [
    "def mul2(x, y):\n",
    "    return x*y"
   ]
  },
  {
   "cell_type": "code",
   "execution_count": null,
   "metadata": {},
   "outputs": [],
   "source": [
    "mul2"
   ]
  },
  {
   "cell_type": "code",
   "execution_count": null,
   "metadata": {},
   "outputs": [],
   "source": [
    "mul2(3,4)"
   ]
  },
  {
   "cell_type": "markdown",
   "metadata": {},
   "source": [
    "Though both functions, `mul` and `mul2`, are distinct functions, they return the same value:"
   ]
  },
  {
   "cell_type": "code",
   "execution_count": null,
   "metadata": {},
   "outputs": [],
   "source": [
    "mul(4,5) == mul2(4,5)"
   ]
  },
  {
   "cell_type": "markdown",
   "metadata": {},
   "source": [
    "The `lambda` construct supports the various parameter types that functions support. A lambda\n",
    "expression can have zero parameters:"
   ]
  },
  {
   "cell_type": "code",
   "execution_count": null,
   "metadata": {},
   "outputs": [],
   "source": [
    "one = lambda : 1"
   ]
  },
  {
   "cell_type": "code",
   "execution_count": null,
   "metadata": {},
   "outputs": [],
   "source": [
    "one()"
   ]
  },
  {
   "cell_type": "markdown",
   "metadata": {},
   "source": [
    "`lambda` expressions support keyword or default arguments as well:"
   ]
  },
  {
   "cell_type": "code",
   "execution_count": null,
   "metadata": {},
   "outputs": [],
   "source": [
    "add_n = lambda x, n=3: x + n"
   ]
  },
  {
   "cell_type": "code",
   "execution_count": null,
   "metadata": {},
   "outputs": [],
   "source": [
    "add_n(2)"
   ]
  },
  {
   "cell_type": "code",
   "execution_count": null,
   "metadata": {},
   "outputs": [],
   "source": [
    "add_n(1, 4)"
   ]
  },
  {
   "cell_type": "markdown",
   "metadata": {},
   "source": [
    "**The biggest drawback to lambda expressions is that they only support a single expression in their body.** "
   ]
  },
  {
   "cell_type": "markdown",
   "metadata": {},
   "source": [
    "The Python Language Reference explains that a simple `lambda` expression:\n",
    "\n",
    "```python\n",
    "lambda arguments: expression\n",
    "```\n",
    "\n",
    "is equivalent to:\n",
    "\n",
    "```python\n",
    "def name(arguments):\n",
    "    return expression\n",
    "```\n",
    "\n",
    "Code that would belong in expression in the function above would work in a `lambda` expression.\n",
    "\n",
    "One common use of `lambda` functions is to determine the sort order of sequences. \n",
    "\n",
    "<h1 style=\"font-size:1.5em; font-family: verdana, Geneva, sans-serif; color:#00A0B2\">\n",
    "Review Sorting</h1>"
   ]
  },
  {
   "cell_type": "code",
   "execution_count": null,
   "metadata": {},
   "outputs": [],
   "source": [
    "# easily create a list of numbers\n",
    "data = list(range(10))\n",
    "print(\"range data:\", data)"
   ]
  },
  {
   "cell_type": "code",
   "execution_count": null,
   "metadata": {},
   "outputs": [],
   "source": [
    "import random\n",
    "\n",
    "# randomly shuffle those numbers\n",
    "random.shuffle(data)\n",
    "print(\"shuffled data:\", data)"
   ]
  },
  {
   "cell_type": "code",
   "execution_count": null,
   "metadata": {},
   "outputs": [],
   "source": [
    "# sort the list of numbers\n",
    "data.sort()\n",
    "print(\"sorted data:\", data)"
   ]
  },
  {
   "cell_type": "code",
   "execution_count": null,
   "metadata": {},
   "outputs": [],
   "source": [
    "# shuffle it again\n",
    "random.shuffle(data)\n",
    "print(\"shuffled data:\", data)"
   ]
  },
  {
   "cell_type": "code",
   "execution_count": null,
   "metadata": {},
   "outputs": [],
   "source": [
    "# use sorted to sort the list\n",
    "newdata = sorted(data)\n",
    "print(\"data after sorted:\", data)\n",
    "print(\"returned from sorted:\", newdata)"
   ]
  },
  {
   "cell_type": "code",
   "execution_count": null,
   "metadata": {},
   "outputs": [],
   "source": [
    "# convert to a tuple\n",
    "datatup = tuple(data)\n",
    "print(\"data tuple:\", datatup)"
   ]
  },
  {
   "cell_type": "code",
   "execution_count": null,
   "metadata": {},
   "outputs": [],
   "source": [
    "# sort the tuple of numbers\n",
    "datatup.sort()\n",
    "print(\"tuple after sort:\", datatup)"
   ]
  },
  {
   "cell_type": "code",
   "execution_count": null,
   "metadata": {},
   "outputs": [],
   "source": [
    "# use sorted to sort the tuple\n",
    "newdatatup = sorted(datatup)\n",
    "print(\"returned from sorted:\", newdatatup)"
   ]
  },
  {
   "cell_type": "code",
   "execution_count": null,
   "metadata": {},
   "outputs": [],
   "source": [
    "# create a dictionary of squares (dictionary comprehension)\n",
    "datamap = {key: key ** 2 for key in datatup}\n",
    "print(\"data dictionary:\", datamap)"
   ]
  },
  {
   "cell_type": "code",
   "execution_count": null,
   "metadata": {},
   "outputs": [],
   "source": [
    "# use sorted to sort the dictionary\n",
    "sortmap = sorted(datamap)\n",
    "print(\"returned from sorted:\", sortmap)"
   ]
  },
  {
   "cell_type": "markdown",
   "metadata": {},
   "source": [
    "<h1 style=\"font-size:1.5em; font-family: verdana, Geneva, sans-serif; color:#00A0B2\">\n",
    "Advanced Sorting</h1>"
   ]
  },
  {
   "cell_type": "code",
   "execution_count": null,
   "metadata": {},
   "outputs": [],
   "source": [
    "import random\n",
    "\n",
    "# easily create a shuffled list of numbers\n",
    "data = list(range(10))\n",
    "random.shuffle(data)\n",
    "print(\"shuffled data:\", data)"
   ]
  },
  {
   "cell_type": "code",
   "execution_count": null,
   "metadata": {},
   "outputs": [],
   "source": [
    "# sort the list of numbers\n",
    "data.sort()\n",
    "print(\"ascending sort:\", data)"
   ]
  },
  {
   "cell_type": "code",
   "execution_count": null,
   "metadata": {
    "scrolled": true
   },
   "outputs": [],
   "source": [
    "data.sort(reverse=True)\n",
    "print(\"descending sort:\", data)"
   ]
  },
  {
   "cell_type": "code",
   "execution_count": null,
   "metadata": {},
   "outputs": [],
   "source": [
    "# create a list of tuples\n",
    "datatups = [(item, random.randrange(3, 15)) for item in data]\n",
    "print(\"data tuples:\", datatups)"
   ]
  },
  {
   "cell_type": "code",
   "execution_count": null,
   "metadata": {},
   "outputs": [],
   "source": [
    "# sort the list\n",
    "datatups.sort()\n",
    "print(\"sorted data tuples:\", datatups)"
   ]
  },
  {
   "cell_type": "code",
   "execution_count": null,
   "metadata": {},
   "outputs": [],
   "source": [
    "datatups.sort(key=lambda pair: pair[1])\n",
    "print(\"sorted by second item:\", datatups)"
   ]
  },
  {
   "cell_type": "code",
   "execution_count": null,
   "metadata": {},
   "outputs": [],
   "source": [
    "datatups.sort(key=lambda pair: pair[0] * pair[1], reverse=True)\n",
    "print(\"sorted by product:\", datatups)"
   ]
  },
  {
   "cell_type": "code",
   "execution_count": null,
   "metadata": {},
   "outputs": [],
   "source": [
    "# shuffle it again\n",
    "random.shuffle(datatups)\n",
    "print(\"shuffled tuples:\", datatups)"
   ]
  },
  {
   "cell_type": "code",
   "execution_count": null,
   "metadata": {},
   "outputs": [],
   "source": [
    "# use sorted to sort the list\n",
    "newdata = sorted(datatups, key=lambda pair: pair[1], reverse=True)\n",
    "print(\"tuples after sorted:\", datatups)\n",
    "print(\"returned from sorted:\", newdata)"
   ]
  }
 ],
 "metadata": {
  "anaconda-cloud": {},
  "kernelspec": {
   "display_name": "Python 3",
   "language": "python",
   "name": "python3"
  },
  "language_info": {
   "codemirror_mode": {
    "name": "ipython",
    "version": 3
   },
   "file_extension": ".py",
   "mimetype": "text/x-python",
   "name": "python",
   "nbconvert_exporter": "python",
   "pygments_lexer": "ipython3",
   "version": "3.6.7"
  },
  "latex_envs": {
   "LaTeX_envs_menu_present": true,
   "autocomplete": true,
   "bibliofile": "biblio.bib",
   "cite_by": "apalike",
   "current_citInitial": 1,
   "eqLabelWithNumbers": true,
   "eqNumInitial": 1,
   "hotkeys": {
    "equation": "Ctrl-E",
    "itemize": "Ctrl-I"
   },
   "labels_anchors": false,
   "latex_user_defs": false,
   "report_style_numbering": false,
   "user_envs_cfg": false
  }
 },
 "nbformat": 4,
 "nbformat_minor": 1
}
