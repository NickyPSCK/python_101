{
 "cells": [
  {
   "cell_type": "markdown",
   "metadata": {
    "slideshow": {
     "slide_type": "slide"
    }
   },
   "source": [
    "# Lesson 1: Python Basics, Part 1\n",
    "\n",
    "- **Python as a Calculator**\n",
    "- **Comments**  \n",
    "- **Numeric Data Types**\n",
    "- **String Data Type**\n",
    "- **Notes on Numeric and String Data Types**\n",
    "- Variables \n",
    "- Types and Objects\n",
    "- Errors\n",
    "- Built-in Classes: `int`, `float`, `str`\n",
    "- Print out Multiple Items\n",
    "- Getting User Input\n",
    "- Formatting User Input\n",
    "- Formatting Strings\n",
    "- F-Strings"
   ]
  },
  {
   "cell_type": "markdown",
   "metadata": {},
   "source": [
    "<h4 style=\"font-size:2.2em; font-family: verdana, Geneva, sans-serif; color:#00A0B2\">\n",
    "Python as a Calculator</h4>\n",
    "\n",
    "Using the following code to write the sum of 7 and 3 on the screen: \n",
    "```python\n",
    "print(7 + 3)\n",
    "```  "
   ]
  },
  {
   "cell_type": "code",
   "execution_count": null,
   "metadata": {},
   "outputs": [],
   "source": []
  },
  {
   "cell_type": "markdown",
   "metadata": {},
   "source": [
    "#### `print()`\n",
    "\n",
    "`print` is a function. One way to think of a function is as a **black box** that performs a series of operations.\n",
    "\n",
    "Python has numerous built-in functions that perform various operations. Perhaps the most fundamental built-in function is the `print` function, which displays output on the screen. "
   ]
  },
  {
   "cell_type": "markdown",
   "metadata": {},
   "source": [
    "<h4 style=\"font-size:2.2em; font-family: verdana, Geneva, sans-serif; color:#00A0B2\">\n",
    "Comment</h4>\n",
    "\n",
    "When coding, programmers include comments for explanation of how code works for reminders and to help others who encounter the code\n",
    "\n",
    "Comment start with the <strong style=\"color:blue; font-family: verdana, Geneva, sans-serif\">#</strong> symbol"
   ]
  },
  {
   "cell_type": "code",
   "execution_count": null,
   "metadata": {},
   "outputs": [],
   "source": [
    "# Adding two numbers\n",
    "print(7 + 3)     # run this cell using Ctrl+Enter\""
   ]
  },
  {
   "cell_type": "markdown",
   "metadata": {
    "collapsed": true,
    "slideshow": {
     "slide_type": "slide"
    }
   },
   "source": [
    "<h4 style=\"font-size:2.2em; font-family: verdana, Geneva, sans-serif; color:#00A0B2\">\n",
    "Numeric Data Types</h4>\n",
    "\n",
    "\n",
    "### Two of Python's numeric types:\n",
    "\n",
    "- **integer**  \n",
    "    - For example: 3, 4, 894, 0, -3, -18  \n",
    "- **floating point number** (an approximation to a real number)\n",
    "    - For example: 5.6, 7.342, 53452.0, 0.0, -89.34, -9.5"
   ]
  },
  {
   "cell_type": "markdown",
   "metadata": {},
   "source": [
    "### Arithmetic operators \n",
    "            \n",
    "| Operator | Operation         | Expression | English Description | Result |\n",
    "|----------|-------------------|------------|---------------------|--------|\n",
    "|  +       | addition          | 11 + 56    | 11 plus 56          | 67     |\n",
    "|  -       | subtraction       | 23 - 52    | 23 minus 5          | -29    |\n",
    "|  *       | multiplication    | 4 * 5      | 4 multiplied by 5   | 20     |\n",
    "|  **      | exponentiation    | 2 ** 5     | 2 to the power of 5 |\t32     |\n",
    "|  /       | division\t       | 9 / 2      | 9 divided by 2      |\t4.5    |\n",
    "|  //      | integer division  | 9 // 2     | 9 divided by 2      |\t4      |\n",
    "|  %       | modulo (remainder)| 9 % 2      | 9 mod 2             |\t1      |"
   ]
  },
  {
   "cell_type": "markdown",
   "metadata": {},
   "source": [
    "### Arithmetic operator precedence\n",
    "            \n",
    "When multiple operators are combined in a single expression, the operations are evaluated in order of precedence.\n",
    "\n",
    "| Operator     | Description |\n",
    "|--------------|-------------|\n",
    "| ( )          | Parentheses|\n",
    "| **           | Exponentiation| \n",
    "| *, /, //, %  | Multiplication, division, integer division, modulo|\n",
    "| +, -         | Addition, subtraction|\n",
    "\n",
    "The parentheses can be used to group code to achieve the precedence you want."
   ]
  },
  {
   "cell_type": "markdown",
   "metadata": {},
   "source": [
    "### Built-in arithmetic functions\n",
    "            \n",
    "- `abs()`\n",
    "- `round()`\n",
    "- `min()`\n",
    "- `max()`"
   ]
  },
  {
   "cell_type": "code",
   "execution_count": null,
   "metadata": {
    "scrolled": true
   },
   "outputs": [],
   "source": [
    "abs(-9)"
   ]
  },
  {
   "cell_type": "code",
   "execution_count": null,
   "metadata": {},
   "outputs": [],
   "source": [
    "abs(3.3)"
   ]
  },
  {
   "cell_type": "code",
   "execution_count": null,
   "metadata": {},
   "outputs": [],
   "source": [
    "round(3.8)"
   ]
  },
  {
   "cell_type": "code",
   "execution_count": null,
   "metadata": {
    "scrolled": true
   },
   "outputs": [],
   "source": [
    "round(3.3)"
   ]
  },
  {
   "cell_type": "code",
   "execution_count": null,
   "metadata": {
    "scrolled": true
   },
   "outputs": [],
   "source": [
    "round(3.5)"
   ]
  },
  {
   "cell_type": "code",
   "execution_count": null,
   "metadata": {},
   "outputs": [],
   "source": [
    "round(3.141592653, 2)"
   ]
  },
  {
   "cell_type": "code",
   "execution_count": null,
   "metadata": {},
   "outputs": [],
   "source": [
    "min(2, 3, 4)"
   ]
  },
  {
   "cell_type": "code",
   "execution_count": null,
   "metadata": {
    "scrolled": true
   },
   "outputs": [],
   "source": [
    "max(2, -3, 4, 7, -5)"
   ]
  },
  {
   "cell_type": "markdown",
   "metadata": {},
   "source": [
    "<h4 style=\"font-size:2.2em; font-family: verdana, Geneva, sans-serif; color:#B24C00\">\n",
    "Exercise</h4>"
   ]
  },
  {
   "cell_type": "markdown",
   "metadata": {},
   "source": [
    "**1) Use math operators to solve the set of tasks below**"
   ]
  },
  {
   "cell_type": "code",
   "execution_count": null,
   "metadata": {},
   "outputs": [],
   "source": [
    "# print the result of dividing 138 by 6\n"
   ]
  },
  {
   "cell_type": "code",
   "execution_count": null,
   "metadata": {},
   "outputs": [],
   "source": [
    "# print the result of adding 27 and 39 and then subtracting 44\n"
   ]
  },
  {
   "cell_type": "code",
   "execution_count": null,
   "metadata": {},
   "outputs": [],
   "source": [
    "# print the result of adding 19 and 6 and then multiplying that sum by 4\n"
   ]
  },
  {
   "cell_type": "markdown",
   "metadata": {},
   "source": [
    "\n",
    "\n",
    "**2) For each of the following expressions, in which order are the subexpressions evaluated**"
   ]
  },
  {
   "cell_type": "code",
   "execution_count": null,
   "metadata": {},
   "outputs": [],
   "source": [
    "# Order:\n",
    "6 * 3 + 7 * 4\n"
   ]
  },
  {
   "cell_type": "code",
   "execution_count": null,
   "metadata": {},
   "outputs": [],
   "source": [
    "# Order: \n",
    "5 + 3 / 4\n"
   ]
  },
  {
   "cell_type": "code",
   "execution_count": null,
   "metadata": {},
   "outputs": [],
   "source": [
    "# Order:\n",
    "5 - 2 * 3 ** 4\n"
   ]
  },
  {
   "cell_type": "markdown",
   "metadata": {},
   "source": [
    "\n",
    "\n",
    "**3) Correct the following expressions**"
   ]
  },
  {
   "cell_type": "code",
   "execution_count": null,
   "metadata": {},
   "outputs": [],
   "source": [
    "# Correct the following expression so the answer is 10\n",
    "4 + 16 / 2\n"
   ]
  },
  {
   "cell_type": "code",
   "execution_count": null,
   "metadata": {},
   "outputs": [],
   "source": [
    "# Correct the following expression so the answer is 250; review the operator precedence table and use only one () pair\n",
    "2 * 3 + 2 ** 3\n"
   ]
  },
  {
   "cell_type": "markdown",
   "metadata": {},
   "source": [
    "<h4 style=\"font-size:2.2em; font-family: verdana, Geneva, sans-serif; color:#00A0B2\">\n",
    "String Data Type</h4>\n",
    "\n",
    "Use the following code to write **Hello World** on the screen: \n",
    "```python\n",
    "print('Hello World')\n",
    "```  \n",
    "\n",
    "This is the traditional first program when learning a new language in computer science"
   ]
  },
  {
   "cell_type": "code",
   "execution_count": null,
   "metadata": {},
   "outputs": [],
   "source": []
  },
  {
   "cell_type": "markdown",
   "metadata": {},
   "source": [
    "\n",
    "### String\n",
    "\n",
    "In python, text such as \"Hello World\" is represented as a **string**, which is a sequence of characters. \n",
    "\n",
    "- Strings in Python start and end with a single quotes (`'`) or double quotes (`\"`). Note that the strings always start and end with the same style of quote. You can not mix the type of quotes.\n",
    "\n",
    "\n",
    "- A string can be made up of letters, numbers, and special characters."
   ]
  },
  {
   "cell_type": "code",
   "execution_count": null,
   "metadata": {},
   "outputs": [],
   "source": [
    "# examples of printing strings with single and double quotes\n",
    "print('Monty Python') \n",
    "print(\"Python Programming\")"
   ]
  },
  {
   "cell_type": "markdown",
   "metadata": {},
   "source": [
    "- To display single quotes **`'`** in a string, you can use double quotes as the outer quotes: **`\"It's time\"`**     \n",
    "\n",
    "\n",
    "- To display double quotes **`\"`** in a string, you can use single quotes as the outer quotes: **`'I said \"Hi\"'`**"
   ]
  },
  {
   "cell_type": "code",
   "execution_count": null,
   "metadata": {},
   "outputs": [],
   "source": [
    "# single quote surrounded by Double\n",
    "print(\"It's time to learn Python\")"
   ]
  },
  {
   "cell_type": "code",
   "execution_count": null,
   "metadata": {},
   "outputs": [],
   "source": [
    "# double quote surrounded by Single\n",
    "print('I said \"Hi\" to you')"
   ]
  },
  {
   "cell_type": "markdown",
   "metadata": {},
   "source": [
    "### Escape sequences\n",
    "\n",
    "If we need to include the same type of quote within our string, we need to *escape* the quote by preceding it with a `\\` (backslash). \n",
    "- escape sequences all start with a backslash (`\\`) \n",
    "- escape sequences can be used to display the following characters:\n",
    "  - `\\\\` &nbsp; backslash (`\\`)  \n",
    "  - `\\'` &nbsp; single quote (`'`)  \n",
    "  - `\\\"` &nbsp; double quote (`\"`)  \n",
    "- escape sequences are part of special formatting charcters \n",
    "  - `\\t` &nbsp; tab\n",
    "  - `\\n` &nbsp; return or newline\n",
    "\n",
    "We use escape sequences in strings - usually with `print()` statements "
   ]
  },
  {
   "cell_type": "markdown",
   "metadata": {},
   "source": [
    "### Multiline string\n",
    "\n",
    "If you create a string using single or double quotes, the whole string must fit onto a single line. \n",
    "\n",
    "Here's what happens when you try to stretch a string accross multiple line:"
   ]
  },
  {
   "cell_type": "code",
   "execution_count": null,
   "metadata": {},
   "outputs": [],
   "source": [
    "print('hello\n",
    "world')"
   ]
  },
  {
   "cell_type": "markdown",
   "metadata": {},
   "source": [
    "To span multiple lines, put three single quotes or three double quotes around the strinng instead of one of each. **Triple quotes are useful for creating strings containing paragraphs or multiple lines.**"
   ]
  },
  {
   "cell_type": "code",
   "execution_count": null,
   "metadata": {},
   "outputs": [],
   "source": [
    "print('''hello\n",
    "world''')"
   ]
  },
  {
   "cell_type": "markdown",
   "metadata": {},
   "source": [
    "A nice benefit of using triple-quoted strings is that you can embed single and double quotes inside it without escaping them:"
   ]
  },
  {
   "cell_type": "code",
   "execution_count": null,
   "metadata": {},
   "outputs": [],
   "source": [
    "print('''This string has single ' and \" quotes inside of it''')"
   ]
  },
  {
   "cell_type": "markdown",
   "metadata": {},
   "source": [
    "### String operator\n",
    "\n",
    "| Expression  |\tDescription                     | Example           | Output  |\n",
    "|-------------|---------------------------------|-------------------|---------|\n",
    "| str1 + str2 |\tconcatenate str1 and str1\t    | print('ab' + 'c')\t| abc     |\n",
    "| str1 * int1 |\tconcatenate int1 copies of str1\t| print('a' * 5)\t| aaaaa   |\n",
    "| int1 * str1 |\tconcatenate int1 copies of str1\t| print(4 * 'bc')\t| bcbcbcbc|\n",
    "\n",
    "> Note: \n",
    "> - *concatenate* means to join together.\n",
    "> - The `*` and `+` operands obey by the standard precedence rules when used with strings.\n",
    "> - All other mathematical operators and operands result in a `TypeError`."
   ]
  },
  {
   "cell_type": "markdown",
   "metadata": {},
   "source": [
    "<h4 style=\"font-size:2.2em; font-family: verdana, Geneva, sans-serif; color:#B24C00\">\n",
    "Exercise</h4>"
   ]
  },
  {
   "cell_type": "markdown",
   "metadata": {},
   "source": [
    "**1) What value does each of the following expressions evaluate to? Verify your answers by typing the expressions into the notebook cells.**\n",
    "\n",
    "1. `'Computer' + ' Science'`\n",
    "2. `'Darwin\\'s'`\n",
    "3. `'H20' * 3`\n",
    "4. `'C02' * 0`"
   ]
  },
  {
   "cell_type": "code",
   "execution_count": null,
   "metadata": {},
   "outputs": [],
   "source": []
  },
  {
   "cell_type": "markdown",
   "metadata": {},
   "source": [
    "**2) Express each of the following phrases as Python strings using the appropriate type of quotation marks (single, double, or triple) and, if necessary, escape sequences. There is more than one correct answer for each of these phrases.**\n",
    "\n",
    "1. `They'll hibernate during the winter.`\n",
    "2. `\"Absolutely not,\" he said.`\n",
    "3. `\"He said, 'Absolutely not,'\" recalled Mel.`\n",
    "4. `hydrogen sulfide`\n",
    "5. `left\\right`\n",
    "\n"
   ]
  },
  {
   "cell_type": "markdown",
   "metadata": {
    "collapsed": true,
    "slideshow": {
     "slide_type": "slide"
    }
   },
   "source": [
    "<h4 style=\"font-size:2.2em; font-family: verdana, Geneva, sans-serif; color:#00A0B2\">\n",
    "Notes on Numeric and String Data Types</h4>\n",
    "\n",
    "- Numbers are **not placed in quotes**      \n",
    "- A string can contain any character including **numbers**, but it is **placed in quotes**  "
   ]
  },
  {
   "cell_type": "code",
   "execution_count": null,
   "metadata": {},
   "outputs": [],
   "source": [
    "# printing a string made of number characters with python\n",
    "print('135')"
   ]
  },
  {
   "cell_type": "code",
   "execution_count": null,
   "metadata": {},
   "outputs": [],
   "source": [
    "# printing a number with python\n",
    "print(135)"
   ]
  },
  {
   "cell_type": "code",
   "execution_count": null,
   "metadata": {},
   "outputs": [],
   "source": [
    "print('135s')"
   ]
  },
  {
   "cell_type": "code",
   "execution_count": null,
   "metadata": {},
   "outputs": [],
   "source": [
    "print(135s)"
   ]
  },
  {
   "cell_type": "markdown",
   "metadata": {
    "collapsed": true,
    "slideshow": {
     "slide_type": "slide"
    }
   },
   "source": [
    "### `print()` vs. `repr()`\n",
    "\n",
    "`repr()` takes any object as an argument and returns a printable representation of the object. This can be helpful for debugging. "
   ]
  },
  {
   "cell_type": "markdown",
   "metadata": {},
   "source": [
    "##### Example1:"
   ]
  },
  {
   "cell_type": "code",
   "execution_count": null,
   "metadata": {},
   "outputs": [],
   "source": [
    "# printing a string made of number characters with python\n",
    "print('135')"
   ]
  },
  {
   "cell_type": "code",
   "execution_count": null,
   "metadata": {},
   "outputs": [],
   "source": [
    "# printing a string made of number characters with python\n",
    "print(repr('135'))"
   ]
  },
  {
   "cell_type": "markdown",
   "metadata": {},
   "source": [
    "##### Example 2:"
   ]
  },
  {
   "cell_type": "code",
   "execution_count": null,
   "metadata": {},
   "outputs": [],
   "source": [
    "print(repr('''hello\n",
    "world'''))"
   ]
  },
  {
   "cell_type": "code",
   "execution_count": null,
   "metadata": {
    "scrolled": false
   },
   "outputs": [],
   "source": [
    "print(repr('''This string has single ' and \" quotes inside of it'''))"
   ]
  },
  {
   "cell_type": "markdown",
   "metadata": {},
   "source": [
    "##### Example 3:"
   ]
  },
  {
   "cell_type": "code",
   "execution_count": null,
   "metadata": {},
   "outputs": [],
   "source": [
    "print(135)"
   ]
  },
  {
   "cell_type": "code",
   "execution_count": null,
   "metadata": {},
   "outputs": [],
   "source": [
    "print(repr(135))"
   ]
  },
  {
   "cell_type": "markdown",
   "metadata": {},
   "source": [
    "#### Notice the output of the following code cells:\n"
   ]
  },
  {
   "cell_type": "code",
   "execution_count": null,
   "metadata": {},
   "outputs": [],
   "source": [
    "135"
   ]
  },
  {
   "cell_type": "code",
   "execution_count": null,
   "metadata": {},
   "outputs": [],
   "source": [
    "'135'"
   ]
  },
  {
   "cell_type": "code",
   "execution_count": null,
   "metadata": {},
   "outputs": [],
   "source": [
    "'''hello\n",
    "world'''"
   ]
  },
  {
   "cell_type": "code",
   "execution_count": null,
   "metadata": {
    "scrolled": true
   },
   "outputs": [],
   "source": [
    "'''This string has single ' and \" quotes inside of it'''"
   ]
  },
  {
   "cell_type": "code",
   "execution_count": null,
   "metadata": {},
   "outputs": [],
   "source": [
    "2 + 3\n",
    "3 + 7    # Notice that only the last result is output."
   ]
  }
 ],
 "metadata": {
  "anaconda-cloud": {},
  "kernelspec": {
   "display_name": "Python 3",
   "language": "python",
   "name": "python3"
  },
  "language_info": {
   "codemirror_mode": {
    "name": "ipython",
    "version": 3
   },
   "file_extension": ".py",
   "mimetype": "text/x-python",
   "name": "python",
   "nbconvert_exporter": "python",
   "pygments_lexer": "ipython3",
   "version": "3.6.7"
  },
  "latex_envs": {
   "LaTeX_envs_menu_present": true,
   "autocomplete": true,
   "bibliofile": "biblio.bib",
   "cite_by": "apalike",
   "current_citInitial": 1,
   "eqLabelWithNumbers": true,
   "eqNumInitial": 1,
   "hotkeys": {
    "equation": "Ctrl-E",
    "itemize": "Ctrl-I"
   },
   "labels_anchors": false,
   "latex_user_defs": false,
   "report_style_numbering": false,
   "user_envs_cfg": false
  }
 },
 "nbformat": 4,
 "nbformat_minor": 1
}
