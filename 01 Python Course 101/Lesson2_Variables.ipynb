{
 "cells": [
  {
   "cell_type": "markdown",
   "metadata": {
    "slideshow": {
     "slide_type": "slide"
    }
   },
   "source": [
    "# Lesson 2: Variables\n",
    "\n",
    "- **Variables** \n",
    "- **Types and Objects**\n",
    "- **Errors**\n",
    "- **Built-in Classes: `int`, `float`, `str`**"
   ]
  },
  {
   "cell_type": "markdown",
   "metadata": {},
   "source": [
    "<h4 style=\"font-size:2.2em; font-family: verdana, Geneva, sans-serif; color:#00A0B2\">\n",
    "Variables</h4>\n",
    "\n",
    "When we write code, oftentimes we want Python to *remember* some value for later. We need to pick a name for that value to be remembered and we can use that symbolic name to retrieve the value later. We use the term **variable** to refer to the labels we use to refer to this stored data. <strong style=\"color:blue\">You can think of a variable as a label or tag.</strong>\n",
    "\n",
    "The assignment operator (`=`) simply creates an association between a name and a value. "
   ]
  },
  {
   "cell_type": "code",
   "execution_count": null,
   "metadata": {},
   "outputs": [],
   "source": [
    "cookie = 30 * 3\n",
    "print(cookie)"
   ]
  },
  {
   "cell_type": "code",
   "execution_count": null,
   "metadata": {},
   "outputs": [],
   "source": [
    "juice = 60 * 5\n",
    "print(juice)"
   ]
  },
  {
   "cell_type": "code",
   "execution_count": null,
   "metadata": {},
   "outputs": [],
   "source": [
    "print(cookie + juice)"
   ]
  },
  {
   "cell_type": "code",
   "execution_count": null,
   "metadata": {},
   "outputs": [],
   "source": [
    "greeting = 'Hello'\n",
    "name = 'Joe'\n",
    "print(greeting + ', ' + name)"
   ]
  },
  {
   "cell_type": "markdown",
   "metadata": {},
   "source": [
    "### Variables can be assigned to any type of data.  \n",
    "\n",
    "Although each value has an associated type such as an integer or string, **variable names are untyped** and can be made to refer to any type of data during execution.\n",
    "\n",
    "```python\n",
    "student_name =\"John Smith\" # student_name is assigned to a string\n",
    "number_of_students = 40    # number_of_students is assigned to an integer\n",
    "item_price = 5.99          # item_price points is assigned to a floating point number\n",
    "```\n",
    "\n",
    "### Python variables can be reassigned.  \n",
    "\n",
    "Variable names can be bound to different values, possibly of varying types, during program execution.\n",
    "\n",
    "```python\n",
    "x = 42\n",
    "x = \"I am a string\"\n",
    "```  "
   ]
  },
  {
   "cell_type": "markdown",
   "metadata": {},
   "source": [
    "### Variable name\n",
    "\n",
    "**The rules for legal Python names:**\n",
    "1. Names must start with a letter or _.\n",
    "2. Names must contain only letters, digits, and _.\n",
    "3. Names must not be a Python keyword.\n",
    "\n",
    "```python\n",
    "False               class               from                or\n",
    "None                continue            global              pass\n",
    "True                def                 if                  raise\n",
    "and                 del                 import              return\n",
    "as                  elif                in                  try\n",
    "assert              else                is                  while\n",
    "async               except              lambda              with\n",
    "await               finally             nonlocal            yield\n",
    "break               for                 not                 \n",
    "```\n",
    "\n",
    "**Additional naming considerations:**\n",
    "- Names should be lowercase.\n",
    "- Underscore should be used to separate words:\n",
    "    - `item_price`\n",
    "    - `student_name`\n",
    "    - `stock_symbol`  \n",
    "- Names should not override a built-in function\n",
    "- Names should be descriptive.\n",
    "    - They reduce the need for comments in the code and make it easier to share code or read code written long ago."
   ]
  },
  {
   "cell_type": "markdown",
   "metadata": {},
   "source": [
    "<h4 style=\"font-size:2.2em; font-family: verdana, Geneva, sans-serif; color:#B24C00\">\n",
    "Exercise</h4>"
   ]
  },
  {
   "cell_type": "markdown",
   "metadata": {},
   "source": [
    "**1) Assign a variable and print the value**\n",
    "- assign a string value to a variable `student_name`\n",
    "- print the value of variable `student_name`\n",
    "- assign the `student_name` variable  a different string value (a different name)\n",
    "- print the value of variable `student_name`\n",
    "- assign and print a 3rd value to `student_name`"
   ]
  },
  {
   "cell_type": "code",
   "execution_count": null,
   "metadata": {
    "slideshow": {
     "slide_type": "subslide"
    }
   },
   "outputs": [],
   "source": []
  },
  {
   "cell_type": "markdown",
   "metadata": {},
   "source": [
    "**2) Write python statements that do the following.**\n",
    "1. Create a new variable `x`, and assign it the value `10.5`.\n",
    "2. Create a new variable `y`, and assign it the value `4`.\n",
    "3. Sum x and y, and make `x` refer to the resulting value. After this statement has been executed, what are `x` and `y`’s values?"
   ]
  },
  {
   "cell_type": "code",
   "execution_count": null,
   "metadata": {},
   "outputs": [],
   "source": []
  },
  {
   "cell_type": "markdown",
   "metadata": {},
   "source": [
    "<h4 style=\"font-size:2.2em; font-family: verdana, Geneva, sans-serif; color:#00A0B2\">\n",
    "Types and Objects</h4>\n",
    "\n",
    "In assignment, we associate a value with a variable. What exactly is that value? \n",
    "\n",
    "Every piece of data stored in a program is an object. Each object has an identity, a value, and a type. For example, when you write: \n",
    "\n",
    "```python\n",
    "x = 42\n",
    "```\n",
    "- an integer object is created with the value of `42`.\n",
    "- the identity of an object is the actual memory address of the object. \n",
    "- the variable `x` contains the memory address of the object to which it refers. \n",
    "- the `type` determines both what an object can be and what can be done to it.   \n",
    "    - For example, in type `int`, the values are `..., -3, -2, -1, 0, 1, 2, 3, ...` and we have seen that these operators can be applied to those values: `+, -, *, /, //, %, **`."
   ]
  },
  {
   "cell_type": "markdown",
   "metadata": {},
   "source": [
    "### Built-in function `type()`\n",
    "\n",
    "You can discover the type of an object using built-in function `type()`."
   ]
  },
  {
   "cell_type": "code",
   "execution_count": null,
   "metadata": {},
   "outputs": [],
   "source": [
    "type(527)"
   ]
  },
  {
   "cell_type": "code",
   "execution_count": null,
   "metadata": {},
   "outputs": [],
   "source": [
    "type(37.5)"
   ]
  },
  {
   "cell_type": "code",
   "execution_count": null,
   "metadata": {},
   "outputs": [],
   "source": [
    "amount = 97.5\n",
    "type(amount)"
   ]
  },
  {
   "cell_type": "code",
   "execution_count": null,
   "metadata": {},
   "outputs": [],
   "source": [
    "student_name = 'Joe Smith'\n",
    "type(student_name)"
   ]
  },
  {
   "cell_type": "markdown",
   "metadata": {},
   "source": [
    "### Explore types\n",
    "Let's use the built-in `type()` function to explore different data types in Python:"
   ]
  },
  {
   "cell_type": "code",
   "execution_count": null,
   "metadata": {},
   "outputs": [],
   "source": [
    "type(3)"
   ]
  },
  {
   "cell_type": "code",
   "execution_count": null,
   "metadata": {},
   "outputs": [],
   "source": [
    "type(3.7)"
   ]
  },
  {
   "cell_type": "code",
   "execution_count": null,
   "metadata": {},
   "outputs": [],
   "source": [
    "type('3')"
   ]
  },
  {
   "cell_type": "code",
   "execution_count": null,
   "metadata": {},
   "outputs": [],
   "source": [
    "type('hello')"
   ]
  },
  {
   "cell_type": "code",
   "execution_count": null,
   "metadata": {},
   "outputs": [],
   "source": [
    "type(True)"
   ]
  },
  {
   "cell_type": "code",
   "execution_count": null,
   "metadata": {},
   "outputs": [],
   "source": [
    "type(False)"
   ]
  },
  {
   "cell_type": "code",
   "execution_count": null,
   "metadata": {
    "scrolled": false
   },
   "outputs": [],
   "source": [
    "type([1,2,3])"
   ]
  },
  {
   "cell_type": "code",
   "execution_count": null,
   "metadata": {
    "scrolled": true
   },
   "outputs": [],
   "source": [
    "type((1,2,3))"
   ]
  },
  {
   "cell_type": "code",
   "execution_count": null,
   "metadata": {},
   "outputs": [],
   "source": [
    "type({1,2,3})"
   ]
  },
  {
   "cell_type": "code",
   "execution_count": null,
   "metadata": {
    "scrolled": true
   },
   "outputs": [],
   "source": [
    "type({'Sukanya': '02-727-3051', 'Wimon': '02-727-3081'})"
   ]
  },
  {
   "cell_type": "markdown",
   "metadata": {},
   "source": [
    "### Common built-in data types\n",
    "\n",
    "The table below shows the basic data types used in Python.\n",
    "\n",
    "| Category    | Type Name | Description                             |\n",
    "|-------------|-----------|-----------------------------------------|\n",
    "| Numbers     | int       | A whole number                          |\n",
    "| Numbers     | float     | A floating-point number                 |\n",
    "| Booleans    | bool      | A True or False value                   |\n",
    "| Collections | str       | A sequence of characters                |  \n",
    "| Collections | list      | An ordered sequence of values           |\n",
    "| Collections | tuple     | An unmodified versionof lists           |\n",
    "| Collections | dict      | An unordered grouping of key-value pairs|\n",
    "| Collections | set       | An unordered grouping of values         |\n",
    "\n",
    "\n",
    "An object that contains references to other objects is said to be a **container** or **collection**. "
   ]
  },
  {
   "cell_type": "markdown",
   "metadata": {},
   "source": [
    "### Built-in function `id()`\n",
    "- The built-in function `id()` returns the identity of an object as an integer. \n",
    "- This integer usually corresponds to the object's location in memory, although this is specific to the Python implementation."
   ]
  },
  {
   "cell_type": "code",
   "execution_count": null,
   "metadata": {},
   "outputs": [],
   "source": [
    "id(-9)"
   ]
  },
  {
   "cell_type": "code",
   "execution_count": null,
   "metadata": {},
   "outputs": [],
   "source": [
    "id(37.5)"
   ]
  },
  {
   "cell_type": "code",
   "execution_count": null,
   "metadata": {},
   "outputs": [],
   "source": [
    "amount = 97.5\n",
    "id(amount)"
   ]
  },
  {
   "cell_type": "code",
   "execution_count": null,
   "metadata": {},
   "outputs": [],
   "source": [
    "id('hello')"
   ]
  },
  {
   "cell_type": "code",
   "execution_count": null,
   "metadata": {},
   "outputs": [],
   "source": [
    "student_name = 'Joe Smith'\n",
    "id(student_name)"
   ]
  },
  {
   "cell_type": "markdown",
   "metadata": {},
   "source": [
    "### Mutability\n",
    "- After an object is created, its identity and type cannot be changed.\n",
    "- If an object's value <em style=\"color:blue\">can be modified</em>, the object is said to be <em style=\"color:blue\">mutable</em>.  \n",
    "    - e.g., lists, dictionaries\n",
    "- If the value <em style=\"color:red\">cannot be modified</em>, the object is said to be <em style=\"color:red\">immutable</em>.\n",
    "    - e.g., integers, floats, strings, tuples"
   ]
  },
  {
   "cell_type": "markdown",
   "metadata": {},
   "source": [
    "##### Examples:"
   ]
  },
  {
   "cell_type": "code",
   "execution_count": null,
   "metadata": {},
   "outputs": [],
   "source": [
    "age = 1000\n",
    "id(age)"
   ]
  },
  {
   "cell_type": "code",
   "execution_count": null,
   "metadata": {},
   "outputs": [],
   "source": [
    "age = age + 1\n",
    "id(age)"
   ]
  },
  {
   "cell_type": "code",
   "execution_count": null,
   "metadata": {},
   "outputs": [],
   "source": [
    "my_list = [1, 2, 3]\n",
    "id(my_list)"
   ]
  },
  {
   "cell_type": "code",
   "execution_count": null,
   "metadata": {},
   "outputs": [],
   "source": [
    "my_list.append(99)\n",
    "my_list"
   ]
  },
  {
   "cell_type": "code",
   "execution_count": null,
   "metadata": {},
   "outputs": [],
   "source": [
    "id(my_list)"
   ]
  },
  {
   "cell_type": "markdown",
   "metadata": {},
   "source": [
    "<h4 style=\"font-size:2.2em; font-family: verdana, Geneva, sans-serif; color:#00A0B2\">\n",
    "Errors</h4>"
   ]
  },
  {
   "cell_type": "markdown",
   "metadata": {},
   "source": [
    "### `TypeError`\n",
    "- A `TypeError` occurs when an operation or function is applied to an object of inappropriate type.\n",
    "\n",
    "##### Example:"
   ]
  },
  {
   "cell_type": "code",
   "execution_count": null,
   "metadata": {},
   "outputs": [],
   "source": [
    "print('My favorite number is ' + 777)"
   ]
  },
  {
   "cell_type": "markdown",
   "metadata": {},
   "source": [
    "- The above code causes the `TypeError` message to appear.  \n",
    "- When adding to the string `'My number is '`, Python interpreter is expecting another string, but finds a number `777`.  \n",
    "- Python cannot convert the Integer `777` to a string for you. \n",
    "  \n",
    "In other words, python only allows combining *like types*:  \n",
    "- **string** + **string**\n",
    "- **number** + **number**"
   ]
  },
  {
   "cell_type": "markdown",
   "metadata": {},
   "source": [
    "### `ValueError`\n",
    "- A `ValueError` occurs occurs when a built-in operation or function receives an argument that has the right type but an inappropriate value.\n",
    "\n",
    "##### Example:"
   ]
  },
  {
   "cell_type": "code",
   "execution_count": null,
   "metadata": {},
   "outputs": [],
   "source": [
    "int('-99.9')"
   ]
  },
  {
   "cell_type": "markdown",
   "metadata": {},
   "source": [
    "&nbsp;\n",
    "### `SyntaxError`\n",
    "- A `SyntaxError` occurs when Python is unable to understand a line of code. \n",
    "- Python has a specific grammar that it follows that is referred to as **syntax**.  \n",
    "\n",
    "##### Example 1:"
   ]
  },
  {
   "cell_type": "code",
   "execution_count": null,
   "metadata": {},
   "outputs": [],
   "source": [
    "print('I like the morning\") "
   ]
  },
  {
   "cell_type": "markdown",
   "metadata": {},
   "source": [
    "- EOF = End of File\n",
    "- Python went to the end of the file looking for, but not finding, a closing quote "
   ]
  },
  {
   "cell_type": "markdown",
   "metadata": {},
   "source": [
    "##### Example 2:"
   ]
  },
  {
   "cell_type": "code",
   "execution_count": null,
   "metadata": {},
   "outputs": [],
   "source": [
    "print(\"where are my socks?\" "
   ]
  },
  {
   "cell_type": "markdown",
   "metadata": {},
   "source": [
    "- Python went to the end of the file looking for, but not finding, a closing parenthesis "
   ]
  },
  {
   "cell_type": "markdown",
   "metadata": {},
   "source": [
    "##### Example 3:"
   ]
  },
  {
   "cell_type": "code",
   "execution_count": null,
   "metadata": {},
   "outputs": [],
   "source": [
    "print(\"my socks are in the wrong bin)\" "
   ]
  },
  {
   "cell_type": "markdown",
   "metadata": {},
   "source": [
    "- A parenthesis inside quotations will be seen a part of a string and not as a parenthesis"
   ]
  },
  {
   "cell_type": "markdown",
   "metadata": {},
   "source": [
    "### `NameError`\n",
    "- A `NameError` ocurs when Python encounters a name that it does not recognize.\n",
    "\n",
    "##### Example:"
   ]
  },
  {
   "cell_type": "code",
   "execution_count": null,
   "metadata": {},
   "outputs": [],
   "source": [
    "prin('hi')"
   ]
  },
  {
   "cell_type": "markdown",
   "metadata": {},
   "source": [
    "- The misspelling of \"`prin`\" results in a `NameError`."
   ]
  },
  {
   "cell_type": "markdown",
   "metadata": {},
   "source": [
    "<h4 style=\"font-size:2.2em; font-family: verdana, Geneva, sans-serif; color:#B24C00\">\n",
    "Exercise</h4>"
   ]
  },
  {
   "cell_type": "markdown",
   "metadata": {},
   "source": [
    "**Fix program errors**"
   ]
  },
  {
   "cell_type": "code",
   "execution_count": null,
   "metadata": {},
   "outputs": [],
   "source": [
    "# read and run the code - then fix any errors\n",
    "house_num = 123\n",
    "print(\"the street number of my house is \" + house_num)\n"
   ]
  },
  {
   "cell_type": "code",
   "execution_count": null,
   "metadata": {},
   "outputs": [],
   "source": [
    "# read and run the code - then fix any errors\n",
    "print('my socks do not match\") \n",
    "      "
   ]
  },
  {
   "cell_type": "code",
   "execution_count": null,
   "metadata": {},
   "outputs": [],
   "source": [
    "# read and run the code - then fix any errors\n",
    "pront(\"my socks match now\") \n"
   ]
  },
  {
   "cell_type": "code",
   "execution_count": null,
   "metadata": {},
   "outputs": [],
   "source": [
    "# read and run the code - then fix any errors\n",
    "print\"Save your work frequently\")\n"
   ]
  },
  {
   "cell_type": "code",
   "execution_count": null,
   "metadata": {},
   "outputs": [],
   "source": [
    "# read and run the code - then fix any errors\n",
    "student_name = \"Mike\"\n",
    "print(STUDENT_NAME)\n"
   ]
  },
  {
   "cell_type": "code",
   "execution_count": null,
   "metadata": {},
   "outputs": [],
   "source": [
    "# read and run the code - then fix any errors\n",
    "total = 3\n",
    "print(total + \" students are signed up for BADS4002\")\n"
   ]
  },
  {
   "cell_type": "markdown",
   "metadata": {},
   "source": [
    "<h4 style=\"font-size:2.2em; font-family: verdana, Geneva, sans-serif; color:#00A0B2\">\n",
    "Built-in Classes: <code style=\"color:inherit\">int</code>, <code style=\"color:inherit\">float</code>, <code style=\"color:inherit\">str</code></h4>\n",
    "\n",
    "\n",
    "### `str()`\n",
    "Built-in class `str` takes any value and returns a string representation of that value."
   ]
  },
  {
   "cell_type": "code",
   "execution_count": null,
   "metadata": {},
   "outputs": [],
   "source": [
    "str(3)"
   ]
  },
  {
   "cell_type": "code",
   "execution_count": null,
   "metadata": {},
   "outputs": [],
   "source": [
    "str(47.6)"
   ]
  },
  {
   "cell_type": "markdown",
   "metadata": {},
   "source": [
    "### `int()`\n",
    "Built-in class `int` takes a string containing only digits (possibly with a leading minus sign) and returns the `int` that represents.   \n",
    "\n",
    "Built-in class `int` can also take a `float` value and return the `int` representation of the `float` value by throwing away the fractional part.\n",
    "\n",
    "> If built-in class `int` is called with a string that contains anything other than digits, a `ValueError` happens."
   ]
  },
  {
   "cell_type": "code",
   "execution_count": null,
   "metadata": {},
   "outputs": [],
   "source": [
    "int('12345')"
   ]
  },
  {
   "cell_type": "code",
   "execution_count": null,
   "metadata": {},
   "outputs": [],
   "source": [
    "int('-998')"
   ]
  },
  {
   "cell_type": "code",
   "execution_count": null,
   "metadata": {},
   "outputs": [],
   "source": [
    "int(-99.9)"
   ]
  },
  {
   "cell_type": "code",
   "execution_count": null,
   "metadata": {},
   "outputs": [],
   "source": [
    "int('-99.9')"
   ]
  },
  {
   "cell_type": "markdown",
   "metadata": {},
   "source": [
    "### `float()`\n",
    "Built-in class `float` takes a string containing only digits and zero or one decimal points (possibly with a leading minus sign) and returns the `float` that represents. \n",
    "\n",
    "Built-in class `float` can also take an `int` value and return the `float` that represents.\n",
    "\n",
    "> If builtin class `float` is called with a string that can't be converted, a `ValueError` happens."
   ]
  },
  {
   "cell_type": "code",
   "execution_count": null,
   "metadata": {},
   "outputs": [],
   "source": [
    "float('-43.2')"
   ]
  },
  {
   "cell_type": "code",
   "execution_count": null,
   "metadata": {},
   "outputs": [],
   "source": [
    "float('432')"
   ]
  },
  {
   "cell_type": "code",
   "execution_count": null,
   "metadata": {},
   "outputs": [],
   "source": [
    "float(4)"
   ]
  },
  {
   "cell_type": "code",
   "execution_count": null,
   "metadata": {},
   "outputs": [],
   "source": [
    "float('-9.9.9')"
   ]
  },
  {
   "cell_type": "markdown",
   "metadata": {},
   "source": [
    "<h4 style=\"font-size:2.2em; font-family: verdana, Geneva, sans-serif; color:#B24C00\">\n",
    "Exercise</h4>"
   ]
  },
  {
   "cell_type": "markdown",
   "metadata": {},
   "source": [
    "**1) Add the following three numbers as integers and print the result**"
   ]
  },
  {
   "cell_type": "code",
   "execution_count": null,
   "metadata": {},
   "outputs": [],
   "source": [
    "str_num_1 = \"11\"\n",
    "str_num_2 = \"15\"\n",
    "int_num_3 = 10\n",
    "\n",
    "# add the 3 numbers as integers and print the result\n"
   ]
  },
  {
   "cell_type": "markdown",
   "metadata": {},
   "source": [
    "**2) Complete the following tasks:**\n",
    "- assign `str_integer` variable a string containing characters of an integer   \n",
    "- assign `int_number` variable an integer value\n",
    "- add the 2 numbers as integers and assign it to `number_total` variable  \n",
    "- print the sum (`number_total`)"
   ]
  },
  {
   "cell_type": "code",
   "execution_count": null,
   "metadata": {},
   "outputs": [],
   "source": [
    "# code and test\n"
   ]
  }
 ],
 "metadata": {
  "anaconda-cloud": {},
  "kernelspec": {
   "display_name": "Python 3",
   "language": "python",
   "name": "python3"
  },
  "language_info": {
   "codemirror_mode": {
    "name": "ipython",
    "version": 3
   },
   "file_extension": ".py",
   "mimetype": "text/x-python",
   "name": "python",
   "nbconvert_exporter": "python",
   "pygments_lexer": "ipython3",
   "version": "3.6.7"
  },
  "latex_envs": {
   "LaTeX_envs_menu_present": true,
   "autocomplete": true,
   "bibliofile": "biblio.bib",
   "cite_by": "apalike",
   "current_citInitial": 1,
   "eqLabelWithNumbers": true,
   "eqNumInitial": 1,
   "hotkeys": {
    "equation": "Ctrl-E",
    "itemize": "Ctrl-I"
   },
   "labels_anchors": false,
   "latex_user_defs": false,
   "report_style_numbering": false,
   "user_envs_cfg": false
  }
 },
 "nbformat": 4,
 "nbformat_minor": 1
}
