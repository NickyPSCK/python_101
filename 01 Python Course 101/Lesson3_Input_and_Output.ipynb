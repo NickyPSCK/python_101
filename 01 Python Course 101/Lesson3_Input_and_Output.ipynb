{
 "cells": [
  {
   "cell_type": "markdown",
   "metadata": {
    "slideshow": {
     "slide_type": "slide"
    }
   },
   "source": [
    "# Lesson 3: Console Input and Output\n",
    "\n",
    "- **Print out Multiple Items**\n",
    "- **Getting User Input**\n",
    "- **Formatting User Input**\n",
    "- **Formatting Strings**\n",
    "- **F-Strings**\n",
    "- **Print out Multiple Items**"
   ]
  },
  {
   "cell_type": "markdown",
   "metadata": {},
   "source": [
    "<h4 style=\"font-size:2.2em; font-family: verdana, Geneva, sans-serif; color:#00A0B2\">\n",
    "Print out Multiple Items</h4>\n",
    "\n",
    "Function `print()` can take a comma-separated list of values and prints the values with a single space between them and a newline after the last value:"
   ]
  },
  {
   "cell_type": "code",
   "execution_count": null,
   "metadata": {},
   "outputs": [],
   "source": [
    "print(1,2,3)"
   ]
  },
  {
   "cell_type": "code",
   "execution_count": null,
   "metadata": {},
   "outputs": [],
   "source": [
    "name = 'Joe'\n",
    "\n",
    "# string addition \n",
    "print('Hello to ' + name + ' who is NIDA student')\n",
    "\n",
    "# comma separation formatting\n",
    "print('Hello to', name, 'who is NIDA student')"
   ]
  },
  {
   "cell_type": "markdown",
   "metadata": {},
   "source": [
    "When called with no arguments (which is a comma-separated list of length zero), print ends the current line, advancing to the next one:"
   ]
  },
  {
   "cell_type": "code",
   "execution_count": null,
   "metadata": {},
   "outputs": [],
   "source": [
    "print()"
   ]
  },
  {
   "cell_type": "markdown",
   "metadata": {},
   "source": [
    "\n",
    "### Using commas in `print()` with mix data types\n",
    "\n",
    "Function `print()` can print values of any type, and it can even print values of different types in the same function call:"
   ]
  },
  {
   "cell_type": "code",
   "execution_count": null,
   "metadata": {},
   "outputs": [],
   "source": [
    "print(1,'two','three',4.0)"
   ]
  },
  {
   "cell_type": "code",
   "execution_count": null,
   "metadata": {},
   "outputs": [],
   "source": [
    "appointment = 6\n",
    "print(\"I will pick you up at\",appointment,\"for the party\")"
   ]
  },
  {
   "cell_type": "markdown",
   "metadata": {},
   "source": [
    "### Call `print()` with an expression as an argument\n",
    "\n",
    "As with other function calls, it is also possible to call `print` with an expression as an argument. It will print the value of that expression:"
   ]
  },
  {
   "cell_type": "code",
   "execution_count": null,
   "metadata": {},
   "outputs": [],
   "source": [
    "radius = 5\n",
    "print(\"The diameter of the circle is\", radius * 2, \"cm.\") "
   ]
  },
  {
   "cell_type": "markdown",
   "metadata": {},
   "source": [
    "### Help documentation for `print()`\n",
    "Function print has a few extra helpful features; here is the help documentation for it:\n"
   ]
  },
  {
   "cell_type": "code",
   "execution_count": null,
   "metadata": {},
   "outputs": [],
   "source": [
    "help(print)"
   ]
  },
  {
   "cell_type": "markdown",
   "metadata": {},
   "source": [
    "- The parameters `sep`, `end`, `file`, and `flush` have assignment statements in the function header! These are called **default parameter values**.\n",
    "- By default, if we call function `print` with a comma-separated list of values, the separator is a <em style=\"color:blue\">space</em>; similarly, a <em style=\"color:blue\">newline character</em> appears at the end of every printed string. (We won’t discuss file and flush here.)"
   ]
  },
  {
   "cell_type": "code",
   "execution_count": null,
   "metadata": {},
   "outputs": [],
   "source": [
    "print('a', 'b', 'c')  # The separator is a space by default\n",
    "print('a', 'b', 'c', sep=', ')"
   ]
  },
  {
   "cell_type": "markdown",
   "metadata": {},
   "source": [
    "Often you’ll want to print information but not start a new line. To do this, use the keyword argument end='' to tell Python to end with an empty string instead of a new line:"
   ]
  },
  {
   "cell_type": "code",
   "execution_count": null,
   "metadata": {},
   "outputs": [],
   "source": [
    "print('a', 'b', 'c', sep=', ', end='')\n",
    "print('d')"
   ]
  },
  {
   "cell_type": "markdown",
   "metadata": {
    "collapsed": true
   },
   "source": [
    "# &nbsp;\n",
    "<font size=\"6\" color=\"#B24C00\"  face=\"verdana\"> <B>Exercise</B></font>  "
   ]
  },
  {
   "cell_type": "markdown",
   "metadata": {},
   "source": [
    "**1) print 3 strings on the same line using commas inside the `print()` function**"
   ]
  },
  {
   "cell_type": "code",
   "execution_count": null,
   "metadata": {},
   "outputs": [],
   "source": []
  },
  {
   "cell_type": "markdown",
   "metadata": {},
   "source": [
    "**2) use a `print()` function with comma separation to combine 2 numbers and 2 strings**"
   ]
  },
  {
   "cell_type": "code",
   "execution_count": null,
   "metadata": {},
   "outputs": [],
   "source": []
  },
  {
   "cell_type": "markdown",
   "metadata": {},
   "source": [
    "**3) Complete the following tasks:**\n",
    "- define a variable with a string\n",
    "- define a variable with a numeric value\n",
    "- display a message combining the above variables (with literal strings)\n"
   ]
  },
  {
   "cell_type": "code",
   "execution_count": null,
   "metadata": {},
   "outputs": [],
   "source": []
  },
  {
   "cell_type": "markdown",
   "metadata": {},
   "source": [
    "**4) Given variables x and y, which refer to values 3 and 12.5, respectively, use function `print()` to print the following messages. When numbers appear in the messages, variables x and y should be used.**\n",
    "\n",
    "a. The rabbit is 3.\n",
    "\n",
    "b. The rabbit is 3 years old.\n",
    "\n",
    "c. 12.5 is average.\n",
    "\n",
    "d. 12.5 * 3\n",
    "\n",
    "e. 12.5 * 3 is 37.5."
   ]
  },
  {
   "cell_type": "code",
   "execution_count": null,
   "metadata": {},
   "outputs": [],
   "source": []
  },
  {
   "cell_type": "markdown",
   "metadata": {
    "collapsed": true
   },
   "source": [
    "<h4 style=\"font-size:2.2em; font-family: verdana, Geneva, sans-serif; color:#00A0B2\">\n",
    "Getting User Input</h4>\n",
    "\n",
    "### `input()`\n",
    "The built-in `input()` function prompts the user to supply data returning that data as a string"
   ]
  },
  {
   "cell_type": "code",
   "execution_count": null,
   "metadata": {},
   "outputs": [],
   "source": [
    "print('Enter a your favorite number : ')\n",
    "num = input()\n",
    "print(num)"
   ]
  },
  {
   "cell_type": "markdown",
   "metadata": {},
   "source": [
    "### Optional string argument\n",
    "\n",
    "The `input()` function has an optional string argument which displays the string intended to inform a user what to enter.   \n",
    "\n",
    "`input()` works similar to `print()`; in the way it displays arguments as output.  "
   ]
  },
  {
   "cell_type": "code",
   "execution_count": null,
   "metadata": {},
   "outputs": [],
   "source": [
    "num = input('Enter a your favorite number : ')\n",
    "print(num)"
   ]
  },
  {
   "cell_type": "code",
   "execution_count": null,
   "metadata": {
    "scrolled": true
   },
   "outputs": [],
   "source": [
    "student_name = input('Enter the student name: ')  \n",
    "print('Hi ' + student_name)"
   ]
  },
  {
   "cell_type": "markdown",
   "metadata": {},
   "source": [
    "### Note on `input()`\n",
    "\n",
    "`input()` returns a string regardless of entry\n",
    "- if a string is entered `input()` returns a string\n",
    "- if a number is entered `input()` returns a string  "
   ]
  },
  {
   "cell_type": "code",
   "execution_count": null,
   "metadata": {
    "scrolled": false
   },
   "outputs": [],
   "source": [
    "age = input('How old are you? ')\n",
    "print('Your are ' + age + ' years old.')\n",
    "print(type(num))"
   ]
  },
  {
   "cell_type": "markdown",
   "metadata": {},
   "source": [
    "**If you try to perform math operations on an input value, you might not get the answer you want.**"
   ]
  },
  {
   "cell_type": "code",
   "execution_count": null,
   "metadata": {
    "scrolled": true
   },
   "outputs": [],
   "source": [
    "age = input('How old are you? ')\n",
    "age_in_decade = age + 10\n",
    "print('Next year student will be ' + age_in_decade)"
   ]
  },
  {
   "cell_type": "markdown",
   "metadata": {},
   "source": [
    "**How to fix the `TypeError`?**"
   ]
  },
  {
   "cell_type": "code",
   "execution_count": null,
   "metadata": {
    "scrolled": true
   },
   "outputs": [],
   "source": [
    "# try it yourself\n"
   ]
  },
  {
   "cell_type": "markdown",
   "metadata": {},
   "source": [
    "As you saw earlier, the `print()` function  can take a comma-separated list of values of any type; so, we can rewrite the above code using this feature:"
   ]
  },
  {
   "cell_type": "code",
   "execution_count": null,
   "metadata": {
    "scrolled": true
   },
   "outputs": [],
   "source": [
    "# try it yourself\n"
   ]
  },
  {
   "cell_type": "code",
   "execution_count": null,
   "metadata": {
    "scrolled": true
   },
   "outputs": [],
   "source": [
    "# review and run code\n",
    "\n",
    "age = int(input('How old are you? '))    # we can combine input() & int()\n",
    "age_in_decade = age + 10\n",
    "print('Next year student will be', age_in_decade)"
   ]
  },
  {
   "cell_type": "markdown",
   "metadata": {
    "collapsed": true
   },
   "source": [
    "<h4 style=\"font-size:2.2em; font-family: verdana, Geneva, sans-serif; color:#00A0B2\">\n",
    "Formatting User Input</h4>\n",
    "\n",
    "When storing input, sometimes a specific format is needed and formatting is applied to the `input()` function. In order to do this, you need to know some string methods such as:\n",
    "- **`.capitalize()`** - capitalizes the first character of a string\n",
    "- **`.lower()`** - all characters of a string are made lowercase\n",
    "- **`.upper()`** - all characters of a string are made uppercase\n",
    "- **`.swapcase()`** - all characters of a string are made to switch case upper becomes lower and vice versa  \n",
    "- **`.title()`** - each 'word' separated by a space is capitalized\n",
    "> **Note:** These methods create a new string from the original string."
   ]
  },
  {
   "cell_type": "markdown",
   "metadata": {},
   "source": [
    "#### Examples:"
   ]
  },
  {
   "cell_type": "code",
   "execution_count": null,
   "metadata": {},
   "outputs": [],
   "source": [
    "fav_movie = 'miracles from HEAVEN'\n",
    "print(fav_movie.capitalize())\n",
    "print(fav_movie.title())\n",
    "print(fav_movie.upper())\n",
    "print(fav_movie.lower())\n",
    "print(fav_movie.swapcase())"
   ]
  },
  {
   "cell_type": "markdown",
   "metadata": {},
   "source": [
    "#### Practical Application:"
   ]
  },
  {
   "cell_type": "code",
   "execution_count": null,
   "metadata": {},
   "outputs": [],
   "source": [
    "fav_movie = input('What is your favorite movie? ')\n",
    "print(fav_movie.lower())"
   ]
  },
  {
   "cell_type": "code",
   "execution_count": null,
   "metadata": {
    "scrolled": true
   },
   "outputs": [],
   "source": [
    "fav_movie = input('What is your favorite movie? ').lower()\n",
    "print(fav_movie)"
   ]
  },
  {
   "cell_type": "markdown",
   "metadata": {},
   "source": [
    "<h4 style=\"font-size:2.2em; font-family: verdana, Geneva, sans-serif; color:#B24C00\">\n",
    "Exercise</h4>"
   ]
  },
  {
   "cell_type": "markdown",
   "metadata": {},
   "source": [
    "**1) format with `.capitalize(), .lower(), .upper(), .swapcase()`**"
   ]
  },
  {
   "cell_type": "code",
   "execution_count": null,
   "metadata": {},
   "outputs": [],
   "source": [
    "# get input for a variable, fav_food, that describes a favorite food\n",
    "\n",
    "\n",
    "# display fav_food as ALL CAPS, used in a sentence\n",
    "\n",
    "\n",
    "# dispaly fav_food as all lower case, used in a sentence\n",
    "\n",
    "\n",
    "# display fav_food with swapped case, used in a sentence\n",
    "\n",
    "\n",
    "# display fav_food with capitalization, used in a sentence\n",
    "\n"
   ]
  },
  {
   "cell_type": "markdown",
   "metadata": {},
   "source": [
    "**2) format ` input()` with ` .upper()`**"
   ]
  },
  {
   "cell_type": "code",
   "execution_count": null,
   "metadata": {},
   "outputs": [],
   "source": [
    "# input variable fav_color as upper\n",
    "\n",
    "# print fav_color\n"
   ]
  },
  {
   "cell_type": "markdown",
   "metadata": {},
   "source": [
    "<h4 style=\"font-size:2.2em; font-family: verdana, Geneva, sans-serif; color:#00A0B2\">\n",
    "Formatting Strings</h4>\n",
    "\n",
    "When creating strings to present as messages to the user of a program, you will want to format them in such a way that they are clear and easy to understand. While it is possible to format strings using concatenation (`+`), this can quickly become tedious. \n",
    "\n",
    "Fortunately, Python provides other ways to format strings. One powerful way of doing so is to use the string `.format()` method."
   ]
  },
  {
   "cell_type": "code",
   "execution_count": null,
   "metadata": {
    "scrolled": false
   },
   "outputs": [],
   "source": [
    "country = \"France\"\n",
    "capital = \"Paris\"\n",
    "sentence = \"The capital of {} is {}.\".format(country, capital)\n",
    "print(sentence)"
   ]
  },
  {
   "cell_type": "markdown",
   "metadata": {},
   "source": [
    "The `.format()` returns a new, formatted string based upon the initial format string, which is the string you call the `.format()` method on, and the arguments. In this example, the format string is:\n",
    "```python\n",
    "\"The capital of {} is {}.\"\n",
    "```\n",
    "\n",
    "In general, the format string can be quite complex, but the key idea is that curly braces indicate a *replacement field*. Text not in curly braces appears unchanged in the output string returned by `.format()`. In this example, there are two replacement fields and two arguments. \n",
    "\n",
    "In this simple example, the two arguments were both strings, but this does not have to be the case. They can be any Python objects, which will be converted to strings and inserted into the output. For example, if we want to print a person's name, age, and weight, we can use `.format()` as follows:"
   ]
  },
  {
   "cell_type": "code",
   "execution_count": null,
   "metadata": {
    "scrolled": true
   },
   "outputs": [],
   "source": [
    "name = 'Joe Smith'\n",
    "age = 37   \n",
    "wt = 69.7\n",
    "\n",
    "print(\"name: {}  age: {}  weight: {}\".format(name, age, wt))"
   ]
  },
  {
   "cell_type": "markdown",
   "metadata": {},
   "source": [
    "###  Number the replacement fields\n",
    "In order to provide more control of the formatted output, you can also provide a number that indicates which argument should be used. This allows you to repeat arguments or use them out of order:"
   ]
  },
  {
   "cell_type": "code",
   "execution_count": null,
   "metadata": {},
   "outputs": [],
   "source": [
    "mood1 = \"happy\"\n",
    "mood2 = \"sad\"\n",
    "sentence = \"I feel {0}, do you feel {0}?  Or are you {1}? I'm not sure if we should be {0}.\".format(mood1, mood2)\n",
    "print(sentence)"
   ]
  },
  {
   "cell_type": "markdown",
   "metadata": {},
   "source": [
    "- As this example shows, you can use the arguments in any order and as many times as you would like. \n",
    "- Note that you can either number the replacement fields automatically (using `{}`) or manually (explicitly giving the argument number for each replacement field), but you cannot switch back and forth between these two methods. "
   ]
  },
  {
   "cell_type": "markdown",
   "metadata": {},
   "source": [
    "### Give a format specification\n",
    "- The format specification is preceeded by a colon and must come after the argument index (if there is one) in the replacement field. \n",
    "- The format specification indicates how to format the individual field. It can be used to align strings (or numbers):\n",
    "    - <code style=\"color:red\">&lt;</code> for left aligned\n",
    "    - <code style=\"color:red\">&gt;</code> for right aligned\n",
    "    - <code style=\"color:red\">^</code> for centered\n",
    "- The format specifiers after the colon include a number. This number is the width of the field in the output. The output will contain exactly that many characters for that field (padded with spaces), regardless of how wide the argument is. \n",
    "- The format specification can also include a numerical precision and a type option. \n",
    "    - Read this [documentation](https://docs.python.org/3.6/library/string.html#formatstrings) for more information."
   ]
  },
  {
   "cell_type": "markdown",
   "metadata": {},
   "source": [
    "#### Examples:"
   ]
  },
  {
   "cell_type": "code",
   "execution_count": null,
   "metadata": {},
   "outputs": [],
   "source": [
    "nam1 = '\"Teddy\" Roosevelt'\n",
    "nam2 = 'Theodore \"Teddy\" Roosevelt'\n",
    "age = 60    \n",
    "wt = 199.1515115 \n",
    "\n",
    "# minimal formating -- {n} represents data item n --- notice misalignment\n",
    "\n",
    "print(\"name: {0}  age: {1}  weight: {2}\".format(nam1, age, wt))\n",
    "print(\"name: {0}  age: {1}  weight: {2}\".format(nam2, age, wt))"
   ]
  },
  {
   "cell_type": "code",
   "execution_count": null,
   "metadata": {},
   "outputs": [],
   "source": [
    "# better formatting > means right align (< and ^ would be left and center)\n",
    "# the numbers represent the minimum characters occupied by the data.\n",
    "\n",
    "print(\"name: {0:>26}  age: {1:>4}   weight: {2:>10}\".format(nam1,age,wt))\n",
    "print(\"name: {0:>26}  age: {1:>4}   weight: {2:>10}\".format(nam2,age,wt))"
   ]
  },
  {
   "cell_type": "code",
   "execution_count": null,
   "metadata": {
    "scrolled": true
   },
   "outputs": [],
   "source": [
    "# for the float, allocate 5 spaces with 2 to the right of \".\"\n",
    "\n",
    "print(\"name: {0:>26}  age: {1:>4}   weight: {2:>5.2f}\".format(nam1,age,wt))\n",
    "print(\"name: {0:>26}  age: {1:>4}   weight: {2:>5.2f}\".format(nam2,age,wt))"
   ]
  },
  {
   "cell_type": "code",
   "execution_count": null,
   "metadata": {
    "scrolled": false
   },
   "outputs": [],
   "source": [
    "# Note: we can use the string variable output in the print statement:\n",
    "output = \"name: {0:>26}  age: {1:>4}   weight: {2:>5.2f}\"\n",
    "print(output.format(nam1,age,wt))\n",
    "print(output.format(nam2,age,wt))"
   ]
  },
  {
   "cell_type": "markdown",
   "metadata": {},
   "source": [
    "# &nbsp;\n",
    "<font size=\"6\" color=\"#00A0B2\"  face=\"verdana\"> <B>F-Strings</code></B></font> \n",
    "\n",
    "Python 3.6 introduced a new type of string, called f-string. If you precede a string with an f, it will allow you to include code inside of the placeholders. Here is a basic example:"
   ]
  },
  {
   "cell_type": "code",
   "execution_count": null,
   "metadata": {},
   "outputs": [],
   "source": [
    "name = 'john'\n",
    "print(f'My name is {name}')"
   ]
  },
  {
   "cell_type": "markdown",
   "metadata": {},
   "source": [
    "Python will look in the placeholder and evaluate the code there. Note that the placeholder can contain function calls, method calls, or any other arbitrary code:"
   ]
  },
  {
   "cell_type": "code",
   "execution_count": null,
   "metadata": {},
   "outputs": [],
   "source": [
    "name = 'john'\n",
    "print(f'My name is {name.capitalize()}')"
   ]
  },
  {
   "cell_type": "markdown",
   "metadata": {},
   "source": [
    "You can also provide format strings following a colon:"
   ]
  },
  {
   "cell_type": "code",
   "execution_count": null,
   "metadata": {},
   "outputs": [],
   "source": [
    "print(f'Square root of two: {2**.5:5.3f}')"
   ]
  },
  {
   "cell_type": "markdown",
   "metadata": {},
   "source": [
    "<h4 style=\"font-size:2.2em; font-family: verdana, Geneva, sans-serif; color:#B24C00\">\n",
    "Exercise</h4>"
   ]
  },
  {
   "cell_type": "markdown",
   "metadata": {},
   "source": [
    "**1) Complete the following tasks:**\n",
    "- create a variable named `city` to store input, add a prompt for the name of a city\n",
    "- print `\"The city name is \"` followed by the value stored in `city`"
   ]
  },
  {
   "cell_type": "code",
   "execution_count": null,
   "metadata": {},
   "outputs": [],
   "source": []
  },
  {
   "cell_type": "markdown",
   "metadata": {},
   "source": [
    "  \n",
    "**2) Complete the following tasks**\n",
    "- create variables to store input: `name`, `age`, `get_mail`\n",
    "- create prompts for name, age and yes/no to being on an email list\n",
    "- print description and input values   \n",
    "\n",
    "><p style=\"color:blue;\">Output Example:</p>   \n",
    ">\n",
    ">`name = Alton`  \n",
    ">`age =  17`  \n",
    ">`wants email = yes`  \n",
    "  "
   ]
  },
  {
   "cell_type": "code",
   "execution_count": null,
   "metadata": {},
   "outputs": [],
   "source": []
  },
  {
   "cell_type": "markdown",
   "metadata": {
    "collapsed": true
   },
   "source": [
    "**3) Complete the following task:**\n",
    "- get input of 2 integer numbers \n",
    "- perform arithemetic addition and print the input followed by the result\n",
    "\n",
    "><p style=\"color:blue;\">Output Example:</p>   \n",
    ">\n",
    "> `9 + 13 = 22`"
   ]
  },
  {
   "cell_type": "code",
   "execution_count": null,
   "metadata": {},
   "outputs": [],
   "source": []
  },
  {
   "cell_type": "markdown",
   "metadata": {
    "collapsed": true
   },
   "source": [
    "**4) Execute the following string and use it to try some of the following in the statement**\n",
    "```python\n",
    "     print(\"Start||{}||End\".format(s))\n",
    "```\n",
    "**that would enable you to see what the format has done.  You can change what is in the `{}`.**\n",
    "- a) Print the string with no formating\n",
    "- b) Print the string allowing a width of 25 characters for it\n",
    "- c) Print the string right-aligned in a space of 25 characters\n",
    "- d) Print the string left-aligned in a space of 25 characters\n",
    "- e) Print the string centered in a space of 25 characters\n",
    "\n",
    "```Python\n",
    "Expected Output:\n",
    "Start||hello, there||End\n",
    "Start||hello, there             ||End - minimum width 25\n",
    "Start||             hello, there||End - width 25, right aligned\n",
    "Start||hello, there             ||End - width 25, left aligned\n",
    "Start||      hello, there       ||End - width 25, centered\n",
    "```"
   ]
  },
  {
   "cell_type": "code",
   "execution_count": null,
   "metadata": {},
   "outputs": [],
   "source": [
    "# Execute this.  It is the string to work with: \n",
    "s = \"hello, there\"\n",
    "\n",
    "# The format statement to modify and work with: \n",
    "print(\"Start||{}||End\".format(s))\n"
   ]
  }
 ],
 "metadata": {
  "anaconda-cloud": {},
  "kernelspec": {
   "display_name": "Python 3",
   "language": "python",
   "name": "python3"
  },
  "language_info": {
   "codemirror_mode": {
    "name": "ipython",
    "version": 3
   },
   "file_extension": ".py",
   "mimetype": "text/x-python",
   "name": "python",
   "nbconvert_exporter": "python",
   "pygments_lexer": "ipython3",
   "version": "3.6.7"
  },
  "latex_envs": {
   "LaTeX_envs_menu_present": true,
   "autocomplete": true,
   "bibliofile": "biblio.bib",
   "cite_by": "apalike",
   "current_citInitial": 1,
   "eqLabelWithNumbers": true,
   "eqNumInitial": 1,
   "hotkeys": {
    "equation": "Ctrl-E",
    "itemize": "Ctrl-I"
   },
   "labels_anchors": false,
   "latex_user_defs": false,
   "report_style_numbering": false,
   "user_envs_cfg": false
  }
 },
 "nbformat": 4,
 "nbformat_minor": 1
}
