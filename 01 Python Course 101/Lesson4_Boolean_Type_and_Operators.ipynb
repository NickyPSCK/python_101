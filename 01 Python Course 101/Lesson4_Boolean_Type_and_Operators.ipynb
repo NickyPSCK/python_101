{
 "cells": [
  {
   "cell_type": "markdown",
   "metadata": {},
   "source": [
    "# Lesson 4: Boolean Type and Operators\n",
    "\n",
    "- **Boolean Type and Operators**\n",
    "- **Boolean String Methods**\n",
    "- **Boolean `in` Keyword**"
   ]
  },
  {
   "cell_type": "markdown",
   "metadata": {},
   "source": [
    "<h4 style=\"font-size:2.2em; font-family: verdana, Geneva, sans-serif; color:#00A0B2\">\n",
    "Boolean Type and Operators</h4>\n",
    "\n",
    "Unlike `int` and `float`, which can take many values, Boolean (`bool`) type has only two values `True` and `False`.  \n",
    "\n",
    "You can also assign these values to variables. Boolean variables are good at keeping track of the state of some condition when the state has one of two values, such as a light bulb being on or off:\n",
    "\n",
    "```python\n",
    "lights_on = True\n",
    "lights_on = False\n",
    "```"
   ]
  },
  {
   "cell_type": "markdown",
   "metadata": {},
   "source": [
    "### Comparison Operators\n",
    "  \n",
    "Adding two numbers in Python results in another number; however, if two numbers were compared (i.e. to test for equality), the result would be of `bool`. \n",
    "\n",
    "```python\n",
    "In [1]: print( 5 == 6 )\n",
    "Out[1]: False\n",
    "\n",
    "In [2]: print( 5 <= 6 )\n",
    "Out[2]: True\n",
    "```\n",
    "\n",
    "Comparing numerical or string values is performed using relational operators. The following table lists the relational operators supported in Python.\n",
    "\n",
    "| Operator | Description              |\n",
    "|----------|--------------------------|\n",
    "| <        | Less than                |\n",
    "| <=       | Less than or equal to    |\n",
    "| >        | Greater than             |\n",
    "| >=       | Greater than or equal to |\n",
    "| ==       | Equal to                 |\n",
    "|!=        | Not equal to             |\n",
    "\n",
    "\n",
    ">Note that:\n",
    ">- alphabetically `'A'` is less than `'B'`\n",
    ">- lower case `'a'` is greater than upper case `'A'`"
   ]
  },
  {
   "cell_type": "markdown",
   "metadata": {},
   "source": [
    "#### Examples: Comparing numbers"
   ]
  },
  {
   "cell_type": "code",
   "execution_count": null,
   "metadata": {},
   "outputs": [],
   "source": [
    "print(3 > 5)"
   ]
  },
  {
   "cell_type": "code",
   "execution_count": null,
   "metadata": {},
   "outputs": [],
   "source": [
    "print(3 <= 5)"
   ]
  },
  {
   "cell_type": "code",
   "execution_count": null,
   "metadata": {},
   "outputs": [],
   "source": [
    "x = 3\n",
    "print('x not equal 9 is', x != 9)\n",
    "print('x equal 3 is', x == 3)"
   ]
  },
  {
   "cell_type": "markdown",
   "metadata": {},
   "source": [
    "#### Examples: Comparing strings"
   ]
  },
  {
   "cell_type": "code",
   "execution_count": null,
   "metadata": {},
   "outputs": [],
   "source": [
    "print('hello' < 'Hello')"
   ]
  },
  {
   "cell_type": "code",
   "execution_count": null,
   "metadata": {},
   "outputs": [],
   "source": [
    "print('Avenger' > 'Zebra')"
   ]
  },
  {
   "cell_type": "code",
   "execution_count": null,
   "metadata": {},
   "outputs": [],
   "source": [
    "print('snack' != 'Snack')"
   ]
  },
  {
   "cell_type": "code",
   "execution_count": null,
   "metadata": {},
   "outputs": [],
   "source": [
    "print(\"'snack' >= 'Snack' is\", 'snack' >= 'Snack')\n",
    "print(\"'snack' != 'Snack' is\", 'snack' != 'Snack')"
   ]
  },
  {
   "cell_type": "code",
   "execution_count": null,
   "metadata": {},
   "outputs": [],
   "source": [
    "print('Hello ' + 'World!' == 'Hello World!')"
   ]
  },
  {
   "cell_type": "code",
   "execution_count": null,
   "metadata": {},
   "outputs": [],
   "source": [
    "msg = 'Lower the temperature NOW'\n",
    "print( msg.lower() == 'lower the temperature now' )"
   ]
  },
  {
   "cell_type": "markdown",
   "metadata": {},
   "source": [
    "### Boolean Operators\n",
    "\n",
    "The three basic Boolean operators are: `not`, `and`, `or`.\n",
    "\n",
    "#### `not`\n",
    "`not` is a unary operator; it operates on one variable (operand) by negating it. The following truth table shows the result of negating a `bool` variable `B`.\n",
    "\n",
    "|`B`|`not B`|\n",
    "|---|-------|\n",
    "|False| True|\n",
    "|True|False|\n",
    "\n",
    "#### `and`\n",
    "`and` is a binary operator; it operates on two variables (operands). It produces `True` when both variables are `True` and produces `False` otherwise. The following truth table shows the effect of the `and` operator on combining `A` and `B`.\n",
    "\n",
    "|`A`|`B`|`A and B`|\n",
    "|---|---|---------|\n",
    "|False|False|False|\n",
    "|False|True|False|\n",
    "|True|False|False|\n",
    "|True|True|True|\n",
    "\n",
    "#### `or`\n",
    "`or` is a binary operator; it operates on two variables (operands). It produces `True` if either (or both) of the variables is `True` and produces `False` otherwise. The following truth table shows the effect of `or` on combining `A` and `B`.\n",
    "\n",
    "|`A`|`B`|`A or B`|\n",
    "|---|---|---------|\n",
    "|False|False|False|\n",
    "|False|True|True|\n",
    "|True|False|True|\n",
    "|True|True|True|\n",
    "\n",
    "These operators are typically used to combine relational expressions rather than the constants `True` and `False`. This will allow you to construct more powerful conditional statements (i.e. `if` statements).\n",
    "\n",
    ">Note that:\n",
    ">- `not` has the highest precedence, followed by `and`, then `or`. \n",
    ">- Similar to arithmetic operators, you can control the precedence using the parentheses operator `()` to group relational expressions."
   ]
  },
  {
   "cell_type": "markdown",
   "metadata": {},
   "source": [
    "#### Example: `not`"
   ]
  },
  {
   "cell_type": "code",
   "execution_count": null,
   "metadata": {},
   "outputs": [],
   "source": [
    "# not operator\n",
    "print(\"not True = \", not True)\n",
    "print(\"not False = \", not False)"
   ]
  },
  {
   "cell_type": "markdown",
   "metadata": {},
   "source": [
    "#### Example:  `and`"
   ]
  },
  {
   "cell_type": "code",
   "execution_count": null,
   "metadata": {},
   "outputs": [],
   "source": [
    "# and operator\n",
    "print(\"False and False = \", False and False)\n",
    "print(\"False and True = \", False and True)\n",
    "print(\"True and False = \", True and False)\n",
    "print(\"True and True = \", True and True)"
   ]
  },
  {
   "cell_type": "markdown",
   "metadata": {},
   "source": [
    "#### Example: `or`"
   ]
  },
  {
   "cell_type": "code",
   "execution_count": null,
   "metadata": {},
   "outputs": [],
   "source": [
    "# or operator\n",
    "print(\"False or False = \", False or False)\n",
    "print(\"False or True = \", False or True)\n",
    "print(\"True or False = \", True or False)\n",
    "print(\"True or True = \", True or True)"
   ]
  },
  {
   "cell_type": "markdown",
   "metadata": {},
   "source": [
    "### Combining Comparisons\n",
    "\n",
    "The basic Boolean operators can be used to combine multiple relational tests. For example, say you want to test whether a variable `x` contains a number within a certain range (i.e. 10 &leq; x &leq; 20). You can perform this test, by checking whether the number is greater than or equal to 10 and whether the number is less than or equal to 20.\n",
    "\n",
    "```python\n",
    "In [1]: x = 11\n",
    "In [2]: print( (x >= 10) and (x <= 20) )\n",
    "Out[2]: True\n",
    "\n",
    "In [3]: x = 9\n",
    "In [4]: print( (x >= 10) and (x <= 20) )\n",
    "Out[4]: False\n",
    "```\n",
    "\n",
    "The relational tests need not be numerical. For example, you can test whether a variable `c` contains a capital letter (i.e. 'A' &leq; c &leq; 'Z').\n",
    "\n",
    "```python\n",
    "In [1]: c = 'N'\n",
    "In [2]: print( (c >= 'A') and (c <= 'Z') )\n",
    "Out[2]: True\n",
    "\n",
    "In [3]: c = 'n'\n",
    "In [4]: print( (c >= 'A') and (c <= 'Z') )\n",
    "Out[4]: False\n",
    "```"
   ]
  },
  {
   "cell_type": "markdown",
   "metadata": {},
   "source": [
    "#### Example: Testing whether a number is outside a range"
   ]
  },
  {
   "cell_type": "code",
   "execution_count": null,
   "metadata": {},
   "outputs": [],
   "source": [
    "# Testing if x is outside the range [10, 20]\n",
    "\n",
    "x = 11\n",
    "print( (x < 10) or (x > 20) )"
   ]
  },
  {
   "cell_type": "markdown",
   "metadata": {},
   "source": [
    "#### Example: Testing whether a number is positive and odd"
   ]
  },
  {
   "cell_type": "code",
   "execution_count": null,
   "metadata": {},
   "outputs": [],
   "source": [
    "# Testing if x is a positive and odd number\n",
    "\n",
    "x = 11\n",
    "print( (x > 0) and (x % 2 != 0) )"
   ]
  },
  {
   "cell_type": "markdown",
   "metadata": {},
   "source": [
    "### Chained Comparison Operators\n",
    "\n",
    "An interesting feature of Python is the ability to <span style=\"color:blue\">*chain*</span> multiple comparison operators to perform a more complex test. You can use these chained comparison operators as a shorthand for larger Boolean expressions.\n",
    "\n",
    "Let's look at a few examples of using chains:"
   ]
  },
  {
   "cell_type": "code",
   "execution_count": null,
   "metadata": {
    "collapsed": true
   },
   "outputs": [],
   "source": [
    "1 < 2 < 3"
   ]
  },
  {
   "cell_type": "markdown",
   "metadata": {},
   "source": [
    "The above statement check if `1` was less than `2` **and** if `2` was less than `3`. We could have written this using the Boolean operator `and` as follows:"
   ]
  },
  {
   "cell_type": "code",
   "execution_count": null,
   "metadata": {
    "collapsed": true
   },
   "outputs": [],
   "source": [
    "1<2 and 2<3"
   ]
  },
  {
   "cell_type": "markdown",
   "metadata": {},
   "source": [
    "The `and` operator is used to make sure two checks have to be true in order for the total check to be true. Let's see another example:"
   ]
  },
  {
   "cell_type": "code",
   "execution_count": null,
   "metadata": {
    "collapsed": true
   },
   "outputs": [],
   "source": [
    "1 < 3 > 2"
   ]
  },
  {
   "cell_type": "markdown",
   "metadata": {},
   "source": [
    "The above checks if `3` is larger than both the other numbers, so you could use the `and` operator to rewrite it as:"
   ]
  },
  {
   "cell_type": "code",
   "execution_count": null,
   "metadata": {
    "collapsed": true
   },
   "outputs": [],
   "source": [
    "1<3 and 3>2"
   ]
  },
  {
   "cell_type": "markdown",
   "metadata": {},
   "source": [
    "<h4 style=\"font-size:2.2em; font-family: verdana, Geneva, sans-serif; color:#00A0B2\">\n",
    "Boolean String Methods</h4>\n",
    "\n",
    "Type `str` has methods that return a Boolean (`True` or `False`) for different tests on the properties of stings. "
   ]
  },
  {
   "cell_type": "code",
   "execution_count": null,
   "metadata": {},
   "outputs": [],
   "source": [
    "\"Hello\".isalpha()"
   ]
  },
  {
   "cell_type": "markdown",
   "metadata": {
    "collapsed": true
   },
   "source": [
    "  `.isalpha()` returns `True` if all characters in the string (`\"Hello\"`) are alphabetical, otherwise returns `False`.\n",
    "\n",
    "**Here are Boolean string methods:**\n",
    "- `.isalpha()`\n",
    "- `.isalnum()`\n",
    "- `.istitle()`\n",
    "- `.isdigit()`\n",
    "- `.islower()`\n",
    "- `.isupper()`\n",
    "- `.startswith()`\n",
    "- `.endswith()`"
   ]
  },
  {
   "cell_type": "code",
   "execution_count": null,
   "metadata": {},
   "outputs": [],
   "source": [
    "print('Apple'.isalpha())"
   ]
  },
  {
   "cell_type": "code",
   "execution_count": null,
   "metadata": {},
   "outputs": [],
   "source": [
    "print('2nd'.isalnum())"
   ]
  },
  {
   "cell_type": "code",
   "execution_count": null,
   "metadata": {},
   "outputs": [],
   "source": [
    "print('A Wonderful Life'.istitle())"
   ]
  },
  {
   "cell_type": "code",
   "execution_count": null,
   "metadata": {},
   "outputs": [],
   "source": [
    "print('4002'.isdigit())"
   ]
  },
  {
   "cell_type": "code",
   "execution_count": null,
   "metadata": {},
   "outputs": [],
   "source": [
    "kg_weight = '64'\n",
    "print('kg weight:', kg_weight, 'is all digits =', kg_weight.isdigit())"
   ]
  },
  {
   "cell_type": "code",
   "execution_count": null,
   "metadata": {},
   "outputs": [],
   "source": [
    "print('Save'.islower())\n",
    "print('Save'.isupper())"
   ]
  },
  {
   "cell_type": "code",
   "execution_count": null,
   "metadata": {},
   "outputs": [],
   "source": [
    "print('Bamboo'.startswith('B'))\n",
    "print('Bamboo'.startswith('Bam'))\n",
    "print('Bamboo'.startswith('b'))"
   ]
  },
  {
   "cell_type": "code",
   "execution_count": null,
   "metadata": {},
   "outputs": [],
   "source": [
    "fname = 'classlist.xls'\n",
    "fname.endswith('xls')"
   ]
  },
  {
   "cell_type": "markdown",
   "metadata": {
    "collapsed": true
   },
   "source": [
    "<h4 style=\"font-size:2.2em; font-family: verdana, Geneva, sans-serif; color:#00A0B2\">\n",
    "Boolean <code style=\"color:inherit\">in</code> keyword</h4>\n",
    "\n",
    "The `in` keyword can be used as a simple search returning `True` or `False` indication if a string is included in a target sequence.  \n",
    ">comparing strings is case sensitive  \n",
    ">`'Hello'` is not the same as `'hello'`  "
   ]
  },
  {
   "cell_type": "code",
   "execution_count": null,
   "metadata": {
    "scrolled": true
   },
   "outputs": [],
   "source": [
    "# review and run code to test if a string is to be found in another string\n",
    "menu = 'salad, pasta, sandwich, pizza, drinks, dessert'\n",
    "print('pizza' in menu)"
   ]
  },
  {
   "cell_type": "code",
   "execution_count": null,
   "metadata": {},
   "outputs": [],
   "source": [
    "# review and run code to test case sensitive examples \n",
    "greeting = \"Hello World!\"\n",
    "print(\"'hello' in greeting is\",'hello' in greeting)\n",
    "print(\"'Hello' in greeting is\", 'Hello' in greeting)"
   ]
  },
  {
   "cell_type": "markdown",
   "metadata": {},
   "source": [
    "<h4 style=\"font-size:2.2em; font-family: verdana, Geneva, sans-serif; color:#B24C00\">\n",
    "Exercise</h4>"
   ]
  },
  {
   "cell_type": "markdown",
   "metadata": {},
   "source": [
    "**1) Test stings with `.isalpha()`**"
   ]
  },
  {
   "cell_type": "code",
   "execution_count": null,
   "metadata": {},
   "outputs": [],
   "source": [
    "# Use .isalpha() on the string: \"alphabetical\"\n"
   ]
  },
  {
   "cell_type": "code",
   "execution_count": null,
   "metadata": {},
   "outputs": [],
   "source": [
    "# Use .isalpha() on the string: \"Are spaces and punctuation Alphabetical?\"\n"
   ]
  },
  {
   "cell_type": "code",
   "execution_count": null,
   "metadata": {},
   "outputs": [],
   "source": [
    "# initailize variable alpha_test with input\n",
    "\n",
    "# use .isalpha() on string variable alpha_test\n"
   ]
  },
  {
   "cell_type": "markdown",
   "metadata": {},
   "source": [
    "**2) Complete the following tasks:**\n",
    "- test the `menu` string variable for `'pizza'`, `'soup'`, and `'dessert'` using keyword `in`\n",
    "- print each test on a separate line\n",
    "- print a description for each test (e.g. - `\"Pizza in menu = True\"`)"
   ]
  },
  {
   "cell_type": "code",
   "execution_count": null,
   "metadata": {},
   "outputs": [],
   "source": [
    "menu = 'salad, pasta, sandwich, pizza, drinks, dessert'\n"
   ]
  },
  {
   "cell_type": "markdown",
   "metadata": {},
   "source": [
    "**3) Create a program where a user can check if an item is on the menu**\n",
    "- store the user input in a variable `menu_ask`\n",
    "- use the menu from above and add some additional items\n",
    "- the program should be able to ignore case mismatch so that `\"hello\"` is found in `\"Hello World!\"`"
   ]
  },
  {
   "cell_type": "code",
   "execution_count": null,
   "metadata": {},
   "outputs": [],
   "source": []
  },
  {
   "cell_type": "markdown",
   "metadata": {},
   "source": [
    "**4) Challenge: Add to the menu**\n",
    "- print the current `menu`\n",
    "- get user input for `add_item` variable\n",
    "- use string addition to add `add_item` to `menu` and assign it to `new_menu` variable\n",
    "- print the `new_menu`\n",
    "- check if an item is on the menu, check for previous items and the item you added"
   ]
  },
  {
   "cell_type": "code",
   "execution_count": null,
   "metadata": {},
   "outputs": [],
   "source": []
  },
  {
   "cell_type": "markdown",
   "metadata": {},
   "source": [
    "**5) Fix the Error**"
   ]
  },
  {
   "cell_type": "code",
   "execution_count": null,
   "metadata": {},
   "outputs": [],
   "source": [
    "paint_colors = 'red, blue, green, black, orange, pink'\n",
    "print('Red in paint colors = ', red in paint_colors)\n"
   ]
  },
  {
   "cell_type": "markdown",
   "metadata": {},
   "source": [
    "**6) Complete the following task:**"
   ]
  },
  {
   "cell_type": "code",
   "execution_count": null,
   "metadata": {},
   "outputs": [],
   "source": [
    "greeting = 'Hello'\n",
    "\n",
    "# get input for variable named msg, and ask user to give a greeting message\n",
    "# print the results of testing if the user message equals greeting string\n"
   ]
  },
  {
   "cell_type": "markdown",
   "metadata": {},
   "source": [
    "**7) Write an expression to test if `x` is an even number outside the range `[-100, 100]`**\n",
    "\n",
    "**Test your expression with:**\n",
    "```python\n",
    "x = 104   # True\n",
    "x = 115   # False\n",
    "x = -106  # True\n",
    "x = -99   # False\n",
    "```\n"
   ]
  },
  {
   "cell_type": "code",
   "execution_count": null,
   "metadata": {},
   "outputs": [],
   "source": []
  },
  {
   "cell_type": "markdown",
   "metadata": {},
   "source": [
    "**8) Write an expression to test if a string `s` contains a numerical value then test if the value is greater than the value stored in `x`.**  (*Hint:* Use `s.isnumeric()` and `float(s)`)\n",
    "\n",
    "**(a) Test your expression with the following `s` and `x`, the expression should yield `True`**\n",
    "```python\n",
    "s = '39'\n",
    "x = 24\n",
    "```\n",
    "\n",
    "**(b) Test your expression with the following `s` and `x`, the expression should yield `False`**\n",
    "```python\n",
    "s = 'z39'\n",
    "x = 24\n",
    "```"
   ]
  },
  {
   "cell_type": "code",
   "execution_count": null,
   "metadata": {},
   "outputs": [],
   "source": []
  }
 ],
 "metadata": {
  "kernelspec": {
   "display_name": "Python 3",
   "language": "python",
   "name": "python3"
  },
  "language_info": {
   "codemirror_mode": {
    "name": "ipython",
    "version": 3
   },
   "file_extension": ".py",
   "mimetype": "text/x-python",
   "name": "python",
   "nbconvert_exporter": "python",
   "pygments_lexer": "ipython3",
   "version": "3.6.7"
  },
  "latex_envs": {
   "LaTeX_envs_menu_present": true,
   "autocomplete": true,
   "bibliofile": "biblio.bib",
   "cite_by": "apalike",
   "current_citInitial": 1,
   "eqLabelWithNumbers": true,
   "eqNumInitial": 1,
   "hotkeys": {
    "equation": "Ctrl-E",
    "itemize": "Ctrl-I"
   },
   "labels_anchors": false,
   "latex_user_defs": false,
   "report_style_numbering": false,
   "user_envs_cfg": false
  }
 },
 "nbformat": 4,
 "nbformat_minor": 2
}
