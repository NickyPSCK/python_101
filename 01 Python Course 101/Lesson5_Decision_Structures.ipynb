{
 "cells": [
  {
   "cell_type": "markdown",
   "metadata": {},
   "source": [
    "# Lesson 5: Decision Structures\n",
    "- **`if` statements**\n",
    "- **Using `pass`**\n",
    "- **`if-elif-else` vs. `if-if`**\n",
    "- **Nested `if`**\n",
    "- **Nested `if` and Multi-Way `if-elif-else`**\n",
    "- **Simplifying Nested `if`**"
   ]
  },
  {
   "cell_type": "markdown",
   "metadata": {},
   "source": [
    "<h4 style=\"font-size:2.2em; font-family: verdana, Geneva, sans-serif; color:#00A0B2\"><code style=\"color:inherit\">if</code> Statements</h4>\n",
    "\n",
    "`if` statements in Python allow us to decide whether or not to execute a particular statement.\n",
    "These decisions are based on a **boolean expression (a condition)** that evaluates to `True` or `False`.\n",
    "\n",
    "### One-way `if` statement\n",
    "A one-way `if` statement executes the statements if and only if the condition is `True`.\n",
    "\n",
    "**Syntax for a one-way if statement:**\n",
    "```python\n",
    "if condition:\n",
    "    statement(s)\n",
    "```\n",
    "Note that the statement(s) must be **indented** at least one space to the right of the `if` keyword and **each statement must be indented using the same number of spaces**. Traditionally, we indent it **four spaces**.\n",
    "\n",
    "![one-way if statement](img/oneway_if.png \"Figure 1: The flowchart of a one-way if statement\")\n",
    "\n",
    "<p style=\"font-size:0.8em; font-style:italic; color:#777; text-align:center\">Source: Introduction to Programming Using Python 1st Edition by Y. Daniel Liang, Pearson, 2012.</p>"
   ]
  },
  {
   "cell_type": "markdown",
   "metadata": {},
   "source": [
    "#### Examples:"
   ]
  },
  {
   "cell_type": "code",
   "execution_count": null,
   "metadata": {},
   "outputs": [],
   "source": [
    "# Example 1: Comparison operator with if\n",
    "age = int(input('Enter your age: ')) \n",
    "\n",
    "if age >= 20:\n",
    "    print('Eligible to vote!');\n",
    "print('Thanks for coming')"
   ]
  },
  {
   "cell_type": "code",
   "execution_count": null,
   "metadata": {},
   "outputs": [],
   "source": [
    "# Example 2: Boolean in keyword with if\n",
    "vowels = 'aeiou'\n",
    "\n",
    "if 'e' in vowels:\n",
    "    print(\"It's a vowel.\")"
   ]
  },
  {
   "cell_type": "markdown",
   "metadata": {},
   "source": [
    "### Two-way `if-else` statements\n",
    "\n",
    "A one-way `if` statement takes an action if the specified condition is `True`. If the condition is `False`, nothing is done. But what if you want to take one or more alternative actions when the condition is `False`? You can use a two-way `if-else` statement. \n",
    "\n",
    "A two-way `if-else` statement decides which statements to execute based on whether\n",
    "the condition is `True` or `False`.\n",
    "\n",
    "**Syntax for a two-way if-else statement:**\n",
    "```python\n",
    "if condition:\n",
    "    statement(s)   # for True case\n",
    "else:\n",
    "    statement(s)   # for False case\n",
    "```\n",
    "\n",
    "![two-way if statement](img/twoway_if.png)\n",
    "\n",
    "<p style=\"font-size:0.8em; font-style:italic; color:#777; text-align:center\">Source: Introduction to Programming Using Python 1st Edition by Y. Daniel Liang, Pearson, 2012.</p>"
   ]
  },
  {
   "cell_type": "markdown",
   "metadata": {},
   "source": [
    "#### Examples:"
   ]
  },
  {
   "cell_type": "code",
   "execution_count": null,
   "metadata": {},
   "outputs": [],
   "source": [
    "# Example 1: Comparison operator with if\n",
    "number = int(input('Enter a whole number: '))\n",
    "\n",
    "if number % 2 == 0:\n",
    "    print(number, 'is even') \n",
    "else:\n",
    "    print(number, 'is odd');"
   ]
  },
  {
   "cell_type": "code",
   "execution_count": null,
   "metadata": {},
   "outputs": [],
   "source": [
    "# Example 2: String comparison with if\n",
    "person = 'John'\n",
    "\n",
    "if person == 'John':\n",
    "    print('Welcome John!')\n",
    "else:\n",
    "    print('Welcome, what's your name?') "
   ]
  },
  {
   "cell_type": "code",
   "execution_count": null,
   "metadata": {},
   "outputs": [],
   "source": [
    "# Example 3: String comparison with if\n",
    "msg = 'Lower the temperature NOW'\n",
    "\n",
    "if msg.lower() == 'lower the temperature now':\n",
    "    print(\"message as expected\")\n",
    "else:\n",
    "    print(\"message not as expected\")"
   ]
  },
  {
   "cell_type": "code",
   "execution_count": null,
   "metadata": {},
   "outputs": [],
   "source": [
    "# Example 4: Boolean string test method with if\n",
    "favorite_book = input(\"Enter the title of a favorite book: \")\n",
    "\n",
    "if favorite_book.istitle():\n",
    "    print(favorite_book, \"- nice capitalization in that title!\")\n",
    "else:\n",
    "    print(favorite_book, \"- consider capitalization throughout for book titles.\")"
   ]
  },
  {
   "cell_type": "code",
   "execution_count": null,
   "metadata": {},
   "outputs": [],
   "source": [
    "# Example 5: Boolean string test methods with if\n",
    "vehicle_type = input('\"enter a type of vehicle that starts with \"P\": ')\n",
    "\n",
    "if vehicle_type.upper().startswith('P'):\n",
    "    print(vehicle_type, 'starts with \"P\"')\n",
    "else:\n",
    "    print(vehicle_type, 'does not start with \"P\"')"
   ]
  },
  {
   "cell_type": "code",
   "execution_count": null,
   "metadata": {},
   "outputs": [],
   "source": [
    "# Example 6: Compound conditional\n",
    "x = input(\"Enter an odd positive number: \")\n",
    "\n",
    "# Get an int representation of the string input\n",
    "x = int(x)\n",
    "\n",
    "# Test number for validity\n",
    "if ((x > 0) and (x % 2 != 0)):\n",
    "    print(x, \"is a valid number\")\n",
    "else:\n",
    "    print(x, \"is NOT a valid number\")"
   ]
  },
  {
   "cell_type": "code",
   "execution_count": null,
   "metadata": {},
   "outputs": [],
   "source": [
    "# Example 7: Don't ASSIGN(x = 2) when you mean to COMPARE (x == 2)\n",
    "x = 2\n",
    "\n",
    "if x = 2:\n",
    "    print('\"==\" tests for, is equal to')\n",
    "else:\n",
    "    print('Will this line of code be executed?')"
   ]
  },
  {
   "cell_type": "markdown",
   "metadata": {},
   "source": [
    "### Multi-way `if-elif-else` statements\n",
    "\n",
    "A multi-way `if-elif-else` statement can be used to implement multiple alternatives. \n",
    "\n",
    "**Syntax for a multi-way `if-elif-else` statement:**\n",
    "\n",
    "```python\n",
    "if condition1:\n",
    "    perform action1\n",
    "elif condition2:\n",
    "    perform action2\n",
    "else: \n",
    "    perform action 3\n",
    "```\n",
    "\n",
    "- **`elif`**&nbsp; statement follows **`if`**, and means **\"else, if \"** another condition exists do something else\n",
    "- **`elif`** can be used many times\n",
    "- **`else`** is optional and is normally used after the last test condition (**`if`** or **`elif`**)\n",
    "\n",
    "Note that the `elif` statements are each checked until a `True` boolean causes the nested code below it to run. You should also note that you can put in **as many `elif` statements as you want**.\n"
   ]
  },
  {
   "cell_type": "markdown",
   "metadata": {},
   "source": [
    "#### Examples:"
   ]
  },
  {
   "cell_type": "code",
   "execution_count": null,
   "metadata": {},
   "outputs": [],
   "source": [
    "# Example 1: Simple welcome\n",
    "person = 'George'\n",
    "\n",
    "if person == 'John':\n",
    "    print('Welcome John!')\n",
    "elif person =='George':\n",
    "    print('Welcome George!')\n",
    "else:\n",
    "    print(\"Welcome, what's your name?\")"
   ]
  },
  {
   "cell_type": "code",
   "execution_count": null,
   "metadata": {},
   "outputs": [],
   "source": [
    "# Example 2: What to Wear\n",
    "weather = input(\"Enter weather (sunny, rainy, snowy): \") \n",
    "\n",
    "if weather.lower() == \"sunny\":\n",
    "    print(\"Wear a t-shirt\")\n",
    "elif weather.lower() == \"rainy\":\n",
    "    print(\"Bring an umbrella and boots\")\n",
    "elif weather.lower() == \"snowy\":\n",
    "    print(\"Wear a warm coat and hat\")\n",
    "else:\n",
    "    print(\"Sorry, not sure what to suggest for\", weather)"
   ]
  },
  {
   "cell_type": "code",
   "execution_count": null,
   "metadata": {},
   "outputs": [],
   "source": [
    "# Example 3: Secret Number Guess\n",
    "secret_num = \"2\"\n",
    "\n",
    "guess = input(\"Enter a guess for the secret number (1-3): \")\n",
    "\n",
    "if guess.isdigit() == False:\n",
    "    print(\"Invalid: guess should only use digits\")\n",
    "elif guess == \"1\":\n",
    "    print(\"Guess is too low\")\n",
    "elif guess == secret_num:\n",
    "    print(\"Guess is right\")\n",
    "elif guess == \"3\":\n",
    "    print(\"Guess is too high\")\n",
    "else:\n",
    "    print(guess, \"is not a valid guess (1-3)\")"
   ]
  },
  {
   "cell_type": "markdown",
   "metadata": {},
   "source": [
    "<h4 style=\"font-size:2.2em; font-family: verdana, Geneva, sans-serif; color:#00A0B2\">Using <code style=\"color:inherit\">pass</code></h4>\n",
    "\n",
    "`pass` is used when a statement is required syntactically but you do not want any command or code to execute.\n",
    "- The `pass` statement is a *null* operation; nothing happens when it executes. \n",
    "- The `pass` is also useful in places where your code will eventually go, but has not been written yet (e.g., in stubs for example)"
   ]
  },
  {
   "cell_type": "code",
   "execution_count": null,
   "metadata": {
    "collapsed": true
   },
   "outputs": [],
   "source": [
    "someone_i_know = False\n",
    "if someone_i_know:\n",
    "    print(\"How have you been?\")\n",
    "else:\n",
    "    # use pass if there is no need to execute code \n",
    "    pass"
   ]
  },
  {
   "cell_type": "code",
   "execution_count": null,
   "metadata": {
    "collapsed": true
   },
   "outputs": [],
   "source": [
    "# changed the value of someone_i_know\n",
    "someone_i_know = True\n",
    "if someone_i_know:\n",
    "    print(\"How have you been?\")\n",
    "else:\n",
    "    pass"
   ]
  },
  {
   "cell_type": "markdown",
   "metadata": {},
   "source": [
    "<h1 style=\"font-size:2.2em; font-family: verdana, Geneva, sans-serif; color:#00A0B2\"><code style=\"color:inherit\">if-elif-else</code> vs. <code style=\"color:inherit\">if-if</code></h1>\n",
    "\n",
    "An `if` statement with an `elif` clause is a **single statement**. The expressions are evaluated from top to bottom until one produces `True` or until there are no expressions left to evaluate. When an expression produces `True`, the body associated with it is executed and then the `if` statement exits. Any subsequent expressions are ignored. For example:\n",
    "\n",
    "```python\n",
    "grade1 = 70\n",
    "grade2 = 80\n",
    "\n",
    "if grade1 >= 50:\n",
    "    print('You passed a course with grade: ', grade1)\n",
    "elif grade2 >= 50:\n",
    "    print('You passed a course with grade: ', grade2)\n",
    "```\n",
    "\n",
    "The `if` statement condition (`grade1 >= 50`) evaluates to `True`, so the body associated with the `if` is executed and then the `if` exits. The `elif` condition is not even evaluated in this case.\n",
    "\n",
    "It is possible for `if` statements to appear one after another in a program. Although they are be adjacent to each other, they are completely independent of each other and it is possible for the body of each if to be executed. For example:\n",
    "\n",
    "```python\n",
    "grade1 = 70\n",
    "grade2 = 80\n",
    "\n",
    "if grade1 >= 50:\n",
    "    print('You passed a course with grade: ', grade1)\n",
    "if grade2 >= 50:\n",
    "    print('You passed a course with grade: ', grade2)\n",
    "```    \n",
    "\n",
    "In the program above, the condition associated with the first if statement (`grade1 >= 50`) produces `True`, so the body associated with it is executed. The condition associated with the second `if` statement (`grade2 >= 50`) also produces `True`, so the body associated with it is also executed."
   ]
  },
  {
   "cell_type": "markdown",
   "metadata": {},
   "source": [
    "<h4 style=\"font-size:2.2em; font-family: verdana, Geneva, sans-serif; color:#B24C00\">\n",
    "Exercise</h4>"
   ]
  },
  {
   "cell_type": "markdown",
   "metadata": {
    "collapsed": true
   },
   "source": [
    "**1) Write a program that uses an `if-else statement` to give a weather report.**"
   ]
  },
  {
   "cell_type": "code",
   "execution_count": null,
   "metadata": {},
   "outputs": [],
   "source": [
    "sunny_today = True\n",
    "# test if it is sunny_today and give proper responses using if and else\n"
   ]
  },
  {
   "cell_type": "code",
   "execution_count": null,
   "metadata": {},
   "outputs": [],
   "source": [
    "sunny_today = False\n",
    "# use code you created above and test sunny_today = False\n"
   ]
  },
  {
   "cell_type": "markdown",
   "metadata": {},
   "source": [
    "**2) Write a program that asks the user to input two numbers. After your program accepts the second number, have your program check the numbers. If the first number entered is greater than the second number, display the message:**\n",
    "\n",
    "&nbsp;&nbsp;&nbsp;&nbsp; ```The first number is greater.```\n",
    "\n",
    "Otherwise, display the message \n",
    "\n",
    "&nbsp;&nbsp;&nbsp;&nbsp; ```The first number is not greater than the second.```"
   ]
  },
  {
   "cell_type": "markdown",
   "metadata": {},
   "source": [
    "**3) Write a program to validate that user input is outside the range `[0, 100]`**\n"
   ]
  },
  {
   "cell_type": "code",
   "execution_count": null,
   "metadata": {},
   "outputs": [],
   "source": []
  },
  {
   "cell_type": "markdown",
   "metadata": {},
   "source": [
    "**4) Write a program to ask a user for her/his BMI index, then display the user's BMI category**\n",
    "\n",
    "**BMI category**\n",
    "The Body Mass Index (BMI) measures the body fat using the weight and height of a person. The BMI is used to classify adults into categories as in the following table.\n",
    "\n",
    "|Category     |BMI range   |\n",
    "|-------------|------------|\n",
    "|Underweight  | < 18.5     |\n",
    "|Normal Weight| 18.5 - 24.9|\n",
    "|Overweight   | 25 - 29.9  |\n",
    "|Obese        | &geq; 30   |\n"
   ]
  },
  {
   "cell_type": "code",
   "execution_count": null,
   "metadata": {},
   "outputs": [],
   "source": []
  },
  {
   "cell_type": "markdown",
   "metadata": {
    "collapsed": true
   },
   "source": [
    "**5) Write a program that uses an `if-else` statement to test whether the following strings are lowercase().**\n",
    "\n",
    "```python\n",
    "test_string_1 = \"wisdom for change\"\n",
    "test_string_2 = \"I have a Gucci bag.\"\n",
    "```\n"
   ]
  },
  {
   "cell_type": "code",
   "execution_count": null,
   "metadata": {},
   "outputs": [],
   "source": []
  },
  {
   "cell_type": "markdown",
   "metadata": {},
   "source": [
    "**6) Write a program that uses an `if-else` statement to test whether the following strings start with `w`**:\n",
    "\n",
    "```python\n",
    "test_string_1 = \"wisdom for change\"\n",
    "test_string_2 = \"I have a Gucci bag.\"\n",
    "test_string_3 = \"With a function it's efficient to repeat code\"\n",
    "```"
   ]
  },
  {
   "cell_type": "code",
   "execution_count": null,
   "metadata": {
    "collapsed": true
   },
   "outputs": [],
   "source": []
  },
  {
   "cell_type": "markdown",
   "metadata": {},
   "source": [
    "<h4 style=\"font-size:2.2em; font-family: verdana, Geneva, sans-serif; color:#00A0B2\">Nested <code style=\"color:inherit\">if</code></h4>\n",
    "\n",
    "The statement in an `if` or `if-else` statement can be any legal Python statement, including another `if` or `if-else` statement. The inner `if` statement is said to be **nested** inside the outer `if` statement. The inner `if` statement can contain another `if` statement; in fact, there is no limit to the depth of the nesting. \n",
    "\n",
    "For example, consider a program that determines whether a bank customer qualifies for a loan.\n",
    "To qualify, two conditions must exist: \n",
    "1. the customer must earn at least $30,000 per year, and \n",
    "2. the customer must have been employed for at least two years. \n",
    "\n",
    "![flowchat of nested if example](img/nested_if_example.png)\n",
    "<p style=\"font-size:0.8em; font-style:italic; color:#777; text-align:center\">Source: Starting out with Python 3rd Edition by Tony Gaddis, Pearson, 2015.</p>"
   ]
  },
  {
   "cell_type": "markdown",
   "metadata": {},
   "source": [
    "\n",
    "\n"
   ]
  },
  {
   "cell_type": "code",
   "execution_count": null,
   "metadata": {
    "collapsed": true
   },
   "outputs": [],
   "source": [
    "min_salary = 30000.0   # The minimum anual salary\n",
    "min_years = 2          # The minimum years on the job\n",
    "\n",
    "# Get the customer's annual salary.\n",
    "salary = float(input('Enter your annual salary: '))\n",
    "\n",
    "# Get the number of years on the current job.\n",
    "years_on_job = int(input('Enter the number of years employed: '))\n",
    "\n",
    "# Determine whether the customer qualifies.\n",
    "if salary >= min_salary:\n",
    "    if years_on_job >= min_years:\n",
    "        print('You qualify for the loan.')\n",
    "    else:\n",
    "        print('You must have been employed for at least {} years to qualify.'.format(min_years))\n",
    "else:\n",
    "    print('You must earn at least ${:.2f} per year to qualify.'.format(min_salary))"
   ]
  },
  {
   "cell_type": "markdown",
   "metadata": {},
   "source": [
    "<h4 style=\"font-size:2.2em; font-family: verdana, Geneva, sans-serif; color:#00A0B2\">Nested <code style=\"color:inherit\">if</code> and Multi-Way <code style=\"color:inherit\">if-elif-else</code></h4>\n",
    "\n",
    "The nested `if` statement can be used to implement multiple alternatives. However, a preferred format for multiple alternatives is shown in (b) using a multi-way `if-elif-else` statement.\n",
    "\n",
    "**Syntax for a multi-way `if-elif-else` statement:**\n",
    "\n",
    "```python\n",
    "if condition1:\n",
    "    perform action1\n",
    "elif condition2:\n",
    "    perform action2\n",
    "else: \n",
    "    perform action 3\n",
    "```\n",
    "\n",
    "**Example: a nested IF vs. a multi-way `if-elif-else` statement**\n",
    "![multi-way if-elif-else statement](img/multiway_if.png)\n",
    "\n",
    "<p style=\"font-size:0.8em; font-style:italic; color:#777; text-align:center\">Source: Introduction to Programming Using Python 1st Edition by Y. Daniel Liang, Pearson, 2012.</p>\n",
    "\n",
    "\n",
    "![flowchat of multi-way if-elif-else statement](img/multiway_if_example.png)\n",
    "\n",
    "<p style=\"font-size:0.8em; font-style:italic; color:#777; text-align:center\">Source: Introduction to Programming Using Python 1st Edition by Y. Daniel Liang, Pearson, 2012.</p>"
   ]
  },
  {
   "cell_type": "markdown",
   "metadata": {},
   "source": [
    "<h1 style=\"font-size:2.2em; font-family: verdana, Geneva, sans-serif; color:#00A0B2\">Simplifying Nested <code style=\"color:inherit\">if</code></h1>\n",
    "\n",
    "Considering the following code:\n",
    "```python\n",
    "if precipitation:\n",
    "    if temperature > 0:\n",
    "        print('Bring your umbrella!')\n",
    "    else:\n",
    "        print('Wear your snow boots and winter coat!)\n",
    "```\n",
    "    \n",
    "The statement above can be simplified by removing some of the nesting as follows:\n",
    "\n",
    "```python\n",
    "if precipitation and temperature > 0:\n",
    "    print('Bring your umbrella')\n",
    "elif precipitation:\n",
    "    print('Wear your snow boots and winter coat!')\n",
    "```"
   ]
  },
  {
   "cell_type": "code",
   "execution_count": null,
   "metadata": {},
   "outputs": [],
   "source": []
  },
  {
   "cell_type": "markdown",
   "metadata": {},
   "source": [
    "# &nbsp;\n",
    "<font size=\"6\" color=\"#B24C00\"  face=\"verdana\"> <B>Exercise</B></font>\n",
    "\n",
    "**1) Convert the following code to an `if-elif-else` statement:**\n",
    "```python\n",
    "if number == 1:\n",
    "    print('One')\n",
    "else:\n",
    "    if number == 2:\n",
    "        print('Two')\n",
    "    else:\n",
    "        if number == 3:\n",
    "          print('Three')\n",
    "        else:\n",
    "          print('Unknown')\n",
    "```"
   ]
  },
  {
   "cell_type": "code",
   "execution_count": null,
   "metadata": {
    "collapsed": true
   },
   "outputs": [],
   "source": []
  },
  {
   "cell_type": "markdown",
   "metadata": {},
   "source": [
    "**2) What is wrong in the following code?**\n",
    "\n",
    "```python\n",
    "if score >= 60.0: \n",
    "    grade = 'D'\n",
    "elif score >= 70.0: \n",
    "    grade = 'C' \n",
    "elif score >= 80.0: \n",
    "    grade = 'B' \n",
    "elif score >= 90.0: \n",
    "    grade = 'A'\n",
    "else:\n",
    "    grade = 'F'\n",
    "```"
   ]
  },
  {
   "cell_type": "code",
   "execution_count": null,
   "metadata": {
    "collapsed": true
   },
   "outputs": [],
   "source": []
  }
 ],
 "metadata": {
  "kernelspec": {
   "display_name": "Python 3",
   "language": "python",
   "name": "python3"
  },
  "language_info": {
   "codemirror_mode": {
    "name": "ipython",
    "version": 3
   },
   "file_extension": ".py",
   "mimetype": "text/x-python",
   "name": "python",
   "nbconvert_exporter": "python",
   "pygments_lexer": "ipython3",
   "version": "3.6.7"
  },
  "latex_envs": {
   "LaTeX_envs_menu_present": true,
   "autocomplete": true,
   "bibliofile": "biblio.bib",
   "cite_by": "apalike",
   "current_citInitial": 1,
   "eqLabelWithNumbers": true,
   "eqNumInitial": 1,
   "hotkeys": {
    "equation": "Ctrl-E",
    "itemize": "Ctrl-I"
   },
   "labels_anchors": false,
   "latex_user_defs": false,
   "report_style_numbering": false,
   "user_envs_cfg": false
  }
 },
 "nbformat": 4,
 "nbformat_minor": 2
}
