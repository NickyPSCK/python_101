{
 "cells": [
  {
   "cell_type": "markdown",
   "metadata": {},
   "source": [
    "# Lesson 6: Repetition Structures\n",
    "\n",
    "- **The augmented assignment operators**\n",
    "- **`while` statement**\n",
    "- **Infinite loops**\n",
    "- **Infinite loops and `break`**\n",
    "- **Finishing Iterations with `continue`**\n",
    "- **`for` statement**\n",
    "- **Built-in Class `range`**"
   ]
  },
  {
   "cell_type": "markdown",
   "metadata": {},
   "source": [
    "<h4 style=\"font-size:2.2em; font-family: verdana, Geneva, sans-serif; color:#00A0B2\">The Augmented Assignment Operators</h4>\n",
    "\n",
    "Quite often, programs have assignment statements in which the variable that is on the left side of the `=` operator also appears on the right side of the `=` operator. Here is an example:\n",
    "\n",
    "```python\n",
    "x = x + 1\n",
    "```\n",
    "\n",
    "These types of operations are common in programming. For convenience, Python offers a special set of operators designed specifically for these jobs.  The following table shows the **augmented assignment operators**.\n",
    "\n",
    "<img src=\"img/augmented_assignment_operators.png\" style=\"max-width:70%; max-height:70%\">\n",
    "\n",
    "<p style=\"font-size:0.8em; font-style:italic; color:#777; text-align:center\">Source: Starting out with Python 3rd Edition by Tony Gaddis, Pearson, 2015.</p>"
   ]
  },
  {
   "cell_type": "markdown",
   "metadata": {},
   "source": [
    "<h4 style=\"font-size:2.2em; font-family: verdana, Geneva, sans-serif; color:#00A0B2\"><code style=\"color:inherit\">while</code> Statement</h4>\n",
    "\n",
    "Computers are often used to **automate repetitive tasks**. Repeating identical or\n",
    "similar tasks without making errors is something that computers do well and people\n",
    "do poorly. Because iteration is so common, Python provides several language\n",
    "features to make it easier. One form of iteration in Python is the `while` statement. \n",
    "\n",
    "Here is a simple program that mimics a children game, *hide-and-seek*."
   ]
  },
  {
   "cell_type": "code",
   "execution_count": null,
   "metadata": {},
   "outputs": [],
   "source": [
    "n = 1\n",
    "while n <= 10:\n",
    "    print(n)\n",
    "    n = n + 1\n",
    "print('Ready or not, here I come!')"
   ]
  },
  {
   "cell_type": "markdown",
   "metadata": {},
   "source": [
    "**Syntax of a `while` loop:**\n",
    "\n",
    "```python\n",
    "while expression:\n",
    "    statement(s)\n",
    "```\n",
    "\n",
    "The `while` condition (`n <= 10` in our example), is evaluated, and if it is `True` the statements in the loop body are executed. The loop condition is rechecked and if found to be `True`, the body executes again. This continues until the loop condition is checked and is `False`."
   ]
  },
  {
   "cell_type": "markdown",
   "metadata": {},
   "source": [
    "<h4 style=\"font-size:2.2em; font-family: verdana, Geneva, sans-serif; color:#00A0B2\">Infinite Loops</h4>\n",
    "\n",
    "Here are examples of **infinite** or **forever** loops.\n",
    "\n",
    "**Example 1:**\n",
    "```python\n",
    "n = 1\n",
    "while n <= 10:\n",
    "    print(n)\n",
    "print('Ready or not, here I come!')\n",
    "```\n",
    "\n",
    "**Example 2:**\n",
    "```python\n",
    "n = 1\n",
    "while n <= 10:\n",
    "    print(n)\n",
    "    n = n - 1\n",
    "print('Ready or not, here I come!')\n",
    "```"
   ]
  },
  {
   "cell_type": "markdown",
   "metadata": {},
   "source": [
    "<h4 style=\"font-size:2.2em; font-family: verdana, Geneva, sans-serif; color:#00A0B2\">Infinite Loops and <code style=\"color:inherit\">break</code></h4>\n",
    "\n",
    "Sometimes you don’t know it’s time to end a loop until you get half way through\n",
    "the body. In that case you can write an infinite loop on purpose and then use the\n",
    "`break` statement to jump out of the loop.\n",
    "\n",
    "This loop is obviously an infinite loop because the logical expression on the while\n",
    "statement is simply the logical constant `True`\n",
    "\n",
    "```python\n",
    "while True:\n",
    "    print('write forever, unless there is a \"break\"')\n",
    "```\n",
    "While this is a dysfunctional infinite loop, we can still use this pattern to build\n",
    "useful loops as long as we carefully add code to the body of the loop to explicitly\n",
    "exit the loop using `break` when we have reached the exit condition.\n",
    "\n",
    "For example, suppose you want to take input from the user until they type *done*.\n",
    "You could write:"
   ]
  },
  {
   "cell_type": "code",
   "execution_count": null,
   "metadata": {},
   "outputs": [],
   "source": [
    "while True:\n",
    "    line = input('> ')\n",
    "    if line == 'done':\n",
    "        break\n",
    "    print(line)\n",
    "print('Done!')"
   ]
  },
  {
   "cell_type": "markdown",
   "metadata": {},
   "source": [
    "**This way of writing `while` loops is common in Python** because you can check the condition\n",
    "anywhere in the loop (not just at the top) and you can express the stop condition\n",
    "affirmatively (\"stop when this happens\") rather than negatively (\"keep going until\n",
    "that happens.\")."
   ]
  },
  {
   "cell_type": "code",
   "execution_count": null,
   "metadata": {},
   "outputs": [],
   "source": [
    "# review and run the code\n",
    "# what cause the break statement to run?\n",
    "\n",
    "number_guess = \"0\"\n",
    "secret_number = \"5\"\n",
    "\n",
    "while True:\n",
    "    number_guess = input(\"guess the number 1 to 5: \")\n",
    "    if number_guess == secret_number:\n",
    "        print(\"Yes\", number_guess,\"is correct!\\n\")\n",
    "        break\n",
    "    else:\n",
    "        print(number_guess,\"is incorrect\\n\")"
   ]
  },
  {
   "cell_type": "markdown",
   "metadata": {},
   "source": [
    "<h4 style=\"font-size:2.2em; font-family: verdana, Geneva, sans-serif; color:#00A0B2\">Finishing Iterations with <code style=\"color:inherit\">continue</code></h4>\n",
    "\n",
    "Sometimes you are in an iteration of a loop and want to finish the current iteration and immediately jump to the next iteration. In that case you can use the `continue` statement to skip to the next iteration without finishing the body of the loop for the current iteration.\n",
    "\n",
    "Here is an example of a loop that copies its input until the user types \"done\", but treats lines that start with the hash character as lines not to be printed (kind of like Python comments)."
   ]
  },
  {
   "cell_type": "code",
   "execution_count": null,
   "metadata": {
    "collapsed": true
   },
   "outputs": [],
   "source": [
    "while True:\n",
    "    line = input('> ')\n",
    "    if line.startswith('#'):\n",
    "        continue\n",
    "    if line == 'done':\n",
    "        break\n",
    "    print(line)\n",
    "print('Done!')"
   ]
  },
  {
   "cell_type": "markdown",
   "metadata": {},
   "source": [
    "<h4 style=\"font-size:2.2em; font-family: verdana, Geneva, sans-serif; color:#B24C00\">\n",
    "Exercise</h4>"
   ]
  },
  {
   "cell_type": "markdown",
   "metadata": {},
   "source": [
    "**1) Write a program that counts down from five and then says “Blastoff!”.**"
   ]
  },
  {
   "cell_type": "code",
   "execution_count": null,
   "metadata": {},
   "outputs": [],
   "source": []
  },
  {
   "cell_type": "markdown",
   "metadata": {},
   "source": [
    "**2) Write a program that uses a while loop to find the smallest integer n such that n<sup>2</sup> is greater than 12000.**"
   ]
  },
  {
   "cell_type": "code",
   "execution_count": null,
   "metadata": {},
   "outputs": [],
   "source": []
  },
  {
   "cell_type": "markdown",
   "metadata": {},
   "source": [
    "**3) Program: Get a name forever ...or until done**\n",
    "- create variable, `familar_name`, and assign it an empty string (**`\"\"`**)\n",
    "- use **`while True:`**\n",
    "- ask for user input for `familar_name` (common name friends/family use) \n",
    "- keep asking until given a non-blank/non-space alphabetical name is received (*Hint: Boolean string test*)\n",
    "- break loop and print a greeting using `familar_name`"
   ]
  },
  {
   "cell_type": "code",
   "execution_count": null,
   "metadata": {},
   "outputs": [],
   "source": []
  },
  {
   "cell_type": "markdown",
   "metadata": {
    "collapsed": true
   },
   "source": [
    "**4) Fix the Errors**\n",
    "- This loop never runs\n",
    "- This is a logic error - there is no error message, but the code *doesn't work*"
   ]
  },
  {
   "cell_type": "code",
   "execution_count": 1,
   "metadata": {},
   "outputs": [],
   "source": [
    "# review the code, run, fix the Logic error\n",
    "count = 1\n",
    "\n",
    "# loop 5 times\n",
    "while count > 6:\n",
    "    print(count, \"x\", count, \"=\", count*count)\n",
    "    count +=1"
   ]
  },
  {
   "cell_type": "markdown",
   "metadata": {},
   "source": [
    "<h4 style=\"font-size:2.2em; font-family: verdana, Geneva, sans-serif; color:#00A0B2\"><code style=\"color:inherit\">for</code> Statement</h4>\n",
    "\n",
    "One form of iteration in Python is the `for` statement. For example, we can write a simple program that displays the uses a `for` statement to display numbers 1 through 5 as follows:\n"
   ]
  },
  {
   "cell_type": "markdown",
   "metadata": {},
   "source": [
    "```python\n",
    "for num in [1, 2, 3, 4, 5]:\n",
    "    print(num)\n",
    "```"
   ]
  },
  {
   "cell_type": "markdown",
   "metadata": {},
   "source": [
    "The `for` statement executes in the following manner:\n",
    "![for loop example](img/for_loop_example.png)\n",
    "\n",
    "\n",
    "**Syntax of a `for` statement:**\n",
    "\n",
    "```python\n",
    "for element in collection:\n",
    "    statement(s)\n",
    "```\n",
    "\n",
    "- Recall that a `collection` or `container` is a single objet that contains multiple elements that are associated with the collection object.\n",
    "- Examples of collections are strings, list, tuples, etc.\n",
    "- The variable name used for the `element` is **completely up to the coder**.\n",
    "- The variable refers to each element in the collection in turn and can be referenced inside the loop."
   ]
  },
  {
   "cell_type": "code",
   "execution_count": null,
   "metadata": {},
   "outputs": [],
   "source": [
    "for num in [1, 2, 3, 4, 5]:\n",
    "    print(num)"
   ]
  },
  {
   "cell_type": "code",
   "execution_count": null,
   "metadata": {},
   "outputs": [],
   "source": [
    "sum_list = 0\n",
    "\n",
    "for element in [1,2,3,4,5]:\n",
    "    sum_list = sum_list + element\n",
    "    \n",
    "print(sum_list)"
   ]
  },
  {
   "cell_type": "markdown",
   "metadata": {},
   "source": [
    "Let's look at some examples of `for` loop over a string:"
   ]
  },
  {
   "cell_type": "code",
   "execution_count": null,
   "metadata": {
    "scrolled": true
   },
   "outputs": [],
   "source": [
    "# print each character in a string\n",
    "\n",
    "for char in 'Hello World':\n",
    "    print(char)"
   ]
  },
  {
   "cell_type": "code",
   "execution_count": null,
   "metadata": {},
   "outputs": [],
   "source": [
    "# count the number of vowels in a string\n",
    "\n",
    "s = 'Happy Birthday'\n",
    "num_vowels = 0\n",
    "    \n",
    "for char in s:\n",
    "    if char in 'aeiouAEIOU':\n",
    "        num_vowels = num_vowels + 1\n",
    "        \n",
    "print(num_vowels)"
   ]
  },
  {
   "cell_type": "code",
   "execution_count": null,
   "metadata": {},
   "outputs": [],
   "source": [
    "# collect the vowels in a string\n",
    "vowels = ''\n",
    "\n",
    "movie = 'Avengers: Age of Ultron'\n",
    "for char in movie:\n",
    "    if char in 'aeiouAEIOU':\n",
    "        vowels = vowels + char\n",
    "        \n",
    "print(vowels)      "
   ]
  },
  {
   "cell_type": "markdown",
   "metadata": {},
   "source": [
    "Let's look at an example of `for` loop over a list of friends:"
   ]
  },
  {
   "cell_type": "code",
   "execution_count": null,
   "metadata": {},
   "outputs": [],
   "source": [
    "friends = ['Joseph', 'Glenn', 'Sally']\n",
    "\n",
    "for friend in friends:\n",
    "    print('Happy New Year:', friend)\n",
    "\n",
    "print('Done!')"
   ]
  },
  {
   "cell_type": "markdown",
   "metadata": {},
   "source": [
    "<h4 style=\"font-size:2.2em; font-family: verdana, Geneva, sans-serif; color:#00A0B2\">Built-in Class  <code style=\"color:inherit\">range</code></h4>\n",
    "\n",
    "Python has a built-in class called `range` that is useful to use when you want to generate a sequence of numbers. \n",
    "\n",
    "`range` takes up to 3 arguments:\n",
    "- the beginning of the range. Assumed to be 0 if not provided\n",
    "- the end of the range, but not inclusive (up to but not including the number). Required\n",
    "- the step of the range or separation between each value. Assumed to be 1 if not provided\n",
    "\n",
    "If only one argument is provided, it is assumed to be the end value!"
   ]
  },
  {
   "cell_type": "code",
   "execution_count": null,
   "metadata": {},
   "outputs": [],
   "source": [
    "help(range)"
   ]
  },
  {
   "cell_type": "code",
   "execution_count": null,
   "metadata": {},
   "outputs": [],
   "source": [
    "for i in range(5):\n",
    "    print(i, end=' ')"
   ]
  },
  {
   "cell_type": "code",
   "execution_count": null,
   "metadata": {},
   "outputs": [],
   "source": [
    "for i in range(3,10):\n",
    "    print(i, end=' ')"
   ]
  },
  {
   "cell_type": "code",
   "execution_count": null,
   "metadata": {},
   "outputs": [],
   "source": [
    "for i in range(1,20,4):\n",
    "    print(i, end=' ')"
   ]
  },
  {
   "cell_type": "code",
   "execution_count": null,
   "metadata": {},
   "outputs": [],
   "source": [
    "for i in range(1,20,2):     \n",
    "    print(i, end=' ')"
   ]
  },
  {
   "cell_type": "markdown",
   "metadata": {},
   "source": [
    "**`range` generates value on demand.** We can generate a very large range of numbers, but we don't have to create all the numbers at once, which could take a lot of memory and time."
   ]
  },
  {
   "cell_type": "code",
   "execution_count": null,
   "metadata": {},
   "outputs": [],
   "source": [
    "range(1,10)"
   ]
  },
  {
   "cell_type": "code",
   "execution_count": null,
   "metadata": {},
   "outputs": [],
   "source": [
    "my_range = range(1,10)\n",
    "type(my_range)"
   ]
  },
  {
   "cell_type": "code",
   "execution_count": null,
   "metadata": {},
   "outputs": [],
   "source": [
    "# returns how many elements it contains, even if they have not been generated yet!\n",
    "len(my_range)"
   ]
  },
  {
   "cell_type": "markdown",
   "metadata": {},
   "source": [
    "Let's look at a program that uses a loop to display a table showing the numbers 1 through 10 and their squares."
   ]
  },
  {
   "cell_type": "code",
   "execution_count": null,
   "metadata": {},
   "outputs": [],
   "source": [
    "# Print the table headings.\n",
    "print('Number\\tSquare')\n",
    "print('-' * 15)\n",
    "\n",
    "# Print the numbers 1 through 10\n",
    "# and their squares.\n",
    "for number in range(1, 11):\n",
    "    square = number**2\n",
    "    print(number, '\\t', square)"
   ]
  },
  {
   "cell_type": "markdown",
   "metadata": {},
   "source": [
    "<h4 style=\"font-size:2.2em; font-family: verdana, Geneva, sans-serif; color:#B24C00\">\n",
    "Exercise</h4>"
   ]
  },
  {
   "cell_type": "markdown",
   "metadata": {},
   "source": [
    "**1) Write the hide-and-seek program using `for` statement.**"
   ]
  },
  {
   "cell_type": "code",
   "execution_count": null,
   "metadata": {},
   "outputs": [],
   "source": []
  },
  {
   "cell_type": "markdown",
   "metadata": {},
   "source": [
    "**2) Write a program that uses a `for` loop to print the odd numbers from `1` to `99` (inclusive).**"
   ]
  },
  {
   "cell_type": "code",
   "execution_count": null,
   "metadata": {},
   "outputs": [],
   "source": []
  },
  {
   "cell_type": "markdown",
   "metadata": {},
   "source": [
    "**3) Write a program that uses a for loop to print the multiples of 3 from 300 down to 3.**"
   ]
  },
  {
   "cell_type": "code",
   "execution_count": null,
   "metadata": {
    "collapsed": true
   },
   "outputs": [],
   "source": []
  },
  {
   "cell_type": "markdown",
   "metadata": {},
   "source": [
    "**4) Write a program that reads 10 integer values from the user and prints the highest value entered.**  "
   ]
  },
  {
   "cell_type": "code",
   "execution_count": null,
   "metadata": {
    "collapsed": true
   },
   "outputs": [],
   "source": []
  },
  {
   "cell_type": "markdown",
   "metadata": {},
   "source": [
    "**5) Write a program that does the folowings:**  \n",
    "\n",
    "- Get user input for `first_name`\n",
    "- iterate through letters in `first_name`\n",
    "- print each letter on a new line\n",
    "\n"
   ]
  },
  {
   "cell_type": "code",
   "execution_count": null,
   "metadata": {
    "collapsed": true
   },
   "outputs": [],
   "source": []
  },
  {
   "cell_type": "markdown",
   "metadata": {},
   "source": [
    "**6) Program: capitalize-io**\n",
    "- get user input for `first_name`\n",
    "- create an empty string variable: `new_name`\n",
    "- iterate through letters in `first_name` \n",
    "  - add each letter in `new_name`\n",
    "  - capitalize if letter is an \"i\" or \"o\" (*hint: `if, elif, else`*)\n",
    "- print `new_name`"
   ]
  },
  {
   "cell_type": "code",
   "execution_count": null,
   "metadata": {
    "collapsed": true
   },
   "outputs": [],
   "source": []
  }
 ],
 "metadata": {
  "anaconda-cloud": {},
  "kernelspec": {
   "display_name": "Python 3",
   "language": "python",
   "name": "python3"
  },
  "language_info": {
   "codemirror_mode": {
    "name": "ipython",
    "version": 3
   },
   "file_extension": ".py",
   "mimetype": "text/x-python",
   "name": "python",
   "nbconvert_exporter": "python",
   "pygments_lexer": "ipython3",
   "version": "3.6.7"
  },
  "latex_envs": {
   "LaTeX_envs_menu_present": true,
   "autocomplete": true,
   "bibliofile": "biblio.bib",
   "cite_by": "apalike",
   "current_citInitial": 1,
   "eqLabelWithNumbers": true,
   "eqNumInitial": 1,
   "hotkeys": {
    "equation": "Ctrl-E",
    "itemize": "Ctrl-I"
   },
   "labels_anchors": false,
   "latex_user_defs": false,
   "report_style_numbering": false,
   "user_envs_cfg": false
  }
 },
 "nbformat": 4,
 "nbformat_minor": 1
}
