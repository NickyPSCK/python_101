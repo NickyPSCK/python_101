{
 "cells": [
  {
   "cell_type": "markdown",
   "metadata": {},
   "source": [
    "# Lesson 7: Functions\n",
    "\n",
    "- **Why have Functions?**\n",
    "- **Defining a Function**\n",
    "- **Divide-and-conquer Problem Solving**\n",
    "- **Immutable vs. Mutable Arguments**\n",
    "- **Local Variables within Functions**\n",
    "- **Importing Modules**"
   ]
  },
  {
   "cell_type": "markdown",
   "metadata": {},
   "source": [
    "<h1 style=\"font-size:2em; font-family: verdana, Geneva, sans-serif; color:#00A0B2\">\n",
    "Why have Functions?</h1>\n",
    "\n",
    "Suppose that you need to find the sum of integers in a list of `[1, 2, 3, 4, 5, 6, 7, 8, 9, 10]` and a list of `[39, 27, 34, 50]`. If you create a program to add these numbers, your code might look like this:"
   ]
  },
  {
   "cell_type": "code",
   "execution_count": null,
   "metadata": {},
   "outputs": [],
   "source": [
    "# [1, 2, 3, 4, 5, 6, 7, 8, 9, 10]\n"
   ]
  },
  {
   "cell_type": "code",
   "execution_count": null,
   "metadata": {
    "scrolled": true
   },
   "outputs": [],
   "source": [
    "# [39, 27, 34, 50]\n"
   ]
  },
  {
   "cell_type": "markdown",
   "metadata": {},
   "source": [
    "You may have observed that the code for computing these sums is very similar, except that the lists are different. Wouldn’t it be nice to be able to write commonly used code once and then reuse it? You can do this by defining (creating) a function. Once a function has been created, it can be reused. \n",
    "\n",
    "You can think of a function as a small program that performs a specific task. The function can take some input values, perform some task and, when finished, potentially return a value. You can then use these functions over and over to compute results based upon different inputs. \n",
    "\n",
    "Effectively, the caller of a function only needs to know how to call the function and <em style=\"color:blue\">what</em> it does. The caller does not need to know <em style=\"color:blue\">how</em> the function does it!\n",
    "\n",
    "For example, the preceding code can be simplified by using the built-in function `sum`, which adds the items of an iterable and returns the sum, as follows:"
   ]
  },
  {
   "cell_type": "code",
   "execution_count": null,
   "metadata": {},
   "outputs": [],
   "source": [
    "# [1, 2, 3, 4, 5, 6, 7, 8, 9, 10]\n"
   ]
  },
  {
   "cell_type": "code",
   "execution_count": null,
   "metadata": {
    "scrolled": false
   },
   "outputs": [],
   "source": [
    "# [39, 27, 34, 50]\n"
   ]
  },
  {
   "cell_type": "markdown",
   "metadata": {},
   "source": [
    "<h1 style=\"font-size:2em; font-family: verdana, Geneva, sans-serif; color:#00A0B2\">\n",
    "Defining a Function</h1>\n",
    "\n",
    "You use the `def` statement to create a function, as shown in the following example:"
   ]
  },
  {
   "cell_type": "code",
   "execution_count": null,
   "metadata": {},
   "outputs": [],
   "source": [
    "def square(x):\n",
    "    return x * x"
   ]
  },
  {
   "cell_type": "markdown",
   "metadata": {},
   "source": [
    "- In this example, the name of the function is `square`.\n",
    "- The function body is indented. Here, we indent four spaces, as the Python style guide recommends. If you forget to indent, you get the `IndentationError`.\n",
    "- The function body must contain at least one statement. In our example, the function body contain a `return` statement that, when executed, ends the function and produces a value."
   ]
  },
  {
   "cell_type": "markdown",
   "metadata": {},
   "source": [
    "Now that we have defined function `square`, we can **call** or **invoke** a function by writing the function name followed by its arguments enclosed in parentheses. The **argument** is a value or variable that we are passing into the function as input to the funciton. "
   ]
  },
  {
   "cell_type": "code",
   "execution_count": null,
   "metadata": {
    "scrolled": true
   },
   "outputs": [],
   "source": [
    "square(4)"
   ]
  },
  {
   "cell_type": "markdown",
   "metadata": {},
   "source": [
    "Here is how Python executes the following code:"
   ]
  },
  {
   "cell_type": "code",
   "execution_count": null,
   "metadata": {},
   "outputs": [],
   "source": [
    "def square(x):\n",
    "    return x * x\n",
    "\n",
    "square(4)"
   ]
  },
  {
   "cell_type": "markdown",
   "metadata": {},
   "source": [
    "1. Python executes the function definition, which creates the function object (but doesn’t execute it yet) and refers to it as `square`. \n",
    "2. Next, Python executes function call `square(4)`. To do this, it assigns the `4` to `x` ( which is a variable). For the duration of this function call, `x` refers to `4`.\n",
    "3. Python now executes the `return` statement. `x` refers to 4, so the expression that appears after `return` is equivalent to `4 * 4`. When Python evaluates that expression, `16` is produced. We use the word `return` to tell Python what value to produce as the result of the function call, so the result of calling `square(4)` is `16`.\n",
    "4. Once Python has finished executing the function call, it returns to the place where the function was originally called."
   ]
  },
  {
   "cell_type": "markdown",
   "metadata": {},
   "source": [
    "**Note that:**\n",
    "\n",
    "- **Function definitions get executed just like other statements, but the effect is to create function objects. A function definition is the second way we have seen to create a name associated with an object in Python, the first being an assignment statement.**\n",
    "- **The statements inside the function do not get executed until the function is called, and the function definition generates no output.**\n",
    "- **As you might expect, you have to create a function before you can execute it. In other words, the function definition has to be executed before the first time it is called.**\n",
    "\n"
   ]
  },
  {
   "cell_type": "markdown",
   "metadata": {},
   "source": [
    "### The general form of a function definition:\n",
    "\n",
    "```python\n",
    "def function_name(parameters):\n",
    "    body\n",
    "```\n",
    "\n",
    "- **`def`**: a keyword indicating a function definition\n",
    "- **`function_name`**: the function name \n",
    "- **`parameters`**: the parameter(s) of the function, 0 or more and are separated by a comma\n",
    "a parameter is a variable whose value will be supplied when the function is called\n",
    "- **`body`**: 1 or more statements, often ending with a `return` statement\n",
    "\n",
    "### The general form of a `return` statement:\n",
    "\n",
    "```python\n",
    "return expression\n",
    "```\n",
    "\n",
    "- When Python executes a `return` statement, it evaluates the expression and then\n",
    "produces the result of that expression as the result of the function call."
   ]
  },
  {
   "cell_type": "markdown",
   "metadata": {},
   "source": [
    "If the function returns a value, a call to that function is usually treated as a value, as shown in the following examples."
   ]
  },
  {
   "cell_type": "code",
   "execution_count": null,
   "metadata": {},
   "outputs": [],
   "source": [
    "result = square(4)\n",
    "print(result)"
   ]
  },
  {
   "cell_type": "code",
   "execution_count": null,
   "metadata": {},
   "outputs": [],
   "source": [
    "print(square(4))"
   ]
  },
  {
   "cell_type": "markdown",
   "metadata": {},
   "source": [
    "Functions often return values to the caller. This is not strictly required however. The function may be performing actions (such as printing messages) that do not require it to return anything to the caller. \n",
    "\n",
    "If you omit the `return` statement from your function, Python will automatically return the special value `None` from the function."
   ]
  },
  {
   "cell_type": "code",
   "execution_count": null,
   "metadata": {},
   "outputs": [],
   "source": [
    "def square2(x):\n",
    "    print(x * x)"
   ]
  },
  {
   "cell_type": "code",
   "execution_count": null,
   "metadata": {},
   "outputs": [],
   "source": [
    "result2 = square2(4)"
   ]
  },
  {
   "cell_type": "code",
   "execution_count": null,
   "metadata": {},
   "outputs": [],
   "source": [
    "print(result2)"
   ]
  },
  {
   "cell_type": "markdown",
   "metadata": {},
   "source": [
    "The value `None` is not the same as the string `\"None\"`. It is a special value that has its own type:"
   ]
  },
  {
   "cell_type": "code",
   "execution_count": null,
   "metadata": {},
   "outputs": [],
   "source": [
    "type(result2)"
   ]
  },
  {
   "cell_type": "markdown",
   "metadata": {},
   "source": [
    "**Functions can return one object.** You can use a tuple to return multiple values from a function, which you will learn later."
   ]
  },
  {
   "cell_type": "markdown",
   "metadata": {},
   "source": [
    "<h1 style=\"font-size:2.2em; font-family: verdana, Geneva, sans-serif; color:#00A0B2\">\n",
    "Divide-and-conquer Problem Solving</h1>"
   ]
  },
  {
   "cell_type": "markdown",
   "metadata": {},
   "source": [
    "Another main advantages for using functions is that they support divide-and-conquer problem solving. This technique encourages you to break a problem down into simpler subproblems, solve those subproblems, and then assemble the smaller solutions into the overall solutions. Functions are a way to directly encode the “smaller subproblem” solution. "
   ]
  },
  {
   "cell_type": "code",
   "execution_count": null,
   "metadata": {},
   "outputs": [],
   "source": [
    "# This program displays step-by-step instructions\n",
    "# for disassembling an Acme dryer.\n",
    "# The main function performs the program's main logic. \n",
    "def main():\n",
    "    # Display the start-up message. startup_message()\n",
    "    input('Press Enter to see Step 1.') # Display step 1.\n",
    "    step1()\n",
    "    input('Press Enter to see Step 2.') # Display step 2.\n",
    "    step2()\n",
    "    input('Press Enter to see Step 3.') # Display step 3.\n",
    "    step3()\n",
    "    input('Press Enter to see Step 4.') # Display step 4.\n",
    "    step4()\n",
    "\n",
    "# The startup_message function displays the \n",
    "# program's initial message on the screen.\n",
    "def startup_message():\n",
    "    print('This program tells you how to') \n",
    "    print('disassemble an ACME laundry dryer.') \n",
    "    print('There are 4 steps in the process.') \n",
    "    print()\n",
    "\n",
    "# The step1 function displays the instructions \n",
    "#forstep1.\n",
    "def step1():\n",
    "    print('Step 1: Unplug the dryer and') \n",
    "    print('move it away from the wall.') \n",
    "    print()\n",
    "\n",
    "# The step2 function displays the instructions \n",
    "#forstep2.\n",
    "def step2():\n",
    "    print('Step 2: Remove the six screws') \n",
    "    print('from the back of the dryer.') \n",
    "    print()\n",
    "\n",
    "# The step3 function displays the instructions \n",
    "#forstep3.\n",
    "def step3():\n",
    "    print('Step 3: Remove the back pane')\n",
    "    print('from the dryer.') \n",
    "    print()\n",
    "\n",
    "# The step4 function displays the instructions \n",
    "#forstep4.\n",
    "def step4():\n",
    "    print('Step 4: Pull the top of the')  \n",
    "    print('dryer straight up.')\n",
    "\n",
    "# Call the main function to begin the program. \n",
    "main()\n"
   ]
  },
  {
   "cell_type": "markdown",
   "metadata": {},
   "source": [
    "<h1 style=\"font-size:2em; font-family: verdana, Geneva, sans-serif; color:#00A0B2\">\n",
    "Immutable vs. Mutable Arguments</h1>"
   ]
  },
  {
   "cell_type": "markdown",
   "metadata": {},
   "source": [
    "### Example 1: Passing an immutable object as an argument\n",
    "\n",
    "In the following example, the argument and parameter of the function make reference to an immutable object. If the object being referenced is immutable, such as a number, string, or tuple, it is not possible to change anything about that object. Whenever we assign a new object to a parameter, we break the association of both argument and parameter to the same object."
   ]
  },
  {
   "cell_type": "code",
   "execution_count": null,
   "metadata": {},
   "outputs": [],
   "source": [
    "def double_and_square(x):\n",
    "    x = x * 2\n",
    "    return x * x\n",
    "\n",
    "num = 2500\n",
    "print(num)\n",
    "\n",
    "print(double_and_square(num))\n",
    "\n",
    "print(num)"
   ]
  },
  {
   "cell_type": "markdown",
   "metadata": {},
   "source": [
    "### Example 2: Passing a mutable object as an argument\n",
    "\n",
    "What about mutable objects? We can change the value(s) of a mutable object. How does that affect parameter passing?"
   ]
  },
  {
   "cell_type": "code",
   "execution_count": null,
   "metadata": {},
   "outputs": [],
   "source": [
    "def my_func(param_list): \n",
    "    param_list[0] = 100\n",
    "    print(param_list)"
   ]
  },
  {
   "cell_type": "code",
   "execution_count": null,
   "metadata": {},
   "outputs": [],
   "source": [
    "arg_list = [1, 2, 3]\n",
    "my_func(arg_list)"
   ]
  },
  {
   "cell_type": "code",
   "execution_count": null,
   "metadata": {},
   "outputs": [],
   "source": [
    "print(arg_list)"
   ]
  },
  {
   "cell_type": "markdown",
   "metadata": {},
   "source": [
    "<h1 style=\"font-size:2em; font-family: verdana, Geneva, sans-serif; color:#00A0B2\">\n",
    "Local Variables within Functions</h1>\n",
    "\n",
    "Let's consider a simple function that returns the sum of the squares of two inputs:\n",
    "\n",
    "```python\n",
    "def sum_of_squares(num1, num2):\n",
    "    sq1 = num1 * num1\n",
    "    sq2 = num2 * num2\n",
    "    sumsq = sq1 + sq2\n",
    "    return sumsq\n",
    "```\n",
    "\n",
    "- There are two types of local variables that exist in this function: the parameters and variables that are defined within the function body. \n",
    "- These local variables are newly created each time the function is called and then they only exist during the execution of the function. For example: \n",
    "    - You cannot refer to the variable `sq1` outside of this function. It does not exist! It is created during the execution of the function and is destroyed as soon as the function returns. \n",
    "    - You cannot refer to the parameter `num1` outside of the function. When the function is called `num1` is assigned the value of the first argument that was passed to the function. You can then use this variable within the body of the function. But, again, it is destroyed as soon as the function is returned.\n",
    "- It is a common mistake to try to refer to parameters and other local variables of a function outside of the body of the function. This will not work. \n",
    "- Furthermore, if you create variables with the same names as those within the function, they are different variables that have nothing to do with the variables you have created inside the function. "
   ]
  },
  {
   "cell_type": "code",
   "execution_count": null,
   "metadata": {},
   "outputs": [],
   "source": [
    "def sum_of_squares(num1, num2):\n",
    "    sq1 = num1 * num1\n",
    "    sq2 = num2 * num2\n",
    "    sumsq = sq1 + sq2\n",
    "    return sumsq"
   ]
  },
  {
   "cell_type": "code",
   "execution_count": null,
   "metadata": {},
   "outputs": [],
   "source": [
    "sum_of_squares(2,3)"
   ]
  },
  {
   "cell_type": "code",
   "execution_count": null,
   "metadata": {},
   "outputs": [],
   "source": [
    "num1"
   ]
  },
  {
   "cell_type": "code",
   "execution_count": null,
   "metadata": {},
   "outputs": [],
   "source": [
    "sql1"
   ]
  },
  {
   "cell_type": "markdown",
   "metadata": {},
   "source": [
    "### Global vs. Local Variables"
   ]
  },
  {
   "cell_type": "code",
   "execution_count": null,
   "metadata": {},
   "outputs": [],
   "source": [
    "# num1 is a global variable\n",
    "num1 = 1\n",
    "print(num1)\n",
    "\n",
    "# num2 is a local variable\n",
    "def fun():\n",
    "    num1 = 2\n",
    "    num2 = num1 + 1\n",
    "    print(num2)\n",
    "    \n",
    "fun()"
   ]
  },
  {
   "cell_type": "code",
   "execution_count": null,
   "metadata": {},
   "outputs": [],
   "source": [
    "# the scope of global num1 is the whole program, num 1 remains defined\n",
    "print(num1)"
   ]
  },
  {
   "cell_type": "code",
   "execution_count": null,
   "metadata": {},
   "outputs": [],
   "source": [
    "# the scope of the variable num2 is fun(), num2 is now undefined\n",
    "print(num2)"
   ]
  },
  {
   "cell_type": "markdown",
   "metadata": {},
   "source": [
    "<h1 style=\"font-size:2em; font-family: verdana, Geneva, sans-serif; color:#00A0B2\">\n",
    "Importing Modules</h1>\n",
    "\n",
    "Python contains many functions, but not all of them are immediately available as builtin functions. Instead of being available as builtins, some functions are saved in different modules. A **module** is a file containing function definitions and other statements.\n",
    "\n",
    "In order to gain access to the functions in a module, we must import that module.\n",
    "For example, we can import the Python module `math` and call the function `sqrt` from it:"
   ]
  },
  {
   "cell_type": "code",
   "execution_count": null,
   "metadata": {},
   "outputs": [],
   "source": [
    "import math"
   ]
  },
  {
   "cell_type": "code",
   "execution_count": null,
   "metadata": {},
   "outputs": [],
   "source": [
    "math.sqrt(9)"
   ]
  },
  {
   "cell_type": "markdown",
   "metadata": {},
   "source": [
    "Modules can contain more than just functions. Module math, for example, also defines some variables like `pi`. Once the module has been imported, you can use these variables like any others: "
   ]
  },
  {
   "cell_type": "code",
   "execution_count": null,
   "metadata": {},
   "outputs": [],
   "source": [
    "import math\n",
    "\n",
    "radius = 10\n",
    "area = math.pi * radius * radius\n",
    "print(area)"
   ]
  },
  {
   "cell_type": "markdown",
   "metadata": {},
   "source": [
    "Once you have imported a module, you can use built-in function `help` to see what it contains. Here is the first part of the help output: "
   ]
  },
  {
   "cell_type": "code",
   "execution_count": null,
   "metadata": {},
   "outputs": [],
   "source": [
    "help(math)"
   ]
  },
  {
   "cell_type": "code",
   "execution_count": null,
   "metadata": {},
   "outputs": [],
   "source": [
    "help(math.sqrt)"
   ]
  },
  {
   "cell_type": "markdown",
   "metadata": {},
   "source": [
    "Combining the module’s name with the names of the things it contains is safe, but it isn’t always convenient. For this reason, Python lets you specify exactly what you want to import from a module, like this: "
   ]
  },
  {
   "cell_type": "code",
   "execution_count": 12,
   "metadata": {},
   "outputs": [],
   "source": [
    "from math import sqrt"
   ]
  },
  {
   "cell_type": "code",
   "execution_count": null,
   "metadata": {},
   "outputs": [],
   "source": [
    "sqrt(9)"
   ]
  },
  {
   "cell_type": "markdown",
   "metadata": {},
   "source": [
    "In this case, Python creates function `sqrt` and variable `pi` in the current namespace, as if you had typed the function definition and variable assignment yourself."
   ]
  },
  {
   "cell_type": "markdown",
   "metadata": {},
   "source": [
    "In addition to importing Python's modules, we can also import the modules that we write. For example, to use the functions from `temperature.py`  in another module, we would `import temperature`. A module being imported should be in the same directory as the module importing it."
   ]
  },
  {
   "cell_type": "code",
   "execution_count": null,
   "metadata": {},
   "outputs": [],
   "source": [
    "%load temperature.py"
   ]
  },
  {
   "cell_type": "code",
   "execution_count": null,
   "metadata": {},
   "outputs": [],
   "source": [
    "import temperature\n",
    "\n",
    "celsius = temperature.convert_to_celsius(33.3)\n",
    "temperature.above_freezing(celsius)"
   ]
  },
  {
   "cell_type": "markdown",
   "metadata": {},
   "source": [
    "<h1 style=\"font-size:2em; font-family: verdana, Geneva, sans-serif; color:#B24C00\">\n",
    "Exercise</h1>"
   ]
  },
  {
   "cell_type": "markdown",
   "metadata": {
    "collapsed": true
   },
   "source": [
    "**1) Write a function `triangle_area` to compute the area of a triangle:.**"
   ]
  },
  {
   "cell_type": "code",
   "execution_count": null,
   "metadata": {
    "scrolled": true
   },
   "outputs": [],
   "source": []
  },
  {
   "cell_type": "markdown",
   "metadata": {
    "collapsed": true,
    "scrolled": true
   },
   "source": [
    "**2) Write a function that returns the number of vowels from a given string.**"
   ]
  },
  {
   "cell_type": "code",
   "execution_count": null,
   "metadata": {},
   "outputs": [],
   "source": []
  },
  {
   "cell_type": "markdown",
   "metadata": {
    "collapsed": true,
    "scrolled": true
   },
   "source": [
    "**3) Write a function that returns the vowels from a given string.**"
   ]
  },
  {
   "cell_type": "code",
   "execution_count": null,
   "metadata": {},
   "outputs": [],
   "source": []
  },
  {
   "cell_type": "markdown",
   "metadata": {
    "collapsed": true
   },
   "source": [
    "**4) Write a function `absolute_value` that computes the absolute value of a number.**\n",
    "\n",
    "**You will give output in the form: `The absolute value of -5  is  5`** "
   ]
  },
  {
   "cell_type": "code",
   "execution_count": null,
   "metadata": {},
   "outputs": [],
   "source": []
  },
  {
   "cell_type": "markdown",
   "metadata": {
    "collapsed": true
   },
   "source": [
    "**5) Write a function `count_down` that starts at 10 and counts down to rocket \n",
    "launch. Its output should be:  \n",
    "`10 9 8 7 6 5 4 3 2 1 BLASTOFF!`**  "
   ]
  },
  {
   "cell_type": "code",
   "execution_count": null,
   "metadata": {},
   "outputs": [],
   "source": []
  }
 ],
 "metadata": {
  "anaconda-cloud": {},
  "kernelspec": {
   "display_name": "Python 3",
   "language": "python",
   "name": "python3"
  },
  "language_info": {
   "codemirror_mode": {
    "name": "ipython",
    "version": 3
   },
   "file_extension": ".py",
   "mimetype": "text/x-python",
   "name": "python",
   "nbconvert_exporter": "python",
   "pygments_lexer": "ipython3",
   "version": "3.6.7"
  },
  "latex_envs": {
   "LaTeX_envs_menu_present": true,
   "autocomplete": true,
   "bibliofile": "biblio.bib",
   "cite_by": "apalike",
   "current_citInitial": 1,
   "eqLabelWithNumbers": true,
   "eqNumInitial": 1,
   "hotkeys": {
    "equation": "Ctrl-E",
    "itemize": "Ctrl-I"
   },
   "labels_anchors": false,
   "latex_user_defs": false,
   "report_style_numbering": false,
   "user_envs_cfg": false
  }
 },
 "nbformat": 4,
 "nbformat_minor": 1
}
