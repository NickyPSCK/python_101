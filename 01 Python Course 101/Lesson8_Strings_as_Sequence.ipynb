{
 "cells": [
  {
   "cell_type": "markdown",
   "metadata": {},
   "source": [
    "# Lesson 8: Strings as Sequence\n",
    "\n",
    "- **Accessing String Characters with Index**\n",
    "- **Strings are Immutable**\n",
    "- **Accessing Substrings with Index Slicing**\n",
    "- **Extended Slicing**\n",
    "- **More String Methods**"
   ]
  },
  {
   "cell_type": "markdown",
   "metadata": {
    "collapsed": true
   },
   "source": [
    "<h1 style=\"font-size:1.5em; font-family: verdana, Geneva, sans-serif; color:#00A0B2\">Accessing String Characters with index</h1>\n",
    "\n",
    "Recall that a `str` type is a special kind of collection called a sequence. A sequence is an object that holds multiple items of data, stored one after the other. Because the elements of a string are a sequence, we can associate each element with an <em style=\"color:blue\">index</em>, a location in the sequence:\n",
    "- Positive values count up from the left, beginning with index 0.\n",
    "- Negative values count down from the right, starting with -1.\n",
    "\n",
    "<img src=\"img/str_index.png\" style=\"max-width:50%; max-height:50%\">\n",
    "<p style=\"font-size:0.8em; font-style:italic; color:#777; text-align:center\">Source: The Practice of Computing using Python 3rd Edition by William Punch and Richard Enbody, Pearson, 2017.</p>\n"
   ]
  },
  {
   "cell_type": "code",
   "execution_count": null,
   "metadata": {
    "collapsed": true
   },
   "outputs": [],
   "source": [
    "# example 1\n",
    "greeting = 'Hello World'\n",
    "\n",
    "# print characters at idexes: 0, 1, 2, -1, -2\n",
    "print(greeting[0])\n",
    "print(greeting[1])\n",
    "print(greeting[2])\n",
    "print(greeting[-1])\n",
    "print(greeting[-2])"
   ]
  },
  {
   "cell_type": "code",
   "execution_count": null,
   "metadata": {},
   "outputs": [],
   "source": [
    "# example 2\n",
    "print(greeting[5])   # a space\n",
    "print(len(greeting[5]))"
   ]
  },
  {
   "cell_type": "code",
   "execution_count": null,
   "metadata": {},
   "outputs": [],
   "source": [
    "# example 3\n",
    "student_name = 'Benjamin'\n",
    "\n",
    "# get second to last letter\n",
    "second_last_letter = student_name[-2]\n",
    "print(student_name,'has 2nd to last letter of', '\"' + second_last_letter + '\"')"
   ]
  },
  {
   "cell_type": "code",
   "execution_count": null,
   "metadata": {},
   "outputs": [],
   "source": [
    "# example 4\n",
    "student_name = 'Benjamin'\n",
    "\n",
    "if student_name[0].lower() == 'a':\n",
    "    print('Winner! Name starts with A:', student_name)\n",
    "elif student_name[0].lower() == 'b':\n",
    "    print('Winner! Name starts with B:', student_name)\n",
    "else:\n",
    "    print('Not a match!', student_name)"
   ]
  },
  {
   "cell_type": "markdown",
   "metadata": {
    "collapsed": true
   },
   "source": [
    "### `IndexError` \n",
    "\n",
    "An `IndexError` exception will occur if you try to use an index that is out of range for a particular string. The following are examples of code that cause an `IndexError` exception."
   ]
  },
  {
   "cell_type": "code",
   "execution_count": 4,
   "metadata": {},
   "outputs": [],
   "source": [
    "student_name = 'Tony'"
   ]
  },
  {
   "cell_type": "code",
   "execution_count": null,
   "metadata": {},
   "outputs": [],
   "source": [
    "print(student_name[4])"
   ]
  },
  {
   "cell_type": "code",
   "execution_count": null,
   "metadata": {},
   "outputs": [],
   "source": [
    "print(student_name[len(student_name)])"
   ]
  },
  {
   "cell_type": "markdown",
   "metadata": {},
   "source": [
    "<h1 style=\"font-size:1.5em; font-family: verdana, Geneva, sans-serif; color:#00A0B2\">Strings are Immutable</h1>\n",
    "\n",
    "In Python, strings are <em style=\"color:blue\">immutable</em>, which means that once they are created, they cannot be changed. "
   ]
  },
  {
   "cell_type": "code",
   "execution_count": 1,
   "metadata": {},
   "outputs": [
    {
     "ename": "TypeError",
     "evalue": "'str' object does not support item assignment",
     "output_type": "error",
     "traceback": [
      "\u001b[0;31m---------------------------------------------------------------------------\u001b[0m",
      "\u001b[0;31mTypeError\u001b[0m                                 Traceback (most recent call last)",
      "\u001b[0;32m<ipython-input-1-42547c5f1da8>\u001b[0m in \u001b[0;36m<module>\u001b[0;34m\u001b[0m\n\u001b[1;32m      1\u001b[0m \u001b[0mmy_str\u001b[0m \u001b[0;34m=\u001b[0m \u001b[0;34m'Hello'\u001b[0m\u001b[0;34m\u001b[0m\u001b[0;34m\u001b[0m\u001b[0m\n\u001b[0;32m----> 2\u001b[0;31m \u001b[0mmy_str\u001b[0m\u001b[0;34m[\u001b[0m\u001b[0;36m0\u001b[0m\u001b[0;34m]\u001b[0m\u001b[0;34m=\u001b[0m\u001b[0;34m'J'\u001b[0m    \u001b[0;31m# change 'H' to 'J', make the string 'Jello'\u001b[0m\u001b[0;34m\u001b[0m\u001b[0;34m\u001b[0m\u001b[0m\n\u001b[0m",
      "\u001b[0;31mTypeError\u001b[0m: 'str' object does not support item assignment"
     ]
    }
   ],
   "source": [
    "my_str = 'Hello'\n",
    "my_str[0]='J'    # change 'H' to 'J', make the string 'Jello'"
   ]
  },
  {
   "cell_type": "markdown",
   "metadata": {},
   "source": [
    "By making strings immutable, the Python interpreter is faster. No matter what you do to a string, you are guaranteed that the original string is not changed. As a result, **all Python string operators must generate a new string.** Even though some operations, such as concatenation, give the impression that they modify strings, but in reality they do not. \n",
    "<img src=\"img/string_immutable_concatenation.png\" style=\"max-width:50%; max-height:50%\">\n",
    "<p style=\"font-size:0.8em; font-style:italic; color:#777; text-align:center\">Source: Starting out with Python 3rd Edition by Tony Gaddis, Pearson, 2015.</p>\n",
    "\n",
    "You must create a new string to reflect any changes you desire."
   ]
  },
  {
   "cell_type": "code",
   "execution_count": null,
   "metadata": {
    "collapsed": true
   },
   "outputs": [],
   "source": [
    "my_str = 'Hello'\n",
    "my_str ='J'+ my_str[1:]  # create new string with 'J' and a slice\n",
    "print(my_str)"
   ]
  },
  {
   "cell_type": "markdown",
   "metadata": {
    "collapsed": true
   },
   "source": [
    "<h1 style=\"font-size:1.5em; font-family: verdana, Geneva, sans-serif; color:#B24C00\">\n",
    "Exercise</h1>\n",
    "\n",
    "1) Write a program that creates an input variable `first_name` and prints the first and last letters of name."
   ]
  },
  {
   "cell_type": "code",
   "execution_count": null,
   "metadata": {
    "collapsed": true
   },
   "outputs": [],
   "source": [
    "# your code\n"
   ]
  },
  {
   "cell_type": "markdown",
   "metadata": {},
   "source": [
    "2) Write a program that creates an input variable `team_name`, tests if the 2nd character of the `team_name` is equal to `\"i\"`, `\"o\"`, or `\"u\"`, and then prints a message."
   ]
  },
  {
   "cell_type": "code",
   "execution_count": null,
   "metadata": {
    "collapsed": true
   },
   "outputs": [],
   "source": [
    "# your code\n"
   ]
  },
  {
   "cell_type": "markdown",
   "metadata": {},
   "source": [
    "3) Fix any error in the following code:  "
   ]
  },
  {
   "cell_type": "code",
   "execution_count": null,
   "metadata": {
    "collapsed": true
   },
   "outputs": [],
   "source": [
    "shoe = \"Adidas\"\n",
    "\n",
    "# print the last letter\n",
    "print(shoe(-1))"
   ]
  },
  {
   "cell_type": "markdown",
   "metadata": {},
   "source": [
    "<h1 style=\"font-size:1.5em; font-family: verdana, Geneva, sans-serif; color:#00A0B2\">Accessing Substrings with Index Slicing</h1>\n",
    "\n",
    "Slicing is the ability to select a substring (or a subsequence) of the overall sequence.\n",
    "Python calls such a substring a <em style=\"color:blue\">slice</em>.\n",
    "\n",
    "Uses the syntax `[start : finish]`, where:\n",
    "- `start` is the index of where we start the subsequence.\n",
    "- `finish` is the index of one after where we end the subsequence.  \n",
    "\n",
    "If either `start` or `finish` are not provided, it defaults to the beginning of the sequence for start and the end of the sequence for finish.\n",
    "\n",
    "Remember, just like for a single index, **a slice returns a new string** and does not change the original string in any way.\n",
    "\n",
    "<h4 style='text-align:center'><code style=\"color:#00A0B2\">greeting = 'Hello World'</code></h4>\n",
    "<h4 style='text-align:center'><code style=\"color:#00A0B2\">greeting[6:10]</code></h4>\n",
    "\n",
    "<img src=\"img/index_slicing1.png\" style=\"max-width:50%; max-height:50%\">\n",
    "\n",
    "<h4 style='text-align:center'><code style=\"color:#00A0B2\">greeting[6:]</code></h4>\n",
    "\n",
    "<img src=\"img/index_slicing2.png\" style=\"max-width:50%; max-height:50%\">\n",
    "\n",
    "<h4 style='text-align:center'><code style=\"color:#00A0B2\">greeting[:5]</code></h4>\n",
    "\n",
    "<img src=\"img/index_slicing3.png\" style=\"max-width:50%; max-height:50%\">\n",
    "\n",
    "<h4 style='text-align:center'><code style=\"color:#00A0B2\">greeting[3:-2]</code></h4>\n",
    "\n",
    "<img src=\"img/index_slicing4.png\" style=\"max-width:50%; max-height:50%\">\n",
    "\n",
    "<p style=\"font-size:0.8em; font-style:italic; color:#777; text-align:center\">Source: The Practice of Computing using Python 3rd Edition by William Punch and Richard Enbody, Pearson, 2017.</p>"
   ]
  },
  {
   "cell_type": "code",
   "execution_count": null,
   "metadata": {
    "collapsed": true
   },
   "outputs": [],
   "source": [
    "greeting = 'Hello World'\n",
    "print(greeting[6:10])"
   ]
  },
  {
   "cell_type": "code",
   "execution_count": null,
   "metadata": {
    "collapsed": true
   },
   "outputs": [],
   "source": [
    "print(greeting[6:11])\n",
    "print(greeting[6:])"
   ]
  },
  {
   "cell_type": "code",
   "execution_count": null,
   "metadata": {
    "collapsed": true
   },
   "outputs": [],
   "source": [
    "print(greeting[0:5])\n",
    "print(greeting[:5])"
   ]
  },
  {
   "cell_type": "code",
   "execution_count": null,
   "metadata": {
    "collapsed": true
   },
   "outputs": [],
   "source": [
    "print(greeting[0:5])\n",
    "print(greeting[:5])"
   ]
  },
  {
   "cell_type": "code",
   "execution_count": null,
   "metadata": {
    "collapsed": true
   },
   "outputs": [],
   "source": [
    "print(greeting[3:9])\n",
    "print(greeting[3:-2])\n",
    "print(greeting[-8:-2])"
   ]
  },
  {
   "cell_type": "code",
   "execution_count": null,
   "metadata": {},
   "outputs": [],
   "source": [
    "print(greeting[:])"
   ]
  },
  {
   "cell_type": "markdown",
   "metadata": {},
   "source": [
    "You can iterate through characters of a substring using a `for` loop. Because a string is also a sequence, the characters are iterated through in the order set by the string. "
   ]
  },
  {
   "cell_type": "code",
   "execution_count": null,
   "metadata": {
    "collapsed": true
   },
   "outputs": [],
   "source": [
    "# example 1\n",
    "student_name = 'Elizabeth'\n",
    "\n",
    "for letter in student_name[:3]:\n",
    "    print(letter)"
   ]
  },
  {
   "cell_type": "code",
   "execution_count": null,
   "metadata": {},
   "outputs": [],
   "source": [
    "# example 2\n",
    "student_name = 'Elizabeth'\n",
    "\n",
    "# start at \"i\" (student_name[2]), iterate backwards\n",
    "for letter in student_name[2::-1]:\n",
    "    print(letter)"
   ]
  },
  {
   "cell_type": "markdown",
   "metadata": {},
   "source": [
    "<h1 style=\"font-size:1.5em; font-family: verdana, Geneva, sans-serif; color:#B24C00\">\n",
    "Exercise</h1>"
   ]
  },
  {
   "cell_type": "markdown",
   "metadata": {},
   "source": [
    "1) Slice `long_word` to print `\"act\"` and to print `\"tic\"`."
   ]
  },
  {
   "cell_type": "code",
   "execution_count": null,
   "metadata": {
    "collapsed": true
   },
   "outputs": [],
   "source": [
    "long_word = \"characteristics\"\n",
    "\n",
    "# your code\n"
   ]
  },
  {
   "cell_type": "markdown",
   "metadata": {},
   "source": [
    "2) Slice `long_word` to print `\"sequence\"`."
   ]
  },
  {
   "cell_type": "code",
   "execution_count": null,
   "metadata": {
    "collapsed": true
   },
   "outputs": [],
   "source": [
    "long_word = \"Consequences\"\n",
    "\n",
    "# your code\n"
   ]
  },
  {
   "cell_type": "markdown",
   "metadata": {},
   "source": [
    "3) Print the first half of the `long_word`."
   ]
  },
  {
   "cell_type": "code",
   "execution_count": null,
   "metadata": {
    "collapsed": true
   },
   "outputs": [],
   "source": [
    "long_word = \"Consequences\"\n",
    "\n",
    "# your code\n"
   ]
  },
  {
   "cell_type": "markdown",
   "metadata": {},
   "source": [
    "4) Print the second half of the `long_word`."
   ]
  },
  {
   "cell_type": "code",
   "execution_count": null,
   "metadata": {
    "collapsed": true
   },
   "outputs": [],
   "source": [
    "long_word = \"Consequences\"\n",
    "\n",
    "# your code\n"
   ]
  },
  {
   "cell_type": "markdown",
   "metadata": {},
   "source": [
    "<h1 style=\"font-size:1.5em; font-family: verdana, Geneva, sans-serif; color:#00A0B2\">Extended Slicing</h1>\n",
    "\n",
    "Slicing allows a third parameter that specifies the <em style=\"color:blue\">step</em> in the slice. As with the first two arguments, the step number has a default if not indicated: a step of 1. The step value indicates the step size through the sequence. \n",
    "\n",
    "For example, in the expression `greeting[::2]`, we are indicating a subsequence from the beginning to the end of the sequence, but, given a step size of 2, only every other character is specified. The expression would yield a new string 'HloWrd'. \n",
    "\n",
    "<h4 style='text-align:center'><code style=\"color:#00A0B2\">greeting = 'Hello World'</code></h4>\n",
    "<h4 style='text-align:center'><code style=\"color:#00A0B2\">greeting[::2]</code></h4>\n",
    "\n",
    "<img src=\"img/slicing_step.png\" style=\"max-width:50%; max-height:50%\">\n",
    "<p style=\"font-size:0.8em; font-style:italic; color:#777; text-align:center\">Source: The Practice of Computing using Python 3rd Edition by William Punch and Richard Enbody, Pearson, 2017.</p>\n",
    "\n",
    "One odd variation that is not immediately obvious is to use a step of -1. **Python interprets a negative step number as stepping backward.**"
   ]
  },
  {
   "cell_type": "code",
   "execution_count": null,
   "metadata": {
    "collapsed": true
   },
   "outputs": [],
   "source": [
    "# example 1\n",
    "greeting = 'Hello World'\n",
    "\n",
    "print(greeting[::2])\n",
    "print(greeting[::3])\n",
    "print(greeting[::-1])\n",
    "print(greeting[::-2])"
   ]
  },
  {
   "cell_type": "code",
   "execution_count": null,
   "metadata": {
    "collapsed": true
   },
   "outputs": [],
   "source": [
    "# example 2\n",
    "digits = '0123456789'\n",
    "\n",
    "print(digits[::2])     # even digits (default start at 0;skip every other)\n",
    "print(digits[1::2])    # odd digits (start at 1; skip every other)\n",
    "print(digits[::-1])    # reverse digits\n",
    "print(digits[::-2])    # reverse odds\n",
    "print(digits[-2::-2])  # reverse evens (start with 2nd last letter)"
   ]
  },
  {
   "cell_type": "code",
   "execution_count": null,
   "metadata": {},
   "outputs": [],
   "source": [
    "# example 3\n",
    "student_name = 'Elizabeth'\n",
    "\n",
    "# return every other\n",
    "print(student_name[::2])\n",
    "\n",
    "# return every third, starting at 2nd character\n",
    "print(student_name[1::2])"
   ]
  },
  {
   "cell_type": "code",
   "execution_count": null,
   "metadata": {},
   "outputs": [],
   "source": [
    "# example 4\n",
    "long_word = 'Consequences'\n",
    "\n",
    "# starting at 2nd char (index 1) to 9th character, return every other character\n",
    "print(long_word[1:9:2])\n",
    "\n",
    "# make the step increment -1 to step backwards\n",
    "print(long_word[::-1])\n",
    "\n",
    "# start at the 7th letter backwards to start\n",
    "print(long_word[6::-1])"
   ]
  },
  {
   "cell_type": "markdown",
   "metadata": {},
   "source": [
    "<h1 style=\"font-size:1.5em; font-family: verdana, Geneva, sans-serif; color:#B24C00\">\n",
    "Exercise</h1>\n",
    "\n",
    "1) Print the 1st and every 3rd letter of the `long_word`."
   ]
  },
  {
   "cell_type": "code",
   "execution_count": null,
   "metadata": {
    "collapsed": true
   },
   "outputs": [],
   "source": [
    "long_word = 'Acknowledgement'\n",
    "\n",
    "# your code\n"
   ]
  },
  {
   "cell_type": "markdown",
   "metadata": {},
   "source": [
    "2) Print every other character of `long_word` starting at the 3rd character."
   ]
  },
  {
   "cell_type": "code",
   "execution_count": null,
   "metadata": {
    "collapsed": true
   },
   "outputs": [],
   "source": [
    "long_word = 'Acknowledgement'\n",
    "\n",
    "# your code\n"
   ]
  },
  {
   "cell_type": "markdown",
   "metadata": {},
   "source": [
    "3) Reverse the `long_word`."
   ]
  },
  {
   "cell_type": "code",
   "execution_count": null,
   "metadata": {
    "collapsed": true
   },
   "outputs": [],
   "source": [
    "long_word = 'stressed'\n",
    "\n",
    "# your code\n"
   ]
  },
  {
   "cell_type": "markdown",
   "metadata": {},
   "source": [
    "4) Print the first 5 letters of `long_word` in reverse."
   ]
  },
  {
   "cell_type": "code",
   "execution_count": null,
   "metadata": {
    "collapsed": true
   },
   "outputs": [],
   "source": [
    "long_word = 'characteristics'\n",
    "\n",
    "# your code\n"
   ]
  },
  {
   "cell_type": "markdown",
   "metadata": {},
   "source": [
    "5) Complete the following tasks: \n",
    "- Print the first 4 letters of `long_word`. \n",
    "- Print the first 4 letters of `long_word` in reverse. \n",
    "- Print the last 4 letters of `long_word` in reverse. "
   ]
  },
  {
   "cell_type": "code",
   "execution_count": null,
   "metadata": {
    "collapsed": true
   },
   "outputs": [],
   "source": [
    "long_word = 'characteristics'\n",
    "\n",
    "# your code\n"
   ]
  },
  {
   "cell_type": "markdown",
   "metadata": {},
   "source": [
    "<h1 style=\"font-size:1.5em; font-family: verdana, Geneva, sans-serif; color:#00A0B2\">More String Methods</h1>\n",
    "\n",
    "### 1. Counting and Searching\n",
    "\n",
    "- The <code>.count(<em style=\"color:blue\">string</em>)</code> method returns the number of times a character or substring occurs.  \n",
    "\n",
    "- The <code>.find(<em style=\"color:blue\">string</em>)</code> method returns the index of first character or substring that matches. It returns **-1** if no match found. \n",
    "\n",
    "- The <code>.find(<em style=\"color:blue\">string</em>,<em style=\"color:blue\">start_index</em>,<em style=\"color:blue\">end_index</em>)</code> method works in the same way as the `.find()` method but searches from optional <code><em style=\"color:blue\">start_index</em></code> and to optional <code><em style=\"color:blue\">end_index</em></code>."
   ]
  },
  {
   "cell_type": "code",
   "execution_count": null,
   "metadata": {
    "collapsed": true
   },
   "outputs": [],
   "source": [
    "# example 1\n",
    "my_str = 'He had the bat.'\n",
    "print(my_str.find('t'))         # look for ' t ' starting at beginning\n",
    "print(my_str.find('t',8))       # start at index 8 = 7 + 1\n",
    "print(my_str.find('t', my_str.find('t')+1))  # nesting of methods\n",
    "print(my_str.find('t',1, 7))    # searches for 't' in my_string[1:7]\n",
    "print(my_str.upper().find('T')) # chaining of methods "
   ]
  },
  {
   "cell_type": "code",
   "execution_count": null,
   "metadata": {},
   "outputs": [],
   "source": [
    "# example 2\n",
    "work_tip = 'save your code'\n",
    "\n",
    "print(\"number of characters in string\")\n",
    "print(len(work_tip),\"\\n\")\n",
    "\n",
    "print(\"letter 'e' occurrences\")\n",
    "print(work_tip.count(\"e\"),\"\\n\")\n",
    "\n",
    "print(\"find the index of the first space\")\n",
    "print(work_tip.find(\" \"),\"\\n\")\n",
    "\n",
    "print('find the index of \"u\" searching a slice work_tip[3:9] -', work_tip[3:9])\n",
    "print(work_tip.find(\"u\",3,9),\"\\n\")\n",
    "\n",
    "print('find the index of \"e\" searching a slice work_tip[4:] -', work_tip[4:])\n",
    "print(work_tip.find(\"e\",4))"
   ]
  },
  {
   "cell_type": "code",
   "execution_count": null,
   "metadata": {},
   "outputs": [],
   "source": [
    "# example 3\n",
    "work_tip = \"good code has meaningful variable names\"\n",
    "print(work_tip)\n",
    "\n",
    "print(\"uses 'code', how many times? \", work_tip.count(\"code\"))\n",
    "\n",
    "# index where first instance of \"code\" starts\n",
    "code_here = work_tip.find(\"code\")\n",
    "print(code_here, '= starting index for \"code\"')\n",
    "\n",
    "# set start index = 13 and end index = 33\n",
    "print('search for \"meaning\" in the sub-string:', work_tip[13:33],\"\\n\")\n",
    "meaning_here = work_tip.find(\"meaning\",13,33)\n",
    "print('\"meaning\" found in work_tip[13:33] sub-string search at index', meaning_here)"
   ]
  },
  {
   "cell_type": "markdown",
   "metadata": {},
   "source": [
    "### 2. Strings to Lists\n",
    "\n",
    "- The <code>.split()</code> method splits a string at white spaces to create a list.\n",
    "\n",
    "- The <code>.split(<em style=\"color:blue\">sep</em>)</code> method works in the same way as the `.split()` method but uses <code><em style=\"color:blue\">sep</em></code> as break points instead."
   ]
  },
  {
   "cell_type": "code",
   "execution_count": null,
   "metadata": {},
   "outputs": [],
   "source": [
    "# example 1\n",
    "tip = \"Notebooks can be exported as .pdf\"\n",
    "tip_words = tip.split()\n",
    "\n",
    "print(\"String:\", tip)\n",
    "print(\"List:\", tip_words, \"\\n\")\n",
    "\n",
    "for word in tip_words:\n",
    "    print(word)"
   ]
  },
  {
   "cell_type": "code",
   "execution_count": null,
   "metadata": {},
   "outputs": [],
   "source": [
    "# example 2\n",
    "code_tip = \"Python-uses-four-spaces-for-indentation\"\n",
    "tip_words = code_tip.split('-')\n",
    "\n",
    "print(tip_words)"
   ]
  },
  {
   "cell_type": "code",
   "execution_count": null,
   "metadata": {},
   "outputs": [],
   "source": [
    "# example 3\n",
    "code_tip = \"Python uses four spaces for indentation\"\n",
    "\n",
    "# split on \"e\"\n",
    "tip_words = code_tip.split('e')\n",
    "print(code_tip)\n",
    "print(tip_words)"
   ]
  },
  {
   "cell_type": "code",
   "execution_count": null,
   "metadata": {},
   "outputs": [],
   "source": [
    "# example 4\n",
    "# triple quotes ''' ''' preserve formatting such as spaces and line breaks\n",
    "nursery_rhyme = '''Humpty Dumpty sat on a wall,\n",
    "Humpty Dumpty had a great fall.\n",
    "All the king's horses and all the king's men\n",
    "Couldn't put Humpty together again.'''\n",
    "\n",
    "# split on line breaks (\\n)\n",
    "lines = nursery_rhyme.split('\\n')\n",
    "print(lines, '\\n')\n",
    "\n",
    "# print the list in reverse with index slicing\n",
    "for line in lines[::-1]:\n",
    "    print(line)"
   ]
  },
  {
   "cell_type": "markdown",
   "metadata": {},
   "source": [
    "### 3. Lists to Strings\n",
    "\n",
    "The <code>.join()</code> method builds a string from a list.\n",
    "- This method takes a list of strings as an argument and concatenates (in order) each of those string into a new string. \n",
    "- The calling string is used as a separator."
   ]
  },
  {
   "cell_type": "code",
   "execution_count": null,
   "metadata": {
    "collapsed": true
   },
   "outputs": [],
   "source": [
    "# example 1\n",
    "tip_words = ['Notebooks', 'can', 'be', 'exported', 'as', '.pdf'] \n",
    "\n",
    "# join tip_words objects with spaces\n",
    "print(\" \".join(tip_words))"
   ]
  },
  {
   "cell_type": "code",
   "execution_count": null,
   "metadata": {
    "collapsed": true
   },
   "outputs": [],
   "source": [
    "# example 2\n",
    "no_space = ''\n",
    "letters = ['P', 'y', 't', 'h', 'o', 'n']\n",
    "print(no_space.join(letters))"
   ]
  },
  {
   "cell_type": "code",
   "execution_count": null,
   "metadata": {
    "collapsed": true
   },
   "outputs": [],
   "source": [
    "# example 3\n",
    "dash = \"-\"\n",
    "space = \" \"\n",
    "word = \"Iteration\"\n",
    "ellipises = \"...\"\n",
    "\n",
    "dash_join = dash.join(word)\n",
    "print(dash_join)\n",
    "print(space.join(word))\n",
    "print(ellipises.join(word))"
   ]
  },
  {
   "cell_type": "markdown",
   "metadata": {},
   "source": [
    "<h1 style=\"font-size:1.5em; font-family: verdana, Geneva, sans-serif; color:#B24C00\">\n",
    "Exercise</h1>\n",
    "\n",
    "1) Find the occurences of the letters `\"a\"` and `\"t\"` in the `movie`."
   ]
  },
  {
   "cell_type": "code",
   "execution_count": null,
   "metadata": {},
   "outputs": [],
   "source": [
    "movie = 'Battlestar Galactica'\n",
    "\n",
    "# your code\n"
   ]
  },
  {
   "cell_type": "markdown",
   "metadata": {},
   "source": [
    "2) Print a substring of `movie` from the location of the first and second `\"a\"`."
   ]
  },
  {
   "cell_type": "code",
   "execution_count": null,
   "metadata": {
    "collapsed": true
   },
   "outputs": [],
   "source": [
    "movie = 'Battlestar Galactica'\n",
    "\n",
    "# your code\n"
   ]
  },
  {
   "cell_type": "markdown",
   "metadata": {
    "collapsed": true
   },
   "source": [
    "3) Print each word in the `rhyme` on a new line."
   ]
  },
  {
   "cell_type": "code",
   "execution_count": null,
   "metadata": {
    "collapsed": true
   },
   "outputs": [],
   "source": [
    "rhyme = 'Humpty Dumpty sat on a wall'\n",
    "\n",
    "start = 0\n",
    "space_index = rhyme.find(' ')\n",
    "while space_index != -1:\n",
    "    # your code \n"
   ]
  },
  {
   "cell_type": "markdown",
   "metadata": {
    "collapsed": true
   },
   "source": [
    "4) Split the `rhyme` into a list of words and print the first and every other word."
   ]
  },
  {
   "cell_type": "code",
   "execution_count": null,
   "metadata": {
    "collapsed": true
   },
   "outputs": [],
   "source": [
    "rhyme = 'Humpty Dumpty sat on a wall, Humpty Dumpty had a great fall.' \n",
    "\n",
    "# your code\n"
   ]
  },
  {
   "cell_type": "markdown",
   "metadata": {
    "collapsed": true
   },
   "source": [
    "5) Join the letters in the list `letters` with an asterisk `\"*\"`."
   ]
  },
  {
   "cell_type": "code",
   "execution_count": null,
   "metadata": {},
   "outputs": [],
   "source": [
    "letters = ['t', 'w', 'i', 'n', 'k', 'l', 'e']\n",
    "\n",
    "# your code\n"
   ]
  },
  {
   "cell_type": "markdown",
   "metadata": {
    "collapsed": true
   },
   "source": [
    "6) Write a program that creates a 5 digit string and turn it to a list. Then add all the digits as integers and print the equation and answer. \n",
    "(*hint*: use `.join()` to create the equation `(1+2+3+...)`)"
   ]
  },
  {
   "cell_type": "code",
   "execution_count": null,
   "metadata": {
    "collapsed": true
   },
   "outputs": [],
   "source": [
    "# your code\n"
   ]
  }
 ],
 "metadata": {
  "anaconda-cloud": {},
  "kernelspec": {
   "display_name": "Python 3",
   "language": "python",
   "name": "python3"
  },
  "language_info": {
   "codemirror_mode": {
    "name": "ipython",
    "version": 3
   },
   "file_extension": ".py",
   "mimetype": "text/x-python",
   "name": "python",
   "nbconvert_exporter": "python",
   "pygments_lexer": "ipython3",
   "version": "3.6.7"
  },
  "latex_envs": {
   "LaTeX_envs_menu_present": true,
   "autocomplete": true,
   "bibliofile": "biblio.bib",
   "cite_by": "apalike",
   "current_citInitial": 1,
   "eqLabelWithNumbers": true,
   "eqNumInitial": 1,
   "hotkeys": {
    "equation": "Ctrl-E",
    "itemize": "Ctrl-I"
   },
   "labels_anchors": false,
   "latex_user_defs": false,
   "report_style_numbering": false,
   "user_envs_cfg": false
  }
 },
 "nbformat": 4,
 "nbformat_minor": 1
}
