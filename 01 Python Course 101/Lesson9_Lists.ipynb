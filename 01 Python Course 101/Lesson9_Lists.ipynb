{
 "cells": [
  {
   "cell_type": "markdown",
   "metadata": {},
   "source": [
    "# Lesson 9: Lists\n",
    "\n",
    "- **List Creation and Iteration** \n",
    "- **Some Useful Functions** \n",
    "- **Indexing and Slicing**  \n",
    "- **List of Lists**  \n",
    "- **List Mutability**  \n",
    "- **The `+` Operator**\n",
    "- **The `*` Operator**\n",
    "- **List Methods** \n",
    "- **Shallow versus Deep Copy**\n",
    "- **List Comprehensions**    "
   ]
  },
  {
   "cell_type": "markdown",
   "metadata": {},
   "source": [
    "<h1 style=\"font-size:1.5em; font-family: verdana, Geneva, sans-serif; color:#00A0B2\">List Creation and Iteration</h1>\n",
    "\n",
    "A `list` type is a Python's built-in collection type.\n",
    "A simple lists contains comma separated objects enclosed in square brackets.  \n",
    "\n",
    "```python\n",
    "empty_list = []\n",
    "sample_list = [1, 2, 3, 4, 5]\n",
    "```\n",
    "\n",
    "List object types are not restricted so a mix of object types can be in single list.\n",
    "```python\n",
    "mixed_list = [1, 2.0, 'three', 'four', True]\n",
    "```"
   ]
  },
  {
   "cell_type": "code",
   "execution_count": null,
   "metadata": {},
   "outputs": [],
   "source": [
    "# define list of integers, list of strings, and list of mixed data type\n",
    "age_survey = [25, 30, 44, 59, 37, 73, 22]\n",
    "fav_animals = ['dog', 'cat', 'hamster', 'rabbit', 'guinea pig']\n",
    "mixed_list = [1, 34, 0.999, 'Peter', True]\n",
    "\n",
    "# display each list and its type information\n",
    "print('age_survey: ', type(age_survey), age_survey)\n",
    "print('fav_animals', type(fav_animals), fav_animals)\n",
    "print(\"mixed_list: \", type(mixed_list), mixed_list)"
   ]
  },
  {
   "cell_type": "markdown",
   "metadata": {},
   "source": [
    "Lists can be created using `list()`."
   ]
  },
  {
   "cell_type": "code",
   "execution_count": null,
   "metadata": {
    "collapsed": true
   },
   "outputs": [],
   "source": [
    "list_from_string = list('Hello')\n",
    "print(list_from_string)"
   ]
  },
  {
   "cell_type": "markdown",
   "metadata": {
    "collapsed": true
   },
   "source": [
    "As with a string, you can iterate through each element of a list using a `for` loop. Because a list is also a sequence, the elements are iterated through in the order set by the list. "
   ]
  },
  {
   "cell_type": "code",
   "execution_count": null,
   "metadata": {
    "collapsed": true
   },
   "outputs": [],
   "source": [
    "# example 1\n",
    "cities = ['New York', 'Moscow', 'Munich', 'Tokyo', \n",
    "          'Sydney', 'Mexico City', 'Paris', 'Shanghai']\n",
    "\n",
    "for city in cities:\n",
    "    print(city)"
   ]
  },
  {
   "cell_type": "code",
   "execution_count": null,
   "metadata": {
    "collapsed": true
   },
   "outputs": [],
   "source": [
    "# example 2\n",
    "sales = [6, 8, 9, 11, 12, 17, 19, 20, 22]\n",
    "total = 0\n",
    "\n",
    "for sale in sales:\n",
    "    total += sale\n",
    "    \n",
    "print('total sales:', total)"
   ]
  },
  {
   "cell_type": "markdown",
   "metadata": {
    "collapsed": true
   },
   "source": [
    "<h1 style=\"font-size:1.5em; font-family: verdana, Geneva, sans-serif; color:#00A0B2\">Some Useful Functions</h1>\n",
    "\n",
    "There are a number of built-in functions that work with any collection. In particular, you have seen the `len` function.\n",
    "\n",
    "- The `len(C)` function returns the length of collection `C`, i.e., the number of elements.\n",
    "- The `min(C)` function returns the minimum element in collection `C`. \n",
    "- The `max(C)` function returns the maximum element in collection `C`. \n",
    "- The `sum(L)` function return the sum of elements in list `L`. This particular function requires that the list elements be numbers.\n"
   ]
  },
  {
   "cell_type": "code",
   "execution_count": 5,
   "metadata": {},
   "outputs": [
    {
     "name": "stdout",
     "output_type": "stream",
     "text": [
      "len: 5\n",
      "min: 1\n",
      "max: 5\n",
      "sum: 15\n"
     ]
    }
   ],
   "source": [
    "# example 1\n",
    "int_list = [1,2,3,4,5]\n",
    "\n",
    "print('len:', len(int_list))\n",
    "print('min:', min(int_list))\n",
    "print('max:', max(int_list))\n",
    "print('sum:', sum(int_list))"
   ]
  },
  {
   "cell_type": "code",
   "execution_count": 6,
   "metadata": {
    "scrolled": true
   },
   "outputs": [
    {
     "name": "stdout",
     "output_type": "stream",
     "text": [
      "len: 5\n",
      "min: 1.0\n",
      "max: 5.0\n",
      "sum: 15.0\n"
     ]
    }
   ],
   "source": [
    "# example 2\n",
    "float_list = [1.0, 2.0, 3.0, 4.0, 5.0]\n",
    "\n",
    "print('len:', len(float_list))\n",
    "print('min:', min(float_list))\n",
    "print('max:', max(float_list))\n",
    "print('sum:', sum(float_list))"
   ]
  },
  {
   "cell_type": "markdown",
   "metadata": {},
   "source": [
    "Here is a list of useful functions in the module `random` that work with any sequence.\n",
    "- The `choice(S)` function selects a random element from the sequence `S` and return it. \n",
    "- The `sample(S, k)` function generates a new sequence by sampling `k` elements from\n",
    "the original sequence `S`.\n",
    "- The `shuffle(S)` function shuffles the order of the sequence `S` in place. "
   ]
  },
  {
   "cell_type": "code",
   "execution_count": 7,
   "metadata": {},
   "outputs": [
    {
     "name": "stdout",
     "output_type": "stream",
     "text": [
      "choice: 2\n",
      "sample: [3, 1]\n",
      "shuffle: [1, 2, 5, 4, 3]\n"
     ]
    }
   ],
   "source": [
    "import random\n",
    "\n",
    "int_list = [1,2,3,4,5]\n",
    "\n",
    "print('choice:', random.choice(int_list))\n",
    "\n",
    "print('sample:', random.sample(int_list, 2))\n",
    "\n",
    "random.shuffle(int_list)\n",
    "print('shuffle:', int_list)"
   ]
  },
  {
   "cell_type": "markdown",
   "metadata": {
    "collapsed": true
   },
   "source": [
    "<h1 style=\"font-size:1.5em; font-family: verdana, Geneva, sans-serif; color:#00A0B2\">Indexing and Slicing</h1>\n",
    "\n",
    "Like strings, lists are a sequence type. \n",
    "Therefore, indexing and slicing work exactly the same with lists and strings. \n",
    "An `IndexError` exception will be raised if you use an invalid index with a list.\n",
    "To remind yourself, look at the following figure.\n",
    "\n",
    "<h4 style='text-align:center'><code style=\"color:#00A0B2\">my_list = [1, 'a', 3.14159, True]</code></h4>\n",
    "\n",
    "<img src=\"img/list_indexing.png\" style=\"max-width:25%; max-height:25%\">\n",
    "\n",
    "<p style=\"font-size:0.8em; font-style:italic; color:#777; text-align:center\">Source: The Practice of Computing using Python 3rd Edition by William Punch and Richard Enbody, Pearson, 2017.</p>"
   ]
  },
  {
   "cell_type": "code",
   "execution_count": null,
   "metadata": {},
   "outputs": [],
   "source": [
    "# example 1\n",
    "my_list = [1, 'a', 3.14159, True]\n",
    "my_list[1]\n",
    "my_list[:3]\n",
    "my_list[-1]\n",
    "my_list[4]\n",
    "my_list[:]\n",
    "my_list[:3:2]\n",
    "my_list[::2]"
   ]
  },
  {
   "cell_type": "code",
   "execution_count": null,
   "metadata": {
    "collapsed": true
   },
   "outputs": [],
   "source": [
    "# example 2\n",
    "[1,2,3,4,5][2]"
   ]
  },
  {
   "cell_type": "markdown",
   "metadata": {
    "collapsed": true
   },
   "source": [
    "<h1 style=\"font-size:1.5em; font-family: verdana, Geneva, sans-serif; color:#00A0B2\">List of Lists</h1>\n",
    "\n",
    "The elements of a list can be virtually anything, including other lists. Lists that contain lists as elements are useful for representing many types of data. An organization that has a list within a list is often called a <em style=\"color:blue\">nested list</em>. \n",
    "\n",
    "Consider a number of two-dimensional data sets, such as a spreadsheet (rows vs. columns) or the Cartesian plane (x vs. y). These 2-D data sets can be represented as a list of lists. For a spreadsheet, the elements of the list can be the rows (lists) and the elements of those nested lists can be the column values. To index an individual element, we use two pairs of brackets: the first one selects the row list, and the second one selects for the column value within the list. "
   ]
  },
  {
   "cell_type": "code",
   "execution_count": null,
   "metadata": {
    "collapsed": true
   },
   "outputs": [],
   "source": [
    "spreadsheet_list = [ \n",
    "    ['Name','Age','GPA'], \n",
    "    ['Bill', 25, 3.55], \n",
    "    ['Rich', 26 , 4.00] \n",
    "]\n",
    "row = spreadsheet_list[1]\n",
    "print(row)"
   ]
  },
  {
   "cell_type": "code",
   "execution_count": null,
   "metadata": {
    "collapsed": true
   },
   "outputs": [],
   "source": [
    "column = row[2]\n",
    "print(column)"
   ]
  },
  {
   "cell_type": "code",
   "execution_count": null,
   "metadata": {
    "collapsed": true
   },
   "outputs": [],
   "source": [
    "print(spreadsheet_list[1][2])"
   ]
  },
  {
   "cell_type": "markdown",
   "metadata": {},
   "source": [
    "<h1 style=\"font-size:1.5em; font-family: verdana, Geneva, sans-serif; color:#00A0B2\">List Mutability</h1>\n",
    "\n",
    "In Python, lists are  <em style=\"color:blue\">mutable</em>, which means their elements can be changed. Consequently, an expression in the form *`list[index]`* can appear on the left side of an assignment operator."
   ]
  },
  {
   "cell_type": "code",
   "execution_count": null,
   "metadata": {
    "collapsed": true
   },
   "outputs": [],
   "source": [
    "# example 1\n",
    "party_list = ['Joe', 'William', 'Peter']\n",
    "print('party_list before: ', party_list)\n",
    "\n",
    "party_list[1] = 'Elizabeth'\n",
    "print('party_list after:  ', party_list)"
   ]
  },
  {
   "cell_type": "code",
   "execution_count": null,
   "metadata": {},
   "outputs": [],
   "source": [
    "# example 2 - IndexError\n",
    "party_list = ['Joe', 'William', 'Peter']\n",
    "\n",
    "# IndexError - try to append to end of list\n",
    "party_list[3] = 'Edward'\n",
    "print(party_list)"
   ]
  },
  {
   "cell_type": "markdown",
   "metadata": {},
   "source": [
    "<h1 style=\"font-size:1.5em; font-family: verdana, Geneva, sans-serif; color:#00A0B2\">The + Operator</h1>\n",
    "\n",
    "You can use the `+` operator to concatenate two lists."
   ]
  },
  {
   "cell_type": "code",
   "execution_count": null,
   "metadata": {
    "collapsed": true
   },
   "outputs": [],
   "source": [
    "# example 1\n",
    "list1 = [1, 2, 3, 4]\n",
    "print(list1)\n",
    "\n",
    "list2 = [5, 6, 7, 8]\n",
    "print(list2)\n",
    "\n",
    "list3 = list1 + list2\n",
    "print(list3)"
   ]
  },
  {
   "cell_type": "code",
   "execution_count": null,
   "metadata": {
    "collapsed": true
   },
   "outputs": [],
   "source": [
    "# example 2\n",
    "girl_names = ['Esther', 'Kate', 'Mary'] \n",
    "print(girl_names)\n",
    "\n",
    "boy_names = ['John', 'Steve', 'Peter'] \n",
    "print(boy_names)\n",
    "\n",
    "all_names = girl_names + boy_names\n",
    "print(all_names)"
   ]
  },
  {
   "cell_type": "markdown",
   "metadata": {},
   "source": [
    "You can also use the `+=` augmented assignment operator to concatenate one list to another."
   ]
  },
  {
   "cell_type": "code",
   "execution_count": null,
   "metadata": {
    "collapsed": true
   },
   "outputs": [],
   "source": [
    "# example 1\n",
    "list1 = [1, 2, 3, 4]\n",
    "print(list1)\n",
    "\n",
    "list2 = [5, 6, 7, 8] \n",
    "print(list2)\n",
    "\n",
    "list1 += list2\n",
    "print(list1)"
   ]
  },
  {
   "cell_type": "code",
   "execution_count": null,
   "metadata": {
    "collapsed": true
   },
   "outputs": [],
   "source": [
    "# example 2\n",
    "girl_names = ['Esther', 'Kate', 'Mary'] \n",
    "print(girl_names)\n",
    "\n",
    "girl_names += ['Jane', 'Emma']\n",
    "print(girl_names)"
   ]
  },
  {
   "cell_type": "markdown",
   "metadata": {},
   "source": [
    "<h1 style=\"font-size:1.5em; font-family: verdana, Geneva, sans-serif; color:#00A0B2\">The * Operator</h1>\n",
    "\n",
    "The `*` operator makes multiple copies of a list and joins them all together. "
   ]
  },
  {
   "cell_type": "code",
   "execution_count": null,
   "metadata": {
    "collapsed": true
   },
   "outputs": [],
   "source": [
    "my_list = [1,2,3]\n",
    "repetition_list = my_list * 3   \n",
    "print(repetition_list)"
   ]
  },
  {
   "cell_type": "markdown",
   "metadata": {},
   "source": [
    "You can also use the `*=` augmented assignment operator."
   ]
  },
  {
   "cell_type": "code",
   "execution_count": null,
   "metadata": {
    "collapsed": true
   },
   "outputs": [],
   "source": [
    "my_list = [1, 2, 3]\n",
    "my_list *= 3\n",
    "print(my_list)"
   ]
  },
  {
   "cell_type": "markdown",
   "metadata": {},
   "source": [
    "<h1 style=\"font-size:1.5em; font-family: verdana, Geneva, sans-serif; color:#00A0B2\">List Methods</h1>\n",
    "\n",
    "### 1. List Append\n",
    "\n",
    "The <code>.append(<em style=\"color:blue\">item</em>)</code> method adds <code><em style=\"color:blue\">item</em></code> to the **end** of a list. The length of the list is increased by one."
   ]
  },
  {
   "cell_type": "code",
   "execution_count": null,
   "metadata": {
    "collapsed": true
   },
   "outputs": [],
   "source": [
    "# example 1\n",
    "# the list before append\n",
    "sample_list = [1, 2, 3]\n",
    "print(\"sample_list before: \", sample_list)\n",
    "\n",
    "# append number to sample_list\n",
    "sample_list.append(4)\n",
    "print(\"sample_list added:  \", sample_list)\n",
    "\n",
    "# append again\n",
    "sample_list.append(8)\n",
    "print(\"sample_list added:  \", sample_list)\n",
    "\n",
    "# append string\n",
    "sample_list.append('Dog')\n",
    "print(\"sample_list added:  \", sample_list)"
   ]
  },
  {
   "cell_type": "code",
   "execution_count": null,
   "metadata": {},
   "outputs": [],
   "source": [
    "# example 2\n",
    "boy_names = ['Noah', 'William', 'James', 'Benjamin', 'Oliver', 'Alexander', 'Sebastian', \n",
    "             'David', 'Christopher', 'Ryan', 'Maximiliano', 'Frederick', 'Sam', 'Ethan']\n",
    "longer_names = []\n",
    "shorter_names = []\n",
    "\n",
    "for name in boy_names:\n",
    "    if len(name) < 8:\n",
    "        shorter_names.append(name)\n",
    "    else:\n",
    "        longer_names.append(name)\n",
    "\n",
    "print(shorter_names)\n",
    "print(longer_names)"
   ]
  },
  {
   "cell_type": "code",
   "execution_count": null,
   "metadata": {},
   "outputs": [],
   "source": [
    "# example 3\n",
    "boy_names = ['Noah', 'William', 'James', 'Benjamin', 'Oliver', 'Alexander', 'Sebastian', \n",
    "             'David', 'Christopher', 'Ryan', 'Maximiliano', 'Frederick', 'Sam', 'Ethan']\n",
    "longer_names = ''\n",
    "shorter_names = ''\n",
    "\n",
    "for name in boy_names:\n",
    "    if len(name) < 8:\n",
    "        shorter_names += \"\\n\" + name\n",
    "    else:\n",
    "        longer_names += \"\\n\" + name\n",
    "\n",
    "print(shorter_names)\n",
    "print(longer_names)"
   ]
  },
  {
   "cell_type": "markdown",
   "metadata": {},
   "source": [
    "### 2. List Insert\n",
    "\n",
    "The <code>.insert(<em style=\"color:blue\">idex</em>,<em style=\"color:blue\">item</em>)</code> method inserts <code><em style=\"color:blue\">item</em></code> into the list at the specified <code><em style=\"color:blue\">index</em></code>. \n",
    "\n",
    "When an item is inserted into a list, the list is expanded in size to accommodate the new item. The item that was previously at the specified index, and all the items after it, are shifted by one position toward the end of the list.\n",
    "\n",
    "**No exceptions will occur if you specify an invalid index.** If you specify an index beyond the end of the list, the item will be added to the end of the list. If you use a negative index that specifies an invalid position, the item will be inserted at the beginning of the list."
   ]
  },
  {
   "cell_type": "code",
   "execution_count": null,
   "metadata": {},
   "outputs": [],
   "source": [
    "# the list before Insert\n",
    "party_list = ['Joe', 'William', 'Peter']\n",
    "print(\"Before: \", party_list)\n",
    "\n",
    "# the list after Insert\n",
    "party_list.insert(1,'Tony')\n",
    "print(\"After:  \", party_list)"
   ]
  },
  {
   "cell_type": "markdown",
   "metadata": {},
   "source": [
    "### 3. List Delete\n",
    "\n",
    "#### 3. 1 Delete an item at a specific index using `del` keyword"
   ]
  },
  {
   "cell_type": "code",
   "execution_count": null,
   "metadata": {
    "collapsed": true
   },
   "outputs": [],
   "source": [
    "# the list before delete\n",
    "sample_list = [11, 21, 13, 14, 51, 161, 117, 181]\n",
    "print(\"sample_list before: \", sample_list)\n",
    "\n",
    "del sample_list[1]\n",
    "# the list after delete\n",
    "print(\"sample_list after:  \", sample_list)"
   ]
  },
  {
   "cell_type": "markdown",
   "metadata": {},
   "source": [
    "#### 3.2 Delete an item using `pop` method\n",
    "\n",
    "- The `.pop()` method removes the element at the **end** of the list and return that element. The list is shortened by one element. \n",
    "\n",
    "- The <code>.pop(<em style=\"color:blue\">index</em>)</code> method removes the element at the **<em style=\"color:blue\">index</em>** position and returns that item."
   ]
  },
  {
   "cell_type": "code",
   "execution_count": null,
   "metadata": {
    "collapsed": true
   },
   "outputs": [],
   "source": [
    "# example 1\n",
    "# pop() gets the last item by default\n",
    "party_list = ['Joe', 'William', 'Peter']\n",
    "print(party_list)\n",
    "print(\"Hello,\", party_list.pop())\n",
    "\n",
    "print(\"\\n\", party_list)\n",
    "print(\"Hello,\", party_list.pop())\n",
    "\n",
    "print(\"\\n\", party_list)\n",
    "print(\"Hello,\", party_list.pop())\n",
    "\n",
    "print(\"\\n\", party_list)"
   ]
  },
  {
   "cell_type": "code",
   "execution_count": null,
   "metadata": {
    "collapsed": true
   },
   "outputs": [],
   "source": [
    "# example 2\n",
    "# can pop specific index like pop(3)\n",
    "number_list = [11, 21, 13, 14, 51, 161, 117, 181]\n",
    "print(\"before:\", number_list)\n",
    "number_list.pop(3)\n",
    "print(\"after :\", number_list)"
   ]
  },
  {
   "cell_type": "code",
   "execution_count": null,
   "metadata": {
    "collapsed": true
   },
   "outputs": [],
   "source": [
    "# example 3\n",
    "# assign a poped value to a variable\n",
    "number_list = [11, 21, 13, 14, 51, 161, 117, 181]\n",
    "print(\"list before:\", number_list)\n",
    "num_1 = number_list.pop()\n",
    "num_2 = number_list.pop()\n",
    "print(\"list after :\", number_list)\n",
    "print(\"add the popped values:\", num_1, \"+\", num_2, \"=\", num_1 + num_2)"
   ]
  },
  {
   "cell_type": "code",
   "execution_count": null,
   "metadata": {
    "collapsed": true,
    "scrolled": false
   },
   "outputs": [],
   "source": [
    "# example 4\n",
    "dog_types = ['Golden Retriever', 'Greyhound', 'Poodle']\n",
    "\n",
    "# An empty list is False\n",
    "while dog_types: \n",
    "    print(dog_types.pop())"
   ]
  },
  {
   "cell_type": "markdown",
   "metadata": {},
   "source": [
    "#### 3.3 Delete an item using the `.remove()` method\n",
    "\n",
    "The <code>.remove(<em style=\"color:blue\">item</em>)</code> method removes the first occurrence of <code><em style=\"color:blue\">item</em></code> from the list. \n",
    "`ValueError` occurs if item is not found in the list.  "
   ]
  },
  {
   "cell_type": "code",
   "execution_count": null,
   "metadata": {},
   "outputs": [],
   "source": [
    "# example 1\n",
    "dogs = ['Golden Retriever', 'Greyhound', 'Poodle']\n",
    "dogs.remove('Greyhound')\n",
    "print(dogs)"
   ]
  },
  {
   "cell_type": "code",
   "execution_count": null,
   "metadata": {},
   "outputs": [],
   "source": [
    "# example 2\n",
    "dogs = ['Golden Retriever', 'Greyhound', 'Poodle']\n",
    "dogs.remove('Bulldog')\n",
    "print(dogs)"
   ]
  },
  {
   "cell_type": "markdown",
   "metadata": {},
   "source": [
    "You can use the `in` keyword to determine whether an item is contained in a list. "
   ]
  },
  {
   "cell_type": "code",
   "execution_count": null,
   "metadata": {},
   "outputs": [],
   "source": [
    "# example 1\n",
    "dogs = ['Golden Retriever', 'Greyhound', 'Poodle']\n",
    "\n",
    "if 'Bulldog' in dogs:\n",
    "    dogs.remove('Bulldog')\n",
    "else:\n",
    "    print('No Bulldog found')\n",
    "\n",
    "print(dogs)"
   ]
  },
  {
   "cell_type": "code",
   "execution_count": null,
   "metadata": {},
   "outputs": [],
   "source": [
    "# example 2\n",
    "dogs = ['Golden Retriever', 'Poodle', 'Pug', 'Greyhound', 'Poodle', 'Chow Chow']\n",
    "\n",
    "print(dogs)\n",
    "while 'Poodle' in dogs:    \n",
    "    dogs.remove('Poodle')\n",
    "    print(dogs)"
   ]
  },
  {
   "cell_type": "markdown",
   "metadata": {},
   "source": [
    "### 4. List Search\n",
    "\n",
    "The <code>.index(<em style=\"color:blue\">item</em>)</code> method returns the index of the first element whose value is equal to <code><em style=\"color:blue\">item</em></code>. \n",
    "`ValueError` occurs if item is not found in the list.  "
   ]
  },
  {
   "cell_type": "code",
   "execution_count": null,
   "metadata": {},
   "outputs": [],
   "source": [
    "visited_cities = ['New York', 'Moscow', 'Munich', 'Tokyo', \n",
    "                  'Sydney', 'Mexico City', 'Paris', 'Shanghai']\n",
    "\n",
    "search = input('Enter a city visited: ')\n",
    "\n",
    "index = visited_cities.index(search)\n",
    "print(search, 'is at index', index, 'in the list.')"
   ]
  },
  {
   "cell_type": "markdown",
   "metadata": {},
   "source": [
    "### 5. List Combine\n",
    "\n",
    "The <code>.extend(<em style=\"color:blue\">L</em>)</code> mothod adds <code><em style=\"color:blue\">L</em></cdoe> into an existing list. "
   ]
  },
  {
   "cell_type": "code",
   "execution_count": null,
   "metadata": {},
   "outputs": [],
   "source": [
    "visited_cities = ['New York', 'Moscow', 'Munich', 'Tokyo', \n",
    "                  'Sydney', 'Mexico City', 'Paris', 'Shanghai']\n",
    "wish_cities = ['Fukuoka', 'Boston', \"Beijing\", 'Prague']\n",
    "\n",
    "# combine in a new list\n",
    "all_cities = visited_cities + wish_cities\n",
    "print('All Cities', all_cities)\n",
    "\n",
    "# add a list to an existing list\n",
    "visited_cities.extend(wish_cities)\n",
    "print('All Cities', visited_cities)"
   ]
  },
  {
   "cell_type": "markdown",
   "metadata": {},
   "source": [
    "### 6. List Reverse\n",
    "\n",
    "The `.reverse()` method reverses the order of the items in the list."
   ]
  },
  {
   "cell_type": "code",
   "execution_count": null,
   "metadata": {},
   "outputs": [],
   "source": [
    "# example 1\n",
    "wish_cities = ['Fukuoka', 'Boston', \"Beijing\", 'Prague']\n",
    "\n",
    "print('Regular:', wish_cities)\n",
    "wish_cities.reverse()\n",
    "print('Reversed:', wish_cities)"
   ]
  },
  {
   "cell_type": "code",
   "execution_count": null,
   "metadata": {},
   "outputs": [],
   "source": [
    "# example 2\n",
    "# create a list of numbers using list() \n",
    "count_list = list(range(11))\n",
    "print('Before:', count_list)\n",
    "\n",
    "# and reverse\n",
    "count_list.reverse()\n",
    "print('After:', count_list)"
   ]
  },
  {
   "cell_type": "markdown",
   "metadata": {},
   "source": [
    "### 7. List Sort\n",
    "\n",
    "You can sort the items in the list so they appear in ascending order (from the lowest to the highest value) by using `.sort()` method or `sorted()` function.\n",
    "\n",
    "- The `.sort()` method orders a list in place. For example:\n",
    "```python\n",
    "quiz_scores = [20, 19, 20, 15, 20, 20, 20, 18, 18, 18, 19]\n",
    "quiz_scores.sort()\n",
    "```  \n",
    "\n",
    "- The `sorted()` function creates an ordered list copy. For example:\n",
    "```python\n",
    "game_points = [3, 14, 0, 8, 21, 1, 3, 8]\n",
    "sorted_points = sorted(game_points)\n",
    "```"
   ]
  },
  {
   "cell_type": "code",
   "execution_count": null,
   "metadata": {},
   "outputs": [],
   "source": [
    "# example 1\n",
    "quiz_scores = [20, 19, 20, 15, 20, 20, 20, 18, 18, 18, 19]\n",
    "\n",
    "print('Unsorted:', quiz_scores)\n",
    "\n",
    "quiz_scores.sort()\n",
    "\n",
    "print('Sorted:', quiz_scores)"
   ]
  },
  {
   "cell_type": "code",
   "execution_count": null,
   "metadata": {},
   "outputs": [],
   "source": [
    "# example 2\n",
    "cities = ['Bangkok', 'New York', 'Soul', 'Canberra', 'Tokyo', 'Beijing']\n",
    "\n",
    "print('Unsorted:', cities)\n",
    "cities.sort()\n",
    "print('Sorted:', cities)"
   ]
  },
  {
   "cell_type": "code",
   "execution_count": null,
   "metadata": {},
   "outputs": [],
   "source": [
    "# example 3\n",
    "game_points = [3, 14, 0, 8, 21, 1, 3, 8]\n",
    "\n",
    "sorted_points = sorted(game_points)\n",
    "\n",
    "print(\"game_points:\", game_points)\n",
    "print(\"sorted_points:\", sorted_points)"
   ]
  },
  {
   "cell_type": "markdown",
   "metadata": {
    "collapsed": true
   },
   "source": [
    "<h1 style=\"font-size:1.5em; font-family: verdana, Geneva, sans-serif; color:#B24C00\">\n",
    "Exercise</h1>\n",
    "\n",
    "1) Write a program that does the following:\n",
    "\n",
    "- Create a list, `three_words`, containing three different capitalized word strings.\n",
    "- Print `three_words`.\n",
    "- Modify the first item in `three_words` to uppercase.\n",
    "- Modify the third item to swapcase.\n",
    "- Print `three_words`."
   ]
  },
  {
   "cell_type": "code",
   "execution_count": null,
   "metadata": {
    "collapsed": true
   },
   "outputs": [],
   "source": [
    "# your code\n"
   ]
  },
  {
   "cell_type": "markdown",
   "metadata": {
    "collapsed": true
   },
   "source": [
    "2) Write a program that uses the `.insert()` method to insert a name from a user input into the `party_list` in the second position (index 1). Also print the updated list."
   ]
  },
  {
   "cell_type": "code",
   "execution_count": null,
   "metadata": {},
   "outputs": [],
   "source": [
    "party_list = ['Joe', 'William', 'Peter']\n",
    "\n",
    "# your code\n"
   ]
  },
  {
   "cell_type": "markdown",
   "metadata": {},
   "source": [
    "3) Fix any error in the following code:"
   ]
  },
  {
   "cell_type": "code",
   "execution_count": null,
   "metadata": {},
   "outputs": [],
   "source": [
    "trees = 'Coconut'\n",
    "print('Before:', trees)\n",
    "trees.insert(1,'Palm')\n",
    "print('After:', trees)\n",
    "      "
   ]
  },
  {
   "cell_type": "markdown",
   "metadata": {},
   "source": [
    "4) Write a program that does the following:   \n",
    "- Print `names` list.\n",
    "- Use `del` to delete `William` from `names` list.  \n",
    "- use `del` to delete `Sam` from `names` list.  \n",
    "- Print `names` list again. \n",
    "- Check for deletion of `William` and `Sam`.  "
   ]
  },
  {
   "cell_type": "code",
   "execution_count": null,
   "metadata": {
    "collapsed": true
   },
   "outputs": [],
   "source": [
    "names = ['Noah', 'William', 'James', 'Benjamin', 'Oliver', 'Alexander', 'Sebastian', \n",
    "         'David', 'Christopher', 'Ryan', 'Maximiliano', 'Frederick', 'Sam', 'Ethan']\n",
    "\n",
    "# your code\n"
   ]
  },
  {
   "cell_type": "markdown",
   "metadata": {
    "collapsed": true
   },
   "source": [
    "5) Write a program that uses the `.pop()` method to remove and print the first and last items from the `names` list, and then prints the remaining list.\n"
   ]
  },
  {
   "cell_type": "code",
   "execution_count": null,
   "metadata": {
    "collapsed": true
   },
   "outputs": [],
   "source": [
    "names = ['Noah', 'William', 'James', 'Benjamin', 'Oliver', 'Alexander', 'Sebastian', \n",
    "         'David', 'Christopher', 'Ryan', 'Maximiliano', 'Frederick', 'Sam', 'Ethan']\n",
    "\n",
    "# your code\n"
   ]
  },
  {
   "cell_type": "markdown",
   "metadata": {
    "collapsed": true
   },
   "source": [
    "6) Write a program that uses the `.remove()` method to remove one `Poodle` from the `dogs` list or print `no Poodle found`. You need to print the list before and after the `.remove()` method being applied."
   ]
  },
  {
   "cell_type": "code",
   "execution_count": null,
   "metadata": {
    "collapsed": true
   },
   "outputs": [],
   "source": [
    "dogs = ['Golden Retriever', 'Poodle', 'Pug', 'Greyhound', 'Poodle', 'Chow Chow']\n",
    "\n",
    "# your code\n"
   ]
  },
  {
   "cell_type": "markdown",
   "metadata": {},
   "source": [
    "7) Fix any error in the following code:"
   ]
  },
  {
   "cell_type": "code",
   "execution_count": null,
   "metadata": {},
   "outputs": [],
   "source": [
    "dogs = ['Golden Retriever', 'Poodle', 'Pug', 'Greyhound', 'Poodle', 'Chow Chow']\n",
    "\n",
    "dogs.remove('Akita')\n",
    "print(dogs)"
   ]
  },
  {
   "cell_type": "markdown",
   "metadata": {
    "collapsed": true
   },
   "source": [
    "8) Write a program that extends the list `common_dogs` with a list called `dogs_seen` which you must create."
   ]
  },
  {
   "cell_type": "code",
   "execution_count": null,
   "metadata": {
    "collapsed": true
   },
   "outputs": [],
   "source": [
    "common_dogs = ['Golden Retriever', 'Poodle', 'Pug', 'Greyhound']\n",
    "\n",
    "# your code\n"
   ]
  },
  {
   "cell_type": "markdown",
   "metadata": {
    "collapsed": true
   },
   "source": [
    "9) Write a program that creates and prints a list of multiples of 5 from 5 to 100, then reverses the list and prints it again."
   ]
  },
  {
   "cell_type": "code",
   "execution_count": null,
   "metadata": {
    "collapsed": true
   },
   "outputs": [],
   "source": [
    "# your code\n"
   ]
  },
  {
   "cell_type": "markdown",
   "metadata": {
    "collapsed": true
   },
   "source": [
    " 10) Write a program that does the following:\n",
    "- Make a sorted copy (`sorted_cities`) of the `visited_cities` list.\n",
    "- Remove any city name that is six characters long or less from the `sorted_cities`.\n",
    "- Print the visitied_cites and sorted_cities."
   ]
  },
  {
   "cell_type": "code",
   "execution_count": null,
   "metadata": {},
   "outputs": [],
   "source": [
    "visited_cities = ['New York', 'Moscow', 'Munich', 'Tokyo', \n",
    "                  'Sydney', 'Mexico City', 'Paris', 'Shanghai']\n",
    "\n",
    "# your code\n"
   ]
  },
  {
   "cell_type": "markdown",
   "metadata": {},
   "source": [
    "<h1 style=\"font-size:1.5.em; font-family: verdana, Geneva, sans-serif; color:#00A0B2\">Shallow versus Deep Copy</h1>\n",
    "\n",
    "### 1. Shallow Copy\n",
    "\n",
    "One way to make a (shallow) copy of the list is with a loop that copies each element of the list. Here is an example:"
   ]
  },
  {
   "cell_type": "code",
   "execution_count": null,
   "metadata": {
    "collapsed": true
   },
   "outputs": [],
   "source": [
    "# create a list\n",
    "list1 = [1000, 2000, 3000]\n",
    "\n",
    "# create an empty list\n",
    "list2 = []\n",
    "\n",
    "# copy the elements of list1 to list2\n",
    "for item in list1:\n",
    "    list2.append(item)\n",
    "\n",
    "print('list1 =', list1)\n",
    "print('list2 =', list2)\n",
    "print('-' * 30)\n",
    "\n",
    "print('list1 is list2:', list1 is list2)\n",
    "print('list1 == list2:', list1 == list2)\n",
    "print('-' * 30)\n",
    "\n",
    "list2[2] = 7000\n",
    "print('list1 =', list1)\n",
    "print('list2 =', list2)"
   ]
  },
  {
   "cell_type": "markdown",
   "metadata": {},
   "source": [
    "Another way to accomplish the same task is to use the `list()`:"
   ]
  },
  {
   "cell_type": "code",
   "execution_count": null,
   "metadata": {
    "collapsed": true
   },
   "outputs": [],
   "source": [
    "# create a list\n",
    "list1 = [1000, 2000, 3000]\n",
    "\n",
    "# make a copy of the list using list()\n",
    "list2 = list(list1)\n",
    "\n",
    "print('list1 =', list1)\n",
    "print('list2 =', list2)\n",
    "print('-' * 30)\n",
    "\n",
    "print('list1 is list2:', list1 is list2)\n",
    "print('list1 == list2:', list1 == list2)\n",
    "print('-' * 30)\n",
    "\n",
    "list2[2] = 7000\n",
    "print('list1 =', list1)\n",
    "print('list2 =', list2)"
   ]
  },
  {
   "cell_type": "markdown",
   "metadata": {},
   "source": [
    "A simpler way to accomplish the same task is to use the index slicing:"
   ]
  },
  {
   "cell_type": "code",
   "execution_count": null,
   "metadata": {
    "collapsed": true
   },
   "outputs": [],
   "source": [
    "# create a list\n",
    "list1 = [1000, 2000, 3000]\n",
    "\n",
    "# make a copy of the list using the index slicing.\n",
    "list2 = list1[:]\n",
    "\n",
    "print('list1 =', list1)\n",
    "print('list2 =', list2)\n",
    "print('-' * 30)\n",
    "\n",
    "print('list1 is list2:', list1 is list2)\n",
    "print('list1 == list2:', list1 == list2)\n",
    "print('-' * 30)\n",
    "\n",
    "list2[2] = 7000\n",
    "print('list1 =', list1)\n",
    "print('list2 =', list2)"
   ]
  },
  {
   "cell_type": "markdown",
   "metadata": {},
   "source": [
    "#### What's wrong with shallow copy?"
   ]
  },
  {
   "cell_type": "code",
   "execution_count": null,
   "metadata": {
    "collapsed": true
   },
   "outputs": [],
   "source": [
    "list1 = [1000, 2000, [3000, 4000], 5000]\n",
    "list2 = list1[:]\n",
    "\n",
    "print('list1 =', list1)\n",
    "print('list2 =', list2)\n",
    "print('-' * 30)\n",
    "\n",
    "print('list1 is list2:', list1 is list2)\n",
    "print('list1 == list2:', list1 == list2)\n",
    "print('-' * 30)\n",
    "\n",
    "list2[2][0] = 7000\n",
    "print('list1 =', list1)\n",
    "print('list2 =', list2)"
   ]
  },
  {
   "cell_type": "markdown",
   "metadata": {},
   "source": [
    "### 2. Deep copy"
   ]
  },
  {
   "cell_type": "code",
   "execution_count": null,
   "metadata": {
    "collapsed": true,
    "scrolled": false
   },
   "outputs": [],
   "source": [
    "import copy\n",
    "\n",
    "list1 = [1000, 2000, [3000, 4000], 5000]\n",
    "list2 = copy.deepcopy(list1)\n",
    "\n",
    "print('list1 =', list1)\n",
    "print('list2 =', list2)\n",
    "print('-' * 30)\n",
    "\n",
    "print('list1 is list2:', list1 is list2)\n",
    "print('list1 == list2:', list1 == list2)\n",
    "print('-' * 30)\n",
    "\n",
    "list2[2][0] = 7000\n",
    "print('list1 =', list1)\n",
    "print('list2 =', list2)"
   ]
  },
  {
   "cell_type": "markdown",
   "metadata": {},
   "source": [
    "<h1 style=\"font-size:1.5em; font-family: verdana, Geneva, sans-serif; color:#00A0B2\">List Comprehensions</h1>\n",
    "\n",
    "A <em style=\"color:blue\">comprehension</em> is a compact way to construct a new collection by performing some simple operations on some or all of the elements of another collection. \n",
    "Its origins lie in mathematical set notation. \n",
    "It is simply a shortcut for expressing a way to create a new collection from an old collection. \n",
    "**Any comprehension could be implemented using a regular `for` loop.**\n",
    "\n",
    "Syntax:\n",
    "```python\n",
    "<result> = [ <expression> for <item> in <collection> ]\n",
    "```\n",
    "\n",
    "Eqivalency `for` loop:\n",
    "```python\n",
    "<result> = []\n",
    "for <item> in <collection>:\n",
    "    <result>.append(<expression>)\n",
    "```\n",
    "\n",
    "###### Example 1:"
   ]
  },
  {
   "cell_type": "code",
   "execution_count": null,
   "metadata": {
    "collapsed": true
   },
   "outputs": [],
   "source": [
    "squares = []\n",
    "for n in range(11):\n",
    "    squares.append(n * n)\n",
    "    \n",
    "print(squares)"
   ]
  },
  {
   "cell_type": "code",
   "execution_count": null,
   "metadata": {},
   "outputs": [],
   "source": [
    "squares = [n * n for n in range(11)]\n",
    "\n",
    "print(squares)"
   ]
  },
  {
   "cell_type": "markdown",
   "metadata": {},
   "source": [
    "###### Example 2:"
   ]
  },
  {
   "cell_type": "code",
   "execution_count": null,
   "metadata": {
    "collapsed": true
   },
   "outputs": [],
   "source": [
    "squares = []\n",
    "for n in range(11):\n",
    "    if n % 2 == 0:\n",
    "        squares.append(n * n)\n",
    "    \n",
    "print(squares)"
   ]
  },
  {
   "cell_type": "code",
   "execution_count": null,
   "metadata": {},
   "outputs": [],
   "source": [
    "squares = [ n * n for n in range(11) if n % 2 == 0]\n",
    "\n",
    "print(squares)"
   ]
  },
  {
   "cell_type": "markdown",
   "metadata": {},
   "source": [
    "###### Example 3:"
   ]
  },
  {
   "cell_type": "code",
   "execution_count": null,
   "metadata": {
    "collapsed": true
   },
   "outputs": [],
   "source": [
    "word = 'hello world'\n",
    "vowels = 'aeiou'\n",
    "vowels_in_word = []\n",
    "\n",
    "for char in word:\n",
    "    if char in vowels:\n",
    "        vowels_in_word.append(char)\n",
    "\n",
    "print(vowels_in_word)   "
   ]
  },
  {
   "cell_type": "code",
   "execution_count": null,
   "metadata": {},
   "outputs": [],
   "source": [
    "word = 'hello world'\n",
    "vowels = 'aeiou'\n",
    "\n",
    "vowels_in_word = [char for char in word if char in vowels]\n",
    "\n",
    "print(vowels_in_word)"
   ]
  },
  {
   "cell_type": "markdown",
   "metadata": {},
   "source": [
    "The <em style=\"color:blue\">ternary operator</em> is a kind of abbreviated `if` statement that returns one of the two values depending on some condition. It works well in comprehensions. \n",
    "\n",
    "Syntax:\n",
    "```python\n",
    "True-expression if condition else False-expression\n",
    "```\n",
    "\n",
    "###### Example 1:"
   ]
  },
  {
   "cell_type": "code",
   "execution_count": null,
   "metadata": {
    "collapsed": true,
    "scrolled": true
   },
   "outputs": [],
   "source": [
    "x, y = 10, 20\n",
    "max_of_two = None\n",
    "\n",
    "if x > y:\n",
    "    max_of_two = x\n",
    "else:\n",
    "    max_of_two = y\n",
    "    \n",
    "print(max_of_two)"
   ]
  },
  {
   "cell_type": "code",
   "execution_count": null,
   "metadata": {
    "collapsed": true
   },
   "outputs": [],
   "source": [
    "max_of_two = x if x > y else y\n",
    "print(max_of_two)"
   ]
  },
  {
   "cell_type": "markdown",
   "metadata": {},
   "source": [
    "###### Example 2:"
   ]
  },
  {
   "cell_type": "code",
   "execution_count": null,
   "metadata": {
    "collapsed": true
   },
   "outputs": [],
   "source": [
    "result = [ n**2 if n%2 == 0 else n**3 for n in range(11)]\n",
    "print(result)"
   ]
  }
 ],
 "metadata": {
  "anaconda-cloud": {},
  "kernelspec": {
   "display_name": "Python 3",
   "language": "python",
   "name": "python3"
  },
  "language_info": {
   "codemirror_mode": {
    "name": "ipython",
    "version": 3
   },
   "file_extension": ".py",
   "mimetype": "text/x-python",
   "name": "python",
   "nbconvert_exporter": "python",
   "pygments_lexer": "ipython3",
   "version": "3.6.7"
  },
  "latex_envs": {
   "LaTeX_envs_menu_present": true,
   "autocomplete": true,
   "bibliofile": "biblio.bib",
   "cite_by": "apalike",
   "current_citInitial": 1,
   "eqLabelWithNumbers": true,
   "eqNumInitial": 1,
   "hotkeys": {
    "equation": "Ctrl-E",
    "itemize": "Ctrl-I"
   },
   "labels_anchors": false,
   "latex_user_defs": false,
   "report_style_numbering": false,
   "user_envs_cfg": false
  }
 },
 "nbformat": 4,
 "nbformat_minor": 1
}
