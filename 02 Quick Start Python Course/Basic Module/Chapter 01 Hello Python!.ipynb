{
 "cells": [
  {
   "cell_type": "markdown",
   "metadata": {},
   "source": [
    "# PREREQUISITE: https://realpython.com/python-pep8/"
   ]
  },
  {
   "cell_type": "markdown",
   "metadata": {},
   "source": [
    "# Chapter 01: Hello Python!\n",
    "## 1.1 Print and Comment\n",
    "> - `print()` is the most fundamental built-in function, which displays output on the screen.\n",
    "> - `#` comment start with the **#** symbol"
   ]
  },
  {
   "cell_type": "markdown",
   "metadata": {},
   "source": [
    "**Example**"
   ]
  },
  {
   "cell_type": "code",
   "execution_count": null,
   "metadata": {},
   "outputs": [],
   "source": [
    "7+9"
   ]
  },
  {
   "cell_type": "code",
   "execution_count": null,
   "metadata": {},
   "outputs": [],
   "source": [
    "print(7+9)"
   ]
  },
  {
   "cell_type": "code",
   "execution_count": null,
   "metadata": {},
   "outputs": [],
   "source": [
    "7+9\n",
    "5+13"
   ]
  },
  {
   "cell_type": "code",
   "execution_count": null,
   "metadata": {},
   "outputs": [],
   "source": [
    "print(7+9)\n",
    "print(5+6)"
   ]
  },
  {
   "cell_type": "code",
   "execution_count": null,
   "metadata": {},
   "outputs": [],
   "source": [
    "# Adding two numbers\n",
    "print(5+6)  # run this cell using Ctrl + Enter"
   ]
  },
  {
   "cell_type": "code",
   "execution_count": null,
   "metadata": {},
   "outputs": [],
   "source": [
    "Hello World"
   ]
  },
  {
   "cell_type": "code",
   "execution_count": null,
   "metadata": {},
   "outputs": [],
   "source": [
    "print('Hello World')"
   ]
  },
  {
   "cell_type": "markdown",
   "metadata": {},
   "source": [
    "**Exercise 1** Print out the sentence \"I love DataCafe\"."
   ]
  },
  {
   "cell_type": "code",
   "execution_count": null,
   "metadata": {},
   "outputs": [],
   "source": [
    "# SOLUTION\n",
    "\n"
   ]
  },
  {
   "cell_type": "markdown",
   "metadata": {},
   "source": [
    "## **1.2 Numeric Types and Operators**\n",
    "\n",
    "Python has two types of numberics:\n",
    "\n",
    "- **integer**  \n",
    "    - For example: 1, 2, 567, 0, -2, -45  \n",
    "- **floating point number** (an approximation to a real number)\n",
    "    - For example: 2.5, 3.413, 5686.0, 0.0, -32.24, -10.9\n",
    "    \n",
    "**Arithmetic operators**\n",
    "            \n",
    "| Operator | Operation         | Expression | Result |\n",
    "|----------|-------------------|------------|--------|\n",
    "|  +       | addition          | 11 + 56    | 67     |\n",
    "|  -       | subtraction       | 23 - 52    | -29    |\n",
    "|  *       | multiplication    | 4 * 5      | 20     |\n",
    "|  **      | exponentiation    | 2 ** 5     | 32     |\n",
    "|  /       | division\t       | 9 / 2      | 4.5    |\n",
    "|  //      | integer division  | 9 // 2     | 4      |\n",
    "|  %       | modulo (remainder)| 9 % 2      | 1      |\n",
    "    \n",
    "**Arithmetic operator precedence**\n",
    "            \n",
    "When multiple operators are combined in a single expression, the operations are evaluated in order of precedence.\n",
    "\n",
    "| Operator     | Description |\n",
    "|--------------|-------------|\n",
    "| ( )          | Parentheses|\n",
    "| **           | Exponentiation| \n",
    "| *, /, //, %  | Multiplication, division, integer division, modulo|\n",
    "| +, -         | Addition, subtraction|\n",
    "\n",
    "The parentheses can be used to group code to achieve the precedence you want."
   ]
  },
  {
   "cell_type": "markdown",
   "metadata": {},
   "source": [
    "**Example** Python as a Calculator"
   ]
  },
  {
   "cell_type": "code",
   "execution_count": null,
   "metadata": {},
   "outputs": [],
   "source": [
    "1 + 2"
   ]
  },
  {
   "cell_type": "code",
   "execution_count": null,
   "metadata": {},
   "outputs": [],
   "source": [
    "2 * 3"
   ]
  },
  {
   "cell_type": "code",
   "execution_count": null,
   "metadata": {},
   "outputs": [],
   "source": [
    "1 / 2"
   ]
  },
  {
   "cell_type": "code",
   "execution_count": null,
   "metadata": {},
   "outputs": [],
   "source": [
    "3 ** 3"
   ]
  },
  {
   "cell_type": "code",
   "execution_count": null,
   "metadata": {},
   "outputs": [],
   "source": [
    "9 % 4"
   ]
  },
  {
   "cell_type": "code",
   "execution_count": null,
   "metadata": {},
   "outputs": [],
   "source": [
    "(1 + 2) * 3"
   ]
  },
  {
   "cell_type": "markdown",
   "metadata": {},
   "source": [
    "**Exercise 2** Print the result of dividing 145 by 5"
   ]
  },
  {
   "cell_type": "code",
   "execution_count": null,
   "metadata": {},
   "outputs": [],
   "source": [
    "# SOLUTION\n"
   ]
  },
  {
   "cell_type": "markdown",
   "metadata": {},
   "source": [
    "**Exercise 3** Print the result of adding 79 and 12 and then subtracting 5"
   ]
  },
  {
   "cell_type": "code",
   "execution_count": null,
   "metadata": {},
   "outputs": [],
   "source": [
    "# SOLUTION\n"
   ]
  },
  {
   "cell_type": "markdown",
   "metadata": {},
   "source": [
    "**Exercise 4** Print the result of adding 6 and 11 and then multiplying that sum by 3"
   ]
  },
  {
   "cell_type": "code",
   "execution_count": null,
   "metadata": {},
   "outputs": [],
   "source": [
    "# SOLUTION\n"
   ]
  },
  {
   "cell_type": "markdown",
   "metadata": {},
   "source": [
    "**Built-in arithmetic functions**\n",
    "            \n",
    "- `abs()`\n",
    "- `round()`\n",
    "- `min()`\n",
    "- `max()`"
   ]
  },
  {
   "cell_type": "markdown",
   "metadata": {},
   "source": [
    "**Example**"
   ]
  },
  {
   "cell_type": "code",
   "execution_count": null,
   "metadata": {},
   "outputs": [],
   "source": [
    "abs(-3.5)"
   ]
  },
  {
   "cell_type": "code",
   "execution_count": null,
   "metadata": {},
   "outputs": [],
   "source": [
    "round(7.529245,2)"
   ]
  },
  {
   "cell_type": "code",
   "execution_count": null,
   "metadata": {},
   "outputs": [],
   "source": [
    "min(5,0,3,-2)"
   ]
  },
  {
   "cell_type": "code",
   "execution_count": null,
   "metadata": {},
   "outputs": [],
   "source": [
    "max(5,0,3,-2)"
   ]
  },
  {
   "cell_type": "markdown",
   "metadata": {},
   "source": [
    "**Exercis 5** Print the absolute result of dividing -6 and 11 with two decimal point."
   ]
  },
  {
   "cell_type": "code",
   "execution_count": null,
   "metadata": {},
   "outputs": [],
   "source": [
    "# SOLUTION\n"
   ]
  },
  {
   "cell_type": "markdown",
   "metadata": {},
   "source": [
    "## **1.3 String Type and Operators**\n",
    "\n",
    "**String**\n",
    "\n",
    "- Strings in Python start and end with a single quotes (`'`) or double quotes (`\"`).\n",
    "- A string can be made up of letters, numbers, and special characters."
   ]
  },
  {
   "cell_type": "markdown",
   "metadata": {},
   "source": [
    "**Example** "
   ]
  },
  {
   "cell_type": "code",
   "execution_count": null,
   "metadata": {},
   "outputs": [],
   "source": [
    "'This is a string.'"
   ]
  },
  {
   "cell_type": "code",
   "execution_count": null,
   "metadata": {},
   "outputs": [],
   "source": [
    "\"This is also a string.\""
   ]
  },
  {
   "cell_type": "code",
   "execution_count": null,
   "metadata": {},
   "outputs": [],
   "source": [
    "'Python is a programming language that lets you work more quickly and integrate your systems more effectively.'\n",
    "\"You can learn to use Python and see almost immediate gains in productivity and lower maintenance costs.\"\n",
    "'Learn more about Python..'"
   ]
  },
  {
   "cell_type": "code",
   "execution_count": null,
   "metadata": {},
   "outputs": [],
   "source": [
    "print('Hello World')\n",
    "print(\"Hello World\")"
   ]
  },
  {
   "cell_type": "markdown",
   "metadata": {},
   "source": [
    "- To display single quotes **`'`** in a string, you can use double quotes as the outer quotes: **`\"It's time\"`**     \n",
    "\n",
    "- To display double quotes **`\"`** in a string, you can use single quotes as the outer quotes: **`'I said \"Hi\"'`**"
   ]
  },
  {
   "cell_type": "markdown",
   "metadata": {},
   "source": [
    "**Example**"
   ]
  },
  {
   "cell_type": "code",
   "execution_count": null,
   "metadata": {},
   "outputs": [],
   "source": [
    "print(\"It's time to start learning Python.\")\n",
    "print('I said \"Hi\" to you.')"
   ]
  },
  {
   "cell_type": "code",
   "execution_count": null,
   "metadata": {},
   "outputs": [],
   "source": [
    "print('''hello\n",
    "world''')"
   ]
  },
  {
   "cell_type": "markdown",
   "metadata": {},
   "source": [
    "**Example for Multiline string**"
   ]
  },
  {
   "cell_type": "code",
   "execution_count": null,
   "metadata": {},
   "outputs": [],
   "source": [
    "print('''This string has single ' and \" quotes inside of it''')"
   ]
  },
  {
   "cell_type": "code",
   "execution_count": null,
   "metadata": {},
   "outputs": [],
   "source": [
    "print(\"\"\"Python is a programming language that lets \n",
    "you work more quickly and integrate your systems more effectively.\n",
    "You can learn to use Python and see almost immediate \n",
    "gains in productivity and lower maintenance costs. \n",
    "Learn more about Python..\"\"\")"
   ]
  },
  {
   "cell_type": "markdown",
   "metadata": {},
   "source": [
    "**Escape sequences**\n",
    "\n",
    "- escape sequences all start with a backslash (`\\`) \n",
    "- escape sequences can be used to display the following characters:\n",
    "  - `\\\\` &nbsp; backslash (`\\`)  \n",
    "  - `\\'` &nbsp; single quote (`'`)  \n",
    "  - `\\\"` &nbsp; double quote (`\"`)  \n",
    "- escape sequences are part of special formatting charcters \n",
    "  - `\\t` &nbsp; tab\n",
    "  - `\\n` &nbsp; return or newline\n",
    "\n",
    "We use escape sequences in strings - usually with `print()` statements "
   ]
  },
  {
   "cell_type": "markdown",
   "metadata": {},
   "source": [
    "**Example**"
   ]
  },
  {
   "cell_type": "code",
   "execution_count": null,
   "metadata": {},
   "outputs": [],
   "source": [
    "print('It\\'s time to start learning Python.')\n",
    "print(\"I said \\\"Hi\\\" to you.\")"
   ]
  },
  {
   "cell_type": "markdown",
   "metadata": {},
   "source": [
    "**String operator**\n",
    "\n",
    "| Expression  |\tDescription                     | Example           | Output  |\n",
    "|-------------|---------------------------------|-------------------|---------|\n",
    "| str1 + str2 |\tconcatenate str1 and str1\t    | print('ab' + 'c')\t| abc     |\n",
    "| str1 * int1 |\tconcatenate int1 copies of str1\t| print('a' * 5)\t| aaaaa   |\n",
    "| int1 * str1 |\tconcatenate int1 copies of str1\t| print(4 * 'bc')\t| bcbcbcbc|\n",
    "\n",
    "> Note: \n",
    "> - *concatenate* means to join together.\n",
    "> - The `*` and `+` operands obey by the standard precedence rules when used with strings.\n",
    "> - All other mathematical operators and operands result in a `TypeError`."
   ]
  },
  {
   "cell_type": "markdown",
   "metadata": {},
   "source": [
    "**Example**"
   ]
  },
  {
   "cell_type": "code",
   "execution_count": null,
   "metadata": {},
   "outputs": [],
   "source": [
    "print('Good' + 'Morning')\n",
    "print('Good' + ' Morning')"
   ]
  },
  {
   "cell_type": "code",
   "execution_count": null,
   "metadata": {},
   "outputs": [],
   "source": [
    "print('az'*3)"
   ]
  },
  {
   "cell_type": "code",
   "execution_count": null,
   "metadata": {},
   "outputs": [],
   "source": [
    "print(3*'az')"
   ]
  },
  {
   "cell_type": "markdown",
   "metadata": {},
   "source": [
    "**Exercise 6** Print ten consecutive words of Dog.\n",
    "\n",
    "**Expected Result:** `Dog Dog Dog Dog Dog Dog Dog Dog Dog Dog `"
   ]
  },
  {
   "cell_type": "code",
   "execution_count": null,
   "metadata": {},
   "outputs": [],
   "source": [
    "# SOLUTION\n",
    "\n"
   ]
  }
 ],
 "metadata": {
  "kernelspec": {
   "display_name": "Python 3",
   "language": "python",
   "name": "python3"
  },
  "language_info": {
   "codemirror_mode": {
    "name": "ipython",
    "version": 3
   },
   "file_extension": ".py",
   "mimetype": "text/x-python",
   "name": "python",
   "nbconvert_exporter": "python",
   "pygments_lexer": "ipython3",
   "version": "3.7.3"
  }
 },
 "nbformat": 4,
 "nbformat_minor": 2
}
