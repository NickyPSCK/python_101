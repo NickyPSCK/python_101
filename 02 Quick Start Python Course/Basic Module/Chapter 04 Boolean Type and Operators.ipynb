{
 "cells": [
  {
   "cell_type": "markdown",
   "metadata": {},
   "source": [
    "# Chapter 04: Boolean Type and Operators"
   ]
  },
  {
   "cell_type": "markdown",
   "metadata": {},
   "source": [
    "## 4.1 Boolean Type\n",
    "Boolean (`bool`) type has only two values **`True`** and **`False`**.  "
   ]
  },
  {
   "cell_type": "markdown",
   "metadata": {},
   "source": [
    "**Comparison Operators**\n",
    "\n",
    "| Operator | Description              |\n",
    "|----------|--------------------------|\n",
    "| <        | Less than                |\n",
    "| <=       | Less than or equal to    |\n",
    "| >        | Greater than             |\n",
    "| >=       | Greater than or equal to |\n",
    "| ==       | Equal to                 |\n",
    "|!=        | Not equal to             |\n",
    "\n",
    ">Note:\n",
    ">- alphabetically `'A'` is less than `'B'`\n",
    ">- lower case `'a'` is greater than upper case `'A'`"
   ]
  },
  {
   "cell_type": "markdown",
   "metadata": {},
   "source": [
    "**Example**"
   ]
  },
  {
   "cell_type": "code",
   "execution_count": null,
   "metadata": {},
   "outputs": [],
   "source": [
    "print(9>2)"
   ]
  },
  {
   "cell_type": "code",
   "execution_count": null,
   "metadata": {},
   "outputs": [],
   "source": [
    "print(9==2)"
   ]
  },
  {
   "cell_type": "code",
   "execution_count": null,
   "metadata": {
    "scrolled": true
   },
   "outputs": [],
   "source": [
    "print('Good Morning' < 'good morning')"
   ]
  },
  {
   "cell_type": "markdown",
   "metadata": {},
   "source": [
    "Why?"
   ]
  },
  {
   "cell_type": "code",
   "execution_count": null,
   "metadata": {},
   "outputs": [],
   "source": [
    "ord('G')"
   ]
  },
  {
   "cell_type": "code",
   "execution_count": null,
   "metadata": {},
   "outputs": [],
   "source": [
    "ord('g')"
   ]
  },
  {
   "cell_type": "markdown",
   "metadata": {},
   "source": [
    "## 4.2 Boolean Operators\n",
    "\n",
    "`not`\n",
    "\n",
    "|`B`|`not B`|\n",
    "|---|-------|\n",
    "|False| True|\n",
    "|True|False|\n",
    "\n",
    "\n",
    "`and`\n",
    "\n",
    "|`A`|`B`|`A and B`|\n",
    "|---|---|---------|\n",
    "|False|False|False|\n",
    "|False|True|False|\n",
    "|True|False|False|\n",
    "|True|True|True|\n",
    "\n",
    "\n",
    "`or`\n",
    "\n",
    "|`A`|`B`|`A or B`|\n",
    "|---|---|---------|\n",
    "|False|False|False|\n",
    "|False|True|True|\n",
    "|True|False|True|\n",
    "|True|True|True|"
   ]
  },
  {
   "cell_type": "markdown",
   "metadata": {},
   "source": [
    "**Example**\n",
    "\n",
    "Combining Comparisons\n",
    "\n",
    "- 0 ≤ x ≤ 20"
   ]
  },
  {
   "cell_type": "code",
   "execution_count": null,
   "metadata": {},
   "outputs": [],
   "source": [
    "x = 5\n",
    "print((x >= 0) and (x <= 20))"
   ]
  },
  {
   "cell_type": "code",
   "execution_count": null,
   "metadata": {},
   "outputs": [],
   "source": [
    "x = 25\n",
    "print((x >= 0) and (x <= 20))"
   ]
  },
  {
   "cell_type": "markdown",
   "metadata": {},
   "source": [
    "## 4.3 Boolean String Methods\n",
    "\n",
    "returns **`True`** or **`False`**\n",
    "\n",
    "- `.isalpha()`\n",
    "- `.isalnum()`\n",
    "- `.istitle()`\n",
    "- `.isdigit()`\n",
    "- `.islower()`\n",
    "- `.isupper()`\n",
    "- `.startswith()`\n",
    "- `.endswith()`"
   ]
  },
  {
   "cell_type": "code",
   "execution_count": null,
   "metadata": {},
   "outputs": [],
   "source": [
    "print('Bank'.isalpha())"
   ]
  },
  {
   "cell_type": "code",
   "execution_count": null,
   "metadata": {},
   "outputs": [],
   "source": [
    "print('number2'.isalnum())"
   ]
  },
  {
   "cell_type": "code",
   "execution_count": null,
   "metadata": {},
   "outputs": [],
   "source": [
    "print('The Lion King'.istitle())"
   ]
  },
  {
   "cell_type": "code",
   "execution_count": null,
   "metadata": {},
   "outputs": [],
   "source": [
    "print('404'.isdigit())"
   ]
  },
  {
   "cell_type": "code",
   "execution_count": null,
   "metadata": {},
   "outputs": [],
   "source": [
    "print('Name'.islower())\n",
    "print('name'.isupper())"
   ]
  },
  {
   "cell_type": "code",
   "execution_count": null,
   "metadata": {},
   "outputs": [],
   "source": [
    "print('Transaction'.startswith('T'))\n",
    "print('Transaction'.startswith('t'))\n",
    "print('Transaction'.startswith('Tr'))\n",
    "\n",
    "print('Transaction'.endswith('tion'))"
   ]
  },
  {
   "cell_type": "markdown",
   "metadata": {},
   "source": [
    "## 4.4 Boolean `in` keyword\n",
    "\n",
    "returns **`True`** or **`False`**"
   ]
  },
  {
   "cell_type": "code",
   "execution_count": null,
   "metadata": {},
   "outputs": [],
   "source": [
    "sentence = 'How are you Today'\n",
    "print(\"'you' in sentence is\", 'you' in sentence)\n",
    "print(\"'You' in sentence is\", 'You' in sentence)"
   ]
  },
  {
   "cell_type": "code",
   "execution_count": null,
   "metadata": {},
   "outputs": [],
   "source": [
    "dessert = 'cake, kakikori, candy, cookie'\n",
    "print('cookie' in dessert)"
   ]
  },
  {
   "cell_type": "code",
   "execution_count": null,
   "metadata": {},
   "outputs": [],
   "source": [
    "print('pizza' in dessert)"
   ]
  }
 ],
 "metadata": {
  "kernelspec": {
   "display_name": "Python 3",
   "language": "python",
   "name": "python3"
  },
  "language_info": {
   "codemirror_mode": {
    "name": "ipython",
    "version": 3
   },
   "file_extension": ".py",
   "mimetype": "text/x-python",
   "name": "python",
   "nbconvert_exporter": "python",
   "pygments_lexer": "ipython3",
   "version": "3.7.3"
  }
 },
 "nbformat": 4,
 "nbformat_minor": 2
}
