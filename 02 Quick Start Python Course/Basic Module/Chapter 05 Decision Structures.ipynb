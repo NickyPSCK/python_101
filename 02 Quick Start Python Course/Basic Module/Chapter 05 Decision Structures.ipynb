{
 "cells": [
  {
   "cell_type": "markdown",
   "metadata": {},
   "source": [
    "# 5: Decision Structures"
   ]
  },
  {
   "cell_type": "code",
   "execution_count": null,
   "metadata": {},
   "outputs": [],
   "source": [
    "# Check wheather x is a member of...\n",
    "print(1 in [1,2,3,4])\n",
    "print(0 in [1,2,3,4])\n",
    "print('a' in 'aeiou')\n",
    "print('b' in 'aeiou')"
   ]
  },
  {
   "cell_type": "markdown",
   "metadata": {},
   "source": [
    "## 5.1 `if` Statement"
   ]
  },
  {
   "cell_type": "markdown",
   "metadata": {},
   "source": [
    "**Syntax for a one-way `if` statement:**\n",
    "```python\n",
    "if condition:\n",
    "    statement(s)\n",
    "```"
   ]
  },
  {
   "cell_type": "markdown",
   "metadata": {},
   "source": [
    "**Example**"
   ]
  },
  {
   "cell_type": "code",
   "execution_count": null,
   "metadata": {},
   "outputs": [],
   "source": [
    "age = int(input('Enter your age: ')) \n",
    "\n",
    "if age >= 20:\n",
    "    print('You can enter this site!');\n",
    "print('Thanks You')"
   ]
  },
  {
   "cell_type": "code",
   "execution_count": null,
   "metadata": {},
   "outputs": [],
   "source": [
    "vowels = 'aeiou'\n",
    "\n",
    "if 'z' not in vowels:\n",
    "    print(\"It is not a vowel.\")"
   ]
  },
  {
   "cell_type": "markdown",
   "metadata": {},
   "source": [
    "**Syntax for a two-way `if-else` statement:**\n",
    "```python\n",
    "if condition:\n",
    "    statement(s)   # for True case\n",
    "else:\n",
    "    statement(s)   # for False case\n",
    "```"
   ]
  },
  {
   "cell_type": "markdown",
   "metadata": {},
   "source": [
    "**Example**"
   ]
  },
  {
   "cell_type": "code",
   "execution_count": null,
   "metadata": {},
   "outputs": [],
   "source": [
    "num = int(input('Enter a number: '))\n",
    "\n",
    "if num % 2 == 0:\n",
    "    print(num, 'is even') \n",
    "else:\n",
    "    print(num, 'is odd');"
   ]
  },
  {
   "cell_type": "code",
   "execution_count": null,
   "metadata": {},
   "outputs": [],
   "source": [
    "num = int(input('Enter a number: '))\n",
    "\n",
    "if num % 3 == 0:\n",
    "    print(num, 'is divisible by 3') \n",
    "else:\n",
    "    print(num, 'is not divisible by 3');"
   ]
  },
  {
   "cell_type": "code",
   "execution_count": null,
   "metadata": {},
   "outputs": [],
   "source": [
    "num = int(input('Enter a number: '))\n",
    "\n",
    "if num < 10:\n",
    "    print('You are LUCKY!!')\n",
    "else:\n",
    "    print('Try again!')"
   ]
  },
  {
   "cell_type": "code",
   "execution_count": null,
   "metadata": {},
   "outputs": [],
   "source": [
    "person = 'Ed'\n",
    "#person = 'Peter'\n",
    "\n",
    "if person == 'Ed':\n",
    "    print('Welcome Ed!')\n",
    "else:\n",
    "    print(\"Welcome, what's your name?\")"
   ]
  },
  {
   "cell_type": "code",
   "execution_count": null,
   "metadata": {},
   "outputs": [],
   "source": [
    "list(range(9))"
   ]
  },
  {
   "cell_type": "code",
   "execution_count": null,
   "metadata": {},
   "outputs": [],
   "source": [
    "list(range(1,10))"
   ]
  },
  {
   "cell_type": "code",
   "execution_count": null,
   "metadata": {},
   "outputs": [],
   "source": [
    "num = int(input('Enter \"1\", \"2\" or \"3\" :  '))\n",
    "\n",
    "if num in range(1,4):\n",
    "    print('Your number is', num)\n",
    "else:\n",
    "    print('Your number is out of range')"
   ]
  },
  {
   "cell_type": "code",
   "execution_count": null,
   "metadata": {},
   "outputs": [],
   "source": [
    "msg = 'Lower the temperature NOW'\n",
    "\n",
    "if msg.lower() == 'lower the temperature now':\n",
    "    print(\"message as expected\")\n",
    "else:\n",
    "    print(\"message not as expected\")"
   ]
  },
  {
   "cell_type": "code",
   "execution_count": null,
   "metadata": {},
   "outputs": [],
   "source": [
    "favorite_book = input(\"Enter the title of a favorite book: \")\n",
    "\n",
    "if favorite_book.istitle():\n",
    "    print(favorite_book, \"- nice capitalization in that title!\")\n",
    "else:\n",
    "    print(favorite_book, \"- consider capitalization throughout for book titles.\")"
   ]
  },
  {
   "cell_type": "code",
   "execution_count": null,
   "metadata": {},
   "outputs": [],
   "source": [
    "x = input(\"Enter an odd positive number: \")\n",
    "\n",
    "# Get an int representation of the string input\n",
    "x = int(x)\n",
    "\n",
    "# Test number for validity\n",
    "if ((x > 0) and (x % 2 != 0)):\n",
    "    print(x, \"is a valid number\")\n",
    "else:\n",
    "    print(x, \"is NOT a valid number\")"
   ]
  },
  {
   "cell_type": "code",
   "execution_count": null,
   "metadata": {},
   "outputs": [],
   "source": [
    "x = 2\n",
    "\n",
    "if x = 2:\n",
    "    print('\"==\" tests for, is equal to')\n",
    "else:\n",
    "    print('Will this line of code be executed?')"
   ]
  },
  {
   "cell_type": "markdown",
   "metadata": {},
   "source": [
    "**Syntax for a multi-way `if-elif-else` statement:**\n",
    "\n",
    "```python\n",
    "if condition1:\n",
    "    perform action1\n",
    "elif condition2:\n",
    "    perform action2\n",
    "else: \n",
    "    perform action3\n",
    "```"
   ]
  },
  {
   "cell_type": "markdown",
   "metadata": {},
   "source": [
    "**Exercise 1** Magic Dates\n",
    "\n",
    "The date June 10, 1960, is special because when it is written in the following format, the month times the day equals the year: 6/10/60\n",
    "\n",
    "Design a program that asks the user to enter a month (in numeric form), a day, and a two- digit year. The program should then determine whether the month times the day equals the year. If so, it should display a message saying the date is magic. Otherwise, it should display a message saying the date is not magic."
   ]
  },
  {
   "cell_type": "code",
   "execution_count": null,
   "metadata": {},
   "outputs": [],
   "source": [
    "# SOLUTION\n"
   ]
  },
  {
   "cell_type": "markdown",
   "metadata": {},
   "source": [
    "**Example**"
   ]
  },
  {
   "cell_type": "code",
   "execution_count": null,
   "metadata": {},
   "outputs": [],
   "source": [
    "person = 'Peter'\n",
    "# person = 'John'\n",
    "\n",
    "if person == 'Ed':\n",
    "    print('Welcome Ed!')\n",
    "elif person =='Peter':\n",
    "    print('Welcome Peter!')\n",
    "else:\n",
    "    print(\"Welcome, what's your name?\")"
   ]
  },
  {
   "cell_type": "code",
   "execution_count": null,
   "metadata": {},
   "outputs": [],
   "source": [
    "num = int(input('Enter \"1\", \"2\" or \"3\" :  '))\n",
    "\n",
    "if num == 1:\n",
    "    print('Your number is 1')\n",
    "elif num == 2:\n",
    "    print('Your number is 2')\n",
    "elif num == 3:\n",
    "    print('Your numnber is 3')\n",
    "else:\n",
    "    print('Your number is out of range')"
   ]
  },
  {
   "cell_type": "code",
   "execution_count": null,
   "metadata": {},
   "outputs": [],
   "source": [
    "weather = input(\"Enter weather (sunny, rainy, snowy): \") \n",
    "\n",
    "if weather.lower() == \"sunny\":\n",
    "    print(\"Wear a t-shirt\")\n",
    "elif weather.lower() == \"rainy\":\n",
    "    print(\"Bring an umbrella and boots\")\n",
    "elif weather.lower() == \"snowy\":\n",
    "    print(\"Wear a warm coat and hat\")\n",
    "else:\n",
    "    print(\"Sorry, not sure what to suggest for\", weather)"
   ]
  },
  {
   "cell_type": "code",
   "execution_count": null,
   "metadata": {},
   "outputs": [],
   "source": [
    "secret_num = \"2\"\n",
    "\n",
    "guess = input(\"Enter a guess for the secret number (1-3): \")\n",
    "\n",
    "if guess.isdigit() == False:\n",
    "    print(\"Invalid: guess should only use digits\")\n",
    "elif guess == \"1\":\n",
    "    print(\"Guess is too low\")\n",
    "elif guess == secret_num:\n",
    "    print(\"Guess is right\")\n",
    "elif guess == \"3\":\n",
    "    print(\"Guess is too high\")\n",
    "else:\n",
    "    print(guess, \"is not a valid guess (1-3)\")"
   ]
  },
  {
   "cell_type": "markdown",
   "metadata": {},
   "source": [
    "**Exercise 2** Grading\n",
    "\n",
    "Write the program that ask user to enter the student's score. The program shoulf then display grade of the student.\n",
    "\n",
    "\n",
    "| Grade | Score |\n",
    "|:-----:|:-----:|\n",
    "|   A   | >= 90 |\n",
    "|   B   | >= 80 |\n",
    "|   C   | >= 70 |\n",
    "|   D   | >= 60 |\n",
    "|   F   |  < 60 |\n",
    "              "
   ]
  },
  {
   "cell_type": "code",
   "execution_count": null,
   "metadata": {},
   "outputs": [],
   "source": [
    "# SOLUTION\n",
    "\n"
   ]
  },
  {
   "cell_type": "markdown",
   "metadata": {},
   "source": [
    "**Exercise 3** Quarter of the Year\n",
    "\n",
    "Write a program that asks the user for a month as a number between 1 and 12. The program should display a message indicating whether the month is in the first quarter, the second quarter, the third quarter, or the fourth quarter of the year. Following are the quidelines:\n",
    "\n",
    "• If the user enters either 1, 2, or 3, the month is in the first quarter.\n",
    "\n",
    "• If the user enters a number between 4 and 6, the month is in the second quarter.\n",
    "\n",
    "• If the number is either 7, 8, or 9, the month is in the third quarter.\n",
    "\n",
    "• If the month is between 10 and 12, the month is in the fourth quarter.\n",
    "\n",
    "• If the number is not between 1 and 12, the program should display an error."
   ]
  },
  {
   "cell_type": "code",
   "execution_count": null,
   "metadata": {},
   "outputs": [],
   "source": [
    "# SOLUTION\n",
    "\n"
   ]
  },
  {
   "cell_type": "markdown",
   "metadata": {},
   "source": [
    "**Exercise 4** Mass and Weight\n",
    "\n",
    "Scientists measure an object’s mass in kilograms and its weight in newtons. If you know the amount of mass of an object in kilograms, you can calculate its weight in newtons with the following formula:\n",
    "\n",
    "                         weight = mass × 9.8\n",
    "                         \n",
    "Write a program that asks the user to enter an object’s mass, and then calculates its weight. If the object weighs more than 500 newtons, display a message indicating that it is too heavy. If the object weighs less than 100 newtons, display a message indicating that it is too light."
   ]
  },
  {
   "cell_type": "code",
   "execution_count": null,
   "metadata": {},
   "outputs": [],
   "source": [
    "# SOLUTION\n",
    "\n"
   ]
  },
  {
   "cell_type": "markdown",
   "metadata": {},
   "source": [
    "**Exercise 5** Software Sales\n",
    "\n",
    "A software company sells a package that retails for $99. Quantity discounts are given according to the following table:\n",
    "\n",
    "                 Quantity              Discount\n",
    "                  10 – 19                    10% \n",
    "                  20 – 49                    20% \n",
    "                  50 – 99                    30% \n",
    "               100 or more                   40%\n",
    "               \n",
    "Write a program that asks the user to enter the number of packages purchased. The program should then display the amount of the discount (if any) and the total amount of the purchase after the discount."
   ]
  },
  {
   "cell_type": "code",
   "execution_count": null,
   "metadata": {},
   "outputs": [],
   "source": [
    "# SOLUTION\n"
   ]
  },
  {
   "cell_type": "markdown",
   "metadata": {},
   "source": [
    "## 5.2 `if-elif-else` vs. `if-if`"
   ]
  },
  {
   "cell_type": "markdown",
   "metadata": {},
   "source": [
    "**Example**"
   ]
  },
  {
   "cell_type": "code",
   "execution_count": null,
   "metadata": {},
   "outputs": [],
   "source": [
    "grade1 = 70\n",
    "grade2 = 80\n",
    "\n",
    "if grade1 >= 50:\n",
    "    print('You passed a course with grade: ', grade1)\n",
    "elif grade2 >= 50:\n",
    "    print('You passed a course with grade: ', grade2)"
   ]
  },
  {
   "cell_type": "code",
   "execution_count": null,
   "metadata": {},
   "outputs": [],
   "source": [
    "grade1 = 70\n",
    "grade2 = 80\n",
    "\n",
    "if grade1 >= 50:\n",
    "    print('You passed a course with grade: ', grade1)\n",
    "if grade2 >= 50:\n",
    "    print('You passed a course with grade: ', grade2)"
   ]
  },
  {
   "cell_type": "markdown",
   "metadata": {},
   "source": [
    "## 5.3 Nested `if`"
   ]
  },
  {
   "cell_type": "markdown",
   "metadata": {},
   "source": [
    "**Example**"
   ]
  },
  {
   "cell_type": "code",
   "execution_count": null,
   "metadata": {},
   "outputs": [],
   "source": [
    "min_salary = 30000.0   # The minimum anual salary\n",
    "min_years = 2          # The minimum years on the job\n",
    "\n",
    "# Get the customer's annual salary.\n",
    "salary = float(input('Enter your annual salary: '))\n",
    "\n",
    "# Get the number of years on the current job.\n",
    "years_on_job = int(input('Enter the number of years employed: '))\n",
    "\n",
    "# Determine whether the customer qualifies.\n",
    "if salary >= min_salary:\n",
    "    if years_on_job >= min_years:\n",
    "        print('You qualify for the loan.')\n",
    "    else:\n",
    "        print('You must have been employed for at least {} years to qualify.'.format(min_years))\n",
    "else:\n",
    "    print('You must earn at least ${:.2f} per year to qualify.'.format(min_salary))"
   ]
  }
 ],
 "metadata": {
  "kernelspec": {
   "display_name": "Python 3",
   "language": "python",
   "name": "python3"
  },
  "language_info": {
   "codemirror_mode": {
    "name": "ipython",
    "version": 3
   },
   "file_extension": ".py",
   "mimetype": "text/x-python",
   "name": "python",
   "nbconvert_exporter": "python",
   "pygments_lexer": "ipython3",
   "version": "3.7.3"
  }
 },
 "nbformat": 4,
 "nbformat_minor": 2
}
