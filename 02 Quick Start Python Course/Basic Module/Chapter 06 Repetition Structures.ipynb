{
 "cells": [
  {
   "cell_type": "markdown",
   "metadata": {},
   "source": [
    "# Chapter 06: Repetition Structures"
   ]
  },
  {
   "cell_type": "markdown",
   "metadata": {},
   "source": [
    "## 6.1 The Augmented Assignment Operators\n",
    "\n",
    "|`Operator`|`Example Usage`|`Equivalent To`|\n",
    "|----------|---------------|---------------|\n",
    "|+=|a += 3|a = a + 3|\n",
    "|-=|b -= 1|b = b - 1|\n",
    "|*=|c *= 5|c = c * 5|\n",
    "|/=|d /= 2| d = d / 2|\n",
    "|%=| e %= 4| e = e % 4|"
   ]
  },
  {
   "cell_type": "markdown",
   "metadata": {},
   "source": [
    "**Example**"
   ]
  },
  {
   "cell_type": "code",
   "execution_count": null,
   "metadata": {},
   "outputs": [],
   "source": [
    "x=5\n",
    "x=x+1 \n",
    "print(x)"
   ]
  },
  {
   "cell_type": "code",
   "execution_count": null,
   "metadata": {},
   "outputs": [],
   "source": [
    "x=5\n",
    "x+=1\n",
    "print(x)"
   ]
  },
  {
   "cell_type": "code",
   "execution_count": null,
   "metadata": {},
   "outputs": [],
   "source": [
    "# Check wheather x is a member of...\n",
    "print(1 in [1,2,3,4])\n",
    "print(0 in [1,2,3,4])\n",
    "print('a' in 'aeiou')\n",
    "print('b' in 'aeiou')"
   ]
  },
  {
   "cell_type": "markdown",
   "metadata": {},
   "source": [
    "## 6.2 `While` Statement \n",
    "\n",
    "**Syntax of a `while` loop:**\n",
    "\n",
    "```python\n",
    "while expression:\n",
    "    statement(s)\n",
    "```"
   ]
  },
  {
   "cell_type": "markdown",
   "metadata": {},
   "source": [
    "**Example**"
   ]
  },
  {
   "cell_type": "code",
   "execution_count": null,
   "metadata": {},
   "outputs": [],
   "source": [
    "n = 10\n",
    "while n >=0:\n",
    "    print(n)\n",
    "    n -= 1\n",
    "print('BOOM!')"
   ]
  },
  {
   "cell_type": "markdown",
   "metadata": {},
   "source": [
    "### **Infinite loops and `break`**\n",
    "\n",
    "```python\n",
    "while True:\n",
    "    print('write forever, unless there is a \"break\"')\n",
    "```"
   ]
  },
  {
   "cell_type": "markdown",
   "metadata": {},
   "source": [
    "**Example**"
   ]
  },
  {
   "cell_type": "code",
   "execution_count": null,
   "metadata": {},
   "outputs": [],
   "source": [
    "while True:\n",
    "    name = input('Enter name or \"done\" to exit: ')\n",
    "    if name == 'done':\n",
    "        break\n",
    "    print(name)\n",
    "print('DONE!')"
   ]
  },
  {
   "cell_type": "code",
   "execution_count": null,
   "metadata": {},
   "outputs": [],
   "source": [
    "while True:\n",
    "    num = int(input('Enter number: '))\n",
    "    if num % 7 == 0:\n",
    "        break\n",
    "    print(num)\n",
    "print('DONE!')"
   ]
  },
  {
   "cell_type": "code",
   "execution_count": null,
   "metadata": {},
   "outputs": [],
   "source": [
    "import random\n",
    "number_guess = 0\n",
    "secret_number = random.randint(1,6)\n",
    "# print(secret_number)\n",
    "while True:\n",
    "    number_guess = int(input(\"guess the number 1 to 5: \"))\n",
    "    if number_guess == secret_number:\n",
    "        print(\"Yes\", number_guess,\"is correct!\\n\")\n",
    "        break\n",
    "    else:\n",
    "        print(number_guess,\"is incorrect\\n\")"
   ]
  },
  {
   "cell_type": "markdown",
   "metadata": {},
   "source": [
    "#### 6.3 **`for` statement**\n",
    "\n",
    "**Syntax of a `for` statement:**\n",
    "\n",
    "```python\n",
    "for element in collection:\n",
    "    statement(s)\n",
    "```"
   ]
  },
  {
   "cell_type": "markdown",
   "metadata": {},
   "source": [
    "**Example** Loop over a list:"
   ]
  },
  {
   "cell_type": "code",
   "execution_count": null,
   "metadata": {},
   "outputs": [],
   "source": [
    "for i in [1, 2, 3]:\n",
    "    print(i)"
   ]
  },
  {
   "cell_type": "code",
   "execution_count": null,
   "metadata": {},
   "outputs": [],
   "source": [
    "sum_result = 0\n",
    "\n",
    "for element in [1,2,3]:\n",
    "    sum_result = sum_result + element\n",
    "    \n",
    "print(sum_result)"
   ]
  },
  {
   "cell_type": "code",
   "execution_count": null,
   "metadata": {},
   "outputs": [],
   "source": [
    "sum_result = 0\n",
    "\n",
    "for element in [6,7,8]:\n",
    "    sum_result = sum_result + element\n",
    "    \n",
    "print(sum_result)"
   ]
  },
  {
   "cell_type": "code",
   "execution_count": null,
   "metadata": {},
   "outputs": [],
   "source": [
    "sum_result = 1\n",
    "\n",
    "for element in [1,2,3]:\n",
    "    sum_result = sum_result * element\n",
    "    \n",
    "print(sum_result)"
   ]
  },
  {
   "cell_type": "code",
   "execution_count": null,
   "metadata": {},
   "outputs": [],
   "source": [
    "colour_list = ['Red', 'Green', 'Blue']\n",
    "\n",
    "for colour in colour_list:\n",
    "    print('The colour is:', colour)\n",
    "\n",
    "print('Done!')"
   ]
  },
  {
   "cell_type": "markdown",
   "metadata": {},
   "source": [
    "**Example** Loop over a string:"
   ]
  },
  {
   "cell_type": "code",
   "execution_count": null,
   "metadata": {
    "scrolled": true
   },
   "outputs": [],
   "source": [
    "for char in 'Happy Friday!':\n",
    "    print(char)"
   ]
  },
  {
   "cell_type": "code",
   "execution_count": null,
   "metadata": {},
   "outputs": [],
   "source": [
    "words = 'Happy Friday!'\n",
    "vowels = ''\n",
    "num_vowels = 0\n",
    "\n",
    "for char in words.lower():\n",
    "    if char in 'aeiou':\n",
    "        vowels += char\n",
    "        num_vowels += 1\n",
    "print(vowels, num_vowels)\n",
    "print(\"'Happy Friday!' has\", num_vowels, 'vowels which are', vowels)"
   ]
  },
  {
   "cell_type": "code",
   "execution_count": null,
   "metadata": {},
   "outputs": [],
   "source": [
    "squares = []\n",
    "for n in range(1,11):\n",
    "    squares.append(n * n)\n",
    "    \n",
    "print(squares)"
   ]
  },
  {
   "cell_type": "markdown",
   "metadata": {},
   "source": [
    "**Exercise 1** Star Flag\n",
    "\n",
    "Write a progrm to print out the expected result below:\n",
    "\n",
    "\\*\n",
    "\n",
    "\\**\n",
    "\n",
    "\\***\n",
    "\n",
    "\\****\n",
    "\n",
    "\\*****\n"
   ]
  },
  {
   "cell_type": "code",
   "execution_count": null,
   "metadata": {},
   "outputs": [],
   "source": [
    "# SOLUTION\n",
    "\n"
   ]
  },
  {
   "cell_type": "markdown",
   "metadata": {},
   "source": [
    "**Exercise 2** Vowels and Consonants\n",
    "\n",
    "Write a program that asks the user to enter a string and displays the number of vowels and the number of consonants that the string contains."
   ]
  },
  {
   "cell_type": "code",
   "execution_count": null,
   "metadata": {},
   "outputs": [],
   "source": [
    "# SOLUTION\n",
    "\n"
   ]
  },
  {
   "cell_type": "markdown",
   "metadata": {},
   "source": [
    "**Exercise 3** Character Analysis\n",
    "\n",
    "Write a program that asks the user to enter a sentence and determines the following: the number of uppercase letters, the number of lowpercase letters, the number of digits, and the number of whitespace characters"
   ]
  },
  {
   "cell_type": "code",
   "execution_count": null,
   "metadata": {},
   "outputs": [],
   "source": [
    "# SOLUTION\n",
    "\n"
   ]
  },
  {
   "cell_type": "markdown",
   "metadata": {},
   "source": [
    "**Exercise 4** Sum of Digits in a String\n",
    "\n",
    "Write a program that asks the user to enter a series of single-digit numbers with nothing separating them. The program should display the sum of all the single digit numbers in the string. For example, if the user enters 2514, the program should display 12, which is the sum of 2, 5, 1, and 4."
   ]
  },
  {
   "cell_type": "code",
   "execution_count": null,
   "metadata": {},
   "outputs": [],
   "source": [
    "# SOLUTION\n",
    "\n"
   ]
  },
  {
   "cell_type": "markdown",
   "metadata": {},
   "source": [
    "### **Built-in Class `range`**\n",
    "\n",
    "`range` takes up to 3 arguments:\n",
    "- the beginning of the range. Assumed to be 0 if not provided\n",
    "- the end of the range, but not inclusive (up to but not including the number). Required\n",
    "- the step of the range or separation between each value. Assumed to be 1 if not provided"
   ]
  },
  {
   "cell_type": "markdown",
   "metadata": {},
   "source": [
    "**Example**"
   ]
  },
  {
   "cell_type": "code",
   "execution_count": null,
   "metadata": {},
   "outputs": [],
   "source": [
    "for i in range(3):\n",
    "    print(i, end = ' ')"
   ]
  },
  {
   "cell_type": "code",
   "execution_count": null,
   "metadata": {},
   "outputs": [],
   "source": [
    "for i in range (1,5):\n",
    "    print(i, end=' ')"
   ]
  },
  {
   "cell_type": "code",
   "execution_count": null,
   "metadata": {},
   "outputs": [],
   "source": [
    "for i in range (1,10,2):\n",
    "    print(i, end=' ')"
   ]
  },
  {
   "cell_type": "code",
   "execution_count": null,
   "metadata": {},
   "outputs": [],
   "source": [
    "range(1,10)"
   ]
  },
  {
   "cell_type": "code",
   "execution_count": null,
   "metadata": {},
   "outputs": [],
   "source": [
    "a = range(1,10)\n",
    "type(a)"
   ]
  },
  {
   "cell_type": "code",
   "execution_count": null,
   "metadata": {},
   "outputs": [],
   "source": [
    "len(a)"
   ]
  },
  {
   "cell_type": "markdown",
   "metadata": {},
   "source": [
    "**Exercise 5** Calories Burned\n",
    "\n",
    "Running on a particular treadmill you burn 4.2 calories per minute. Write a program that uses a loop to display the number of calories burned after 10, 15, 20, 25, and 30 minutes."
   ]
  },
  {
   "cell_type": "code",
   "execution_count": null,
   "metadata": {},
   "outputs": [],
   "source": [
    "# SOLUTION\n",
    "\n"
   ]
  },
  {
   "cell_type": "markdown",
   "metadata": {},
   "source": [
    "**Exercise 6** Number Analysis Program\n",
    "\n",
    "Write a program that asks the user to enter a series of 20 numbers. The program should store the numbers in a list and then display the following data:\n",
    "\n",
    "• The lowest number in the list\n",
    "\n",
    "• The highest number in the list\n",
    "\n",
    "• The total of the numbers in the list\n",
    "\n",
    "• The average of the numbers in the list"
   ]
  },
  {
   "cell_type": "code",
   "execution_count": null,
   "metadata": {},
   "outputs": [],
   "source": [
    "# SOLUTION\n",
    "\n"
   ]
  },
  {
   "cell_type": "markdown",
   "metadata": {},
   "source": [
    "**Exercise 7** Rainfall Statistics\n",
    "\n",
    "Write a program that lets the user enter the total rainfall for each of 12 months into a list. The program should calculate and display the total rainfall for the year, the average monthly rainfall, and the months with the highest and lowest amounts."
   ]
  },
  {
   "cell_type": "code",
   "execution_count": null,
   "metadata": {},
   "outputs": [],
   "source": [
    "# SOLUTION\n",
    "\n"
   ]
  },
  {
   "cell_type": "markdown",
   "metadata": {},
   "source": [
    "**Exercise 8**  Tuition Increase\n",
    "\n",
    "At one college, the tuition for a full-time student is $8,000 per semester. It has been announced that the tuition will increase by 3 percent each year for the next 5 years. Write a program with a loop that displays the projected semester tuition amount for the next 5 years."
   ]
  },
  {
   "cell_type": "code",
   "execution_count": null,
   "metadata": {},
   "outputs": [],
   "source": [
    "# SOLUTION\n",
    "\n"
   ]
  },
  {
   "cell_type": "markdown",
   "metadata": {},
   "source": [
    "**Exercise 9** Average Rainfall\n",
    "\n",
    "Write a program that uses nested loops to collect data and calculate the average rainfall over a period of years. The program should first ask for the number of years. The outer loop will iterate once for each year. The inner loop will iterate twelve times, once for each month. Each iteration of the inner loop will ask the user for the inches of rainfall for that month. After all iterations, the program should display the number of months, the total inches of rainfall, and the average rainfall per month for the entire period."
   ]
  },
  {
   "cell_type": "code",
   "execution_count": null,
   "metadata": {},
   "outputs": [],
   "source": [
    "# SOLUTION\n",
    "\n"
   ]
  }
 ],
 "metadata": {
  "kernelspec": {
   "display_name": "Python 3",
   "language": "python",
   "name": "python3"
  },
  "language_info": {
   "codemirror_mode": {
    "name": "ipython",
    "version": 3
   },
   "file_extension": ".py",
   "mimetype": "text/x-python",
   "name": "python",
   "nbconvert_exporter": "python",
   "pygments_lexer": "ipython3",
   "version": "3.7.3"
  }
 },
 "nbformat": 4,
 "nbformat_minor": 2
}
