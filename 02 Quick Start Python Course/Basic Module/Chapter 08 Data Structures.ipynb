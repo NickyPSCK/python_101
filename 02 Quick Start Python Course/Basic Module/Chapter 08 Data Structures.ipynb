{
 "cells": [
  {
   "cell_type": "markdown",
   "metadata": {},
   "source": [
    "# Chapter 08: Data Structures"
   ]
  },
  {
   "cell_type": "markdown",
   "metadata": {},
   "source": [
    "## 8.1 String"
   ]
  },
  {
   "cell_type": "markdown",
   "metadata": {},
   "source": [
    "### 8.1.1 Accessing String Characters with Index\n",
    "\n",
    "|  H  |  a  |  p  |  p  |  y |    |  F |  r |  i |  d |  a |  y |  ! |\n",
    "|:---:|:---:|:---:|:---:|:--:|:--:|:--:|:--:|:--:|:--:|:--:|:--:|:--:|\n",
    "|  0  |  1  |  2  |  3  |  4 |  5 |  6 |  7 |  8 |  9 | 10 | 11 | 12 |\n",
    "| -13 | -12 | -11 | -10 | -9 | -8 | -7 | -6 | -5 | -4 | -3 | -2 | -1 |\n",
    "\n",
    "> An `IndexError` exception will occur if you try to use an index that is out of range for a particular string."
   ]
  },
  {
   "cell_type": "markdown",
   "metadata": {},
   "source": [
    "**Example**"
   ]
  },
  {
   "cell_type": "code",
   "execution_count": null,
   "metadata": {},
   "outputs": [],
   "source": [
    "words = 'Happy Friday!'\n",
    "\n",
    "print(words[0])\n",
    "print(words[3])\n",
    "print(words[5])\n",
    "print(words[-1])\n",
    "print(words[-3])"
   ]
  },
  {
   "cell_type": "markdown",
   "metadata": {},
   "source": [
    "### 8.1.2 Accessing Substrings with Index Slicing\n",
    "Uses the syntax `[start : finish]`, where:\n",
    "- `start` is the index of where we start the subsequence.\n",
    "- `finish` is the index of one after where we end the subsequence. "
   ]
  },
  {
   "cell_type": "markdown",
   "metadata": {},
   "source": [
    "**Example**"
   ]
  },
  {
   "cell_type": "code",
   "execution_count": null,
   "metadata": {},
   "outputs": [],
   "source": [
    "words = 'Happy Friday!'\n",
    "print(words[0:5])\n",
    "print(words[:5])\n",
    "print(words[6:])\n",
    "print(words[4:-3])"
   ]
  },
  {
   "cell_type": "code",
   "execution_count": null,
   "metadata": {},
   "outputs": [],
   "source": [
    "name = input('Enter your friend\\'s name: ')\n",
    "print('Your friend\\'s name starts with', name[0])"
   ]
  },
  {
   "cell_type": "markdown",
   "metadata": {},
   "source": [
    "### 8.1.3 Extended Slicing"
   ]
  },
  {
   "cell_type": "markdown",
   "metadata": {},
   "source": [
    "**Example**"
   ]
  },
  {
   "cell_type": "code",
   "execution_count": null,
   "metadata": {},
   "outputs": [],
   "source": [
    "words = 'Happy Friday!'\n",
    "\n",
    "print(words[::2])\n",
    "print(words[1:11:3])"
   ]
  },
  {
   "cell_type": "markdown",
   "metadata": {},
   "source": [
    "### 8.1.4 More String Methods\n",
    "**1. Counting and Searching**\n",
    "- The <code>.count(<em style=\"color:blue\">string</em>)</code> method returns the number of times a character or substring occurs.  \n",
    "\n",
    "- The <code>.find(<em style=\"color:blue\">string</em>)</code> method returns the index of first character or substring that matches. It returns **-1** if no match found. \n",
    "\n",
    "- The <code>.find(<em style=\"color:blue\">string</em>,<em style=\"color:blue\">start_index</em>,<em style=\"color:blue\">end_index</em>)</code> method works in the same way as the `.find()` method but searches from optional <code><em style=\"color:blue\">start_index</em></code> and to optional <code><em style=\"color:blue\">end_index</em></code>.\n",
    "\n",
    "**2. Strings to Lists**\n",
    "\n",
    "- The <code>.split()</code> method splits a string at white spaces to create a list.\n",
    "\n",
    "- The <code>.split(<em style=\"color:blue\">sep</em>)</code> method works in the same way as the `.split()` method but uses <code><em style=\"color:blue\">sep</em></code> as break points instead.\n",
    "\n",
    "**3. Lists to Strings**\n",
    "\n",
    "The <code>.join()</code> method builds a string from a list."
   ]
  },
  {
   "cell_type": "markdown",
   "metadata": {},
   "source": [
    "**Example**"
   ]
  },
  {
   "cell_type": "code",
   "execution_count": null,
   "metadata": {},
   "outputs": [],
   "source": [
    "# .find()\n",
    "\n",
    "sentence = 'This is a dessert.'\n",
    "print(sentence.find('s'))\n",
    "print(sentence.find('s',4))\n",
    "print(sentence.find('s',sentence.find('s')+1))"
   ]
  },
  {
   "cell_type": "code",
   "execution_count": null,
   "metadata": {},
   "outputs": [],
   "source": [
    "# .split()\n",
    "\n",
    "sentence = 'This is a dessert.'\n",
    "words = sentence.split()\n",
    "print(words)"
   ]
  },
  {
   "cell_type": "code",
   "execution_count": null,
   "metadata": {},
   "outputs": [],
   "source": [
    "# .split(dep)\n",
    "\n",
    "sentence = 'This is a dessert.'\n",
    "words = sentence.split('s')\n",
    "print(words)"
   ]
  },
  {
   "cell_type": "code",
   "execution_count": null,
   "metadata": {},
   "outputs": [],
   "source": [
    "# .split(sep)\n",
    "\n",
    "code = 'aa-bb-cc-dd-zz'\n",
    "code_split = code.split('-')\n",
    "print(code_split)"
   ]
  },
  {
   "cell_type": "code",
   "execution_count": null,
   "metadata": {},
   "outputs": [],
   "source": [
    "# .join()\n",
    "\n",
    "words = ['This', 'is', 'a', 'dessert.']\n",
    "sentence = ' '.join(words)\n",
    "print(sentence)"
   ]
  },
  {
   "cell_type": "markdown",
   "metadata": {},
   "source": [
    "## 8.2: Lists\n",
    "\n",
    "- **List Creation and Iteration** \n",
    "- **Indexing and Slicing**  \n",
    "- **List of Lists**  \n",
    "- **List Mutability**  \n",
    "- **The `+` and `*` Operator**\n",
    "- **List Methods** \n",
    "- **List Comprehensions**    "
   ]
  },
  {
   "cell_type": "markdown",
   "metadata": {},
   "source": [
    "### 8.2.1 List Creation and Iteration\n",
    "\n",
    "A `list` type is a Python's built-in collection type.\n",
    "A simple lists contains comma separated objects enclosed in square brackets.  \n",
    "\n",
    "```python\n",
    "empty_list = []\n",
    "sample_list = [1, 2, 3, 4, 5]\n",
    "```\n",
    "\n",
    "List object types are not restricted so a mix of object types can be in single list.\n",
    "```python\n",
    "mixed_list = [1, 2.0, 'Hello', True]\n",
    "```"
   ]
  },
  {
   "cell_type": "markdown",
   "metadata": {},
   "source": [
    "**Example**"
   ]
  },
  {
   "cell_type": "code",
   "execution_count": null,
   "metadata": {},
   "outputs": [],
   "source": [
    "sample_list = [1, 2, 3, 4, 5]\n",
    "mixed_list = [1, 2.0, 'Hello', True]\n",
    "\n",
    "print('sample_list', type(sample_list), sample_list)\n",
    "print('mixed_list', type(mixed_list), mixed_list)"
   ]
  },
  {
   "cell_type": "code",
   "execution_count": null,
   "metadata": {},
   "outputs": [],
   "source": [
    "customer_list = ['Somsri', 'Somchai','Somying','Somkit', 'Somsak', 'Somjai']\n",
    "for customer in customer_list:\n",
    "    print(customer)"
   ]
  },
  {
   "cell_type": "markdown",
   "metadata": {},
   "source": [
    "**Some Useful Function:**\n",
    "- `len()`  `min()`  `max()`  `sum()`"
   ]
  },
  {
   "cell_type": "markdown",
   "metadata": {},
   "source": [
    "**Example**"
   ]
  },
  {
   "cell_type": "code",
   "execution_count": null,
   "metadata": {},
   "outputs": [],
   "source": [
    "my_list = [1,2,3,4,5,6,7,8,9,10]\n",
    "\n",
    "print('len:', len(my_list))\n",
    "print('min:', min(my_list))\n",
    "print('max:', max(my_list))\n",
    "print('sum:', sum(my_list))"
   ]
  },
  {
   "cell_type": "markdown",
   "metadata": {},
   "source": [
    "### 8.2.2 Indexing and Slicing"
   ]
  },
  {
   "cell_type": "markdown",
   "metadata": {},
   "source": [
    "**Example**"
   ]
  },
  {
   "cell_type": "code",
   "execution_count": null,
   "metadata": {},
   "outputs": [],
   "source": [
    "my_list = [1, 2.0, 'Hello', True]\n",
    "my_list[1]"
   ]
  },
  {
   "cell_type": "code",
   "execution_count": null,
   "metadata": {
    "scrolled": true
   },
   "outputs": [],
   "source": [
    "my_list[:2]"
   ]
  },
  {
   "cell_type": "code",
   "execution_count": null,
   "metadata": {
    "scrolled": true
   },
   "outputs": [],
   "source": [
    "my_list[::2]"
   ]
  },
  {
   "cell_type": "markdown",
   "metadata": {},
   "source": [
    "### 8.2.3 List of Lists"
   ]
  },
  {
   "cell_type": "markdown",
   "metadata": {},
   "source": [
    "**Example**"
   ]
  },
  {
   "cell_type": "code",
   "execution_count": null,
   "metadata": {},
   "outputs": [],
   "source": [
    "data = [\n",
    "    ['id','name', 'color', 'country'],\n",
    "    [11001,'Somsak', 'Black', 'Thailand'],\n",
    "    [12004, 'Satoko', 'Pink', 'Japan'],\n",
    "    [13010, 'Angelina', 'Blue', 'Brazil']\n",
    "]\n",
    "\n",
    "row = data[1]\n",
    "print(row)"
   ]
  },
  {
   "cell_type": "code",
   "execution_count": null,
   "metadata": {},
   "outputs": [],
   "source": [
    "column = row[2]\n",
    "print(column)"
   ]
  },
  {
   "cell_type": "code",
   "execution_count": null,
   "metadata": {},
   "outputs": [],
   "source": [
    "print(data[1][2])"
   ]
  },
  {
   "cell_type": "markdown",
   "metadata": {},
   "source": [
    "### 8.2.4 List Mutability"
   ]
  },
  {
   "cell_type": "markdown",
   "metadata": {},
   "source": [
    "**Example**"
   ]
  },
  {
   "cell_type": "code",
   "execution_count": null,
   "metadata": {},
   "outputs": [],
   "source": [
    "name = ['Somsak', 'Satoko', 'Angelina']\n",
    "print('name list:', name)\n",
    "\n",
    "name[0] = 'Somchai'\n",
    "print('new name list:', name)"
   ]
  },
  {
   "cell_type": "markdown",
   "metadata": {},
   "source": [
    "### 8.2.5 The `+` and `*` Operator"
   ]
  },
  {
   "cell_type": "markdown",
   "metadata": {},
   "source": [
    "**Example**"
   ]
  },
  {
   "cell_type": "code",
   "execution_count": null,
   "metadata": {},
   "outputs": [],
   "source": [
    "num1 = [1,4,6,3]\n",
    "num2 = [5,3,8]\n",
    "num3 = num1 + num2\n",
    "print('list1:', num1)\n",
    "print('list2:', num2)\n",
    "print('list1 + list2:', num3)"
   ]
  },
  {
   "cell_type": "code",
   "execution_count": null,
   "metadata": {},
   "outputs": [],
   "source": [
    "my_list = [7,8,9]\n",
    "my_list *= 2\n",
    "print(my_list)"
   ]
  },
  {
   "cell_type": "markdown",
   "metadata": {},
   "source": [
    "### 8.2.6 List Methods\n",
    "\n",
    "**1. List Append: `.append(item)`**"
   ]
  },
  {
   "cell_type": "markdown",
   "metadata": {},
   "source": [
    "**Example**"
   ]
  },
  {
   "cell_type": "code",
   "execution_count": null,
   "metadata": {},
   "outputs": [],
   "source": [
    "my_list = [1,2,3,4]\n",
    "my_list.append(5)\n",
    "my_list.append(6)\n",
    "my_list.append('one')\n",
    "print(my_list)"
   ]
  },
  {
   "cell_type": "markdown",
   "metadata": {},
   "source": [
    "**2. List Insert: `.insert(index,item)`**"
   ]
  },
  {
   "cell_type": "markdown",
   "metadata": {},
   "source": [
    "**Example**"
   ]
  },
  {
   "cell_type": "code",
   "execution_count": null,
   "metadata": {},
   "outputs": [],
   "source": [
    "name = ['Somsak', 'Satoko', 'Angelina']\n",
    "name.insert(0,'Somchai')\n",
    "print(name)"
   ]
  },
  {
   "cell_type": "markdown",
   "metadata": {},
   "source": [
    "**3. List Delete: `del`, `.pop()`, `.pop(index)`, `.remove(item)`**"
   ]
  },
  {
   "cell_type": "markdown",
   "metadata": {},
   "source": [
    "**Example**"
   ]
  },
  {
   "cell_type": "code",
   "execution_count": null,
   "metadata": {},
   "outputs": [],
   "source": [
    "my_list = [1,2,3,4,5,6,7,8,9,10]\n",
    "\n",
    "del my_list[2]\n",
    "print(my_list)"
   ]
  },
  {
   "cell_type": "code",
   "execution_count": null,
   "metadata": {},
   "outputs": [],
   "source": [
    "my_list = [1,2,3,4,5,6,7,8,9,10]\n",
    "print(my_list.pop())\n",
    "print(my_list)"
   ]
  },
  {
   "cell_type": "code",
   "execution_count": null,
   "metadata": {},
   "outputs": [],
   "source": [
    "my_list.pop(2)"
   ]
  },
  {
   "cell_type": "code",
   "execution_count": null,
   "metadata": {},
   "outputs": [],
   "source": [
    "print(my_list)"
   ]
  },
  {
   "cell_type": "code",
   "execution_count": null,
   "metadata": {},
   "outputs": [],
   "source": [
    "name_list = ['Somchai', 'Somsak', 'Satoko', 'Angelina']\n",
    "\n",
    "name_list.remove('Somchai')\n",
    "print(name_list)"
   ]
  },
  {
   "cell_type": "code",
   "execution_count": null,
   "metadata": {},
   "outputs": [],
   "source": [
    "name_list = ['Somchai', 'Somsak', 'Satoko', 'Angelina']\n",
    "\n",
    "if 'Somsak' in name_list:\n",
    "    name_list.remove('Somsak')\n",
    "else:\n",
    "    print(\"No 'Somsak' in the list\")\n",
    "\n",
    "print(name_list)"
   ]
  },
  {
   "cell_type": "markdown",
   "metadata": {},
   "source": [
    "**4. List Search: `.index(item)`**"
   ]
  },
  {
   "cell_type": "markdown",
   "metadata": {},
   "source": [
    "**Example**"
   ]
  },
  {
   "cell_type": "code",
   "execution_count": null,
   "metadata": {},
   "outputs": [],
   "source": [
    "customer_list = ['Somsri', 'Somchai','Somying','Somkit', 'Somsak', 'Somjai']\n",
    "search = input('Enter customer name: ')\n",
    "\n",
    "index = customer_list.index(search)\n",
    "print(search, 'is at index', index, 'in the list')"
   ]
  },
  {
   "cell_type": "markdown",
   "metadata": {},
   "source": [
    "**5. List Combine: `.extend()`**"
   ]
  },
  {
   "cell_type": "markdown",
   "metadata": {},
   "source": [
    "**Example**"
   ]
  },
  {
   "cell_type": "code",
   "execution_count": null,
   "metadata": {},
   "outputs": [],
   "source": [
    "customer_list = ['Somsri', 'Somchai','Somying','Somkit', 'Somsak', 'Somjai']\n",
    "new_customer = ['Somporn','Kwanjai']\n",
    "\n",
    "all_customer = customer_list + new_customer\n",
    "print(all_customer)\n",
    "\n",
    "customer_list.extend(new_customer)\n",
    "print(customer_list)"
   ]
  },
  {
   "cell_type": "markdown",
   "metadata": {},
   "source": [
    "**6. List Reverse: `reverse()`**"
   ]
  },
  {
   "cell_type": "markdown",
   "metadata": {},
   "source": [
    "**Example**"
   ]
  },
  {
   "cell_type": "code",
   "execution_count": null,
   "metadata": {},
   "outputs": [],
   "source": [
    "customer_list = ['Somsri', 'Somchai','Somying','Somkit', 'Somsak', 'Somjai']\n",
    "\n",
    "print(customer_list)\n",
    "customer_list.reverse()\n",
    "print(customer_list)"
   ]
  },
  {
   "cell_type": "markdown",
   "metadata": {},
   "source": [
    "**7. List Sort: `.sort()`, `sorted()`**"
   ]
  },
  {
   "cell_type": "markdown",
   "metadata": {},
   "source": [
    "**Example**"
   ]
  },
  {
   "cell_type": "code",
   "execution_count": null,
   "metadata": {},
   "outputs": [],
   "source": [
    "# .sort()\n",
    "my_list = [1,4,6,3,0,9,2]\n",
    "my_list.sort()\n",
    "print(my_list)"
   ]
  },
  {
   "cell_type": "code",
   "execution_count": null,
   "metadata": {
    "scrolled": true
   },
   "outputs": [],
   "source": [
    "# sorted()\n",
    "my_list = [1,4,6,3,0,9,2]\n",
    "my_list = sorted(my_list)\n",
    "print(my_list)"
   ]
  },
  {
   "cell_type": "markdown",
   "metadata": {},
   "source": [
    "**8.Copy List**"
   ]
  },
  {
   "cell_type": "markdown",
   "metadata": {},
   "source": [
    "**Example**"
   ]
  },
  {
   "cell_type": "code",
   "execution_count": null,
   "metadata": {},
   "outputs": [],
   "source": [
    "# Copy problem\n",
    "list_a = [1,2,3,4,5]\n",
    "list_b = list_a\n",
    "\n",
    "list_a[1] = 4\n",
    "\n",
    "print(list_a)\n",
    "print(list_b)"
   ]
  },
  {
   "cell_type": "code",
   "execution_count": null,
   "metadata": {},
   "outputs": [],
   "source": [
    "# Why?\n",
    "print(id(list_a))\n",
    "print(id(list_b))"
   ]
  },
  {
   "cell_type": "code",
   "execution_count": null,
   "metadata": {},
   "outputs": [],
   "source": [
    "# Solution 1\n",
    "list_a = [1,2,3,4,5]\n",
    "list_b = list(list_a)\n",
    "\n",
    "list_a[1] = 4\n",
    "\n",
    "print(list_a)\n",
    "print(list_b)"
   ]
  },
  {
   "cell_type": "code",
   "execution_count": null,
   "metadata": {},
   "outputs": [],
   "source": [
    "# Solution 2\n",
    "list_a = [1,2,3,4,5]\n",
    "list_b = list_a[:]\n",
    "\n",
    "list_a[1] = 4\n",
    "\n",
    "print(list_a)\n",
    "print(list_b)"
   ]
  },
  {
   "cell_type": "code",
   "execution_count": null,
   "metadata": {},
   "outputs": [],
   "source": [
    "list_a = [1,2,3,4,[1,2,3]]\n",
    "list_b = list(list_a)\n",
    "\n",
    "list_a[4][0]=99\n",
    "\n",
    "print(list_a)\n",
    "print(list_b)"
   ]
  },
  {
   "cell_type": "markdown",
   "metadata": {},
   "source": [
    "**Exercise 1** Name Display\n",
    "\n",
    "Write a program that gets a string containing a person’s first and last names as separate values, and then displays their “initials”, “name in address book”, and “username”. For example, if the user enters a first name of “John” and a last name of “Smith”, the program should display “J.S.”, “John SMITH”, and “jsmith”."
   ]
  },
  {
   "cell_type": "code",
   "execution_count": null,
   "metadata": {},
   "outputs": [],
   "source": [
    "# SOLUTION\n"
   ]
  },
  {
   "cell_type": "markdown",
   "metadata": {},
   "source": [
    "## 8.3 Tuples"
   ]
  },
  {
   "cell_type": "markdown",
   "metadata": {},
   "source": [
    "### 8.3.1 Tuple Creation and Iteration"
   ]
  },
  {
   "cell_type": "markdown",
   "metadata": {},
   "source": [
    "A tuple is a sequence, very much like a list. \n",
    "The primary difference between tuples and lists is that tuples are <em style=\"color:blue\">immutable</em>. \n",
    "That means that once a tuple is created, it cannot be changed. \n",
    "> the parentheses can be omitted!"
   ]
  },
  {
   "cell_type": "code",
   "execution_count": null,
   "metadata": {},
   "outputs": [],
   "source": [
    "def fun_a(a,b):\n",
    "    return a,b"
   ]
  },
  {
   "cell_type": "code",
   "execution_count": null,
   "metadata": {},
   "outputs": [],
   "source": [
    "a,b = fun_a(1,5)\n",
    "print(a)\n",
    "print(b)"
   ]
  },
  {
   "cell_type": "markdown",
   "metadata": {},
   "source": [
    "**Example**"
   ]
  },
  {
   "cell_type": "code",
   "execution_count": null,
   "metadata": {
    "scrolled": true
   },
   "outputs": [],
   "source": [
    "num1 = (1,2,3,4)\n",
    "num2 = 1,2,3,4\n",
    "print('num1:',num1, type(num1))\n",
    "print('num2:',num2, type(num2))"
   ]
  },
  {
   "cell_type": "code",
   "execution_count": null,
   "metadata": {},
   "outputs": [],
   "source": [
    "(x,y) = 1,2\n",
    "print(x,y)"
   ]
  },
  {
   "cell_type": "code",
   "execution_count": null,
   "metadata": {},
   "outputs": [],
   "source": [
    "num1 = (1,2,3,4)\n",
    "for i in num1:\n",
    "    print(i)"
   ]
  },
  {
   "cell_type": "markdown",
   "metadata": {},
   "source": [
    "### 8.3.2 Tuples vs. Lists\n",
    "\n",
    "Tuples are <em style=\"color:blue\">immutable</em>. \n",
    "\n",
    "Tuples do not support methods such as `.append()`, `.extend()`, `.remove()`, `.pop()`, `.reverse()`, `.insert()`, and `.sort()`."
   ]
  },
  {
   "cell_type": "markdown",
   "metadata": {},
   "source": [
    "**Example**"
   ]
  },
  {
   "cell_type": "code",
   "execution_count": null,
   "metadata": {},
   "outputs": [],
   "source": [
    "my_tuple = (1, 2.0, 'Hello', True)\n",
    "my_tuple[1]"
   ]
  },
  {
   "cell_type": "code",
   "execution_count": null,
   "metadata": {
    "scrolled": true
   },
   "outputs": [],
   "source": [
    "my_tuple = (1, 2.0, 'Hello', True)\n",
    "my_tuple.index('Hello')"
   ]
  },
  {
   "cell_type": "code",
   "execution_count": null,
   "metadata": {
    "scrolled": true
   },
   "outputs": [],
   "source": [
    "numbers = (1,2,3,4,5)\n",
    "print('len:', len(numbers))\n",
    "print('min:', min(numbers))\n",
    "print('max:', max(numbers))"
   ]
  },
  {
   "cell_type": "code",
   "execution_count": null,
   "metadata": {},
   "outputs": [],
   "source": [
    "numbers = (1,2,3,4,5)\n",
    "1 in numbers"
   ]
  },
  {
   "cell_type": "code",
   "execution_count": null,
   "metadata": {},
   "outputs": [],
   "source": [
    "numbers1 = (1, 2, 3, 4, 5)\n",
    "numbers2 = (11, 12, 13, 14, 15)\n",
    "new_numbers = numbers1 + numbers2\n",
    "print(new_numbers)"
   ]
  },
  {
   "cell_type": "code",
   "execution_count": null,
   "metadata": {
    "scrolled": true
   },
   "outputs": [],
   "source": [
    "numbers = (1, 2, 3, 4, 5)\n",
    "new_numbers = numbers *2\n",
    "new_numbers"
   ]
  },
  {
   "cell_type": "code",
   "execution_count": null,
   "metadata": {
    "scrolled": true
   },
   "outputs": [],
   "source": [
    "# tuples are immutable\n",
    "numbers = (1, 2, 3, 4, 5)\n",
    "numbers[0] = 100"
   ]
  },
  {
   "cell_type": "markdown",
   "metadata": {},
   "source": [
    "### 8.3.3 Unpack"
   ]
  },
  {
   "cell_type": "markdown",
   "metadata": {},
   "source": [
    "**Example**"
   ]
  },
  {
   "cell_type": "code",
   "execution_count": null,
   "metadata": {
    "scrolled": true
   },
   "outputs": [],
   "source": [
    "data = (11001,'Somsak', 'Black', 'Thailand')\n",
    "id_no, name, color, country = data\n",
    "\n",
    "print(name, country)"
   ]
  },
  {
   "cell_type": "markdown",
   "metadata": {},
   "source": [
    "### `tuple()` and `list()`"
   ]
  },
  {
   "cell_type": "markdown",
   "metadata": {},
   "source": [
    "**1. Lists to Tuples**"
   ]
  },
  {
   "cell_type": "markdown",
   "metadata": {},
   "source": [
    "**Example**"
   ]
  },
  {
   "cell_type": "code",
   "execution_count": null,
   "metadata": {
    "scrolled": false
   },
   "outputs": [],
   "source": [
    "my_list = [1, 2, 3, 4, 5]\n",
    "my_tuple = tuple(my_list)\n",
    "print(my_tuple)"
   ]
  },
  {
   "cell_type": "code",
   "execution_count": null,
   "metadata": {},
   "outputs": [],
   "source": [
    "sorted_list = sorted(my_tuple)  # \"sorted\" creates new list\n",
    "print(sorted_list, type(sorted_list))"
   ]
  },
  {
   "cell_type": "code",
   "execution_count": null,
   "metadata": {},
   "outputs": [],
   "source": [
    "new_tuple = tuple(sorted_list)\n",
    "print(new_tuple, type(new_tuple))"
   ]
  },
  {
   "cell_type": "markdown",
   "metadata": {},
   "source": [
    "**2. Tuples to Lists**"
   ]
  },
  {
   "cell_type": "markdown",
   "metadata": {},
   "source": [
    "**Example**"
   ]
  },
  {
   "cell_type": "code",
   "execution_count": null,
   "metadata": {},
   "outputs": [],
   "source": [
    "my_tuple = (1, 2, 3, 4, 5)\n",
    "my_list = list(my_tuple)\n",
    "print(my_list)"
   ]
  },
  {
   "cell_type": "code",
   "execution_count": null,
   "metadata": {
    "scrolled": true
   },
   "outputs": [],
   "source": [
    "sorted_list = sorted(my_list)        # \"sorted\" creates new list\n",
    "print(sorted_list, type(sorted_list))"
   ]
  },
  {
   "cell_type": "code",
   "execution_count": null,
   "metadata": {
    "scrolled": true
   },
   "outputs": [],
   "source": [
    "print('Before Sort', my_list)\n",
    "my_list.sort()                       # sort my_list\n",
    "print('After Sort', my_list)"
   ]
  },
  {
   "cell_type": "markdown",
   "metadata": {},
   "source": [
    "# 8.4 Dictionary"
   ]
  },
  {
   "cell_type": "markdown",
   "metadata": {},
   "source": [
    "### 8.4.1 Dictionary Creation, Lookup, and Update\n",
    "\n",
    "```python\n",
    "capital = {'Thailand':'Bangkok', 'Japan':'Tokyo', 'United Kingdom':'London'}\n",
    "```"
   ]
  },
  {
   "cell_type": "markdown",
   "metadata": {},
   "source": [
    "**Example**"
   ]
  },
  {
   "cell_type": "code",
   "execution_count": null,
   "metadata": {},
   "outputs": [],
   "source": [
    "empty_dict = {}\n",
    "print(empty_dict)\n",
    "\n",
    "sample_dict = {'a':1}\n",
    "print(sample_dict)\n",
    "\n",
    "cities = {'China': ['Shanghai', 'Beijing'],\n",
    "          'USA': ['New York', 'Los Angeles'],\n",
    "          'Spain': ['Madrid', 'Barcelona'],\n",
    "          'Australia': ['Sydney', 'Melbourne']}\n",
    "print(cities)"
   ]
  },
  {
   "cell_type": "markdown",
   "metadata": {},
   "source": [
    "### 8.4.2 Dictionary Methods\n",
    "\n",
    "**1. `get()` method**"
   ]
  },
  {
   "cell_type": "markdown",
   "metadata": {},
   "source": [
    "**Example**"
   ]
  },
  {
   "cell_type": "code",
   "execution_count": null,
   "metadata": {},
   "outputs": [],
   "source": [
    "grades = {'English':97, 'Math':93, 'Art':74, 'Music':86}\n",
    "\n",
    "print(grades.get('Math'))\n",
    "print(grades.get('Thai'))\n",
    "print(grades.get('Thai', 'N/A'))"
   ]
  },
  {
   "cell_type": "markdown",
   "metadata": {},
   "source": [
    "**2. `update()` method**"
   ]
  },
  {
   "cell_type": "markdown",
   "metadata": {},
   "source": [
    "**Example**"
   ]
  },
  {
   "cell_type": "code",
   "execution_count": null,
   "metadata": {},
   "outputs": [],
   "source": [
    "grades = {'English':97, 'Math':93, 'Art':74, 'Music':86}\n",
    "grades.update({'Math':100, 'Gym':50})   # Change Math, add Gym\n",
    "print(grades)"
   ]
  },
  {
   "cell_type": "markdown",
   "metadata": {},
   "source": [
    "**3. `setdefault()` method**"
   ]
  },
  {
   "cell_type": "markdown",
   "metadata": {},
   "source": [
    "**Example**"
   ]
  },
  {
   "cell_type": "code",
   "execution_count": null,
   "metadata": {},
   "outputs": [],
   "source": [
    "grades = {'English':97, 'Math':93, 'Art':74, 'Music':86} \n",
    "\n",
    "grades.setdefault('Art',87)    # Art key exists. No change.\n",
    "print('Art grade:', grades['Art'])\n",
    "\n",
    "grades.setdefault('Gym',50)    # Gym key is new. Added and set.\n",
    "print('Gym grade:', grades['Gym'])"
   ]
  },
  {
   "cell_type": "markdown",
   "metadata": {},
   "source": [
    "**4. `.copy()` method**"
   ]
  },
  {
   "cell_type": "markdown",
   "metadata": {},
   "source": [
    "**Example**"
   ]
  },
  {
   "cell_type": "code",
   "execution_count": null,
   "metadata": {},
   "outputs": [],
   "source": [
    "grades = {'English':97, 'Math':93, 'Art':74, 'Music':86} \n",
    "grades2 = grades.copy()\n",
    "\n",
    "print('grades = ', grades)\n",
    "print('grades2 = ', grades2)\n",
    "print('grades2 is grades', grades2 is grades)\n",
    "print('grades2 == grades', grades2 == grades)"
   ]
  },
  {
   "cell_type": "markdown",
   "metadata": {},
   "source": [
    "**5. `clear()` method**"
   ]
  },
  {
   "cell_type": "markdown",
   "metadata": {},
   "source": [
    "**Example**"
   ]
  },
  {
   "cell_type": "code",
   "execution_count": null,
   "metadata": {},
   "outputs": [],
   "source": [
    "grades = {'English':97, 'Math':93, 'Art':74, 'Music':86} \n",
    "print('grades before clear()', grades)\n",
    "\n",
    "grades.clear()\n",
    "print('grades after clear()', grades)"
   ]
  },
  {
   "cell_type": "markdown",
   "metadata": {},
   "source": [
    "### 8.4.3 Dictionaries View Objects\n",
    "\n",
    "`.keys()`, `.values()`, `.items()`"
   ]
  },
  {
   "cell_type": "markdown",
   "metadata": {},
   "source": [
    "**Example**"
   ]
  },
  {
   "cell_type": "code",
   "execution_count": null,
   "metadata": {},
   "outputs": [],
   "source": [
    "grades = {'English':97, 'Math':93, 'Art':74, 'Music':86} \n",
    "\n",
    "print(grades.keys())\n",
    "print(grades.values())\n",
    "print(grades.items())"
   ]
  },
  {
   "cell_type": "code",
   "execution_count": null,
   "metadata": {},
   "outputs": [],
   "source": [
    "grades = {'English':97, 'Math':93, 'Art':74, 'Music':86}\n",
    "\n",
    "grade_points = grades.values()\n",
    "print('Grade points:', grade_points)\n",
    "\n",
    "grades['Art'] = 100\n",
    "print('Grade points:', grade_points)"
   ]
  },
  {
   "cell_type": "markdown",
   "metadata": {},
   "source": [
    "### 8.4.4 Iteration over Dictionaries"
   ]
  },
  {
   "cell_type": "markdown",
   "metadata": {},
   "source": [
    "**Example**"
   ]
  },
  {
   "cell_type": "code",
   "execution_count": null,
   "metadata": {},
   "outputs": [],
   "source": [
    "capitals = {'USA': 'Washington, D.C.',\n",
    "            'China': 'Beijing',\n",
    "            'France': 'Paris',\n",
    "            'England': 'London',\n",
    "            'Italy': 'Rome',\n",
    "            'Russia': 'Moscow',\n",
    "            'Australia': 'Canberra',\n",
    "            'Peru': 'Lima',\n",
    "            'Japan': 'Tokyo'}\n",
    "\n",
    "for country in capitals:\n",
    "    print(\"{}, {}\".format(capitals[country], country))"
   ]
  },
  {
   "cell_type": "markdown",
   "metadata": {},
   "source": [
    "### 8.4.5 The `in` Keyword"
   ]
  },
  {
   "cell_type": "markdown",
   "metadata": {},
   "source": [
    "**Example**"
   ]
  },
  {
   "cell_type": "code",
   "execution_count": null,
   "metadata": {},
   "outputs": [],
   "source": [
    "mapping = {1: 5, 8: -3, 7: 22, 4: 13, 22: 17}\n",
    "\n",
    "# Keys\n",
    "print(1 in mapping)\n",
    "print(8 in mapping)\n",
    "\n",
    "# Values\n",
    "print(5 in mapping)\n",
    "print(-3 in mapping)\n",
    "\n",
    "# Both\n",
    "print(22 in mapping)\n",
    "\n",
    "# Neither\n",
    "print(82 in mapping)"
   ]
  },
  {
   "cell_type": "code",
   "execution_count": null,
   "metadata": {
    "scrolled": true
   },
   "outputs": [],
   "source": [
    "mapping = {1: 5, 8: -3, 7: 22, 4: 13, 22: 17}\n",
    "keys = [8, 14, 22, 25]\n",
    "\n",
    "for key in keys:\n",
    "    if key in mapping:\n",
    "        print(key, mapping[key])\n",
    "    else:\n",
    "        print('{} not in mapping'.format(key))"
   ]
  },
  {
   "cell_type": "markdown",
   "metadata": {},
   "source": [
    "### 8.4.6 Dictionary as a Set of Counters"
   ]
  },
  {
   "cell_type": "markdown",
   "metadata": {},
   "source": [
    "**Example**"
   ]
  },
  {
   "cell_type": "code",
   "execution_count": null,
   "metadata": {},
   "outputs": [],
   "source": [
    "speech = \"to be or not to be\" \n",
    "speech_list = speech.split()\n",
    "word_count_dict = {}\n",
    "\n",
    "for word in speech_list:\n",
    "    if word in word_count_dict:\n",
    "        word_count_dict[word] += 1\n",
    "    else:\n",
    "        word_count_dict[word] = 1\n",
    "print(word_count_dict)"
   ]
  },
  {
   "cell_type": "markdown",
   "metadata": {},
   "source": [
    "**Exercise 2** Alphabetic Telephone Number Translator\n",
    "\n",
    "Many companies use telephone numbers like 555-GET-FOOD so the number is easier for their customers to remember. On a standard telephone, the alphabetic letters are mapped to numbers in the following fashion:\n",
    "\n",
    "A, B, and C ︎= 2\n",
    "\n",
    "D, E, and F = 3\n",
    "\n",
    "G, H, and I = 4\n",
    "\n",
    "J, K, and L = 5\n",
    "\n",
    "M, N, and O = 6 P, Q, R, and S = 7\n",
    "\n",
    "T, U, and V = 8\n",
    "\n",
    "W, X, Y, and Z = 9\n",
    "\n",
    "Write a program that asks the user to enter a 10-character telephone number in the format XXX-XXX-XXXX. The program should display the telephone number with any alphabetic characters that appeared in the original translated to their numeric equivalent. For example, if the user enters 555-GET-FOOD, the program should display 555-438-3663."
   ]
  },
  {
   "cell_type": "code",
   "execution_count": null,
   "metadata": {},
   "outputs": [],
   "source": [
    "# SOLUTION\n"
   ]
  },
  {
   "cell_type": "markdown",
   "metadata": {},
   "source": [
    "**Exercise 3** Most Frequent Character\n",
    "\n",
    "Write a program that lets the user enter a string and displays the character that appears most frequently in the string."
   ]
  },
  {
   "cell_type": "code",
   "execution_count": null,
   "metadata": {},
   "outputs": [],
   "source": [
    "# SOLUTION\n"
   ]
  },
  {
   "cell_type": "markdown",
   "metadata": {},
   "source": [
    "**Exercise 4** Capital Quiz\n",
    "\n",
    "Write a program that creates a dictionary containing the U.S. states as keys and their capitals as values. The program should then randomly quiz the user for 5 times by displaying the name of a state and asking the user to enter that state’s capital. The program should keep a count of the number of correct and incorrect responses."
   ]
  },
  {
   "cell_type": "code",
   "execution_count": null,
   "metadata": {},
   "outputs": [],
   "source": [
    "capital_dic={\n",
    "    'Alabama': 'Montgomery',\n",
    "    'Alaska': 'Juneau',\n",
    "    'Arizona':'Phoenix',\n",
    "    'Arkansas':'Little Rock',\n",
    "    'California': 'Sacramento',\n",
    "    'Colorado':'Denver',\n",
    "    'Connecticut':'Hartford',\n",
    "    'Delaware':'Dover',\n",
    "    'Florida': 'Tallahassee',\n",
    "    'Georgia': 'Atlanta',\n",
    "    'Hawaii': 'Honolulu',\n",
    "    'Idaho': 'Boise',\n",
    "    'Illinios': 'Springfield',\n",
    "    'Indiana': 'Indianapolis',\n",
    "    'Iowa': 'Des Monies',\n",
    "    'Kansas': 'Topeka',\n",
    "    'Kentucky': 'Frankfort',\n",
    "    'Louisiana': 'Baton Rouge',\n",
    "    'Maine': 'Augusta',\n",
    "    'Maryland': 'Annapolis',\n",
    "    'Massachusetts': 'Boston',\n",
    "    'Michigan': 'Lansing',\n",
    "    'Minnesota': 'St. Paul',\n",
    "    'Mississippi': 'Jackson',\n",
    "    'Missouri': 'Jefferson City',\n",
    "    'Montana': 'Helena',\n",
    "    'Nebraska': 'Lincoln',\n",
    "    'Neveda': 'Carson City',\n",
    "    'New Hampshire': 'Concord',\n",
    "    'New Jersey': 'Trenton',\n",
    "    'New Mexico': 'Santa Fe',\n",
    "    'New York': 'Albany',\n",
    "    'North Carolina': 'Raleigh',\n",
    "    'North Dakota': 'Bismarck',\n",
    "    'Ohio': 'Columbus',\n",
    "    'Oklahoma': 'Oklahoma City',\n",
    "    'Oregon': 'Salem',\n",
    "    'Pennsylvania': 'Harrisburg',\n",
    "    'Rhoda Island': 'Providence',\n",
    "    'South Carolina': 'Columbia',\n",
    "    'South Dakoda': 'Pierre',\n",
    "    'Tennessee': 'Nashville',\n",
    "    'Texas': 'Austin',\n",
    "    'Utah': 'Salt Lake City',\n",
    "    'Vermont': 'Montpelier',\n",
    "    'Virginia': 'Richmond',\n",
    "    'Washington': 'Olympia',\n",
    "    'West Virginia': 'Charleston',\n",
    "    'Wisconsin': 'Madison',\n",
    "    'Wyoming': 'Cheyenne'  \n",
    "}"
   ]
  },
  {
   "cell_type": "code",
   "execution_count": null,
   "metadata": {},
   "outputs": [],
   "source": [
    "# SOLUTION\n"
   ]
  },
  {
   "cell_type": "markdown",
   "metadata": {},
   "source": [
    "# 8.5: Sets"
   ]
  },
  {
   "cell_type": "markdown",
   "metadata": {},
   "source": [
    "### 8.5.1 Set Creation and Manipulation\n",
    "\n",
    "Sets are <em style=\"color:red\">mutable</em> unordered collections of distinct <em style=\"color:blue\">immutable</em> objects. \n",
    "```python\n",
    "classes = {'English', 'Math', 'Art', 'Music'}\n",
    "```"
   ]
  },
  {
   "cell_type": "markdown",
   "metadata": {},
   "source": [
    "**Example**"
   ]
  },
  {
   "cell_type": "code",
   "execution_count": null,
   "metadata": {},
   "outputs": [],
   "source": [
    "numbers = {3, 2, 1, 4}\n",
    "print(numbers)\n",
    "\n",
    "letters = {'a', 'b', 'a', 'c', 'b'}\n",
    "print(letters)\n",
    "\n",
    "empty = {}\n",
    "print(empty, type(empty))"
   ]
  },
  {
   "cell_type": "code",
   "execution_count": null,
   "metadata": {},
   "outputs": [],
   "source": [
    "empty2 = set()\n",
    "print(empty2, type(empty2))\n",
    "\n",
    "set1 = set([3, 1, 1, 3, 6, 5])\n",
    "print(set1)\n",
    "\n",
    "set2 = set(range(5))\n",
    "print(set2)"
   ]
  },
  {
   "cell_type": "code",
   "execution_count": null,
   "metadata": {},
   "outputs": [],
   "source": [
    "letters = {'a', 'b', 'a', 'c', 'b'}\n",
    "print(letters)\n",
    "\n",
    "for char in letters:\n",
    "    print(char)    "
   ]
  },
  {
   "cell_type": "markdown",
   "metadata": {},
   "source": [
    "### 8.5.2 Set Methods\n",
    "**1. Add Elements: `.add()`, `.update()`**"
   ]
  },
  {
   "cell_type": "markdown",
   "metadata": {},
   "source": [
    "**Example**"
   ]
  },
  {
   "cell_type": "code",
   "execution_count": null,
   "metadata": {},
   "outputs": [],
   "source": [
    "my_set = set([3, 1, 1, 3, 6, 5])\n",
    "print(my_set)\n",
    "\n",
    "my_set.add(10)     # Add a single element\n",
    "print(my_set)\n",
    "\n",
    "my_set.add(5)      # Try to add the same element\n",
    "print(my_set)\n",
    "\n",
    "my_set.update([66, 27, 39])      # Add multiple elements\n",
    "print(my_set)"
   ]
  },
  {
   "cell_type": "markdown",
   "metadata": {},
   "source": [
    "**2. Delete Elements: `.remove()`, `.discard()`, `.pop()`**"
   ]
  },
  {
   "cell_type": "markdown",
   "metadata": {},
   "source": [
    "**Example**"
   ]
  },
  {
   "cell_type": "code",
   "execution_count": null,
   "metadata": {
    "scrolled": true
   },
   "outputs": [],
   "source": [
    "my_set = set([3, 1, 1, 3, 6, 5])\n",
    "print(my_set)\n",
    "\n",
    "my_set.discard(3)  # Remove an element from a set if it is a member.\n",
    "print(my_set)\n",
    "\n",
    "my_set.remove(5)   # Remove an element from a set if it is a member.\n",
    "print(my_set)\n",
    "\n",
    "my_set.discard(7)  # If the element is not a member, do nothing.\n",
    "print(my_set)"
   ]
  },
  {
   "cell_type": "code",
   "execution_count": null,
   "metadata": {},
   "outputs": [],
   "source": [
    "my_set = set([7, 3, 1, 1, 3, 6, 5, 9])\n",
    "print(my_set)\n",
    "\n",
    "my_set.pop()       # Remove and return an arbitrary set element.\n",
    "print(my_set)"
   ]
  },
  {
   "cell_type": "markdown",
   "metadata": {},
   "source": [
    "**3. Copy a Set: `.copy()`**"
   ]
  },
  {
   "cell_type": "markdown",
   "metadata": {},
   "source": [
    "**Example**"
   ]
  },
  {
   "cell_type": "code",
   "execution_count": null,
   "metadata": {},
   "outputs": [],
   "source": [
    "classes = {'English', 'Math', 'Art', 'Music'}\n",
    "classes2 = classes.copy()     \n",
    "\n",
    "print('classes = ', classes)\n",
    "print('classes2 = ', classes2)\n",
    "print('classes2 is classes', classes2 is classes)\n",
    "print('classes2 == classes', classes2 == classes)"
   ]
  },
  {
   "cell_type": "markdown",
   "metadata": {},
   "source": [
    "**4. Perform Mathermatical Set Operations:**\n",
    "\n",
    "\n",
    "\n",
    "\n",
    "- `.difference()`\n",
    "- `.union()`\n",
    "- `.intersection()`\n",
    "- `.isdisjoint()`\n",
    "- `.issubset()`\n",
    "- `.issupperset()`"
   ]
  },
  {
   "cell_type": "markdown",
   "metadata": {},
   "source": [
    "**Example**"
   ]
  },
  {
   "cell_type": "code",
   "execution_count": null,
   "metadata": {},
   "outputs": [],
   "source": [
    "# .difference()\n",
    "\n",
    "set1 = {1, 2, 3, 4}\n",
    "set2 = {1, 2, 3}\n",
    "\n",
    "print('set1 =', set1)\n",
    "print('set2 =', set2)\n",
    "\n",
    "print(set1.difference(set2))\n",
    "print(set2.difference(set1))"
   ]
  },
  {
   "cell_type": "code",
   "execution_count": null,
   "metadata": {},
   "outputs": [],
   "source": [
    "# .union()\n",
    "\n",
    "set1 = {1, 2, 3}\n",
    "set2 = {1, 2, 4}\n",
    "\n",
    "print('set1 =', set1)\n",
    "print('set2 =', set2)\n",
    "\n",
    "print(set1.union(set2))\n",
    "print(set2.union(set1))"
   ]
  },
  {
   "cell_type": "code",
   "execution_count": null,
   "metadata": {},
   "outputs": [],
   "source": [
    "# .intersection()\n",
    "\n",
    "set1 = {1, 2, 3}\n",
    "set2 = {1, 2, 4}\n",
    "\n",
    "print('set1 =', set1)\n",
    "print('set2 =', set2)\n",
    "\n",
    "print(set1.intersection(set2))\n",
    "print(set2.intersection(set1))"
   ]
  },
  {
   "cell_type": "code",
   "execution_count": null,
   "metadata": {},
   "outputs": [],
   "source": [
    "# .isdisjoint()\n",
    "\n",
    "set1 = {1,2}\n",
    "set2 = {1,2,4}\n",
    "set3 = {5}\n",
    "\n",
    "print(set1.isdisjoint(set2))\n",
    "print(set1.isdisjoint(set3))"
   ]
  },
  {
   "cell_type": "code",
   "execution_count": null,
   "metadata": {},
   "outputs": [],
   "source": [
    "# .issubset()\n",
    "\n",
    "set1 = {1,2}\n",
    "set2 = {1,2,4}\n",
    "\n",
    "print(set1.issubset(set2))\n",
    "print(set2.issubset(set1))"
   ]
  },
  {
   "cell_type": "code",
   "execution_count": null,
   "metadata": {},
   "outputs": [],
   "source": [
    "# .issuperset()\n",
    "\n",
    "set1 = {1,2}\n",
    "set2 = {1,2,4}\n",
    "\n",
    "print(set1.issuperset(set2))\n",
    "print(set2.issuperset(set1))"
   ]
  },
  {
   "cell_type": "markdown",
   "metadata": {},
   "source": [
    "**Exercise 5** Unique Characters\n",
    "\n",
    "Write a function that takes a string as an argument and returns a list of unique characters in the string. Ignore case."
   ]
  },
  {
   "cell_type": "code",
   "execution_count": null,
   "metadata": {},
   "outputs": [],
   "source": [
    "# SOLUTION\n",
    "\n"
   ]
  }
 ],
 "metadata": {
  "kernelspec": {
   "display_name": "Python 3",
   "language": "python",
   "name": "python3"
  },
  "language_info": {
   "codemirror_mode": {
    "name": "ipython",
    "version": 3
   },
   "file_extension": ".py",
   "mimetype": "text/x-python",
   "name": "python",
   "nbconvert_exporter": "python",
   "pygments_lexer": "ipython3",
   "version": "3.7.3"
  }
 },
 "nbformat": 4,
 "nbformat_minor": 2
}
