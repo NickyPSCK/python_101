{
 "cells": [
  {
   "cell_type": "markdown",
   "metadata": {},
   "source": [
    "# Chapter 1"
   ]
  },
  {
   "cell_type": "markdown",
   "metadata": {
    "id": "746Lk_bBcUmA"
   },
   "source": [
    "**Exercise 1** Print out the sentence \"I love DataCafe\"."
   ]
  },
  {
   "cell_type": "code",
   "execution_count": null,
   "metadata": {
    "id": "wmofAdz6cUmB"
   },
   "outputs": [],
   "source": [
    "# SOLUTION\n",
    "print('I love DataCafe')\n"
   ]
  },
  {
   "cell_type": "markdown",
   "metadata": {
    "id": "b9zOWMRpcUmM"
   },
   "source": [
    "**Exercise 2** Print the result of dividing 145 by 5"
   ]
  },
  {
   "cell_type": "code",
   "execution_count": null,
   "metadata": {
    "id": "WrimoCP3cUmN"
   },
   "outputs": [],
   "source": [
    "# SOLUTION\n",
    "print(145/5)\n"
   ]
  },
  {
   "cell_type": "markdown",
   "metadata": {
    "id": "nzahjcaHcUmO"
   },
   "source": [
    "**Exercise 3** Print the result of adding 79 and 12 and then subtracting 5"
   ]
  },
  {
   "cell_type": "code",
   "execution_count": null,
   "metadata": {
    "id": "KhGjR1G0cUmP"
   },
   "outputs": [],
   "source": [
    "# SOLUTION\n",
    "print((79+12)-5)\n"
   ]
  },
  {
   "cell_type": "markdown",
   "metadata": {
    "id": "sOGVn7GNcUmQ"
   },
   "source": [
    "**Exercise 4** Print the result of adding 6 and 11 and then multiplying that sum by 3"
   ]
  },
  {
   "cell_type": "code",
   "execution_count": null,
   "metadata": {
    "id": "F4k0sBymcUmR"
   },
   "outputs": [],
   "source": [
    "# SOLUTION\n",
    "print((6+11)*3)\n"
   ]
  },
  {
   "cell_type": "markdown",
   "metadata": {
    "id": "oXLeqYu4cUme"
   },
   "source": [
    "**Exercis 5** Print the absolute result of dividing -6 and 11 with two decimal point."
   ]
  },
  {
   "cell_type": "code",
   "execution_count": null,
   "metadata": {
    "id": "OH08y5eFcUmf"
   },
   "outputs": [],
   "source": [
    "# SOLUTION\n",
    "print(round(abs(-6/11),2))\n"
   ]
  },
  {
   "cell_type": "markdown",
   "metadata": {
    "id": "3j7YKl-QcUm2"
   },
   "source": [
    "**Exercise 6** Print ten consecutive words of Dog.\n",
    "\n",
    "**Expected Result:** `Dog Dog Dog Dog Dog Dog Dog Dog Dog Dog `"
   ]
  },
  {
   "cell_type": "code",
   "execution_count": null,
   "metadata": {
    "id": "jL_gKHG8cUm2"
   },
   "outputs": [],
   "source": [
    "# SOLUTION\n",
    "print('Dog '*10)\n"
   ]
  },
  {
   "cell_type": "markdown",
   "metadata": {},
   "source": [
    "# Chapter 2"
   ]
  },
  {
   "cell_type": "markdown",
   "metadata": {
    "colab_type": "text",
    "id": "Pfb-b8EchmZv"
   },
   "source": [
    "**Exercise 1** Assign a variable and print the value\n",
    "\n",
    "- assign a string value to a variable `student_name`,\n",
    "- print the value of variable `student_name`,\n",
    "- assign the `student_name` variable  a different string value (a different name),\n",
    "- print the value of variable `student_name`,\n",
    "- assign and print a 3rd value to `student_name`\n"
   ]
  },
  {
   "cell_type": "code",
   "execution_count": null,
   "metadata": {
    "colab": {
     "base_uri": "https://localhost:8080/",
     "height": 50
    },
    "colab_type": "code",
    "id": "6jrQ4LgNhmZv",
    "outputId": "c525946d-e6a4-4028-da4a-15f2a562a6d0"
   },
   "outputs": [],
   "source": [
    "# SOLUTION\n",
    "student_name = 'John'\n",
    "print(student_name)\n",
    "student_name = 'Peter'\n",
    "print(student_name)\n",
    "student_name = 'Ed'\n"
   ]
  },
  {
   "cell_type": "markdown",
   "metadata": {
    "colab_type": "text",
    "id": "ha5-ZDxfhmZw"
   },
   "source": [
    "**Exercise 2** Write python statements that do the following.\n",
    "1. Create a new variable `x`, and assign it the value `10.5`.\n",
    "2. Create a new variable `y`, and assign it the value `4`.\n",
    "3. Sum x and y, and make `x` refer to the resulting value. After this statement has been executed, what are `x` and `y`’s values?"
   ]
  },
  {
   "cell_type": "code",
   "execution_count": null,
   "metadata": {
    "colab": {
     "base_uri": "https://localhost:8080/",
     "height": 50
    },
    "colab_type": "code",
    "id": "u4ImPGeWhmZx",
    "outputId": "c628f79c-cf8a-4ed4-8353-11560f834b5f"
   },
   "outputs": [],
   "source": [
    "# SOLUTION\n",
    "x=10.5\n",
    "y=4\n",
    "x = x+y\n",
    "print(x)\n",
    "print(y)\n"
   ]
  },
  {
   "cell_type": "markdown",
   "metadata": {
    "colab_type": "text",
    "id": "iS016flohmZy"
   },
   "source": [
    "**Exercise 3** Add the following three numbers as integers and print the result"
   ]
  },
  {
   "cell_type": "code",
   "execution_count": null,
   "metadata": {
    "colab": {
     "base_uri": "https://localhost:8080/",
     "height": 34
    },
    "colab_type": "code",
    "id": "1VYkigazhmZ0",
    "outputId": "05647f29-4ba4-4118-bac5-e83867cf7cc9"
   },
   "outputs": [],
   "source": [
    "# SOLUTION\n",
    "str_num_1 = \"11\"\n",
    "str_num_2 = \"15\"\n",
    "int_num_3 = 10\n",
    "\n",
    "# add the 3 numbers as integers and print the result\n",
    "\n",
    "print(int(str_num_1)+int(str_num_2)+int_num_3)\n"
   ]
  },
  {
   "cell_type": "markdown",
   "metadata": {},
   "source": [
    "# Chapter 3"
   ]
  },
  {
   "cell_type": "markdown",
   "metadata": {},
   "source": [
    "**Exercise 1** Sales Prediction\n",
    "\n",
    "A company has determined that its annual profit is typically 23 percent of total sales. Write a program that asks the user to enter the projected amount of total sales, and then displays the profit that will be made from that amount. \n",
    "\n",
    "*Hint: Use the value 0.23 to represent 23 percent.*"
   ]
  },
  {
   "cell_type": "code",
   "execution_count": null,
   "metadata": {},
   "outputs": [],
   "source": [
    "# SOLUTION\n",
    "total_sale = float(input('Amount of total sales: '))\n",
    "print(total_sale*0.23)\n"
   ]
  },
  {
   "cell_type": "markdown",
   "metadata": {},
   "source": [
    "**Exercise 2** Total Purchase\n",
    "\n",
    "A customer in a store is purchasing five items. Write a program that asks for the price of each item, and then displays the subtotal of the sale, the amount of sales tax, and the total. Assume the sales tax is 7 percent."
   ]
  },
  {
   "cell_type": "code",
   "execution_count": null,
   "metadata": {},
   "outputs": [],
   "source": [
    "# SOLUTION\n",
    "price_item_1 = float(input('Item1: '))\n",
    "price_item_2 = float(input('Item2: '))\n",
    "price_item_3 = float(input('Item3: '))\n",
    "price_item_4 = float(input('Item4: '))\n",
    "price_item_5 = float(input('Item5: '))\n",
    "\n",
    "subtotal = price_item_1 + price_item_2 + price_item_3 + price_item_4 + price_item_5\n",
    "tax = subtotal * 0.07\n",
    "total =  subtotal + tax\n",
    "print('Subtotal: ',subtotal)\n",
    "print('Tax: ',tax)\n",
    "print('Total: ',total)\n"
   ]
  },
  {
   "cell_type": "markdown",
   "metadata": {},
   "source": [
    "**Exercise 3** Male and Female Percentages\n",
    "\n",
    "Write a program that asks the user for the number of males and the number of females registered in a class. The program should display the percentage of males and females in the class.\n",
    "\n",
    "*Hint: Suppose there are 8 males and 12 females in a class. There are 20 students in the class. The percentage of males can be calculated as 8 ÷ 20 = 0.4, or 40%. The percentage of females can be calculated as 12 ÷ 20 = 0.6, or 60%.*"
   ]
  },
  {
   "cell_type": "code",
   "execution_count": null,
   "metadata": {},
   "outputs": [],
   "source": [
    "# SOLUTION\n",
    "male = int(input('No. of male: '))\n",
    "female = int(input('No. of female: '))\n",
    "total = male + female\n",
    "print('%male', 100*male/total)\n",
    "print('%female', 100*female/total)\n"
   ]
  },
  {
   "cell_type": "markdown",
   "metadata": {},
   "source": [
    "# Chapter 5"
   ]
  },
  {
   "cell_type": "markdown",
   "metadata": {},
   "source": [
    "**Exercise 1** Magic Dates\n",
    "\n",
    "The date June 10, 1960, is special because when it is written in the following format, the month times the day equals the year: 6/10/60\n",
    "\n",
    "Design a program that asks the user to enter a month (in numeric form), a day, and a two- digit year. The program should then determine whether the month times the day equals the year. If so, it should display a message saying the date is magic. Otherwise, it should display a message saying the date is not magic."
   ]
  },
  {
   "cell_type": "code",
   "execution_count": 9,
   "metadata": {},
   "outputs": [
    {
     "name": "stdout",
     "output_type": "stream",
     "text": [
      "Please enter month: 3\n",
      "Please enter day: 3\n",
      "Please enter year in two-digit fromat: 19\n",
      "The date is not magic\n"
     ]
    }
   ],
   "source": [
    "# SOLUTION\n",
    "month = int(input('Please enter month: '))\n",
    "day = int(input('Please enter day: '))\n",
    "year = int(input('Please enter year in two-digit fromat: '))\n",
    "if month * day == year :\n",
    "    print('The date is magic.')\n",
    "else :\n",
    "    print('The date is not magic')\n",
    "    "
   ]
  },
  {
   "cell_type": "markdown",
   "metadata": {},
   "source": [
    "**Exercise 2** Grading\n",
    "\n",
    "Write the program that ask user to enter the student's score. The program shoulf then display grade of the student.\n",
    "\n",
    "\n",
    "| Grade | Score |\n",
    "|:-----:|:-----:|\n",
    "|   A   | >= 90 |\n",
    "|   B   | >= 80 |\n",
    "|   C   | >= 70 |\n",
    "|   D   | >= 60 |\n",
    "|   F   |  < 60 |\n",
    "               \n"
   ]
  },
  {
   "cell_type": "code",
   "execution_count": null,
   "metadata": {},
   "outputs": [],
   "source": [
    "# SOLUTION\n",
    "score = int(input('Enter a score: '))\n",
    "\n",
    "if score >= 90:\n",
    "    grade = 'A'\n",
    "elif score >= 80:\n",
    "    grade = 'B'\n",
    "elif score >= 70:\n",
    "    grade = 'C'\n",
    "elif score >= 60:\n",
    "    grade = 'D'\n",
    "else:\n",
    "    grade = 'F'\n",
    "\n",
    "print(grade)\n"
   ]
  },
  {
   "cell_type": "markdown",
   "metadata": {},
   "source": [
    "**Exercise 3** Quarter of the Year\n",
    "\n",
    "Write a program that asks the user for a month as a number between 1 and 12. The program should display a message indicating whether the month is in the first quarter, the second quarter, the third quarter, or the fourth quarter of the year. Following are the quidelines:\n",
    "\n",
    "• If the user enters either 1, 2, or 3, the month is in the first quarter.\n",
    "\n",
    "• If the user enters a number between 4 and 6, the month is in the second quarter.\n",
    "\n",
    "• If the number is either 7, 8, or 9, the month is in the third quarter.\n",
    "\n",
    "• If the month is between 10 and 12, the month is in the fourth quarter.\n",
    "\n",
    "• If the number is not between 1 and 12, the program should display an error."
   ]
  },
  {
   "cell_type": "code",
   "execution_count": null,
   "metadata": {},
   "outputs": [],
   "source": [
    "# SOLUTION\n",
    "month = int(input('Please enter a month as a number: '))\n",
    "if month in [1, 2, 3]:\n",
    "    print('The month that you enter is in the first quartet.')\n",
    "elif month in [4, 5, 6]:\n",
    "    print('The month that you enter is in the second quartet.')\n",
    "elif month in [7, 8, 9]:\n",
    "    print('The month that you enter is in the third quartet.')\n",
    "elif month in [10, 11, 12]:\n",
    "    print('The month that you enter is in the fourth quartet.')\n",
    "else :\n",
    "    print('Error: Invalid Input!')\n",
    "    "
   ]
  },
  {
   "cell_type": "markdown",
   "metadata": {},
   "source": [
    "**Exercise 4** Mass and Weight\n",
    "\n",
    "Scientists measure an object’s mass in kilograms and its weight in newtons. If you know the amount of mass of an object in kilograms, you can calculate its weight in newtons with the following formula:\n",
    "\n",
    "                         weight = mass × 9.8\n",
    "                         \n",
    "Write a program that asks the user to enter an object’s mass, and then calculates its weight. If the object weighs more than 500 newtons, display a message indicating that it is too heavy. If the object weighs less than 100 newtons, display a message indicating that it is too light."
   ]
  },
  {
   "cell_type": "code",
   "execution_count": null,
   "metadata": {},
   "outputs": [],
   "source": [
    "# SOLUTION\n",
    "object_mass = float(input('Please enter an object\\'s mass: '))\n",
    "object_weight = object_mass * 9.8\n",
    "print(f'Weight of object is: {object_weight:.2f} Newton')\n",
    "if object_weight > 500 :\n",
    "    print('It is too heavy.')\n",
    "elif object_weight < 100 :\n",
    "    print('It is too light.')\n",
    "    "
   ]
  },
  {
   "cell_type": "markdown",
   "metadata": {},
   "source": [
    "**Exercise 5** Software Sales\n",
    "\n",
    "A software company sells a package that retails for $99. Quantity discounts are given according to the following table:\n",
    "\n",
    "                 Quantity              Discount\n",
    "                  10 – 19                    10% \n",
    "                  20 – 49                    20% \n",
    "                  50 – 99                    30% \n",
    "               100 or more                   40%\n",
    "               \n",
    "Write a program that asks the user to enter the number of packages purchased. The program should then display the amount of the discount (if any) and the total amount of the purchase after the discount."
   ]
  },
  {
   "cell_type": "code",
   "execution_count": null,
   "metadata": {},
   "outputs": [],
   "source": [
    "# SOLUTION\n",
    "quantity = int(input('Please enter quantity of packages purchased: '))\n",
    "\n",
    "#discount_fraction = 0\n",
    "\n",
    "if quantity < 10 :\n",
    "    discount_fraction  = 0\n",
    "elif 10 <= quantity <= 19 :\n",
    "    discount_fraction  = 0.1\n",
    "elif 20 <= quantity <= 49 :\n",
    "    discount_fraction  = 0.2\n",
    "elif 50 <= quantity <= 99 :\n",
    "    discount_fraction  = 0.3\n",
    "else :\n",
    "    discount_fraction  = 0.4\n",
    "\n",
    "print(f'Discount {discount_fraction*100:.2f}%')\n",
    "print(f'The amount of the discount: ${quantity*99*discount_fraction:.2f}')\n",
    "print(f'The total amount of the purchase after the discount: ${quantity*99*(1-discount_fraction):.2f}')\n"
   ]
  },
  {
   "cell_type": "markdown",
   "metadata": {},
   "source": [
    "# Chapter 6"
   ]
  },
  {
   "cell_type": "markdown",
   "metadata": {},
   "source": [
    "**Exercise 1** Star Flag\n",
    "\n",
    "Write a progrm to print out the expected result below:\n",
    "\n",
    "\n",
    "\\*\n",
    "\n",
    "\\**\n",
    "\n",
    "\\***\n",
    "\n",
    "\\****\n",
    "\n",
    "\\*****\n"
   ]
  },
  {
   "cell_type": "code",
   "execution_count": null,
   "metadata": {},
   "outputs": [],
   "source": [
    "# SOLUTION\n",
    "for i in range(1,6):\n",
    "    print('*'*i)\n",
    "    "
   ]
  },
  {
   "cell_type": "markdown",
   "metadata": {},
   "source": [
    "**Exercise 2** Vowels and Consonants\n",
    "\n",
    "Write a program that asks the user to enter a string and displays the number of vowels and the number of consonants that the string contains."
   ]
  },
  {
   "cell_type": "code",
   "execution_count": 4,
   "metadata": {},
   "outputs": [
    {
     "name": "stdout",
     "output_type": "stream",
     "text": [
      "Please enter the sentence: dfgaer\n",
      "the number of vowels is: 2\n",
      "the number of consonants is: 4\n"
     ]
    }
   ],
   "source": [
    "# SOLUTION\n",
    "sentence = input('Please enter the sentence: ')\n",
    "vowels = 0\n",
    "consonants = 0\n",
    "for char in sentence:\n",
    "    if char in 'AEIOUaeiou':\n",
    "        vowels += 1\n",
    "    else:\n",
    "        consonants += 1\n",
    "    \n",
    "print(f'the number of vowels is: {vowels}')\n",
    "print(f'the number of consonants is: {consonants}')\n",
    "    "
   ]
  },
  {
   "cell_type": "markdown",
   "metadata": {},
   "source": [
    "**Exercise 3** Character Analysis\n",
    "\n",
    "Write a program that asks the user to enter a sentence and determines the following: the number of uppercase letters, the number of lowpercase letters, the number of digits, and the number of whitespace characters"
   ]
  },
  {
   "cell_type": "code",
   "execution_count": 1,
   "metadata": {},
   "outputs": [
    {
     "name": "stdout",
     "output_type": "stream",
     "text": [
      "Please enter the sentence: adfsdfsagreywethbrtf\n",
      "the number of uppercase letters is: 0\n",
      "the number of lowpercase letters is: 20\n",
      "the number of digits is: 0\n",
      "the number of whitespace characters is: 0\n"
     ]
    }
   ],
   "source": [
    "# SOLUTION\n",
    "sentence = input('Please enter the sentence: ')\n",
    "upper = 0\n",
    "lower = 0\n",
    "digit = 0\n",
    "white_space = 0\n",
    "for char in sentence:\n",
    "    if char.isupper() == True:\n",
    "        upper += 1\n",
    "    elif char.islower() == True:\n",
    "        lower += 1\n",
    "    elif char.isdigit() == True:\n",
    "        digit += 1\n",
    "    elif char == ' ':\n",
    "        white_space += 1\n",
    "    \n",
    "print(f'the number of uppercase letters is: {upper}')\n",
    "print(f'the number of lowpercase letters is: {lower}')\n",
    "print(f'the number of digits is: {digit}')\n",
    "print(f'the number of whitespace characters is: {white_space}')\n"
   ]
  },
  {
   "cell_type": "markdown",
   "metadata": {},
   "source": [
    "**Exercise 4** Sum of Digits in a String\n",
    "\n",
    "Write a program that asks the user to enter a series of single-digit numbers with nothing separating them. The program should display the sum of all the single digit numbers in the string. For example, if the user enters 2514, the program should display 12, which is the sum of 2, 5, 1, and 4."
   ]
  },
  {
   "cell_type": "code",
   "execution_count": 1,
   "metadata": {
    "scrolled": true
   },
   "outputs": [
    {
     "name": "stdout",
     "output_type": "stream",
     "text": [
      "Please enter a series of single-digit numbers: 2333\n",
      "11\n"
     ]
    }
   ],
   "source": [
    "# SOLUTION\n",
    "num_string = input('Please enter a series of single-digit numbers: ')\n",
    "sum = 0\n",
    "for num in num_string:\n",
    "    sum += int(num)\n",
    "print(sum)\n",
    "               "
   ]
  },
  {
   "cell_type": "markdown",
   "metadata": {},
   "source": [
    "**Exercise 5** Calories Burned\n",
    "\n",
    "Running on a particular treadmill you burn 4.2 calories per minute. Write a program that uses a loop to display the number of calories burned after 10, 15, 20, 25, and 30 minutes."
   ]
  },
  {
   "cell_type": "code",
   "execution_count": null,
   "metadata": {},
   "outputs": [],
   "source": [
    "# SOLUTION\n",
    "calories = 0\n",
    "for time in range(10,35,5):\n",
    "    calories = time * 4.2\n",
    "    print(f'the number of calories burned after {time} minutes is {calories:.2f} Calories')\n",
    "    "
   ]
  },
  {
   "cell_type": "markdown",
   "metadata": {},
   "source": [
    "**Exercise 6** Number Analysis Program\n",
    "\n",
    "Write a program that asks the user to enter a series of 20 numbers. The program should store the numbers in a list and then display the following data:\n",
    "\n",
    "• The lowest number in the list\n",
    "\n",
    "• The highest number in the list\n",
    "\n",
    "• The total of the numbers in the list\n",
    "\n",
    "• The average of the numbers in the list"
   ]
  },
  {
   "cell_type": "code",
   "execution_count": null,
   "metadata": {},
   "outputs": [],
   "source": [
    "# SOLUTION\n",
    "number = []\n",
    "\n",
    "for i in range(1,21):\n",
    "    number.append(float(input(f'Please enter the number {i}: ')))\n",
    "\n",
    "min_number = min(number)\n",
    "max_number = max(number)\n",
    "total_number = sum(number)\n",
    "average_number = total_number/len(number)\n",
    "\n",
    "print(f'The lowest number in the list is: {min_number}')\n",
    "print(f'The highest number in the list is: {max_number}')\n",
    "print(f'The total of the numbers in the list is: {total_number}')\n",
    "print(f'The average of the numbers in the list is: {average_number}')\n"
   ]
  },
  {
   "cell_type": "markdown",
   "metadata": {},
   "source": [
    "**Exercise 7** Rainfall Statistics\n",
    "\n",
    "Write a program that lets the user enter the total rainfall for each of 12 months into a list. The program should calculate and display the total rainfall for the year, the average monthly rainfall, and the months with the highest and lowest amounts."
   ]
  },
  {
   "cell_type": "code",
   "execution_count": null,
   "metadata": {},
   "outputs": [],
   "source": [
    "# SOLUTION\n",
    "rain_fall_list = []\n",
    "\n",
    "for month in range(1,13):\n",
    "    rain_fall_list.append(float(input(f'Please enter the totoal rainfall of month {month}: ')))\n",
    "  \n",
    "  \n",
    "total_rain_fall = sum(rain_fall_list)\n",
    "average_rain_fall = total_rain_fall/len(rain_fall_list)\n",
    "\n",
    "min_rain_fall_amount = min(rain_fall_list)\n",
    "min_rain_fall_month = rain_fall_list.index(min_rain_fall_amount)\n",
    "                                          \n",
    "max_rain_fall_amount = max(rain_fall_list)\n",
    "max_rain_fall_month = rain_fall_list.index(max_rain_fall_amount)\n",
    "\n",
    "\n",
    "print(f'The yearly total amount of rain fall is: {average_rain_fall:.2} inches.')\n",
    "print(f'The yearly average amount of rain fall is: {average_rain_fall:.2} inches.')\n",
    "print(f'The lowest rain fall month is month {min_rain_fall_month} with has rain fall {min_rain_fall_amount} inches.')\n",
    "print(f'The most rain fall month is month {max_rain_fall_month} with has rain fall {max_rain_fall_amount} inches.')\n"
   ]
  },
  {
   "cell_type": "markdown",
   "metadata": {},
   "source": [
    "**Exercise 8**  Tuition Increase\n",
    "\n",
    "At one college, the tuition for a full-time student is $8,000 per semester. It has been announced that the tuition will increase by 3 percent each year for the next 5 years. Write a program with a loop that displays the projected semester tuition amount for the next 5 years."
   ]
  },
  {
   "cell_type": "code",
   "execution_count": null,
   "metadata": {},
   "outputs": [],
   "source": [
    "# SOLUTION\n",
    "for year in range(1,6,1):\n",
    "    tuition_fee = 8000 * (1.03 ** year)\n",
    "    print(f'Next {year} year(s) tuition fee will be ${tuition_fee:10.2f} per semester.')\n"
   ]
  },
  {
   "cell_type": "markdown",
   "metadata": {},
   "source": [
    "**Exercise 9** Average Rainfall\n",
    "\n",
    "Write a program that uses nested loops to collect data and calculate the average rainfall over a period of years. The program should first ask for the number of years. The outer loop will iterate once for each year. The inner loop will iterate twelve times, once for each month. Each iteration of the inner loop will ask the user for the inches of rainfall for that month. After all iterations, the program should display the number of months, the total inches of rainfall, and the average rainfall per month for the entire period."
   ]
  },
  {
   "cell_type": "code",
   "execution_count": null,
   "metadata": {},
   "outputs": [],
   "source": [
    "# SOLUTION\n",
    "no_of_years = int(input('Please input no. of year: '))\n",
    "month_name = ['January','February','March','April','May','June','July','August','September','October','November','December']\n",
    "no_of_month = no_of_years * 12\n",
    "inches_of_rainfall = 0 \n",
    "\n",
    "for year in range(1, no_of_years+1, 1) :\n",
    "    print(f'\\nYear: {year}')\n",
    "    for month in range(1, 13, 1):\n",
    "        inches_of_rainfall += float(input(f'  Please input the inches of rainfall for {month_name[month-1]}: ')) \n",
    "    \n",
    "avg_rainfall = inches_of_rainfall/no_of_month\n",
    "print(f'\\n\\nThe number of months: {no_of_month} months')\n",
    "print(f'The total inches of rainfall: {inches_of_rainfall:.2f} inches')\n",
    "print(f'The average rainfall per month: {avg_rainfall:.2f} inches')\n"
   ]
  },
  {
   "cell_type": "markdown",
   "metadata": {},
   "source": [
    "# Chapter 7"
   ]
  },
  {
   "cell_type": "markdown",
   "metadata": {},
   "source": [
    "**Exercise 1** Miles to Feet\n",
    "\n",
    "Write a Python function miles_to_feet that takes a parameter miles and returns the number of feet in miles miles."
   ]
  },
  {
   "cell_type": "code",
   "execution_count": null,
   "metadata": {},
   "outputs": [],
   "source": [
    "# SOLUTION\n",
    "def miles_to_feet(mile):\n",
    "  \n",
    "    feet = mile * 5280\n",
    "    return feet\n",
    "\n",
    "print(miles_to_feet(2),'feet')\n"
   ]
  },
  {
   "cell_type": "markdown",
   "metadata": {},
   "source": [
    "**Exercise 2** Rectangle Area\n",
    "\n",
    "Write a Python function rectangle_area that takes two parameters width and height corresponding to the lengths of the sides of a rectangle and returns the area of the rectangle in square inches."
   ]
  },
  {
   "cell_type": "code",
   "execution_count": null,
   "metadata": {},
   "outputs": [],
   "source": [
    "# SOLUTION\n",
    "def rectangle_area(width,height):\n",
    "  \n",
    "    area = 0.5 * width * height\n",
    "    return area\n",
    "\n",
    "print(rectangle_area(2,2),'square inches.')\n"
   ]
  },
  {
   "cell_type": "markdown",
   "metadata": {},
   "source": [
    "**Exercise 3** Total Seconds\n",
    "\n",
    "Write a Python function total_seconds that takes three parameters hours, minutes and seconds and returns the total number of seconds for hours hours, minutes minutes and seconds seconds."
   ]
  },
  {
   "cell_type": "code",
   "execution_count": null,
   "metadata": {},
   "outputs": [],
   "source": [
    "# SOLUTION\n",
    "def total_seconds(hours,minutes,seconds):\n",
    "  \n",
    "    total = hours * 3600 + minutes * 60 + seconds\n",
    "    return total\n",
    "\n",
    "print(total_seconds(1,1,1),'second')\n"
   ]
  },
  {
   "cell_type": "markdown",
   "metadata": {},
   "source": [
    "**Exercise 4** Print Digits\n",
    "\n",
    "Write a Python function print_digits that takes an integer number in the range [0, 100), (i.e., at least 0, but less than 100) and prints the message:\n",
    "\n",
    "    For the number %, the tens digit is %, and the ones digit is %.\n",
    "   \n",
    "The percent signs should be replaced with the appropriate values. Note that this function should print the desired message, rather than returning it as a string.\n",
    "\n",
    "*Example Output:*\n",
    "\n",
    "For the number 42, the tens digit is 4, and the ones digit is 2. \n",
    "\n",
    "For the number 99, The tens digit is 9, and the ones digit is 9. \n",
    "\n",
    "For the number 5, the tens digit is 0, and the ones digit is 5."
   ]
  },
  {
   "cell_type": "code",
   "execution_count": null,
   "metadata": {},
   "outputs": [],
   "source": [
    "# SOLUTION\n",
    "def print_digits(int_num):\n",
    "\n",
    "    if 100 > int_num >= 0:\n",
    "        ones_digit = int_num % 10\n",
    "        tens_digit = int_num // 10\n",
    "        text = f'For the number {int_num:2}, the tens digit is {tens_digit:1}, and the ones digit is {ones_digit:1}.'\n",
    "    else:\n",
    "        text = \"Invalid input\"\n",
    "    \n",
    "    return text\n",
    "\n",
    "print(print_digits(42))\n",
    "print(print_digits(99))\n",
    "print(print_digits(5))\n"
   ]
  },
  {
   "cell_type": "markdown",
   "metadata": {},
   "source": [
    "# Chapter 8"
   ]
  },
  {
   "cell_type": "markdown",
   "metadata": {},
   "source": [
    "**Exercise 1** Name Display\n",
    "\n",
    "Write a program that gets a string containing a person’s first and last names as separate values, and then displays their “initials”, “name in address book”, and “username”. For example, if the user enters a first name of “John” and a last name of “Smith”, the program should display “J.S.”, “John SMITH”, and “jsmith”."
   ]
  },
  {
   "cell_type": "code",
   "execution_count": null,
   "metadata": {},
   "outputs": [],
   "source": [
    "# SOLUTION\n",
    "name = input('name: ')\n",
    "surname = input('surname: ')\n",
    "print(f'{name[0]}.{surname[0]}.', f'{name} {surname.upper()}', \n",
    "      f'{name[0].lower()}{surname.lower()}')"
   ]
  },
  {
   "cell_type": "markdown",
   "metadata": {},
   "source": [
    "**Exercise 2** Alphabetic Telephone Number Translator\n",
    "\n",
    "Many companies use telephone numbers like 555-GET-FOOD so the number is easier for their customers to remember. On a standard telephone, the alphabetic letters are mapped to numbers in the following fashion:\n",
    "\n",
    "A, B, and C ︎= 2\n",
    "\n",
    "D, E, and F = 3\n",
    "\n",
    "G, H, and I = 4\n",
    "\n",
    "J, K, and L = 5\n",
    "\n",
    "M, N, and O = 6 P, Q, R, and S = 7\n",
    "\n",
    "T, U, and V = 8\n",
    "\n",
    "W, X, Y, and Z = 9\n",
    "\n",
    "Write a program that asks the user to enter a 10-character telephone number in the format XXX-XXX-XXXX. The program should display the telephone number with any alphabetic characters that appeared in the original translated to their numeric equivalent. For example, if the user enters 555-GET-FOOD, the program should display 555-438-3663."
   ]
  },
  {
   "cell_type": "code",
   "execution_count": null,
   "metadata": {},
   "outputs": [],
   "source": [
    "# SOLUTION\n",
    "tel = input('Please input telephone number: ').split('-')\n",
    "alph_num_dict = {'A': '2', 'B': '2', 'C': '2',\n",
    "                 'D': '3', 'E': '3', 'F': '3',\n",
    "                 'G': '4', 'H': '4', 'I': '4',\n",
    "                 'J': '5', 'K': '5', 'L': '5',\n",
    "                 'M': '6', 'N': '6', 'O': '6',\n",
    "                 'P': '7', 'Q': '7', 'R': '7', 'S': '7',\n",
    "                 'T': '8', 'U': '8', 'V': '8',\n",
    "                 'W': '9', 'X': '9', 'Y': '9', 'Z': '9'}\n",
    "\n",
    "mid = ''\n",
    "end = ''\n",
    "for char in tel[1]:\n",
    "    mid += alph_num_dict[char]\n",
    "for char in tel[2]:\n",
    "    end += alph_num_dict[char]\n",
    "\n",
    "print(f'{tel[0]}-{mid}-{end}')\n"
   ]
  },
  {
   "cell_type": "markdown",
   "metadata": {},
   "source": [
    "**Exercise 3** Most Frequent Character\n",
    "\n",
    "Write a program that lets the user enter a string and displays the character that appears most frequently in the string."
   ]
  },
  {
   "cell_type": "code",
   "execution_count": null,
   "metadata": {},
   "outputs": [],
   "source": [
    "# SOLUTION\n",
    "string_in = input('Enter a string: ')\n",
    "string_dict = {}\n",
    "\n",
    "for char in string_in:\n",
    "    if char in string_dict:\n",
    "        string_dict[char] += 1\n",
    "    else:\n",
    "        string_dict[char] = 1\n",
    "\n",
    "print(max(string_dict, key = string_dict.get))\n"
   ]
  },
  {
   "cell_type": "markdown",
   "metadata": {},
   "source": [
    "**Exercise 4** Capital Quiz\n",
    "\n",
    "Write a program that creates a dictionary containing the U.S. states as keys and their capitals as values. The program should then randomly quiz the user for 5 times by displaying the name of a state and asking the user to enter that state’s capital. The program should keep a count of the number of correct and incorrect responses."
   ]
  },
  {
   "cell_type": "code",
   "execution_count": null,
   "metadata": {},
   "outputs": [],
   "source": [
    "capital_dic={\n",
    "    'Alabama': 'Montgomery',\n",
    "    'Alaska': 'Juneau',\n",
    "    'Arizona':'Phoenix',\n",
    "    'Arkansas':'Little Rock',\n",
    "    'California': 'Sacramento',\n",
    "    'Colorado':'Denver',\n",
    "    'Connecticut':'Hartford',\n",
    "    'Delaware':'Dover',\n",
    "    'Florida': 'Tallahassee',\n",
    "    'Georgia': 'Atlanta',\n",
    "    'Hawaii': 'Honolulu',\n",
    "    'Idaho': 'Boise',\n",
    "    'Illinios': 'Springfield',\n",
    "    'Indiana': 'Indianapolis',\n",
    "    'Iowa': 'Des Monies',\n",
    "    'Kansas': 'Topeka',\n",
    "    'Kentucky': 'Frankfort',\n",
    "    'Louisiana': 'Baton Rouge',\n",
    "    'Maine': 'Augusta',\n",
    "    'Maryland': 'Annapolis',\n",
    "    'Massachusetts': 'Boston',\n",
    "    'Michigan': 'Lansing',\n",
    "    'Minnesota': 'St. Paul',\n",
    "    'Mississippi': 'Jackson',\n",
    "    'Missouri': 'Jefferson City',\n",
    "    'Montana': 'Helena',\n",
    "    'Nebraska': 'Lincoln',\n",
    "    'Neveda': 'Carson City',\n",
    "    'New Hampshire': 'Concord',\n",
    "    'New Jersey': 'Trenton',\n",
    "    'New Mexico': 'Santa Fe',\n",
    "    'New York': 'Albany',\n",
    "    'North Carolina': 'Raleigh',\n",
    "    'North Dakota': 'Bismarck',\n",
    "    'Ohio': 'Columbus',\n",
    "    'Oklahoma': 'Oklahoma City',\n",
    "    'Oregon': 'Salem',\n",
    "    'Pennsylvania': 'Harrisburg',\n",
    "    'Rhoda Island': 'Providence',\n",
    "    'South Carolina': 'Columbia',\n",
    "    'South Dakoda': 'Pierre',\n",
    "    'Tennessee': 'Nashville',\n",
    "    'Texas': 'Austin',\n",
    "    'Utah': 'Salt Lake City',\n",
    "    'Vermont': 'Montpelier',\n",
    "    'Virginia': 'Richmond',\n",
    "    'Washington': 'Olympia',\n",
    "    'West Virginia': 'Charleston',\n",
    "    'Wisconsin': 'Madison',\n",
    "    'Wyoming': 'Cheyenne'  \n",
    "}"
   ]
  },
  {
   "cell_type": "code",
   "execution_count": null,
   "metadata": {},
   "outputs": [],
   "source": [
    "# SOLUTION\n",
    "import random\n",
    "\n",
    "score = 0\n",
    "cap_dict_keys = list(capital_dic.keys())\n",
    "\n",
    "for i in range(1, 6):\n",
    "    rand_key_index = random.randint(0, len(cap_dict_keys))\n",
    "    ans = input(f'What is the capital of {cap_dict_keys[rand_key_index]}: ')\n",
    "    if capital_dic[cap_dict_keys[rand_key_index]] == ans:\n",
    "        score += 1\n",
    "\n",
    "print('You got', score, 'score!')\n"
   ]
  },
  {
   "cell_type": "markdown",
   "metadata": {},
   "source": [
    "**Exercise 5** Unique Characters\n",
    "\n",
    "Write a function that takes a string as an argument and returns a list of unique characters in the string. Ignore case."
   ]
  },
  {
   "cell_type": "code",
   "execution_count": null,
   "metadata": {},
   "outputs": [],
   "source": [
    "# SOLUTION\n",
    "def unique_char(string_in):\n",
    "    return list(set(string_in.lower()))\n"
   ]
  }
 ],
 "metadata": {
  "kernelspec": {
   "display_name": "Python 3",
   "language": "python",
   "name": "python3"
  },
  "language_info": {
   "codemirror_mode": {
    "name": "ipython",
    "version": 3
   },
   "file_extension": ".py",
   "mimetype": "text/x-python",
   "name": "python",
   "nbconvert_exporter": "python",
   "pygments_lexer": "ipython3",
   "version": "3.7.3"
  }
 },
 "nbformat": 4,
 "nbformat_minor": 2
}
