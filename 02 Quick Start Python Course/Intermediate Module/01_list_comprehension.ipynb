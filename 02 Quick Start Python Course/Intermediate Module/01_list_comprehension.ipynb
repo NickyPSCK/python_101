{
 "cells": [
  {
   "cell_type": "markdown",
   "metadata": {
    "id": "B8KoDiRHV_D5"
   },
   "source": [
    "# List Comprehension"
   ]
  },
  {
   "cell_type": "markdown",
   "metadata": {
    "id": "W8V6YCgvV_D7"
   },
   "source": [
    "## Basic List Comprehension\n",
    "\n",
    "```python\n",
    "list_variable = [x for x in iterable]\n",
    "```"
   ]
  },
  {
   "cell_type": "code",
   "execution_count": null,
   "metadata": {
    "id": "774woBOqV_D7"
   },
   "outputs": [],
   "source": [
    "[x**2 for x in range(10)]"
   ]
  },
  {
   "cell_type": "code",
   "execution_count": null,
   "metadata": {
    "id": "_-gWKw3XV_EB"
   },
   "outputs": [],
   "source": [
    "[2**i for i in range(13)]"
   ]
  },
  {
   "cell_type": "markdown",
   "metadata": {
    "id": "ObFqTJCyV_EF"
   },
   "source": [
    "## List Comprehensions with Conditionals"
   ]
  },
  {
   "cell_type": "markdown",
   "metadata": {
    "id": "XiEwzsK7V_EG"
   },
   "source": [
    "#### If Condition"
   ]
  },
  {
   "cell_type": "code",
   "execution_count": null,
   "metadata": {
    "id": "aYk95XL6V_EG"
   },
   "outputs": [],
   "source": [
    "[i for i in range(13) if i%2 ==0]"
   ]
  },
  {
   "cell_type": "code",
   "execution_count": null,
   "metadata": {
    "id": "R_-u5RcOV_EI"
   },
   "outputs": [],
   "source": [
    "[(i, i+1) for i in range(1, 22) if i%7 ==0]"
   ]
  },
  {
   "cell_type": "markdown",
   "metadata": {
    "id": "-1uP6LBYV_EL"
   },
   "source": [
    "#### Multiple If Conditions"
   ]
  },
  {
   "cell_type": "code",
   "execution_count": null,
   "metadata": {
    "id": "LWyW35NgV_EL"
   },
   "outputs": [],
   "source": [
    "[i for i in range(100) if i % 3 == 0 if i % 5 == 0]"
   ]
  },
  {
   "cell_type": "code",
   "execution_count": null,
   "metadata": {
    "id": "boAr97rfV_EN"
   },
   "outputs": [],
   "source": [
    "[(i, i+1, i+2) for i in range(100) if i % 3 == 0 if i % 5 == 0]"
   ]
  },
  {
   "cell_type": "markdown",
   "metadata": {
    "id": "DVGvqOYuV_EQ"
   },
   "source": [
    "#### If-Else Conditions"
   ]
  },
  {
   "cell_type": "code",
   "execution_count": null,
   "metadata": {
    "id": "M9RU-4AJV_EQ"
   },
   "outputs": [],
   "source": [
    "['even' if x % 2 == 0 else 'odd' for x in range(1, 10)]"
   ]
  },
  {
   "cell_type": "markdown",
   "metadata": {
    "id": "29zT6wY3V_ET"
   },
   "source": [
    "### Nested List Comprehensions"
   ]
  },
  {
   "cell_type": "code",
   "execution_count": null,
   "metadata": {
    "id": "lTs3fA4GV_ET"
   },
   "outputs": [],
   "source": [
    "list_of_list = [[1,2,3],[4,5,6],[7,8]]\n",
    "[y for x in list_of_list for y in x]"
   ]
  },
  {
   "cell_type": "code",
   "execution_count": null,
   "metadata": {
    "id": "kE1RDjuS6vvU"
   },
   "outputs": [],
   "source": [
    "flattened_list = list()\n",
    "for x in list_of_list:\n",
    "    for y in x:\n",
    "      flattened_list.append(y)\n",
    "\n",
    "flattened_list"
   ]
  },
  {
   "cell_type": "code",
   "execution_count": null,
   "metadata": {
    "id": "JSO9e-rE7FM2"
   },
   "outputs": [],
   "source": [
    "flattened_list = [y \n",
    "                  for x in list_of_list \n",
    "                      for y in x]\n",
    "flattened_list"
   ]
  },
  {
   "cell_type": "code",
   "execution_count": null,
   "metadata": {
    "id": "CkWu6B3cV_EV"
   },
   "outputs": [],
   "source": [
    "[[0 for col in range(4)] for row in range(3)]"
   ]
  },
  {
   "cell_type": "code",
   "execution_count": null,
   "metadata": {
    "id": "GfwWIrV7V_EX"
   },
   "outputs": [],
   "source": [
    "matrix = [[1,2,3],[4,5,6],[7,8,9]]\n",
    "[[row[i] for row in matrix] for i in range(3)]"
   ]
  },
  {
   "cell_type": "markdown",
   "metadata": {
    "id": "ss3dZzcxV_Eb"
   },
   "source": [
    "## map() Function"
   ]
  },
  {
   "cell_type": "code",
   "execution_count": null,
   "metadata": {
    "id": "rzB-qyXQV_Eb"
   },
   "outputs": [],
   "source": [
    "# Initialize the `kilometer` list\n",
    "kilometer = [39.2, 36.5, 37.3, 37.8]\n",
    "\n",
    "# Construct `feet` with `map()`\n",
    "feet = map(lambda x: 3280.8399*x, kilometer)\n",
    "\n",
    "# Print `feet` as a list\n",
    "print(list(feet))"
   ]
  },
  {
   "cell_type": "code",
   "execution_count": null,
   "metadata": {
    "id": "X7TCM0D8V_Ee"
   },
   "outputs": [],
   "source": [
    "# Convert `kilometer` to `feet`\n",
    "feet = [3280.8399*x for x in kilometer]\n",
    "\n",
    "# Print `feet`\n",
    "print(feet)"
   ]
  },
  {
   "cell_type": "code",
   "execution_count": null,
   "metadata": {
    "id": "r23lin_z7xBd"
   },
   "outputs": [],
   "source": []
  }
 ],
 "metadata": {
  "colab": {
   "name": "01_list_comprehension.ipynb",
   "provenance": []
  },
  "kernelspec": {
   "display_name": "Python 3",
   "language": "python",
   "name": "python3"
  },
  "language_info": {
   "codemirror_mode": {
    "name": "ipython",
    "version": 3
   },
   "file_extension": ".py",
   "mimetype": "text/x-python",
   "name": "python",
   "nbconvert_exporter": "python",
   "pygments_lexer": "ipython3",
   "version": "3.7.3"
  }
 },
 "nbformat": 4,
 "nbformat_minor": 1
}
