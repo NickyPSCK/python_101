{
 "cells": [
  {
   "cell_type": "markdown",
   "metadata": {
    "id": "iHFZ5jBRSk_8"
   },
   "source": [
    "### Writing and Reading Text Files"
   ]
  },
  {
   "cell_type": "markdown",
   "metadata": {
    "id": "gljTFLLZSk_-"
   },
   "source": [
    "#### 1. Opening and Closing File\n",
    "##### Opening a File\n",
    "\n",
    "```python\n",
    "f = open(filename, mode)\n",
    "```\n",
    "> ###### mode\n",
    ">   - 'r': read \n",
    ">   - 'w': write\n",
    ">   - 'a': append\n",
    "##### Closing a File\n",
    "```python\n",
    "f.close()\n",
    "```"
   ]
  },
  {
   "cell_type": "markdown",
   "metadata": {
    "id": "pPJWjnXQSk__"
   },
   "source": [
    "**Example**"
   ]
  },
  {
   "cell_type": "code",
   "execution_count": null,
   "metadata": {
    "id": "1r8vvm8wSlAB"
   },
   "outputs": [],
   "source": [
    "f = open('file/input/test.txt', 'w')\n",
    "print(f)\n",
    "f.close()"
   ]
  },
  {
   "cell_type": "markdown",
   "metadata": {
    "id": "1rLviSK1SlAI"
   },
   "source": [
    "#### 2. Writing a file\n",
    "\n",
    "##### 1. Use the `.write()` Method\n",
    "\n",
    "```python\n",
    "f.write(str)\n",
    "```"
   ]
  },
  {
   "cell_type": "code",
   "execution_count": null,
   "metadata": {
    "id": "11IGDikmSlAJ"
   },
   "outputs": [],
   "source": [
    "f = open('file/output/example_write.txt', 'w')\n",
    "f.write('This ')\n",
    "f.write('is first line.\\n')\n",
    "f.write('This is second line.')\n",
    "f.close()"
   ]
  },
  {
   "cell_type": "markdown",
   "metadata": {
    "id": "5b_aCvVuSlAN"
   },
   "source": [
    "##### 2. Use the `.writelines()` Method\n",
    "\n",
    "```python\n",
    "f.writelines(sequence_of_strings)\n",
    "```"
   ]
  },
  {
   "cell_type": "code",
   "execution_count": null,
   "metadata": {
    "id": "qrfLG-MTSlAO"
   },
   "outputs": [],
   "source": [
    "f = open('file/output/example_writelines.txt', 'w')\n",
    "f.writelines([\n",
    "         'This ', \n",
    "         'is first line.\\n', \n",
    "         'This is second line.\\n'\n",
    "         'This is third line.'\n",
    "    ])\n",
    "f.close()"
   ]
  },
  {
   "cell_type": "markdown",
   "metadata": {
    "id": "Gdhg1-N-SlAT"
   },
   "source": [
    "#### 3. Context manager `with`\n",
    "```python\n",
    "with open(filename, mode) as f:\n",
    "    # do stuff\n",
    "```\n",
    "##### 1. Use the `.write()` Method\n",
    "\n",
    "```python\n",
    "f.write(str)\n",
    "```"
   ]
  },
  {
   "cell_type": "code",
   "execution_count": null,
   "metadata": {
    "id": "_gleiA_QSlAV"
   },
   "outputs": [],
   "source": [
    "with open('file/output/example_with_write.txt', 'w') as f:\n",
    "    f.write('This ')\n",
    "    f.write('is first line.\\n')\n",
    "    f.write('This is second line.')"
   ]
  },
  {
   "cell_type": "markdown",
   "metadata": {
    "id": "B3gZSBJlSlAa"
   },
   "source": [
    "##### 2. Use the `.writelines()` Method\n",
    "\n",
    "```python\n",
    "f.writelines(sequence_of_strings)\n",
    "```"
   ]
  },
  {
   "cell_type": "code",
   "execution_count": null,
   "metadata": {
    "id": "JHbQyoImSlAb"
   },
   "outputs": [],
   "source": [
    "# Rewrite writelines() example using with\n",
    "with open('file/output/example_with_writelines.txt', 'w') as f:\n",
    "    f.writelines([\n",
    "         'This ', \n",
    "         'is first line.\\n', \n",
    "         'This is second line.\\n'\n",
    "         'This is third line.'\n",
    "        ])"
   ]
  },
  {
   "cell_type": "markdown",
   "metadata": {
    "id": "ZX-MSUh6SlAe"
   },
   "source": [
    "#### 4. Reading a file\n",
    "\n",
    "##### 1. Use the `.read()` Method\n",
    "\n",
    "```python\n",
    "f.read(size)\n",
    "```"
   ]
  },
  {
   "cell_type": "code",
   "execution_count": null,
   "metadata": {
    "id": "dvLkQh28SlAf"
   },
   "outputs": [],
   "source": [
    "with open('file/input/example.txt', 'r') as f:\n",
    "    data = f.read()\n",
    "\n",
    "print(data)\n",
    "data"
   ]
  },
  {
   "cell_type": "code",
   "execution_count": null,
   "metadata": {
    "id": "q9YRIlI9SlAl"
   },
   "outputs": [],
   "source": [
    "with open('file/input/example.txt', 'r') as f:\n",
    "    first_five_chars = f.read(5)\n",
    "    the_rest = f.read()\n",
    "    \n",
    "print('The first 5 characters:', first_five_chars)\n",
    "print('The rest of the file:', the_rest)"
   ]
  },
  {
   "cell_type": "markdown",
   "metadata": {
    "id": "o53RVCvmSlAq"
   },
   "source": [
    "##### 2. Use the `.readline()` Method\n",
    "\n",
    "```python\n",
    "f.readline()\n",
    "```"
   ]
  },
  {
   "cell_type": "code",
   "execution_count": null,
   "metadata": {
    "id": "0hUJN4hsSlAr"
   },
   "outputs": [],
   "source": [
    "with open('file/input/example.txt', 'r') as f:\n",
    "    first_line = f.readline()\n",
    "    second_line = f.readline()\n",
    "    third_line = f.readline()\n",
    "    fourth_line = f.readline()\n",
    "    fifth_line = f.readline()\n",
    "    \n",
    "print(first_line)\n",
    "print(second_line)\n",
    "print(third_line)\n",
    "print(fourth_line)\n",
    "print(fifth_line)"
   ]
  },
  {
   "cell_type": "markdown",
   "metadata": {
    "id": "u56oyf6pSlAv"
   },
   "source": [
    "##### 3. Use the `.readlines()` Method\n",
    "\n",
    "```python\n",
    "f.readlines()\n",
    "```"
   ]
  },
  {
   "cell_type": "code",
   "execution_count": null,
   "metadata": {
    "id": "bkv2o1F8SlAw"
   },
   "outputs": [],
   "source": [
    "with open('file/input/example.txt', 'r') as f:\n",
    "    data = f.readlines()\n",
    "data"
   ]
  },
  {
   "cell_type": "code",
   "execution_count": null,
   "metadata": {
    "id": "a3H2u0WuSlA0"
   },
   "outputs": [],
   "source": [
    "for line in data:\n",
    "    print(line)"
   ]
  },
  {
   "cell_type": "code",
   "execution_count": null,
   "metadata": {
    "id": "rshUm5UbSlA6"
   },
   "outputs": [],
   "source": [
    "for line in data:\n",
    "    print(line, end='')"
   ]
  },
  {
   "cell_type": "code",
   "execution_count": null,
   "metadata": {
    "id": "GXuW5h3iSlA-"
   },
   "outputs": [],
   "source": [
    "for line in data:\n",
    "    print(line.rstrip())"
   ]
  },
  {
   "cell_type": "code",
   "execution_count": null,
   "metadata": {
    "id": "mY-osCmuSlBB"
   },
   "outputs": [],
   "source": [
    "for line in data:\n",
    "    print(line.lstrip())"
   ]
  },
  {
   "cell_type": "markdown",
   "metadata": {
    "id": "ndCslLzJSlBF"
   },
   "source": [
    "##### 4. Use File objects"
   ]
  },
  {
   "cell_type": "code",
   "execution_count": null,
   "metadata": {
    "id": "t7KQuZ1DSlBF"
   },
   "outputs": [],
   "source": [
    "with open('file/input/example.txt', 'r') as f:\n",
    "    for line in f:\n",
    "        print(line.rstrip())"
   ]
  },
  {
   "cell_type": "markdown",
   "metadata": {
    "id": "jiAYwPkiSlBK"
   },
   "source": [
    "#### 5. Handling multiple files with context managers"
   ]
  },
  {
   "cell_type": "code",
   "execution_count": null,
   "metadata": {
    "id": "kk475fC6SlBK"
   },
   "outputs": [],
   "source": [
    "with open('file/input/example.txt', 'r') as source_file, open('file/output/copy_of_example.txt', 'w') as destination_file:\n",
    "    destination_file.write('Copy\\n')\n",
    "    \n",
    "    for line in source_file:\n",
    "        destination_file.write(line)"
   ]
  },
  {
   "cell_type": "markdown",
   "metadata": {
    "id": "Id8VuweLSlBO"
   },
   "source": [
    "### Writing and Reading CSV Files\n",
    "https://docs.python.org/3/library/csv.html"
   ]
  },
  {
   "cell_type": "markdown",
   "metadata": {
    "id": "B3bdp5yVSlBP"
   },
   "source": [
    "#### 1. Reading CSV file\n",
    "\n",
    ">Note that:\n",
    "> - The online Python documentation (https://docs.python.org/3/library/csv.html) recommends that CSV files should be opened with `newline=''`.   \n",
    "> - In Python 3, opening CSV files with `newline = ''` allows the csv module to determine line breaks for itself. If you do not specify `newline = ''` then newlines within quoted fields will be interpreted incorrectly.\n",
    "\n",
    "##### 1. Use the `csv.reader` Object"
   ]
  },
  {
   "cell_type": "code",
   "execution_count": null,
   "metadata": {
    "id": "-i6ybeqTSlBQ",
    "scrolled": false
   },
   "outputs": [],
   "source": [
    "import csv\n",
    "table = []\n",
    "with open('file/input/example_csv.csv', 'r', newline='') as f:\n",
    "    reader = csv.reader(f)\n",
    "\n",
    "    for row in reader:\n",
    "        print(row)\n",
    "        table.append(row)\n",
    "        \n",
    "print()\n",
    "print(table)"
   ]
  },
  {
   "cell_type": "markdown",
   "metadata": {
    "id": "mim2R5A-SlBT"
   },
   "source": [
    "##### 2. Use the `csv.DictReader` Object\n",
    "- CSV file with header"
   ]
  },
  {
   "cell_type": "code",
   "execution_count": null,
   "metadata": {
    "id": "d4qaBkfySlBU",
    "scrolled": true
   },
   "outputs": [],
   "source": [
    "import csv\n",
    "with open('file/input/example_csv.csv', 'r', newline='') as f:\n",
    "    \n",
    "    reader = csv.DictReader(f)\n",
    "    header = reader.fieldnames\n",
    "    print(header)\n",
    "    \n",
    "    for row in reader:\n",
    "        print(row)"
   ]
  },
  {
   "cell_type": "markdown",
   "metadata": {
    "id": "RIVNdBVSSlBY"
   },
   "source": [
    "- CSV file without header"
   ]
  },
  {
   "cell_type": "code",
   "execution_count": null,
   "metadata": {
    "id": "fjbXIy4jSlBY"
   },
   "outputs": [],
   "source": [
    "import csv\n",
    "with open('file/input/example_csv_wo_head.csv', 'r', newline='') as f:\n",
    "    \n",
    "    fieldnames = ['Name', 'Age', 'Sex', 'Tel']\n",
    "    reader = csv.DictReader(f, fieldnames=fieldnames)\n",
    "\n",
    "    for row in reader:\n",
    "        print(row)"
   ]
  },
  {
   "cell_type": "markdown",
   "metadata": {
    "id": "0tHT9WFJSlBc"
   },
   "source": [
    "#### 2. Writing CSV file\n",
    "\n",
    "##### 1. Use the `csv.writer` Object"
   ]
  },
  {
   "cell_type": "code",
   "execution_count": null,
   "metadata": {
    "id": "RKf-RWKgSlBd"
   },
   "outputs": [],
   "source": [
    "import csv\n",
    "table = [['001', 'John', 'Engineer'],\n",
    "         ['002','Bill', 'Programmer'], \n",
    "         ['003','Peter', 'Supervisor'], \n",
    "         ['004','Neal', 'Supervisor'], \n",
    "         ['005','June', 'Programmer'], \n",
    "         ['006','Pat', 'Engineer']]\n",
    "    \n",
    "with open('file/output/csv_writer.csv', 'w', newline='') as f:\n",
    "    writer = csv.writer(f)\n",
    "    writer.writerow(['Code', 'Name', 'Position'])  # write header\n",
    "    writer.writerows(table)   # write rows"
   ]
  },
  {
   "cell_type": "markdown",
   "metadata": {
    "id": "SkdmeEYHSlBg"
   },
   "source": [
    "##### 2. Use the `csv.DictWriter` Object"
   ]
  },
  {
   "cell_type": "code",
   "execution_count": null,
   "metadata": {
    "id": "zh40FkmySlBh"
   },
   "outputs": [],
   "source": [
    "import csv\n",
    "\n",
    "table = [{'Code':'001', 'Name':'John', 'Position':'Engineer'},\n",
    "         {'Code':'002', 'Name':'Bill', 'Position':'Programmer'}, \n",
    "         {'Code':'003', 'Name':'Peter', 'Position':'Supervisor'}, \n",
    "         {'Code':'004', 'Name':'Neal', 'Position':'Supervisor'}, \n",
    "         {'Code':'005', 'Name':'June', 'Position':'Programmer'}, \n",
    "         {'Code':'006', 'Name':'Pat', 'Position':'Engineer'}]\n",
    "    \n",
    "with open('file/output/csv_dictwriter.csv', 'w', newline='') as f:\n",
    "    fieldnames = table[0].keys() # Header\n",
    "    writer = csv.DictWriter(f, fieldnames=fieldnames)\n",
    "    writer.writeheader()         # write header\n",
    "    writer.writerows(table)      # write rows"
   ]
  },
  {
   "cell_type": "markdown",
   "metadata": {
    "id": "sX4RkOhCSlBk"
   },
   "source": [
    "### Writing and Reading Config Files\n",
    "https://docs.python.org/3/library/configparser.html"
   ]
  },
  {
   "cell_type": "markdown",
   "metadata": {
    "id": "jPf__BLNSlBl"
   },
   "source": [
    "#### 1. Writing Config FIle"
   ]
  },
  {
   "cell_type": "code",
   "execution_count": null,
   "metadata": {
    "id": "x3T4o6acSlBl"
   },
   "outputs": [],
   "source": [
    "import configparser\n",
    "config = configparser.ConfigParser()\n",
    "\n",
    "config['DEFAULT'] = {'ServerAliveInterval': '45', 'Compression': 'yes', 'CompressionLevel': '9'}\n",
    "\n",
    "config['bitbucket.org'] = {}\n",
    "config['bitbucket.org']['User'] = 'hg'\n",
    "\n",
    "config['topsecret.server.com'] = {}\n",
    "config['topsecret.server.com']['Port'] = '50022'     \n",
    "config['topsecret.server.com']['ForwardX11'] = 'no' \n",
    "\n",
    "config['DEFAULT']['ForwardX11'] = 'yes'\n",
    "\n",
    "with open('file/output/example.ini', 'w') as configfile:\n",
    "    config.write(configfile)"
   ]
  },
  {
   "cell_type": "markdown",
   "metadata": {
    "id": "WnL34LFDSlBr"
   },
   "source": [
    "After run the script above, the example.ini contains the data below:\n",
    "```\n",
    "[DEFAULT]\n",
    "ServerAliveInterval = 45\n",
    "Compression = yes\n",
    "CompressionLevel = 9\n",
    "ForwardX11 = yes\n",
    "\n",
    "[bitbucket.org]\n",
    "User = hg\n",
    "\n",
    "[topsecret.server.com]\n",
    "Port = 50022\n",
    "ForwardX11 = no\n",
    "```"
   ]
  },
  {
   "cell_type": "markdown",
   "metadata": {
    "id": "Py23OwnASlBs"
   },
   "source": [
    "#### 2. Reading Config FIle"
   ]
  },
  {
   "cell_type": "code",
   "execution_count": null,
   "metadata": {
    "id": "kH79N3FdSlBt"
   },
   "outputs": [],
   "source": [
    "import configparser\n",
    "config = configparser.ConfigParser()\n",
    "config.sections()"
   ]
  },
  {
   "cell_type": "code",
   "execution_count": null,
   "metadata": {
    "id": "zJNqVtVGSlBy"
   },
   "outputs": [],
   "source": [
    "config.read('file/output/example.ini')"
   ]
  },
  {
   "cell_type": "code",
   "execution_count": null,
   "metadata": {
    "id": "9dPghEUuSlB2"
   },
   "outputs": [],
   "source": [
    "config.sections()"
   ]
  },
  {
   "cell_type": "code",
   "execution_count": null,
   "metadata": {
    "id": "DPe6i3zWSlB6"
   },
   "outputs": [],
   "source": [
    "print('bitbucket.org' in config)\n",
    "print('bytebong.com' in config)"
   ]
  },
  {
   "cell_type": "code",
   "execution_count": null,
   "metadata": {
    "id": "mm6VeO6JSlB_"
   },
   "outputs": [],
   "source": [
    "print(config['bitbucket.org']['User'])\n",
    "print(config['DEFAULT']['Compression'])"
   ]
  },
  {
   "cell_type": "code",
   "execution_count": null,
   "metadata": {
    "id": "f0EjCOEPSlCG"
   },
   "outputs": [],
   "source": [
    "topsecret = config['topsecret.server.com']\n",
    "print(topsecret['ForwardX11'])\n",
    "print(topsecret['Port'])"
   ]
  },
  {
   "cell_type": "code",
   "execution_count": null,
   "metadata": {
    "id": "RkngEjW2SlCM"
   },
   "outputs": [],
   "source": [
    "for key in config['bitbucket.org']:  \n",
    "    print(key)"
   ]
  },
  {
   "cell_type": "code",
   "execution_count": null,
   "metadata": {
    "id": "9Uwkd_-dSlCQ"
   },
   "outputs": [],
   "source": [
    "config['bitbucket.org']['ForwardX11']"
   ]
  }
 ],
 "metadata": {
  "colab": {
   "collapsed_sections": [],
   "name": "03_w_and_r_text_csv_ini.ipynb",
   "provenance": [],
   "toc_visible": true
  },
  "kernelspec": {
   "display_name": "Python 3",
   "language": "python",
   "name": "python3"
  },
  "language_info": {
   "codemirror_mode": {
    "name": "ipython",
    "version": 3
   },
   "file_extension": ".py",
   "mimetype": "text/x-python",
   "name": "python",
   "nbconvert_exporter": "python",
   "pygments_lexer": "ipython3",
   "version": "3.7.3"
  }
 },
 "nbformat": 4,
 "nbformat_minor": 1
}
