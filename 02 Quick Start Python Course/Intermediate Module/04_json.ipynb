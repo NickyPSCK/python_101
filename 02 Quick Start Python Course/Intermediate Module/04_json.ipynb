{
 "cells": [
  {
   "cell_type": "markdown",
   "metadata": {
    "id": "XNQabcbXy5WT"
   },
   "source": [
    "### JSON\n",
    "https://docs.python.org/3/library/json.html"
   ]
  },
  {
   "cell_type": "markdown",
   "metadata": {
    "id": "LHWWWiQNy5WU"
   },
   "source": [
    "#### 1. JSON Encoding\n",
    "```python\n",
    "import json\n",
    "json_string = json.dumps(obj, sort_keys, indent)\n",
    "```"
   ]
  },
  {
   "cell_type": "code",
   "execution_count": null,
   "metadata": {
    "id": "gqzMSFxyy5WV",
    "tags": []
   },
   "outputs": [],
   "source": [
    "import json\n",
    "\n",
    "portfolio = [\n",
    " {'name': 'PTT', 'date': '2007-06-11', 'shares': 100, 'price': 32.2},\n",
    " {'name': 'PTTEP', 'date': '2007-05-13', 'shares': 50, 'price': 77.25},\n",
    " {'name': 'THAI', 'date': '2006-09-23', 'shares': 150, 'price': 3.0},\n",
    " {'name': 'BAY', 'date': '2007-05-17', 'shares': 200, 'price': 19.6},\n",
    " {'name': 'SCC', 'date': '2006-02-01', 'shares': 95, 'price': 338.00},\n",
    " {'name': 'PTTGC', 'date': '2006-10-31', 'shares': 50, 'price': 39.75},\n",
    " {'name': 'MFEC', 'date': '2006-07-09', 'shares': 100, 'price': 4.7}\n",
    "]\n",
    "\n",
    "print(type(portfolio))\n",
    "print()\n",
    "print(portfolio)\n",
    "print()\n",
    "json_data = json.dumps(portfolio, sort_keys=True, indent=4)\n",
    "print(type(json_data))\n",
    "print()\n",
    "print(json_data)"
   ]
  },
  {
   "cell_type": "markdown",
   "metadata": {
    "id": "ho5kfKvmy5WY"
   },
   "source": [
    "#### 2. JSON decoding\n",
    "```python\n",
    "import json\n",
    "obj = json.loads(str)\n",
    "```"
   ]
  },
  {
   "cell_type": "code",
   "execution_count": null,
   "metadata": {
    "id": "mZTu2uF3y5WY",
    "tags": []
   },
   "outputs": [],
   "source": [
    "import json\n",
    "data = json.loads(json_data)\n",
    "print(type(data))\n",
    "print()\n",
    "print(data)"
   ]
  }
 ],
 "metadata": {
  "colab": {
   "name": "03_json.ipynb",
   "provenance": []
  },
  "kernelspec": {
   "display_name": "Python 3",
   "language": "python",
   "name": "python3"
  },
  "language_info": {
   "codemirror_mode": {
    "name": "ipython",
    "version": 3
   },
   "file_extension": ".py",
   "mimetype": "text/x-python",
   "name": "python",
   "nbconvert_exporter": "python",
   "pygments_lexer": "ipython3",
   "version": "3.7.3"
  }
 },
 "nbformat": 4,
 "nbformat_minor": 1
}
