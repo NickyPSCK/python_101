{
 "cells": [
  {
   "cell_type": "markdown",
   "metadata": {
    "id": "y2aVUiNwSNGS"
   },
   "source": [
    "# More on Functions"
   ]
  },
  {
   "cell_type": "markdown",
   "metadata": {
    "id": "Ca7lh5CNSNGo"
   },
   "source": [
    "## Returning Multiple Values\n",
    "Functions can return only one object. You can use a tuple to return multiple values from a function, as shown here:"
   ]
  },
  {
   "cell_type": "code",
   "execution_count": null,
   "metadata": {
    "colab": {
     "base_uri": "https://localhost:8080/",
     "height": 35
    },
    "executionInfo": {
     "elapsed": 1633,
     "status": "ok",
     "timestamp": 1601947024639,
     "user": {
      "displayName": "Tomtong Natomtong",
      "photoUrl": "",
      "userId": "07193057629022941938"
     },
     "user_tz": -420
    },
    "id": "BYlWRWwqSNGp",
    "outputId": "f631dd69-3098-42cb-e289-8f04a8468d51"
   },
   "outputs": [],
   "source": [
    "def divide(a,b):\n",
    "    q = a // b     # If a and b are integers, q is integer \n",
    "    r = a - q*b\n",
    "    return (q,r)\n",
    "\n",
    "quotient, remainder = divide(17,5) # Unplack\n",
    "print(quotient, remainder)"
   ]
  },
  {
   "cell_type": "markdown",
   "metadata": {
    "id": "vMnl2WoaCXxV"
   },
   "source": [
    "## Yield"
   ]
  },
  {
   "cell_type": "code",
   "execution_count": null,
   "metadata": {
    "id": "VnNL6J6ACXxW"
   },
   "outputs": [],
   "source": [
    "def simpleGeneratorFun(): \n",
    "    yield 1\n",
    "    yield 2\n",
    "    yield 3"
   ]
  },
  {
   "cell_type": "code",
   "execution_count": null,
   "metadata": {
    "colab": {
     "base_uri": "https://localhost:8080/",
     "height": 35
    },
    "executionInfo": {
     "elapsed": 2306,
     "status": "ok",
     "timestamp": 1601947027903,
     "user": {
      "displayName": "Tomtong Natomtong",
      "photoUrl": "",
      "userId": "07193057629022941938"
     },
     "user_tz": -420
    },
    "id": "sPDzW1yVCXxd",
    "outputId": "d28ed3ea-5310-422d-e893-c289e166c1ae"
   },
   "outputs": [],
   "source": [
    "a = simpleGeneratorFun()\n",
    "a"
   ]
  },
  {
   "cell_type": "code",
   "execution_count": null,
   "metadata": {
    "colab": {
     "base_uri": "https://localhost:8080/",
     "height": 71
    },
    "executionInfo": {
     "elapsed": 2198,
     "status": "ok",
     "timestamp": 1601947029414,
     "user": {
      "displayName": "Tomtong Natomtong",
      "photoUrl": "",
      "userId": "07193057629022941938"
     },
     "user_tz": -420
    },
    "id": "doc8M8hdCXxk",
    "outputId": "87178de0-5f94-46f1-970a-bb68832d4da7"
   },
   "outputs": [],
   "source": [
    "for i in a:\n",
    "    print(i)"
   ]
  },
  {
   "cell_type": "code",
   "execution_count": null,
   "metadata": {
    "colab": {
     "base_uri": "https://localhost:8080/",
     "height": 71
    },
    "executionInfo": {
     "elapsed": 2327,
     "status": "ok",
     "timestamp": 1601947031081,
     "user": {
      "displayName": "Tomtong Natomtong",
      "photoUrl": "",
      "userId": "07193057629022941938"
     },
     "user_tz": -420
    },
    "id": "xzXEfUdnCXxq",
    "outputId": "23d999f8-f895-44ef-89e6-c46dd71a6539"
   },
   "outputs": [],
   "source": [
    "a = simpleGeneratorFun()\n",
    "print(next(a))\n",
    "print(next(a))\n",
    "print(next(a))"
   ]
  },
  {
   "cell_type": "code",
   "execution_count": null,
   "metadata": {
    "colab": {
     "base_uri": "https://localhost:8080/",
     "height": 71
    },
    "executionInfo": {
     "elapsed": 1225,
     "status": "ok",
     "timestamp": 1601947039622,
     "user": {
      "displayName": "Tomtong Natomtong",
      "photoUrl": "",
      "userId": "07193057629022941938"
     },
     "user_tz": -420
    },
    "id": "Qsg710zmCXxz",
    "outputId": "272ef545-af83-4fe0-c888-2db6677f4696"
   },
   "outputs": [],
   "source": [
    "def prime(n):\n",
    "    for i in range(1, n+1):\n",
    "        \n",
    "        is_prime = True\n",
    "        for p in range(2, i):\n",
    "            if i%p == 0:\n",
    "                is_prime = False\n",
    "                continue\n",
    "                \n",
    "        if is_prime:\n",
    "            yield i\n",
    "\n",
    "a = prime(10000)\n",
    "\n",
    "print(next(a))\n",
    "print(next(a))\n",
    "print(next(a))            "
   ]
  },
  {
   "cell_type": "markdown",
   "metadata": {
    "id": "wgnPQ5nlSNGr"
   },
   "source": [
    "## Positional and Keyword Arguments"
   ]
  },
  {
   "cell_type": "code",
   "execution_count": null,
   "metadata": {
    "id": "Z38CyVM5SNGr"
   },
   "outputs": [],
   "source": [
    "def menu(entree, drink, dessert):\n",
    "    print('entree:', entree)\n",
    "    print('drink:', drink)\n",
    "    print('dessert:', dessert)"
   ]
  },
  {
   "cell_type": "code",
   "execution_count": null,
   "metadata": {
    "colab": {
     "base_uri": "https://localhost:8080/",
     "height": 71
    },
    "executionInfo": {
     "elapsed": 686,
     "status": "ok",
     "timestamp": 1601947063724,
     "user": {
      "displayName": "Tomtong Natomtong",
      "photoUrl": "",
      "userId": "07193057629022941938"
     },
     "user_tz": -420
    },
    "id": "EeHP6SrCSNGu",
    "outputId": "592b0205-24a3-4460-887d-ce1b990ed92f"
   },
   "outputs": [],
   "source": [
    "menu('beef', 'orange juice', 'cheese cake')"
   ]
  },
  {
   "cell_type": "code",
   "execution_count": null,
   "metadata": {
    "colab": {
     "base_uri": "https://localhost:8080/",
     "height": 71
    },
    "executionInfo": {
     "elapsed": 773,
     "status": "ok",
     "timestamp": 1601947064243,
     "user": {
      "displayName": "Tomtong Natomtong",
      "photoUrl": "",
      "userId": "07193057629022941938"
     },
     "user_tz": -420
    },
    "id": "RrqugqNjSNGw",
    "outputId": "9432a12e-9793-4848-af69-3c8e3232ff10"
   },
   "outputs": [],
   "source": [
    "menu('beef', 'cheese cake', 'orange juice')"
   ]
  },
  {
   "cell_type": "markdown",
   "metadata": {
    "id": "HYAt6vj9SNGz"
   },
   "source": [
    "You can also call a function using keyword arguments, passing each argument in the form `name=value`. The arguments can appear in any order using keyword arguments."
   ]
  },
  {
   "cell_type": "code",
   "execution_count": null,
   "metadata": {
    "colab": {
     "base_uri": "https://localhost:8080/",
     "height": 71
    },
    "executionInfo": {
     "elapsed": 1243,
     "status": "ok",
     "timestamp": 1601947077153,
     "user": {
      "displayName": "Tomtong Natomtong",
      "photoUrl": "",
      "userId": "07193057629022941938"
     },
     "user_tz": -420
    },
    "id": "ri_mj7O_SNG0",
    "outputId": "7b0df595-ac10-4004-dd7b-38e10443aac5"
   },
   "outputs": [],
   "source": [
    "menu(entree='beef', dessert='cheese cake', drink='orange juice')"
   ]
  },
  {
   "cell_type": "markdown",
   "metadata": {
    "id": "zbTirDcdSNG2"
   },
   "source": [
    "It is possible to mix positional arguments with keyword arguments, but you need to make sure that:\n",
    "- Positional arguments must be provided before keyword arguments\n",
    "- No argument is provided twice.\n",
    "- All the required arguments are provided."
   ]
  },
  {
   "cell_type": "code",
   "execution_count": null,
   "metadata": {
    "colab": {
     "base_uri": "https://localhost:8080/",
     "height": 71
    },
    "executionInfo": {
     "elapsed": 1119,
     "status": "ok",
     "timestamp": 1601947079532,
     "user": {
      "displayName": "Tomtong Natomtong",
      "photoUrl": "",
      "userId": "07193057629022941938"
     },
     "user_tz": -420
    },
    "id": "fj93ELDpSNG2",
    "outputId": "bb12e9aa-3a14-417b-d57b-5be6c3aa12e8"
   },
   "outputs": [],
   "source": [
    "menu('beef', dessert='cheese cake', drink='orange juice')"
   ]
  },
  {
   "cell_type": "code",
   "execution_count": null,
   "metadata": {
    "colab": {
     "base_uri": "https://localhost:8080/",
     "height": 134
    },
    "executionInfo": {
     "elapsed": 674,
     "status": "error",
     "timestamp": 1601947080199,
     "user": {
      "displayName": "Tomtong Natomtong",
      "photoUrl": "",
      "userId": "07193057629022941938"
     },
     "user_tz": -420
    },
    "id": "1xBb2gZhSNG5",
    "outputId": "7c4549e4-ff6a-4043-9745-b170c864eb31"
   },
   "outputs": [],
   "source": [
    "menu(entree='beef', 'orange juice', dessert='cheese cake')"
   ]
  },
  {
   "cell_type": "code",
   "execution_count": null,
   "metadata": {
    "colab": {
     "base_uri": "https://localhost:8080/",
     "height": 170
    },
    "executionInfo": {
     "elapsed": 1113,
     "status": "error",
     "timestamp": 1601947095240,
     "user": {
      "displayName": "Tomtong Natomtong",
      "photoUrl": "",
      "userId": "07193057629022941938"
     },
     "user_tz": -420
    },
    "id": "NsEXo9L-SNG7",
    "outputId": "a7ffec9a-129c-48fa-c0ec-13ff8da1ea39"
   },
   "outputs": [],
   "source": [
    "menu('beef', 'cheese cake', drink='orange juice')"
   ]
  },
  {
   "cell_type": "markdown",
   "metadata": {
    "id": "n-O1jSp6SNG9"
   },
   "source": [
    "## Default Values"
   ]
  },
  {
   "cell_type": "code",
   "execution_count": null,
   "metadata": {
    "id": "8_LmpnjiSNG9"
   },
   "outputs": [],
   "source": [
    "def menu(entree='beef', drink='orange juice', dessert='cheese cake'):\n",
    "    print('entree:', entree)\n",
    "    print('drink:', drink)\n",
    "    print('dessert:', dessert)"
   ]
  },
  {
   "cell_type": "code",
   "execution_count": null,
   "metadata": {
    "colab": {
     "base_uri": "https://localhost:8080/",
     "height": 71
    },
    "executionInfo": {
     "elapsed": 1248,
     "status": "ok",
     "timestamp": 1601947110692,
     "user": {
      "displayName": "Tomtong Natomtong",
      "photoUrl": "",
      "userId": "07193057629022941938"
     },
     "user_tz": -420
    },
    "id": "kAwvM_6iSNHA",
    "outputId": "b1d4fddf-ec95-43aa-bc99-22ca02c14048"
   },
   "outputs": [],
   "source": [
    "menu()"
   ]
  },
  {
   "cell_type": "code",
   "execution_count": null,
   "metadata": {
    "colab": {
     "base_uri": "https://localhost:8080/",
     "height": 71
    },
    "executionInfo": {
     "elapsed": 973,
     "status": "ok",
     "timestamp": 1601947110695,
     "user": {
      "displayName": "Tomtong Natomtong",
      "photoUrl": "",
      "userId": "07193057629022941938"
     },
     "user_tz": -420
    },
    "id": "o3epgmysSNHD",
    "outputId": "de0519fc-ede3-429e-d37d-1756baa4241a"
   },
   "outputs": [],
   "source": [
    "menu(entree='chicken', drink='coffee')"
   ]
  },
  {
   "cell_type": "code",
   "execution_count": null,
   "metadata": {
    "colab": {
     "base_uri": "https://localhost:8080/",
     "height": 71
    },
    "executionInfo": {
     "elapsed": 771,
     "status": "ok",
     "timestamp": 1601947110697,
     "user": {
      "displayName": "Tomtong Natomtong",
      "photoUrl": "",
      "userId": "07193057629022941938"
     },
     "user_tz": -420
    },
    "id": "BzF_ZjgISNHE",
    "outputId": "9ed373db-efc0-4109-9e61-4209cf44999e"
   },
   "outputs": [],
   "source": [
    "menu('chicken', drink='coffee')"
   ]
  },
  {
   "cell_type": "code",
   "execution_count": null,
   "metadata": {
    "colab": {
     "base_uri": "https://localhost:8080/",
     "height": 71
    },
    "executionInfo": {
     "elapsed": 1196,
     "status": "ok",
     "timestamp": 1601947111316,
     "user": {
      "displayName": "Tomtong Natomtong",
      "photoUrl": "",
      "userId": "07193057629022941938"
     },
     "user_tz": -420
    },
    "id": "TiOLn208SNHG",
    "outputId": "34f161d7-2568-4e84-ea1a-22d3a9fb7036"
   },
   "outputs": [],
   "source": [
    "menu(entree='chicken', dessert='ice cream')"
   ]
  },
  {
   "cell_type": "markdown",
   "metadata": {
    "id": "_hTJEIxISNHI"
   },
   "source": [
    "## Issues with Default Values"
   ]
  },
  {
   "cell_type": "code",
   "execution_count": null,
   "metadata": {
    "id": "0dOcFT_VSNHI"
   },
   "outputs": [],
   "source": [
    "def test_func(x, lis=[]):\n",
    "    lis.append(x)\n",
    "    return lis"
   ]
  },
  {
   "cell_type": "markdown",
   "metadata": {
    "id": "TbjhyU_GSNHK"
   },
   "source": [
    "### No issue"
   ]
  },
  {
   "cell_type": "code",
   "execution_count": null,
   "metadata": {
    "colab": {
     "base_uri": "https://localhost:8080/",
     "height": 35
    },
    "executionInfo": {
     "elapsed": 1156,
     "status": "ok",
     "timestamp": 1601947117768,
     "user": {
      "displayName": "Tomtong Natomtong",
      "photoUrl": "",
      "userId": "07193057629022941938"
     },
     "user_tz": -420
    },
    "id": "QCHveOA1SNHK",
    "outputId": "38536f83-2aab-4daa-a061-7cff69f104a9"
   },
   "outputs": [],
   "source": [
    "my_list = [1, 2, 3]\n",
    "result = test_func(100, my_list)\n",
    "print(result)"
   ]
  },
  {
   "cell_type": "code",
   "execution_count": null,
   "metadata": {
    "colab": {
     "base_uri": "https://localhost:8080/",
     "height": 35
    },
    "executionInfo": {
     "elapsed": 837,
     "status": "ok",
     "timestamp": 1601947118563,
     "user": {
      "displayName": "Tomtong Natomtong",
      "photoUrl": "",
      "userId": "07193057629022941938"
     },
     "user_tz": -420
    },
    "id": "P7z8aVRFSNHM",
    "outputId": "d2b9aeb1-98ef-4b6f-83ba-a60e5d4580f7"
   },
   "outputs": [],
   "source": [
    "my_list = [1, 2, 3]\n",
    "result = test_func(200, my_list)\n",
    "print(result)"
   ]
  },
  {
   "cell_type": "markdown",
   "metadata": {
    "id": "BAO3Rj7HSNHO"
   },
   "source": [
    "### Issue"
   ]
  },
  {
   "cell_type": "code",
   "execution_count": null,
   "metadata": {
    "colab": {
     "base_uri": "https://localhost:8080/",
     "height": 35
    },
    "executionInfo": {
     "elapsed": 1138,
     "status": "ok",
     "timestamp": 1601947123540,
     "user": {
      "displayName": "Tomtong Natomtong",
      "photoUrl": "",
      "userId": "07193057629022941938"
     },
     "user_tz": -420
    },
    "id": "e6CJzkA5SNHO",
    "outputId": "e652615d-9507-4d3f-8977-63766a91d453"
   },
   "outputs": [],
   "source": [
    "result = test_func(500)\n",
    "print(result)"
   ]
  },
  {
   "cell_type": "code",
   "execution_count": null,
   "metadata": {
    "colab": {
     "base_uri": "https://localhost:8080/",
     "height": 35
    },
    "executionInfo": {
     "elapsed": 1038,
     "status": "ok",
     "timestamp": 1601947125484,
     "user": {
      "displayName": "Tomtong Natomtong",
      "photoUrl": "",
      "userId": "07193057629022941938"
     },
     "user_tz": -420
    },
    "id": "hDt8xXViSNHR",
    "outputId": "9a829ab3-5ed9-4df9-c8d1-ec47b1a85776"
   },
   "outputs": [],
   "source": [
    "result = test_func(500)\n",
    "print(result)"
   ]
  },
  {
   "cell_type": "markdown",
   "metadata": {
    "id": "XpqN6DvBSNHT"
   },
   "source": [
    "### Solution"
   ]
  },
  {
   "cell_type": "code",
   "execution_count": null,
   "metadata": {
    "id": "mcejrYpqSNHT"
   },
   "outputs": [],
   "source": [
    "def test_func(x, lis=None):\n",
    "    if lis is None:\n",
    "        lis = []\n",
    "    lis.append(x)\n",
    "    return lis"
   ]
  },
  {
   "cell_type": "code",
   "execution_count": null,
   "metadata": {
    "colab": {
     "base_uri": "https://localhost:8080/",
     "height": 35
    },
    "executionInfo": {
     "elapsed": 1255,
     "status": "ok",
     "timestamp": 1601947133677,
     "user": {
      "displayName": "Tomtong Natomtong",
      "photoUrl": "",
      "userId": "07193057629022941938"
     },
     "user_tz": -420
    },
    "id": "l4IQBtzbSNHV",
    "outputId": "3b2e955c-f9ff-458a-b259-5ae1f654ed3e"
   },
   "outputs": [],
   "source": [
    "result = test_func(500)\n",
    "print(result)"
   ]
  },
  {
   "cell_type": "code",
   "execution_count": null,
   "metadata": {
    "colab": {
     "base_uri": "https://localhost:8080/",
     "height": 35
    },
    "executionInfo": {
     "elapsed": 820,
     "status": "ok",
     "timestamp": 1601947133680,
     "user": {
      "displayName": "Tomtong Natomtong",
      "photoUrl": "",
      "userId": "07193057629022941938"
     },
     "user_tz": -420
    },
    "id": "4QKg2hLOSNHW",
    "outputId": "5c620908-3a9f-40f1-c6f8-bbb7b7290b72"
   },
   "outputs": [],
   "source": [
    "result = test_func(500)\n",
    "print(result)"
   ]
  },
  {
   "cell_type": "markdown",
   "metadata": {
    "id": "0nizNUDXSNHY"
   },
   "source": [
    "## Docstrings and Function help"
   ]
  },
  {
   "cell_type": "code",
   "execution_count": null,
   "metadata": {
    "id": "PAJGc5Q6SNHY"
   },
   "outputs": [],
   "source": [
    "def sum_of_squares(num1, num2):\n",
    "    \"\"\"\n",
    "    Return the sum of the squares of the two inputs.\n",
    "    \"\"\"\n",
    "    sq1 = num1 * num1\n",
    "    sq2 = num2 * num2\n",
    "    sumsq = sq1 + sq2\n",
    "    return sumsq"
   ]
  },
  {
   "cell_type": "code",
   "execution_count": null,
   "metadata": {
    "colab": {
     "base_uri": "https://localhost:8080/",
     "height": 107
    },
    "executionInfo": {
     "elapsed": 892,
     "status": "ok",
     "timestamp": 1601947139611,
     "user": {
      "displayName": "Tomtong Natomtong",
      "photoUrl": "",
      "userId": "07193057629022941938"
     },
     "user_tz": -420
    },
    "id": "a_ZKg8KiSNHb",
    "outputId": "4b6b394f-b9b1-46a1-a82a-6d55007e1378"
   },
   "outputs": [],
   "source": [
    "help(sum_of_squares)"
   ]
  },
  {
   "cell_type": "markdown",
   "metadata": {
    "id": "GfODcZvSSNGT"
   },
   "source": [
    "## \\*args , \\**kwargs\n"
   ]
  },
  {
   "cell_type": "markdown",
   "metadata": {
    "id": "Od_t9LKrSNGT"
   },
   "source": [
    "In Python, we can pass a variable number of arguments to a function using special symbols. There are two special symbols:\n",
    "\n",
    "- \\*args (Non Keyword Arguments)\n",
    "- \\**kwargs (Keyword Arguments)\n",
    "\n",
    "We use *args and **kwargs as an argument when we are unsure about the number of arguments to pass in the functions."
   ]
  },
  {
   "cell_type": "code",
   "execution_count": null,
   "metadata": {
    "colab": {
     "base_uri": "https://localhost:8080/",
     "height": 35
    },
    "executionInfo": {
     "elapsed": 1634,
     "status": "ok",
     "timestamp": 1601946847377,
     "user": {
      "displayName": "Tomtong Natomtong",
      "photoUrl": "",
      "userId": "07193057629022941938"
     },
     "user_tz": -420
    },
    "id": "rTZ3SwceSNGU",
    "outputId": "948754f8-fe91-4201-df2e-2667f7a65ec6"
   },
   "outputs": [],
   "source": [
    "def adder(x,y,z):\n",
    "    print(\"sum:\",x+y+z)\n",
    "\n",
    "adder(10,12,13)"
   ]
  },
  {
   "cell_type": "markdown",
   "metadata": {
    "id": "P1w2P9sCSNGX"
   },
   "source": [
    "Lets see what happens when we pass more than 3 arguments in the adder() function"
   ]
  },
  {
   "cell_type": "code",
   "execution_count": null,
   "metadata": {
    "colab": {
     "base_uri": "https://localhost:8080/",
     "height": 170
    },
    "executionInfo": {
     "elapsed": 2193,
     "status": "error",
     "timestamp": 1601946993333,
     "user": {
      "displayName": "Tomtong Natomtong",
      "photoUrl": "",
      "userId": "07193057629022941938"
     },
     "user_tz": -420
    },
    "id": "edIX89V2SNGY",
    "outputId": "ade94074-b94e-439f-cad4-ab738a8498f0"
   },
   "outputs": [],
   "source": [
    "adder(5,10,15,20,25)"
   ]
  },
  {
   "cell_type": "markdown",
   "metadata": {
    "id": "_rnXqfBGSNGa"
   },
   "source": [
    "### \\*args\n",
    "\n",
    "As in the above example we are not sure about the number of arguments that can be passed to a function. Python has \\*args which allow us to pass the variable number of non keyword arguments to function.\n",
    "\n",
    "In the function, we should use an asterisk \\* before the parameter name to pass variable length arguments.The arguments are passed as a tuple and these passed arguments make tuple inside the function with same name as the parameter excluding asterisk *."
   ]
  },
  {
   "cell_type": "code",
   "execution_count": null,
   "metadata": {
    "colab": {
     "base_uri": "https://localhost:8080/",
     "height": 71
    },
    "executionInfo": {
     "elapsed": 2089,
     "status": "ok",
     "timestamp": 1601946994237,
     "user": {
      "displayName": "Tomtong Natomtong",
      "photoUrl": "",
      "userId": "07193057629022941938"
     },
     "user_tz": -420
    },
    "id": "H5_xnzEBSNGb",
    "outputId": "cf367f04-5dfb-410e-8f3d-13993b927b52"
   },
   "outputs": [],
   "source": [
    "def adder(*num):\n",
    "    sum = 0\n",
    "    \n",
    "    for n in num:\n",
    "        sum = sum + n\n",
    "\n",
    "    print(\"Sum:\",sum)\n",
    "\n",
    "adder(3,5)\n",
    "adder(4,5,6,7)\n",
    "adder(1,2,3,5,6)"
   ]
  },
  {
   "cell_type": "code",
   "execution_count": null,
   "metadata": {
    "colab": {
     "base_uri": "https://localhost:8080/",
     "height": 35
    },
    "executionInfo": {
     "elapsed": 1637,
     "status": "ok",
     "timestamp": 1601946997252,
     "user": {
      "displayName": "Tomtong Natomtong",
      "photoUrl": "",
      "userId": "07193057629022941938"
     },
     "user_tz": -420
    },
    "id": "q6CWp0-uSNGg",
    "outputId": "7f46aceb-5995-42c3-9803-0915c9f11de6",
    "scrolled": true
   },
   "outputs": [],
   "source": [
    "list_num = [1,2,3,5,6]\n",
    "adder(*list_num)"
   ]
  },
  {
   "cell_type": "code",
   "execution_count": null,
   "metadata": {},
   "outputs": [],
   "source": [
    "list_num = [1,2,3]\n",
    "adder(*list_num, 5, 6)"
   ]
  },
  {
   "cell_type": "markdown",
   "metadata": {
    "id": "78d-cyiLSNGi"
   },
   "source": [
    "### \\**kwargs\n",
    "Python passes variable length non keyword argument to function using *args but we cannot use this to pass keyword argument. For this problem Python has got a solution called \\**kwargs, it allows us to pass the variable length of keyword arguments to the function.\n",
    "\n",
    "In the function, we use the double asterisk \\** before the parameter name to denote this type of argument. The arguments are passed as a dictionary and these arguments make a dictionary inside function with name same as the parameter excluding double asterisk \\**"
   ]
  },
  {
   "cell_type": "code",
   "execution_count": null,
   "metadata": {
    "colab": {
     "base_uri": "https://localhost:8080/",
     "height": 359
    },
    "executionInfo": {
     "elapsed": 1519,
     "status": "ok",
     "timestamp": 1601947002014,
     "user": {
      "displayName": "Tomtong Natomtong",
      "photoUrl": "",
      "userId": "07193057629022941938"
     },
     "user_tz": -420
    },
    "id": "5UzfqZplSNGj",
    "outputId": "318d36a8-2337-480d-d3de-9ecf32abf003",
    "scrolled": true
   },
   "outputs": [],
   "source": [
    "def intro(**data):\n",
    "    print(\"\\nData type of argument:\",type(data))\n",
    "    print(data)\n",
    "    print()\n",
    "    for key, value in data.items():\n",
    "        print(\"{} is {}\".format(key,value))"
   ]
  },
  {
   "cell_type": "code",
   "execution_count": null,
   "metadata": {},
   "outputs": [],
   "source": [
    "intro(Firstname=\"Sita\", Lastname=\"Sharma\", Age=22, Phone=1234567890)"
   ]
  },
  {
   "cell_type": "code",
   "execution_count": null,
   "metadata": {},
   "outputs": [],
   "source": [
    "intro(Firstname=\"John\", Lastname=\"Wood\", Email=\"johnwood@nomail.com\", Country=\"Wakanda\", Age=25, Phone=12345678)"
   ]
  },
  {
   "cell_type": "code",
   "execution_count": null,
   "metadata": {
    "colab": {
     "base_uri": "https://localhost:8080/",
     "height": 197
    },
    "executionInfo": {
     "elapsed": 1492,
     "status": "ok",
     "timestamp": 1601947021941,
     "user": {
      "displayName": "Tomtong Natomtong",
      "photoUrl": "",
      "userId": "07193057629022941938"
     },
     "user_tz": -420
    },
    "id": "9GBvfyNLSNGl",
    "outputId": "a7fb7c68-2ad7-48b6-c027-0ada8198afa1"
   },
   "outputs": [],
   "source": [
    "dict_data = {\"Firstname\":\"John\", \n",
    "            \"Lastname\":\"Wood\", \n",
    "             \"Email\":\"johnwood@nomail.com\", \n",
    "             \"Country\":\"Wakanda\", \n",
    "             \"Age\":25, \n",
    "             \"Phone\":12345678}\n",
    "intro(**dict_data)"
   ]
  },
  {
   "cell_type": "markdown",
   "metadata": {},
   "source": [
    "# Decorators\n",
    "Decorators dynamically alter the functionality of a function, method, or class without having to directly use subclasses or change the source code of the function being decorated. Using decorators in Python also ensures that your code is DRY(Don't Repeat Yourself).\n",
    "\n",
    "Reference: https://www.datacamp.com/community/tutorials/decorators-python?utm_source=adwords_ppc&utm_campaignid=1455363063&utm_adgroupid=65083631748&utm_device=c&utm_keyword=&utm_matchtype=b&utm_network=g&utm_adpostion=&utm_creative=278443377095&utm_targetid=dsa-429603003980&utm_loc_interest_ms=&utm_loc_physical_ms=1012728&gclid=CjwKCAjwgOGCBhAlEiwA7FUXkuHQ3TdxGDBruhjubgUANNbqrwGNh4XYfRZ7babens-txTqGYoGy1BoCkSIQAvD_BwE"
   ]
  },
  {
   "cell_type": "markdown",
   "metadata": {},
   "source": [
    "## Creating Decorators"
   ]
  },
  {
   "cell_type": "code",
   "execution_count": null,
   "metadata": {},
   "outputs": [],
   "source": [
    "def capitalize(function):\n",
    "    def function_wrapper(text):\n",
    "        cap_text = text.capitalize()\n",
    "        function(cap_text)\n",
    "    return function_wrapper\n",
    "\n",
    "@capitalize\n",
    "def print_name(name):\n",
    "    print(name)\n",
    "    \n",
    "@capitalize\n",
    "def print_surname(surname):\n",
    "    print(surname)\n",
    "    \n",
    "print_name('john')\n",
    "print_surname('corner')"
   ]
  },
  {
   "cell_type": "markdown",
   "metadata": {},
   "source": [
    "## Defining General Purpose Decorators\n",
    "To define a general purpose decorator that can be applied to any function we use args and **kwargs. args and **kwargs collect all positional and keyword arguments and stores them in the args and kwargs variables. args and kwargs allow us to pass as many arguments as we would like during function calls."
   ]
  },
  {
   "cell_type": "code",
   "execution_count": null,
   "metadata": {},
   "outputs": [],
   "source": [
    "def capitalize_list(function):\n",
    "    def function_wrapper(*text):\n",
    "        cap_text = list()\n",
    "        for each in text:\n",
    "            cap_text.append(each.capitalize())\n",
    "        function(*cap_text)\n",
    "    return function_wrapper\n",
    "\n",
    "@capitalize_list\n",
    "def print_name(name):\n",
    "    print(name)\n",
    "    \n",
    "@capitalize_list\n",
    "def print_surname(surname):\n",
    "    print(surname)\n",
    "    \n",
    "@capitalize_list\n",
    "def print_name_surname(name, surname):\n",
    "    print(name, surname)\n",
    "    \n",
    "print_name('john')\n",
    "print_surname('corner')\n",
    "print_name_surname('john', 'corner')"
   ]
  },
  {
   "cell_type": "markdown",
   "metadata": {},
   "source": [
    "## Applying Multiple Decorators to a Single Function"
   ]
  },
  {
   "cell_type": "code",
   "execution_count": null,
   "metadata": {},
   "outputs": [],
   "source": [
    "def add_dr(function):\n",
    "    def function_wrapper(text):\n",
    "        mod_text = 'Dr.' + text\n",
    "        function(mod_text)\n",
    "    return function_wrapper\n",
    "\n",
    "def capitalize(function):\n",
    "    def function_wrapper(text):\n",
    "        cap_text = text.capitalize()\n",
    "        function(cap_text)\n",
    "    return function_wrapper\n",
    "\n",
    "@capitalize\n",
    "@add_dr\n",
    "def print_name(name):\n",
    "    print(name)\n",
    "    \n",
    "print_name('john')"
   ]
  },
  {
   "cell_type": "markdown",
   "metadata": {},
   "source": [
    "## Passing Arguments to the Decorator"
   ]
  },
  {
   "cell_type": "code",
   "execution_count": null,
   "metadata": {},
   "outputs": [],
   "source": [
    "def mod_text(mode):\n",
    "    def decorator(func):\n",
    "        def function_wrapper(text) :\n",
    "            if mode == 'upper':\n",
    "                mod_text = text.upper()\n",
    "            elif mode == 'cap':\n",
    "                mod_text = text.capitalize()\n",
    "            else:\n",
    "                mod_text = text.capitalize()\n",
    "            func(mod_text)\n",
    "        return function_wrapper\n",
    "    return decorator\n",
    "\n",
    "\n",
    "@mod_text('upper')\n",
    "def print_name(name):\n",
    "    print(name)\n",
    "    \n",
    "print_name('john')\n",
    "\n",
    "\n",
    "@mod_text('cap')\n",
    "def print_name(name):\n",
    "    print(name)\n",
    "    \n",
    "print_name('john')"
   ]
  },
  {
   "cell_type": "markdown",
   "metadata": {
    "id": "ZpAUp8qPSrQ3"
   },
   "source": [
    "# Function Overloading"
   ]
  },
  {
   "cell_type": "markdown",
   "metadata": {
    "id": "MbWNTlX2SlZW"
   },
   "source": [
    "***Python does not supports function/method overloading by default.*** But there are different ways to achieve method overloading in Python."
   ]
  },
  {
   "cell_type": "code",
   "execution_count": null,
   "metadata": {
    "id": "yN0ULKNqSlZX"
   },
   "outputs": [],
   "source": [
    "def product(a, b): \n",
    "    p = a * b \n",
    "    print(p) \n",
    "\n",
    "def product(a, b, c): \n",
    "    p = a * b*c \n",
    "    print(p) "
   ]
  },
  {
   "cell_type": "markdown",
   "metadata": {
    "id": "EegJeO1_SlZc"
   },
   "source": [
    "The problem with method overloading in Python is that we may overload the methods but can only use the latest defined method."
   ]
  },
  {
   "cell_type": "code",
   "execution_count": null,
   "metadata": {
    "colab": {
     "base_uri": "https://localhost:8080/",
     "height": 170
    },
    "executionInfo": {
     "elapsed": 1050,
     "status": "error",
     "timestamp": 1601947161555,
     "user": {
      "displayName": "Tomtong Natomtong",
      "photoUrl": "",
      "userId": "07193057629022941938"
     },
     "user_tz": -420
    },
    "id": "jL3jcvIPSlZd",
    "outputId": "68116e91-22ef-45fa-a3ce-154b14965394",
    "scrolled": true
   },
   "outputs": [],
   "source": [
    "product(4, 5) "
   ]
  },
  {
   "cell_type": "code",
   "execution_count": null,
   "metadata": {
    "colab": {
     "base_uri": "https://localhost:8080/",
     "height": 35
    },
    "executionInfo": {
     "elapsed": 1166,
     "status": "ok",
     "timestamp": 1601947164188,
     "user": {
      "displayName": "Tomtong Natomtong",
      "photoUrl": "",
      "userId": "07193057629022941938"
     },
     "user_tz": -420
    },
    "id": "KPL7dhOVSlZg",
    "outputId": "e6881e61-06c8-4422-a59c-6e838ea64450"
   },
   "outputs": [],
   "source": [
    "product(4, 5, 5) "
   ]
  },
  {
   "cell_type": "markdown",
   "metadata": {
    "id": "zHZrBjCWSlZj"
   },
   "source": [
    "### Method 1 (Not The Most Efficient Method):\n",
    "We can use the arguments to make the same function work differently i.e. as per the arguments."
   ]
  },
  {
   "cell_type": "code",
   "execution_count": null,
   "metadata": {
    "id": "zAoDk_ShSlZj"
   },
   "outputs": [],
   "source": [
    "def add(datatype, *args): \n",
    "  \n",
    "    if datatype is 'int': \n",
    "        answer = 0\n",
    "          \n",
    "    if datatype is 'str': \n",
    "        answer = '' \n",
    "  \n",
    "    for x in args: \n",
    "        answer = answer + x \n",
    "  \n",
    "    print(answer) "
   ]
  },
  {
   "cell_type": "code",
   "execution_count": null,
   "metadata": {
    "colab": {
     "base_uri": "https://localhost:8080/",
     "height": 35
    },
    "executionInfo": {
     "elapsed": 883,
     "status": "ok",
     "timestamp": 1601947175865,
     "user": {
      "displayName": "Tomtong Natomtong",
      "photoUrl": "",
      "userId": "07193057629022941938"
     },
     "user_tz": -420
    },
    "id": "okAdO0HfSlZm",
    "outputId": "46ee0f2b-8e4b-44bb-b2ec-9e3845323828"
   },
   "outputs": [],
   "source": [
    "# Integer \n",
    "add('int', 5, 6) "
   ]
  },
  {
   "cell_type": "code",
   "execution_count": null,
   "metadata": {
    "colab": {
     "base_uri": "https://localhost:8080/",
     "height": 35
    },
    "executionInfo": {
     "elapsed": 1286,
     "status": "ok",
     "timestamp": 1601947176578,
     "user": {
      "displayName": "Tomtong Natomtong",
      "photoUrl": "",
      "userId": "07193057629022941938"
     },
     "user_tz": -420
    },
    "id": "KiRaZs1vSlZp",
    "outputId": "e5730390-d7e8-4033-d6ff-058e455e83d7"
   },
   "outputs": [],
   "source": [
    "# String \n",
    "add('str', 'cat ', 'dog') "
   ]
  },
  {
   "cell_type": "markdown",
   "metadata": {
    "id": "dbd1EJLiSlZr"
   },
   "source": [
    "### Method 2 (Efficient One):\n",
    "\n",
    "By Using Multiple Dispatch Decorator\n",
    "\n",
    "Multiple Dispatch Decorator Can be installed by: `pip install multipledispatch`"
   ]
  },
  {
   "cell_type": "code",
   "execution_count": null,
   "metadata": {
    "colab": {
     "base_uri": "https://localhost:8080/",
     "height": 107
    },
    "executionInfo": {
     "elapsed": 5961,
     "status": "ok",
     "timestamp": 1601947185903,
     "user": {
      "displayName": "Tomtong Natomtong",
      "photoUrl": "",
      "userId": "07193057629022941938"
     },
     "user_tz": -420
    },
    "id": "1RAmhcUQSlZs",
    "outputId": "1cf0d00c-f64b-4df1-e4e7-ee6a6e9246e1"
   },
   "outputs": [],
   "source": [
    "!pip install multipledispatch"
   ]
  },
  {
   "cell_type": "code",
   "execution_count": null,
   "metadata": {
    "id": "XBCQ5wMTSlZu"
   },
   "outputs": [],
   "source": [
    "from multipledispatch import dispatch \n",
    "  \n",
    "#passing one parameter \n",
    "@dispatch(int, int) \n",
    "def product(first,second): \n",
    "    result = first*second \n",
    "    print(result)\n",
    "    \n",
    "# passing two parameters \n",
    "@dispatch(int, int, int) \n",
    "def product(first,second,third): \n",
    "    result  = first * second * third \n",
    "    print(result)\n",
    "    \n",
    "#you can also pass data type of any value as per requirement \n",
    "@dispatch(float, float, float) \n",
    "def product(first,second,third): \n",
    "    result  = first * second * third \n",
    "    print(result)"
   ]
  },
  {
   "cell_type": "code",
   "execution_count": null,
   "metadata": {
    "colab": {
     "base_uri": "https://localhost:8080/",
     "height": 35
    },
    "executionInfo": {
     "elapsed": 1649,
     "status": "ok",
     "timestamp": 1601947194343,
     "user": {
      "displayName": "Tomtong Natomtong",
      "photoUrl": "",
      "userId": "07193057629022941938"
     },
     "user_tz": -420
    },
    "id": "AsXyFfPYTiqt",
    "outputId": "dd31cd41-1e26-42bd-e2e4-d9327fc17aad"
   },
   "outputs": [],
   "source": [
    "product(2, 3, 2)"
   ]
  },
  {
   "cell_type": "code",
   "execution_count": null,
   "metadata": {
    "colab": {
     "base_uri": "https://localhost:8080/",
     "height": 35
    },
    "executionInfo": {
     "elapsed": 1186,
     "status": "ok",
     "timestamp": 1601947194344,
     "user": {
      "displayName": "Tomtong Natomtong",
      "photoUrl": "",
      "userId": "07193057629022941938"
     },
     "user_tz": -420
    },
    "id": "2mHMrNpmTkgS",
    "outputId": "b16f054e-4782-4d1d-c209-dbda58fae63a"
   },
   "outputs": [],
   "source": [
    "product(2.2, 3.4, 2.3)"
   ]
  },
  {
   "cell_type": "markdown",
   "metadata": {
    "id": "SvZzKzhmT7to"
   },
   "source": [
    "# Lambda Function"
   ]
  },
  {
   "cell_type": "markdown",
   "metadata": {
    "id": "5_z6N79_T7tp"
   },
   "source": [
    "A lambda function is a small anonymous function. A lambda function can take any number of arguments, but can only have one expression.\n",
    "\n",
    "The Python Language Reference explains that a simple `lambda` expression:\n",
    "\n",
    "```python\n",
    "lambda arguments: expression\n",
    "```\n",
    "\n",
    "is equivalent to:\n",
    "\n",
    "```python\n",
    "def name(arguments):\n",
    "    return expression\n",
    "```"
   ]
  },
  {
   "cell_type": "code",
   "execution_count": null,
   "metadata": {
    "colab": {
     "base_uri": "https://localhost:8080/",
     "height": 53
    },
    "executionInfo": {
     "elapsed": 1875,
     "status": "ok",
     "timestamp": 1601947199394,
     "user": {
      "displayName": "Tomtong Natomtong",
      "photoUrl": "",
      "userId": "07193057629022941938"
     },
     "user_tz": -420
    },
    "id": "wNjazFvOT7tq",
    "outputId": "004dd4b9-3564-4edb-debf-d085c00b1299"
   },
   "outputs": [],
   "source": [
    "add_ten_lamb = lambda a : a + 10\n",
    "\n",
    "print(add_ten_lamb)\n",
    "print(add_ten_lamb(5))"
   ]
  },
  {
   "cell_type": "code",
   "execution_count": null,
   "metadata": {
    "colab": {
     "base_uri": "https://localhost:8080/",
     "height": 53
    },
    "executionInfo": {
     "elapsed": 1054,
     "status": "ok",
     "timestamp": 1601947202234,
     "user": {
      "displayName": "Tomtong Natomtong",
      "photoUrl": "",
      "userId": "07193057629022941938"
     },
     "user_tz": -420
    },
    "id": "p9yAuZUFT7tv",
    "outputId": "f329aa30-e682-4ecb-d82d-b032562ab783"
   },
   "outputs": [],
   "source": [
    "def add_ten_func(a):\n",
    "    return a + 10\n",
    "\n",
    "print(add_ten_func)\n",
    "print(add_ten_func(5))"
   ]
  },
  {
   "cell_type": "code",
   "execution_count": null,
   "metadata": {
    "colab": {
     "base_uri": "https://localhost:8080/",
     "height": 35
    },
    "executionInfo": {
     "elapsed": 1101,
     "status": "ok",
     "timestamp": 1601947204319,
     "user": {
      "displayName": "Tomtong Natomtong",
      "photoUrl": "",
      "userId": "07193057629022941938"
     },
     "user_tz": -420
    },
    "id": "NlsXVY39T7tx",
    "outputId": "bec40923-d49b-4f05-a8cd-e9245cf19620"
   },
   "outputs": [],
   "source": [
    "mul_lamb = lambda a, b : a * b\n",
    "print(mul_lamb(5, 6))"
   ]
  },
  {
   "cell_type": "code",
   "execution_count": null,
   "metadata": {
    "colab": {
     "base_uri": "https://localhost:8080/",
     "height": 35
    },
    "executionInfo": {
     "elapsed": 1050,
     "status": "ok",
     "timestamp": 1601947207610,
     "user": {
      "displayName": "Tomtong Natomtong",
      "photoUrl": "",
      "userId": "07193057629022941938"
     },
     "user_tz": -420
    },
    "id": "wAw9Q-bkT7t0",
    "outputId": "2c1be364-e0c5-4767-f4a6-cc8452bc367b"
   },
   "outputs": [],
   "source": [
    "add_lamb = lambda a, b, c : a + b + c\n",
    "print(add_lamb(5, 6, 2))"
   ]
  },
  {
   "cell_type": "markdown",
   "metadata": {
    "id": "7EcEhQ7OT7t2"
   },
   "source": [
    "`lambda` expressions support keyword or default arguments as well:"
   ]
  },
  {
   "cell_type": "code",
   "execution_count": null,
   "metadata": {
    "id": "IWEkmY_PT7t2"
   },
   "outputs": [],
   "source": [
    "add_n = lambda x, n=3: x + n"
   ]
  },
  {
   "cell_type": "code",
   "execution_count": null,
   "metadata": {
    "colab": {
     "base_uri": "https://localhost:8080/",
     "height": 35
    },
    "executionInfo": {
     "elapsed": 1248,
     "status": "ok",
     "timestamp": 1601947243245,
     "user": {
      "displayName": "Tomtong Natomtong",
      "photoUrl": "",
      "userId": "07193057629022941938"
     },
     "user_tz": -420
    },
    "id": "BBYZ7DKOT7t5",
    "outputId": "0e9e4f05-6552-4d7d-9095-25932331ea13"
   },
   "outputs": [],
   "source": [
    "add_n(2)"
   ]
  },
  {
   "cell_type": "code",
   "execution_count": null,
   "metadata": {
    "colab": {
     "base_uri": "https://localhost:8080/",
     "height": 35
    },
    "executionInfo": {
     "elapsed": 1095,
     "status": "ok",
     "timestamp": 1601947248464,
     "user": {
      "displayName": "Tomtong Natomtong",
      "photoUrl": "",
      "userId": "07193057629022941938"
     },
     "user_tz": -420
    },
    "id": "-G-ZGGuVT7t8",
    "outputId": "5e0e0faa-baad-4e18-f7f4-f50172cccc1f"
   },
   "outputs": [],
   "source": [
    "add_n(1, 4)"
   ]
  },
  {
   "cell_type": "markdown",
   "metadata": {
    "id": "0aJyWQJIT7uB"
   },
   "source": [
    "One common use of `lambda` functions is to determine the sort order of sequences. "
   ]
  },
  {
   "cell_type": "code",
   "execution_count": null,
   "metadata": {
    "id": "ctXNMJj0T7uB"
   },
   "outputs": [],
   "source": [
    "ori_data_list = [4, 9, 1, 7, 5, 6, 3, 2, 8, 0]\n",
    "ori_data_tupple = (4, 9, 1, 7, 5, 6, 3, 2, 8, 0)"
   ]
  },
  {
   "cell_type": "markdown",
   "metadata": {
    "id": "0DwBZsBwT7uE"
   },
   "source": [
    "### Sort List"
   ]
  },
  {
   "cell_type": "markdown",
   "metadata": {
    "id": "xp2Tyt1KT7uE"
   },
   "source": [
    "#### .sort()"
   ]
  },
  {
   "cell_type": "code",
   "execution_count": null,
   "metadata": {
    "colab": {
     "base_uri": "https://localhost:8080/",
     "height": 35
    },
    "executionInfo": {
     "elapsed": 707,
     "status": "ok",
     "timestamp": 1601947266396,
     "user": {
      "displayName": "Tomtong Natomtong",
      "photoUrl": "",
      "userId": "07193057629022941938"
     },
     "user_tz": -420
    },
    "id": "rRh1vi-FT7uF",
    "outputId": "b2883069-dd57-4a80-b3c9-c55dca6c7250"
   },
   "outputs": [],
   "source": [
    "data = ori_data_list.copy()\n",
    "data.sort()\n",
    "print(\"data after sorted:\", data)"
   ]
  },
  {
   "cell_type": "code",
   "execution_count": null,
   "metadata": {
    "colab": {
     "base_uri": "https://localhost:8080/",
     "height": 35
    },
    "executionInfo": {
     "elapsed": 1222,
     "status": "ok",
     "timestamp": 1601947268639,
     "user": {
      "displayName": "Tomtong Natomtong",
      "photoUrl": "",
      "userId": "07193057629022941938"
     },
     "user_tz": -420
    },
    "id": "ldkWStAgT7uH",
    "outputId": "cdef185d-b572-4728-dacb-26fed6743788"
   },
   "outputs": [],
   "source": [
    "data = ori_data_list.copy()\n",
    "data.sort(reverse=True)\n",
    "print(\"data after sorted:\", data)"
   ]
  },
  {
   "cell_type": "markdown",
   "metadata": {
    "id": "yT-Qd3R1T7uK"
   },
   "source": [
    "#### sorted()"
   ]
  },
  {
   "cell_type": "code",
   "execution_count": null,
   "metadata": {
    "colab": {
     "base_uri": "https://localhost:8080/",
     "height": 53
    },
    "executionInfo": {
     "elapsed": 1248,
     "status": "ok",
     "timestamp": 1601947292293,
     "user": {
      "displayName": "Tomtong Natomtong",
      "photoUrl": "",
      "userId": "07193057629022941938"
     },
     "user_tz": -420
    },
    "id": "d8hQkn8sT7uL",
    "outputId": "bef6a543-b86c-4d8c-f5cc-9963010bcb4f"
   },
   "outputs": [],
   "source": [
    "data = ori_data_list.copy()\n",
    "newdata = sorted(data)\n",
    "print(\"data after sorted:\", data)\n",
    "print(\"returned from sorted:\", newdata)"
   ]
  },
  {
   "cell_type": "code",
   "execution_count": null,
   "metadata": {
    "colab": {
     "base_uri": "https://localhost:8080/",
     "height": 53
    },
    "executionInfo": {
     "elapsed": 1005,
     "status": "ok",
     "timestamp": 1601947292797,
     "user": {
      "displayName": "Tomtong Natomtong",
      "photoUrl": "",
      "userId": "07193057629022941938"
     },
     "user_tz": -420
    },
    "id": "_fXB7MiiT7uO",
    "outputId": "76a4871a-77d2-4057-97b8-d224e0f23c24"
   },
   "outputs": [],
   "source": [
    "data = ori_data_list.copy()\n",
    "newdata = sorted(data, reverse=True)\n",
    "print(\"data after sorted:\", data)\n",
    "print(\"returned from sorted:\", newdata)"
   ]
  },
  {
   "cell_type": "markdown",
   "metadata": {
    "id": "BNo1BovoT7uR"
   },
   "source": [
    "### Sort Tupple"
   ]
  },
  {
   "cell_type": "markdown",
   "metadata": {
    "id": "MM9uAylET7uR"
   },
   "source": [
    "#### .sort()"
   ]
  },
  {
   "cell_type": "code",
   "execution_count": null,
   "metadata": {
    "colab": {
     "base_uri": "https://localhost:8080/",
     "height": 170
    },
    "executionInfo": {
     "elapsed": 1370,
     "status": "error",
     "timestamp": 1601947299155,
     "user": {
      "displayName": "Tomtong Natomtong",
      "photoUrl": "",
      "userId": "07193057629022941938"
     },
     "user_tz": -420
    },
    "id": "J467qXdXT7uS",
    "outputId": "0a606784-102e-4f18-9e74-49ab31ee1dfa",
    "scrolled": true
   },
   "outputs": [],
   "source": [
    "ori_data_tupple.sort()"
   ]
  },
  {
   "cell_type": "markdown",
   "metadata": {
    "id": "nRQZstMiT7uV"
   },
   "source": [
    "#### sorted()"
   ]
  },
  {
   "cell_type": "code",
   "execution_count": null,
   "metadata": {
    "colab": {
     "base_uri": "https://localhost:8080/",
     "height": 35
    },
    "executionInfo": {
     "elapsed": 1079,
     "status": "ok",
     "timestamp": 1601947299704,
     "user": {
      "displayName": "Tomtong Natomtong",
      "photoUrl": "",
      "userId": "07193057629022941938"
     },
     "user_tz": -420
    },
    "id": "E_M9BkEnT7uW",
    "outputId": "c83e8d85-0fb9-4e71-878b-e2a3c5e93537"
   },
   "outputs": [],
   "source": [
    "newdata = sorted(ori_data_tupple)\n",
    "print(\"returned from sorted:\", newdata)"
   ]
  },
  {
   "cell_type": "markdown",
   "metadata": {
    "id": "FFZSxGUvT7uZ"
   },
   "source": [
    "### Sort Dict"
   ]
  },
  {
   "cell_type": "code",
   "execution_count": null,
   "metadata": {
    "colab": {
     "base_uri": "https://localhost:8080/",
     "height": 53
    },
    "executionInfo": {
     "elapsed": 1173,
     "status": "ok",
     "timestamp": 1601947305249,
     "user": {
      "displayName": "Tomtong Natomtong",
      "photoUrl": "",
      "userId": "07193057629022941938"
     },
     "user_tz": -420
    },
    "id": "7rwrvKYST7uZ",
    "outputId": "2d9b0e4c-94d1-4ee0-d056-0ecc39ffb923"
   },
   "outputs": [],
   "source": [
    "# create a dictionary of squares (dictionary comprehension)\n",
    "datamap = {key: key ** 2 for key in ori_data_list}\n",
    "print(\"data dictionary:\", datamap)\n",
    "\n",
    "sortmap = sorted(datamap)\n",
    "print(\"returned from sorted:\", sortmap)"
   ]
  },
  {
   "cell_type": "markdown",
   "metadata": {
    "id": "72bP2BrBT7uc"
   },
   "source": [
    "### Sort List of Tuple"
   ]
  },
  {
   "cell_type": "code",
   "execution_count": null,
   "metadata": {
    "colab": {
     "base_uri": "https://localhost:8080/",
     "height": 89
    },
    "executionInfo": {
     "elapsed": 1062,
     "status": "ok",
     "timestamp": 1601947319813,
     "user": {
      "displayName": "Tomtong Natomtong",
      "photoUrl": "",
      "userId": "07193057629022941938"
     },
     "user_tz": -420
    },
    "id": "2lgHL8A5T7uc",
    "outputId": "f2f8ecb2-e8bb-4ce5-e6f7-ed25a0f39647"
   },
   "outputs": [],
   "source": [
    "datamap = {key: -key for key in ori_data_list}\n",
    "\n",
    "print(\"data dictionary:\", datamap)\n",
    "datamap_list = [(k, v) for k, v in datamap.items()] \n",
    "print(\"data dictionary:\", datamap_list)\n",
    "\n",
    "sort_by_key =sorted(datamap_list, key=lambda pair: pair[0])\n",
    "sort_by_value =sorted(datamap_list, key=lambda pair: pair[1])\n",
    "\n",
    "print(\"returned from sorted:\", sort_by_key)\n",
    "print(\"returned from sorted:\", sort_by_value)"
   ]
  }
 ],
 "metadata": {
  "colab": {
   "collapsed_sections": [],
   "name": "05_more_on_function.ipynb",
   "provenance": []
  },
  "kernelspec": {
   "display_name": "Python 3",
   "language": "python",
   "name": "python3"
  },
  "language_info": {
   "codemirror_mode": {
    "name": "ipython",
    "version": 3
   },
   "file_extension": ".py",
   "mimetype": "text/x-python",
   "name": "python",
   "nbconvert_exporter": "python",
   "pygments_lexer": "ipython3",
   "version": "3.7.3"
  }
 },
 "nbformat": 4,
 "nbformat_minor": 1
}
