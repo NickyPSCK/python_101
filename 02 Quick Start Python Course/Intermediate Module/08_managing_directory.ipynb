{
 "cells": [
  {
   "cell_type": "markdown",
   "metadata": {
    "id": "7l_oMZfOSHin"
   },
   "source": [
    "# Glob, shutil and OS"
   ]
  },
  {
   "cell_type": "markdown",
   "metadata": {
    "id": "WyMa3D57SHiv"
   },
   "source": [
    "## Glob\n",
    "The glob module finds all the pathnames matching a specified pattern according to the rules used by the Unix shell, although results are returned in arbitrary order.\n",
    "\n",
    "https://docs.python.org/3/library/glob.html\n"
   ]
  },
  {
   "cell_type": "code",
   "execution_count": null,
   "metadata": {
    "id": "alcKa_IxSHi0"
   },
   "outputs": [],
   "source": [
    "import glob\n",
    "glob.glob('*.zip', recursive=False)"
   ]
  },
  {
   "cell_type": "code",
   "execution_count": null,
   "metadata": {
    "id": "tiTHs0qBSHjR",
    "scrolled": true
   },
   "outputs": [],
   "source": [
    "import glob\n",
    "glob.glob('*.txt', recursive=True)"
   ]
  },
  {
   "cell_type": "code",
   "execution_count": null,
   "metadata": {
    "id": "Hjsp0wVkSHjp"
   },
   "outputs": [],
   "source": [
    "import glob\n",
    "glob.glob('**/*.txt', recursive=True)"
   ]
  },
  {
   "cell_type": "markdown",
   "metadata": {
    "id": "27Bnvf8mSHj3"
   },
   "source": [
    "# OS\n",
    "https://docs.python.org/3/library/os.html"
   ]
  },
  {
   "cell_type": "code",
   "execution_count": null,
   "metadata": {
    "id": "kKqzoajeSHj5"
   },
   "outputs": [],
   "source": [
    "import os"
   ]
  },
  {
   "cell_type": "markdown",
   "metadata": {
    "id": "jIkpMfjiSHkB"
   },
   "source": [
    "```Python\n",
    "os.name\n",
    "```\n",
    "> The name of the operating system dependent module imported. The following names have currently been registered: 'posix', 'nt', 'java'."
   ]
  },
  {
   "cell_type": "code",
   "execution_count": null,
   "metadata": {
    "id": "7Rsdb60rSHkC"
   },
   "outputs": [],
   "source": [
    "os.name"
   ]
  },
  {
   "cell_type": "code",
   "execution_count": null,
   "metadata": {
    "id": "L-JURry9SHkK"
   },
   "outputs": [],
   "source": [
    "os.getcwd()"
   ]
  },
  {
   "cell_type": "markdown",
   "metadata": {
    "id": "TROIGggxSHki"
   },
   "source": [
    "### Managing Enveronment Variables"
   ]
  },
  {
   "cell_type": "markdown",
   "metadata": {
    "id": "Kk2BqF6gSHkj"
   },
   "source": [
    "```Python\n",
    "os.environ\n",
    "```\n",
    "> A mapping object representing the string environment."
   ]
  },
  {
   "cell_type": "code",
   "execution_count": null,
   "metadata": {
    "id": "lwrFk28kSHkl"
   },
   "outputs": [],
   "source": [
    "os.environ"
   ]
  },
  {
   "cell_type": "markdown",
   "metadata": {
    "id": "bQ47jWDGSHkw"
   },
   "source": [
    "#### Set OS environment"
   ]
  },
  {
   "cell_type": "code",
   "execution_count": null,
   "metadata": {
    "id": "CBGitg0RSHky",
    "tags": []
   },
   "outputs": [],
   "source": [
    "os.environ['TEST'] = 'TEST'\n",
    "print('TEST' in os.environ)\n",
    "print(os.environ.get('TEST', 'No Data'))"
   ]
  },
  {
   "cell_type": "markdown",
   "metadata": {
    "id": "brw-QCj2SHk4"
   },
   "source": [
    "#### Get OS environment"
   ]
  },
  {
   "cell_type": "code",
   "execution_count": null,
   "metadata": {
    "id": "1vs-9YgtSHk5",
    "tags": []
   },
   "outputs": [],
   "source": [
    "print('TEST2' in os.environ)\n",
    "print(os.environ.get('TEST2', 'No Data'))"
   ]
  },
  {
   "cell_type": "markdown",
   "metadata": {
    "id": "E0wGRBmISHlD"
   },
   "source": [
    "#### Get the Status of a Path"
   ]
  },
  {
   "cell_type": "code",
   "execution_count": null,
   "metadata": {
    "id": "_m82qOebSHlE"
   },
   "outputs": [],
   "source": [
    "file_path = 'test_copies/test00/test000.txt'\n",
    "\n",
    "status = os.stat(file_path)\n",
    "status"
   ]
  },
  {
   "cell_type": "markdown",
   "metadata": {
    "id": "xEp9al29SHlL"
   },
   "source": [
    "#### Interpreting stat() results"
   ]
  },
  {
   "cell_type": "code",
   "execution_count": null,
   "metadata": {
    "id": "jlmnzg7VSHlM"
   },
   "outputs": [],
   "source": [
    "import stat\n",
    "\n",
    "stat.filemode(status.st_mode)"
   ]
  },
  {
   "cell_type": "markdown",
   "metadata": {
    "id": "6F9u9cIvSHlW"
   },
   "source": [
    "# shutil\n",
    "https://docs.python.org/3/library/shutil.html"
   ]
  },
  {
   "cell_type": "markdown",
   "metadata": {
    "id": "Weso_Itrqepk"
   },
   "source": [
    "#### show the directory of an executable file"
   ]
  },
  {
   "cell_type": "code",
   "execution_count": null,
   "metadata": {
    "id": "onNglDVjkqIu"
   },
   "outputs": [],
   "source": [
    "import shutil\n",
    "\n",
    "print(shutil.which('python'))\n",
    "\n",
    "print(shutil.which('ls'))\n",
    "\n",
    "print(shutil.which('cat'))"
   ]
  },
  {
   "cell_type": "code",
   "execution_count": null,
   "metadata": {
    "id": "NoOB4Fkgu5M3"
   },
   "outputs": [],
   "source": [
    "print(shutil.which('dog'))"
   ]
  },
  {
   "cell_type": "markdown",
   "metadata": {
    "id": "QglTu8_9u9my"
   },
   "source": [
    "### Recursively Move a File or Directory"
   ]
  },
  {
   "cell_type": "code",
   "execution_count": null,
   "metadata": {
    "id": "wA_fvhxQrKYE"
   },
   "outputs": [],
   "source": [
    "file_path = 'test_copies/test00/test000.txt'\n",
    "\n",
    "shutil.move(file_path, 'test_copies/test01/')"
   ]
  },
  {
   "cell_type": "code",
   "execution_count": null,
   "metadata": {
    "id": "lORfJQi8r-Pu"
   },
   "outputs": [],
   "source": [
    "shutil.move('test_copies/test01/test000.txt', 'test_copies/test00/')"
   ]
  },
  {
   "cell_type": "markdown",
   "metadata": {
    "id": "NXCPTuwqSHlY"
   },
   "source": [
    "#### Copy File (without file permissions)"
   ]
  },
  {
   "cell_type": "code",
   "execution_count": null,
   "metadata": {
    "id": "Nprdb_mFkg7Y"
   },
   "outputs": [],
   "source": [
    "import stat\n",
    "\n",
    "file_path = 'test_copies/test00/test000.txt'\n",
    "\n",
    "os.chmod(file_path, stat.S_IRUSR | stat.S_IWUSR | stat.S_IXUSR)\n",
    "status = os.stat(file_path)\n",
    "stat.filemode(status.st_mode)"
   ]
  },
  {
   "cell_type": "code",
   "execution_count": null,
   "metadata": {
    "id": "rKG80PsESHlh"
   },
   "outputs": [],
   "source": [
    "import shutil\n",
    "\n",
    "file_path = 'test_copies/test00/test000.txt'\n",
    "\n",
    "shutil.copyfile(file_path, 'test_copyfile.txt')"
   ]
  },
  {
   "cell_type": "code",
   "execution_count": null,
   "metadata": {
    "id": "NKf76NFUSHlp",
    "tags": []
   },
   "outputs": [],
   "source": [
    "src_status = os.stat(file_path)\n",
    "des_status = os.stat('test_copyfile.txt')\n",
    "\n",
    "print('source file permissions:', stat.filemode(src_status.st_mode))\n",
    "print('destination file permissions:', stat.filemode(des_status.st_mode))"
   ]
  },
  {
   "cell_type": "markdown",
   "metadata": {
    "id": "nyV0n7ebkEqU"
   },
   "source": [
    "#### Copy File (with file permissions)"
   ]
  },
  {
   "cell_type": "code",
   "execution_count": null,
   "metadata": {
    "id": "LHGH1MmySHl0"
   },
   "outputs": [],
   "source": [
    "file_path = 'test_copies/test00/test000.txt'\n",
    "\n",
    "shutil.copy(file_path, 'test_copies/test01')"
   ]
  },
  {
   "cell_type": "code",
   "execution_count": null,
   "metadata": {
    "id": "rO8NDLegSHmA",
    "tags": []
   },
   "outputs": [],
   "source": [
    "src_status = os.stat(file_path)\n",
    "des_status = os.stat('test_copies/test01/test000.txt')\n",
    "\n",
    "print('source file permissions:', stat.filemode(src_status.st_mode))\n",
    "print('destination file permissions:', stat.filemode(des_status.st_mode))\n",
    "\n",
    "print('Source metadata:', src_status)\n",
    "print('Destination metadata', des_status) "
   ]
  },
  {
   "cell_type": "markdown",
   "metadata": {
    "id": "S4xeeqLfmM_r"
   },
   "source": [
    "#### Copy File (with file permissions) and \"Attempts\" to Preserve File Metadata"
   ]
  },
  {
   "cell_type": "code",
   "execution_count": null,
   "metadata": {
    "id": "mYCvbGkclXhO"
   },
   "outputs": [],
   "source": [
    "file_path = 'test_copies/test00/test000.txt'\n",
    "\n",
    "shutil.copy2(file_path, 'test_copies/test02')"
   ]
  },
  {
   "cell_type": "code",
   "execution_count": null,
   "metadata": {
    "id": "-y0QPXkplivr"
   },
   "outputs": [],
   "source": [
    "src_status = os.stat(file_path)\n",
    "des_status = os.stat('test_copies/test02/test000.txt')\n",
    "\n",
    "print('source file permissions:', stat.filemode(src_status.st_mode))\n",
    "print('destination file permissions:', stat.filemode(des_status.st_mode))\n",
    "\n",
    "print('Source metadata:', src_status)\n",
    "print('Destination metadata', des_status) "
   ]
  },
  {
   "cell_type": "markdown",
   "metadata": {
    "id": "dpIi7d42SHm0"
   },
   "source": [
    "#### shutil File Copy Methods Summary\n",
    "https://stackoverflow.com/a/30359308/11950445\n",
    "\n",
    "|                    |\\| Copies Metadata |\\| Copies Permissions |\\| Destination May be Directory |\n",
    "|--------------------|-----------------|----------------|------------------------------|\n",
    "| shutil.copyfile    |\\| No              |\\| No                 |\\| No                           |\n",
    "| shutil.copy        |\\| No              |\\| Yes                |\\| Yes                          |\n",
    "| shutil.copy2       |\\| Yes*             |\\| Yes              |\\| Yes                          |"
   ]
  },
  {
   "cell_type": "markdown",
   "metadata": {
    "id": "R7QVZWspsnIu"
   },
   "source": [
    "#### Copy an Entire Directory"
   ]
  },
  {
   "cell_type": "code",
   "execution_count": null,
   "metadata": {
    "id": "WqsN4YIkSHmK"
   },
   "outputs": [],
   "source": [
    "import shutil\n",
    "\n",
    "src = 'test_copies'\n",
    "des = 'test_copytree'\n",
    "\n",
    "shutil.copytree(src, des)"
   ]
  },
  {
   "cell_type": "code",
   "execution_count": null,
   "metadata": {
    "id": "_YeS5izsv3ou"
   },
   "outputs": [],
   "source": [
    "glob.glob('test_copytree/**', recursive=True)"
   ]
  },
  {
   "cell_type": "markdown",
   "metadata": {
    "id": "DmqdMHRys6uL"
   },
   "source": [
    "#### Delete an Entire Directory"
   ]
  },
  {
   "cell_type": "code",
   "execution_count": null,
   "metadata": {
    "id": "qYEDRvZvsWdZ"
   },
   "outputs": [],
   "source": [
    "shutil.rmtree('test_copytree')"
   ]
  },
  {
   "cell_type": "code",
   "execution_count": null,
   "metadata": {
    "id": "EbVlWalutHJq"
   },
   "outputs": [],
   "source": [
    "glob.glob('test_copytree/')"
   ]
  }
 ],
 "metadata": {
  "colab": {
   "collapsed_sections": [],
   "name": "08_managing_directory.ipynb",
   "provenance": [],
   "toc_visible": true
  },
  "kernelspec": {
   "display_name": "Python 3",
   "language": "python",
   "name": "python3"
  },
  "language_info": {
   "codemirror_mode": {
    "name": "ipython",
    "version": 3
   },
   "file_extension": ".py",
   "mimetype": "text/x-python",
   "name": "python",
   "nbconvert_exporter": "python",
   "pygments_lexer": "ipython3",
   "version": "3.7.3"
  }
 },
 "nbformat": 4,
 "nbformat_minor": 1
}
