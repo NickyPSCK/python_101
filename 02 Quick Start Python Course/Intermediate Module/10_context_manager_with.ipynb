{
 "cells": [
  {
   "cell_type": "markdown",
   "metadata": {
    "id": "Ogsff4n7eb70"
   },
   "source": [
    "# Context Manager `with`\n",
    "A context manager is an object that defines the runtime context to be established when executing a with statement. The context manager handles the entry into, and the exit from, the desired runtime context for the execution of the block of code. Context managers are normally invoked using the with statement (described in section The with statement), but can also be used by directly invoking their methods.\n",
    "\n",
    "Typical uses of context managers include saving and restoring various kinds of global state, locking and unlocking resources, closing opened files, etc.\n",
    "\n",
    "`object.__enter__(self)`\n",
    "Enter the runtime context related to this object. The with statement will bind this method’s return value to the target(s) specified in the as clause of the statement, if any.\n",
    "\n",
    "`object.__exit__(self, exc_type, exc_value, traceback)`\n",
    "Exit the runtime context related to this object. The parameters describe the exception that caused the context to be exited. If the context was exited without an exception, all three arguments will be None.\n",
    "\n",
    "If an exception is supplied, and the method wishes to suppress the exception (i.e., prevent it from being propagated), it should return a true value. Otherwise, the exception will be processed normally upon exit from this method.\n",
    "\n",
    "Note that \\_\\_exit\\_\\_() methods should not reraise the passed-in exception; this is the caller’s responsibility.\n",
    "\n",
    "\n",
    "- https://docs.python.org/3/reference/compound_stmts.html#the-with-statement\n",
    "- https://docs.python.org/3/reference/datamodel.html#with-statement-context-managers"
   ]
  },
  {
   "cell_type": "code",
   "execution_count": null,
   "metadata": {
    "id": "pj_j-F_neb71"
   },
   "outputs": [],
   "source": [
    "class TestWith:\n",
    "    def __init__(self, a):\n",
    "        print('__init__ called')\n",
    "        self.a = a\n",
    "        \n",
    "    def __enter__(self):\n",
    "        print('__enter__ called')\n",
    "        return self\n",
    "    \n",
    "    def __exit__(self, exc_type, exc_value, exc_traceback):\n",
    "        print('__exit__ called')\n",
    "        if exc_type:\n",
    "            print(f'exc_type: {exc_type}')\n",
    "            print(f'exc_value: {exc_value}')\n",
    "            print(f'exc_traceback: {exc_traceback}')\n",
    "            print(\"Exception has been handled\")\n",
    "        # return True\n",
    "\n",
    "    def add_a(self):\n",
    "        self.a += 1\n",
    "        return self.a"
   ]
  },
  {
   "cell_type": "code",
   "execution_count": null,
   "metadata": {
    "id": "IMovAI-leb75",
    "outputId": "66f0b873-b089-4b5e-924e-bc9b63a2ab90"
   },
   "outputs": [],
   "source": [
    "with TestWith(5) as tw:\n",
    "    print('inside with statement body')\n",
    "    print(tw.add_a())"
   ]
  },
  {
   "cell_type": "code",
   "execution_count": null,
   "metadata": {
    "id": "R2F5y8fDeb7-",
    "outputId": "aa111183-16f6-429d-a1ce-042808afb092"
   },
   "outputs": [],
   "source": [
    "with TestWith(5) as tw:\n",
    "    print('inside with statement body')\n",
    "    print(tw.add_b())"
   ]
  },
  {
   "cell_type": "markdown",
   "metadata": {},
   "source": [
    "## What if the method \\_\\_exit\\_\\_ returns True?"
   ]
  },
  {
   "cell_type": "code",
   "execution_count": null,
   "metadata": {},
   "outputs": [],
   "source": [
    "class TestWith:\n",
    "    def __init__(self, a):\n",
    "        print('__init__ called')\n",
    "        self.a = a\n",
    "        \n",
    "    def __enter__(self):\n",
    "        print('__enter__ called')\n",
    "        return self\n",
    "    \n",
    "    def __exit__(self, exc_type, exc_value, exc_traceback):\n",
    "        print('__exit__ called')\n",
    "        if exc_type:\n",
    "            print(f'exc_type: {exc_type}')\n",
    "            print(f'exc_value: {exc_value}')\n",
    "            print(f'exc_traceback: {exc_traceback}')\n",
    "            print(\"Exception has been handled\")\n",
    "        return True\n",
    "\n",
    "    def add_a(self):\n",
    "        self.a += 1\n",
    "        return self.a"
   ]
  },
  {
   "cell_type": "code",
   "execution_count": null,
   "metadata": {},
   "outputs": [],
   "source": [
    "with TestWith(5) as tw:\n",
    "    print('inside with statement body')\n",
    "    print(tw.add_a())"
   ]
  },
  {
   "cell_type": "code",
   "execution_count": null,
   "metadata": {},
   "outputs": [],
   "source": [
    "with TestWith(5) as tw:\n",
    "    print('inside with statement body')\n",
    "    print(tw.add_b())"
   ]
  }
 ],
 "metadata": {
  "colab": {
   "collapsed_sections": [],
   "name": "10_context_manager_with.ipynb",
   "provenance": []
  },
  "kernelspec": {
   "display_name": "Python 3",
   "language": "python",
   "name": "python3"
  },
  "language_info": {
   "codemirror_mode": {
    "name": "ipython",
    "version": 3
   },
   "file_extension": ".py",
   "mimetype": "text/x-python",
   "name": "python",
   "nbconvert_exporter": "python",
   "pygments_lexer": "ipython3",
   "version": "3.7.3"
  }
 },
 "nbformat": 4,
 "nbformat_minor": 1
}
