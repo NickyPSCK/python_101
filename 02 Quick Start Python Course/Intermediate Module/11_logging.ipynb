{
 "cells": [
  {
   "cell_type": "markdown",
   "metadata": {},
   "source": [
    "# Logging\n",
    "\n",
    "Reference\n",
    "\n",
    "https://realpython.com/python-logging/\n",
    "\n",
    "https://docs.python.org/3/library/logging.html"
   ]
  },
  {
   "cell_type": "markdown",
   "metadata": {},
   "source": [
    "There are 5 standard levels indicating the severity of events. Each has a corresponding method that can be used to log events at that level of severity. The defined levels, in order of increasing severity, are the following:\n",
    "\n",
    "- DEBUG\n",
    "- INFO\n",
    "- WARNING\n",
    "- ERROR\n",
    "- CRITICAL"
   ]
  },
  {
   "cell_type": "code",
   "execution_count": null,
   "metadata": {},
   "outputs": [],
   "source": [
    "import logging\n",
    "logging.debug('This is a debug message')\n",
    "logging.info('This is an info message')\n",
    "logging.warning('This is a warning message')\n",
    "logging.error('This is an error message')\n",
    "logging.critical('This is a critical message')"
   ]
  },
  {
   "cell_type": "markdown",
   "metadata": {},
   "source": [
    "## Basic Configurations"
   ]
  },
  {
   "cell_type": "markdown",
   "metadata": {},
   "source": [
    "You can use the basicConfig(**kwargs) method to configure the logging\n",
    "\n",
    "Some of the commonly used parameters for basicConfig() are the following:\n",
    "\n",
    "- level: The root logger will be set to the specified severity level.\n",
    "- filename: This specifies the file.\n",
    "- filemode: If filename is given, the file is opened in this mode. The default is a, which means append.\n",
    "- format: This is the format of the log message."
   ]
  },
  {
   "cell_type": "markdown",
   "metadata": {},
   "source": [
    "### Level"
   ]
  },
  {
   "cell_type": "markdown",
   "metadata": {},
   "source": [
    "#### *** PLEASE RESTART THE KERNEL BEFORE RUNNING THE CELL BELOW ***"
   ]
  },
  {
   "cell_type": "code",
   "execution_count": null,
   "metadata": {},
   "outputs": [],
   "source": [
    "import logging\n",
    "\n",
    "logging.basicConfig(level=logging.DEBUG)\n",
    "logging.debug('This is a debug message')\n",
    "logging.info('This is an info message')\n",
    "logging.warning('This is a warning message')\n",
    "logging.error('This is an error message')\n",
    "logging.critical('This is a critical message')"
   ]
  },
  {
   "cell_type": "markdown",
   "metadata": {},
   "source": [
    "### Filename"
   ]
  },
  {
   "cell_type": "markdown",
   "metadata": {},
   "source": [
    "#### *** PLEASE RESTART THE KERNEL BEFORE RUNNING THE CELL BELOW ***"
   ]
  },
  {
   "cell_type": "code",
   "execution_count": null,
   "metadata": {},
   "outputs": [],
   "source": [
    "import logging\n",
    "\n",
    "# The filemode is set to w, which means the log file is opened in “write mode” each time basicConfig() is called, \n",
    "# and each run of the program will rewrite the file. The default configuration for filemode is a, which is append.\n",
    "\n",
    "logging.basicConfig(filename='log.log', filemode='w', format='%(name)s - %(levelname)s - %(message)s')\n",
    "logging.warning('This will get logged to a file')"
   ]
  },
  {
   "cell_type": "markdown",
   "metadata": {},
   "source": [
    "### Formatting the Output\n",
    "LogRecord Attributes: https://docs.python.org/3/library/logging.html#logrecord-attributes"
   ]
  },
  {
   "cell_type": "markdown",
   "metadata": {},
   "source": [
    "#### *** PLEASE RESTART THE KERNEL BEFORE RUNNING THE CELL BELOW ***"
   ]
  },
  {
   "cell_type": "code",
   "execution_count": null,
   "metadata": {},
   "outputs": [],
   "source": [
    "import logging\n",
    "logging.basicConfig(format='%(process)d-%(levelname)s-%(message)s')\n",
    "logging.warning('This is a Warning')"
   ]
  },
  {
   "cell_type": "markdown",
   "metadata": {},
   "source": [
    "#### *** PLEASE RESTART THE KERNEL BEFORE RUNNING THE CELL BELOW ***"
   ]
  },
  {
   "cell_type": "code",
   "execution_count": null,
   "metadata": {},
   "outputs": [],
   "source": [
    "import logging\n",
    "logging.basicConfig(format='%(asctime)s - %(message)s', level=logging.INFO)\n",
    "logging.info('Admin logged in')"
   ]
  },
  {
   "cell_type": "markdown",
   "metadata": {},
   "source": [
    "#### *** PLEASE RESTART THE KERNEL BEFORE RUNNING THE CELL BELOW ***"
   ]
  },
  {
   "cell_type": "code",
   "execution_count": null,
   "metadata": {},
   "outputs": [],
   "source": [
    "import logging\n",
    "logging.basicConfig(format='%(asctime)s - %(message)s', datefmt='%d-%b-%y %H:%M:%S')\n",
    "logging.warning('Admin logged out')"
   ]
  },
  {
   "cell_type": "markdown",
   "metadata": {},
   "source": [
    "## Capturing Stack Traces"
   ]
  },
  {
   "cell_type": "markdown",
   "metadata": {},
   "source": [
    "#### *** PLEASE RESTART THE KERNEL BEFORE RUNNING THE CELL BELOW ***"
   ]
  },
  {
   "cell_type": "code",
   "execution_count": null,
   "metadata": {},
   "outputs": [],
   "source": [
    "import logging\n",
    "\n",
    "a = 5\n",
    "b = 0#### *** PLEASE RESTART THE KERNEL BEFORE RUNNING THE CELL BELOW ***\n",
    "\n",
    "try:\n",
    "    c = a / b\n",
    "except Exception as e:\n",
    "    logging.error(\"Exception occurred\", exc_info=True)"
   ]
  },
  {
   "cell_type": "markdown",
   "metadata": {},
   "source": [
    "#### *** PLEASE RESTART THE KERNEL BEFORE RUNNING THE CELL BELOW ***"
   ]
  },
  {
   "cell_type": "code",
   "execution_count": null,
   "metadata": {},
   "outputs": [],
   "source": [
    "import logging\n",
    "\n",
    "a = 5\n",
    "b = 0\n",
    "#### *** PLEASE RESTART THE KERNEL BEFORE RUNNING THE CELL BELOW ***\n",
    "try:\n",
    "    c = a / b\n",
    "except Exception as e:\n",
    "    logging.exception(\"Exception occurred\")"
   ]
  },
  {
   "cell_type": "markdown",
   "metadata": {},
   "source": [
    "## Classes and Functions"
   ]
  },
  {
   "cell_type": "markdown",
   "metadata": {},
   "source": [
    "The most commonly used classes defined in the logging module are the following:\n",
    "\n",
    "- Logger: This is the class whose objects will be used in the application code directly to call the functions.\n",
    "\n",
    "- LogRecord: Loggers automatically create LogRecord objects that have all the information related to the event being logged, like the name of the logger, the function, the line number, the message, and more.\n",
    "\n",
    "- Handler: Handlers send the LogRecord to the required output destination, like the console or a file. Handler is a base for subclasses like StreamHandler, FileHandler, SMTPHandler, HTTPHandler, and more. These subclasses send the logging outputs to corresponding destinations, like sys.stdout or a disk file.\n",
    "\n",
    "- Formatter: This is where you specify the format of the output by specifying a string format that lists out the attributes that the output should contain."
   ]
  },
  {
   "cell_type": "markdown",
   "metadata": {},
   "source": [
    "#### *** PLEASE RESTART THE KERNEL BEFORE RUNNING THE CELL BELOW ***"
   ]
  },
  {
   "cell_type": "code",
   "execution_count": null,
   "metadata": {},
   "outputs": [],
   "source": [
    "import logging\n",
    "\n",
    "logger = logging.getLogger('example_logger')\n",
    "logger.warning('This is a warning')"
   ]
  },
  {
   "cell_type": "markdown",
   "metadata": {},
   "source": [
    "## Using Handlers"
   ]
  },
  {
   "cell_type": "markdown",
   "metadata": {},
   "source": [
    "Handlers come into the picture when you want to configure your own loggers and send the logs to multiple places when they are generated. Handlers send the log messages to configured destinations like the standard output stream or a file or over HTTP or to your email via SMTP.\n",
    "\n",
    "A logger that you create can have more than one handler, which means you can set it up to be saved to a log file and also send it over email.\n",
    "\n",
    "Like loggers, you can also set the severity level in handlers. This is useful if you want to set multiple handlers for the same logger but want different severity levels for each of them. For example, you may want logs with level WARNING and above to be logged to the console, but everything with level ERROR and above should also be saved to a file. Here’s a program that does that:"
   ]
  },
  {
   "cell_type": "markdown",
   "metadata": {},
   "source": [
    "#### *** PLEASE RESTART THE KERNEL BEFORE RUNNING THE CELL BELOW ***"
   ]
  },
  {
   "cell_type": "code",
   "execution_count": null,
   "metadata": {},
   "outputs": [],
   "source": [
    "import logging\n",
    "\n",
    "# Create a custom logger\n",
    "logger = logging.getLogger(__name__)\n",
    "\n",
    "# Create handlers\n",
    "c_handler = logging.StreamHandler()\n",
    "f_handler = logging.FileHandler('file.log')\n",
    "c_handler.setLevel(logging.WARNING)\n",
    "f_handler.setLevel(logging.ERROR)\n",
    "\n",
    "# Create formatters and add it to handlers\n",
    "c_format = logging.Formatter('%(name)s - %(levelname)s - %(message)s')\n",
    "f_format = logging.Formatter('%(asctime)s - %(name)s - %(levelname)s - %(message)s')\n",
    "c_handler.setFormatter(c_format)\n",
    "f_handler.setFormatter(f_format)\n",
    "\n",
    "# Add handlers to the logger\n",
    "logger.addHandler(c_handler)\n",
    "logger.addHandler(f_handler)\n",
    "\n",
    "logger.warning('This is a warning')\n",
    "logger.error('This is an error')"
   ]
  },
  {
   "cell_type": "markdown",
   "metadata": {},
   "source": [
    "## Implementation Example"
   ]
  },
  {
   "cell_type": "markdown",
   "metadata": {},
   "source": [
    "#### *** PLEASE RESTART THE KERNEL BEFORE RUNNING THE CELL BELOW ***"
   ]
  },
  {
   "cell_type": "code",
   "execution_count": null,
   "metadata": {},
   "outputs": [],
   "source": [
    "import os\n",
    "import logging\n",
    "import datetime\n",
    "import pytz\n",
    "\n",
    "class LogCollector():\n",
    "    \n",
    "    def __init__(self,\n",
    "                 logger_name:str,\n",
    "                 time_zone:str = 'Asia/Bangkok',\n",
    "                ):\n",
    "\n",
    "        self.__create_log_dir()\n",
    "        \n",
    "        self.__date_now = datetime.datetime.now(pytz.timezone(time_zone)).strftime('%Y-%m-%d')\n",
    "        self.__path = f'log/{str(self.__date_now)}'\n",
    "        self.__logger_name = logger_name\n",
    "        self.__log_format = '%(asctime)s - %(levelname)s - %(name)s - %(message)s'\n",
    "\n",
    "        \n",
    "        # DEBUG > INFO > WARNING > ERROR > CRITICAL\n",
    "        environment = os.environ.get('#### *** PLEASE RESTART THE KERNEL BEFORE RUNNING THE CELL BELOW ***RUNNING_ENV', 'dev')\n",
    "\n",
    "        if environment == 'dev':\n",
    "            self.__log_level_print = logging.DEBUG\n",
    "            self.__log_level_file = logging.DEBUG \n",
    "        elif environment == 'uat':\n",
    "            self.__log_level_print = logging.INFO\n",
    "            self.__log_level_file = logging.ERROR \n",
    "        elif environment == 'prod':\n",
    "            self.__log_level_print = logging.INFO\n",
    "            self.__log_level_file = logging.ERROR \n",
    "        else:\n",
    "            self.__log_level_print = logging.DEBUG\n",
    "            self.__log_level_file = logging.DEBUG  \n",
    "\n",
    "        # Create logger        \n",
    "        self.logger = logging.getLogger(self.__logger_name)\n",
    "        self.logger.setLevel(logging.DEBUG)\n",
    "        \n",
    "        # Create handlers\n",
    "        print_handler = logging.StreamHandler()\n",
    "        file_handler = logging.FileHandler(self.__path)\n",
    "        \n",
    "        # Set Level of handlers\n",
    "        print_handler.setLevel(self.__log_level_print)\n",
    "        file_handler.setLevel(self.__log_level_file)\n",
    "        \n",
    "        # Create formatters \n",
    "        handler_format = logging.Formatter(self.__log_format)\n",
    "        print_handler.setFormatter(handler_format)\n",
    "        file_handler.setFormatter(handler_format)\n",
    "        \n",
    "        # Add handlers to the logger\n",
    "        self.logger.addHandler(print_handler)\n",
    "        self.logger.addHandler(file_handler)\n",
    "\n",
    "    def __create_log_dir(self):\n",
    "\n",
    "        try:\n",
    "            os.mkdir('log/')\n",
    "        except FileExistsError:\n",
    "            pass\n",
    "\n",
    "    def collect(self, level:str, message:object):\n",
    "        ''' \n",
    "        Call the collect method everywhere you want to track back and keep in \"log\" directory, \n",
    "        the name of files depend on date in format 'yyyy-mm-dd'.\n",
    "        \n",
    "        Keyword arguments:\n",
    "        level   -- can be \"DEBUG\", \"INFO\", \"WARNING\", \"ERROR\", and \"CRITICAL\" ordered by the impact of criticalness increasing.\n",
    "        message -- the strings to print out and keep in log file.\n",
    "        \n",
    "        ps.\n",
    "        In development, logs will be printed and keep when the logs are greater or equal to the WARNING level.\n",
    "        In production, logs will be only kept if the logs are greater than or equal to the ERROR level.\n",
    "        '''\n",
    "        level_dict = {  'debug':self.logger.debug, \n",
    "                        'info':self.logger.info, \n",
    "                        'warning':self.logger.warning, \n",
    "                        'error':self.logger.error, \n",
    "                        'critical':self.logger.critical}\n",
    "\n",
    "        level = level.lower()\n",
    "        printer = level_dict.get(level, self.logger.debug)\n",
    "        \n",
    "        if isinstance(message, str):\n",
    "            printer(message)\n",
    "        else:\n",
    "            obj_str = message.__str__()\n",
    "            message = '\\n'+ obj_str\n",
    "            printer(message)"
   ]
  },
  {
   "cell_type": "code",
   "execution_count": null,
   "metadata": {},
   "outputs": [],
   "source": [
    "# Example of using\n",
    "os.environ[\"UNILIVER_RUNNING_ENV\"] =  'dev'\n",
    "log_obj = LogCollector(logger_name='test')\n",
    "\n",
    "import pandas as pd\n",
    "data = pd.DataFrame(([1,2,3,4],[1,2,3,4]))\n",
    "\n",
    "log_obj.collect('DEBUG', data)\n",
    "log_obj.collect('INFO', data)\n",
    "log_obj.collect('WARNING', data)\n",
    "log_obj.collect('ERROR', data)\n",
    "log_obj.collect('CRITICAL', data)"
   ]
  }
 ],
 "metadata": {
  "kernelspec": {
   "display_name": "Python 3",
   "language": "python",
   "name": "python3"
  },
  "language_info": {
   "codemirror_mode": {
    "name": "ipython",
    "version": 3
   },
   "file_extension": ".py",
   "mimetype": "text/x-python",
   "name": "python",
   "nbconvert_exporter": "python",
   "pygments_lexer": "ipython3",
   "version": "3.7.3"
  }
 },
 "nbformat": 4,
 "nbformat_minor": 2
}
