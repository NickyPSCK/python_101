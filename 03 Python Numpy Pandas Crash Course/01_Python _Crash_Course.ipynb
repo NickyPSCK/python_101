{
 "cells": [
  {
   "cell_type": "markdown",
   "metadata": {},
   "source": [
    "# Python Crash Course"
   ]
  },
  {
   "cell_type": "markdown",
   "metadata": {},
   "source": [
    "## Data Types\n",
    "\n",
    "### Numberical Data Type"
   ]
  },
  {
   "cell_type": "markdown",
   "metadata": {},
   "source": [
    "**Arithmetic operators**\n",
    "            \n",
    "| Operator | Operation         |\n",
    "|----------|-------------------|\n",
    "|  +       | addition          |\n",
    "|  -       | subtraction       |\n",
    "|  *       | multiplication    |\n",
    "|  **      | exponentiation    |\n",
    "|  /       | division\t       |\n",
    "|  //      | integer division  |\n",
    "|  %       | modulo (remainder)|"
   ]
  },
  {
   "cell_type": "markdown",
   "metadata": {},
   "source": [
    "**Arithmetic operator precedence**\n",
    "            \n",
    "When multiple operators are combined in a single expression, the operations are evaluated in order of precedence.\n",
    "\n",
    "| Operator     | Description |\n",
    "|--------------|-------------|\n",
    "| ( )          | Parentheses|\n",
    "| **           | Exponentiation| \n",
    "| *, /, //, %  | Multiplication, division, integer division, modulo|\n",
    "| +, -         | Addition, subtraction|\n",
    "\n",
    "The parentheses can be used to group code to achieve the precedence you want."
   ]
  },
  {
   "cell_type": "code",
   "execution_count": 1,
   "metadata": {},
   "outputs": [
    {
     "data": {
      "text/plain": [
       "3"
      ]
     },
     "execution_count": 1,
     "metadata": {},
     "output_type": "execute_result"
    }
   ],
   "source": [
    "1 + 2"
   ]
  },
  {
   "cell_type": "code",
   "execution_count": 2,
   "metadata": {},
   "outputs": [
    {
     "data": {
      "text/plain": [
       "6"
      ]
     },
     "execution_count": 2,
     "metadata": {},
     "output_type": "execute_result"
    }
   ],
   "source": [
    "2 * 3"
   ]
  },
  {
   "cell_type": "code",
   "execution_count": 3,
   "metadata": {},
   "outputs": [
    {
     "data": {
      "text/plain": [
       "0.5"
      ]
     },
     "execution_count": 3,
     "metadata": {},
     "output_type": "execute_result"
    }
   ],
   "source": [
    "1 / 2"
   ]
  },
  {
   "cell_type": "code",
   "execution_count": 4,
   "metadata": {},
   "outputs": [
    {
     "data": {
      "text/plain": [
       "27"
      ]
     },
     "execution_count": 4,
     "metadata": {},
     "output_type": "execute_result"
    }
   ],
   "source": [
    "3 ** 3"
   ]
  },
  {
   "cell_type": "code",
   "execution_count": 5,
   "metadata": {},
   "outputs": [
    {
     "data": {
      "text/plain": [
       "1"
      ]
     },
     "execution_count": 5,
     "metadata": {},
     "output_type": "execute_result"
    }
   ],
   "source": [
    "9 % 4"
   ]
  },
  {
   "cell_type": "code",
   "execution_count": 6,
   "metadata": {},
   "outputs": [
    {
     "data": {
      "text/plain": [
       "9"
      ]
     },
     "execution_count": 6,
     "metadata": {},
     "output_type": "execute_result"
    }
   ],
   "source": [
    "(1 + 2) * 3"
   ]
  },
  {
   "cell_type": "markdown",
   "metadata": {},
   "source": [
    "## Variables"
   ]
  },
  {
   "cell_type": "markdown",
   "metadata": {},
   "source": [
    "**Common built-in data types**\n",
    "\n",
    "The table below shows the basic data types used in Python.\n",
    "\n",
    "| Category    | Type Name | Description                             |\n",
    "|-------------|-----------|-----------------------------------------|\n",
    "| Numbers     | int       | A whole number                          |\n",
    "| Numbers     | float     | A floating-point number                 |\n",
    "| Booleans    | bool      | A True or False value                   |\n",
    "| Collections | str       | A sequence of characters                |  \n",
    "| Collections | list      | An ordered sequence of values           |\n",
    "| Collections | tuple     | An unmodified versionof lists           |\n",
    "| Collections | dict      | An unordered grouping of key-value pairs|\n",
    "| Collections | set       | An unordered grouping of values         |\n",
    "\n",
    "\n",
    "An object that contains references to other objects is said to be a **container** or **collection**. "
   ]
  },
  {
   "cell_type": "code",
   "execution_count": 7,
   "metadata": {
    "scrolled": true
   },
   "outputs": [
    {
     "name": "stdout",
     "output_type": "stream",
     "text": [
      "3\n"
     ]
    }
   ],
   "source": [
    "x = 1\n",
    "y = 2\n",
    "z = x + y\n",
    "print(z)"
   ]
  },
  {
   "cell_type": "code",
   "execution_count": 8,
   "metadata": {},
   "outputs": [
    {
     "data": {
      "text/plain": [
       "int"
      ]
     },
     "execution_count": 8,
     "metadata": {},
     "output_type": "execute_result"
    }
   ],
   "source": [
    "type(z)"
   ]
  },
  {
   "cell_type": "code",
   "execution_count": 9,
   "metadata": {},
   "outputs": [
    {
     "name": "stdout",
     "output_type": "stream",
     "text": [
      "<class 'float'>\n"
     ]
    }
   ],
   "source": [
    "a = 3.532\n",
    "print(type(a))"
   ]
  },
  {
   "cell_type": "markdown",
   "metadata": {},
   "source": [
    "## String"
   ]
  },
  {
   "cell_type": "code",
   "execution_count": 10,
   "metadata": {},
   "outputs": [
    {
     "data": {
      "text/plain": [
       "'This is a string.'"
      ]
     },
     "execution_count": 10,
     "metadata": {},
     "output_type": "execute_result"
    }
   ],
   "source": [
    "\"This is a string.\""
   ]
  },
  {
   "cell_type": "code",
   "execution_count": 11,
   "metadata": {},
   "outputs": [
    {
     "data": {
      "text/plain": [
       "'This is also a string.'"
      ]
     },
     "execution_count": 11,
     "metadata": {},
     "output_type": "execute_result"
    }
   ],
   "source": [
    "'This is also a string.'"
   ]
  },
  {
   "cell_type": "code",
   "execution_count": 12,
   "metadata": {},
   "outputs": [
    {
     "data": {
      "text/plain": [
       "'Learn more about Python..'"
      ]
     },
     "execution_count": 12,
     "metadata": {},
     "output_type": "execute_result"
    }
   ],
   "source": [
    "'Python is a programming language that lets you work more quickly and integrate your systems more effectively.'\n",
    "\"You can learn to use Python and see almost immediate gains in productivity and lower maintenance costs.\"\n",
    "'Learn more about Python..'"
   ]
  },
  {
   "cell_type": "code",
   "execution_count": 16,
   "metadata": {},
   "outputs": [
    {
     "name": "stdout",
     "output_type": "stream",
     "text": [
      "Python is a programming language that lets \n",
      "you work more quickly and integrate your systems more effectively.\n",
      "You can learn to use Python and see almost immediate \n",
      "gains in productivity and lower maintenance costs. \n",
      "Learn more about Python..\n"
     ]
    }
   ],
   "source": [
    "print(\"\"\"Python is a programming language that lets \n",
    "you work more quickly and integrate your systems more effectively.\n",
    "You can learn to use Python and see almost immediate \n",
    "gains in productivity and lower maintenance costs. \n",
    "Learn more about Python..\"\"\")"
   ]
  },
  {
   "cell_type": "code",
   "execution_count": 17,
   "metadata": {},
   "outputs": [],
   "source": [
    "sentence = 'This is a string'"
   ]
  },
  {
   "cell_type": "code",
   "execution_count": 18,
   "metadata": {},
   "outputs": [
    {
     "data": {
      "text/plain": [
       "'This Is A String'"
      ]
     },
     "execution_count": 18,
     "metadata": {},
     "output_type": "execute_result"
    }
   ],
   "source": [
    "sentence.title()"
   ]
  },
  {
   "cell_type": "code",
   "execution_count": 19,
   "metadata": {},
   "outputs": [
    {
     "data": {
      "text/plain": [
       "'THIS IS A STRING'"
      ]
     },
     "execution_count": 19,
     "metadata": {},
     "output_type": "execute_result"
    }
   ],
   "source": [
    "sentence.upper()"
   ]
  },
  {
   "cell_type": "code",
   "execution_count": 20,
   "metadata": {},
   "outputs": [
    {
     "data": {
      "text/plain": [
       "'this is a string'"
      ]
     },
     "execution_count": 20,
     "metadata": {},
     "output_type": "execute_result"
    }
   ],
   "source": [
    "sentence.lower()"
   ]
  },
  {
   "cell_type": "code",
   "execution_count": 21,
   "metadata": {},
   "outputs": [
    {
     "name": "stdout",
     "output_type": "stream",
     "text": [
      "Enter your first name: Data\n",
      "Enter your last name: Cafe\n",
      "Data Cafe\n"
     ]
    }
   ],
   "source": [
    "first_name = input('Enter your first name: ')\n",
    "last_name = input('Enter your last name: ')\n",
    "full_name = f\"{first_name} {last_name}\"\n",
    "print(full_name)"
   ]
  },
  {
   "cell_type": "code",
   "execution_count": 25,
   "metadata": {},
   "outputs": [
    {
     "name": "stdout",
     "output_type": "stream",
     "text": [
      "This is number 5\n",
      "This is number 5\n",
      "This is number 5\n"
     ]
    }
   ],
   "source": [
    "num1 = 5\n",
    "print(f'This is number 5')\n",
    "print('This is number', num1)\n",
    "print(f'This is number {num1}')"
   ]
  },
  {
   "cell_type": "code",
   "execution_count": 26,
   "metadata": {},
   "outputs": [],
   "source": [
    "str_with_spaces = ' This string contains spaces. '"
   ]
  },
  {
   "cell_type": "code",
   "execution_count": 27,
   "metadata": {},
   "outputs": [
    {
     "data": {
      "text/plain": [
       "' This string contains spaces.'"
      ]
     },
     "execution_count": 27,
     "metadata": {},
     "output_type": "execute_result"
    }
   ],
   "source": [
    "str_with_spaces.rstrip()"
   ]
  },
  {
   "cell_type": "code",
   "execution_count": 28,
   "metadata": {},
   "outputs": [
    {
     "data": {
      "text/plain": [
       "'This string contains spaces. '"
      ]
     },
     "execution_count": 28,
     "metadata": {},
     "output_type": "execute_result"
    }
   ],
   "source": [
    "str_with_spaces.lstrip()"
   ]
  },
  {
   "cell_type": "code",
   "execution_count": 29,
   "metadata": {},
   "outputs": [
    {
     "data": {
      "text/plain": [
       "'This string contains spaces.'"
      ]
     },
     "execution_count": 29,
     "metadata": {},
     "output_type": "execute_result"
    }
   ],
   "source": [
    "str_with_spaces.strip()"
   ]
  },
  {
   "cell_type": "code",
   "execution_count": 30,
   "metadata": {},
   "outputs": [],
   "source": [
    "tweet = 'I am learning. #PythonCrashCourse'"
   ]
  },
  {
   "cell_type": "code",
   "execution_count": 31,
   "metadata": {},
   "outputs": [
    {
     "data": {
      "text/plain": [
       "['I', 'am', 'learning.', '#PythonCrashCourse']"
      ]
     },
     "execution_count": 31,
     "metadata": {},
     "output_type": "execute_result"
    }
   ],
   "source": [
    "tweet.split()"
   ]
  },
  {
   "cell_type": "code",
   "execution_count": 34,
   "metadata": {},
   "outputs": [
    {
     "data": {
      "text/plain": [
       "['I am learning. ', 'PythonCrashCourse']"
      ]
     },
     "execution_count": 34,
     "metadata": {},
     "output_type": "execute_result"
    }
   ],
   "source": [
    "tweet.split('#')"
   ]
  },
  {
   "cell_type": "code",
   "execution_count": 36,
   "metadata": {},
   "outputs": [
    {
     "data": {
      "text/plain": [
       "'I am learning. '"
      ]
     },
     "execution_count": 36,
     "metadata": {},
     "output_type": "execute_result"
    }
   ],
   "source": [
    "tweet.split('#')[0]"
   ]
  },
  {
   "cell_type": "markdown",
   "metadata": {},
   "source": [
    "## List\n",
    "- A list is a collection of items in a particular order\n",
    "- Lists are ordered collections, so you can access any element in a list by telling Python the position, or index, of the item desired\n",
    "- Python considers the first item in a list to be at position 0, not position 1\n",
    "\n",
    "\n",
    "```python\n",
    "empty_list = []\n",
    "sample_list = [1, 2, 3, 4, 5]\n",
    "mixed_list = [1, 2.0, 'Hello', True]\n",
    "```"
   ]
  },
  {
   "cell_type": "code",
   "execution_count": 37,
   "metadata": {},
   "outputs": [
    {
     "data": {
      "text/plain": [
       "[1, 2, 3]"
      ]
     },
     "execution_count": 37,
     "metadata": {},
     "output_type": "execute_result"
    }
   ],
   "source": [
    "[1, 2, 3]"
   ]
  },
  {
   "cell_type": "code",
   "execution_count": 38,
   "metadata": {},
   "outputs": [
    {
     "data": {
      "text/plain": [
       "['abc', 1, [10, 20]]"
      ]
     },
     "execution_count": 38,
     "metadata": {},
     "output_type": "execute_result"
    }
   ],
   "source": [
    "['abc', 1, [10, 20]]"
   ]
  },
  {
   "cell_type": "code",
   "execution_count": 39,
   "metadata": {},
   "outputs": [],
   "source": [
    "alist = ['a', 'b', 'c']"
   ]
  },
  {
   "cell_type": "code",
   "execution_count": 40,
   "metadata": {},
   "outputs": [
    {
     "data": {
      "text/plain": [
       "'a'"
      ]
     },
     "execution_count": 40,
     "metadata": {},
     "output_type": "execute_result"
    }
   ],
   "source": [
    "alist[0]"
   ]
  },
  {
   "cell_type": "code",
   "execution_count": 41,
   "metadata": {},
   "outputs": [
    {
     "data": {
      "text/plain": [
       "'c'"
      ]
     },
     "execution_count": 41,
     "metadata": {},
     "output_type": "execute_result"
    }
   ],
   "source": [
    "alist[-1]"
   ]
  },
  {
   "cell_type": "code",
   "execution_count": 42,
   "metadata": {},
   "outputs": [],
   "source": [
    "alist.append('d')"
   ]
  },
  {
   "cell_type": "code",
   "execution_count": 43,
   "metadata": {},
   "outputs": [
    {
     "data": {
      "text/plain": [
       "['a', 'b', 'c', 'd']"
      ]
     },
     "execution_count": 43,
     "metadata": {},
     "output_type": "execute_result"
    }
   ],
   "source": [
    "alist"
   ]
  },
  {
   "cell_type": "code",
   "execution_count": 44,
   "metadata": {},
   "outputs": [],
   "source": [
    "alist.insert(0, '-')"
   ]
  },
  {
   "cell_type": "code",
   "execution_count": 45,
   "metadata": {},
   "outputs": [
    {
     "data": {
      "text/plain": [
       "['-', 'a', 'b', 'c', 'd']"
      ]
     },
     "execution_count": 45,
     "metadata": {},
     "output_type": "execute_result"
    }
   ],
   "source": [
    "alist"
   ]
  },
  {
   "cell_type": "code",
   "execution_count": 46,
   "metadata": {},
   "outputs": [],
   "source": [
    "alist[0] = '0'"
   ]
  },
  {
   "cell_type": "code",
   "execution_count": 47,
   "metadata": {},
   "outputs": [
    {
     "data": {
      "text/plain": [
       "['0', 'a', 'b', 'c', 'd']"
      ]
     },
     "execution_count": 47,
     "metadata": {},
     "output_type": "execute_result"
    }
   ],
   "source": [
    "alist"
   ]
  },
  {
   "cell_type": "code",
   "execution_count": 48,
   "metadata": {},
   "outputs": [],
   "source": [
    "del alist[0]"
   ]
  },
  {
   "cell_type": "code",
   "execution_count": 49,
   "metadata": {},
   "outputs": [
    {
     "data": {
      "text/plain": [
       "['a', 'b', 'c', 'd']"
      ]
     },
     "execution_count": 49,
     "metadata": {},
     "output_type": "execute_result"
    }
   ],
   "source": [
    "alist"
   ]
  },
  {
   "cell_type": "code",
   "execution_count": 50,
   "metadata": {},
   "outputs": [
    {
     "data": {
      "text/plain": [
       "True"
      ]
     },
     "execution_count": 50,
     "metadata": {},
     "output_type": "execute_result"
    }
   ],
   "source": [
    "'a' in alist"
   ]
  },
  {
   "cell_type": "code",
   "execution_count": 51,
   "metadata": {},
   "outputs": [
    {
     "name": "stdout",
     "output_type": "stream",
     "text": [
      "['cake', 'candy', 'cookie', 'kakikori']\n"
     ]
    }
   ],
   "source": [
    "dessert = ['cake', 'kakikori', 'candy', 'cookie']\n",
    "dessert.sort()\n",
    "print(dessert)"
   ]
  },
  {
   "cell_type": "code",
   "execution_count": 52,
   "metadata": {},
   "outputs": [
    {
     "name": "stdout",
     "output_type": "stream",
     "text": [
      "Original:  ['cake', 'kakikori', 'candy', 'cookie']\n",
      "Sorted List:  ['cake', 'candy', 'cookie', 'kakikori']\n",
      "After Calling sorted:  ['cake', 'kakikori', 'candy', 'cookie']\n"
     ]
    }
   ],
   "source": [
    "dessert = ['cake', 'kakikori', 'candy', 'cookie']\n",
    "print('Original: ', dessert)\n",
    "print('Sorted List: ', sorted(dessert))\n",
    "print('After Calling sorted: ', dessert)"
   ]
  },
  {
   "cell_type": "markdown",
   "metadata": {},
   "source": [
    "**Some Useful Function:**\n",
    "- `len()`  `min()`  `max()`  `sum()`"
   ]
  },
  {
   "cell_type": "code",
   "execution_count": 53,
   "metadata": {
    "scrolled": true
   },
   "outputs": [
    {
     "name": "stdout",
     "output_type": "stream",
     "text": [
      "len: 10\n",
      "min: 1\n",
      "max: 10\n",
      "sum: 55\n"
     ]
    }
   ],
   "source": [
    "my_list = [1,2,3,4,5,6,7,8,9,10]\n",
    "\n",
    "print('len:', len(my_list))\n",
    "print('min:', min(my_list))\n",
    "print('max:', max(my_list))\n",
    "print('sum:', sum(my_list))"
   ]
  },
  {
   "cell_type": "markdown",
   "metadata": {},
   "source": [
    "**Mutability**"
   ]
  },
  {
   "cell_type": "code",
   "execution_count": 54,
   "metadata": {},
   "outputs": [
    {
     "data": {
      "text/plain": [
       "140711412995488"
      ]
     },
     "execution_count": 54,
     "metadata": {},
     "output_type": "execute_result"
    }
   ],
   "source": [
    "age = 20\n",
    "id(age)"
   ]
  },
  {
   "cell_type": "code",
   "execution_count": 55,
   "metadata": {},
   "outputs": [
    {
     "data": {
      "text/plain": [
       "140711412995520"
      ]
     },
     "execution_count": 55,
     "metadata": {},
     "output_type": "execute_result"
    }
   ],
   "source": [
    "age = age + 1\n",
    "id(age)"
   ]
  },
  {
   "cell_type": "code",
   "execution_count": 56,
   "metadata": {},
   "outputs": [
    {
     "data": {
      "text/plain": [
       "2478210072392"
      ]
     },
     "execution_count": 56,
     "metadata": {},
     "output_type": "execute_result"
    }
   ],
   "source": [
    "my_list = [1, 2, 3]\n",
    "id(my_list)"
   ]
  },
  {
   "cell_type": "code",
   "execution_count": 57,
   "metadata": {},
   "outputs": [
    {
     "data": {
      "text/plain": [
       "[1, 2, 3, 99]"
      ]
     },
     "execution_count": 57,
     "metadata": {},
     "output_type": "execute_result"
    }
   ],
   "source": [
    "my_list.append(99)\n",
    "my_list"
   ]
  },
  {
   "cell_type": "code",
   "execution_count": 58,
   "metadata": {},
   "outputs": [
    {
     "data": {
      "text/plain": [
       "2478210072392"
      ]
     },
     "execution_count": 58,
     "metadata": {},
     "output_type": "execute_result"
    }
   ],
   "source": [
    "id(my_list)"
   ]
  },
  {
   "cell_type": "markdown",
   "metadata": {},
   "source": [
    "**Caution: Copy List**"
   ]
  },
  {
   "cell_type": "code",
   "execution_count": 59,
   "metadata": {},
   "outputs": [
    {
     "name": "stdout",
     "output_type": "stream",
     "text": [
      "[1, 4, 3, 4, 5]\n",
      "[1, 4, 3, 4, 5]\n"
     ]
    }
   ],
   "source": [
    "# Copy problem\n",
    "list_a = [1,2,3,4,5]\n",
    "list_b = list_a\n",
    "\n",
    "list_a[1] = 4\n",
    "\n",
    "print(list_a)\n",
    "print(list_b)"
   ]
  },
  {
   "cell_type": "code",
   "execution_count": 60,
   "metadata": {},
   "outputs": [
    {
     "name": "stdout",
     "output_type": "stream",
     "text": [
      "2478210002120\n",
      "2478210002120\n"
     ]
    }
   ],
   "source": [
    "# Why?\n",
    "print(id(list_a))\n",
    "print(id(list_b))"
   ]
  },
  {
   "cell_type": "code",
   "execution_count": 61,
   "metadata": {},
   "outputs": [
    {
     "name": "stdout",
     "output_type": "stream",
     "text": [
      "[1, 4, 3, 4, 5]\n",
      "[1, 2, 3, 4, 5]\n"
     ]
    }
   ],
   "source": [
    "# Solution 1\n",
    "list_a = [1,2,3,4,5]\n",
    "list_b = list(list_a)\n",
    "\n",
    "list_a[1] = 4\n",
    "\n",
    "print(list_a)\n",
    "print(list_b)"
   ]
  },
  {
   "cell_type": "code",
   "execution_count": 62,
   "metadata": {},
   "outputs": [
    {
     "name": "stdout",
     "output_type": "stream",
     "text": [
      "2478210011720\n",
      "2478210012808\n"
     ]
    }
   ],
   "source": [
    "print(id(list_a))\n",
    "print(id(list_b))"
   ]
  },
  {
   "cell_type": "code",
   "execution_count": 63,
   "metadata": {},
   "outputs": [
    {
     "name": "stdout",
     "output_type": "stream",
     "text": [
      "[1, 4, 3, 4, 5]\n",
      "[1, 2, 3, 4, 5]\n"
     ]
    }
   ],
   "source": [
    "# Solution 2\n",
    "list_a = [1,2,3,4,5]\n",
    "list_b = list_a[:]\n",
    "\n",
    "list_a[1] = 4\n",
    "\n",
    "print(list_a)\n",
    "print(list_b)"
   ]
  },
  {
   "cell_type": "code",
   "execution_count": 70,
   "metadata": {},
   "outputs": [
    {
     "data": {
      "text/plain": [
       "2478209160264"
      ]
     },
     "execution_count": 70,
     "metadata": {},
     "output_type": "execute_result"
    }
   ],
   "source": [
    "id(list_a)"
   ]
  },
  {
   "cell_type": "code",
   "execution_count": 69,
   "metadata": {},
   "outputs": [
    {
     "data": {
      "text/plain": [
       "2478209823752"
      ]
     },
     "execution_count": 69,
     "metadata": {},
     "output_type": "execute_result"
    }
   ],
   "source": [
    "id(list_a[1:4])"
   ]
  },
  {
   "cell_type": "code",
   "execution_count": 64,
   "metadata": {},
   "outputs": [
    {
     "name": "stdout",
     "output_type": "stream",
     "text": [
      "[[4, 2, 3], 2, 3, 4, 5]\n",
      "[[4, 2, 3], 2, 3, 4, 5]\n"
     ]
    }
   ],
   "source": [
    "list_a = [[1,2,3],2,3,4,5]\n",
    "list_b = list(list_a)\n",
    "\n",
    "list_a[0][0] = 4\n",
    "\n",
    "print(list_a)\n",
    "print(list_b)"
   ]
  },
  {
   "cell_type": "code",
   "execution_count": 66,
   "metadata": {},
   "outputs": [
    {
     "name": "stdout",
     "output_type": "stream",
     "text": [
      "2478209934600\n",
      "2478209934600\n"
     ]
    }
   ],
   "source": [
    "print(id(list_a[0]))\n",
    "print(id(list_b[0]))"
   ]
  },
  {
   "cell_type": "markdown",
   "metadata": {},
   "source": [
    "## Dictionaries\n",
    "\n",
    "\n",
    "```python\n",
    "my_dict = {'key1':'value1', 'key2':'value2', 'key3':'value3', ...}\n",
    "```"
   ]
  },
  {
   "cell_type": "code",
   "execution_count": 71,
   "metadata": {},
   "outputs": [],
   "source": [
    "capital = {'Thailand':'Bangkok', 'Japan':'Tokyo', 'United Kingdom':'London'}"
   ]
  },
  {
   "cell_type": "code",
   "execution_count": 73,
   "metadata": {},
   "outputs": [
    {
     "data": {
      "text/plain": [
       "'Tokyo'"
      ]
     },
     "execution_count": 73,
     "metadata": {},
     "output_type": "execute_result"
    }
   ],
   "source": [
    "capital['Japan']"
   ]
  },
  {
   "cell_type": "code",
   "execution_count": 74,
   "metadata": {},
   "outputs": [
    {
     "name": "stdout",
     "output_type": "stream",
     "text": [
      "dict_keys(['English', 'Math', 'Art', 'Music'])\n",
      "dict_values([97, 93, 74, 86])\n",
      "dict_items([('English', 97), ('Math', 93), ('Art', 74), ('Music', 86)])\n"
     ]
    }
   ],
   "source": [
    "grades = {'English':97, 'Math':93, 'Art':74, 'Music':86} \n",
    "\n",
    "print(grades.keys())\n",
    "print(grades.values())\n",
    "print(grades.items())"
   ]
  },
  {
   "cell_type": "code",
   "execution_count": 75,
   "metadata": {},
   "outputs": [
    {
     "name": "stdout",
     "output_type": "stream",
     "text": [
      "True\n",
      "True\n",
      "True\n",
      "False\n",
      "True\n",
      "False\n"
     ]
    }
   ],
   "source": [
    "capital = {'Thailand':'Bangkok', 'Japan':'Tokyo', 'United Kingdom':'London','Bangkok':'Nonthaburi'}\n",
    "\n",
    "# Keys\n",
    "print('Thailand' in capital)\n",
    "print('Japan' in capital)\n",
    "\n",
    "# Values\n",
    "print('Bangkok' in capital)\n",
    "print('Vientiane' in capital)\n",
    "\n",
    "# Both\n",
    "print('Bangkok' in capital)\n",
    "\n",
    "# Neither\n",
    "print('Laos' in capital)"
   ]
  },
  {
   "cell_type": "code",
   "execution_count": 76,
   "metadata": {},
   "outputs": [
    {
     "name": "stdout",
     "output_type": "stream",
     "text": [
      "Thailand Bangkok\n",
      "Japan Tokyo\n"
     ]
    }
   ],
   "source": [
    "capital = {'Thailand':'Bangkok', 'Japan':'Tokyo', 'United Kingdom':'London'}\n",
    "keys = ['Thailand','Japan']\n",
    "\n",
    "for key in keys:\n",
    "    if key in capital:\n",
    "        print(key, capital[key])\n",
    "    else:\n",
    "        print('{} not in mapping'.format(key))"
   ]
  },
  {
   "cell_type": "markdown",
   "metadata": {},
   "source": [
    "### Dictionary as a Set of Counters"
   ]
  },
  {
   "cell_type": "code",
   "execution_count": 79,
   "metadata": {},
   "outputs": [
    {
     "name": "stdout",
     "output_type": "stream",
     "text": [
      "['to', 'be', 'or', 'not', 'to', 'be']\n",
      "{'to': 1}\n",
      "{'to': 1, 'be': 1}\n",
      "{'to': 1, 'be': 1, 'or': 1}\n",
      "{'to': 1, 'be': 1, 'or': 1, 'not': 1}\n",
      "{'to': 2, 'be': 1, 'or': 1, 'not': 1}\n",
      "{'to': 2, 'be': 2, 'or': 1, 'not': 1}\n",
      "{'to': 2, 'be': 2, 'or': 1, 'not': 1}\n"
     ]
    }
   ],
   "source": [
    "speech = \"to be or not to be\" \n",
    "speech_list = speech.split()\n",
    "print(speech_list)\n",
    "word_count_dict = {}\n",
    "\n",
    "for word in speech_list:\n",
    "    if word in word_count_dict:\n",
    "        word_count_dict[word] += 1\n",
    "    else:\n",
    "        word_count_dict[word] = 1\n",
    "    print(word_count_dict)\n",
    "print(word_count_dict)"
   ]
  },
  {
   "cell_type": "markdown",
   "metadata": {},
   "source": [
    "## Tuples\n",
    "Tuples cannot be modified.\n",
    "\n",
    "Tuples do not support methods such as `.append()`, `.extend()`, `.remove()`, `.pop()`, `.reverse()`, `.insert()`, and `.sort()`."
   ]
  },
  {
   "cell_type": "code",
   "execution_count": null,
   "metadata": {},
   "outputs": [],
   "source": [
    "t = (10, 20, 30)"
   ]
  },
  {
   "cell_type": "markdown",
   "metadata": {},
   "source": [
    "## Sets\n",
    "\n",
    "Sets are <em style=\"color:red\">mutable</em> unordered collections of distinct <em style=\"color:blue\">immutable</em> objects. \n",
    "```python\n",
    "classes = {'English', 'Math', 'Art', 'Music'}\n",
    "```"
   ]
  },
  {
   "cell_type": "code",
   "execution_count": 80,
   "metadata": {},
   "outputs": [
    {
     "data": {
      "text/plain": [
       "{'a', 'b', 'c'}"
      ]
     },
     "execution_count": 80,
     "metadata": {},
     "output_type": "execute_result"
    }
   ],
   "source": [
    "{'a', 'b', 'c'}"
   ]
  },
  {
   "cell_type": "code",
   "execution_count": 81,
   "metadata": {
    "scrolled": false
   },
   "outputs": [
    {
     "data": {
      "text/plain": [
       "{'a', 'b', 'c'}"
      ]
     },
     "execution_count": 81,
     "metadata": {},
     "output_type": "execute_result"
    }
   ],
   "source": [
    "{'a', 'a', 'b', 'c', 'c', 'c'}"
   ]
  },
  {
   "cell_type": "code",
   "execution_count": 82,
   "metadata": {},
   "outputs": [
    {
     "data": {
      "text/plain": [
       "{'Learn',\n",
       " 'Python',\n",
       " 'You',\n",
       " 'a',\n",
       " 'about',\n",
       " 'almost',\n",
       " 'and',\n",
       " 'can',\n",
       " 'costs.',\n",
       " 'effectively.',\n",
       " 'gains',\n",
       " 'immediate',\n",
       " 'in',\n",
       " 'integrate',\n",
       " 'is',\n",
       " 'language',\n",
       " 'learn',\n",
       " 'lets',\n",
       " 'lower',\n",
       " 'maintenance',\n",
       " 'more',\n",
       " 'productivity',\n",
       " 'programming',\n",
       " 'quickly',\n",
       " 'see',\n",
       " 'systems',\n",
       " 'that',\n",
       " 'to',\n",
       " 'use',\n",
       " 'work',\n",
       " 'you',\n",
       " 'your'}"
      ]
     },
     "execution_count": 82,
     "metadata": {},
     "output_type": "execute_result"
    }
   ],
   "source": [
    "text = '''Python is a programming language that lets \n",
    "you work more quickly and integrate your systems more effectively.\n",
    "You can learn to use Python and see almost immediate \n",
    "gains in productivity and lower maintenance costs. \n",
    "Learn more about Python'''\n",
    "word_list = text.split() \n",
    "unique_word  = set(word_list)\n",
    "unique_word"
   ]
  },
  {
   "cell_type": "markdown",
   "metadata": {},
   "source": [
    "**1. Add Elements: `.add()`, `.update()`**\n",
    "\n",
    "**2. Delete Elements: `.remove()`, `.discard()`, `.pop()`**\n",
    "\n",
    "**3. Copy a Set: `.copy()`**\n",
    "\n",
    "**4. Perform Mathermatical Set Operations:**\n",
    "- `.difference()`\n",
    "- `.union()`\n",
    "- `.intersection()`\n",
    "- `.isdisjoint()`\n",
    "- `.issubset()`\n",
    "- `.issupperset()`"
   ]
  },
  {
   "cell_type": "code",
   "execution_count": 83,
   "metadata": {
    "scrolled": true
   },
   "outputs": [
    {
     "name": "stdout",
     "output_type": "stream",
     "text": [
      "{1, 3, 5, 6}\n",
      "{1, 3, 5, 6, 10}\n",
      "{1, 3, 5, 6, 10}\n",
      "{1, 66, 3, 5, 6, 39, 10, 27}\n"
     ]
    }
   ],
   "source": [
    "my_set = set([3, 1, 1, 3, 6, 5])\n",
    "print(my_set)\n",
    "\n",
    "my_set.add(10)     # Add a single element\n",
    "print(my_set)\n",
    "\n",
    "my_set.add(5)      # Try to add the same element\n",
    "print(my_set)\n",
    "\n",
    "my_set.update([66, 27, 39])      # Add multiple elements\n",
    "print(my_set)"
   ]
  },
  {
   "cell_type": "code",
   "execution_count": 84,
   "metadata": {},
   "outputs": [
    {
     "name": "stdout",
     "output_type": "stream",
     "text": [
      "{1, 3, 5, 6}\n",
      "{1, 5, 6}\n",
      "{1, 6}\n",
      "{1, 6}\n"
     ]
    }
   ],
   "source": [
    "my_set = set([3, 1, 1, 3, 6, 5])\n",
    "print(my_set)\n",
    "\n",
    "my_set.discard(3)  # Remove an element from a set if it is a member.\n",
    "print(my_set)\n",
    "\n",
    "my_set.remove(5)   # Remove an element from a set if it is a member.\n",
    "print(my_set)\n",
    "\n",
    "my_set.discard(7)  # If the element is not a member, do nothing.\n",
    "print(my_set)"
   ]
  },
  {
   "cell_type": "code",
   "execution_count": 87,
   "metadata": {},
   "outputs": [
    {
     "name": "stdout",
     "output_type": "stream",
     "text": [
      "{1, 3, 5, 6, 7, 9}\n",
      "{3, 5, 6, 7, 9}\n"
     ]
    }
   ],
   "source": [
    "my_set = set([7, 3, 1, 1, 3, 6, 5, 9])\n",
    "print(my_set)\n",
    "\n",
    "my_set.pop()       # Remove and return an arbitrary set element.\n",
    "print(my_set)"
   ]
  },
  {
   "cell_type": "code",
   "execution_count": 88,
   "metadata": {},
   "outputs": [
    {
     "name": "stdout",
     "output_type": "stream",
     "text": [
      "classes =  {'English', 'Math', 'Music', 'Art'}\n",
      "classes2 =  {'English', 'Math', 'Music', 'Art'}\n",
      "classes2 is classes False\n",
      "classes2 == classes True\n"
     ]
    }
   ],
   "source": [
    "classes = {'English', 'Math', 'Art', 'Music'}\n",
    "classes2 = classes.copy()     \n",
    "\n",
    "print('classes = ', classes)\n",
    "print('classes2 = ', classes2)\n",
    "print('classes2 is classes', classes2 is classes)\n",
    "print('classes2 == classes', classes2 == classes)"
   ]
  },
  {
   "cell_type": "code",
   "execution_count": 89,
   "metadata": {},
   "outputs": [
    {
     "name": "stdout",
     "output_type": "stream",
     "text": [
      "set1 = {1, 2, 3, 4}\n",
      "set2 = {1, 2, 3}\n",
      "{4}\n",
      "set()\n"
     ]
    }
   ],
   "source": [
    "# .difference()\n",
    "\n",
    "set1 = {1, 2, 3, 4}\n",
    "set2 = {1, 2, 3}\n",
    "\n",
    "print('set1 =', set1)\n",
    "print('set2 =', set2)\n",
    "\n",
    "print(set1.difference(set2))\n",
    "print(set2.difference(set1))"
   ]
  },
  {
   "cell_type": "code",
   "execution_count": 90,
   "metadata": {},
   "outputs": [
    {
     "name": "stdout",
     "output_type": "stream",
     "text": [
      "set1 = {1, 2, 3}\n",
      "set2 = {1, 2, 4}\n",
      "{1, 2, 3, 4}\n",
      "{1, 2, 3, 4}\n"
     ]
    }
   ],
   "source": [
    "# .union()\n",
    "\n",
    "set1 = {1, 2, 3}\n",
    "set2 = {1, 2, 4}\n",
    "\n",
    "print('set1 =', set1)\n",
    "print('set2 =', set2)\n",
    "\n",
    "print(set1.union(set2))\n",
    "print(set2.union(set1))"
   ]
  },
  {
   "cell_type": "code",
   "execution_count": 91,
   "metadata": {},
   "outputs": [
    {
     "name": "stdout",
     "output_type": "stream",
     "text": [
      "set1 = {1, 2, 3}\n",
      "set2 = {1, 2, 4}\n",
      "{1, 2}\n",
      "{1, 2}\n"
     ]
    }
   ],
   "source": [
    "# .intersection()\n",
    "\n",
    "set1 = {1, 2, 3}\n",
    "set2 = {1, 2, 4}\n",
    "\n",
    "print('set1 =', set1)\n",
    "print('set2 =', set2)\n",
    "\n",
    "print(set1.intersection(set2))\n",
    "print(set2.intersection(set1))"
   ]
  },
  {
   "cell_type": "code",
   "execution_count": 92,
   "metadata": {},
   "outputs": [
    {
     "name": "stdout",
     "output_type": "stream",
     "text": [
      "False\n",
      "True\n"
     ]
    }
   ],
   "source": [
    "# .isdisjoint()\n",
    "\n",
    "set1 = {1,2}\n",
    "set2 = {1,2,4}\n",
    "set3 = {5}\n",
    "\n",
    "print(set1.isdisjoint(set2))\n",
    "print(set1.isdisjoint(set3))"
   ]
  },
  {
   "cell_type": "code",
   "execution_count": 93,
   "metadata": {},
   "outputs": [
    {
     "name": "stdout",
     "output_type": "stream",
     "text": [
      "True\n",
      "False\n"
     ]
    }
   ],
   "source": [
    "# .issubset()\n",
    "\n",
    "set1 = {1,2}\n",
    "set2 = {1,2,4}\n",
    "\n",
    "print(set1.issubset(set2))\n",
    "print(set2.issubset(set1))"
   ]
  },
  {
   "cell_type": "code",
   "execution_count": 94,
   "metadata": {},
   "outputs": [
    {
     "name": "stdout",
     "output_type": "stream",
     "text": [
      "False\n",
      "True\n"
     ]
    }
   ],
   "source": [
    "# .issuperset()\n",
    "\n",
    "set1 = {1,2}\n",
    "set2 = {1,2,4}\n",
    "\n",
    "print(set1.issuperset(set2))\n",
    "print(set2.issuperset(set1))"
   ]
  },
  {
   "cell_type": "markdown",
   "metadata": {},
   "source": [
    "## Boolean Type and Operators"
   ]
  },
  {
   "cell_type": "markdown",
   "metadata": {},
   "source": [
    "Boolean (`bool`) type has only two values **`True`** and **`False`**.  \n",
    "\n",
    "**Comparison Operators**\n",
    "\n",
    "| Operator | Description              |\n",
    "|----------|--------------------------|\n",
    "| <        | Less than                |\n",
    "| <=       | Less than or equal to    |\n",
    "| >        | Greater than             |\n",
    "| >=       | Greater than or equal to |\n",
    "| ==       | Equal to                 |\n",
    "|!=        | Not equal to             |\n",
    "\n",
    ">Note:\n",
    ">- alphabetically `'A'` is less than `'B'`\n",
    ">- lower case `'a'` is greater than upper case `'A'`"
   ]
  },
  {
   "cell_type": "code",
   "execution_count": 95,
   "metadata": {},
   "outputs": [
    {
     "data": {
      "text/plain": [
       "True"
      ]
     },
     "execution_count": 95,
     "metadata": {},
     "output_type": "execute_result"
    }
   ],
   "source": [
    "1 < 2"
   ]
  },
  {
   "cell_type": "code",
   "execution_count": 96,
   "metadata": {},
   "outputs": [
    {
     "data": {
      "text/plain": [
       "False"
      ]
     },
     "execution_count": 96,
     "metadata": {},
     "output_type": "execute_result"
    }
   ],
   "source": [
    "1 > 2"
   ]
  },
  {
   "cell_type": "code",
   "execution_count": 97,
   "metadata": {},
   "outputs": [
    {
     "data": {
      "text/plain": [
       "True"
      ]
     },
     "execution_count": 97,
     "metadata": {},
     "output_type": "execute_result"
    }
   ],
   "source": [
    "1 <= 1"
   ]
  },
  {
   "cell_type": "code",
   "execution_count": 98,
   "metadata": {},
   "outputs": [
    {
     "data": {
      "text/plain": [
       "False"
      ]
     },
     "execution_count": 98,
     "metadata": {},
     "output_type": "execute_result"
    }
   ],
   "source": [
    "1 >= 4"
   ]
  },
  {
   "cell_type": "code",
   "execution_count": 99,
   "metadata": {},
   "outputs": [
    {
     "data": {
      "text/plain": [
       "True"
      ]
     },
     "execution_count": 99,
     "metadata": {},
     "output_type": "execute_result"
    }
   ],
   "source": [
    "'a' == 'a'"
   ]
  },
  {
   "cell_type": "code",
   "execution_count": 100,
   "metadata": {},
   "outputs": [
    {
     "data": {
      "text/plain": [
       "False"
      ]
     },
     "execution_count": 100,
     "metadata": {},
     "output_type": "execute_result"
    }
   ],
   "source": [
    "'a' == 'A'"
   ]
  },
  {
   "cell_type": "code",
   "execution_count": 101,
   "metadata": {},
   "outputs": [
    {
     "data": {
      "text/plain": [
       "True"
      ]
     },
     "execution_count": 101,
     "metadata": {},
     "output_type": "execute_result"
    }
   ],
   "source": [
    "'hello' != 'hi'"
   ]
  },
  {
   "cell_type": "markdown",
   "metadata": {},
   "source": [
    "## Logical Operators"
   ]
  },
  {
   "cell_type": "code",
   "execution_count": 102,
   "metadata": {},
   "outputs": [
    {
     "data": {
      "text/plain": [
       "False"
      ]
     },
     "execution_count": 102,
     "metadata": {},
     "output_type": "execute_result"
    }
   ],
   "source": [
    "(1 > 2) and (3 == 3)"
   ]
  },
  {
   "cell_type": "code",
   "execution_count": 103,
   "metadata": {},
   "outputs": [
    {
     "data": {
      "text/plain": [
       "True"
      ]
     },
     "execution_count": 103,
     "metadata": {},
     "output_type": "execute_result"
    }
   ],
   "source": [
    "(1 > 2) or (3 == 3)"
   ]
  },
  {
   "cell_type": "markdown",
   "metadata": {},
   "source": [
    "## Conditional statements: if, elif, else"
   ]
  },
  {
   "cell_type": "markdown",
   "metadata": {},
   "source": [
    "**Syntax for a one-way `if` statement:**\n",
    "```python\n",
    "if condition:\n",
    "    statement(s)\n",
    "```\n",
    "\n",
    "**Syntax for a two-way `if-else` statement:**\n",
    "```python\n",
    "if condition:\n",
    "    statement(s)   # for True case\n",
    "else:\n",
    "    statement(s)   # for False case\n",
    "```\n",
    "\n",
    "**Syntax for a multi-way `if-elif-else` statement:**\n",
    "\n",
    "```python\n",
    "if condition1:\n",
    "    perform action1\n",
    "elif condition2:\n",
    "    perform action2\n",
    "else: \n",
    "    perform action3\n",
    "```"
   ]
  },
  {
   "cell_type": "code",
   "execution_count": 104,
   "metadata": {},
   "outputs": [
    {
     "name": "stdout",
     "output_type": "stream",
     "text": [
      "High Paying Job\n"
     ]
    }
   ],
   "source": [
    "salary = 120000\n",
    "if salary > 100000:\n",
    "    print('High Paying Job')"
   ]
  },
  {
   "cell_type": "code",
   "execution_count": 105,
   "metadata": {},
   "outputs": [
    {
     "name": "stdout",
     "output_type": "stream",
     "text": [
      "Low Paying Job\n"
     ]
    }
   ],
   "source": [
    "salary = 12000\n",
    "if salary > 100000:\n",
    "    print('High Paying Job')\n",
    "else:\n",
    "    print('Low Paying Job')"
   ]
  },
  {
   "cell_type": "code",
   "execution_count": 106,
   "metadata": {},
   "outputs": [
    {
     "name": "stdout",
     "output_type": "stream",
     "text": [
      "Normal\n"
     ]
    }
   ],
   "source": [
    "bmi = 19\n",
    "if bmi < 18.5:\n",
    "    print('Underweight')\n",
    "elif 18.5 <= bmi < 25:\n",
    "    print('Normal')\n",
    "elif 25 <= bmi < 30:\n",
    "    print('Overweight')\n",
    "else:\n",
    "    print('Obese')"
   ]
  },
  {
   "cell_type": "markdown",
   "metadata": {},
   "source": [
    "## `for` Loops\n",
    "\n",
    "```python\n",
    "for element in collection:\n",
    "    statement(s)\n",
    "```"
   ]
  },
  {
   "cell_type": "code",
   "execution_count": 107,
   "metadata": {},
   "outputs": [
    {
     "name": "stdout",
     "output_type": "stream",
     "text": [
      "1\n",
      "2\n",
      "3\n",
      "4\n",
      "5\n",
      "6\n",
      "7\n",
      "8\n",
      "9\n",
      "10\n"
     ]
    }
   ],
   "source": [
    "seq = [1, 2, 3, 4, 5, 6, 7, 8, 9, 10]\n",
    "for item in seq:\n",
    "    print(item)"
   ]
  },
  {
   "cell_type": "code",
   "execution_count": 108,
   "metadata": {},
   "outputs": [
    {
     "name": "stdout",
     "output_type": "stream",
     "text": [
      "0 a\n",
      "1 b\n",
      "2 c\n",
      "3 d\n"
     ]
    }
   ],
   "source": [
    "seq = ['a', 'b', 'c', 'd']\n",
    "for i, val in enumerate(seq):\n",
    "    print(i, val)"
   ]
  },
  {
   "cell_type": "code",
   "execution_count": 109,
   "metadata": {},
   "outputs": [
    {
     "data": {
      "text/plain": [
       "<enumerate at 0x24100d59090>"
      ]
     },
     "execution_count": 109,
     "metadata": {},
     "output_type": "execute_result"
    }
   ],
   "source": [
    "enumerate(seq)"
   ]
  },
  {
   "cell_type": "code",
   "execution_count": 113,
   "metadata": {},
   "outputs": [
    {
     "data": {
      "text/plain": [
       "range(0, 9000000000)"
      ]
     },
     "execution_count": 113,
     "metadata": {},
     "output_type": "execute_result"
    }
   ],
   "source": [
    "range(9000000000)"
   ]
  },
  {
   "cell_type": "code",
   "execution_count": 112,
   "metadata": {},
   "outputs": [
    {
     "data": {
      "text/plain": [
       "[0, 1, 2, 3, 4, 5, 6, 7, 8]"
      ]
     },
     "execution_count": 112,
     "metadata": {},
     "output_type": "execute_result"
    }
   ],
   "source": [
    "list(range(9))"
   ]
  },
  {
   "cell_type": "code",
   "execution_count": 110,
   "metadata": {},
   "outputs": [
    {
     "data": {
      "text/plain": [
       "[(0, 'a'), (1, 'b'), (2, 'c'), (3, 'd')]"
      ]
     },
     "execution_count": 110,
     "metadata": {},
     "output_type": "execute_result"
    }
   ],
   "source": [
    "list(enumerate(seq))"
   ]
  },
  {
   "cell_type": "code",
   "execution_count": 118,
   "metadata": {},
   "outputs": [
    {
     "name": "stdout",
     "output_type": "stream",
     "text": [
      "0 1 One\n",
      "1 2 Two\n",
      "2 3 Three\n",
      "3 4 Four\n"
     ]
    }
   ],
   "source": [
    "x = [(1, 'One'), (2, 'Two'), (3, 'Three'), (4, 'Four')]\n",
    "for a, b in enumerate(x):\n",
    "    c,d = b\n",
    "    print(a,c,d)"
   ]
  },
  {
   "cell_type": "markdown",
   "metadata": {},
   "source": [
    "## `while` Loops\n",
    "\n",
    "```python\n",
    "while expression:\n",
    "    statement(s)\n",
    "```\n",
    "\n",
    "\n",
    "```python\n",
    "while True:\n",
    "    print('write forever, unless there is a \"break\"')\n",
    "```"
   ]
  },
  {
   "cell_type": "code",
   "execution_count": 119,
   "metadata": {},
   "outputs": [
    {
     "name": "stdout",
     "output_type": "stream",
     "text": [
      "1\n",
      "2\n",
      "3\n"
     ]
    }
   ],
   "source": [
    "i = 1\n",
    "while i < 4:\n",
    "    print(i)\n",
    "    i += 1"
   ]
  },
  {
   "cell_type": "code",
   "execution_count": 120,
   "metadata": {},
   "outputs": [
    {
     "name": "stdout",
     "output_type": "stream",
     "text": [
      "Enter name or \"done\" to exit: a\n",
      "a\n",
      "Enter name or \"done\" to exit: s\n",
      "s\n",
      "Enter name or \"done\" to exit: d\n",
      "d\n",
      "Enter name or \"done\" to exit: r\n",
      "r\n",
      "Enter name or \"done\" to exit: t\n",
      "t\n",
      "Enter name or \"done\" to exit: done\n",
      "DONE!\n"
     ]
    }
   ],
   "source": [
    "while True:\n",
    "    name = input('Enter name or \"done\" to exit: ')\n",
    "    if name == 'done':\n",
    "        break\n",
    "    print(name)\n",
    "print('DONE!')"
   ]
  },
  {
   "cell_type": "markdown",
   "metadata": {},
   "source": [
    "## `range()`"
   ]
  },
  {
   "cell_type": "code",
   "execution_count": 121,
   "metadata": {},
   "outputs": [
    {
     "data": {
      "text/plain": [
       "range(0, 10)"
      ]
     },
     "execution_count": 121,
     "metadata": {},
     "output_type": "execute_result"
    }
   ],
   "source": [
    "range(10)"
   ]
  },
  {
   "cell_type": "code",
   "execution_count": 122,
   "metadata": {},
   "outputs": [
    {
     "name": "stdout",
     "output_type": "stream",
     "text": [
      "0\n",
      "1\n",
      "2\n",
      "3\n",
      "4\n",
      "5\n",
      "6\n",
      "7\n",
      "8\n",
      "9\n"
     ]
    }
   ],
   "source": [
    "for i in range(10):\n",
    "    print(i)"
   ]
  },
  {
   "cell_type": "code",
   "execution_count": 124,
   "metadata": {},
   "outputs": [
    {
     "data": {
      "text/plain": [
       "[1, 3, 5, 7, 9]"
      ]
     },
     "execution_count": 124,
     "metadata": {},
     "output_type": "execute_result"
    }
   ],
   "source": [
    "list(range(1, 10, 2))"
   ]
  },
  {
   "cell_type": "code",
   "execution_count": 125,
   "metadata": {},
   "outputs": [
    {
     "name": "stdout",
     "output_type": "stream",
     "text": [
      "[1, 4, 9, 16, 25, 36, 49, 64, 81, 100]\n"
     ]
    }
   ],
   "source": [
    "squares = []\n",
    "for n in range(1,11):\n",
    "    squares.append(n * n)\n",
    "    \n",
    "print(squares)"
   ]
  },
  {
   "cell_type": "markdown",
   "metadata": {},
   "source": [
    "## Functions\n",
    "\n",
    "\n",
    "```python\n",
    "def function_name(parameters):\n",
    "    body\n",
    "```\n",
    "\n",
    "\n",
    "- **`def`**: a keyword indicating a function definition\n",
    "- **`function_name`**: the function name \n",
    "- **`parameters`**: the parameter(s) of the function, 0 or more and are separated by a comma\n",
    "a parameter is a variable whose value will be supplied when the function is called\n",
    "- **`body`**: 1 or more statements, often ending with a `return` statement\n",
    "\n",
    "**The general form of a `return` statement:**\n",
    "\n",
    "```python\n",
    "return expression\n",
    "```"
   ]
  },
  {
   "cell_type": "code",
   "execution_count": 126,
   "metadata": {},
   "outputs": [],
   "source": [
    "def add_one(value):\n",
    "    return value + 1"
   ]
  },
  {
   "cell_type": "code",
   "execution_count": 127,
   "metadata": {
    "scrolled": true
   },
   "outputs": [
    {
     "data": {
      "text/plain": [
       "11"
      ]
     },
     "execution_count": 127,
     "metadata": {},
     "output_type": "execute_result"
    }
   ],
   "source": [
    "add_one(10)"
   ]
  },
  {
   "cell_type": "code",
   "execution_count": 128,
   "metadata": {},
   "outputs": [],
   "source": [
    "# Global vs Local Variables\n",
    "\n",
    "num1 = 5\n",
    "\n",
    "def abc():\n",
    "    num1 = 10\n",
    "    num2 = num1*5\n",
    "    print(num2)"
   ]
  },
  {
   "cell_type": "code",
   "execution_count": 129,
   "metadata": {
    "scrolled": true
   },
   "outputs": [
    {
     "name": "stdout",
     "output_type": "stream",
     "text": [
      "50\n"
     ]
    }
   ],
   "source": [
    "abc()"
   ]
  },
  {
   "cell_type": "code",
   "execution_count": 130,
   "metadata": {},
   "outputs": [
    {
     "name": "stdout",
     "output_type": "stream",
     "text": [
      "5\n"
     ]
    }
   ],
   "source": [
    "print(num1)"
   ]
  },
  {
   "cell_type": "code",
   "execution_count": 131,
   "metadata": {},
   "outputs": [
    {
     "ename": "NameError",
     "evalue": "name 'num2' is not defined",
     "output_type": "error",
     "traceback": [
      "\u001b[1;31m---------------------------------------------------------------------------\u001b[0m",
      "\u001b[1;31mNameError\u001b[0m                                 Traceback (most recent call last)",
      "\u001b[1;32m<ipython-input-131-c64576a94a72>\u001b[0m in \u001b[0;36m<module>\u001b[1;34m\u001b[0m\n\u001b[1;32m----> 1\u001b[1;33m \u001b[0mprint\u001b[0m\u001b[1;33m(\u001b[0m\u001b[0mnum2\u001b[0m\u001b[1;33m)\u001b[0m\u001b[1;33m\u001b[0m\u001b[1;33m\u001b[0m\u001b[0m\n\u001b[0m",
      "\u001b[1;31mNameError\u001b[0m: name 'num2' is not defined"
     ]
    }
   ],
   "source": [
    "print(num2)"
   ]
  },
  {
   "cell_type": "markdown",
   "metadata": {},
   "source": [
    "## Lambda Expressions"
   ]
  },
  {
   "cell_type": "markdown",
   "metadata": {},
   "source": [
    "`lambda` expression\n",
    "```python\n",
    "lambda arguments: expression```\n",
    "\n",
    "is equivalent to\n",
    "\n",
    "```python\n",
    "def name(arguments):\n",
    "    return expression```"
   ]
  },
  {
   "cell_type": "code",
   "execution_count": 132,
   "metadata": {},
   "outputs": [],
   "source": [
    "def square(x):\n",
    "    return x*x"
   ]
  },
  {
   "cell_type": "code",
   "execution_count": 136,
   "metadata": {},
   "outputs": [
    {
     "data": {
      "text/plain": [
       "4"
      ]
     },
     "execution_count": 136,
     "metadata": {},
     "output_type": "execute_result"
    }
   ],
   "source": [
    "square(2)"
   ]
  },
  {
   "cell_type": "code",
   "execution_count": 135,
   "metadata": {},
   "outputs": [],
   "source": [
    "sq = lambda x: x*x"
   ]
  },
  {
   "cell_type": "code",
   "execution_count": 137,
   "metadata": {},
   "outputs": [
    {
     "data": {
      "text/plain": [
       "4"
      ]
     },
     "execution_count": 137,
     "metadata": {},
     "output_type": "execute_result"
    }
   ],
   "source": [
    "sq(2)"
   ]
  },
  {
   "cell_type": "markdown",
   "metadata": {},
   "source": [
    "## map() and filter()"
   ]
  },
  {
   "cell_type": "code",
   "execution_count": 138,
   "metadata": {},
   "outputs": [
    {
     "data": {
      "text/plain": [
       "[0, 1, 2, 3, 4]"
      ]
     },
     "execution_count": 138,
     "metadata": {},
     "output_type": "execute_result"
    }
   ],
   "source": [
    "seq = list(range(5))\n",
    "seq"
   ]
  },
  {
   "cell_type": "code",
   "execution_count": 139,
   "metadata": {},
   "outputs": [
    {
     "data": {
      "text/plain": [
       "<map at 0x24100d41dd8>"
      ]
     },
     "execution_count": 139,
     "metadata": {},
     "output_type": "execute_result"
    }
   ],
   "source": [
    "map(square, seq)"
   ]
  },
  {
   "cell_type": "code",
   "execution_count": 140,
   "metadata": {},
   "outputs": [
    {
     "data": {
      "text/plain": [
       "[0, 1, 4, 9, 16]"
      ]
     },
     "execution_count": 140,
     "metadata": {},
     "output_type": "execute_result"
    }
   ],
   "source": [
    "list(map(square, seq))"
   ]
  },
  {
   "cell_type": "code",
   "execution_count": 141,
   "metadata": {},
   "outputs": [
    {
     "data": {
      "text/plain": [
       "[0, 1, 4, 9, 16]"
      ]
     },
     "execution_count": 141,
     "metadata": {},
     "output_type": "execute_result"
    }
   ],
   "source": [
    "list(map(lambda x: x*x, seq))"
   ]
  },
  {
   "cell_type": "code",
   "execution_count": 142,
   "metadata": {},
   "outputs": [
    {
     "data": {
      "text/plain": [
       "<filter at 0x24100d492e8>"
      ]
     },
     "execution_count": 142,
     "metadata": {},
     "output_type": "execute_result"
    }
   ],
   "source": [
    "filter(lambda x: x%2 == 0, seq)"
   ]
  },
  {
   "cell_type": "code",
   "execution_count": 143,
   "metadata": {},
   "outputs": [
    {
     "data": {
      "text/plain": [
       "[0, 2, 4]"
      ]
     },
     "execution_count": 143,
     "metadata": {},
     "output_type": "execute_result"
    }
   ],
   "source": [
    "list(filter(lambda x: x%2 == 0, seq))"
   ]
  }
 ],
 "metadata": {
  "kernelspec": {
   "display_name": "Python 3",
   "language": "python",
   "name": "python3"
  },
  "language_info": {
   "codemirror_mode": {
    "name": "ipython",
    "version": 3
   },
   "file_extension": ".py",
   "mimetype": "text/x-python",
   "name": "python",
   "nbconvert_exporter": "python",
   "pygments_lexer": "ipython3",
   "version": "3.7.3"
  }
 },
 "nbformat": 4,
 "nbformat_minor": 2
}
