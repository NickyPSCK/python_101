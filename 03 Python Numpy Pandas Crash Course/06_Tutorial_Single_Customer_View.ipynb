{
 "cells": [
  {
   "cell_type": "markdown",
   "metadata": {},
   "source": [
    "# Single Customer View"
   ]
  },
  {
   "cell_type": "markdown",
   "metadata": {},
   "source": [
    "**The Conception of Customer Single View**\n",
    "\n",
    "- RFM\n",
    "\n",
    "    - R: Recency (ex. last visit)\n",
    "    - F: Frequency (ex. total visit) \n",
    "    - M: Monetary (ex. total spend)\n",
    "\n",
    "for more information: https://medium.com/@thanachart.rit/building-customer-single-view-customer-360-3539c971092c"
   ]
  },
  {
   "cell_type": "code",
   "execution_count": 1,
   "metadata": {},
   "outputs": [],
   "source": [
    "import numpy as np\n",
    "import pandas as pd"
   ]
  },
  {
   "cell_type": "code",
   "execution_count": 2,
   "metadata": {},
   "outputs": [],
   "source": [
    "df = pd.read_csv('supermarket_data.csv')"
   ]
  },
  {
   "cell_type": "code",
   "execution_count": 3,
   "metadata": {},
   "outputs": [
    {
     "data": {
      "text/html": [
       "<div>\n",
       "<style scoped>\n",
       "    .dataframe tbody tr th:only-of-type {\n",
       "        vertical-align: middle;\n",
       "    }\n",
       "\n",
       "    .dataframe tbody tr th {\n",
       "        vertical-align: top;\n",
       "    }\n",
       "\n",
       "    .dataframe thead th {\n",
       "        text-align: right;\n",
       "    }\n",
       "</style>\n",
       "<table border=\"1\" class=\"dataframe\">\n",
       "  <thead>\n",
       "    <tr style=\"text-align: right;\">\n",
       "      <th></th>\n",
       "      <th>SHOP_DATE</th>\n",
       "      <th>SHOP_HOUR</th>\n",
       "      <th>BASKET_ID</th>\n",
       "      <th>CUST_CODE</th>\n",
       "      <th>STORE_CODE</th>\n",
       "      <th>PROD_CODE</th>\n",
       "      <th>QUANTITY</th>\n",
       "      <th>SPEND</th>\n",
       "    </tr>\n",
       "  </thead>\n",
       "  <tbody>\n",
       "    <tr>\n",
       "      <th>0</th>\n",
       "      <td>20071006</td>\n",
       "      <td>21</td>\n",
       "      <td>994107800268406</td>\n",
       "      <td>CUST0000153531</td>\n",
       "      <td>STORE00001</td>\n",
       "      <td>PRD0901391</td>\n",
       "      <td>1</td>\n",
       "      <td>0.37</td>\n",
       "    </tr>\n",
       "    <tr>\n",
       "      <th>1</th>\n",
       "      <td>20070201</td>\n",
       "      <td>15</td>\n",
       "      <td>994104300305853</td>\n",
       "      <td>CUST0000219191</td>\n",
       "      <td>STORE00002</td>\n",
       "      <td>PRD0901915</td>\n",
       "      <td>1</td>\n",
       "      <td>5.08</td>\n",
       "    </tr>\n",
       "    <tr>\n",
       "      <th>2</th>\n",
       "      <td>20071103</td>\n",
       "      <td>13</td>\n",
       "      <td>994108200514137</td>\n",
       "      <td>CUST0000526979</td>\n",
       "      <td>STORE00003</td>\n",
       "      <td>PRD0903379</td>\n",
       "      <td>1</td>\n",
       "      <td>2.36</td>\n",
       "    </tr>\n",
       "    <tr>\n",
       "      <th>3</th>\n",
       "      <td>20070206</td>\n",
       "      <td>18</td>\n",
       "      <td>994104400743650</td>\n",
       "      <td>CUST0000913709</td>\n",
       "      <td>STORE00004</td>\n",
       "      <td>PRD0903305</td>\n",
       "      <td>1</td>\n",
       "      <td>0.20</td>\n",
       "    </tr>\n",
       "    <tr>\n",
       "      <th>4</th>\n",
       "      <td>20071015</td>\n",
       "      <td>19</td>\n",
       "      <td>994108000780959</td>\n",
       "      <td>CUST0000961285</td>\n",
       "      <td>STORE00001</td>\n",
       "      <td>PRD0903387</td>\n",
       "      <td>1</td>\n",
       "      <td>1.65</td>\n",
       "    </tr>\n",
       "  </tbody>\n",
       "</table>\n",
       "</div>"
      ],
      "text/plain": [
       "   SHOP_DATE  SHOP_HOUR        BASKET_ID       CUST_CODE  STORE_CODE  \\\n",
       "0   20071006         21  994107800268406  CUST0000153531  STORE00001   \n",
       "1   20070201         15  994104300305853  CUST0000219191  STORE00002   \n",
       "2   20071103         13  994108200514137  CUST0000526979  STORE00003   \n",
       "3   20070206         18  994104400743650  CUST0000913709  STORE00004   \n",
       "4   20071015         19  994108000780959  CUST0000961285  STORE00001   \n",
       "\n",
       "    PROD_CODE  QUANTITY  SPEND  \n",
       "0  PRD0901391         1   0.37  \n",
       "1  PRD0901915         1   5.08  \n",
       "2  PRD0903379         1   2.36  \n",
       "3  PRD0903305         1   0.20  \n",
       "4  PRD0903387         1   1.65  "
      ]
     },
     "execution_count": 3,
     "metadata": {},
     "output_type": "execute_result"
    }
   ],
   "source": [
    "df.head()"
   ]
  },
  {
   "cell_type": "code",
   "execution_count": 4,
   "metadata": {},
   "outputs": [
    {
     "name": "stdout",
     "output_type": "stream",
     "text": [
      "<class 'pandas.core.frame.DataFrame'>\n",
      "RangeIndex: 671914 entries, 0 to 671913\n",
      "Data columns (total 8 columns):\n",
      "SHOP_DATE     671914 non-null int64\n",
      "SHOP_HOUR     671914 non-null int64\n",
      "BASKET_ID     671914 non-null int64\n",
      "CUST_CODE     671914 non-null object\n",
      "STORE_CODE    671914 non-null object\n",
      "PROD_CODE     671914 non-null object\n",
      "QUANTITY      671914 non-null int64\n",
      "SPEND         671914 non-null float64\n",
      "dtypes: float64(1), int64(4), object(3)\n",
      "memory usage: 41.0+ MB\n"
     ]
    }
   ],
   "source": [
    "df.info()"
   ]
  },
  {
   "cell_type": "code",
   "execution_count": 5,
   "metadata": {},
   "outputs": [
    {
     "data": {
      "text/html": [
       "<div>\n",
       "<style scoped>\n",
       "    .dataframe tbody tr th:only-of-type {\n",
       "        vertical-align: middle;\n",
       "    }\n",
       "\n",
       "    .dataframe tbody tr th {\n",
       "        vertical-align: top;\n",
       "    }\n",
       "\n",
       "    .dataframe thead th {\n",
       "        text-align: right;\n",
       "    }\n",
       "</style>\n",
       "<table border=\"1\" class=\"dataframe\">\n",
       "  <thead>\n",
       "    <tr style=\"text-align: right;\">\n",
       "      <th></th>\n",
       "      <th>SHOP_DATE</th>\n",
       "      <th>SHOP_HOUR</th>\n",
       "      <th>BASKET_ID</th>\n",
       "      <th>QUANTITY</th>\n",
       "      <th>SPEND</th>\n",
       "    </tr>\n",
       "  </thead>\n",
       "  <tbody>\n",
       "    <tr>\n",
       "      <th>count</th>\n",
       "      <td>6.719140e+05</td>\n",
       "      <td>671914.000000</td>\n",
       "      <td>6.719140e+05</td>\n",
       "      <td>671914.000000</td>\n",
       "      <td>671914.000000</td>\n",
       "    </tr>\n",
       "    <tr>\n",
       "      <th>mean</th>\n",
       "      <td>2.007391e+07</td>\n",
       "      <td>14.745869</td>\n",
       "      <td>9.941078e+14</td>\n",
       "      <td>1.514344</td>\n",
       "      <td>1.852796</td>\n",
       "    </tr>\n",
       "    <tr>\n",
       "      <th>std</th>\n",
       "      <td>4.594496e+03</td>\n",
       "      <td>3.551738</td>\n",
       "      <td>2.286042e+09</td>\n",
       "      <td>1.668037</td>\n",
       "      <td>2.589564</td>\n",
       "    </tr>\n",
       "    <tr>\n",
       "      <th>min</th>\n",
       "      <td>2.007010e+07</td>\n",
       "      <td>8.000000</td>\n",
       "      <td>9.941039e+14</td>\n",
       "      <td>1.000000</td>\n",
       "      <td>0.010000</td>\n",
       "    </tr>\n",
       "    <tr>\n",
       "      <th>25%</th>\n",
       "      <td>2.007052e+07</td>\n",
       "      <td>12.000000</td>\n",
       "      <td>9.941058e+14</td>\n",
       "      <td>1.000000</td>\n",
       "      <td>0.750000</td>\n",
       "    </tr>\n",
       "    <tr>\n",
       "      <th>50%</th>\n",
       "      <td>2.007093e+07</td>\n",
       "      <td>15.000000</td>\n",
       "      <td>9.941077e+14</td>\n",
       "      <td>1.000000</td>\n",
       "      <td>1.210000</td>\n",
       "    </tr>\n",
       "    <tr>\n",
       "      <th>75%</th>\n",
       "      <td>2.008022e+07</td>\n",
       "      <td>17.000000</td>\n",
       "      <td>9.941098e+14</td>\n",
       "      <td>1.000000</td>\n",
       "      <td>2.040000</td>\n",
       "    </tr>\n",
       "    <tr>\n",
       "      <th>max</th>\n",
       "      <td>2.008071e+07</td>\n",
       "      <td>21.000000</td>\n",
       "      <td>9.941117e+14</td>\n",
       "      <td>73.000000</td>\n",
       "      <td>189.630000</td>\n",
       "    </tr>\n",
       "  </tbody>\n",
       "</table>\n",
       "</div>"
      ],
      "text/plain": [
       "          SHOP_DATE      SHOP_HOUR     BASKET_ID       QUANTITY          SPEND\n",
       "count  6.719140e+05  671914.000000  6.719140e+05  671914.000000  671914.000000\n",
       "mean   2.007391e+07      14.745869  9.941078e+14       1.514344       1.852796\n",
       "std    4.594496e+03       3.551738  2.286042e+09       1.668037       2.589564\n",
       "min    2.007010e+07       8.000000  9.941039e+14       1.000000       0.010000\n",
       "25%    2.007052e+07      12.000000  9.941058e+14       1.000000       0.750000\n",
       "50%    2.007093e+07      15.000000  9.941077e+14       1.000000       1.210000\n",
       "75%    2.008022e+07      17.000000  9.941098e+14       1.000000       2.040000\n",
       "max    2.008071e+07      21.000000  9.941117e+14      73.000000     189.630000"
      ]
     },
     "execution_count": 5,
     "metadata": {},
     "output_type": "execute_result"
    }
   ],
   "source": [
    "df.describe()"
   ]
  },
  {
   "cell_type": "code",
   "execution_count": 6,
   "metadata": {},
   "outputs": [],
   "source": [
    "df['SHOP_DATE'] = pd.to_datetime(df['SHOP_DATE'], format='%Y%m%d')"
   ]
  },
  {
   "cell_type": "code",
   "execution_count": 7,
   "metadata": {},
   "outputs": [
    {
     "data": {
      "text/html": [
       "<div>\n",
       "<style scoped>\n",
       "    .dataframe tbody tr th:only-of-type {\n",
       "        vertical-align: middle;\n",
       "    }\n",
       "\n",
       "    .dataframe tbody tr th {\n",
       "        vertical-align: top;\n",
       "    }\n",
       "\n",
       "    .dataframe thead th {\n",
       "        text-align: right;\n",
       "    }\n",
       "</style>\n",
       "<table border=\"1\" class=\"dataframe\">\n",
       "  <thead>\n",
       "    <tr style=\"text-align: right;\">\n",
       "      <th></th>\n",
       "      <th>SHOP_DATE</th>\n",
       "      <th>SHOP_HOUR</th>\n",
       "      <th>BASKET_ID</th>\n",
       "      <th>CUST_CODE</th>\n",
       "      <th>STORE_CODE</th>\n",
       "      <th>PROD_CODE</th>\n",
       "      <th>QUANTITY</th>\n",
       "      <th>SPEND</th>\n",
       "    </tr>\n",
       "  </thead>\n",
       "  <tbody>\n",
       "    <tr>\n",
       "      <th>0</th>\n",
       "      <td>2007-10-06</td>\n",
       "      <td>21</td>\n",
       "      <td>994107800268406</td>\n",
       "      <td>CUST0000153531</td>\n",
       "      <td>STORE00001</td>\n",
       "      <td>PRD0901391</td>\n",
       "      <td>1</td>\n",
       "      <td>0.37</td>\n",
       "    </tr>\n",
       "    <tr>\n",
       "      <th>1</th>\n",
       "      <td>2007-02-01</td>\n",
       "      <td>15</td>\n",
       "      <td>994104300305853</td>\n",
       "      <td>CUST0000219191</td>\n",
       "      <td>STORE00002</td>\n",
       "      <td>PRD0901915</td>\n",
       "      <td>1</td>\n",
       "      <td>5.08</td>\n",
       "    </tr>\n",
       "    <tr>\n",
       "      <th>2</th>\n",
       "      <td>2007-11-03</td>\n",
       "      <td>13</td>\n",
       "      <td>994108200514137</td>\n",
       "      <td>CUST0000526979</td>\n",
       "      <td>STORE00003</td>\n",
       "      <td>PRD0903379</td>\n",
       "      <td>1</td>\n",
       "      <td>2.36</td>\n",
       "    </tr>\n",
       "    <tr>\n",
       "      <th>3</th>\n",
       "      <td>2007-02-06</td>\n",
       "      <td>18</td>\n",
       "      <td>994104400743650</td>\n",
       "      <td>CUST0000913709</td>\n",
       "      <td>STORE00004</td>\n",
       "      <td>PRD0903305</td>\n",
       "      <td>1</td>\n",
       "      <td>0.20</td>\n",
       "    </tr>\n",
       "    <tr>\n",
       "      <th>4</th>\n",
       "      <td>2007-10-15</td>\n",
       "      <td>19</td>\n",
       "      <td>994108000780959</td>\n",
       "      <td>CUST0000961285</td>\n",
       "      <td>STORE00001</td>\n",
       "      <td>PRD0903387</td>\n",
       "      <td>1</td>\n",
       "      <td>1.65</td>\n",
       "    </tr>\n",
       "  </tbody>\n",
       "</table>\n",
       "</div>"
      ],
      "text/plain": [
       "   SHOP_DATE  SHOP_HOUR        BASKET_ID       CUST_CODE  STORE_CODE  \\\n",
       "0 2007-10-06         21  994107800268406  CUST0000153531  STORE00001   \n",
       "1 2007-02-01         15  994104300305853  CUST0000219191  STORE00002   \n",
       "2 2007-11-03         13  994108200514137  CUST0000526979  STORE00003   \n",
       "3 2007-02-06         18  994104400743650  CUST0000913709  STORE00004   \n",
       "4 2007-10-15         19  994108000780959  CUST0000961285  STORE00001   \n",
       "\n",
       "    PROD_CODE  QUANTITY  SPEND  \n",
       "0  PRD0901391         1   0.37  \n",
       "1  PRD0901915         1   5.08  \n",
       "2  PRD0903379         1   2.36  \n",
       "3  PRD0903305         1   0.20  \n",
       "4  PRD0903387         1   1.65  "
      ]
     },
     "execution_count": 7,
     "metadata": {},
     "output_type": "execute_result"
    }
   ],
   "source": [
    "df.head()"
   ]
  },
  {
   "cell_type": "code",
   "execution_count": 8,
   "metadata": {},
   "outputs": [],
   "source": [
    "df2 = df.groupby('CUST_CODE').SHOP_DATE.max()"
   ]
  },
  {
   "cell_type": "code",
   "execution_count": 9,
   "metadata": {},
   "outputs": [
    {
     "data": {
      "text/plain": [
       "CUST_CODE\n",
       "CUST0000000107   2008-03-25\n",
       "CUST0000000369   2008-07-05\n",
       "CUST0000001388   2008-04-11\n",
       "CUST0000002302   2008-07-03\n",
       "CUST0000002637   2008-05-30\n",
       "CUST0000002638   2007-04-14\n",
       "CUST0000002817   2008-06-16\n",
       "CUST0000003044   2007-01-24\n",
       "CUST0000003252   2008-04-04\n",
       "CUST0000003287   2008-05-10\n",
       "CUST0000003323   2007-08-29\n",
       "CUST0000003679   2008-06-25\n",
       "CUST0000003766   2007-01-29\n",
       "CUST0000003953   2008-07-05\n",
       "CUST0000004088   2008-06-29\n",
       "CUST0000004250   2007-08-06\n",
       "CUST0000004594   2008-07-01\n",
       "CUST0000005207   2007-06-22\n",
       "CUST0000005379   2008-06-14\n",
       "CUST0000005893   2008-04-01\n",
       "CUST0000005977   2007-11-19\n",
       "CUST0000006193   2007-11-10\n",
       "CUST0000006298   2008-03-02\n",
       "CUST0000006485   2008-02-15\n",
       "CUST0000006666   2008-05-19\n",
       "CUST0000007392   2008-06-05\n",
       "CUST0000007501   2008-06-26\n",
       "CUST0000007712   2008-06-01\n",
       "CUST0000007759   2008-01-06\n",
       "CUST0000007960   2008-03-31\n",
       "                    ...    \n",
       "CUST0000995409   2007-08-20\n",
       "CUST0000996042   2008-06-01\n",
       "CUST0000996170   2008-07-04\n",
       "CUST0000996460   2008-07-05\n",
       "CUST0000996753   2008-07-01\n",
       "CUST0000996827   2007-01-29\n",
       "CUST0000996831   2007-10-20\n",
       "CUST0000996860   2008-07-06\n",
       "CUST0000996878   2008-07-03\n",
       "CUST0000997078   2007-07-25\n",
       "CUST0000997122   2008-07-02\n",
       "CUST0000997159   2008-05-02\n",
       "CUST0000997232   2007-02-04\n",
       "CUST0000997274   2007-10-29\n",
       "CUST0000997461   2007-08-20\n",
       "CUST0000997577   2008-05-26\n",
       "CUST0000997635   2008-06-29\n",
       "CUST0000997743   2008-06-28\n",
       "CUST0000997871   2008-06-29\n",
       "CUST0000998049   2007-02-16\n",
       "CUST0000998299   2007-07-11\n",
       "CUST0000998450   2008-04-08\n",
       "CUST0000998703   2008-05-23\n",
       "CUST0000998737   2008-02-03\n",
       "CUST0000999128   2008-06-09\n",
       "CUST0000999439   2008-07-05\n",
       "CUST0000999544   2007-03-23\n",
       "CUST0000999593   2008-04-02\n",
       "CUST0000999935   2008-06-05\n",
       "CUST0000999936   2008-04-17\n",
       "Name: SHOP_DATE, Length: 4891, dtype: datetime64[ns]"
      ]
     },
     "execution_count": 9,
     "metadata": {},
     "output_type": "execute_result"
    }
   ],
   "source": [
    "df2 "
   ]
  },
  {
   "cell_type": "code",
   "execution_count": 10,
   "metadata": {},
   "outputs": [
    {
     "data": {
      "text/plain": [
       "pandas.core.series.Series"
      ]
     },
     "execution_count": 10,
     "metadata": {},
     "output_type": "execute_result"
    }
   ],
   "source": [
    "type(df2)"
   ]
  },
  {
   "cell_type": "code",
   "execution_count": 11,
   "metadata": {},
   "outputs": [],
   "source": [
    "df3 = pd.DataFrame(df2).rename(columns={\"SHOP_DATE\": \"Last_visit\"})"
   ]
  },
  {
   "cell_type": "code",
   "execution_count": 12,
   "metadata": {},
   "outputs": [
    {
     "data": {
      "text/html": [
       "<div>\n",
       "<style scoped>\n",
       "    .dataframe tbody tr th:only-of-type {\n",
       "        vertical-align: middle;\n",
       "    }\n",
       "\n",
       "    .dataframe tbody tr th {\n",
       "        vertical-align: top;\n",
       "    }\n",
       "\n",
       "    .dataframe thead th {\n",
       "        text-align: right;\n",
       "    }\n",
       "</style>\n",
       "<table border=\"1\" class=\"dataframe\">\n",
       "  <thead>\n",
       "    <tr style=\"text-align: right;\">\n",
       "      <th></th>\n",
       "      <th>Last_visit</th>\n",
       "    </tr>\n",
       "    <tr>\n",
       "      <th>CUST_CODE</th>\n",
       "      <th></th>\n",
       "    </tr>\n",
       "  </thead>\n",
       "  <tbody>\n",
       "    <tr>\n",
       "      <th>CUST0000000107</th>\n",
       "      <td>2008-03-25</td>\n",
       "    </tr>\n",
       "    <tr>\n",
       "      <th>CUST0000000369</th>\n",
       "      <td>2008-07-05</td>\n",
       "    </tr>\n",
       "    <tr>\n",
       "      <th>CUST0000001388</th>\n",
       "      <td>2008-04-11</td>\n",
       "    </tr>\n",
       "    <tr>\n",
       "      <th>CUST0000002302</th>\n",
       "      <td>2008-07-03</td>\n",
       "    </tr>\n",
       "    <tr>\n",
       "      <th>CUST0000002637</th>\n",
       "      <td>2008-05-30</td>\n",
       "    </tr>\n",
       "  </tbody>\n",
       "</table>\n",
       "</div>"
      ],
      "text/plain": [
       "               Last_visit\n",
       "CUST_CODE                \n",
       "CUST0000000107 2008-03-25\n",
       "CUST0000000369 2008-07-05\n",
       "CUST0000001388 2008-04-11\n",
       "CUST0000002302 2008-07-03\n",
       "CUST0000002637 2008-05-30"
      ]
     },
     "execution_count": 12,
     "metadata": {},
     "output_type": "execute_result"
    }
   ],
   "source": [
    "df3.head()"
   ]
  },
  {
   "cell_type": "code",
   "execution_count": 13,
   "metadata": {},
   "outputs": [],
   "source": [
    "df3[\"Total_visit\"] = df.groupby('CUST_CODE').BASKET_ID.nunique()"
   ]
  },
  {
   "cell_type": "code",
   "execution_count": 14,
   "metadata": {},
   "outputs": [
    {
     "data": {
      "text/html": [
       "<div>\n",
       "<style scoped>\n",
       "    .dataframe tbody tr th:only-of-type {\n",
       "        vertical-align: middle;\n",
       "    }\n",
       "\n",
       "    .dataframe tbody tr th {\n",
       "        vertical-align: top;\n",
       "    }\n",
       "\n",
       "    .dataframe thead th {\n",
       "        text-align: right;\n",
       "    }\n",
       "</style>\n",
       "<table border=\"1\" class=\"dataframe\">\n",
       "  <thead>\n",
       "    <tr style=\"text-align: right;\">\n",
       "      <th></th>\n",
       "      <th>Last_visit</th>\n",
       "      <th>Total_visit</th>\n",
       "    </tr>\n",
       "    <tr>\n",
       "      <th>CUST_CODE</th>\n",
       "      <th></th>\n",
       "      <th></th>\n",
       "    </tr>\n",
       "  </thead>\n",
       "  <tbody>\n",
       "    <tr>\n",
       "      <th>CUST0000000107</th>\n",
       "      <td>2008-03-25</td>\n",
       "      <td>1</td>\n",
       "    </tr>\n",
       "    <tr>\n",
       "      <th>CUST0000000369</th>\n",
       "      <td>2008-07-05</td>\n",
       "      <td>126</td>\n",
       "    </tr>\n",
       "    <tr>\n",
       "      <th>CUST0000001388</th>\n",
       "      <td>2008-04-11</td>\n",
       "      <td>4</td>\n",
       "    </tr>\n",
       "    <tr>\n",
       "      <th>CUST0000002302</th>\n",
       "      <td>2008-07-03</td>\n",
       "      <td>71</td>\n",
       "    </tr>\n",
       "    <tr>\n",
       "      <th>CUST0000002637</th>\n",
       "      <td>2008-05-30</td>\n",
       "      <td>7</td>\n",
       "    </tr>\n",
       "  </tbody>\n",
       "</table>\n",
       "</div>"
      ],
      "text/plain": [
       "               Last_visit  Total_visit\n",
       "CUST_CODE                             \n",
       "CUST0000000107 2008-03-25            1\n",
       "CUST0000000369 2008-07-05          126\n",
       "CUST0000001388 2008-04-11            4\n",
       "CUST0000002302 2008-07-03           71\n",
       "CUST0000002637 2008-05-30            7"
      ]
     },
     "execution_count": 14,
     "metadata": {},
     "output_type": "execute_result"
    }
   ],
   "source": [
    "df3.head()"
   ]
  },
  {
   "cell_type": "code",
   "execution_count": 15,
   "metadata": {},
   "outputs": [],
   "source": [
    "df3[\"Total_spend\"] = df.groupby('CUST_CODE').SPEND.sum()"
   ]
  },
  {
   "cell_type": "code",
   "execution_count": 16,
   "metadata": {},
   "outputs": [
    {
     "data": {
      "text/html": [
       "<div>\n",
       "<style scoped>\n",
       "    .dataframe tbody tr th:only-of-type {\n",
       "        vertical-align: middle;\n",
       "    }\n",
       "\n",
       "    .dataframe tbody tr th {\n",
       "        vertical-align: top;\n",
       "    }\n",
       "\n",
       "    .dataframe thead th {\n",
       "        text-align: right;\n",
       "    }\n",
       "</style>\n",
       "<table border=\"1\" class=\"dataframe\">\n",
       "  <thead>\n",
       "    <tr style=\"text-align: right;\">\n",
       "      <th></th>\n",
       "      <th>Last_visit</th>\n",
       "      <th>Total_visit</th>\n",
       "      <th>Total_spend</th>\n",
       "    </tr>\n",
       "    <tr>\n",
       "      <th>CUST_CODE</th>\n",
       "      <th></th>\n",
       "      <th></th>\n",
       "      <th></th>\n",
       "    </tr>\n",
       "  </thead>\n",
       "  <tbody>\n",
       "    <tr>\n",
       "      <th>CUST0000000107</th>\n",
       "      <td>2008-03-25</td>\n",
       "      <td>1</td>\n",
       "      <td>0.80</td>\n",
       "    </tr>\n",
       "    <tr>\n",
       "      <th>CUST0000000369</th>\n",
       "      <td>2008-07-05</td>\n",
       "      <td>126</td>\n",
       "      <td>545.17</td>\n",
       "    </tr>\n",
       "    <tr>\n",
       "      <th>CUST0000001388</th>\n",
       "      <td>2008-04-11</td>\n",
       "      <td>4</td>\n",
       "      <td>21.90</td>\n",
       "    </tr>\n",
       "    <tr>\n",
       "      <th>CUST0000002302</th>\n",
       "      <td>2008-07-03</td>\n",
       "      <td>71</td>\n",
       "      <td>492.84</td>\n",
       "    </tr>\n",
       "    <tr>\n",
       "      <th>CUST0000002637</th>\n",
       "      <td>2008-05-30</td>\n",
       "      <td>7</td>\n",
       "      <td>48.50</td>\n",
       "    </tr>\n",
       "  </tbody>\n",
       "</table>\n",
       "</div>"
      ],
      "text/plain": [
       "               Last_visit  Total_visit  Total_spend\n",
       "CUST_CODE                                          \n",
       "CUST0000000107 2008-03-25            1         0.80\n",
       "CUST0000000369 2008-07-05          126       545.17\n",
       "CUST0000001388 2008-04-11            4        21.90\n",
       "CUST0000002302 2008-07-03           71       492.84\n",
       "CUST0000002637 2008-05-30            7        48.50"
      ]
     },
     "execution_count": 16,
     "metadata": {},
     "output_type": "execute_result"
    }
   ],
   "source": [
    "df3.head()"
   ]
  },
  {
   "cell_type": "markdown",
   "metadata": {},
   "source": [
    "## Exercise"
   ]
  },
  {
   "cell_type": "markdown",
   "metadata": {},
   "source": [
    "1. create new column as average monthly visit\n",
    "      - average monthly visit = Total visit / no. of active month\n",
    "   \n",
    "   \n",
    "2. create new column as average monthly spend\n",
    "      - average monthly spend = Total spend / no. of active month\n",
    "      \n",
    "\n",
    "3. create new column as average basket size\n",
    "      - average basket size = Total spend / no. of basket\n",
    "      \n",
    "\n",
    "4. if you have time available, create your own columns"
   ]
  },
  {
   "cell_type": "markdown",
   "metadata": {},
   "source": [
    "**Hint:**"
   ]
  },
  {
   "cell_type": "code",
   "execution_count": null,
   "metadata": {},
   "outputs": [],
   "source": [
    "df['YEAR'] = df['SHOP_DATE'].dt.year"
   ]
  },
  {
   "cell_type": "code",
   "execution_count": null,
   "metadata": {},
   "outputs": [],
   "source": [
    "df['MONTH'] = df['SHOP_DATE'].dt.month"
   ]
  },
  {
   "cell_type": "code",
   "execution_count": null,
   "metadata": {},
   "outputs": [],
   "source": [
    "df['YEAR_MONTH'] = df['SHOP_DATE'].apply(lambda x: x.strftime('%Y-%m')) "
   ]
  },
  {
   "cell_type": "code",
   "execution_count": null,
   "metadata": {},
   "outputs": [],
   "source": []
  },
  {
   "cell_type": "code",
   "execution_count": null,
   "metadata": {},
   "outputs": [],
   "source": []
  },
  {
   "cell_type": "markdown",
   "metadata": {},
   "source": [
    "## More Questions\n",
    "1.How many members?\n",
    "\n",
    "2.How much each store sales?\n",
    "\n",
    "3.Which item was the most popular by quantity?\n",
    "\n",
    "4.Which member had the highest sum spend?\n",
    "\n",
    "5.How many members who spend more than 100 in 2007?\n",
    "\n",
    "6.How much average spend each hour?\n",
    "\n",
    "7.How many days that has sum spend more than 3000?\n",
    "\n",
    "8.What date has sum spend more than 4000 and how much sum spend each date?"
   ]
  },
  {
   "cell_type": "code",
   "execution_count": null,
   "metadata": {},
   "outputs": [],
   "source": [
    "#1"
   ]
  },
  {
   "cell_type": "code",
   "execution_count": null,
   "metadata": {},
   "outputs": [],
   "source": [
    "#2"
   ]
  },
  {
   "cell_type": "code",
   "execution_count": null,
   "metadata": {},
   "outputs": [],
   "source": [
    "#3"
   ]
  },
  {
   "cell_type": "code",
   "execution_count": null,
   "metadata": {},
   "outputs": [],
   "source": [
    "#4"
   ]
  },
  {
   "cell_type": "code",
   "execution_count": null,
   "metadata": {},
   "outputs": [],
   "source": [
    "#5"
   ]
  },
  {
   "cell_type": "code",
   "execution_count": null,
   "metadata": {},
   "outputs": [],
   "source": [
    "#6"
   ]
  },
  {
   "cell_type": "code",
   "execution_count": null,
   "metadata": {},
   "outputs": [],
   "source": [
    "#7"
   ]
  },
  {
   "cell_type": "code",
   "execution_count": null,
   "metadata": {},
   "outputs": [],
   "source": [
    "#8"
   ]
  }
 ],
 "metadata": {
  "kernelspec": {
   "display_name": "Python 3",
   "language": "python",
   "name": "python3"
  },
  "language_info": {
   "codemirror_mode": {
    "name": "ipython",
    "version": 3
   },
   "file_extension": ".py",
   "mimetype": "text/x-python",
   "name": "python",
   "nbconvert_exporter": "python",
   "pygments_lexer": "ipython3",
   "version": "3.7.3"
  }
 },
 "nbformat": 4,
 "nbformat_minor": 2
}
