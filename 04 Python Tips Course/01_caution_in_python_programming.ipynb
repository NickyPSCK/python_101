{
 "cells": [
  {
   "cell_type": "markdown",
   "metadata": {},
   "source": [
    "# Caution in Python Programming"
   ]
  },
  {
   "cell_type": "markdown",
   "metadata": {},
   "source": [
    "## Tuple Declaration"
   ]
  },
  {
   "cell_type": "code",
   "execution_count": null,
   "metadata": {},
   "outputs": [],
   "source": [
    "x = 1\n",
    "print(x)\n",
    "print(type(x))"
   ]
  },
  {
   "cell_type": "code",
   "execution_count": null,
   "metadata": {},
   "outputs": [],
   "source": [
    "x = 1,\n",
    "print(x)\n",
    "print(type(x))"
   ]
  },
  {
   "cell_type": "code",
   "execution_count": null,
   "metadata": {},
   "outputs": [],
   "source": [
    "x = 1, 2\n",
    "print(x)\n",
    "print(type(x))"
   ]
  },
  {
   "cell_type": "markdown",
   "metadata": {},
   "source": [
    "## Returned Value from Function"
   ]
  },
  {
   "cell_type": "code",
   "execution_count": null,
   "metadata": {},
   "outputs": [],
   "source": [
    "def square_root2(x):\n",
    "    print(x ** (1/2))\n",
    "\n",
    "result = square_root2(4)\n",
    "print(result)"
   ]
  },
  {
   "cell_type": "code",
   "execution_count": null,
   "metadata": {},
   "outputs": [],
   "source": [
    "def divide(a, b):\n",
    "    q = a // b   \n",
    "    r = a - q * b\n",
    "    return q, r"
   ]
  },
  {
   "cell_type": "code",
   "execution_count": null,
   "metadata": {},
   "outputs": [],
   "source": [
    "result = divide(17, 5) # Unplack\n",
    "print(result)"
   ]
  },
  {
   "cell_type": "code",
   "execution_count": null,
   "metadata": {},
   "outputs": [],
   "source": [
    "quotient, remainder = divide(17,5) # Unplack\n",
    "print(quotient, remainder)"
   ]
  },
  {
   "cell_type": "markdown",
   "metadata": {},
   "source": [
    "## Floating Point Arithmetic: Issues and Limitations\n",
    "https://docs.python.org/3/tutorial/floatingpoint.html"
   ]
  },
  {
   "cell_type": "code",
   "execution_count": null,
   "metadata": {},
   "outputs": [],
   "source": [
    "print((0.9 - 0.3) == 0.6)\n",
    "print((0.1 + 0.2) == 0.3)\n",
    "print(1.0000000000000001 == 1)"
   ]
  },
  {
   "cell_type": "code",
   "execution_count": null,
   "metadata": {},
   "outputs": [],
   "source": [
    "print(0.9 - 0.3)\n",
    "print(0.1 + 0.2)"
   ]
  },
  {
   "cell_type": "code",
   "execution_count": null,
   "metadata": {},
   "outputs": [],
   "source": [
    "print(f'{0.1:.30f}')\n",
    "print(f'{0.2:.30f}')\n",
    "print(f'{0.3:.30f}')"
   ]
  },
  {
   "cell_type": "markdown",
   "metadata": {},
   "source": [
    "## Multable VS Immutable"
   ]
  },
  {
   "cell_type": "markdown",
   "metadata": {},
   "source": [
    "### Mutability\n",
    "- After an object is created, its identity and type cannot be changed.\n",
    "- If an object's value <em style=\"color:blue\">can be modified</em>, the object is said to be <em style=\"color:blue\">mutable</em>.  \n",
    "    - e.g., lists, dictionaries\n",
    "- If the value <em style=\"color:red\">cannot be modified</em>, the object is said to be <em style=\"color:red\">immutable</em>.\n",
    "    - e.g., integers, floats, strings, tuples\n",
    "\n",
    "\n",
    "\n",
    "```\n",
    "id(object)\n",
    "```\n",
    "\n",
    "\n",
    "Return the “identity” of an object. This is an integer which is guaranteed to be unique and constant for this object during its lifetime. Two objects with non-overlapping lifetimes may have the same id() value.\n",
    "\n",
    "CPython implementation detail: This is the address of the object in memory."
   ]
  },
  {
   "cell_type": "code",
   "execution_count": null,
   "metadata": {},
   "outputs": [],
   "source": [
    "age = 20\n",
    "print(age, id(age))\n",
    "\n",
    "age = age + 1\n",
    "print(age, id(age))"
   ]
  },
  {
   "cell_type": "code",
   "execution_count": null,
   "metadata": {},
   "outputs": [],
   "source": [
    "my_list_1 = [1, 2, 3]\n",
    "print(my_list_1, id(my_list_1))\n",
    "\n",
    "my_list_1[0] = 99\n",
    "print(my_list_1, id(my_list_1))"
   ]
  },
  {
   "cell_type": "markdown",
   "metadata": {},
   "source": [
    "### Mutable Object Issue: Copying"
   ]
  },
  {
   "cell_type": "code",
   "execution_count": null,
   "metadata": {},
   "outputs": [],
   "source": [
    "my_list_1 = [1, 2, 3]\n",
    "my_list_2 = my_list_1\n",
    "\n",
    "my_list_2[0] = 100\n",
    "print(my_list_1, id(my_list_1))\n",
    "print(my_list_2, id(my_list_2))"
   ]
  },
  {
   "cell_type": "markdown",
   "metadata": {},
   "source": [
    "#### Shallow Copy"
   ]
  },
  {
   "cell_type": "code",
   "execution_count": null,
   "metadata": {},
   "outputs": [],
   "source": [
    "import copy"
   ]
  },
  {
   "cell_type": "code",
   "execution_count": null,
   "metadata": {},
   "outputs": [],
   "source": [
    "# Solution 1\n",
    "my_list_1 = [1, 2, 3]\n",
    "my_list_2 = list(my_list_1)\n",
    "\n",
    "my_list_2[0] = 100\n",
    "print(my_list_1, id(my_list_1))\n",
    "print(my_list_2, id(my_list_2))"
   ]
  },
  {
   "cell_type": "code",
   "execution_count": null,
   "metadata": {},
   "outputs": [],
   "source": [
    "# Solution 2\n",
    "my_list_1 = [1, 2, 3]\n",
    "my_list_2 = my_list_1[:]\n",
    "\n",
    "my_list_2[0] = 100\n",
    "print(my_list_1, id(my_list_1))\n",
    "print(my_list_2, id(my_list_2))"
   ]
  },
  {
   "cell_type": "code",
   "execution_count": null,
   "metadata": {},
   "outputs": [],
   "source": [
    "my_list_1 = [[1,2,3], 2, 3]\n",
    "my_list_2 = list(my_list_1)\n",
    "\n",
    "my_list_2[0][0] = 99\n",
    "\n",
    "print(my_list_2, id(my_list_2))\n",
    "print(my_list_1, id(my_list_1))"
   ]
  },
  {
   "cell_type": "code",
   "execution_count": null,
   "metadata": {},
   "outputs": [],
   "source": [
    "# Shallow Copy\n",
    "my_list_1 = [[1,2,3], 2, 3]\n",
    "my_list_2 = copy.copy(my_list_1)\n",
    "\n",
    "my_list_2[0][0] = 99\n",
    "\n",
    "print(my_list_2, id(my_list_2))\n",
    "print(my_list_1, id(my_list_1))"
   ]
  },
  {
   "cell_type": "markdown",
   "metadata": {},
   "source": [
    "#### Deep Copy"
   ]
  },
  {
   "cell_type": "code",
   "execution_count": null,
   "metadata": {},
   "outputs": [],
   "source": [
    "# Deep Copy\n",
    "my_list_1 = [[1,2,3], 2, 3]\n",
    "my_list_2 = copy.deepcopy(my_list_1)\n",
    "\n",
    "my_list_2[0][0] = 99\n",
    "\n",
    "print(my_list_2, id(my_list_2))\n",
    "print(my_list_1, id(my_list_1))"
   ]
  },
  {
   "cell_type": "markdown",
   "metadata": {},
   "source": [
    "### Mutable Object Issue: Mutable object as a default value of fucntion argument "
   ]
  },
  {
   "cell_type": "code",
   "execution_count": null,
   "metadata": {},
   "outputs": [],
   "source": [
    "def demonstrate_default_value_issue(x, default_list=[]):\n",
    "    default_list.append(x)\n",
    "    return default_list"
   ]
  },
  {
   "cell_type": "code",
   "execution_count": null,
   "metadata": {},
   "outputs": [],
   "source": [
    "my_list = [1, 2, 3]\n",
    "result = demonstrate_default_value_issue(100, my_list)\n",
    "print(result)\n",
    "\n",
    "my_list = [1, 2, 3]\n",
    "result = demonstrate_default_value_issue(200, my_list)\n",
    "print(result)\n",
    "\n",
    "result = demonstrate_default_value_issue(500)\n",
    "print(result)\n",
    "\n",
    "result = demonstrate_default_value_issue(500)\n",
    "print(result)"
   ]
  },
  {
   "cell_type": "code",
   "execution_count": null,
   "metadata": {},
   "outputs": [],
   "source": [
    "def demonstrate_fixed_default_value_issue(x, default_list=None):\n",
    "    if default_list is None:\n",
    "        default_list = []\n",
    "    default_list.append(x)\n",
    "    return default_list"
   ]
  },
  {
   "cell_type": "code",
   "execution_count": null,
   "metadata": {},
   "outputs": [],
   "source": [
    "my_list = [1, 2, 3]\n",
    "result = demonstrate_fixed_default_value_issue(100, my_list)\n",
    "print(result)\n",
    "\n",
    "my_list = [1, 2, 3]\n",
    "result = demonstrate_fixed_default_value_issue(200, my_list)\n",
    "print(result)\n",
    "\n",
    "result = demonstrate_fixed_default_value_issue(500)\n",
    "print(result)\n",
    "\n",
    "result = demonstrate_fixed_default_value_issue(500)\n",
    "print(result)"
   ]
  },
  {
   "cell_type": "markdown",
   "metadata": {},
   "source": [
    "### Mutable Object Issue: Function argument shallow copy"
   ]
  },
  {
   "cell_type": "code",
   "execution_count": null,
   "metadata": {},
   "outputs": [],
   "source": [
    "def plus_one(num1):\n",
    "    num1 += 1\n",
    "    return num1\n",
    "\n",
    "num1 = 4\n",
    "print(plus_one(num1))\n",
    "print(num1)"
   ]
  },
  {
   "cell_type": "code",
   "execution_count": null,
   "metadata": {},
   "outputs": [],
   "source": [
    "def append(list_of_list):\n",
    "    list_of_list[0][0] = 99\n",
    "    return list_of_list\n",
    "\n",
    "list_of_list = [[0, 1], [0, 1], [0, 1], [0, 1]]\n",
    "print(append(list_of_list))\n",
    "print(list_of_list)"
   ]
  },
  {
   "cell_type": "markdown",
   "metadata": {},
   "source": [
    "## Exception Handling\n",
    "https://docs.python.org/3/tutorial/errors.html#exceptions"
   ]
  },
  {
   "cell_type": "code",
   "execution_count": null,
   "metadata": {},
   "outputs": [],
   "source": [
    "# Wrong:\n",
    "def divide(a, b):\n",
    "    try:\n",
    "        result = a / b\n",
    "        print(result)\n",
    "    except:\n",
    "        print('>> [except] We are safe from error.')"
   ]
  },
  {
   "cell_type": "code",
   "execution_count": null,
   "metadata": {},
   "outputs": [],
   "source": [
    "divide(1, 0)"
   ]
  },
  {
   "cell_type": "code",
   "execution_count": null,
   "metadata": {},
   "outputs": [],
   "source": [
    "# Correct:\n",
    "def divide(a, b):\n",
    "    try:\n",
    "        result = a / b\n",
    "        print(result)\n",
    "    except ZeroDivisionError:\n",
    "        print('n>> [except] ZeroDivisioError')\n",
    "    except (ValueError, OSError):\n",
    "        print('>> [except] ValueError or OSError')\n",
    "    except Exception as err:\n",
    "        print(f'>> [except] Unexpected {err}, {type(err)}')\n",
    "        raise\n",
    "    else:\n",
    "        print('>> [else]: when error does not occure.')\n",
    "    finally:\n",
    "        print('>> [finally]: always do this')\n"
   ]
  },
  {
   "cell_type": "code",
   "execution_count": null,
   "metadata": {},
   "outputs": [],
   "source": [
    "divide(1, 1)"
   ]
  },
  {
   "cell_type": "code",
   "execution_count": null,
   "metadata": {},
   "outputs": [],
   "source": [
    "divide(1, 0)"
   ]
  },
  {
   "cell_type": "code",
   "execution_count": null,
   "metadata": {},
   "outputs": [],
   "source": [
    "divide(1, 'a')"
   ]
  },
  {
   "cell_type": "markdown",
   "metadata": {},
   "source": [
    "## Closing Files after Using\n",
    "- https://realpython.com/why-close-file-python/"
   ]
  },
  {
   "cell_type": "code",
   "execution_count": null,
   "metadata": {},
   "outputs": [],
   "source": [
    "f = open('test_write_1.txt', 'w')\n",
    "f.write('Data')\n",
    "x = 4 / 0\n",
    "f.close()"
   ]
  },
  {
   "cell_type": "code",
   "execution_count": null,
   "metadata": {},
   "outputs": [],
   "source": [
    "try:\n",
    "    f = open('test_write_2.txt', 'w')\n",
    "    f.write('Data')\n",
    "    x = 4 / 0\n",
    "finally:\n",
    "    f.close()"
   ]
  },
  {
   "cell_type": "code",
   "execution_count": null,
   "metadata": {},
   "outputs": [],
   "source": [
    "with open('test_write_3.txt', 'w') as f:\n",
    "    f.write('Data')\n",
    "    x = 4 / 0\n"
   ]
  }
 ],
 "metadata": {
  "kernelspec": {
   "display_name": "base",
   "language": "python",
   "name": "python3"
  },
  "language_info": {
   "codemirror_mode": {
    "name": "ipython",
    "version": 3
   },
   "file_extension": ".py",
   "mimetype": "text/x-python",
   "name": "python",
   "nbconvert_exporter": "python",
   "pygments_lexer": "ipython3",
   "version": "3.10.9"
  },
  "orig_nbformat": 4
 },
 "nbformat": 4,
 "nbformat_minor": 2
}
