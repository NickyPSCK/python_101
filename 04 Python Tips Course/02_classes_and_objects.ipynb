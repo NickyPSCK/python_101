{
 "cells": [
  {
   "cell_type": "markdown",
   "metadata": {
    "id": "eyJlsDnCaztu"
   },
   "source": [
    "# Classes and Objects"
   ]
  },
  {
   "cell_type": "markdown",
   "metadata": {
    "id": "d-warYvtaztv"
   },
   "source": [
    "## Everything is an Object\n",
    "\n",
    "In Python, everything is an object. Strings are objects, lists are objects, integers are objects, functions are objects. Classes are the mechanism used to create objects. Python includes two built-in functions that help identify the class of an object:\n",
    "- `type(obj)` - returns the object's type, which is essentially a synonym for class.\n",
    "- `isinstance(obj, class_type)` - returns `True` if `obj` is an instance of `class_type`. Otherwise, returns `False`."
   ]
  },
  {
   "cell_type": "code",
   "execution_count": null,
   "metadata": {
    "id": "598J79ouaztw"
   },
   "outputs": [],
   "source": [
    "print(type('This is string'))\n",
    "print(isinstance('This is string', str))"
   ]
  },
  {
   "cell_type": "code",
   "execution_count": null,
   "metadata": {
    "id": "une3N25Lazt0"
   },
   "outputs": [],
   "source": [
    "print(type(1.1))\n",
    "print(isinstance('1.1', float))"
   ]
  },
  {
   "cell_type": "code",
   "execution_count": null,
   "metadata": {
    "id": "9d5_-yDDazt3"
   },
   "outputs": [],
   "source": [
    "print(type({'a': 1}))\n",
    "print(isinstance({'a': 1}, dict))"
   ]
  },
  {
   "cell_type": "markdown",
   "metadata": {
    "id": "FaxcnB86azt5"
   },
   "source": [
    "## The \\_\\_init__() Function"
   ]
  },
  {
   "cell_type": "markdown",
   "metadata": {
    "id": "wRmeGt2Uazt5"
   },
   "source": [
    "All classes have a function called __init__(), which is always executed when the class is being initiated.\n",
    "Use the __init__() function to assign values to object properties, or other operations that are necessary to do when the object is being created:"
   ]
  },
  {
   "cell_type": "code",
   "execution_count": null,
   "metadata": {
    "id": "i0rNF8D9azt6"
   },
   "outputs": [],
   "source": [
    "class Person:\n",
    "    def __init__(self, name, age):\n",
    "        self.name = name\n",
    "        self.age = age"
   ]
  },
  {
   "cell_type": "code",
   "execution_count": null,
   "metadata": {
    "id": "jIdK7Ut9azt9"
   },
   "outputs": [],
   "source": [
    "p1 = Person('John', 36)\n",
    "print(p1.name)\n",
    "print(p1.age)"
   ]
  },
  {
   "cell_type": "markdown",
   "metadata": {
    "id": "zb49Ckr3azt_"
   },
   "source": [
    "## Object Methods"
   ]
  },
  {
   "cell_type": "code",
   "execution_count": null,
   "metadata": {
    "id": "q4YQlpoaazuA"
   },
   "outputs": [],
   "source": [
    "class Person:\n",
    "    def __init__(self, name, age):\n",
    "        self.name = name\n",
    "        self.age = age\n",
    "\n",
    "    def introduce_my_self(self):\n",
    "        print('Hello my name is ' + self.name)"
   ]
  },
  {
   "cell_type": "code",
   "execution_count": null,
   "metadata": {
    "id": "mSAyOHzWazuC"
   },
   "outputs": [],
   "source": [
    "p1 = Person('John', 36)\n",
    "p1.introduce_my_self()"
   ]
  },
  {
   "cell_type": "markdown",
   "metadata": {
    "id": "nDslcAIqazuG"
   },
   "source": [
    "## The self Parameter"
   ]
  },
  {
   "cell_type": "markdown",
   "metadata": {
    "id": "-ilrbFoHazuG"
   },
   "source": [
    "The self parameter is a reference to the current instance of the class, and is used to access variables that belongs to the class.\n",
    "It does not have to be named self , you can call it whatever you like, but it has to be the first parameter of any function in the class:"
   ]
  },
  {
   "cell_type": "code",
   "execution_count": null,
   "metadata": {
    "id": "RTNA5QVxazuG"
   },
   "outputs": [],
   "source": [
    "class Person:\n",
    "    def __init__(abc, name, age):\n",
    "        abc.name = name\n",
    "        abc.age = age\n",
    "\n",
    "    def introduce_my_self(bcd):\n",
    "        print('Hello my name is ' + bcd.name)\n",
    "\n",
    "\n",
    "p1 = Person('John', 36)\n",
    "p1.introduce_my_self()"
   ]
  },
  {
   "cell_type": "markdown",
   "metadata": {
    "id": "lZdxusxuazuJ"
   },
   "source": [
    "## The \\_\\_str__ method\n",
    "\n",
    "The \\_\\_str__  method is useful for a string representation of the object, either when someone codes in str(your_object), or even when someone might do print(your_object). The \\_\\_str__ method is one that should be the most human-readable possible, yet also descriptive of that exact object."
   ]
  },
  {
   "cell_type": "code",
   "execution_count": null,
   "metadata": {
    "id": "LagKcXr9azuJ"
   },
   "outputs": [],
   "source": [
    "class Person:\n",
    "    def __init__(self, name, age):\n",
    "        self.name = name\n",
    "        self.age = age\n",
    "\n",
    "    def introduce_my_self(self):\n",
    "        print('Hello my name is ' + self.name)\n",
    "\n",
    "\n",
    "p1 = Person('John', 36)\n",
    "print(p1)"
   ]
  },
  {
   "cell_type": "code",
   "execution_count": null,
   "metadata": {
    "id": "X__gA6P0azuM"
   },
   "outputs": [],
   "source": [
    "class Person:\n",
    "    def __init__(self, name, age):\n",
    "        self.name = name\n",
    "        self.age = age\n",
    "\n",
    "    def introduce_my_self(self):\n",
    "        print('Hello my name is ' + self.name)\n",
    "\n",
    "    def __str__(self):\n",
    "        return f'This class contains information of {self.name}.'\n",
    "\n",
    "\n",
    "p1 = Person('John', 36)\n",
    "print(p1)"
   ]
  },
  {
   "cell_type": "markdown",
   "metadata": {
    "id": "mxSKbsJtazuP"
   },
   "source": [
    "## The \\_\\_call__ method\n",
    "Python has a set of built-in methods and \\_\\_call__ is one of them. The \\_\\_call__ method enables Python programmers to write classes where the instances behave like functions and can be called like a function. When the instance is called as a function; if this method is defined, x(arg1, arg2, ...) is a shorthand for x.\\_\\_call__(arg1, arg2, ...)."
   ]
  },
  {
   "cell_type": "code",
   "execution_count": null,
   "metadata": {
    "id": "OWqONKAUazuP"
   },
   "outputs": [],
   "source": [
    "class Person:\n",
    "    def __init__(self, name, age):\n",
    "        self.name = name\n",
    "        self.age = age\n",
    "\n",
    "    def introduce_my_self(self):\n",
    "        print('Hello my name is ' + self.name)\n",
    "\n",
    "    def __str__(self):\n",
    "        return f'This class contains information of {self.name}.'\n",
    "\n",
    "    def __call__(self):\n",
    "        print('Instance is called via special method')"
   ]
  },
  {
   "cell_type": "code",
   "execution_count": null,
   "metadata": {
    "id": "iOaXlJgkazuR"
   },
   "outputs": [],
   "source": [
    "p = Person('John', 36)\n",
    "p()"
   ]
  },
  {
   "cell_type": "code",
   "execution_count": null,
   "metadata": {
    "id": "EYnZZ7BLazuU"
   },
   "outputs": [],
   "source": [
    "class Person:\n",
    "    def __init__(self, name, age):\n",
    "        self.name = name\n",
    "        self.age = age\n",
    "\n",
    "    def introduce_my_self(self):\n",
    "        print('Hello my name is ' + self.name)\n",
    "\n",
    "    def __str__(self):\n",
    "        return f'This class contains information of {self.name}.'\n",
    "\n",
    "    def __call__(self, x):\n",
    "        print(x)"
   ]
  },
  {
   "cell_type": "code",
   "execution_count": null,
   "metadata": {
    "id": "sz3dNy1gazuV"
   },
   "outputs": [],
   "source": [
    "p1 = Person('John', 36)\n",
    "p1('Call __call__')"
   ]
  },
  {
   "cell_type": "markdown",
   "metadata": {
    "id": "K7kTBuj7azuY"
   },
   "source": [
    "# public, private and protected\n",
    "\n",
    "Public members (generally methods declared in a class) are accessible from outside the class. The object of the same class is required to invoke a public method. This arrangement of private instance variables and public methods ensures the principle of data encapsulation.\n",
    "\n",
    "Protected members of a class are accessible from within the class and are also available to its sub-classes. No other environment is permitted access to it. This enables specific resources of the parent class to be inherited by the child class.\n",
    "\n",
    "Python doesn't have any mechanism that effectively restricts access to any instance variable or method. Python prescribes a convention of prefixing the name of the variable/method with single or double underscore to emulate the behaviour of protected and private access specifiers.\n",
    "\n",
    "https://www.tutorialsteacher.com/python/public-private-protected-modifiers"
   ]
  },
  {
   "cell_type": "markdown",
   "metadata": {
    "id": "hXg6a16EazuY"
   },
   "source": [
    "### Public Attributes\n",
    "The members declared as Public are accessible from outside the Class through an object of the class.\n",
    "\n",
    "All members in a Python class are public by default. Any member can be accessed from outside the class environment."
   ]
  },
  {
   "cell_type": "code",
   "execution_count": null,
   "metadata": {
    "id": "nYjrRN1_azuY"
   },
   "outputs": [],
   "source": [
    "class Employee:\n",
    "    def __init__(self, name, sal):\n",
    "        self.name = name\n",
    "        self.salary = sal"
   ]
  },
  {
   "cell_type": "markdown",
   "metadata": {
    "id": "XvT-PxoMazub"
   },
   "source": [
    "You can access employee class's attributes and also modify their values, as shown below."
   ]
  },
  {
   "cell_type": "code",
   "execution_count": null,
   "metadata": {
    "id": "wxJCtMvjazuc"
   },
   "outputs": [],
   "source": [
    "e1 = Employee('Sally', 10000)\n",
    "print(e1.salary)\n",
    "\n",
    "e1.salary = 20000\n",
    "print(e1.salary)"
   ]
  },
  {
   "cell_type": "markdown",
   "metadata": {
    "id": "9Oub-Z1sazue"
   },
   "source": [
    "### Protected Attributes\n",
    "The members declared as Protected are accessible from outside the class but only in a class derived from it that is in the child or subclass.\n",
    "\n",
    "Python's convention to make an instance variable protected is to add a prefix _ (single underscore) to it. This effectively prevents it to be accessed, unless it is from within a sub-class."
   ]
  },
  {
   "cell_type": "code",
   "execution_count": null,
   "metadata": {
    "id": "a6KfNqHkazue"
   },
   "outputs": [],
   "source": [
    "class Employee:\n",
    "    def __init__(self, name, sal):\n",
    "        self._name = name  # protected attribute\n",
    "        self._salary = sal  # protected attribute"
   ]
  },
  {
   "cell_type": "markdown",
   "metadata": {
    "id": "dneQzd8iazuj"
   },
   "source": [
    "In fact, this doesn't prevent instance variables from accessing or modifyingthe instance. You can still perform the following operations:"
   ]
  },
  {
   "cell_type": "code",
   "execution_count": null,
   "metadata": {
    "id": "wjGj8YWOazuj"
   },
   "outputs": [],
   "source": [
    "e1 = Employee('Henry', 10000)\n",
    "print(e1._salary)\n",
    "\n",
    "e1._salary = 20000\n",
    "print(e1._salary)"
   ]
  },
  {
   "cell_type": "markdown",
   "metadata": {
    "id": "F2bggDliazul"
   },
   "source": [
    "Hence, the responsible programmer would refrain from accessing and modifying instance variables prefixed with _ from outside its class."
   ]
  },
  {
   "cell_type": "code",
   "execution_count": null,
   "metadata": {
    "id": "jBhQOZEHazul"
   },
   "outputs": [],
   "source": [
    "class HR(Employee):\n",
    "\n",
    "    # member function task\n",
    "    def task(self):\n",
    "        print('We manage Employees')"
   ]
  },
  {
   "cell_type": "code",
   "execution_count": null,
   "metadata": {
    "id": "R2LCzsHAazun"
   },
   "outputs": [],
   "source": [
    "h1 = HR\n",
    "h1._salary = 30000\n",
    "print(h1._salary)"
   ]
  },
  {
   "cell_type": "markdown",
   "metadata": {
    "id": "hZwlrafBazup"
   },
   "source": [
    "### Private Attributes\n",
    "These members are only accessible from within the class. No outside Access is allowed.\n",
    "\n",
    "Similarly, a double underscore __ prefixed to a variable makes it private. It gives a strong suggestion not to touch it from outside the class. Any attempt to do so will result in an AttributeError:"
   ]
  },
  {
   "cell_type": "code",
   "execution_count": null,
   "metadata": {
    "id": "qn2sH46kazup"
   },
   "outputs": [],
   "source": [
    "class Employee:\n",
    "    def __init__(self, name, sal):\n",
    "        self.__name = name  # private attribute\n",
    "        self.__salary = sal  # private attribute"
   ]
  },
  {
   "cell_type": "code",
   "execution_count": null,
   "metadata": {
    "id": "DLjxxoClazur",
    "scrolled": true
   },
   "outputs": [],
   "source": [
    "e1 = Employee('Henry', 10000)\n",
    "print(e1.__salary)\n",
    "\n",
    "e1.__salary = 20000\n",
    "print(e1.__salary)"
   ]
  },
  {
   "cell_type": "markdown",
   "metadata": {
    "id": "iInDbEtD8AKk"
   },
   "source": [
    "### Public and Private Methods"
   ]
  },
  {
   "cell_type": "code",
   "execution_count": null,
   "metadata": {
    "id": "XCq0EEbz8AKl"
   },
   "outputs": [],
   "source": [
    "class Employee:\n",
    "    def __init__(self, name, sal):\n",
    "        self.__name = name  # private attribute\n",
    "        self.__salary = sal  # private attribute\n",
    "\n",
    "    def __increase_salary(self, amount):\n",
    "        self.__salary += amount\n",
    "\n",
    "    def decrease_salary(self, amount):\n",
    "        self.__salary -= amount\n",
    "\n",
    "    def get_saraly(self):\n",
    "        print(self.__salary)"
   ]
  },
  {
   "cell_type": "code",
   "execution_count": null,
   "metadata": {
    "id": "MkaxJuZT8AKn"
   },
   "outputs": [],
   "source": [
    "e1 = Employee('Henry', 20000)"
   ]
  },
  {
   "cell_type": "code",
   "execution_count": null,
   "metadata": {
    "id": "58gUDglZ8AKp"
   },
   "outputs": [],
   "source": [
    "e1.__increase_salary(10000)"
   ]
  },
  {
   "cell_type": "code",
   "execution_count": null,
   "metadata": {
    "id": "hyhzO2X98AKq"
   },
   "outputs": [],
   "source": [
    "e1.decrease_salary(10000)"
   ]
  },
  {
   "cell_type": "code",
   "execution_count": null,
   "metadata": {
    "id": "fyDd6TDI8AKs"
   },
   "outputs": [],
   "source": [
    "e1.get_saraly()"
   ]
  },
  {
   "cell_type": "markdown",
   "metadata": {
    "id": "6nmfakANazut"
   },
   "source": [
    "## Inheritance\n",
    "\n",
    "Inheritance allows us to define a class that inherits all the methods and properties from another class.\n",
    "Parent class is the class being inherited from, also called base class.\n",
    "Child class is the class that inherits from another class, also called derived class."
   ]
  },
  {
   "cell_type": "markdown",
   "metadata": {
    "id": "u66zLhaX8AKz"
   },
   "source": [
    "#### Parent Class"
   ]
  },
  {
   "cell_type": "code",
   "execution_count": null,
   "metadata": {
    "id": "INXKwhY08AK3"
   },
   "outputs": [],
   "source": [
    "class Person:\n",
    "    def __init__(self, fname, lname):\n",
    "        self.firstname = fname\n",
    "        self.lastname = lname\n",
    "\n",
    "    def printname(self):\n",
    "        print(self.firstname, self.lastname)\n",
    "\n",
    "\n",
    "x = Person('John', 'Doe')\n",
    "x.printname()"
   ]
  },
  {
   "cell_type": "markdown",
   "metadata": {
    "id": "hlYGn7Ns8AK-"
   },
   "source": [
    "#### Create a Child Class"
   ]
  },
  {
   "cell_type": "code",
   "execution_count": null,
   "metadata": {
    "id": "5WU19_RB8AK_"
   },
   "outputs": [],
   "source": [
    "class Student(Person):\n",
    "    pass\n",
    "\n",
    "# Note: Use the pass keyword when you do not want to add any other properties or methods to the class."
   ]
  },
  {
   "cell_type": "code",
   "execution_count": null,
   "metadata": {
    "id": "GIuGol0c8ALA"
   },
   "outputs": [],
   "source": [
    "x = Student('Johny', 'Dow')\n",
    "x.printname()"
   ]
  },
  {
   "cell_type": "markdown",
   "metadata": {
    "id": "y-coejz08ALC"
   },
   "source": [
    "#### Create a Child Class and add the \\_\\_init__() Function\n",
    "\n",
    "Note: \n",
    "- The \\_\\_init__() function is called automatically every time the class is being used to create a new object.\n",
    "- The child's \\_\\_init__() function overrides the inheritance of the parent's \\_\\_init__() function. To keep the inheritance of the parent's \\_\\_init__() function, add a call to the parent's \\_\\_init__() function:"
   ]
  },
  {
   "cell_type": "code",
   "execution_count": null,
   "metadata": {
    "id": "p037scPW8ALC"
   },
   "outputs": [],
   "source": [
    "class Student(Person):\n",
    "    def __init__(self, fname, lname):\n",
    "        Person.__init__(self, fname, lname)"
   ]
  },
  {
   "cell_type": "code",
   "execution_count": null,
   "metadata": {
    "id": "_ohLt2QR8ALE"
   },
   "outputs": [],
   "source": [
    "x = Student('Johny', 'Dow')\n",
    "x.printname()"
   ]
  },
  {
   "cell_type": "markdown",
   "metadata": {
    "id": "YukUwPRC8ALF"
   },
   "source": [
    "#### Create a Child Class, Add the \\_\\_init__() Function and add a property called school to the Student class"
   ]
  },
  {
   "cell_type": "code",
   "execution_count": null,
   "metadata": {
    "id": "-XzStYBr8ALG"
   },
   "outputs": [],
   "source": [
    "class Student(Person):\n",
    "    def __init__(self, fname, lname, school):\n",
    "        Person.__init__(self, fname, lname)\n",
    "        self.school = school"
   ]
  },
  {
   "cell_type": "code",
   "execution_count": null,
   "metadata": {
    "id": "4nCsM-eH8ALI"
   },
   "outputs": [],
   "source": [
    "x = Student('Johny', 'Dow', 'KS')\n",
    "x.printname()\n",
    "print(x.school)"
   ]
  },
  {
   "cell_type": "markdown",
   "metadata": {
    "id": "HUud97lz8ALK"
   },
   "source": [
    "#### Create a Child Class, Add the \\_\\_init__() Function , add a property called school and Add Method to the Student class"
   ]
  },
  {
   "cell_type": "code",
   "execution_count": null,
   "metadata": {
    "id": "-iAACBfV8ALK"
   },
   "outputs": [],
   "source": [
    "class Student(Person):\n",
    "    def __init__(self, fname, lname, school):\n",
    "        Person.__init__(self, fname, lname)\n",
    "        self.school = school\n",
    "\n",
    "    def welcome(self):\n",
    "        print('Welcome', self.firstname, self.lastname, 'to', self.school)"
   ]
  },
  {
   "cell_type": "code",
   "execution_count": null,
   "metadata": {
    "id": "ibLp116F8ALL"
   },
   "outputs": [],
   "source": [
    "x = Student('Johny', 'Dow', 'KS')\n",
    "x.printname()\n",
    "x.welcome()"
   ]
  },
  {
   "cell_type": "markdown",
   "metadata": {
    "id": "Jwwa-9KQ8ALN"
   },
   "source": [
    "#### Overriding printname method"
   ]
  },
  {
   "cell_type": "code",
   "execution_count": null,
   "metadata": {
    "id": "foVGm7Li8ALO"
   },
   "outputs": [],
   "source": [
    "class Student(Person):\n",
    "    def __init__(self, fname, lname, school):\n",
    "        Person.__init__(self, fname, lname)\n",
    "        self.school = school\n",
    "\n",
    "    def printname(self):\n",
    "        print(self.firstname, self.lastname, self.school)"
   ]
  },
  {
   "cell_type": "code",
   "execution_count": null,
   "metadata": {
    "id": "rgkLTF2u8ALP"
   },
   "outputs": [],
   "source": [
    "x = Student('Johny', 'Dow', 'KS')\n",
    "x.printname()"
   ]
  }
 ],
 "metadata": {
  "colab": {
   "collapsed_sections": [
    "u66zLhaX8AKz",
    "HUud97lz8ALK",
    "Jwwa-9KQ8ALN",
    "PGHpEcNoazut"
   ],
   "name": "02_classes_and_objects.ipynb",
   "provenance": []
  },
  "kernelspec": {
   "display_name": "Python 3",
   "language": "python",
   "name": "python3"
  },
  "language_info": {
   "codemirror_mode": {
    "name": "ipython",
    "version": 3
   },
   "file_extension": ".py",
   "mimetype": "text/x-python",
   "name": "python",
   "nbconvert_exporter": "python",
   "pygments_lexer": "ipython3",
   "version": "3.10.9"
  }
 },
 "nbformat": 4,
 "nbformat_minor": 1
}
