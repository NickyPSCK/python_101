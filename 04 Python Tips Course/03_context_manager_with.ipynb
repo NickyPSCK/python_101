{
 "cells": [
  {
   "cell_type": "markdown",
   "metadata": {
    "id": "Ogsff4n7eb70"
   },
   "source": [
    "# Context Manager `with`\n",
    "\n",
    "- https://docs.python.org/3/reference/compound_stmts.html#the-with-statement\n",
    "- https://docs.python.org/3/reference/datamodel.html#with-statement-context-managers"
   ]
  },
  {
   "cell_type": "markdown",
   "metadata": {},
   "source": [
    "## What if the method \\_\\_exit\\_\\_ returns None?"
   ]
  },
  {
   "cell_type": "code",
   "execution_count": null,
   "metadata": {
    "id": "pj_j-F_neb71"
   },
   "outputs": [],
   "source": [
    "class TestWith:\n",
    "    def __init__(self, a):\n",
    "        print('__init__ called')\n",
    "        self.a = a\n",
    "\n",
    "    def __enter__(self):\n",
    "        print('__enter__ called')\n",
    "        return self\n",
    "\n",
    "    def __exit__(self, exc_type, exc_value, exc_traceback):\n",
    "        print('__exit__ called')\n",
    "        if exc_type:\n",
    "            print(f'exc_type: {exc_type}')\n",
    "            print(f'exc_value: {exc_value}')\n",
    "            print(f'exc_traceback: {exc_traceback}')\n",
    "            print('Exception has been handled')\n",
    "        # return True\n",
    "\n",
    "    def add_a(self):\n",
    "        self.a += 1\n",
    "        return self.a"
   ]
  },
  {
   "cell_type": "code",
   "execution_count": null,
   "metadata": {
    "id": "IMovAI-leb75",
    "outputId": "66f0b873-b089-4b5e-924e-bc9b63a2ab90"
   },
   "outputs": [],
   "source": [
    "with TestWith(5) as tw:\n",
    "    print('inside with statement body')\n",
    "    print(tw.add_a())"
   ]
  },
  {
   "cell_type": "code",
   "execution_count": null,
   "metadata": {
    "id": "R2F5y8fDeb7-",
    "outputId": "aa111183-16f6-429d-a1ce-042808afb092"
   },
   "outputs": [],
   "source": [
    "with TestWith(5) as tw:\n",
    "    print('inside with statement body')\n",
    "    print(tw.add_b())"
   ]
  },
  {
   "cell_type": "markdown",
   "metadata": {},
   "source": [
    "## What if the method \\_\\_exit\\_\\_ returns True?"
   ]
  },
  {
   "cell_type": "code",
   "execution_count": null,
   "metadata": {},
   "outputs": [],
   "source": [
    "class TestWith:\n",
    "    def __init__(self, a):\n",
    "        print('__init__ called')\n",
    "        self.a = a\n",
    "\n",
    "    def __enter__(self):\n",
    "        print('__enter__ called')\n",
    "        return self\n",
    "\n",
    "    def __exit__(self, exc_type, exc_value, exc_traceback):\n",
    "        print('__exit__ called')\n",
    "        if exc_type:\n",
    "            print(f'exc_type: {exc_type}')\n",
    "            print(f'exc_value: {exc_value}')\n",
    "            print(f'exc_traceback: {exc_traceback}')\n",
    "            print('Exception has been handled')\n",
    "        return True\n",
    "\n",
    "    def add_a(self):\n",
    "        self.a += 1\n",
    "        return self.a"
   ]
  },
  {
   "cell_type": "code",
   "execution_count": null,
   "metadata": {},
   "outputs": [],
   "source": [
    "with TestWith(5) as tw:\n",
    "    print('inside with statement body')\n",
    "    print(tw.add_a())"
   ]
  },
  {
   "cell_type": "code",
   "execution_count": null,
   "metadata": {},
   "outputs": [],
   "source": [
    "with TestWith(5) as tw:\n",
    "    print('inside with statement body')\n",
    "    print(tw.add_b())"
   ]
  }
 ],
 "metadata": {
  "colab": {
   "collapsed_sections": [],
   "name": "10_context_manager_with.ipynb",
   "provenance": []
  },
  "kernelspec": {
   "display_name": "Python 3",
   "language": "python",
   "name": "python3"
  },
  "language_info": {
   "codemirror_mode": {
    "name": "ipython",
    "version": 3
   },
   "file_extension": ".py",
   "mimetype": "text/x-python",
   "name": "python",
   "nbconvert_exporter": "python",
   "pygments_lexer": "ipython3",
   "version": "3.10.9"
  }
 },
 "nbformat": 4,
 "nbformat_minor": 1
}
