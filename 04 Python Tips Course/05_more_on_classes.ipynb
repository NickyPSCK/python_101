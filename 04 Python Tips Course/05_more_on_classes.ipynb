{
 "cells": [
  {
   "cell_type": "markdown",
   "metadata": {},
   "source": [
    "# More on Classes"
   ]
  },
  {
   "cell_type": "markdown",
   "metadata": {},
   "source": [
    "##  Class Attributes\n",
    "https://www.toptal.com/python/python-class-attributes-an-overly-thorough-guide"
   ]
  },
  {
   "cell_type": "code",
   "execution_count": null,
   "metadata": {},
   "outputs": [],
   "source": [
    "# Storing constants\n",
    "class Circle(object):\n",
    "    pi = 3.14159  # << Class Attribute \n",
    "    def __init__(self, radius):\n",
    "        self.radius = radius\n",
    "\n",
    "    def area(self):\n",
    "        return Circle.pi * self.radius * self.radius\n",
    "\n"
   ]
  },
  {
   "cell_type": "code",
   "execution_count": null,
   "metadata": {},
   "outputs": [],
   "source": [
    "c = Circle(10)\n",
    "c.pi"
   ]
  },
  {
   "cell_type": "code",
   "execution_count": null,
   "metadata": {},
   "outputs": [],
   "source": [
    "# Defining default values\n",
    "class MyClass(object):\n",
    "    limit = 10\n",
    "\n",
    "    def __init__(self):\n",
    "        self.data = []\n",
    "\n",
    "    def item(self, i):\n",
    "        return self.data[i]\n",
    "\n",
    "    def add(self, e):\n",
    "        if len(self.data) >= self.limit:\n",
    "            raise Exception('Too many elements')\n",
    "        self.data.append(e)\n",
    "\n",
    "MyClass.limit"
   ]
  },
  {
   "cell_type": "code",
   "execution_count": null,
   "metadata": {},
   "outputs": [],
   "source": [
    "# Tracking all data across all instances of a given class. \n",
    "\n",
    "class Person(object):\n",
    "    all_names = []\n",
    "\n",
    "    def __init__(self, name):\n",
    "        self.name = name\n",
    "        Person.all_names.append(name)\n",
    "\n",
    "joe = Person('Joe')\n",
    "bob = Person('Bob')\n",
    "print(Person.all_names)\n",
    "\n",
    "class Person(object):\n",
    "    all_people = []\n",
    "\n",
    "    def __init__(self, name):\n",
    "        self.name = name\n",
    "        Person.all_people.append(self)\n",
    "\n",
    "joe = Person('Joe')\n",
    "bob = Person('Bob')\n",
    "print(Person.all_people)"
   ]
  },
  {
   "cell_type": "markdown",
   "metadata": {},
   "source": [
    "## Built-in Decorators\n",
    "\n",
    "`@property`\tDeclares a method as a property's setter or getter methods.\n",
    "\n",
    "`@classmethod`\tDeclares a method as a class's method that can be called using the class name.\n",
    "\n",
    "`@staticmethod`\tDeclares a method as a static method."
   ]
  },
  {
   "cell_type": "markdown",
   "metadata": {},
   "source": [
    "### Property Decorator\n",
    "https://www.tutorialsteacher.com/python/property-decorator"
   ]
  },
  {
   "cell_type": "code",
   "execution_count": null,
   "metadata": {},
   "outputs": [],
   "source": [
    "class Student:\n",
    "    def __init__(self, name):\n",
    "        self.__name = name\n",
    "\n",
    "    def xxx(self):\n",
    "        return 1\n",
    "\n",
    "    @property\n",
    "    def name(self):\n",
    "        return self.__name\n",
    "    \n",
    "    @name.setter\n",
    "    def name(self, value):\n",
    "        self.__name=value\n",
    "    \n",
    "    @name.deleter   #property-name.deleter decorator\n",
    "    def name(self):\n",
    "        print('Deleting..')\n",
    "        del self.__name\n",
    "\n"
   ]
  },
  {
   "cell_type": "code",
   "execution_count": null,
   "metadata": {},
   "outputs": [],
   "source": [
    "s = Student('Steve')\n",
    "print(s.name)  #'Steve'"
   ]
  },
  {
   "cell_type": "code",
   "execution_count": null,
   "metadata": {},
   "outputs": [],
   "source": [
    "s = Student('Steve')\n",
    "print(s.name)  #'Steve'\n",
    "\n",
    "s.name = 'Bill'\n",
    "print(s.name)  #'Bill'"
   ]
  },
  {
   "cell_type": "code",
   "execution_count": null,
   "metadata": {},
   "outputs": [],
   "source": [
    "s = Student('Steve')\n",
    "del s.name\n",
    "print(s.name)  #AttributeError"
   ]
  },
  {
   "cell_type": "markdown",
   "metadata": {},
   "source": [
    "### @classmethod decorator\n",
    "https://www.tutorialsteacher.com/python/classmethod-decorator"
   ]
  },
  {
   "cell_type": "code",
   "execution_count": null,
   "metadata": {},
   "outputs": [],
   "source": [
    "class Student:\n",
    "    name = 'unknown' # class attribute\n",
    "    def __init__(self):\n",
    "        self.age = 20  # instance attribute\n",
    "\n",
    "    @classmethod\n",
    "    def get_class_attribute_name(cls):\n",
    "        print('Student Class Attributes: name=', cls.name)\n",
    "\n",
    "Student.get_class_attribute_name()"
   ]
  },
  {
   "cell_type": "code",
   "execution_count": null,
   "metadata": {},
   "outputs": [],
   "source": [
    "class Student:\n",
    "    def __init__(self, name, age):\n",
    "        self.name = name  # instance attribute\n",
    "        self.age = age # instance attribute\n",
    "\n",
    "    @classmethod\n",
    "    def create_steve(cls):\n",
    "        return cls('Steve', 25)\n",
    "\n",
    "\n",
    "s = Student.create_steve()\n",
    "print(s.name)  #'Steve'    \n",
    "print(s.age)   #25"
   ]
  },
  {
   "cell_type": "markdown",
   "metadata": {},
   "source": [
    "### @staticmethod Decorator\n",
    "https://www.tutorialsteacher.com/python/staticmethod-decorator"
   ]
  },
  {
   "cell_type": "code",
   "execution_count": null,
   "metadata": {},
   "outputs": [],
   "source": [
    "class Calculator:\n",
    "    def __init__(self):\n",
    "        pass\n",
    "    \n",
    "    @staticmethod\n",
    "    def add_numbers(x, y):\n",
    "        return x + y"
   ]
  },
  {
   "cell_type": "code",
   "execution_count": null,
   "metadata": {},
   "outputs": [],
   "source": [
    "Calculator().add_numbers(1, 3)"
   ]
  }
 ],
 "metadata": {
  "kernelspec": {
   "display_name": "base",
   "language": "python",
   "name": "python3"
  },
  "language_info": {
   "codemirror_mode": {
    "name": "ipython",
    "version": 3
   },
   "file_extension": ".py",
   "mimetype": "text/x-python",
   "name": "python",
   "nbconvert_exporter": "python",
   "pygments_lexer": "ipython3",
   "version": "3.10.9"
  },
  "orig_nbformat": 4
 },
 "nbformat": 4,
 "nbformat_minor": 2
}
