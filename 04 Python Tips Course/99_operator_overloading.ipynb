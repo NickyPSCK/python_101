{
 "cells": [
  {
   "cell_type": "markdown",
   "metadata": {
    "id": "9G-dXSLqdrBP"
   },
   "source": [
    "# Operator Overloading\n",
    "Ref. https://overiq.com/python-101/operator-overloading-in-python/\n",
    "\n",
    "Ref. https://www.tutorialsteacher.com/python/magic-methods-in-python"
   ]
  },
  {
   "cell_type": "markdown",
   "metadata": {
    "id": "IkVWQuSQdrBQ"
   },
   "source": [
    "Operator Overloading lets you redefine the meaning of operator respective to your class. It is the magic of operator overloading that we were able to use to + operator to add two numbers objects, as well as two string objects."
   ]
  },
  {
   "cell_type": "code",
   "execution_count": 1,
   "metadata": {
    "id": "knkauw3VdrBQ"
   },
   "outputs": [
    {
     "data": {
      "text/plain": [
       "15"
      ]
     },
     "execution_count": 1,
     "metadata": {},
     "output_type": "execute_result"
    }
   ],
   "source": [
    "10 + 5"
   ]
  },
  {
   "cell_type": "code",
   "execution_count": 2,
   "metadata": {
    "id": "86RVWtTLdrBU"
   },
   "outputs": [
    {
     "data": {
      "text/plain": [
       "'TheDog'"
      ]
     },
     "execution_count": 2,
     "metadata": {},
     "output_type": "execute_result"
    }
   ],
   "source": [
    "'The' + 'Dog'"
   ]
  },
  {
   "cell_type": "markdown",
   "metadata": {
    "id": "KkYlRS_XdrBW"
   },
   "source": [
    "Here + operator has two interpretations. When used with numbers it is interpreted as an addition operator whereas with strings it is interpreted as concatenation operator. In other words, we can say that + operator is overloaded for int class and str class.\n",
    "\n",
    "So how do we redefine or overload an operator for a particular class?\n",
    "\n",
    "Operator Overloading is achieved by defining a special method in the class definition. The names of these methods starts and ends with double underscores (\\__). The special method used to overload the + operator is called \\__add__(). Both int class and str class implements \\__add__() method. The int class version of the \\__add__() method simply adds two numbers whereas the str class version concatenates the string.\n",
    "\n",
    "If the expression is for the form x + y, Python interprets it as x.\\__add__(y). The version of the \\__add__() method called depends upon the type of x and y. If x and y are int objects then int class version of \\__add__() is called. On the other hand, if x and y are list objects then the list class version of the \\__add__() method is called."
   ]
  },
  {
   "cell_type": "code",
   "execution_count": 3,
   "metadata": {
    "id": "amKW5XqUdrBX"
   },
   "outputs": [],
   "source": [
    "x = 5\n",
    "y = 10"
   ]
  },
  {
   "cell_type": "code",
   "execution_count": 4,
   "metadata": {
    "id": "43w6CeazdrBZ"
   },
   "outputs": [
    {
     "data": {
      "text/plain": [
       "15"
      ]
     },
     "execution_count": 4,
     "metadata": {},
     "output_type": "execute_result"
    }
   ],
   "source": [
    "x + y"
   ]
  },
  {
   "cell_type": "code",
   "execution_count": 5,
   "metadata": {
    "id": "LHkKVlcgdrBc"
   },
   "outputs": [
    {
     "data": {
      "text/plain": [
       "15"
      ]
     },
     "execution_count": 5,
     "metadata": {},
     "output_type": "execute_result"
    }
   ],
   "source": [
    "x.__add__(y)"
   ]
  },
  {
   "cell_type": "markdown",
   "metadata": {
    "id": "Reul2h5jdrBe"
   },
   "source": [
    "The following table lists the operator and it's corresponding special method. Special methods listed in table are not private because they in addition to leading underscores they also have trailing underscores."
   ]
  },
  {
   "cell_type": "markdown",
   "metadata": {
    "id": "JzskagUvdrBf"
   },
   "source": [
    "| Operator | Special Method             | Description                |\n",
    "|----------|----------------------------|----------------------------|\n",
    "| +        | \\__add__(self, object)      | Addition                   |\n",
    "| -        | \\__sub__(self, object)      | Subtraction                |\n",
    "| *        | \\__mul__(self, object)      | Multiplication             |\n",
    "| **       | \\__pow__(self, object)      | Exponentiation             |\n",
    "| /        | \\__truediv__(self, object)  | Division                   |\n",
    "| //       | \\__floordiv__(self, object) | Integer Division           |\n",
    "| %        | \\__mod__(self, object)      | Modulus                    |\n",
    "| ==       | \\__eq__(self, object)       | Equal to                   |\n",
    "| !=       | \\__ne__(self, object)       | Not equal to               |\n",
    "| >        | \\__gt__(self, object)       | Greater than               |\n",
    "| >=       | \\__ge__(self, object)       | Greater than or equal to   |\n",
    "| <        | \\__lt__(self, object)       | Less than                  |\n",
    "| <=       | \\__le__(self, object)       | Less than or equal to      |\n",
    "| in       | \\__contains__(self, value)  | Membership operator        |\n",
    "| [index]  | \\__getitem__(self, index)   | Item at index              |\n",
    "| len()    | \\__len__(self)              | Calculate number of items  |\n",
    "| str()    | \\__str__(self)              | Convert object to a string |"
   ]
  },
  {
   "cell_type": "markdown",
   "metadata": {
    "id": "4kPsqPd6drBg"
   },
   "source": [
    "Notice that that last two items in table are not operators instead they are built-in functions. But if you want to use then with your class you should define their respective special methods.\n",
    "\n",
    "The following program first perform an operation using an operator and then it performs the same operation using the corresponding special method."
   ]
  },
  {
   "cell_type": "code",
   "execution_count": null,
   "metadata": {
    "id": "A2rGcT0PdrBg"
   },
   "outputs": [],
   "source": [
    "x = 5\n",
    "y = 10\n",
    "\n",
    "print('x = ', x, ', y =', y)\n",
    "\n",
    "print('\\nx + y =', x + y)\n",
    "print('x.__add__(y) =', x.__add__(y))  # same as x + y\n",
    "\n",
    "print('\\nx * y = ', x * y)\n",
    "print('x.__mul__(y) = ', x.__mul__(y))  # same as x * y\n",
    "\n",
    "print('\\nx / y = ', x / y)\n",
    "print('x.__truediv__(y) = ', x.__truediv__(y))  # same as x / y\n",
    "\n",
    "print('\\nx ** y = ', x ** y)\n",
    "print('x.__pow__(y) = ', x.__pow__(y))  # same as x ** y\n",
    "\n",
    "print('\\nx % y = ', x % y)\n",
    "print('x.__mod__(y) = ', x.__mod__(y))  # same as x % y\n",
    "\n",
    "print('\\nx == y = ', x == y)\n",
    "print('x.__eq__(y) = ', x.__eq__(y))  # same as x == y\n",
    "\n",
    "print('\\nx != y = ', x != y)\n",
    "print('x.__ne__(y) = ', x.__ne__(y))  # same as x != y\n",
    "\n",
    "print('\\nx >= y = ', x >= y)\n",
    "print('x.__ge__(y) = ', x.__ge__(y))  # same as x >= y\n",
    "\n",
    "print('\\nx <= y = ', x <= y)\n",
    "print('x.__le__(y) = ', x.__le__(y))  # same as x <= y"
   ]
  },
  {
   "cell_type": "code",
   "execution_count": null,
   "metadata": {
    "id": "PB3E_CjndrBj"
   },
   "outputs": [],
   "source": [
    "str1 = 'special methods'\n",
    "\n",
    "print('\\nstr1 =', str1)\n",
    "\n",
    "print(\"\\n'ods' in str1 =\", 'ods' in str1)\n",
    "# same as 'ods' in str1\n",
    "print(\"str1.__contains__('ods') =\", str1.__contains__('ods'))\n",
    "\n",
    "print('\\nlen(str1) =', len(str1))\n",
    "print('str1.__len__() =', str1.__len__())  # same as len(str1)"
   ]
  },
  {
   "cell_type": "code",
   "execution_count": null,
   "metadata": {
    "id": "CI0dqMpBdrBm"
   },
   "outputs": [],
   "source": [
    "list1 = [11, 33, 55]\n",
    "\n",
    "print('\\nlist1 =', list1)\n",
    "\n",
    "print('\\nlist1[1] =', list1[1])\n",
    "print('list1.__getitem(1) =', list1.__getitem__(1))  # same as list1[1]\n",
    "print('str(list1) =', str(list1))  # same as list1.__str__()"
   ]
  },
  {
   "cell_type": "markdown",
   "metadata": {},
   "source": [
    "## Example for overloading python operators"
   ]
  },
  {
   "cell_type": "code",
   "execution_count": null,
   "metadata": {
    "id": "Gi1nk1O_drBo"
   },
   "outputs": [],
   "source": [
    "import math\n",
    "\n",
    "\n",
    "class Point:\n",
    "\n",
    "    def __init__(self, x=0, y=0):\n",
    "        self.__x = x\n",
    "        self.__y = y\n",
    "\n",
    "    # get the x coordinate\n",
    "    def get_x(self):\n",
    "        return self.__x\n",
    "\n",
    "    # set the x coordinate\n",
    "    def set_x(self, x):\n",
    "        self.__x = x\n",
    "\n",
    "    # get the y coordinate\n",
    "    def get_y(self):\n",
    "        return self.__y\n",
    "\n",
    "    # set the y coordinate\n",
    "    def set_y(self, y):\n",
    "        self.__y = y\n",
    "\n",
    "    # get the current position\n",
    "    def get_position(self):\n",
    "        return self.__x, self.__y\n",
    "\n",
    "    # change x and y coordinate by a and b\n",
    "    def move(self, a, b):\n",
    "        self.__x += a\n",
    "        self.__y += b\n",
    "\n",
    "    # overloading + operator\n",
    "    def __add__(self, point_obj):\n",
    "        return Point(self.__x + point_obj.__x, self.__y + point_obj.__y)\n",
    "\n",
    "    # overloading - operator\n",
    "    def __sub__(self, point_obj):\n",
    "        return Point(self.__x - point_obj.__x, self.__y - point_obj.__y)\n",
    "\n",
    "    # overloading < operator\n",
    "    def __lt__(self, point_obj):\n",
    "        return math.sqrt(self.__x ** 2 + self.__y ** 2) < math.sqrt(point_obj.__x ** 2 + point_obj.__y ** 2)\n",
    "\n",
    "    # overloading <= operator\n",
    "    def __le__(self, point_obj):\n",
    "        return math.sqrt(self.__x ** 2 + self.__y ** 2) <= math.sqrt(point_obj.__x ** 2 + point_obj.__y ** 2)\n",
    "\n",
    "    # overloading > operator\n",
    "    def __gt__(self, point_obj):\n",
    "        return math.sqrt(self.__x ** 2 + self.__y ** 2) > math.sqrt(point_obj.__x ** 2 + point_obj.__y ** 2)\n",
    "\n",
    "    # overloading >= operator\n",
    "    def __ge__(self, point_obj):\n",
    "        return math.sqrt(self.__x ** 2 + self.__y ** 2) >= math.sqrt(point_obj.__x ** 2 + point_obj.__y ** 2)\n",
    "\n",
    "    # overloading == operator\n",
    "    def __eq__(self, point_obj):\n",
    "        return math.sqrt(self.__x ** 2 + self.__y ** 2) == math.sqrt(point_obj.__x ** 2 + point_obj.__y ** 2)\n",
    "\n",
    "    # overriding __str__ function\n",
    "    def __str__(self):\n",
    "        return 'Point object is at: (' + str(self.__x) + ', ' + str(self.__y) + ')'\n",
    "\n",
    "\n",
    "p1 = Point(4, 6)\n",
    "p2 = Point(10, 6)\n",
    "\n",
    "print('Is p1 < p2 ?', p1 < p2)   # p1 < p2 is equivalent to p1.__lt__(p2)\n",
    "print('Is p1 <= p2 ?', p1 <= p2)  # p1 <= p2 is equivalent to p1.__le__(p2)\n",
    "print('Is p1 > p2 ?', p1 > p2)   # p1 > p2 is equivalent to p1.__gt__(p2)\n",
    "print('Is p1 >= p2 ?', p1 >= p2)   # p1 >= p2 is equivalent to p1.__ge__(p2)\n",
    "print('Is p1 == p2 ?', p1 == p2)   # p1 < p2 is equivalent to p1.__eq__(p2)\n",
    "\n",
    "p3 = p1 + p2  # p1 + p2 is equivalent to p1.__add__(p2)\n",
    "p4 = p1 - p2  # p1 - p2 is equivalent to p1.__sub__(p2)\n",
    "\n",
    "print()  # print an empty line\n",
    "print(p1)  # print(p1) is equivalent to print(p1.__str__())\n",
    "print(p2)  # print(p2) is equivalent to print(p2.__str__())\n",
    "print(p3)  # print(p3) is equivalent to print(p3.__str__())\n",
    "print(p4)  # print(p4) is equivalent to print(p4.__str__())"
   ]
  },
  {
   "cell_type": "markdown",
   "metadata": {},
   "source": [
    "## Example for overriding int object"
   ]
  },
  {
   "cell_type": "code",
   "execution_count": null,
   "metadata": {
    "id": "64vi1awDdrBq"
   },
   "outputs": [],
   "source": [
    "class inv_int(int):\n",
    "    def __init__(self, x):\n",
    "        int.__init__(x)\n",
    "        self.x = x\n",
    "\n",
    "    def __add__(self, other):\n",
    "        return self.x - other.x\n",
    "\n",
    "    def __sub__(self, other):\n",
    "        return self.x + other.x\n",
    "\n",
    "\n",
    "x = inv_int(6)\n",
    "y = inv_int(6)\n",
    "x - y"
   ]
  }
 ],
 "metadata": {
  "colab": {
   "collapsed_sections": [],
   "name": "07_operator_overloading.ipynb",
   "provenance": []
  },
  "kernelspec": {
   "display_name": "Python 3",
   "language": "python",
   "name": "python3"
  },
  "language_info": {
   "codemirror_mode": {
    "name": "ipython",
    "version": 3
   },
   "file_extension": ".py",
   "mimetype": "text/x-python",
   "name": "python",
   "nbconvert_exporter": "python",
   "pygments_lexer": "ipython3",
   "version": "3.10.9"
  }
 },
 "nbformat": 4,
 "nbformat_minor": 1
}
