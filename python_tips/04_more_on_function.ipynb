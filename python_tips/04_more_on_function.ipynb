{
 "cells": [
  {
   "cell_type": "markdown",
   "metadata": {
    "id": "y2aVUiNwSNGS"
   },
   "source": [
    "# More on Functions"
   ]
  },
  {
   "cell_type": "markdown",
   "metadata": {
    "id": "vMnl2WoaCXxV"
   },
   "source": [
    "## Yield"
   ]
  },
  {
   "cell_type": "code",
   "execution_count": null,
   "metadata": {
    "id": "VnNL6J6ACXxW"
   },
   "outputs": [],
   "source": [
    "def simpleGeneratorFun():\n",
    "    yield 1\n",
    "    yield 2\n",
    "    yield 3"
   ]
  },
  {
   "cell_type": "code",
   "execution_count": null,
   "metadata": {
    "colab": {
     "base_uri": "https://localhost:8080/",
     "height": 35
    },
    "executionInfo": {
     "elapsed": 2306,
     "status": "ok",
     "timestamp": 1601947027903,
     "user": {
      "displayName": "Tomtong Natomtong",
      "photoUrl": "",
      "userId": "07193057629022941938"
     },
     "user_tz": -420
    },
    "id": "sPDzW1yVCXxd",
    "outputId": "d28ed3ea-5310-422d-e893-c289e166c1ae"
   },
   "outputs": [],
   "source": [
    "a = simpleGeneratorFun()\n",
    "a"
   ]
  },
  {
   "cell_type": "code",
   "execution_count": null,
   "metadata": {
    "colab": {
     "base_uri": "https://localhost:8080/",
     "height": 71
    },
    "executionInfo": {
     "elapsed": 2198,
     "status": "ok",
     "timestamp": 1601947029414,
     "user": {
      "displayName": "Tomtong Natomtong",
      "photoUrl": "",
      "userId": "07193057629022941938"
     },
     "user_tz": -420
    },
    "id": "doc8M8hdCXxk",
    "outputId": "87178de0-5f94-46f1-970a-bb68832d4da7"
   },
   "outputs": [],
   "source": [
    "for i in a:\n",
    "    print(i)"
   ]
  },
  {
   "cell_type": "code",
   "execution_count": null,
   "metadata": {
    "colab": {
     "base_uri": "https://localhost:8080/",
     "height": 71
    },
    "executionInfo": {
     "elapsed": 2327,
     "status": "ok",
     "timestamp": 1601947031081,
     "user": {
      "displayName": "Tomtong Natomtong",
      "photoUrl": "",
      "userId": "07193057629022941938"
     },
     "user_tz": -420
    },
    "id": "xzXEfUdnCXxq",
    "outputId": "23d999f8-f895-44ef-89e6-c46dd71a6539"
   },
   "outputs": [],
   "source": [
    "a = simpleGeneratorFun()\n",
    "print(next(a))\n",
    "print(next(a))\n",
    "print(next(a))"
   ]
  },
  {
   "cell_type": "code",
   "execution_count": null,
   "metadata": {
    "colab": {
     "base_uri": "https://localhost:8080/",
     "height": 71
    },
    "executionInfo": {
     "elapsed": 1225,
     "status": "ok",
     "timestamp": 1601947039622,
     "user": {
      "displayName": "Tomtong Natomtong",
      "photoUrl": "",
      "userId": "07193057629022941938"
     },
     "user_tz": -420
    },
    "id": "Qsg710zmCXxz",
    "outputId": "272ef545-af83-4fe0-c888-2db6677f4696"
   },
   "outputs": [],
   "source": [
    "def prime(n):\n",
    "    for i in range(1, n+1):\n",
    "        is_prime = True\n",
    "        for p in range(2, i):\n",
    "            if i % p == 0:\n",
    "                is_prime = False\n",
    "                continue\n",
    "        if is_prime:\n",
    "            yield i\n",
    "\n",
    "\n",
    "a = prime(10000)\n",
    "\n",
    "print(next(a))\n",
    "print(next(a))\n",
    "print(next(a))"
   ]
  },
  {
   "cell_type": "markdown",
   "metadata": {
    "id": "wgnPQ5nlSNGr"
   },
   "source": [
    "## Positional and Keyword Arguments"
   ]
  },
  {
   "cell_type": "code",
   "execution_count": null,
   "metadata": {
    "id": "Z38CyVM5SNGr"
   },
   "outputs": [],
   "source": [
    "def menu(entree, drink, dessert):\n",
    "    print('entree:', entree)\n",
    "    print('drink:', drink)\n",
    "    print('dessert:', dessert)"
   ]
  },
  {
   "cell_type": "code",
   "execution_count": null,
   "metadata": {
    "colab": {
     "base_uri": "https://localhost:8080/",
     "height": 71
    },
    "executionInfo": {
     "elapsed": 686,
     "status": "ok",
     "timestamp": 1601947063724,
     "user": {
      "displayName": "Tomtong Natomtong",
      "photoUrl": "",
      "userId": "07193057629022941938"
     },
     "user_tz": -420
    },
    "id": "EeHP6SrCSNGu",
    "outputId": "592b0205-24a3-4460-887d-ce1b990ed92f"
   },
   "outputs": [],
   "source": [
    "menu('beef', 'orange juice', 'cheese cake')"
   ]
  },
  {
   "cell_type": "code",
   "execution_count": null,
   "metadata": {
    "colab": {
     "base_uri": "https://localhost:8080/",
     "height": 71
    },
    "executionInfo": {
     "elapsed": 773,
     "status": "ok",
     "timestamp": 1601947064243,
     "user": {
      "displayName": "Tomtong Natomtong",
      "photoUrl": "",
      "userId": "07193057629022941938"
     },
     "user_tz": -420
    },
    "id": "RrqugqNjSNGw",
    "outputId": "9432a12e-9793-4848-af69-3c8e3232ff10"
   },
   "outputs": [],
   "source": [
    "menu('beef', 'cheese cake', 'orange juice')"
   ]
  },
  {
   "cell_type": "markdown",
   "metadata": {
    "id": "HYAt6vj9SNGz"
   },
   "source": [
    "You can also call a function using keyword arguments, passing each argument in the form `name=value`. The arguments can appear in any order using keyword arguments."
   ]
  },
  {
   "cell_type": "code",
   "execution_count": null,
   "metadata": {
    "colab": {
     "base_uri": "https://localhost:8080/",
     "height": 71
    },
    "executionInfo": {
     "elapsed": 1243,
     "status": "ok",
     "timestamp": 1601947077153,
     "user": {
      "displayName": "Tomtong Natomtong",
      "photoUrl": "",
      "userId": "07193057629022941938"
     },
     "user_tz": -420
    },
    "id": "ri_mj7O_SNG0",
    "outputId": "7b0df595-ac10-4004-dd7b-38e10443aac5"
   },
   "outputs": [],
   "source": [
    "menu(entree='beef', dessert='cheese cake', drink='orange juice')"
   ]
  },
  {
   "cell_type": "markdown",
   "metadata": {
    "id": "zbTirDcdSNG2"
   },
   "source": [
    "It is possible to mix positional arguments with keyword arguments, but you need to make sure that:\n",
    "- Positional arguments must be provided before keyword arguments\n",
    "- No argument is provided twice.\n",
    "- All the required arguments are provided."
   ]
  },
  {
   "cell_type": "code",
   "execution_count": null,
   "metadata": {
    "colab": {
     "base_uri": "https://localhost:8080/",
     "height": 71
    },
    "executionInfo": {
     "elapsed": 1119,
     "status": "ok",
     "timestamp": 1601947079532,
     "user": {
      "displayName": "Tomtong Natomtong",
      "photoUrl": "",
      "userId": "07193057629022941938"
     },
     "user_tz": -420
    },
    "id": "fj93ELDpSNG2",
    "outputId": "bb12e9aa-3a14-417b-d57b-5be6c3aa12e8"
   },
   "outputs": [],
   "source": [
    "menu('beef', dessert='cheese cake', drink='orange juice')"
   ]
  },
  {
   "cell_type": "code",
   "execution_count": null,
   "metadata": {
    "colab": {
     "base_uri": "https://localhost:8080/",
     "height": 134
    },
    "executionInfo": {
     "elapsed": 674,
     "status": "error",
     "timestamp": 1601947080199,
     "user": {
      "displayName": "Tomtong Natomtong",
      "photoUrl": "",
      "userId": "07193057629022941938"
     },
     "user_tz": -420
    },
    "id": "1xBb2gZhSNG5",
    "outputId": "7c4549e4-ff6a-4043-9745-b170c864eb31"
   },
   "outputs": [],
   "source": [
    "menu(entree='beef', 'orange juice', dessert='cheese cake')"
   ]
  },
  {
   "cell_type": "code",
   "execution_count": null,
   "metadata": {
    "colab": {
     "base_uri": "https://localhost:8080/",
     "height": 170
    },
    "executionInfo": {
     "elapsed": 1113,
     "status": "error",
     "timestamp": 1601947095240,
     "user": {
      "displayName": "Tomtong Natomtong",
      "photoUrl": "",
      "userId": "07193057629022941938"
     },
     "user_tz": -420
    },
    "id": "NsEXo9L-SNG7",
    "outputId": "a7ffec9a-129c-48fa-c0ec-13ff8da1ea39"
   },
   "outputs": [],
   "source": [
    "menu('beef', 'cheese cake', drink='orange juice')"
   ]
  },
  {
   "cell_type": "markdown",
   "metadata": {
    "id": "n-O1jSp6SNG9"
   },
   "source": [
    "## Default Values"
   ]
  },
  {
   "cell_type": "code",
   "execution_count": null,
   "metadata": {
    "id": "8_LmpnjiSNG9"
   },
   "outputs": [],
   "source": [
    "def menu(entree='beef', drink='orange juice', dessert='cheese cake'):\n",
    "    print('entree:', entree)\n",
    "    print('drink:', drink)\n",
    "    print('dessert:', dessert)"
   ]
  },
  {
   "cell_type": "code",
   "execution_count": null,
   "metadata": {
    "colab": {
     "base_uri": "https://localhost:8080/",
     "height": 71
    },
    "executionInfo": {
     "elapsed": 1248,
     "status": "ok",
     "timestamp": 1601947110692,
     "user": {
      "displayName": "Tomtong Natomtong",
      "photoUrl": "",
      "userId": "07193057629022941938"
     },
     "user_tz": -420
    },
    "id": "kAwvM_6iSNHA",
    "outputId": "b1d4fddf-ec95-43aa-bc99-22ca02c14048"
   },
   "outputs": [],
   "source": [
    "menu()"
   ]
  },
  {
   "cell_type": "code",
   "execution_count": null,
   "metadata": {
    "colab": {
     "base_uri": "https://localhost:8080/",
     "height": 71
    },
    "executionInfo": {
     "elapsed": 973,
     "status": "ok",
     "timestamp": 1601947110695,
     "user": {
      "displayName": "Tomtong Natomtong",
      "photoUrl": "",
      "userId": "07193057629022941938"
     },
     "user_tz": -420
    },
    "id": "o3epgmysSNHD",
    "outputId": "de0519fc-ede3-429e-d37d-1756baa4241a"
   },
   "outputs": [],
   "source": [
    "menu(entree='chicken', drink='coffee')"
   ]
  },
  {
   "cell_type": "code",
   "execution_count": null,
   "metadata": {
    "colab": {
     "base_uri": "https://localhost:8080/",
     "height": 71
    },
    "executionInfo": {
     "elapsed": 771,
     "status": "ok",
     "timestamp": 1601947110697,
     "user": {
      "displayName": "Tomtong Natomtong",
      "photoUrl": "",
      "userId": "07193057629022941938"
     },
     "user_tz": -420
    },
    "id": "BzF_ZjgISNHE",
    "outputId": "9ed373db-efc0-4109-9e61-4209cf44999e"
   },
   "outputs": [],
   "source": [
    "menu('chicken', drink='coffee')"
   ]
  },
  {
   "cell_type": "code",
   "execution_count": null,
   "metadata": {
    "colab": {
     "base_uri": "https://localhost:8080/",
     "height": 71
    },
    "executionInfo": {
     "elapsed": 1196,
     "status": "ok",
     "timestamp": 1601947111316,
     "user": {
      "displayName": "Tomtong Natomtong",
      "photoUrl": "",
      "userId": "07193057629022941938"
     },
     "user_tz": -420
    },
    "id": "TiOLn208SNHG",
    "outputId": "34f161d7-2568-4e84-ea1a-22d3a9fb7036"
   },
   "outputs": [],
   "source": [
    "menu(entree='chicken', dessert='ice cream')"
   ]
  },
  {
   "cell_type": "markdown",
   "metadata": {
    "id": "GfODcZvSSNGT"
   },
   "source": [
    "## \\*args , \\**kwargs\n"
   ]
  },
  {
   "cell_type": "markdown",
   "metadata": {
    "id": "Od_t9LKrSNGT"
   },
   "source": [
    "In Python, we can pass a variable number of arguments to a function using special symbols. There are two special symbols:\n",
    "\n",
    "- \\*args (Non Keyword Arguments)\n",
    "- \\**kwargs (Keyword Arguments)\n",
    "\n",
    "We use *args and **kwargs as an argument when we are unsure about the number of arguments to pass in the functions."
   ]
  },
  {
   "cell_type": "code",
   "execution_count": null,
   "metadata": {
    "colab": {
     "base_uri": "https://localhost:8080/",
     "height": 35
    },
    "executionInfo": {
     "elapsed": 1634,
     "status": "ok",
     "timestamp": 1601946847377,
     "user": {
      "displayName": "Tomtong Natomtong",
      "photoUrl": "",
      "userId": "07193057629022941938"
     },
     "user_tz": -420
    },
    "id": "rTZ3SwceSNGU",
    "outputId": "948754f8-fe91-4201-df2e-2667f7a65ec6"
   },
   "outputs": [],
   "source": [
    "def adder(x, y, z):\n",
    "    print(\"sum:\", x+y+z)\n",
    "\n",
    "adder(10, 12, 13)"
   ]
  },
  {
   "cell_type": "markdown",
   "metadata": {
    "id": "P1w2P9sCSNGX"
   },
   "source": [
    "Lets see what happens when we pass more than 3 arguments in the adder() function"
   ]
  },
  {
   "cell_type": "code",
   "execution_count": null,
   "metadata": {
    "colab": {
     "base_uri": "https://localhost:8080/",
     "height": 170
    },
    "executionInfo": {
     "elapsed": 2193,
     "status": "error",
     "timestamp": 1601946993333,
     "user": {
      "displayName": "Tomtong Natomtong",
      "photoUrl": "",
      "userId": "07193057629022941938"
     },
     "user_tz": -420
    },
    "id": "edIX89V2SNGY",
    "outputId": "ade94074-b94e-439f-cad4-ab738a8498f0"
   },
   "outputs": [],
   "source": [
    "adder(5, 10, 15, 20, 25)"
   ]
  },
  {
   "cell_type": "markdown",
   "metadata": {
    "id": "_rnXqfBGSNGa"
   },
   "source": [
    "### \\*args\n",
    "\n",
    "As in the above example we are not sure about the number of arguments that can be passed to a function. Python has \\*args which allow us to pass the variable number of non keyword arguments to function.\n",
    "\n",
    "In the function, we should use an asterisk \\* before the parameter name to pass variable length arguments.The arguments are passed as a tuple and these passed arguments make tuple inside the function with same name as the parameter excluding asterisk *."
   ]
  },
  {
   "cell_type": "code",
   "execution_count": null,
   "metadata": {
    "colab": {
     "base_uri": "https://localhost:8080/",
     "height": 71
    },
    "executionInfo": {
     "elapsed": 2089,
     "status": "ok",
     "timestamp": 1601946994237,
     "user": {
      "displayName": "Tomtong Natomtong",
      "photoUrl": "",
      "userId": "07193057629022941938"
     },
     "user_tz": -420
    },
    "id": "H5_xnzEBSNGb",
    "outputId": "cf367f04-5dfb-410e-8f3d-13993b927b52"
   },
   "outputs": [],
   "source": [
    "def adder(*num):\n",
    "    print(num)\n",
    "    sum = 0\n",
    "    for n in num:\n",
    "        sum = sum + n\n",
    "    print(\"Sum:\", sum)\n",
    "\n",
    "\n",
    "adder(3, 5)\n",
    "adder(4, 5, 6, 7)\n",
    "adder(1, 2, 3, 5, 6)"
   ]
  },
  {
   "cell_type": "code",
   "execution_count": null,
   "metadata": {
    "colab": {
     "base_uri": "https://localhost:8080/",
     "height": 35
    },
    "executionInfo": {
     "elapsed": 1637,
     "status": "ok",
     "timestamp": 1601946997252,
     "user": {
      "displayName": "Tomtong Natomtong",
      "photoUrl": "",
      "userId": "07193057629022941938"
     },
     "user_tz": -420
    },
    "id": "q6CWp0-uSNGg",
    "outputId": "7f46aceb-5995-42c3-9803-0915c9f11de6",
    "scrolled": true
   },
   "outputs": [],
   "source": [
    "list_num = [1, 2, 3, 5, 6]\n",
    "adder(*list_num)"
   ]
  },
  {
   "cell_type": "code",
   "execution_count": null,
   "metadata": {},
   "outputs": [],
   "source": [
    "list_num = [1, 2, 3]\n",
    "adder(*list_num, 5, 6)"
   ]
  },
  {
   "cell_type": "markdown",
   "metadata": {
    "id": "78d-cyiLSNGi"
   },
   "source": [
    "### \\**kwargs\n",
    "Python passes variable length non keyword argument to function using *args but we cannot use this to pass keyword argument. For this problem Python has got a solution called \\**kwargs, it allows us to pass the variable length of keyword arguments to the function.\n",
    "\n",
    "In the function, we use the double asterisk \\** before the parameter name to denote this type of argument. The arguments are passed as a dictionary and these arguments make a dictionary inside function with name same as the parameter excluding double asterisk \\**"
   ]
  },
  {
   "cell_type": "code",
   "execution_count": null,
   "metadata": {
    "colab": {
     "base_uri": "https://localhost:8080/",
     "height": 359
    },
    "executionInfo": {
     "elapsed": 1519,
     "status": "ok",
     "timestamp": 1601947002014,
     "user": {
      "displayName": "Tomtong Natomtong",
      "photoUrl": "",
      "userId": "07193057629022941938"
     },
     "user_tz": -420
    },
    "id": "5UzfqZplSNGj",
    "outputId": "318d36a8-2337-480d-d3de-9ecf32abf003",
    "scrolled": true
   },
   "outputs": [],
   "source": [
    "def intro(**data):\n",
    "    print(\"\\nData type of argument:\", type(data))\n",
    "    print(data)\n",
    "    print()\n",
    "    for key, value in data.items():\n",
    "        print(\"{} is {}\".format(key, value))"
   ]
  },
  {
   "cell_type": "code",
   "execution_count": null,
   "metadata": {},
   "outputs": [],
   "source": [
    "intro(Firstname=\"Sita\", Lastname=\"Sharma\", Age=22, Phone=1234567890)"
   ]
  },
  {
   "cell_type": "code",
   "execution_count": null,
   "metadata": {},
   "outputs": [],
   "source": [
    "intro(Firstname=\"John\", Lastname=\"Wood\", Email=\"johnwood@nomail.com\",\n",
    "      Country=\"Wakanda\", Age=25, Phone=12345678)"
   ]
  },
  {
   "cell_type": "code",
   "execution_count": null,
   "metadata": {
    "colab": {
     "base_uri": "https://localhost:8080/",
     "height": 197
    },
    "executionInfo": {
     "elapsed": 1492,
     "status": "ok",
     "timestamp": 1601947021941,
     "user": {
      "displayName": "Tomtong Natomtong",
      "photoUrl": "",
      "userId": "07193057629022941938"
     },
     "user_tz": -420
    },
    "id": "9GBvfyNLSNGl",
    "outputId": "a7fb7c68-2ad7-48b6-c027-0ada8198afa1"
   },
   "outputs": [],
   "source": [
    "dict_data = {\"Firstname\": \"John\",\n",
    "             \"Lastname\": \"Wood\",\n",
    "             \"Email\": \"johnwood@nomail.com\",\n",
    "             \"Country\": \"Wakanda\",\n",
    "             \"Age\": 25,\n",
    "             \"Phone\": 12345678}\n",
    "intro(**dict_data)"
   ]
  },
  {
   "cell_type": "markdown",
   "metadata": {},
   "source": [
    "# Decorators\n",
    "Decorators dynamically alter the functionality of a function, method, or class without having to directly use subclasses or change the source code of the function being decorated. Using decorators in Python also ensures that your code is DRY(Don't Repeat Yourself).\n",
    "\n",
    "Reference: https://www.datacamp.com/community/tutorials/decorators-python?utm_source=adwords_ppc&utm_campaignid=1455363063&utm_adgroupid=65083631748&utm_device=c&utm_keyword=&utm_matchtype=b&utm_network=g&utm_adpostion=&utm_creative=278443377095&utm_targetid=dsa-429603003980&utm_loc_interest_ms=&utm_loc_physical_ms=1012728&gclid=CjwKCAjwgOGCBhAlEiwA7FUXkuHQ3TdxGDBruhjubgUANNbqrwGNh4XYfRZ7babens-txTqGYoGy1BoCkSIQAvD_BwE"
   ]
  },
  {
   "cell_type": "markdown",
   "metadata": {},
   "source": [
    "## Creating Decorators"
   ]
  },
  {
   "cell_type": "code",
   "execution_count": null,
   "metadata": {},
   "outputs": [],
   "source": [
    "def capitalize(function):\n",
    "    def function_wrapper(text):\n",
    "        cap_text = text.capitalize()\n",
    "        function(cap_text)\n",
    "    return function_wrapper\n",
    "\n",
    "\n",
    "@capitalize\n",
    "def print_name(name):\n",
    "    print(name)\n",
    "\n",
    "\n",
    "@capitalize\n",
    "def print_surname(surname):\n",
    "    print(surname)\n",
    "\n",
    "\n",
    "print_name('john')\n",
    "print_surname('corner')"
   ]
  },
  {
   "cell_type": "markdown",
   "metadata": {},
   "source": [
    "## Defining General Purpose Decorators\n",
    "To define a general purpose decorator that can be applied to any function we use args and **kwargs. args and **kwargs collect all positional and keyword arguments and stores them in the args and kwargs variables. args and kwargs allow us to pass as many arguments as we would like during function calls."
   ]
  },
  {
   "cell_type": "code",
   "execution_count": null,
   "metadata": {},
   "outputs": [],
   "source": [
    "def capitalize_list(function):\n",
    "    def function_wrapper(*text):\n",
    "        cap_text = list()\n",
    "        for each in text:\n",
    "            cap_text.append(each.capitalize())\n",
    "        function(*cap_text)\n",
    "    return function_wrapper\n",
    "\n",
    "\n",
    "@capitalize_list\n",
    "def print_name(name):\n",
    "    print(name)\n",
    "\n",
    "\n",
    "@capitalize_list\n",
    "def print_surname(surname):\n",
    "    print(surname)\n",
    "\n",
    "\n",
    "@capitalize_list\n",
    "def print_name_surname(name, surname):\n",
    "    print(name, surname)\n",
    "\n",
    "\n",
    "print_name('john')\n",
    "print_surname('corner')\n",
    "print_name_surname('john', 'corner')"
   ]
  },
  {
   "cell_type": "markdown",
   "metadata": {},
   "source": [
    "## Applying Multiple Decorators to a Single Function"
   ]
  },
  {
   "cell_type": "code",
   "execution_count": null,
   "metadata": {},
   "outputs": [],
   "source": [
    "def add_dr(function):\n",
    "    def function_wrapper(text):\n",
    "        mod_text = 'Dr.' + text\n",
    "        function(mod_text)\n",
    "    return function_wrapper\n",
    "\n",
    "\n",
    "def capitalize(function):\n",
    "    def function_wrapper(text):\n",
    "        cap_text = text.capitalize()\n",
    "        function(cap_text)\n",
    "    return function_wrapper\n",
    "\n",
    "\n",
    "@capitalize\n",
    "@add_dr\n",
    "def print_name(name):\n",
    "    print(name)\n",
    "\n",
    "\n",
    "print_name('john')"
   ]
  },
  {
   "cell_type": "markdown",
   "metadata": {},
   "source": [
    "## Passing Arguments to the Decorator"
   ]
  },
  {
   "cell_type": "code",
   "execution_count": null,
   "metadata": {},
   "outputs": [],
   "source": [
    "def mod_text(mode):\n",
    "    def decorator(func):\n",
    "        def function_wrapper(text):\n",
    "            if mode == 'upper':\n",
    "                mod_text = text.upper()\n",
    "            elif mode == 'cap':\n",
    "                mod_text = text.capitalize()\n",
    "            else:\n",
    "                mod_text = text.capitalize()\n",
    "            func(mod_text)\n",
    "        return function_wrapper\n",
    "    return decorator\n",
    "\n",
    "\n",
    "@mod_text('upper')\n",
    "def print_name(name):\n",
    "    print(name)\n",
    "\n",
    "\n",
    "print_name('john')\n",
    "\n",
    "\n",
    "@mod_text('cap')\n",
    "def print_name(name):\n",
    "    print(name)\n",
    "\n",
    "\n",
    "print_name('john')"
   ]
  }
 ],
 "metadata": {
  "colab": {
   "collapsed_sections": [],
   "name": "05_more_on_function.ipynb",
   "provenance": []
  },
  "kernelspec": {
   "display_name": "Python 3",
   "language": "python",
   "name": "python3"
  },
  "language_info": {
   "codemirror_mode": {
    "name": "ipython",
    "version": 3
   },
   "file_extension": ".py",
   "mimetype": "text/x-python",
   "name": "python",
   "nbconvert_exporter": "python",
   "pygments_lexer": "ipython3",
   "version": "3.10.9"
  }
 },
 "nbformat": 4,
 "nbformat_minor": 1
}
